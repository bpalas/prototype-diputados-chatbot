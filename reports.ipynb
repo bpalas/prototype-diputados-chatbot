{
 "cells": [
  {
   "cell_type": "code",
   "execution_count": null,
   "id": "3437cf3b",
   "metadata": {},
   "outputs": [],
   "source": []
  },
  {
   "cell_type": "code",
   "execution_count": 9,
   "id": "7ecb0096",
   "metadata": {},
   "outputs": [
    {
     "data": {
      "text/markdown": [
       "# 📊 Resumen de la Base de Datos: `data/database/parlamento.db`"
      ],
      "text/plain": [
       "<IPython.core.display.Markdown object>"
      ]
     },
     "metadata": {},
     "output_type": "display_data"
    },
    {
     "data": {
      "text/markdown": [
       "Mostrando las primeras **5 filas** de cada tabla."
      ],
      "text/plain": [
       "<IPython.core.display.Markdown object>"
      ]
     },
     "metadata": {},
     "output_type": "display_data"
    },
    {
     "data": {
      "text/markdown": [
       "--- \n",
       "### 🏛️ Tabla: `dim_parlamentario`"
      ],
      "text/plain": [
       "<IPython.core.display.Markdown object>"
      ]
     },
     "metadata": {},
     "output_type": "display_data"
    },
    {
     "data": {
      "application/vnd.microsoft.datawrangler.viewer.v0+json": {
       "columns": [
        {
         "name": "index",
         "rawType": "int64",
         "type": "integer"
        },
        {
         "name": "mp_uid",
         "rawType": "int64",
         "type": "integer"
        },
        {
         "name": "nombre_completo",
         "rawType": "object",
         "type": "string"
        },
        {
         "name": "nombre_propio",
         "rawType": "object",
         "type": "string"
        },
        {
         "name": "apellido_paterno",
         "rawType": "object",
         "type": "string"
        },
        {
         "name": "apellido_materno",
         "rawType": "object",
         "type": "unknown"
        },
        {
         "name": "genero",
         "rawType": "object",
         "type": "string"
        },
        {
         "name": "fecha_nacimiento",
         "rawType": "object",
         "type": "unknown"
        },
        {
         "name": "lugar_nacimiento",
         "rawType": "object",
         "type": "unknown"
        },
        {
         "name": "diputadoid",
         "rawType": "object",
         "type": "unknown"
        },
        {
         "name": "senadorid",
         "rawType": "object",
         "type": "unknown"
        },
        {
         "name": "bcn_person_id",
         "rawType": "object",
         "type": "string"
        },
        {
         "name": "bcn_uri",
         "rawType": "object",
         "type": "string"
        },
        {
         "name": "url_foto",
         "rawType": "object",
         "type": "string"
        },
        {
         "name": "twitter_handle",
         "rawType": "object",
         "type": "unknown"
        },
        {
         "name": "sitio_web_personal",
         "rawType": "object",
         "type": "unknown"
        },
        {
         "name": "profesion",
         "rawType": "object",
         "type": "unknown"
        },
        {
         "name": "url_historia_politica",
         "rawType": "object",
         "type": "string"
        },
        {
         "name": "fecha_extraccion",
         "rawType": "object",
         "type": "string"
        }
       ],
       "ref": "12b0c563-9af3-42f3-9a28-cf8bc806433d",
       "rows": [
        [
         "0",
         "1",
         "Carlos Bombal Otaegui",
         "Carlos",
         "Bombal",
         "Otaegui",
         "Masculino",
         null,
         null,
         "415",
         null,
         "2721",
         "http://datos.bcn.cl/recurso/persona/2721",
         "https://www.bcn.cl/laborparlamentaria/imagen/2721.jpg",
         null,
         null,
         "Abogado",
         "https://www.bcn.cl/historiapolitica/resenas_parlamentarias/wiki/Carlos_Bombal_Otaegui",
         "2025-09-06"
        ],
        [
         "1",
         "2",
         "Ramón Arias",
         "Ramón",
         "Arias",
         null,
         "Masculino",
         null,
         null,
         null,
         null,
         "2483",
         "http://datos.bcn.cl/recurso/persona/2483",
         "https://www.bcn.cl/laborparlamentaria/imagen/2483.jpg",
         null,
         null,
         null,
         "https://www.bcn.cl/historiapolitica/resenas_parlamentarias/wiki/Ramón_Arias",
         "2025-09-06"
        ],
        [
         "2",
         "3",
         "José Plácido Musalem Saffie",
         "José Plácido",
         "Musalem",
         "Saffie",
         "Masculino",
         null,
         null,
         null,
         null,
         "2315",
         "http://datos.bcn.cl/recurso/persona/2315",
         "https://www.bcn.cl/laborparlamentaria/imagen/2315.jpg",
         null,
         null,
         "Abogado",
         "https://www.bcn.cl/historiapolitica/resenas_parlamentarias/wiki/José_Plácido_Musalem_Saffie",
         "2025-09-06"
        ],
        [
         "3",
         "4",
         "Arístides Benavente Carvajal",
         "Arístides",
         "Benavente",
         "Carvajal",
         "Masculino",
         null,
         null,
         null,
         null,
         "458",
         "http://datos.bcn.cl/recurso/persona/458",
         "https://www.bcn.cl/laborparlamentaria/imagen/458.jpg",
         null,
         null,
         null,
         "https://www.bcn.cl/historiapolitica/resenas_parlamentarias/wiki/Arístides_Benavente_Carvajal",
         "2025-09-06"
        ],
        [
         "4",
         "5",
         "Juan de Dios Peñafiel Varela",
         "Juan de Dios",
         "Peñafiel",
         "Varela",
         "Masculino",
         null,
         null,
         null,
         null,
         "597",
         "http://datos.bcn.cl/recurso/persona/597",
         "https://www.bcn.cl/laborparlamentaria/imagen/597.jpg",
         null,
         null,
         null,
         "https://www.bcn.cl/historiapolitica/resenas_parlamentarias/wiki/Juan_de_Dios_Peñafiel_Varela",
         "2025-09-06"
        ]
       ],
       "shape": {
        "columns": 18,
        "rows": 5
       }
      },
      "text/html": [
       "<div>\n",
       "<style scoped>\n",
       "    .dataframe tbody tr th:only-of-type {\n",
       "        vertical-align: middle;\n",
       "    }\n",
       "\n",
       "    .dataframe tbody tr th {\n",
       "        vertical-align: top;\n",
       "    }\n",
       "\n",
       "    .dataframe thead th {\n",
       "        text-align: right;\n",
       "    }\n",
       "</style>\n",
       "<table border=\"1\" class=\"dataframe\">\n",
       "  <thead>\n",
       "    <tr style=\"text-align: right;\">\n",
       "      <th></th>\n",
       "      <th>mp_uid</th>\n",
       "      <th>nombre_completo</th>\n",
       "      <th>nombre_propio</th>\n",
       "      <th>apellido_paterno</th>\n",
       "      <th>apellido_materno</th>\n",
       "      <th>genero</th>\n",
       "      <th>fecha_nacimiento</th>\n",
       "      <th>lugar_nacimiento</th>\n",
       "      <th>diputadoid</th>\n",
       "      <th>senadorid</th>\n",
       "      <th>bcn_person_id</th>\n",
       "      <th>bcn_uri</th>\n",
       "      <th>url_foto</th>\n",
       "      <th>twitter_handle</th>\n",
       "      <th>sitio_web_personal</th>\n",
       "      <th>profesion</th>\n",
       "      <th>url_historia_politica</th>\n",
       "      <th>fecha_extraccion</th>\n",
       "    </tr>\n",
       "  </thead>\n",
       "  <tbody>\n",
       "    <tr>\n",
       "      <th>0</th>\n",
       "      <td>1</td>\n",
       "      <td>Carlos Bombal Otaegui</td>\n",
       "      <td>Carlos</td>\n",
       "      <td>Bombal</td>\n",
       "      <td>Otaegui</td>\n",
       "      <td>Masculino</td>\n",
       "      <td>None</td>\n",
       "      <td>None</td>\n",
       "      <td>415</td>\n",
       "      <td>None</td>\n",
       "      <td>2721</td>\n",
       "      <td>http://datos.bcn.cl/recurso/persona/2721</td>\n",
       "      <td>https://www.bcn.cl/laborparlamentaria/imagen/2...</td>\n",
       "      <td>None</td>\n",
       "      <td>None</td>\n",
       "      <td>Abogado</td>\n",
       "      <td>https://www.bcn.cl/historiapolitica/resenas_pa...</td>\n",
       "      <td>2025-09-06</td>\n",
       "    </tr>\n",
       "    <tr>\n",
       "      <th>1</th>\n",
       "      <td>2</td>\n",
       "      <td>Ramón Arias</td>\n",
       "      <td>Ramón</td>\n",
       "      <td>Arias</td>\n",
       "      <td>None</td>\n",
       "      <td>Masculino</td>\n",
       "      <td>None</td>\n",
       "      <td>None</td>\n",
       "      <td>None</td>\n",
       "      <td>None</td>\n",
       "      <td>2483</td>\n",
       "      <td>http://datos.bcn.cl/recurso/persona/2483</td>\n",
       "      <td>https://www.bcn.cl/laborparlamentaria/imagen/2...</td>\n",
       "      <td>None</td>\n",
       "      <td>None</td>\n",
       "      <td>None</td>\n",
       "      <td>https://www.bcn.cl/historiapolitica/resenas_pa...</td>\n",
       "      <td>2025-09-06</td>\n",
       "    </tr>\n",
       "    <tr>\n",
       "      <th>2</th>\n",
       "      <td>3</td>\n",
       "      <td>José Plácido Musalem Saffie</td>\n",
       "      <td>José Plácido</td>\n",
       "      <td>Musalem</td>\n",
       "      <td>Saffie</td>\n",
       "      <td>Masculino</td>\n",
       "      <td>None</td>\n",
       "      <td>None</td>\n",
       "      <td>None</td>\n",
       "      <td>None</td>\n",
       "      <td>2315</td>\n",
       "      <td>http://datos.bcn.cl/recurso/persona/2315</td>\n",
       "      <td>https://www.bcn.cl/laborparlamentaria/imagen/2...</td>\n",
       "      <td>None</td>\n",
       "      <td>None</td>\n",
       "      <td>Abogado</td>\n",
       "      <td>https://www.bcn.cl/historiapolitica/resenas_pa...</td>\n",
       "      <td>2025-09-06</td>\n",
       "    </tr>\n",
       "    <tr>\n",
       "      <th>3</th>\n",
       "      <td>4</td>\n",
       "      <td>Arístides Benavente Carvajal</td>\n",
       "      <td>Arístides</td>\n",
       "      <td>Benavente</td>\n",
       "      <td>Carvajal</td>\n",
       "      <td>Masculino</td>\n",
       "      <td>None</td>\n",
       "      <td>None</td>\n",
       "      <td>None</td>\n",
       "      <td>None</td>\n",
       "      <td>458</td>\n",
       "      <td>http://datos.bcn.cl/recurso/persona/458</td>\n",
       "      <td>https://www.bcn.cl/laborparlamentaria/imagen/4...</td>\n",
       "      <td>None</td>\n",
       "      <td>None</td>\n",
       "      <td>None</td>\n",
       "      <td>https://www.bcn.cl/historiapolitica/resenas_pa...</td>\n",
       "      <td>2025-09-06</td>\n",
       "    </tr>\n",
       "    <tr>\n",
       "      <th>4</th>\n",
       "      <td>5</td>\n",
       "      <td>Juan de Dios Peñafiel Varela</td>\n",
       "      <td>Juan de Dios</td>\n",
       "      <td>Peñafiel</td>\n",
       "      <td>Varela</td>\n",
       "      <td>Masculino</td>\n",
       "      <td>None</td>\n",
       "      <td>None</td>\n",
       "      <td>None</td>\n",
       "      <td>None</td>\n",
       "      <td>597</td>\n",
       "      <td>http://datos.bcn.cl/recurso/persona/597</td>\n",
       "      <td>https://www.bcn.cl/laborparlamentaria/imagen/5...</td>\n",
       "      <td>None</td>\n",
       "      <td>None</td>\n",
       "      <td>None</td>\n",
       "      <td>https://www.bcn.cl/historiapolitica/resenas_pa...</td>\n",
       "      <td>2025-09-06</td>\n",
       "    </tr>\n",
       "  </tbody>\n",
       "</table>\n",
       "</div>"
      ],
      "text/plain": [
       "   mp_uid               nombre_completo nombre_propio apellido_paterno  \\\n",
       "0       1         Carlos Bombal Otaegui        Carlos           Bombal   \n",
       "1       2                   Ramón Arias         Ramón            Arias   \n",
       "2       3   José Plácido Musalem Saffie  José Plácido          Musalem   \n",
       "3       4  Arístides Benavente Carvajal     Arístides        Benavente   \n",
       "4       5  Juan de Dios Peñafiel Varela  Juan de Dios         Peñafiel   \n",
       "\n",
       "  apellido_materno     genero fecha_nacimiento lugar_nacimiento diputadoid  \\\n",
       "0          Otaegui  Masculino             None             None        415   \n",
       "1             None  Masculino             None             None       None   \n",
       "2           Saffie  Masculino             None             None       None   \n",
       "3         Carvajal  Masculino             None             None       None   \n",
       "4           Varela  Masculino             None             None       None   \n",
       "\n",
       "  senadorid bcn_person_id                                   bcn_uri  \\\n",
       "0      None          2721  http://datos.bcn.cl/recurso/persona/2721   \n",
       "1      None          2483  http://datos.bcn.cl/recurso/persona/2483   \n",
       "2      None          2315  http://datos.bcn.cl/recurso/persona/2315   \n",
       "3      None           458   http://datos.bcn.cl/recurso/persona/458   \n",
       "4      None           597   http://datos.bcn.cl/recurso/persona/597   \n",
       "\n",
       "                                            url_foto twitter_handle  \\\n",
       "0  https://www.bcn.cl/laborparlamentaria/imagen/2...           None   \n",
       "1  https://www.bcn.cl/laborparlamentaria/imagen/2...           None   \n",
       "2  https://www.bcn.cl/laborparlamentaria/imagen/2...           None   \n",
       "3  https://www.bcn.cl/laborparlamentaria/imagen/4...           None   \n",
       "4  https://www.bcn.cl/laborparlamentaria/imagen/5...           None   \n",
       "\n",
       "  sitio_web_personal profesion  \\\n",
       "0               None   Abogado   \n",
       "1               None      None   \n",
       "2               None   Abogado   \n",
       "3               None      None   \n",
       "4               None      None   \n",
       "\n",
       "                               url_historia_politica fecha_extraccion  \n",
       "0  https://www.bcn.cl/historiapolitica/resenas_pa...       2025-09-06  \n",
       "1  https://www.bcn.cl/historiapolitica/resenas_pa...       2025-09-06  \n",
       "2  https://www.bcn.cl/historiapolitica/resenas_pa...       2025-09-06  \n",
       "3  https://www.bcn.cl/historiapolitica/resenas_pa...       2025-09-06  \n",
       "4  https://www.bcn.cl/historiapolitica/resenas_pa...       2025-09-06  "
      ]
     },
     "metadata": {},
     "output_type": "display_data"
    },
    {
     "data": {
      "text/markdown": [
       "--- \n",
       "### 🏛️ Tabla: `dim_periodo_legislativo`"
      ],
      "text/plain": [
       "<IPython.core.display.Markdown object>"
      ]
     },
     "metadata": {},
     "output_type": "display_data"
    },
    {
     "data": {
      "application/vnd.microsoft.datawrangler.viewer.v0+json": {
       "columns": [
        {
         "name": "index",
         "rawType": "int64",
         "type": "integer"
        },
        {
         "name": "periodo_id",
         "rawType": "int64",
         "type": "integer"
        },
        {
         "name": "nombre_periodo",
         "rawType": "object",
         "type": "string"
        },
        {
         "name": "fecha_inicio",
         "rawType": "object",
         "type": "string"
        },
        {
         "name": "fecha_termino",
         "rawType": "object",
         "type": "string"
        }
       ],
       "ref": "4cb6e399-50d1-41ca-8e02-72b7ca195235",
       "rows": [
        [
         "0",
         "1",
         "1990-1994",
         "1990-03-11",
         "1994-03-10"
        ],
        [
         "1",
         "2",
         "1994-1998",
         "1994-03-11",
         "1998-03-10"
        ],
        [
         "2",
         "3",
         "1998-2002",
         "1998-03-11",
         "2002-03-10"
        ],
        [
         "3",
         "4",
         "2002-2006",
         "2002-03-11",
         "2006-03-10"
        ],
        [
         "4",
         "5",
         "2006-2010",
         "2006-03-11",
         "2010-03-10"
        ]
       ],
       "shape": {
        "columns": 4,
        "rows": 5
       }
      },
      "text/html": [
       "<div>\n",
       "<style scoped>\n",
       "    .dataframe tbody tr th:only-of-type {\n",
       "        vertical-align: middle;\n",
       "    }\n",
       "\n",
       "    .dataframe tbody tr th {\n",
       "        vertical-align: top;\n",
       "    }\n",
       "\n",
       "    .dataframe thead th {\n",
       "        text-align: right;\n",
       "    }\n",
       "</style>\n",
       "<table border=\"1\" class=\"dataframe\">\n",
       "  <thead>\n",
       "    <tr style=\"text-align: right;\">\n",
       "      <th></th>\n",
       "      <th>periodo_id</th>\n",
       "      <th>nombre_periodo</th>\n",
       "      <th>fecha_inicio</th>\n",
       "      <th>fecha_termino</th>\n",
       "    </tr>\n",
       "  </thead>\n",
       "  <tbody>\n",
       "    <tr>\n",
       "      <th>0</th>\n",
       "      <td>1</td>\n",
       "      <td>1990-1994</td>\n",
       "      <td>1990-03-11</td>\n",
       "      <td>1994-03-10</td>\n",
       "    </tr>\n",
       "    <tr>\n",
       "      <th>1</th>\n",
       "      <td>2</td>\n",
       "      <td>1994-1998</td>\n",
       "      <td>1994-03-11</td>\n",
       "      <td>1998-03-10</td>\n",
       "    </tr>\n",
       "    <tr>\n",
       "      <th>2</th>\n",
       "      <td>3</td>\n",
       "      <td>1998-2002</td>\n",
       "      <td>1998-03-11</td>\n",
       "      <td>2002-03-10</td>\n",
       "    </tr>\n",
       "    <tr>\n",
       "      <th>3</th>\n",
       "      <td>4</td>\n",
       "      <td>2002-2006</td>\n",
       "      <td>2002-03-11</td>\n",
       "      <td>2006-03-10</td>\n",
       "    </tr>\n",
       "    <tr>\n",
       "      <th>4</th>\n",
       "      <td>5</td>\n",
       "      <td>2006-2010</td>\n",
       "      <td>2006-03-11</td>\n",
       "      <td>2010-03-10</td>\n",
       "    </tr>\n",
       "  </tbody>\n",
       "</table>\n",
       "</div>"
      ],
      "text/plain": [
       "   periodo_id nombre_periodo fecha_inicio fecha_termino\n",
       "0           1      1990-1994   1990-03-11    1994-03-10\n",
       "1           2      1994-1998   1994-03-11    1998-03-10\n",
       "2           3      1998-2002   1998-03-11    2002-03-10\n",
       "3           4      2002-2006   2002-03-11    2006-03-10\n",
       "4           5      2006-2010   2006-03-11    2010-03-10"
      ]
     },
     "metadata": {},
     "output_type": "display_data"
    },
    {
     "data": {
      "text/markdown": [
       "--- \n",
       "### 🏛️ Tabla: `parlamentario_aliases`"
      ],
      "text/plain": [
       "<IPython.core.display.Markdown object>"
      ]
     },
     "metadata": {},
     "output_type": "display_data"
    },
    {
     "data": {
      "text/markdown": [
       "_Esta tabla está actualmente vacía._"
      ],
      "text/plain": [
       "<IPython.core.display.Markdown object>"
      ]
     },
     "metadata": {},
     "output_type": "display_data"
    },
    {
     "data": {
      "text/markdown": [
       "--- \n",
       "### 🏛️ Tabla: `dim_partidos`"
      ],
      "text/plain": [
       "<IPython.core.display.Markdown object>"
      ]
     },
     "metadata": {},
     "output_type": "display_data"
    },
    {
     "data": {
      "application/vnd.microsoft.datawrangler.viewer.v0+json": {
       "columns": [
        {
         "name": "index",
         "rawType": "int64",
         "type": "integer"
        },
        {
         "name": "partido_id",
         "rawType": "int64",
         "type": "integer"
        },
        {
         "name": "nombre_partido",
         "rawType": "object",
         "type": "string"
        },
        {
         "name": "nombre_alternativo",
         "rawType": "object",
         "type": "unknown"
        },
        {
         "name": "sigla",
         "rawType": "object",
         "type": "unknown"
        },
        {
         "name": "fecha_fundacion",
         "rawType": "object",
         "type": "unknown"
        },
        {
         "name": "sitio_web",
         "rawType": "object",
         "type": "unknown"
        },
        {
         "name": "url_historia_politica",
         "rawType": "object",
         "type": "unknown"
        },
        {
         "name": "url_logo",
         "rawType": "object",
         "type": "unknown"
        },
        {
         "name": "ultima_actualizacion",
         "rawType": "object",
         "type": "unknown"
        }
       ],
       "ref": "bc607fae-7570-4ee0-a7aa-b9e019e001b3",
       "rows": [
        [
         "0",
         "1",
         "Partido Unión Demócrata Independiente",
         null,
         "UDI",
         null,
         null,
         null,
         null,
         null
        ],
        [
         "1",
         "2",
         "Falange Nacional",
         null,
         null,
         null,
         null,
         null,
         null,
         null
        ],
        [
         "2",
         "3",
         "Partido Demócrata Cristiano",
         null,
         "DC",
         null,
         null,
         null,
         null,
         null
        ],
        [
         "3",
         "4",
         "Partido Nacional Cristiano",
         null,
         null,
         null,
         null,
         null,
         null,
         null
        ],
        [
         "4",
         "5",
         "Partido Liberal Democrático o Balmacedista",
         null,
         null,
         null,
         null,
         null,
         null,
         null
        ]
       ],
       "shape": {
        "columns": 9,
        "rows": 5
       }
      },
      "text/html": [
       "<div>\n",
       "<style scoped>\n",
       "    .dataframe tbody tr th:only-of-type {\n",
       "        vertical-align: middle;\n",
       "    }\n",
       "\n",
       "    .dataframe tbody tr th {\n",
       "        vertical-align: top;\n",
       "    }\n",
       "\n",
       "    .dataframe thead th {\n",
       "        text-align: right;\n",
       "    }\n",
       "</style>\n",
       "<table border=\"1\" class=\"dataframe\">\n",
       "  <thead>\n",
       "    <tr style=\"text-align: right;\">\n",
       "      <th></th>\n",
       "      <th>partido_id</th>\n",
       "      <th>nombre_partido</th>\n",
       "      <th>nombre_alternativo</th>\n",
       "      <th>sigla</th>\n",
       "      <th>fecha_fundacion</th>\n",
       "      <th>sitio_web</th>\n",
       "      <th>url_historia_politica</th>\n",
       "      <th>url_logo</th>\n",
       "      <th>ultima_actualizacion</th>\n",
       "    </tr>\n",
       "  </thead>\n",
       "  <tbody>\n",
       "    <tr>\n",
       "      <th>0</th>\n",
       "      <td>1</td>\n",
       "      <td>Partido Unión Demócrata Independiente</td>\n",
       "      <td>None</td>\n",
       "      <td>UDI</td>\n",
       "      <td>None</td>\n",
       "      <td>None</td>\n",
       "      <td>None</td>\n",
       "      <td>None</td>\n",
       "      <td>None</td>\n",
       "    </tr>\n",
       "    <tr>\n",
       "      <th>1</th>\n",
       "      <td>2</td>\n",
       "      <td>Falange Nacional</td>\n",
       "      <td>None</td>\n",
       "      <td>None</td>\n",
       "      <td>None</td>\n",
       "      <td>None</td>\n",
       "      <td>None</td>\n",
       "      <td>None</td>\n",
       "      <td>None</td>\n",
       "    </tr>\n",
       "    <tr>\n",
       "      <th>2</th>\n",
       "      <td>3</td>\n",
       "      <td>Partido Demócrata Cristiano</td>\n",
       "      <td>None</td>\n",
       "      <td>DC</td>\n",
       "      <td>None</td>\n",
       "      <td>None</td>\n",
       "      <td>None</td>\n",
       "      <td>None</td>\n",
       "      <td>None</td>\n",
       "    </tr>\n",
       "    <tr>\n",
       "      <th>3</th>\n",
       "      <td>4</td>\n",
       "      <td>Partido Nacional Cristiano</td>\n",
       "      <td>None</td>\n",
       "      <td>None</td>\n",
       "      <td>None</td>\n",
       "      <td>None</td>\n",
       "      <td>None</td>\n",
       "      <td>None</td>\n",
       "      <td>None</td>\n",
       "    </tr>\n",
       "    <tr>\n",
       "      <th>4</th>\n",
       "      <td>5</td>\n",
       "      <td>Partido Liberal Democrático o Balmacedista</td>\n",
       "      <td>None</td>\n",
       "      <td>None</td>\n",
       "      <td>None</td>\n",
       "      <td>None</td>\n",
       "      <td>None</td>\n",
       "      <td>None</td>\n",
       "      <td>None</td>\n",
       "    </tr>\n",
       "  </tbody>\n",
       "</table>\n",
       "</div>"
      ],
      "text/plain": [
       "   partido_id                              nombre_partido nombre_alternativo  \\\n",
       "0           1       Partido Unión Demócrata Independiente               None   \n",
       "1           2                            Falange Nacional               None   \n",
       "2           3                 Partido Demócrata Cristiano               None   \n",
       "3           4                  Partido Nacional Cristiano               None   \n",
       "4           5  Partido Liberal Democrático o Balmacedista               None   \n",
       "\n",
       "  sigla fecha_fundacion sitio_web url_historia_politica url_logo  \\\n",
       "0   UDI            None      None                  None     None   \n",
       "1  None            None      None                  None     None   \n",
       "2    DC            None      None                  None     None   \n",
       "3  None            None      None                  None     None   \n",
       "4  None            None      None                  None     None   \n",
       "\n",
       "  ultima_actualizacion  \n",
       "0                 None  \n",
       "1                 None  \n",
       "2                 None  \n",
       "3                 None  \n",
       "4                 None  "
      ]
     },
     "metadata": {},
     "output_type": "display_data"
    },
    {
     "data": {
      "text/markdown": [
       "--- \n",
       "### 🏛️ Tabla: `dim_coaliciones`"
      ],
      "text/plain": [
       "<IPython.core.display.Markdown object>"
      ]
     },
     "metadata": {},
     "output_type": "display_data"
    },
    {
     "data": {
      "text/markdown": [
       "_Esta tabla está actualmente vacía._"
      ],
      "text/plain": [
       "<IPython.core.display.Markdown object>"
      ]
     },
     "metadata": {},
     "output_type": "display_data"
    },
    {
     "data": {
      "text/markdown": [
       "--- \n",
       "### 🏛️ Tabla: `dim_comisiones`"
      ],
      "text/plain": [
       "<IPython.core.display.Markdown object>"
      ]
     },
     "metadata": {},
     "output_type": "display_data"
    },
    {
     "data": {
      "text/markdown": [
       "_Esta tabla está actualmente vacía._"
      ],
      "text/plain": [
       "<IPython.core.display.Markdown object>"
      ]
     },
     "metadata": {},
     "output_type": "display_data"
    },
    {
     "data": {
      "text/markdown": [
       "--- \n",
       "### 🏛️ Tabla: `dim_legislatura`"
      ],
      "text/plain": [
       "<IPython.core.display.Markdown object>"
      ]
     },
     "metadata": {},
     "output_type": "display_data"
    },
    {
     "data": {
      "application/vnd.microsoft.datawrangler.viewer.v0+json": {
       "columns": [
        {
         "name": "index",
         "rawType": "int64",
         "type": "integer"
        },
        {
         "name": "legislatura_id",
         "rawType": "int64",
         "type": "integer"
        },
        {
         "name": "numero",
         "rawType": "int64",
         "type": "integer"
        },
        {
         "name": "fecha_inicio",
         "rawType": "object",
         "type": "string"
        },
        {
         "name": "fecha_termino",
         "rawType": "object",
         "type": "string"
        },
        {
         "name": "tipo",
         "rawType": "object",
         "type": "string"
        }
       ],
       "ref": "44e4ca5f-f7da-4b74-9589-f5fbf1cc5cd1",
       "rows": [
        [
         "0",
         "3",
         "319",
         "1990-03-11",
         "1990-05-20",
         "Extraordinaria"
        ],
        [
         "1",
         "4",
         "320",
         "1990-05-21",
         "1990-09-17",
         "Ordinaria"
        ],
        [
         "2",
         "5",
         "321",
         "1990-09-18",
         "1991-05-20",
         "Extraordinaria"
        ],
        [
         "3",
         "6",
         "322",
         "1991-05-21",
         "1991-09-17",
         "Ordinaria"
        ],
        [
         "4",
         "7",
         "323",
         "1991-09-18",
         "1992-05-20",
         "Extraordinaria"
        ]
       ],
       "shape": {
        "columns": 5,
        "rows": 5
       }
      },
      "text/html": [
       "<div>\n",
       "<style scoped>\n",
       "    .dataframe tbody tr th:only-of-type {\n",
       "        vertical-align: middle;\n",
       "    }\n",
       "\n",
       "    .dataframe tbody tr th {\n",
       "        vertical-align: top;\n",
       "    }\n",
       "\n",
       "    .dataframe thead th {\n",
       "        text-align: right;\n",
       "    }\n",
       "</style>\n",
       "<table border=\"1\" class=\"dataframe\">\n",
       "  <thead>\n",
       "    <tr style=\"text-align: right;\">\n",
       "      <th></th>\n",
       "      <th>legislatura_id</th>\n",
       "      <th>numero</th>\n",
       "      <th>fecha_inicio</th>\n",
       "      <th>fecha_termino</th>\n",
       "      <th>tipo</th>\n",
       "    </tr>\n",
       "  </thead>\n",
       "  <tbody>\n",
       "    <tr>\n",
       "      <th>0</th>\n",
       "      <td>3</td>\n",
       "      <td>319</td>\n",
       "      <td>1990-03-11</td>\n",
       "      <td>1990-05-20</td>\n",
       "      <td>Extraordinaria</td>\n",
       "    </tr>\n",
       "    <tr>\n",
       "      <th>1</th>\n",
       "      <td>4</td>\n",
       "      <td>320</td>\n",
       "      <td>1990-05-21</td>\n",
       "      <td>1990-09-17</td>\n",
       "      <td>Ordinaria</td>\n",
       "    </tr>\n",
       "    <tr>\n",
       "      <th>2</th>\n",
       "      <td>5</td>\n",
       "      <td>321</td>\n",
       "      <td>1990-09-18</td>\n",
       "      <td>1991-05-20</td>\n",
       "      <td>Extraordinaria</td>\n",
       "    </tr>\n",
       "    <tr>\n",
       "      <th>3</th>\n",
       "      <td>6</td>\n",
       "      <td>322</td>\n",
       "      <td>1991-05-21</td>\n",
       "      <td>1991-09-17</td>\n",
       "      <td>Ordinaria</td>\n",
       "    </tr>\n",
       "    <tr>\n",
       "      <th>4</th>\n",
       "      <td>7</td>\n",
       "      <td>323</td>\n",
       "      <td>1991-09-18</td>\n",
       "      <td>1992-05-20</td>\n",
       "      <td>Extraordinaria</td>\n",
       "    </tr>\n",
       "  </tbody>\n",
       "</table>\n",
       "</div>"
      ],
      "text/plain": [
       "   legislatura_id  numero fecha_inicio fecha_termino            tipo\n",
       "0               3     319   1990-03-11    1990-05-20  Extraordinaria\n",
       "1               4     320   1990-05-21    1990-09-17       Ordinaria\n",
       "2               5     321   1990-09-18    1991-05-20  Extraordinaria\n",
       "3               6     322   1991-05-21    1991-09-17       Ordinaria\n",
       "4               7     323   1991-09-18    1992-05-20  Extraordinaria"
      ]
     },
     "metadata": {},
     "output_type": "display_data"
    },
    {
     "data": {
      "text/markdown": [
       "--- \n",
       "### 🏛️ Tabla: `dim_materias`"
      ],
      "text/plain": [
       "<IPython.core.display.Markdown object>"
      ]
     },
     "metadata": {},
     "output_type": "display_data"
    },
    {
     "data": {
      "application/vnd.microsoft.datawrangler.viewer.v0+json": {
       "columns": [
        {
         "name": "index",
         "rawType": "int64",
         "type": "integer"
        },
        {
         "name": "materia_id",
         "rawType": "int64",
         "type": "integer"
        },
        {
         "name": "nombre",
         "rawType": "object",
         "type": "string"
        }
       ],
       "ref": "a2c61bf8-e441-482a-b08b-e05123cb961d",
       "rows": [
        [
         "0",
         "881",
         "ABANDONO DEL HOGAR"
        ],
        [
         "1",
         "882",
         "ABOGADOS"
        ],
        [
         "2",
         "883",
         "ABORTO TERAPEUTICO"
        ],
        [
         "3",
         "884",
         "ABUSOS DE PUBLICIDAD"
        ],
        [
         "4",
         "885",
         "ACADEMIA JUDICIAL"
        ]
       ],
       "shape": {
        "columns": 2,
        "rows": 5
       }
      },
      "text/html": [
       "<div>\n",
       "<style scoped>\n",
       "    .dataframe tbody tr th:only-of-type {\n",
       "        vertical-align: middle;\n",
       "    }\n",
       "\n",
       "    .dataframe tbody tr th {\n",
       "        vertical-align: top;\n",
       "    }\n",
       "\n",
       "    .dataframe thead th {\n",
       "        text-align: right;\n",
       "    }\n",
       "</style>\n",
       "<table border=\"1\" class=\"dataframe\">\n",
       "  <thead>\n",
       "    <tr style=\"text-align: right;\">\n",
       "      <th></th>\n",
       "      <th>materia_id</th>\n",
       "      <th>nombre</th>\n",
       "    </tr>\n",
       "  </thead>\n",
       "  <tbody>\n",
       "    <tr>\n",
       "      <th>0</th>\n",
       "      <td>881</td>\n",
       "      <td>ABANDONO DEL HOGAR</td>\n",
       "    </tr>\n",
       "    <tr>\n",
       "      <th>1</th>\n",
       "      <td>882</td>\n",
       "      <td>ABOGADOS</td>\n",
       "    </tr>\n",
       "    <tr>\n",
       "      <th>2</th>\n",
       "      <td>883</td>\n",
       "      <td>ABORTO TERAPEUTICO</td>\n",
       "    </tr>\n",
       "    <tr>\n",
       "      <th>3</th>\n",
       "      <td>884</td>\n",
       "      <td>ABUSOS DE PUBLICIDAD</td>\n",
       "    </tr>\n",
       "    <tr>\n",
       "      <th>4</th>\n",
       "      <td>885</td>\n",
       "      <td>ACADEMIA JUDICIAL</td>\n",
       "    </tr>\n",
       "  </tbody>\n",
       "</table>\n",
       "</div>"
      ],
      "text/plain": [
       "   materia_id                nombre\n",
       "0         881    ABANDONO DEL HOGAR\n",
       "1         882              ABOGADOS\n",
       "2         883    ABORTO TERAPEUTICO\n",
       "3         884  ABUSOS DE PUBLICIDAD\n",
       "4         885     ACADEMIA JUDICIAL"
      ]
     },
     "metadata": {},
     "output_type": "display_data"
    },
    {
     "data": {
      "text/markdown": [
       "--- \n",
       "### 🏛️ Tabla: `dim_normas`"
      ],
      "text/plain": [
       "<IPython.core.display.Markdown object>"
      ]
     },
     "metadata": {},
     "output_type": "display_data"
    },
    {
     "data": {
      "application/vnd.microsoft.datawrangler.viewer.v0+json": {
       "columns": [
        {
         "name": "index",
         "rawType": "int64",
         "type": "integer"
        },
        {
         "name": "norma_id",
         "rawType": "int64",
         "type": "integer"
        },
        {
         "name": "bcn_norma_id",
         "rawType": "object",
         "type": "string"
        },
        {
         "name": "bcn_historia_id",
         "rawType": "object",
         "type": "unknown"
        },
        {
         "name": "numero_norma",
         "rawType": "object",
         "type": "string"
        },
        {
         "name": "tipo_norma",
         "rawType": "object",
         "type": "string"
        },
        {
         "name": "titulo_norma",
         "rawType": "object",
         "type": "string"
        },
        {
         "name": "fecha_publicacion",
         "rawType": "object",
         "type": "string"
        },
        {
         "name": "organismo_promulgador",
         "rawType": "object",
         "type": "unknown"
        },
        {
         "name": "url_ley_chile",
         "rawType": "object",
         "type": "string"
        }
       ],
       "ref": "b23f0608-de48-41c2-8edb-bda0a35adc4e",
       "rows": [
        [
         "0",
         "1",
         "235507",
         null,
         "20000",
         "Ley",
         "SUSTITUYE LA LEY Nº 19.366, QUE SANCIONA EL TRAFICO ILICITO DE ESTUPEFACIENTES Y SUSTANCIAS SICOTROPICAS",
         "2005-02-16",
         null,
         "http://www.leychile.cl/Navegar?idNorma=235507"
        ]
       ],
       "shape": {
        "columns": 9,
        "rows": 1
       }
      },
      "text/html": [
       "<div>\n",
       "<style scoped>\n",
       "    .dataframe tbody tr th:only-of-type {\n",
       "        vertical-align: middle;\n",
       "    }\n",
       "\n",
       "    .dataframe tbody tr th {\n",
       "        vertical-align: top;\n",
       "    }\n",
       "\n",
       "    .dataframe thead th {\n",
       "        text-align: right;\n",
       "    }\n",
       "</style>\n",
       "<table border=\"1\" class=\"dataframe\">\n",
       "  <thead>\n",
       "    <tr style=\"text-align: right;\">\n",
       "      <th></th>\n",
       "      <th>norma_id</th>\n",
       "      <th>bcn_norma_id</th>\n",
       "      <th>bcn_historia_id</th>\n",
       "      <th>numero_norma</th>\n",
       "      <th>tipo_norma</th>\n",
       "      <th>titulo_norma</th>\n",
       "      <th>fecha_publicacion</th>\n",
       "      <th>organismo_promulgador</th>\n",
       "      <th>url_ley_chile</th>\n",
       "    </tr>\n",
       "  </thead>\n",
       "  <tbody>\n",
       "    <tr>\n",
       "      <th>0</th>\n",
       "      <td>1</td>\n",
       "      <td>235507</td>\n",
       "      <td>None</td>\n",
       "      <td>20000</td>\n",
       "      <td>Ley</td>\n",
       "      <td>SUSTITUYE LA LEY Nº 19.366, QUE SANCIONA EL TR...</td>\n",
       "      <td>2005-02-16</td>\n",
       "      <td>None</td>\n",
       "      <td>http://www.leychile.cl/Navegar?idNorma=235507</td>\n",
       "    </tr>\n",
       "  </tbody>\n",
       "</table>\n",
       "</div>"
      ],
      "text/plain": [
       "   norma_id bcn_norma_id bcn_historia_id numero_norma tipo_norma  \\\n",
       "0         1       235507            None        20000        Ley   \n",
       "\n",
       "                                        titulo_norma fecha_publicacion  \\\n",
       "0  SUSTITUYE LA LEY Nº 19.366, QUE SANCIONA EL TR...        2005-02-16   \n",
       "\n",
       "  organismo_promulgador                                  url_ley_chile  \n",
       "0                  None  http://www.leychile.cl/Navegar?idNorma=235507  "
      ]
     },
     "metadata": {},
     "output_type": "display_data"
    },
    {
     "data": {
      "text/markdown": [
       "--- \n",
       "### 🏛️ Tabla: `dim_ministerios`"
      ],
      "text/plain": [
       "<IPython.core.display.Markdown object>"
      ]
     },
     "metadata": {},
     "output_type": "display_data"
    },
    {
     "data": {
      "application/vnd.microsoft.datawrangler.viewer.v0+json": {
       "columns": [
        {
         "name": "index",
         "rawType": "int64",
         "type": "integer"
        },
        {
         "name": "ministerio_id",
         "rawType": "int64",
         "type": "integer"
        },
        {
         "name": "camara_ministerio_id",
         "rawType": "int64",
         "type": "integer"
        },
        {
         "name": "nombre_ministerio",
         "rawType": "object",
         "type": "string"
        }
       ],
       "ref": "1511a88e-7290-49dc-a944-c6341b99c890",
       "rows": [
        [
         "0",
         "1",
         "164",
         "Ministerio del Medio Ambiente"
        ],
        [
         "1",
         "2",
         "68",
         "Consejo Nacional de la Cultura y las Artes"
        ],
        [
         "2",
         "3",
         "1",
         "Ministerio de Economía, Fomento y Turism"
        ],
        [
         "3",
         "4",
         "2",
         "Ministerio de Hacienda"
        ],
        [
         "4",
         "5",
         "3",
         "Ministerio de Educación"
        ]
       ],
       "shape": {
        "columns": 3,
        "rows": 5
       }
      },
      "text/html": [
       "<div>\n",
       "<style scoped>\n",
       "    .dataframe tbody tr th:only-of-type {\n",
       "        vertical-align: middle;\n",
       "    }\n",
       "\n",
       "    .dataframe tbody tr th {\n",
       "        vertical-align: top;\n",
       "    }\n",
       "\n",
       "    .dataframe thead th {\n",
       "        text-align: right;\n",
       "    }\n",
       "</style>\n",
       "<table border=\"1\" class=\"dataframe\">\n",
       "  <thead>\n",
       "    <tr style=\"text-align: right;\">\n",
       "      <th></th>\n",
       "      <th>ministerio_id</th>\n",
       "      <th>camara_ministerio_id</th>\n",
       "      <th>nombre_ministerio</th>\n",
       "    </tr>\n",
       "  </thead>\n",
       "  <tbody>\n",
       "    <tr>\n",
       "      <th>0</th>\n",
       "      <td>1</td>\n",
       "      <td>164</td>\n",
       "      <td>Ministerio del Medio Ambiente</td>\n",
       "    </tr>\n",
       "    <tr>\n",
       "      <th>1</th>\n",
       "      <td>2</td>\n",
       "      <td>68</td>\n",
       "      <td>Consejo Nacional de la Cultura y las Artes</td>\n",
       "    </tr>\n",
       "    <tr>\n",
       "      <th>2</th>\n",
       "      <td>3</td>\n",
       "      <td>1</td>\n",
       "      <td>Ministerio de Economía, Fomento y Turism</td>\n",
       "    </tr>\n",
       "    <tr>\n",
       "      <th>3</th>\n",
       "      <td>4</td>\n",
       "      <td>2</td>\n",
       "      <td>Ministerio de Hacienda</td>\n",
       "    </tr>\n",
       "    <tr>\n",
       "      <th>4</th>\n",
       "      <td>5</td>\n",
       "      <td>3</td>\n",
       "      <td>Ministerio de Educación</td>\n",
       "    </tr>\n",
       "  </tbody>\n",
       "</table>\n",
       "</div>"
      ],
      "text/plain": [
       "   ministerio_id  camara_ministerio_id  \\\n",
       "0              1                   164   \n",
       "1              2                    68   \n",
       "2              3                     1   \n",
       "3              4                     2   \n",
       "4              5                     3   \n",
       "\n",
       "                            nombre_ministerio  \n",
       "0               Ministerio del Medio Ambiente  \n",
       "1  Consejo Nacional de la Cultura y las Artes  \n",
       "2    Ministerio de Economía, Fomento y Turism  \n",
       "3                      Ministerio de Hacienda  \n",
       "4                     Ministerio de Educación  "
      ]
     },
     "metadata": {},
     "output_type": "display_data"
    },
    {
     "data": {
      "text/markdown": [
       "--- \n",
       "### 🏛️ Tabla: `parlamentario_mandatos`"
      ],
      "text/plain": [
       "<IPython.core.display.Markdown object>"
      ]
     },
     "metadata": {},
     "output_type": "display_data"
    },
    {
     "data": {
      "application/vnd.microsoft.datawrangler.viewer.v0+json": {
       "columns": [
        {
         "name": "index",
         "rawType": "int64",
         "type": "integer"
        },
        {
         "name": "mandato_id",
         "rawType": "int64",
         "type": "integer"
        },
        {
         "name": "mp_uid",
         "rawType": "int64",
         "type": "integer"
        },
        {
         "name": "cargo",
         "rawType": "object",
         "type": "string"
        },
        {
         "name": "distrito",
         "rawType": "object",
         "type": "unknown"
        },
        {
         "name": "partido_id_mandato",
         "rawType": "object",
         "type": "unknown"
        },
        {
         "name": "fecha_inicio",
         "rawType": "object",
         "type": "string"
        },
        {
         "name": "fecha_fin",
         "rawType": "object",
         "type": "string"
        }
       ],
       "ref": "7789d9d0-1e22-4ac9-ab0b-5c125347beb5",
       "rows": [
        [
         "0",
         "1",
         "1",
         "Diputado",
         null,
         null,
         "1990-03-11",
         "1994-03-10"
        ],
        [
         "1",
         "2",
         "1",
         "Diputado",
         null,
         null,
         "1994-03-11",
         "1998-03-10"
        ],
        [
         "2",
         "3",
         "1",
         "Senador",
         null,
         null,
         "1998-03-11",
         "2006-03-10"
        ],
        [
         "3",
         "4",
         "2",
         "Diputado",
         null,
         null,
         "1831-01-01",
         "1831-12-31"
        ],
        [
         "4",
         "5",
         "3",
         "Senador",
         null,
         null,
         "1973-01-01",
         "1981-12-31"
        ]
       ],
       "shape": {
        "columns": 7,
        "rows": 5
       }
      },
      "text/html": [
       "<div>\n",
       "<style scoped>\n",
       "    .dataframe tbody tr th:only-of-type {\n",
       "        vertical-align: middle;\n",
       "    }\n",
       "\n",
       "    .dataframe tbody tr th {\n",
       "        vertical-align: top;\n",
       "    }\n",
       "\n",
       "    .dataframe thead th {\n",
       "        text-align: right;\n",
       "    }\n",
       "</style>\n",
       "<table border=\"1\" class=\"dataframe\">\n",
       "  <thead>\n",
       "    <tr style=\"text-align: right;\">\n",
       "      <th></th>\n",
       "      <th>mandato_id</th>\n",
       "      <th>mp_uid</th>\n",
       "      <th>cargo</th>\n",
       "      <th>distrito</th>\n",
       "      <th>partido_id_mandato</th>\n",
       "      <th>fecha_inicio</th>\n",
       "      <th>fecha_fin</th>\n",
       "    </tr>\n",
       "  </thead>\n",
       "  <tbody>\n",
       "    <tr>\n",
       "      <th>0</th>\n",
       "      <td>1</td>\n",
       "      <td>1</td>\n",
       "      <td>Diputado</td>\n",
       "      <td>None</td>\n",
       "      <td>None</td>\n",
       "      <td>1990-03-11</td>\n",
       "      <td>1994-03-10</td>\n",
       "    </tr>\n",
       "    <tr>\n",
       "      <th>1</th>\n",
       "      <td>2</td>\n",
       "      <td>1</td>\n",
       "      <td>Diputado</td>\n",
       "      <td>None</td>\n",
       "      <td>None</td>\n",
       "      <td>1994-03-11</td>\n",
       "      <td>1998-03-10</td>\n",
       "    </tr>\n",
       "    <tr>\n",
       "      <th>2</th>\n",
       "      <td>3</td>\n",
       "      <td>1</td>\n",
       "      <td>Senador</td>\n",
       "      <td>None</td>\n",
       "      <td>None</td>\n",
       "      <td>1998-03-11</td>\n",
       "      <td>2006-03-10</td>\n",
       "    </tr>\n",
       "    <tr>\n",
       "      <th>3</th>\n",
       "      <td>4</td>\n",
       "      <td>2</td>\n",
       "      <td>Diputado</td>\n",
       "      <td>None</td>\n",
       "      <td>None</td>\n",
       "      <td>1831-01-01</td>\n",
       "      <td>1831-12-31</td>\n",
       "    </tr>\n",
       "    <tr>\n",
       "      <th>4</th>\n",
       "      <td>5</td>\n",
       "      <td>3</td>\n",
       "      <td>Senador</td>\n",
       "      <td>None</td>\n",
       "      <td>None</td>\n",
       "      <td>1973-01-01</td>\n",
       "      <td>1981-12-31</td>\n",
       "    </tr>\n",
       "  </tbody>\n",
       "</table>\n",
       "</div>"
      ],
      "text/plain": [
       "   mandato_id  mp_uid     cargo distrito partido_id_mandato fecha_inicio  \\\n",
       "0           1       1  Diputado     None               None   1990-03-11   \n",
       "1           2       1  Diputado     None               None   1994-03-11   \n",
       "2           3       1   Senador     None               None   1998-03-11   \n",
       "3           4       2  Diputado     None               None   1831-01-01   \n",
       "4           5       3   Senador     None               None   1973-01-01   \n",
       "\n",
       "    fecha_fin  \n",
       "0  1994-03-10  \n",
       "1  1998-03-10  \n",
       "2  2006-03-10  \n",
       "3  1831-12-31  \n",
       "4  1981-12-31  "
      ]
     },
     "metadata": {},
     "output_type": "display_data"
    },
    {
     "data": {
      "text/markdown": [
       "--- \n",
       "### 🏛️ Tabla: `militancia_historial`"
      ],
      "text/plain": [
       "<IPython.core.display.Markdown object>"
      ]
     },
     "metadata": {},
     "output_type": "display_data"
    },
    {
     "data": {
      "application/vnd.microsoft.datawrangler.viewer.v0+json": {
       "columns": [
        {
         "name": "index",
         "rawType": "int64",
         "type": "integer"
        },
        {
         "name": "militancia_id",
         "rawType": "int64",
         "type": "integer"
        },
        {
         "name": "mp_uid",
         "rawType": "int64",
         "type": "integer"
        },
        {
         "name": "partido_id",
         "rawType": "int64",
         "type": "integer"
        },
        {
         "name": "fecha_inicio",
         "rawType": "object",
         "type": "string"
        },
        {
         "name": "fecha_fin",
         "rawType": "object",
         "type": "unknown"
        }
       ],
       "ref": "e77a799e-68fc-4a2f-af39-f4e32bcbe2b3",
       "rows": [
        [
         "0",
         "1",
         "1",
         "1",
         "1990-03-11",
         null
        ],
        [
         "1",
         "2",
         "3",
         "2",
         "1957-05-21",
         "1961-05-20"
        ],
        [
         "2",
         "3",
         "3",
         "3",
         "1961-05-21",
         null
        ],
        [
         "3",
         "4",
         "3",
         "4",
         "1953-05-21",
         "1957-05-20"
        ],
        [
         "4",
         "5",
         "5",
         "5",
         "1888-06-01",
         null
        ]
       ],
       "shape": {
        "columns": 5,
        "rows": 5
       }
      },
      "text/html": [
       "<div>\n",
       "<style scoped>\n",
       "    .dataframe tbody tr th:only-of-type {\n",
       "        vertical-align: middle;\n",
       "    }\n",
       "\n",
       "    .dataframe tbody tr th {\n",
       "        vertical-align: top;\n",
       "    }\n",
       "\n",
       "    .dataframe thead th {\n",
       "        text-align: right;\n",
       "    }\n",
       "</style>\n",
       "<table border=\"1\" class=\"dataframe\">\n",
       "  <thead>\n",
       "    <tr style=\"text-align: right;\">\n",
       "      <th></th>\n",
       "      <th>militancia_id</th>\n",
       "      <th>mp_uid</th>\n",
       "      <th>partido_id</th>\n",
       "      <th>fecha_inicio</th>\n",
       "      <th>fecha_fin</th>\n",
       "    </tr>\n",
       "  </thead>\n",
       "  <tbody>\n",
       "    <tr>\n",
       "      <th>0</th>\n",
       "      <td>1</td>\n",
       "      <td>1</td>\n",
       "      <td>1</td>\n",
       "      <td>1990-03-11</td>\n",
       "      <td>None</td>\n",
       "    </tr>\n",
       "    <tr>\n",
       "      <th>1</th>\n",
       "      <td>2</td>\n",
       "      <td>3</td>\n",
       "      <td>2</td>\n",
       "      <td>1957-05-21</td>\n",
       "      <td>1961-05-20</td>\n",
       "    </tr>\n",
       "    <tr>\n",
       "      <th>2</th>\n",
       "      <td>3</td>\n",
       "      <td>3</td>\n",
       "      <td>3</td>\n",
       "      <td>1961-05-21</td>\n",
       "      <td>None</td>\n",
       "    </tr>\n",
       "    <tr>\n",
       "      <th>3</th>\n",
       "      <td>4</td>\n",
       "      <td>3</td>\n",
       "      <td>4</td>\n",
       "      <td>1953-05-21</td>\n",
       "      <td>1957-05-20</td>\n",
       "    </tr>\n",
       "    <tr>\n",
       "      <th>4</th>\n",
       "      <td>5</td>\n",
       "      <td>5</td>\n",
       "      <td>5</td>\n",
       "      <td>1888-06-01</td>\n",
       "      <td>None</td>\n",
       "    </tr>\n",
       "  </tbody>\n",
       "</table>\n",
       "</div>"
      ],
      "text/plain": [
       "   militancia_id  mp_uid  partido_id fecha_inicio   fecha_fin\n",
       "0              1       1           1   1990-03-11        None\n",
       "1              2       3           2   1957-05-21  1961-05-20\n",
       "2              3       3           3   1961-05-21        None\n",
       "3              4       3           4   1953-05-21  1957-05-20\n",
       "4              5       5           5   1888-06-01        None"
      ]
     },
     "metadata": {},
     "output_type": "display_data"
    },
    {
     "data": {
      "text/markdown": [
       "--- \n",
       "### 🏛️ Tabla: `comision_membresias`"
      ],
      "text/plain": [
       "<IPython.core.display.Markdown object>"
      ]
     },
     "metadata": {},
     "output_type": "display_data"
    },
    {
     "data": {
      "text/markdown": [
       "_Esta tabla está actualmente vacía._"
      ],
      "text/plain": [
       "<IPython.core.display.Markdown object>"
      ]
     },
     "metadata": {},
     "output_type": "display_data"
    },
    {
     "data": {
      "text/markdown": [
       "--- \n",
       "### 🏛️ Tabla: `electoral_results`"
      ],
      "text/plain": [
       "<IPython.core.display.Markdown object>"
      ]
     },
     "metadata": {},
     "output_type": "display_data"
    },
    {
     "data": {
      "text/markdown": [
       "_Esta tabla está actualmente vacía._"
      ],
      "text/plain": [
       "<IPython.core.display.Markdown object>"
      ]
     },
     "metadata": {},
     "output_type": "display_data"
    },
    {
     "data": {
      "text/markdown": [
       "--- \n",
       "### 🏛️ Tabla: `educacion`"
      ],
      "text/plain": [
       "<IPython.core.display.Markdown object>"
      ]
     },
     "metadata": {},
     "output_type": "display_data"
    },
    {
     "data": {
      "text/markdown": [
       "_Esta tabla está actualmente vacía._"
      ],
      "text/plain": [
       "<IPython.core.display.Markdown object>"
      ]
     },
     "metadata": {},
     "output_type": "display_data"
    },
    {
     "data": {
      "text/markdown": [
       "--- \n",
       "### 🏛️ Tabla: `bills`"
      ],
      "text/plain": [
       "<IPython.core.display.Markdown object>"
      ]
     },
     "metadata": {},
     "output_type": "display_data"
    },
    {
     "data": {
      "application/vnd.microsoft.datawrangler.viewer.v0+json": {
       "columns": [
        {
         "name": "index",
         "rawType": "int64",
         "type": "integer"
        },
        {
         "name": "bill_id",
         "rawType": "object",
         "type": "string"
        },
        {
         "name": "titulo",
         "rawType": "object",
         "type": "string"
        },
        {
         "name": "resumen",
         "rawType": "object",
         "type": "unknown"
        },
        {
         "name": "tipo_proyecto",
         "rawType": "object",
         "type": "unknown"
        },
        {
         "name": "fecha_ingreso",
         "rawType": "object",
         "type": "string"
        },
        {
         "name": "etapa",
         "rawType": "object",
         "type": "string"
        },
        {
         "name": "subetapa",
         "rawType": "object",
         "type": "string"
        },
        {
         "name": "iniciativa",
         "rawType": "object",
         "type": "string"
        },
        {
         "name": "origen",
         "rawType": "object",
         "type": "string"
        },
        {
         "name": "urgencia",
         "rawType": "object",
         "type": "string"
        },
        {
         "name": "resultado_final",
         "rawType": "object",
         "type": "string"
        },
        {
         "name": "estado",
         "rawType": "object",
         "type": "string"
        },
        {
         "name": "refundidos",
         "rawType": "object",
         "type": "string"
        },
        {
         "name": "numero_ley",
         "rawType": "object",
         "type": "unknown"
        },
        {
         "name": "norma_id",
         "rawType": "float64",
         "type": "float"
        },
        {
         "name": "fecha_actualizacion",
         "rawType": "object",
         "type": "string"
        }
       ],
       "ref": "7f024d30-603f-4d63-9e10-17ce8861bb17",
       "rows": [
        [
         "0",
         "17450-11",
         "Modifica el DFL N° 1, de Salud, de 2005, para establecer la obligatoriedad, a profesionales y establecimientos de salud, de otorgar prestaciones en la modalidad de libre elección de Fonasa",
         null,
         null,
         "2024-12-16",
         "Primer trámite constitucional (C.Diputados)",
         "Primer informe de comisión de Salud",
         "Moción",
         "C.Diputados",
         "Sin urgencia",
         "En tramitación",
         "TRAMITACIÓN",
         "",
         null,
         null,
         "2025-09-07 21:01:13"
        ],
        [
         "1",
         "2439-20",
         "Sustituye ley N° 19.366, que sanciona el tráfico ilícito de estupefacientes y sustancias sicotrópicas.",
         null,
         null,
         "1999-12-14",
         "Tramitación terminada",
         "/",
         "Mensaje",
         "C.Diputados",
         "Sin urgencia",
         "Publicado",
         "PUBLICADO",
         "",
         "20000",
         "1.0",
         "2025-09-07 21:01:13"
        ]
       ],
       "shape": {
        "columns": 16,
        "rows": 2
       }
      },
      "text/html": [
       "<div>\n",
       "<style scoped>\n",
       "    .dataframe tbody tr th:only-of-type {\n",
       "        vertical-align: middle;\n",
       "    }\n",
       "\n",
       "    .dataframe tbody tr th {\n",
       "        vertical-align: top;\n",
       "    }\n",
       "\n",
       "    .dataframe thead th {\n",
       "        text-align: right;\n",
       "    }\n",
       "</style>\n",
       "<table border=\"1\" class=\"dataframe\">\n",
       "  <thead>\n",
       "    <tr style=\"text-align: right;\">\n",
       "      <th></th>\n",
       "      <th>bill_id</th>\n",
       "      <th>titulo</th>\n",
       "      <th>resumen</th>\n",
       "      <th>tipo_proyecto</th>\n",
       "      <th>fecha_ingreso</th>\n",
       "      <th>etapa</th>\n",
       "      <th>subetapa</th>\n",
       "      <th>iniciativa</th>\n",
       "      <th>origen</th>\n",
       "      <th>urgencia</th>\n",
       "      <th>resultado_final</th>\n",
       "      <th>estado</th>\n",
       "      <th>refundidos</th>\n",
       "      <th>numero_ley</th>\n",
       "      <th>norma_id</th>\n",
       "      <th>fecha_actualizacion</th>\n",
       "    </tr>\n",
       "  </thead>\n",
       "  <tbody>\n",
       "    <tr>\n",
       "      <th>0</th>\n",
       "      <td>17450-11</td>\n",
       "      <td>Modifica el DFL N° 1, de Salud, de 2005, para ...</td>\n",
       "      <td>None</td>\n",
       "      <td>None</td>\n",
       "      <td>2024-12-16</td>\n",
       "      <td>Primer trámite constitucional (C.Diputados)</td>\n",
       "      <td>Primer informe de comisión de Salud</td>\n",
       "      <td>Moción</td>\n",
       "      <td>C.Diputados</td>\n",
       "      <td>Sin urgencia</td>\n",
       "      <td>En tramitación</td>\n",
       "      <td>TRAMITACIÓN</td>\n",
       "      <td></td>\n",
       "      <td>None</td>\n",
       "      <td>NaN</td>\n",
       "      <td>2025-09-07 21:01:13</td>\n",
       "    </tr>\n",
       "    <tr>\n",
       "      <th>1</th>\n",
       "      <td>2439-20</td>\n",
       "      <td>Sustituye ley N° 19.366, que sanciona el tráfi...</td>\n",
       "      <td>None</td>\n",
       "      <td>None</td>\n",
       "      <td>1999-12-14</td>\n",
       "      <td>Tramitación terminada</td>\n",
       "      <td>/</td>\n",
       "      <td>Mensaje</td>\n",
       "      <td>C.Diputados</td>\n",
       "      <td>Sin urgencia</td>\n",
       "      <td>Publicado</td>\n",
       "      <td>PUBLICADO</td>\n",
       "      <td></td>\n",
       "      <td>20000</td>\n",
       "      <td>1.0</td>\n",
       "      <td>2025-09-07 21:01:13</td>\n",
       "    </tr>\n",
       "  </tbody>\n",
       "</table>\n",
       "</div>"
      ],
      "text/plain": [
       "    bill_id                                             titulo resumen  \\\n",
       "0  17450-11  Modifica el DFL N° 1, de Salud, de 2005, para ...    None   \n",
       "1   2439-20  Sustituye ley N° 19.366, que sanciona el tráfi...    None   \n",
       "\n",
       "  tipo_proyecto fecha_ingreso                                        etapa  \\\n",
       "0          None    2024-12-16  Primer trámite constitucional (C.Diputados)   \n",
       "1          None    1999-12-14                        Tramitación terminada   \n",
       "\n",
       "                              subetapa iniciativa       origen      urgencia  \\\n",
       "0  Primer informe de comisión de Salud     Moción  C.Diputados  Sin urgencia   \n",
       "1                                    /    Mensaje  C.Diputados  Sin urgencia   \n",
       "\n",
       "  resultado_final       estado refundidos numero_ley  norma_id  \\\n",
       "0  En tramitación  TRAMITACIÓN                  None       NaN   \n",
       "1       Publicado    PUBLICADO                 20000       1.0   \n",
       "\n",
       "   fecha_actualizacion  \n",
       "0  2025-09-07 21:01:13  \n",
       "1  2025-09-07 21:01:13  "
      ]
     },
     "metadata": {},
     "output_type": "display_data"
    },
    {
     "data": {
      "text/markdown": [
       "--- \n",
       "### 🏛️ Tabla: `bill_authors`"
      ],
      "text/plain": [
       "<IPython.core.display.Markdown object>"
      ]
     },
     "metadata": {},
     "output_type": "display_data"
    },
    {
     "data": {
      "application/vnd.microsoft.datawrangler.viewer.v0+json": {
       "columns": [
        {
         "name": "index",
         "rawType": "int64",
         "type": "integer"
        },
        {
         "name": "bill_id",
         "rawType": "object",
         "type": "string"
        },
        {
         "name": "mp_uid",
         "rawType": "int64",
         "type": "integer"
        }
       ],
       "ref": "60c982d0-ea45-4634-bd09-197f7bb6e1ae",
       "rows": [
        [
         "0",
         "17450-11",
         "3477"
        ],
        [
         "1",
         "17450-11",
         "1139"
        ]
       ],
       "shape": {
        "columns": 2,
        "rows": 2
       }
      },
      "text/html": [
       "<div>\n",
       "<style scoped>\n",
       "    .dataframe tbody tr th:only-of-type {\n",
       "        vertical-align: middle;\n",
       "    }\n",
       "\n",
       "    .dataframe tbody tr th {\n",
       "        vertical-align: top;\n",
       "    }\n",
       "\n",
       "    .dataframe thead th {\n",
       "        text-align: right;\n",
       "    }\n",
       "</style>\n",
       "<table border=\"1\" class=\"dataframe\">\n",
       "  <thead>\n",
       "    <tr style=\"text-align: right;\">\n",
       "      <th></th>\n",
       "      <th>bill_id</th>\n",
       "      <th>mp_uid</th>\n",
       "    </tr>\n",
       "  </thead>\n",
       "  <tbody>\n",
       "    <tr>\n",
       "      <th>0</th>\n",
       "      <td>17450-11</td>\n",
       "      <td>3477</td>\n",
       "    </tr>\n",
       "    <tr>\n",
       "      <th>1</th>\n",
       "      <td>17450-11</td>\n",
       "      <td>1139</td>\n",
       "    </tr>\n",
       "  </tbody>\n",
       "</table>\n",
       "</div>"
      ],
      "text/plain": [
       "    bill_id  mp_uid\n",
       "0  17450-11    3477\n",
       "1  17450-11    1139"
      ]
     },
     "metadata": {},
     "output_type": "display_data"
    },
    {
     "data": {
      "text/markdown": [
       "--- \n",
       "### 🏛️ Tabla: `bill_ministerios_patrocinantes`"
      ],
      "text/plain": [
       "<IPython.core.display.Markdown object>"
      ]
     },
     "metadata": {},
     "output_type": "display_data"
    },
    {
     "data": {
      "text/markdown": [
       "_Esta tabla está actualmente vacía._"
      ],
      "text/plain": [
       "<IPython.core.display.Markdown object>"
      ]
     },
     "metadata": {},
     "output_type": "display_data"
    },
    {
     "data": {
      "text/markdown": [
       "--- \n",
       "### 🏛️ Tabla: `bill_tramites`"
      ],
      "text/plain": [
       "<IPython.core.display.Markdown object>"
      ]
     },
     "metadata": {},
     "output_type": "display_data"
    },
    {
     "data": {
      "application/vnd.microsoft.datawrangler.viewer.v0+json": {
       "columns": [
        {
         "name": "index",
         "rawType": "int64",
         "type": "integer"
        },
        {
         "name": "tramite_id",
         "rawType": "int64",
         "type": "integer"
        },
        {
         "name": "bill_id",
         "rawType": "object",
         "type": "string"
        },
        {
         "name": "fecha_tramite",
         "rawType": "object",
         "type": "string"
        },
        {
         "name": "descripcion",
         "rawType": "object",
         "type": "string"
        },
        {
         "name": "etapa_general",
         "rawType": "object",
         "type": "unknown"
        },
        {
         "name": "etapa_especifica",
         "rawType": "object",
         "type": "string"
        },
        {
         "name": "camara",
         "rawType": "object",
         "type": "string"
        },
        {
         "name": "sesion",
         "rawType": "object",
         "type": "string"
        }
       ],
       "ref": "30ffd03e-6163-454b-8ddc-50e1a56972b2",
       "rows": [
        [
         "0",
         "155",
         "17450-11",
         "2024-12-16",
         "Ingreso de proyecto .",
         null,
         "Primer trámite constitucional",
         "C.Diputados",
         "/"
        ],
        [
         "1",
         "156",
         "17450-11",
         "2025-04-08",
         "Cuenta de proyecto . Pasa a Comisión de Salud",
         null,
         "Primer trámite constitucional",
         "C.Diputados",
         "10/373"
        ],
        [
         "2",
         "157",
         "2439-20",
         "1999-12-14",
         "Ingreso de proyecto .",
         null,
         "Primer trámite constitucional",
         "C.Diputados",
         "/"
        ],
        [
         "3",
         "158",
         "2439-20",
         "1999-12-14",
         "Cuenta de proyecto . Pasa a Comisión Especial sobre drogas",
         null,
         "Primer trámite constitucional",
         "C.Diputados",
         "19/341"
        ],
        [
         "4",
         "159",
         "2439-20",
         "1999-12-14",
         "Oficio Nº 2.662 a Corte Suprema. Remite proyecto para efectos de evacuar opinión solicitada",
         null,
         "Primer trámite constitucional",
         "C.Diputados",
         "/"
        ]
       ],
       "shape": {
        "columns": 8,
        "rows": 5
       }
      },
      "text/html": [
       "<div>\n",
       "<style scoped>\n",
       "    .dataframe tbody tr th:only-of-type {\n",
       "        vertical-align: middle;\n",
       "    }\n",
       "\n",
       "    .dataframe tbody tr th {\n",
       "        vertical-align: top;\n",
       "    }\n",
       "\n",
       "    .dataframe thead th {\n",
       "        text-align: right;\n",
       "    }\n",
       "</style>\n",
       "<table border=\"1\" class=\"dataframe\">\n",
       "  <thead>\n",
       "    <tr style=\"text-align: right;\">\n",
       "      <th></th>\n",
       "      <th>tramite_id</th>\n",
       "      <th>bill_id</th>\n",
       "      <th>fecha_tramite</th>\n",
       "      <th>descripcion</th>\n",
       "      <th>etapa_general</th>\n",
       "      <th>etapa_especifica</th>\n",
       "      <th>camara</th>\n",
       "      <th>sesion</th>\n",
       "    </tr>\n",
       "  </thead>\n",
       "  <tbody>\n",
       "    <tr>\n",
       "      <th>0</th>\n",
       "      <td>155</td>\n",
       "      <td>17450-11</td>\n",
       "      <td>2024-12-16</td>\n",
       "      <td>Ingreso de proyecto .</td>\n",
       "      <td>None</td>\n",
       "      <td>Primer trámite constitucional</td>\n",
       "      <td>C.Diputados</td>\n",
       "      <td>/</td>\n",
       "    </tr>\n",
       "    <tr>\n",
       "      <th>1</th>\n",
       "      <td>156</td>\n",
       "      <td>17450-11</td>\n",
       "      <td>2025-04-08</td>\n",
       "      <td>Cuenta de proyecto . Pasa a Comisión de Salud</td>\n",
       "      <td>None</td>\n",
       "      <td>Primer trámite constitucional</td>\n",
       "      <td>C.Diputados</td>\n",
       "      <td>10/373</td>\n",
       "    </tr>\n",
       "    <tr>\n",
       "      <th>2</th>\n",
       "      <td>157</td>\n",
       "      <td>2439-20</td>\n",
       "      <td>1999-12-14</td>\n",
       "      <td>Ingreso de proyecto .</td>\n",
       "      <td>None</td>\n",
       "      <td>Primer trámite constitucional</td>\n",
       "      <td>C.Diputados</td>\n",
       "      <td>/</td>\n",
       "    </tr>\n",
       "    <tr>\n",
       "      <th>3</th>\n",
       "      <td>158</td>\n",
       "      <td>2439-20</td>\n",
       "      <td>1999-12-14</td>\n",
       "      <td>Cuenta de proyecto . Pasa a Comisión Especial ...</td>\n",
       "      <td>None</td>\n",
       "      <td>Primer trámite constitucional</td>\n",
       "      <td>C.Diputados</td>\n",
       "      <td>19/341</td>\n",
       "    </tr>\n",
       "    <tr>\n",
       "      <th>4</th>\n",
       "      <td>159</td>\n",
       "      <td>2439-20</td>\n",
       "      <td>1999-12-14</td>\n",
       "      <td>Oficio Nº 2.662 a Corte Suprema. Remite proyec...</td>\n",
       "      <td>None</td>\n",
       "      <td>Primer trámite constitucional</td>\n",
       "      <td>C.Diputados</td>\n",
       "      <td>/</td>\n",
       "    </tr>\n",
       "  </tbody>\n",
       "</table>\n",
       "</div>"
      ],
      "text/plain": [
       "   tramite_id   bill_id fecha_tramite  \\\n",
       "0         155  17450-11    2024-12-16   \n",
       "1         156  17450-11    2025-04-08   \n",
       "2         157   2439-20    1999-12-14   \n",
       "3         158   2439-20    1999-12-14   \n",
       "4         159   2439-20    1999-12-14   \n",
       "\n",
       "                                         descripcion etapa_general  \\\n",
       "0                              Ingreso de proyecto .          None   \n",
       "1      Cuenta de proyecto . Pasa a Comisión de Salud          None   \n",
       "2                              Ingreso de proyecto .          None   \n",
       "3  Cuenta de proyecto . Pasa a Comisión Especial ...          None   \n",
       "4  Oficio Nº 2.662 a Corte Suprema. Remite proyec...          None   \n",
       "\n",
       "                etapa_especifica       camara  sesion  \n",
       "0  Primer trámite constitucional  C.Diputados       /  \n",
       "1  Primer trámite constitucional  C.Diputados  10/373  \n",
       "2  Primer trámite constitucional  C.Diputados       /  \n",
       "3  Primer trámite constitucional  C.Diputados  19/341  \n",
       "4  Primer trámite constitucional  C.Diputados       /  "
      ]
     },
     "metadata": {},
     "output_type": "display_data"
    },
    {
     "data": {
      "text/markdown": [
       "--- \n",
       "### 🏛️ Tabla: `bill_documentos`"
      ],
      "text/plain": [
       "<IPython.core.display.Markdown object>"
      ]
     },
     "metadata": {},
     "output_type": "display_data"
    },
    {
     "data": {
      "text/markdown": [
       "_Esta tabla está actualmente vacía._"
      ],
      "text/plain": [
       "<IPython.core.display.Markdown object>"
      ]
     },
     "metadata": {},
     "output_type": "display_data"
    },
    {
     "data": {
      "text/markdown": [
       "--- \n",
       "### 🏛️ Tabla: `bill_materias`"
      ],
      "text/plain": [
       "<IPython.core.display.Markdown object>"
      ]
     },
     "metadata": {},
     "output_type": "display_data"
    },
    {
     "data": {
      "application/vnd.microsoft.datawrangler.viewer.v0+json": {
       "columns": [
        {
         "name": "index",
         "rawType": "int64",
         "type": "integer"
        },
        {
         "name": "bill_id",
         "rawType": "object",
         "type": "string"
        },
        {
         "name": "materia_id",
         "rawType": "int64",
         "type": "integer"
        }
       ],
       "ref": "211cd222-7af3-4ee7-97b1-07bf6554789d",
       "rows": [
        [
         "0",
         "2439-20",
         "25717"
        ]
       ],
       "shape": {
        "columns": 2,
        "rows": 1
       }
      },
      "text/html": [
       "<div>\n",
       "<style scoped>\n",
       "    .dataframe tbody tr th:only-of-type {\n",
       "        vertical-align: middle;\n",
       "    }\n",
       "\n",
       "    .dataframe tbody tr th {\n",
       "        vertical-align: top;\n",
       "    }\n",
       "\n",
       "    .dataframe thead th {\n",
       "        text-align: right;\n",
       "    }\n",
       "</style>\n",
       "<table border=\"1\" class=\"dataframe\">\n",
       "  <thead>\n",
       "    <tr style=\"text-align: right;\">\n",
       "      <th></th>\n",
       "      <th>bill_id</th>\n",
       "      <th>materia_id</th>\n",
       "    </tr>\n",
       "  </thead>\n",
       "  <tbody>\n",
       "    <tr>\n",
       "      <th>0</th>\n",
       "      <td>2439-20</td>\n",
       "      <td>25717</td>\n",
       "    </tr>\n",
       "  </tbody>\n",
       "</table>\n",
       "</div>"
      ],
      "text/plain": [
       "   bill_id  materia_id\n",
       "0  2439-20       25717"
      ]
     },
     "metadata": {},
     "output_type": "display_data"
    },
    {
     "data": {
      "text/markdown": [
       "--- \n",
       "### 🏛️ Tabla: `sesiones_votacion`"
      ],
      "text/plain": [
       "<IPython.core.display.Markdown object>"
      ]
     },
     "metadata": {},
     "output_type": "display_data"
    },
    {
     "data": {
      "text/markdown": [
       "_Esta tabla está actualmente vacía._"
      ],
      "text/plain": [
       "<IPython.core.display.Markdown object>"
      ]
     },
     "metadata": {},
     "output_type": "display_data"
    },
    {
     "data": {
      "text/markdown": [
       "--- \n",
       "### 🏛️ Tabla: `votos_parlamentario`"
      ],
      "text/plain": [
       "<IPython.core.display.Markdown object>"
      ]
     },
     "metadata": {},
     "output_type": "display_data"
    },
    {
     "data": {
      "text/markdown": [
       "_Esta tabla está actualmente vacía._"
      ],
      "text/plain": [
       "<IPython.core.display.Markdown object>"
      ]
     },
     "metadata": {},
     "output_type": "display_data"
    },
    {
     "data": {
      "text/markdown": [
       "--- \n",
       "### 🏛️ Tabla: `entity_sources`"
      ],
      "text/plain": [
       "<IPython.core.display.Markdown object>"
      ]
     },
     "metadata": {},
     "output_type": "display_data"
    },
    {
     "data": {
      "application/vnd.microsoft.datawrangler.viewer.v0+json": {
       "columns": [
        {
         "name": "index",
         "rawType": "int64",
         "type": "integer"
        },
        {
         "name": "source_id",
         "rawType": "int64",
         "type": "integer"
        },
        {
         "name": "entity_id",
         "rawType": "object",
         "type": "string"
        },
        {
         "name": "entity_type",
         "rawType": "object",
         "type": "string"
        },
        {
         "name": "source_name",
         "rawType": "object",
         "type": "string"
        },
        {
         "name": "url",
         "rawType": "object",
         "type": "string"
        },
        {
         "name": "last_checked_at",
         "rawType": "object",
         "type": "string"
        }
       ],
       "ref": "78b3baf6-94a8-485e-840d-b49aac5d3272",
       "rows": [
        [
         "0",
         "10",
         "17450-11",
         "bill",
         "senado_boletin",
         "https://tramitacion.senado.cl/wspublico/tramitacion.php?boletin=17450",
         "2025-09-07 21:01:13"
        ],
        [
         "1",
         "11",
         "17450-11",
         "bill",
         "camara_boletin",
         "https://opendata.camara.cl/camaradiputados/WServices/WSLegislativo.asmx/retornarProyectoLey?prmNumeroBoletin=17450-11",
         "2025-09-07 21:01:13"
        ],
        [
         "2",
         "12",
         "17450-11",
         "bill",
         "bcn_proyecto",
         "https://datos.bcn.cl/recurso/cl/proyecto-de-ley/17450-11/datos.json",
         "2025-09-07 21:01:13"
        ],
        [
         "3",
         "13",
         "2439-20",
         "bill",
         "senado_boletin",
         "https://tramitacion.senado.cl/wspublico/tramitacion.php?boletin=2439",
         "2025-09-07 21:01:13"
        ],
        [
         "4",
         "14",
         "2439-20",
         "bill",
         "camara_boletin",
         "https://opendata.camara.cl/camaradiputados/WServices/WSLegislativo.asmx/retornarProyectoLey?prmNumeroBoletin=2439-20",
         "2025-09-07 21:01:13"
        ]
       ],
       "shape": {
        "columns": 6,
        "rows": 5
       }
      },
      "text/html": [
       "<div>\n",
       "<style scoped>\n",
       "    .dataframe tbody tr th:only-of-type {\n",
       "        vertical-align: middle;\n",
       "    }\n",
       "\n",
       "    .dataframe tbody tr th {\n",
       "        vertical-align: top;\n",
       "    }\n",
       "\n",
       "    .dataframe thead th {\n",
       "        text-align: right;\n",
       "    }\n",
       "</style>\n",
       "<table border=\"1\" class=\"dataframe\">\n",
       "  <thead>\n",
       "    <tr style=\"text-align: right;\">\n",
       "      <th></th>\n",
       "      <th>source_id</th>\n",
       "      <th>entity_id</th>\n",
       "      <th>entity_type</th>\n",
       "      <th>source_name</th>\n",
       "      <th>url</th>\n",
       "      <th>last_checked_at</th>\n",
       "    </tr>\n",
       "  </thead>\n",
       "  <tbody>\n",
       "    <tr>\n",
       "      <th>0</th>\n",
       "      <td>10</td>\n",
       "      <td>17450-11</td>\n",
       "      <td>bill</td>\n",
       "      <td>senado_boletin</td>\n",
       "      <td>https://tramitacion.senado.cl/wspublico/tramit...</td>\n",
       "      <td>2025-09-07 21:01:13</td>\n",
       "    </tr>\n",
       "    <tr>\n",
       "      <th>1</th>\n",
       "      <td>11</td>\n",
       "      <td>17450-11</td>\n",
       "      <td>bill</td>\n",
       "      <td>camara_boletin</td>\n",
       "      <td>https://opendata.camara.cl/camaradiputados/WSe...</td>\n",
       "      <td>2025-09-07 21:01:13</td>\n",
       "    </tr>\n",
       "    <tr>\n",
       "      <th>2</th>\n",
       "      <td>12</td>\n",
       "      <td>17450-11</td>\n",
       "      <td>bill</td>\n",
       "      <td>bcn_proyecto</td>\n",
       "      <td>https://datos.bcn.cl/recurso/cl/proyecto-de-le...</td>\n",
       "      <td>2025-09-07 21:01:13</td>\n",
       "    </tr>\n",
       "    <tr>\n",
       "      <th>3</th>\n",
       "      <td>13</td>\n",
       "      <td>2439-20</td>\n",
       "      <td>bill</td>\n",
       "      <td>senado_boletin</td>\n",
       "      <td>https://tramitacion.senado.cl/wspublico/tramit...</td>\n",
       "      <td>2025-09-07 21:01:13</td>\n",
       "    </tr>\n",
       "    <tr>\n",
       "      <th>4</th>\n",
       "      <td>14</td>\n",
       "      <td>2439-20</td>\n",
       "      <td>bill</td>\n",
       "      <td>camara_boletin</td>\n",
       "      <td>https://opendata.camara.cl/camaradiputados/WSe...</td>\n",
       "      <td>2025-09-07 21:01:13</td>\n",
       "    </tr>\n",
       "  </tbody>\n",
       "</table>\n",
       "</div>"
      ],
      "text/plain": [
       "   source_id entity_id entity_type     source_name  \\\n",
       "0         10  17450-11        bill  senado_boletin   \n",
       "1         11  17450-11        bill  camara_boletin   \n",
       "2         12  17450-11        bill    bcn_proyecto   \n",
       "3         13   2439-20        bill  senado_boletin   \n",
       "4         14   2439-20        bill  camara_boletin   \n",
       "\n",
       "                                                 url      last_checked_at  \n",
       "0  https://tramitacion.senado.cl/wspublico/tramit...  2025-09-07 21:01:13  \n",
       "1  https://opendata.camara.cl/camaradiputados/WSe...  2025-09-07 21:01:13  \n",
       "2  https://datos.bcn.cl/recurso/cl/proyecto-de-le...  2025-09-07 21:01:13  \n",
       "3  https://tramitacion.senado.cl/wspublico/tramit...  2025-09-07 21:01:13  \n",
       "4  https://opendata.camara.cl/camaradiputados/WSe...  2025-09-07 21:01:13  "
      ]
     },
     "metadata": {},
     "output_type": "display_data"
    },
    {
     "data": {
      "text/markdown": [
       "--- \n",
       "### 🏛️ Tabla: `speech_turns`"
      ],
      "text/plain": [
       "<IPython.core.display.Markdown object>"
      ]
     },
     "metadata": {},
     "output_type": "display_data"
    },
    {
     "data": {
      "text/markdown": [
       "_Esta tabla está actualmente vacía._"
      ],
      "text/plain": [
       "<IPython.core.display.Markdown object>"
      ]
     },
     "metadata": {},
     "output_type": "display_data"
    },
    {
     "data": {
      "text/markdown": [
       "--- \n",
       "### 🏛️ Tabla: `interactions`"
      ],
      "text/plain": [
       "<IPython.core.display.Markdown object>"
      ]
     },
     "metadata": {},
     "output_type": "display_data"
    },
    {
     "data": {
      "text/markdown": [
       "_Esta tabla está actualmente vacía._"
      ],
      "text/plain": [
       "<IPython.core.display.Markdown object>"
      ]
     },
     "metadata": {},
     "output_type": "display_data"
    }
   ],
   "source": [
    "import sqlite3\n",
    "import pandas as pd\n",
    "from IPython.display import display, Markdown\n",
    "\n",
    "# --- CONFIGURACIÓN ---\n",
    "# Ruta a tu base de datos\n",
    "DB_PATH = 'data/database/parlamento.db'\n",
    "# Número de filas a mostrar por tabla\n",
    "LIMIT = 5\n",
    "\n",
    "def display_database_overview(db_path, limit):\n",
    "    \"\"\"\n",
    "    Se conecta a la BD y muestra las primeras N filas de cada tabla\n",
    "    de manera ordenada en un notebook.\n",
    "    \"\"\"\n",
    "    try:\n",
    "        with sqlite3.connect(db_path) as conn:\n",
    "            cursor = conn.cursor()\n",
    "            \n",
    "            # Obtener la lista de todas las tablas\n",
    "            cursor.execute(\"SELECT name FROM sqlite_master WHERE type='table';\")\n",
    "            tables = [table[0] for table in cursor.fetchall()]\n",
    "            \n",
    "            display(Markdown(f\"# 📊 Resumen de la Base de Datos: `{db_path}`\"))\n",
    "            display(Markdown(f\"Mostrando las primeras **{limit} filas** de cada tabla.\"))\n",
    "            \n",
    "            for table in tables:\n",
    "                if table.startswith('sqlite_'):\n",
    "                    continue\n",
    "                \n",
    "                try:\n",
    "                    # Usar pandas para leer la consulta SQL y obtener un DataFrame\n",
    "                    df = pd.read_sql_query(f\"SELECT * FROM {table} LIMIT {limit}\", conn)\n",
    "                    \n",
    "                    # Mostrar el nombre de la tabla como un título\n",
    "                    display(Markdown(f\"--- \\n### 🏛️ Tabla: `{table}`\"))\n",
    "                    \n",
    "                    if df.empty:\n",
    "                        display(Markdown(\"_Esta tabla está actualmente vacía._\"))\n",
    "                    else:\n",
    "                        # La función display() renderiza el DataFrame como una tabla HTML\n",
    "                        display(df)\n",
    "                        \n",
    "                except Exception as e:\n",
    "                    display(Markdown(f\"No se pudo leer la tabla `{table}`. Error: {e}\"))\n",
    "\n",
    "    except sqlite3.Error as e:\n",
    "        print(f\"❌ Error de base de datos: {e}\")\n",
    "\n",
    "# --- Ejecutar la función para mostrar el resumen ---\n",
    "display_database_overview(DB_PATH, LIMIT)"
   ]
  },
  {
   "cell_type": "code",
   "execution_count": 10,
   "id": "2534ddfc",
   "metadata": {},
   "outputs": [],
   "source": [
    "import sqlite3\n",
    "import pandas as pd\n",
    "import ipywidgets as widgets\n",
    "from IPython.display import display, Markdown\n",
    "\n",
    "# --- CONFIGURACIÓN ---\n",
    "# Ajusta la ruta a tu base de datos si es necesario\n",
    "DB_PATH = 'data/database/parlamento.db'\n",
    "\n",
    "# Opciones para que pandas muestre todas las columnas\n",
    "pd.set_option('display.max_rows', 200)\n",
    "pd.set_option('display.max_columns', 50)"
   ]
  },
  {
   "cell_type": "code",
   "execution_count": 11,
   "id": "b2a8b831",
   "metadata": {},
   "outputs": [
    {
     "data": {
      "text/markdown": [
       "### 📜 Ingresa el número de boletín que quieres analizar:"
      ],
      "text/plain": [
       "<IPython.core.display.Markdown object>"
      ]
     },
     "metadata": {},
     "output_type": "display_data"
    },
    {
     "data": {
      "application/vnd.jupyter.widget-view+json": {
       "model_id": "29fd1f0992684277a181f894a6b2d94b",
       "version_major": 2,
       "version_minor": 0
      },
      "text/plain": [
       "Text(value='2439-20', description='Boletín:', placeholder='Ingresa un Boletín (ej: 17450-11)')"
      ]
     },
     "metadata": {},
     "output_type": "display_data"
    }
   ],
   "source": [
    "# Este widget crea un cuadro de texto para que ingreses el boletín fácilmente\n",
    "bill_id_widget = widgets.Text(\n",
    "    value='2439-20',\n",
    "    placeholder='Ingresa un Boletín (ej: 17450-11)',\n",
    "    description='Boletín:',\n",
    "    disabled=False\n",
    ")\n",
    "\n",
    "display(Markdown(\"### 📜 Ingresa el número de boletín que quieres analizar:\"))\n",
    "display(bill_id_widget)"
   ]
  },
  {
   "cell_type": "code",
   "execution_count": 12,
   "id": "59f8ce46",
   "metadata": {},
   "outputs": [
    {
     "name": "stdout",
     "output_type": "stream",
     "text": [
      "✅ Conexión a la base de datos exitosa.\n"
     ]
    }
   ],
   "source": [
    "# Establecemos la conexión una sola vez\n",
    "try:\n",
    "    conn = sqlite3.connect(DB_PATH)\n",
    "    print(\"✅ Conexión a la base de datos exitosa.\")\n",
    "except sqlite3.Error as e:\n",
    "    print(f\"❌ Error de base de datos: {e}\")"
   ]
  },
  {
   "cell_type": "code",
   "execution_count": 13,
   "id": "f4e31e61",
   "metadata": {},
   "outputs": [
    {
     "data": {
      "text/markdown": [
       "# 📖 Vida y Trayectoria del Proyecto de Ley: 2439-20"
      ],
      "text/plain": [
       "<IPython.core.display.Markdown object>"
      ]
     },
     "metadata": {},
     "output_type": "display_data"
    },
    {
     "data": {
      "text/markdown": [
       "--- \n",
       "## ℹ️ Ficha Principal"
      ],
      "text/plain": [
       "<IPython.core.display.Markdown object>"
      ]
     },
     "metadata": {},
     "output_type": "display_data"
    },
    {
     "data": {
      "application/vnd.microsoft.datawrangler.viewer.v0+json": {
       "columns": [
        {
         "name": "index",
         "rawType": "object",
         "type": "string"
        },
        {
         "name": "2439-20",
         "rawType": "object",
         "type": "unknown"
        }
       ],
       "ref": "825b999e-8c4a-42e2-8238-3d0a4ba48797",
       "rows": [
        [
         "titulo",
         "Sustituye ley N° 19.366, que sanciona el tráfico ilícito de estupefacientes y sustancias sicotrópicas."
        ],
        [
         "resumen",
         null
        ],
        [
         "tipo_proyecto",
         null
        ],
        [
         "fecha_ingreso",
         "1999-12-14"
        ],
        [
         "etapa",
         "Tramitación terminada"
        ],
        [
         "subetapa",
         "/"
        ],
        [
         "iniciativa",
         "Mensaje"
        ],
        [
         "origen",
         "C.Diputados"
        ],
        [
         "urgencia",
         "Sin urgencia"
        ],
        [
         "resultado_final",
         "Publicado"
        ],
        [
         "estado",
         "PUBLICADO"
        ],
        [
         "refundidos",
         ""
        ],
        [
         "numero_ley",
         "20000"
        ],
        [
         "norma_id",
         "1"
        ],
        [
         "fecha_actualizacion",
         "2025-09-07 21:01:13"
        ]
       ],
       "shape": {
        "columns": 1,
        "rows": 15
       }
      },
      "text/html": [
       "<div>\n",
       "<style scoped>\n",
       "    .dataframe tbody tr th:only-of-type {\n",
       "        vertical-align: middle;\n",
       "    }\n",
       "\n",
       "    .dataframe tbody tr th {\n",
       "        vertical-align: top;\n",
       "    }\n",
       "\n",
       "    .dataframe thead th {\n",
       "        text-align: right;\n",
       "    }\n",
       "</style>\n",
       "<table border=\"1\" class=\"dataframe\">\n",
       "  <thead>\n",
       "    <tr style=\"text-align: right;\">\n",
       "      <th>bill_id</th>\n",
       "      <th>2439-20</th>\n",
       "    </tr>\n",
       "  </thead>\n",
       "  <tbody>\n",
       "    <tr>\n",
       "      <th>titulo</th>\n",
       "      <td>Sustituye ley N° 19.366, que sanciona el tráfi...</td>\n",
       "    </tr>\n",
       "    <tr>\n",
       "      <th>resumen</th>\n",
       "      <td>None</td>\n",
       "    </tr>\n",
       "    <tr>\n",
       "      <th>tipo_proyecto</th>\n",
       "      <td>None</td>\n",
       "    </tr>\n",
       "    <tr>\n",
       "      <th>fecha_ingreso</th>\n",
       "      <td>1999-12-14</td>\n",
       "    </tr>\n",
       "    <tr>\n",
       "      <th>etapa</th>\n",
       "      <td>Tramitación terminada</td>\n",
       "    </tr>\n",
       "    <tr>\n",
       "      <th>subetapa</th>\n",
       "      <td>/</td>\n",
       "    </tr>\n",
       "    <tr>\n",
       "      <th>iniciativa</th>\n",
       "      <td>Mensaje</td>\n",
       "    </tr>\n",
       "    <tr>\n",
       "      <th>origen</th>\n",
       "      <td>C.Diputados</td>\n",
       "    </tr>\n",
       "    <tr>\n",
       "      <th>urgencia</th>\n",
       "      <td>Sin urgencia</td>\n",
       "    </tr>\n",
       "    <tr>\n",
       "      <th>resultado_final</th>\n",
       "      <td>Publicado</td>\n",
       "    </tr>\n",
       "    <tr>\n",
       "      <th>estado</th>\n",
       "      <td>PUBLICADO</td>\n",
       "    </tr>\n",
       "    <tr>\n",
       "      <th>refundidos</th>\n",
       "      <td></td>\n",
       "    </tr>\n",
       "    <tr>\n",
       "      <th>numero_ley</th>\n",
       "      <td>20000</td>\n",
       "    </tr>\n",
       "    <tr>\n",
       "      <th>norma_id</th>\n",
       "      <td>1</td>\n",
       "    </tr>\n",
       "    <tr>\n",
       "      <th>fecha_actualizacion</th>\n",
       "      <td>2025-09-07 21:01:13</td>\n",
       "    </tr>\n",
       "  </tbody>\n",
       "</table>\n",
       "</div>"
      ],
      "text/plain": [
       "bill_id                                                        2439-20\n",
       "titulo               Sustituye ley N° 19.366, que sanciona el tráfi...\n",
       "resumen                                                           None\n",
       "tipo_proyecto                                                     None\n",
       "fecha_ingreso                                               1999-12-14\n",
       "etapa                                            Tramitación terminada\n",
       "subetapa                                                             /\n",
       "iniciativa                                                     Mensaje\n",
       "origen                                                     C.Diputados\n",
       "urgencia                                                  Sin urgencia\n",
       "resultado_final                                              Publicado\n",
       "estado                                                       PUBLICADO\n",
       "refundidos                                                            \n",
       "numero_ley                                                       20000\n",
       "norma_id                                                             1\n",
       "fecha_actualizacion                                2025-09-07 21:01:13"
      ]
     },
     "metadata": {},
     "output_type": "display_data"
    }
   ],
   "source": [
    "# Usamos el valor del widget en nuestra consulta\n",
    "bill_id = bill_id_widget.value\n",
    "\n",
    "display(Markdown(f\"# 📖 Vida y Trayectoria del Proyecto de Ley: {bill_id}\"))\n",
    "display(Markdown(\"--- \\n## ℹ️ Ficha Principal\"))\n",
    "\n",
    "df_bill = pd.read_sql_query(\"SELECT * FROM bills WHERE bill_id = ?\", conn, params=(bill_id,))\n",
    "\n",
    "if df_bill.empty:\n",
    "    display(Markdown(f\"**Error:** No se encontró ningún proyecto con el boletín `{bill_id}`.\"))\n",
    "else:\n",
    "    # Transponemos el dataframe para una mejor visualización de la ficha\n",
    "    display(df_bill.set_index('bill_id').T)"
   ]
  },
  {
   "cell_type": "code",
   "execution_count": 14,
   "id": "841cd27b",
   "metadata": {},
   "outputs": [
    {
     "data": {
      "text/markdown": [
       "--- \n",
       "## ✍️ Autores y Materias"
      ],
      "text/plain": [
       "<IPython.core.display.Markdown object>"
      ]
     },
     "metadata": {},
     "output_type": "display_data"
    },
    {
     "data": {
      "text/markdown": [
       "### Autores"
      ],
      "text/plain": [
       "<IPython.core.display.Markdown object>"
      ]
     },
     "metadata": {},
     "output_type": "display_data"
    },
    {
     "data": {
      "text/markdown": [
       "_No se encontraron autores parlamentarios (puede ser una iniciativa del Ejecutivo)._"
      ],
      "text/plain": [
       "<IPython.core.display.Markdown object>"
      ]
     },
     "metadata": {},
     "output_type": "display_data"
    },
    {
     "data": {
      "text/markdown": [
       "### Materias Asociadas"
      ],
      "text/plain": [
       "<IPython.core.display.Markdown object>"
      ]
     },
     "metadata": {},
     "output_type": "display_data"
    },
    {
     "data": {
      "application/vnd.microsoft.datawrangler.viewer.v0+json": {
       "columns": [
        {
         "name": "index",
         "rawType": "int64",
         "type": "integer"
        },
        {
         "name": "nombre",
         "rawType": "object",
         "type": "string"
        }
       ],
       "ref": "bb50ccc2-436c-4afd-b048-e7f334032f7d",
       "rows": [
        [
         "0",
         "Tráfico de drogas"
        ]
       ],
       "shape": {
        "columns": 1,
        "rows": 1
       }
      },
      "text/html": [
       "<div>\n",
       "<style scoped>\n",
       "    .dataframe tbody tr th:only-of-type {\n",
       "        vertical-align: middle;\n",
       "    }\n",
       "\n",
       "    .dataframe tbody tr th {\n",
       "        vertical-align: top;\n",
       "    }\n",
       "\n",
       "    .dataframe thead th {\n",
       "        text-align: right;\n",
       "    }\n",
       "</style>\n",
       "<table border=\"1\" class=\"dataframe\">\n",
       "  <thead>\n",
       "    <tr style=\"text-align: right;\">\n",
       "      <th></th>\n",
       "      <th>nombre</th>\n",
       "    </tr>\n",
       "  </thead>\n",
       "  <tbody>\n",
       "    <tr>\n",
       "      <th>0</th>\n",
       "      <td>Tráfico de drogas</td>\n",
       "    </tr>\n",
       "  </tbody>\n",
       "</table>\n",
       "</div>"
      ],
      "text/plain": [
       "              nombre\n",
       "0  Tráfico de drogas"
      ]
     },
     "metadata": {},
     "output_type": "display_data"
    }
   ],
   "source": [
    "display(Markdown(\"--- \\n## ✍️ Autores y Materias\"))\n",
    "bill_id = bill_id_widget.value\n",
    "\n",
    "# NUEVA CONSULTA: Ahora obtiene el partido del parlamentario en la fecha de ingreso del proyecto\n",
    "authors_query = \"\"\"\n",
    "    SELECT\n",
    "        p.nombre_completo,\n",
    "        part.sigla AS partido_en_fecha\n",
    "    FROM bills b\n",
    "    JOIN bill_authors ba ON b.bill_id = ba.bill_id\n",
    "    JOIN dim_parlamentario p ON ba.mp_uid = p.mp_uid\n",
    "    LEFT JOIN parlamentario_mandatos m ON p.mp_uid = m.mp_uid AND b.fecha_ingreso BETWEEN m.fecha_inicio AND DATE(m.fecha_fin, '+1 day')\n",
    "    LEFT JOIN dim_partidos part ON m.partido_id_mandato = part.partido_id\n",
    "    WHERE b.bill_id = ?;\n",
    "\"\"\"\n",
    "df_authors = pd.read_sql_query(authors_query, conn, params=(bill_id,))\n",
    "\n",
    "materias_query = \"\"\"\n",
    "    SELECT m.nombre\n",
    "    FROM bill_materias bm\n",
    "    JOIN dim_materias m ON bm.materia_id = m.materia_id\n",
    "    WHERE bm.bill_id = ?\n",
    "\"\"\"\n",
    "df_materias = pd.read_sql_query(materias_query, conn, params=(bill_id,))\n",
    "\n",
    "display(Markdown(\"### Autores\"))\n",
    "if df_authors.empty:\n",
    "    display(Markdown(\"_No se encontraron autores parlamentarios (puede ser una iniciativa del Ejecutivo)._\"))\n",
    "else:\n",
    "    display(df_authors)\n",
    "\n",
    "display(Markdown(\"### Materias Asociadas\"))\n",
    "if df_materias.empty:\n",
    "    display(Markdown(\"_No se encontraron materias específicas._\"))\n",
    "else:\n",
    "    display(df_materias)"
   ]
  },
  {
   "cell_type": "code",
   "execution_count": 15,
   "id": "bf8e5057",
   "metadata": {},
   "outputs": [
    {
     "data": {
      "text/markdown": [
       "--- \n",
       "## 🛤️ Histórico de Tramitación"
      ],
      "text/plain": [
       "<IPython.core.display.Markdown object>"
      ]
     },
     "metadata": {},
     "output_type": "display_data"
    },
    {
     "data": {
      "application/vnd.microsoft.datawrangler.viewer.v0+json": {
       "columns": [
        {
         "name": "index",
         "rawType": "int64",
         "type": "integer"
        },
        {
         "name": "fecha_tramite",
         "rawType": "object",
         "type": "string"
        },
        {
         "name": "descripcion",
         "rawType": "object",
         "type": "string"
        },
        {
         "name": "etapa_especifica",
         "rawType": "object",
         "type": "string"
        },
        {
         "name": "camara",
         "rawType": "object",
         "type": "string"
        }
       ],
       "ref": "0eb88a10-d0ef-4715-bb59-b4ab0b0ab522",
       "rows": [
        [
         "0",
         "1999-12-14",
         "Ingreso de proyecto .",
         "Primer trámite constitucional",
         "C.Diputados"
        ],
        [
         "1",
         "1999-12-14",
         "Cuenta de proyecto . Pasa a Comisión Especial sobre drogas",
         "Primer trámite constitucional",
         "C.Diputados"
        ],
        [
         "2",
         "1999-12-14",
         "Oficio Nº 2.662 a Corte Suprema. Remite proyecto para efectos de evacuar opinión solicitada",
         "Primer trámite constitucional",
         "C.Diputados"
        ],
        [
         "3",
         "2000-05-10",
         "S.E. el Pdte. de la Rep. remite indicaciones, se envían a la Com. Espec. de Drogas (Mensaje 403-441)",
         "Primer trámite constitucional",
         "C.Diputados"
        ],
        [
         "4",
         "2000-06-07",
         "S.E. el Pdte. de la Rep. remite indicaciones, se envían a la Com. Espec. de Drogas (Mensaje 60-342)",
         "Primer trámite constitucional",
         "C.Diputados"
        ],
        [
         "5",
         "2000-06-08",
         "Oficio Nº 2878 a la Corte Suprema. Pone en conocimiento la urgencia fijada al proyecto por el ejecutivo.",
         "Primer trámite constitucional",
         "C.Diputados"
        ],
        [
         "6",
         "2000-07-11",
         "Oficio Nº 2956 a la Corte Suprema. Pone en conocimiento la urgencia fijada al proyecto por el ejecutivo.",
         "Primer trámite constitucional",
         "C.Diputados"
        ],
        [
         "7",
         "2000-07-12",
         "Cuenta oficio 001198 de la Corte Suprema",
         "Primer trámite constitucional",
         "C.Diputados"
        ],
        [
         "8",
         "2000-07-17",
         "S.E. el Pdte. de la Rep. remite indicaciones, se envían a la Comisión especial de drogas (Mensaje 096-342)",
         "Primer trámite constitucional",
         "C.Diputados"
        ],
        [
         "9",
         "2000-08-29",
         "Cuenta del Mensaje 167-342 que hace presente la urgencia Simple",
         "Primer trámite constitucional",
         "C.Diputados"
        ],
        [
         "10",
         "2000-10-02",
         "S.E. el Pdte. de la Rep. remite indicaciones, se envían a la Comisión especial de drogas. (Mensaje 192-342)",
         "Primer trámite constitucional",
         "C.Diputados"
        ],
        [
         "11",
         "2001-03-12",
         "Primer informe de comisión Especial sobre Drogas. Pasa a Comisión de Hacienda",
         "Primer trámite constitucional",
         "C.Diputados"
        ],
        [
         "12",
         "2001-03-22",
         "Primer informe de comisión de Hacienda.",
         "Primer trámite constitucional",
         "C.Diputados"
        ],
        [
         "13",
         "2001-04-03",
         "Cuenta de primer informe de comisión .",
         "Primer trámite constitucional",
         "C.Diputados"
        ],
        [
         "14",
         "2001-04-18",
         "Cuenta del Mensaje 411-343 que hace presente la urgencia Simple",
         "Primer trámite constitucional",
         "C.Diputados"
        ],
        [
         "15",
         "2001-04-19",
         "Discusión general . Queda pendiente",
         "Primer trámite constitucional",
         "C.Diputados"
        ],
        [
         "16",
         "2001-04-19",
         "S.E. el Pdte. de la Rep. remite indicaciones, se agregan a los antecedentes (Mensaje 404-343)",
         "Primer trámite constitucional",
         "C.Diputados"
        ],
        [
         "17",
         "2001-05-02",
         "Discusión general . Queda pendiente",
         "Primer trámite constitucional",
         "C.Diputados"
        ],
        [
         "18",
         "2001-05-03",
         "Discusión general . Queda pendiente",
         "Primer trámite constitucional",
         "C.Diputados"
        ],
        [
         "19",
         "2001-05-08",
         "Discusión general . Aprobado en general",
         "Primer trámite constitucional",
         "C.Diputados"
        ],
        [
         "20",
         "2001-07-18",
         "Segundo informe de comisión Especial sobre Drogas. Pasa a Comisión de Constitución, Legislación y Justicia",
         "Primer trámite constitucional",
         "C.Diputados"
        ],
        [
         "21",
         "2001-09-04",
         "S.E. el Pdte. de la Rep. remite indicación, se envía a la Comisión de Constitución (Mensaje 189-344)",
         "Primer trámite constitucional",
         "C.Diputados"
        ],
        [
         "22",
         "2001-09-11",
         "Primer informe de comisión de Constitución, Legislación, Justicia y Reglamento.",
         "Primer trámite constitucional",
         "C.Diputados"
        ],
        [
         "23",
         "2001-10-04",
         "Segundo informe de comisión de Hacienda.",
         "Primer trámite constitucional",
         "C.Diputados"
        ],
        [
         "24",
         "2001-10-09",
         "Cuenta de segundo informe de comisión .",
         "Primer trámite constitucional",
         "C.Diputados"
        ],
        [
         "25",
         "2001-10-09",
         "Discusión particular . Queda pendiente",
         "Primer trámite constitucional",
         "C.Diputados"
        ],
        [
         "26",
         "2001-10-16",
         "Discusión particular . Queda pendiente",
         "Primer trámite constitucional",
         "C.Diputados"
        ],
        [
         "27",
         "2001-10-16",
         "Cuenta del Mensaje 58-345 que retira y hace presente la urgencia Suma",
         "Primer trámite constitucional",
         "C.Diputados"
        ],
        [
         "28",
         "2002-01-08",
         "Cuenta del Mensaje 174-345 que hace presente la urgencia Simple",
         "Primer trámite constitucional",
         "C.Diputados"
        ],
        [
         "29",
         "2002-01-22",
         "Discusión particular . Aprobado",
         "Primer trámite constitucional",
         "C.Diputados"
        ],
        [
         "30",
         "2002-01-24",
         "Oficio de ley a Cámara Revisora .",
         "Primer trámite constitucional",
         "C.Diputados"
        ],
        [
         "31",
         "2002-03-05",
         "Cuenta de proyecto . Pasa a Comisión de Constitución, Legislación, Justicia y Reglamento",
         "Segundo trámite constitucional",
         "Senado"
        ],
        [
         "32",
         "2002-03-13",
         "Se incluye en convocatoria a Legislatura Extraordinaria 346",
         "Segundo trámite constitucional",
         "Senado"
        ],
        [
         "33",
         "2002-04-02",
         "Cuenta oficio 384 de la Corte Suprema",
         "Segundo trámite constitucional",
         "Senado"
        ],
        [
         "34",
         "2003-04-15",
         "Cuenta oficio HH. senadores señores Aburto, Chadwick, Espina, Moreno y Silva, solicitan a la Sala se autorice a la Comisión para que el proyecto, en su primer informe, lo sea en general y en particular.",
         "Segundo trámite constitucional",
         "Senado"
        ],
        [
         "35",
         "2003-12-02",
         "Primer informe de comisión de Constitución, Legislación, Justicia y Reglamento.",
         "Segundo trámite constitucional",
         "Senado"
        ],
        [
         "36",
         "2003-12-02",
         "Cuenta de primer informe de comisión .",
         "Segundo trámite constitucional",
         "Senado"
        ],
        [
         "37",
         "2003-12-03",
         "Discusión general .  Queda para segunda discusión",
         "Segundo trámite constitucional",
         "Senado"
        ],
        [
         "38",
         "2003-12-09",
         "Discusión general . Aprobado en general",
         "Segundo trámite constitucional",
         "Senado"
        ],
        [
         "39",
         "2004-01-12",
         "Boletín de indicaciones .",
         "Segundo trámite constitucional",
         "Senado"
        ],
        [
         "40",
         "2004-05-11",
         "Segundo informe de comisión de Constitución, Legislación, Justicia y Reglamento. Pasa a Comisión de Hacienda",
         "Segundo trámite constitucional",
         "Senado"
        ],
        [
         "41",
         "2004-07-06",
         "La Sala acuerda, a petición de la Comisión de Constitución, reenviar este proyecto a la Comisión de Constitución, una vez que sea conocido por la Comisión de Hacienda.",
         "Segundo trámite constitucional",
         "Senado"
        ],
        [
         "42",
         "2004-07-07",
         "Segundo informe de comisión de Hacienda. Pasa a Comisión de Constitución, Legislación, Justicia y Reglamento",
         "Segundo trámite constitucional",
         "Senado"
        ],
        [
         "43",
         "2004-08-03",
         "Segundo informe complementario de Constitución, Legislación, Justicia y Reglamento.",
         "Segundo trámite constitucional",
         "Senado"
        ],
        [
         "44",
         "2004-08-10",
         "Cuenta segundo informe complementario .  Cuenta del Segundo informe de la Comisión de Constitución, Legislación, Justicia y Reglamento, informe de la Comisión de Hacienda e informe complementario del segundo informe de la Comisión de Constitución, Legislación, Justicia y Reglamento.",
         "Segundo trámite constitucional",
         "Senado"
        ],
        [
         "45",
         "2004-08-11",
         "Discusión particular . Queda pendiente Se acordó dejarlo pendiente para la sesión del martes próximo.",
         "Segundo trámite constitucional",
         "Senado"
        ],
        [
         "46",
         "2004-08-17",
         "Discusión particular . Aprobado con modificaciones",
         "Segundo trámite constitucional",
         "Senado"
        ],
        [
         "47",
         "2004-08-17",
         "Cuenta del Mensaje 281-351 que retira y hace presente la urgencia Simple",
         "Segundo trámite constitucional",
         "Senado"
        ],
        [
         "48",
         "2004-08-18",
         "Oficio modificaciones a Cámara de Origen .",
         "Segundo trámite constitucional",
         "Senado"
        ],
        [
         "49",
         "2004-08-19",
         "Cuenta oficio con modificaciones de Cámara Revisora . Pasa a Comisión Especial sobre Drogas",
         "Tercer trámite constitucional",
         "C.Diputados"
        ]
       ],
       "shape": {
        "columns": 4,
        "rows": 76
       }
      },
      "text/html": [
       "<div>\n",
       "<style scoped>\n",
       "    .dataframe tbody tr th:only-of-type {\n",
       "        vertical-align: middle;\n",
       "    }\n",
       "\n",
       "    .dataframe tbody tr th {\n",
       "        vertical-align: top;\n",
       "    }\n",
       "\n",
       "    .dataframe thead th {\n",
       "        text-align: right;\n",
       "    }\n",
       "</style>\n",
       "<table border=\"1\" class=\"dataframe\">\n",
       "  <thead>\n",
       "    <tr style=\"text-align: right;\">\n",
       "      <th></th>\n",
       "      <th>fecha_tramite</th>\n",
       "      <th>descripcion</th>\n",
       "      <th>etapa_especifica</th>\n",
       "      <th>camara</th>\n",
       "    </tr>\n",
       "  </thead>\n",
       "  <tbody>\n",
       "    <tr>\n",
       "      <th>0</th>\n",
       "      <td>1999-12-14</td>\n",
       "      <td>Ingreso de proyecto .</td>\n",
       "      <td>Primer trámite constitucional</td>\n",
       "      <td>C.Diputados</td>\n",
       "    </tr>\n",
       "    <tr>\n",
       "      <th>1</th>\n",
       "      <td>1999-12-14</td>\n",
       "      <td>Cuenta de proyecto . Pasa a Comisión Especial ...</td>\n",
       "      <td>Primer trámite constitucional</td>\n",
       "      <td>C.Diputados</td>\n",
       "    </tr>\n",
       "    <tr>\n",
       "      <th>2</th>\n",
       "      <td>1999-12-14</td>\n",
       "      <td>Oficio Nº 2.662 a Corte Suprema. Remite proyec...</td>\n",
       "      <td>Primer trámite constitucional</td>\n",
       "      <td>C.Diputados</td>\n",
       "    </tr>\n",
       "    <tr>\n",
       "      <th>3</th>\n",
       "      <td>2000-05-10</td>\n",
       "      <td>S.E. el Pdte. de la Rep. remite indicaciones, ...</td>\n",
       "      <td>Primer trámite constitucional</td>\n",
       "      <td>C.Diputados</td>\n",
       "    </tr>\n",
       "    <tr>\n",
       "      <th>4</th>\n",
       "      <td>2000-06-07</td>\n",
       "      <td>S.E. el Pdte. de la Rep. remite indicaciones, ...</td>\n",
       "      <td>Primer trámite constitucional</td>\n",
       "      <td>C.Diputados</td>\n",
       "    </tr>\n",
       "    <tr>\n",
       "      <th>5</th>\n",
       "      <td>2000-06-08</td>\n",
       "      <td>Oficio Nº 2878 a la Corte Suprema. Pone en con...</td>\n",
       "      <td>Primer trámite constitucional</td>\n",
       "      <td>C.Diputados</td>\n",
       "    </tr>\n",
       "    <tr>\n",
       "      <th>6</th>\n",
       "      <td>2000-07-11</td>\n",
       "      <td>Oficio Nº 2956 a la Corte Suprema. Pone en con...</td>\n",
       "      <td>Primer trámite constitucional</td>\n",
       "      <td>C.Diputados</td>\n",
       "    </tr>\n",
       "    <tr>\n",
       "      <th>7</th>\n",
       "      <td>2000-07-12</td>\n",
       "      <td>Cuenta oficio 001198 de la Corte Suprema</td>\n",
       "      <td>Primer trámite constitucional</td>\n",
       "      <td>C.Diputados</td>\n",
       "    </tr>\n",
       "    <tr>\n",
       "      <th>8</th>\n",
       "      <td>2000-07-17</td>\n",
       "      <td>S.E. el Pdte. de la Rep. remite indicaciones, ...</td>\n",
       "      <td>Primer trámite constitucional</td>\n",
       "      <td>C.Diputados</td>\n",
       "    </tr>\n",
       "    <tr>\n",
       "      <th>9</th>\n",
       "      <td>2000-08-29</td>\n",
       "      <td>Cuenta del Mensaje 167-342 que hace presente l...</td>\n",
       "      <td>Primer trámite constitucional</td>\n",
       "      <td>C.Diputados</td>\n",
       "    </tr>\n",
       "    <tr>\n",
       "      <th>10</th>\n",
       "      <td>2000-10-02</td>\n",
       "      <td>S.E. el Pdte. de la Rep. remite indicaciones, ...</td>\n",
       "      <td>Primer trámite constitucional</td>\n",
       "      <td>C.Diputados</td>\n",
       "    </tr>\n",
       "    <tr>\n",
       "      <th>11</th>\n",
       "      <td>2001-03-12</td>\n",
       "      <td>Primer informe de comisión Especial sobre Drog...</td>\n",
       "      <td>Primer trámite constitucional</td>\n",
       "      <td>C.Diputados</td>\n",
       "    </tr>\n",
       "    <tr>\n",
       "      <th>12</th>\n",
       "      <td>2001-03-22</td>\n",
       "      <td>Primer informe de comisión de Hacienda.</td>\n",
       "      <td>Primer trámite constitucional</td>\n",
       "      <td>C.Diputados</td>\n",
       "    </tr>\n",
       "    <tr>\n",
       "      <th>13</th>\n",
       "      <td>2001-04-03</td>\n",
       "      <td>Cuenta de primer informe de comisión .</td>\n",
       "      <td>Primer trámite constitucional</td>\n",
       "      <td>C.Diputados</td>\n",
       "    </tr>\n",
       "    <tr>\n",
       "      <th>14</th>\n",
       "      <td>2001-04-18</td>\n",
       "      <td>Cuenta del Mensaje 411-343 que hace presente l...</td>\n",
       "      <td>Primer trámite constitucional</td>\n",
       "      <td>C.Diputados</td>\n",
       "    </tr>\n",
       "    <tr>\n",
       "      <th>15</th>\n",
       "      <td>2001-04-19</td>\n",
       "      <td>Discusión general . Queda pendiente</td>\n",
       "      <td>Primer trámite constitucional</td>\n",
       "      <td>C.Diputados</td>\n",
       "    </tr>\n",
       "    <tr>\n",
       "      <th>16</th>\n",
       "      <td>2001-04-19</td>\n",
       "      <td>S.E. el Pdte. de la Rep. remite indicaciones, ...</td>\n",
       "      <td>Primer trámite constitucional</td>\n",
       "      <td>C.Diputados</td>\n",
       "    </tr>\n",
       "    <tr>\n",
       "      <th>17</th>\n",
       "      <td>2001-05-02</td>\n",
       "      <td>Discusión general . Queda pendiente</td>\n",
       "      <td>Primer trámite constitucional</td>\n",
       "      <td>C.Diputados</td>\n",
       "    </tr>\n",
       "    <tr>\n",
       "      <th>18</th>\n",
       "      <td>2001-05-03</td>\n",
       "      <td>Discusión general . Queda pendiente</td>\n",
       "      <td>Primer trámite constitucional</td>\n",
       "      <td>C.Diputados</td>\n",
       "    </tr>\n",
       "    <tr>\n",
       "      <th>19</th>\n",
       "      <td>2001-05-08</td>\n",
       "      <td>Discusión general . Aprobado en general</td>\n",
       "      <td>Primer trámite constitucional</td>\n",
       "      <td>C.Diputados</td>\n",
       "    </tr>\n",
       "    <tr>\n",
       "      <th>20</th>\n",
       "      <td>2001-07-18</td>\n",
       "      <td>Segundo informe de comisión Especial sobre Dro...</td>\n",
       "      <td>Primer trámite constitucional</td>\n",
       "      <td>C.Diputados</td>\n",
       "    </tr>\n",
       "    <tr>\n",
       "      <th>21</th>\n",
       "      <td>2001-09-04</td>\n",
       "      <td>S.E. el Pdte. de la Rep. remite indicación, se...</td>\n",
       "      <td>Primer trámite constitucional</td>\n",
       "      <td>C.Diputados</td>\n",
       "    </tr>\n",
       "    <tr>\n",
       "      <th>22</th>\n",
       "      <td>2001-09-11</td>\n",
       "      <td>Primer informe de comisión de Constitución, Le...</td>\n",
       "      <td>Primer trámite constitucional</td>\n",
       "      <td>C.Diputados</td>\n",
       "    </tr>\n",
       "    <tr>\n",
       "      <th>23</th>\n",
       "      <td>2001-10-04</td>\n",
       "      <td>Segundo informe de comisión de Hacienda.</td>\n",
       "      <td>Primer trámite constitucional</td>\n",
       "      <td>C.Diputados</td>\n",
       "    </tr>\n",
       "    <tr>\n",
       "      <th>24</th>\n",
       "      <td>2001-10-09</td>\n",
       "      <td>Cuenta de segundo informe de comisión .</td>\n",
       "      <td>Primer trámite constitucional</td>\n",
       "      <td>C.Diputados</td>\n",
       "    </tr>\n",
       "    <tr>\n",
       "      <th>25</th>\n",
       "      <td>2001-10-09</td>\n",
       "      <td>Discusión particular . Queda pendiente</td>\n",
       "      <td>Primer trámite constitucional</td>\n",
       "      <td>C.Diputados</td>\n",
       "    </tr>\n",
       "    <tr>\n",
       "      <th>26</th>\n",
       "      <td>2001-10-16</td>\n",
       "      <td>Discusión particular . Queda pendiente</td>\n",
       "      <td>Primer trámite constitucional</td>\n",
       "      <td>C.Diputados</td>\n",
       "    </tr>\n",
       "    <tr>\n",
       "      <th>27</th>\n",
       "      <td>2001-10-16</td>\n",
       "      <td>Cuenta del Mensaje 58-345 que retira y hace pr...</td>\n",
       "      <td>Primer trámite constitucional</td>\n",
       "      <td>C.Diputados</td>\n",
       "    </tr>\n",
       "    <tr>\n",
       "      <th>28</th>\n",
       "      <td>2002-01-08</td>\n",
       "      <td>Cuenta del Mensaje 174-345 que hace presente l...</td>\n",
       "      <td>Primer trámite constitucional</td>\n",
       "      <td>C.Diputados</td>\n",
       "    </tr>\n",
       "    <tr>\n",
       "      <th>29</th>\n",
       "      <td>2002-01-22</td>\n",
       "      <td>Discusión particular . Aprobado</td>\n",
       "      <td>Primer trámite constitucional</td>\n",
       "      <td>C.Diputados</td>\n",
       "    </tr>\n",
       "    <tr>\n",
       "      <th>30</th>\n",
       "      <td>2002-01-24</td>\n",
       "      <td>Oficio de ley a Cámara Revisora .</td>\n",
       "      <td>Primer trámite constitucional</td>\n",
       "      <td>C.Diputados</td>\n",
       "    </tr>\n",
       "    <tr>\n",
       "      <th>31</th>\n",
       "      <td>2002-03-05</td>\n",
       "      <td>Cuenta de proyecto . Pasa a Comisión de Consti...</td>\n",
       "      <td>Segundo trámite constitucional</td>\n",
       "      <td>Senado</td>\n",
       "    </tr>\n",
       "    <tr>\n",
       "      <th>32</th>\n",
       "      <td>2002-03-13</td>\n",
       "      <td>Se incluye en convocatoria a Legislatura Extra...</td>\n",
       "      <td>Segundo trámite constitucional</td>\n",
       "      <td>Senado</td>\n",
       "    </tr>\n",
       "    <tr>\n",
       "      <th>33</th>\n",
       "      <td>2002-04-02</td>\n",
       "      <td>Cuenta oficio 384 de la Corte Suprema</td>\n",
       "      <td>Segundo trámite constitucional</td>\n",
       "      <td>Senado</td>\n",
       "    </tr>\n",
       "    <tr>\n",
       "      <th>34</th>\n",
       "      <td>2003-04-15</td>\n",
       "      <td>Cuenta oficio HH. senadores señores Aburto, Ch...</td>\n",
       "      <td>Segundo trámite constitucional</td>\n",
       "      <td>Senado</td>\n",
       "    </tr>\n",
       "    <tr>\n",
       "      <th>35</th>\n",
       "      <td>2003-12-02</td>\n",
       "      <td>Primer informe de comisión de Constitución, Le...</td>\n",
       "      <td>Segundo trámite constitucional</td>\n",
       "      <td>Senado</td>\n",
       "    </tr>\n",
       "    <tr>\n",
       "      <th>36</th>\n",
       "      <td>2003-12-02</td>\n",
       "      <td>Cuenta de primer informe de comisión .</td>\n",
       "      <td>Segundo trámite constitucional</td>\n",
       "      <td>Senado</td>\n",
       "    </tr>\n",
       "    <tr>\n",
       "      <th>37</th>\n",
       "      <td>2003-12-03</td>\n",
       "      <td>Discusión general .  Queda para segunda discusión</td>\n",
       "      <td>Segundo trámite constitucional</td>\n",
       "      <td>Senado</td>\n",
       "    </tr>\n",
       "    <tr>\n",
       "      <th>38</th>\n",
       "      <td>2003-12-09</td>\n",
       "      <td>Discusión general . Aprobado en general</td>\n",
       "      <td>Segundo trámite constitucional</td>\n",
       "      <td>Senado</td>\n",
       "    </tr>\n",
       "    <tr>\n",
       "      <th>39</th>\n",
       "      <td>2004-01-12</td>\n",
       "      <td>Boletín de indicaciones .</td>\n",
       "      <td>Segundo trámite constitucional</td>\n",
       "      <td>Senado</td>\n",
       "    </tr>\n",
       "    <tr>\n",
       "      <th>40</th>\n",
       "      <td>2004-05-11</td>\n",
       "      <td>Segundo informe de comisión de Constitución, L...</td>\n",
       "      <td>Segundo trámite constitucional</td>\n",
       "      <td>Senado</td>\n",
       "    </tr>\n",
       "    <tr>\n",
       "      <th>41</th>\n",
       "      <td>2004-07-06</td>\n",
       "      <td>La Sala acuerda, a petición de la Comisión de ...</td>\n",
       "      <td>Segundo trámite constitucional</td>\n",
       "      <td>Senado</td>\n",
       "    </tr>\n",
       "    <tr>\n",
       "      <th>42</th>\n",
       "      <td>2004-07-07</td>\n",
       "      <td>Segundo informe de comisión de Hacienda. Pasa ...</td>\n",
       "      <td>Segundo trámite constitucional</td>\n",
       "      <td>Senado</td>\n",
       "    </tr>\n",
       "    <tr>\n",
       "      <th>43</th>\n",
       "      <td>2004-08-03</td>\n",
       "      <td>Segundo informe complementario de Constitución...</td>\n",
       "      <td>Segundo trámite constitucional</td>\n",
       "      <td>Senado</td>\n",
       "    </tr>\n",
       "    <tr>\n",
       "      <th>44</th>\n",
       "      <td>2004-08-10</td>\n",
       "      <td>Cuenta segundo informe complementario .  Cuent...</td>\n",
       "      <td>Segundo trámite constitucional</td>\n",
       "      <td>Senado</td>\n",
       "    </tr>\n",
       "    <tr>\n",
       "      <th>45</th>\n",
       "      <td>2004-08-11</td>\n",
       "      <td>Discusión particular . Queda pendiente Se acor...</td>\n",
       "      <td>Segundo trámite constitucional</td>\n",
       "      <td>Senado</td>\n",
       "    </tr>\n",
       "    <tr>\n",
       "      <th>46</th>\n",
       "      <td>2004-08-17</td>\n",
       "      <td>Discusión particular . Aprobado con modificaci...</td>\n",
       "      <td>Segundo trámite constitucional</td>\n",
       "      <td>Senado</td>\n",
       "    </tr>\n",
       "    <tr>\n",
       "      <th>47</th>\n",
       "      <td>2004-08-17</td>\n",
       "      <td>Cuenta del Mensaje 281-351 que retira y hace p...</td>\n",
       "      <td>Segundo trámite constitucional</td>\n",
       "      <td>Senado</td>\n",
       "    </tr>\n",
       "    <tr>\n",
       "      <th>48</th>\n",
       "      <td>2004-08-18</td>\n",
       "      <td>Oficio modificaciones a Cámara de Origen .</td>\n",
       "      <td>Segundo trámite constitucional</td>\n",
       "      <td>Senado</td>\n",
       "    </tr>\n",
       "    <tr>\n",
       "      <th>49</th>\n",
       "      <td>2004-08-19</td>\n",
       "      <td>Cuenta oficio con modificaciones de Cámara Rev...</td>\n",
       "      <td>Tercer trámite constitucional</td>\n",
       "      <td>C.Diputados</td>\n",
       "    </tr>\n",
       "    <tr>\n",
       "      <th>50</th>\n",
       "      <td>2004-09-15</td>\n",
       "      <td>Informe de comisión Especial sobre Drogas.</td>\n",
       "      <td>Tercer trámite constitucional</td>\n",
       "      <td>C.Diputados</td>\n",
       "    </tr>\n",
       "    <tr>\n",
       "      <th>51</th>\n",
       "      <td>2004-10-05</td>\n",
       "      <td>Cuenta informe de comisión .</td>\n",
       "      <td>Tercer trámite constitucional</td>\n",
       "      <td>C.Diputados</td>\n",
       "    </tr>\n",
       "    <tr>\n",
       "      <th>52</th>\n",
       "      <td>2004-10-05</td>\n",
       "      <td>Cuenta del Mensaje 26-352 que hace presente la...</td>\n",
       "      <td>Tercer trámite constitucional</td>\n",
       "      <td>C.Diputados</td>\n",
       "    </tr>\n",
       "    <tr>\n",
       "      <th>53</th>\n",
       "      <td>2004-10-05</td>\n",
       "      <td>Discusión única . Rechazadas las modificaciones</td>\n",
       "      <td>Tercer trámite constitucional</td>\n",
       "      <td>C.Diputados</td>\n",
       "    </tr>\n",
       "    <tr>\n",
       "      <th>54</th>\n",
       "      <td>2004-10-05</td>\n",
       "      <td>Oficio rechazo modificaciones a Cámara Revisor...</td>\n",
       "      <td>Tercer trámite constitucional</td>\n",
       "      <td>C.Diputados</td>\n",
       "    </tr>\n",
       "    <tr>\n",
       "      <th>55</th>\n",
       "      <td>2004-10-06</td>\n",
       "      <td>Cuenta oficio rechazo a modificaciones .</td>\n",
       "      <td>Comisión Mixta por rechazo de modificaciones</td>\n",
       "      <td>Senado</td>\n",
       "    </tr>\n",
       "    <tr>\n",
       "      <th>56</th>\n",
       "      <td>2004-10-06</td>\n",
       "      <td>Oficio integrantes de Comisión Mixta .</td>\n",
       "      <td>Comisión Mixta por rechazo de modificaciones</td>\n",
       "      <td>C.Diputados</td>\n",
       "    </tr>\n",
       "    <tr>\n",
       "      <th>57</th>\n",
       "      <td>2004-10-07</td>\n",
       "      <td>Cuenta en Cámara de Diputados de Oficio del Se...</td>\n",
       "      <td>Comisión Mixta por rechazo de modificaciones</td>\n",
       "      <td>C.Diputados</td>\n",
       "    </tr>\n",
       "    <tr>\n",
       "      <th>58</th>\n",
       "      <td>2004-10-19</td>\n",
       "      <td>Cuenta del Mensaje 73-352 que retira y hace pr...</td>\n",
       "      <td>Comisión Mixta por rechazo de modificaciones</td>\n",
       "      <td>Senado</td>\n",
       "    </tr>\n",
       "    <tr>\n",
       "      <th>59</th>\n",
       "      <td>2004-10-19</td>\n",
       "      <td>Oficio NºL/181/04. Oficio al Presidente del Se...</td>\n",
       "      <td>Comisión Mixta por rechazo de modificaciones</td>\n",
       "      <td>Senado</td>\n",
       "    </tr>\n",
       "    <tr>\n",
       "      <th>60</th>\n",
       "      <td>2004-11-02</td>\n",
       "      <td>Informe de Comisión Mixta Comisión Mixta para ...</td>\n",
       "      <td>Comisión Mixta por rechazo de modificaciones</td>\n",
       "      <td>Senado</td>\n",
       "    </tr>\n",
       "    <tr>\n",
       "      <th>61</th>\n",
       "      <td>2004-11-03</td>\n",
       "      <td>Cuenta informe Comisión Mixta .</td>\n",
       "      <td>Disc. informe C.Mixta por rechazo de modific. ...</td>\n",
       "      <td>C.Diputados</td>\n",
       "    </tr>\n",
       "    <tr>\n",
       "      <th>62</th>\n",
       "      <td>2004-11-03</td>\n",
       "      <td>Cuenta del Mensaje 101-352 que retira y hace p...</td>\n",
       "      <td>Disc. informe C.Mixta por rechazo de modific. ...</td>\n",
       "      <td>C.Diputados</td>\n",
       "    </tr>\n",
       "    <tr>\n",
       "      <th>63</th>\n",
       "      <td>2004-11-09</td>\n",
       "      <td>Discusión informe de Comisión Mixta . Aprobado</td>\n",
       "      <td>Disc. informe C.Mixta por rechazo de modific. ...</td>\n",
       "      <td>C.Diputados</td>\n",
       "    </tr>\n",
       "    <tr>\n",
       "      <th>64</th>\n",
       "      <td>2004-11-09</td>\n",
       "      <td>Cuenta del Mensaje 125-3452 que retira y hace ...</td>\n",
       "      <td>Disc. informe C.Mixta por rechazo de modific. ...</td>\n",
       "      <td>C.Diputados</td>\n",
       "    </tr>\n",
       "    <tr>\n",
       "      <th>65</th>\n",
       "      <td>2004-11-09</td>\n",
       "      <td>Oficio aprobación de informe de Comisión Mixta...</td>\n",
       "      <td>Disc. informe C.Mixta por rechazo de modific. ...</td>\n",
       "      <td>C.Diputados</td>\n",
       "    </tr>\n",
       "    <tr>\n",
       "      <th>66</th>\n",
       "      <td>2004-11-09</td>\n",
       "      <td>Cuenta oficio aprobación de informe de Comisió...</td>\n",
       "      <td>Disc. informe C.Mixta por rechazo de modif. C....</td>\n",
       "      <td>Senado</td>\n",
       "    </tr>\n",
       "    <tr>\n",
       "      <th>67</th>\n",
       "      <td>2004-11-16</td>\n",
       "      <td>Cuenta del Mensaje 155-352 que retira y hace p...</td>\n",
       "      <td>Disc. informe C.Mixta por rechazo de modif. C....</td>\n",
       "      <td>Senado</td>\n",
       "    </tr>\n",
       "    <tr>\n",
       "      <th>68</th>\n",
       "      <td>2004-11-17</td>\n",
       "      <td>Discusión informe de Comisión Mixta . Aprobado</td>\n",
       "      <td>Disc. informe C.Mixta por rechazo de modif. C....</td>\n",
       "      <td>Senado</td>\n",
       "    </tr>\n",
       "    <tr>\n",
       "      <th>69</th>\n",
       "      <td>2004-11-17</td>\n",
       "      <td>Oficio aprobación de informe de Comisión Mixta...</td>\n",
       "      <td>Disc. informe C.Mixta por rechazo de modif. C....</td>\n",
       "      <td>Senado</td>\n",
       "    </tr>\n",
       "    <tr>\n",
       "      <th>70</th>\n",
       "      <td>2004-11-30</td>\n",
       "      <td>Cuenta oficio aprobación de informe de Comisió...</td>\n",
       "      <td>Trámite finalización en Cámara de Origen</td>\n",
       "      <td>C.Diputados</td>\n",
       "    </tr>\n",
       "    <tr>\n",
       "      <th>71</th>\n",
       "      <td>2004-11-30</td>\n",
       "      <td>Oficio al Ejecutivo, comunica proyecto aprobad...</td>\n",
       "      <td>Trámite finalización en Cámara de Origen</td>\n",
       "      <td>C.Diputados</td>\n",
       "    </tr>\n",
       "    <tr>\n",
       "      <th>72</th>\n",
       "      <td>2005-01-04</td>\n",
       "      <td>Cuenta Oficio S.E. el Presidente de la Repúbli...</td>\n",
       "      <td>Trámite de aprobacion presidencial</td>\n",
       "      <td>C.Diputados</td>\n",
       "    </tr>\n",
       "    <tr>\n",
       "      <th>73</th>\n",
       "      <td>2005-01-04</td>\n",
       "      <td>Oficio al Tribunal Constitucional .</td>\n",
       "      <td>Trámite en Tribunal Constitucional</td>\n",
       "      <td>C.Diputados</td>\n",
       "    </tr>\n",
       "    <tr>\n",
       "      <th>74</th>\n",
       "      <td>2005-01-27</td>\n",
       "      <td>Oficio de ley al Ejecutivo .</td>\n",
       "      <td>Trámite finalización en Cámara de Origen</td>\n",
       "      <td>C.Diputados</td>\n",
       "    </tr>\n",
       "    <tr>\n",
       "      <th>75</th>\n",
       "      <td>2005-03-02</td>\n",
       "      <td>Cuenta oficio Nº 2186 del Tribunal Constitucional</td>\n",
       "      <td>Trámite en Tribunal Constitucional</td>\n",
       "      <td>C.Diputados</td>\n",
       "    </tr>\n",
       "  </tbody>\n",
       "</table>\n",
       "</div>"
      ],
      "text/plain": [
       "   fecha_tramite                                        descripcion  \\\n",
       "0     1999-12-14                              Ingreso de proyecto .   \n",
       "1     1999-12-14  Cuenta de proyecto . Pasa a Comisión Especial ...   \n",
       "2     1999-12-14  Oficio Nº 2.662 a Corte Suprema. Remite proyec...   \n",
       "3     2000-05-10  S.E. el Pdte. de la Rep. remite indicaciones, ...   \n",
       "4     2000-06-07  S.E. el Pdte. de la Rep. remite indicaciones, ...   \n",
       "5     2000-06-08  Oficio Nº 2878 a la Corte Suprema. Pone en con...   \n",
       "6     2000-07-11  Oficio Nº 2956 a la Corte Suprema. Pone en con...   \n",
       "7     2000-07-12           Cuenta oficio 001198 de la Corte Suprema   \n",
       "8     2000-07-17  S.E. el Pdte. de la Rep. remite indicaciones, ...   \n",
       "9     2000-08-29  Cuenta del Mensaje 167-342 que hace presente l...   \n",
       "10    2000-10-02  S.E. el Pdte. de la Rep. remite indicaciones, ...   \n",
       "11    2001-03-12  Primer informe de comisión Especial sobre Drog...   \n",
       "12    2001-03-22            Primer informe de comisión de Hacienda.   \n",
       "13    2001-04-03             Cuenta de primer informe de comisión .   \n",
       "14    2001-04-18  Cuenta del Mensaje 411-343 que hace presente l...   \n",
       "15    2001-04-19                Discusión general . Queda pendiente   \n",
       "16    2001-04-19  S.E. el Pdte. de la Rep. remite indicaciones, ...   \n",
       "17    2001-05-02                Discusión general . Queda pendiente   \n",
       "18    2001-05-03                Discusión general . Queda pendiente   \n",
       "19    2001-05-08            Discusión general . Aprobado en general   \n",
       "20    2001-07-18  Segundo informe de comisión Especial sobre Dro...   \n",
       "21    2001-09-04  S.E. el Pdte. de la Rep. remite indicación, se...   \n",
       "22    2001-09-11  Primer informe de comisión de Constitución, Le...   \n",
       "23    2001-10-04           Segundo informe de comisión de Hacienda.   \n",
       "24    2001-10-09            Cuenta de segundo informe de comisión .   \n",
       "25    2001-10-09             Discusión particular . Queda pendiente   \n",
       "26    2001-10-16             Discusión particular . Queda pendiente   \n",
       "27    2001-10-16  Cuenta del Mensaje 58-345 que retira y hace pr...   \n",
       "28    2002-01-08  Cuenta del Mensaje 174-345 que hace presente l...   \n",
       "29    2002-01-22                    Discusión particular . Aprobado   \n",
       "30    2002-01-24                  Oficio de ley a Cámara Revisora .   \n",
       "31    2002-03-05  Cuenta de proyecto . Pasa a Comisión de Consti...   \n",
       "32    2002-03-13  Se incluye en convocatoria a Legislatura Extra...   \n",
       "33    2002-04-02              Cuenta oficio 384 de la Corte Suprema   \n",
       "34    2003-04-15  Cuenta oficio HH. senadores señores Aburto, Ch...   \n",
       "35    2003-12-02  Primer informe de comisión de Constitución, Le...   \n",
       "36    2003-12-02             Cuenta de primer informe de comisión .   \n",
       "37    2003-12-03  Discusión general .  Queda para segunda discusión   \n",
       "38    2003-12-09            Discusión general . Aprobado en general   \n",
       "39    2004-01-12                          Boletín de indicaciones .   \n",
       "40    2004-05-11  Segundo informe de comisión de Constitución, L...   \n",
       "41    2004-07-06  La Sala acuerda, a petición de la Comisión de ...   \n",
       "42    2004-07-07  Segundo informe de comisión de Hacienda. Pasa ...   \n",
       "43    2004-08-03  Segundo informe complementario de Constitución...   \n",
       "44    2004-08-10  Cuenta segundo informe complementario .  Cuent...   \n",
       "45    2004-08-11  Discusión particular . Queda pendiente Se acor...   \n",
       "46    2004-08-17  Discusión particular . Aprobado con modificaci...   \n",
       "47    2004-08-17  Cuenta del Mensaje 281-351 que retira y hace p...   \n",
       "48    2004-08-18         Oficio modificaciones a Cámara de Origen .   \n",
       "49    2004-08-19  Cuenta oficio con modificaciones de Cámara Rev...   \n",
       "50    2004-09-15         Informe de comisión Especial sobre Drogas.   \n",
       "51    2004-10-05                       Cuenta informe de comisión .   \n",
       "52    2004-10-05  Cuenta del Mensaje 26-352 que hace presente la...   \n",
       "53    2004-10-05    Discusión única . Rechazadas las modificaciones   \n",
       "54    2004-10-05  Oficio rechazo modificaciones a Cámara Revisor...   \n",
       "55    2004-10-06           Cuenta oficio rechazo a modificaciones .   \n",
       "56    2004-10-06             Oficio integrantes de Comisión Mixta .   \n",
       "57    2004-10-07  Cuenta en Cámara de Diputados de Oficio del Se...   \n",
       "58    2004-10-19  Cuenta del Mensaje 73-352 que retira y hace pr...   \n",
       "59    2004-10-19  Oficio NºL/181/04. Oficio al Presidente del Se...   \n",
       "60    2004-11-02  Informe de Comisión Mixta Comisión Mixta para ...   \n",
       "61    2004-11-03                    Cuenta informe Comisión Mixta .   \n",
       "62    2004-11-03  Cuenta del Mensaje 101-352 que retira y hace p...   \n",
       "63    2004-11-09     Discusión informe de Comisión Mixta . Aprobado   \n",
       "64    2004-11-09  Cuenta del Mensaje 125-3452 que retira y hace ...   \n",
       "65    2004-11-09  Oficio aprobación de informe de Comisión Mixta...   \n",
       "66    2004-11-09  Cuenta oficio aprobación de informe de Comisió...   \n",
       "67    2004-11-16  Cuenta del Mensaje 155-352 que retira y hace p...   \n",
       "68    2004-11-17     Discusión informe de Comisión Mixta . Aprobado   \n",
       "69    2004-11-17  Oficio aprobación de informe de Comisión Mixta...   \n",
       "70    2004-11-30  Cuenta oficio aprobación de informe de Comisió...   \n",
       "71    2004-11-30  Oficio al Ejecutivo, comunica proyecto aprobad...   \n",
       "72    2005-01-04  Cuenta Oficio S.E. el Presidente de la Repúbli...   \n",
       "73    2005-01-04                Oficio al Tribunal Constitucional .   \n",
       "74    2005-01-27                       Oficio de ley al Ejecutivo .   \n",
       "75    2005-03-02  Cuenta oficio Nº 2186 del Tribunal Constitucional   \n",
       "\n",
       "                                     etapa_especifica       camara  \n",
       "0                       Primer trámite constitucional  C.Diputados  \n",
       "1                       Primer trámite constitucional  C.Diputados  \n",
       "2                       Primer trámite constitucional  C.Diputados  \n",
       "3                       Primer trámite constitucional  C.Diputados  \n",
       "4                       Primer trámite constitucional  C.Diputados  \n",
       "5                       Primer trámite constitucional  C.Diputados  \n",
       "6                       Primer trámite constitucional  C.Diputados  \n",
       "7                       Primer trámite constitucional  C.Diputados  \n",
       "8                       Primer trámite constitucional  C.Diputados  \n",
       "9                       Primer trámite constitucional  C.Diputados  \n",
       "10                      Primer trámite constitucional  C.Diputados  \n",
       "11                      Primer trámite constitucional  C.Diputados  \n",
       "12                      Primer trámite constitucional  C.Diputados  \n",
       "13                      Primer trámite constitucional  C.Diputados  \n",
       "14                      Primer trámite constitucional  C.Diputados  \n",
       "15                      Primer trámite constitucional  C.Diputados  \n",
       "16                      Primer trámite constitucional  C.Diputados  \n",
       "17                      Primer trámite constitucional  C.Diputados  \n",
       "18                      Primer trámite constitucional  C.Diputados  \n",
       "19                      Primer trámite constitucional  C.Diputados  \n",
       "20                      Primer trámite constitucional  C.Diputados  \n",
       "21                      Primer trámite constitucional  C.Diputados  \n",
       "22                      Primer trámite constitucional  C.Diputados  \n",
       "23                      Primer trámite constitucional  C.Diputados  \n",
       "24                      Primer trámite constitucional  C.Diputados  \n",
       "25                      Primer trámite constitucional  C.Diputados  \n",
       "26                      Primer trámite constitucional  C.Diputados  \n",
       "27                      Primer trámite constitucional  C.Diputados  \n",
       "28                      Primer trámite constitucional  C.Diputados  \n",
       "29                      Primer trámite constitucional  C.Diputados  \n",
       "30                      Primer trámite constitucional  C.Diputados  \n",
       "31                     Segundo trámite constitucional       Senado  \n",
       "32                     Segundo trámite constitucional       Senado  \n",
       "33                     Segundo trámite constitucional       Senado  \n",
       "34                     Segundo trámite constitucional       Senado  \n",
       "35                     Segundo trámite constitucional       Senado  \n",
       "36                     Segundo trámite constitucional       Senado  \n",
       "37                     Segundo trámite constitucional       Senado  \n",
       "38                     Segundo trámite constitucional       Senado  \n",
       "39                     Segundo trámite constitucional       Senado  \n",
       "40                     Segundo trámite constitucional       Senado  \n",
       "41                     Segundo trámite constitucional       Senado  \n",
       "42                     Segundo trámite constitucional       Senado  \n",
       "43                     Segundo trámite constitucional       Senado  \n",
       "44                     Segundo trámite constitucional       Senado  \n",
       "45                     Segundo trámite constitucional       Senado  \n",
       "46                     Segundo trámite constitucional       Senado  \n",
       "47                     Segundo trámite constitucional       Senado  \n",
       "48                     Segundo trámite constitucional       Senado  \n",
       "49                      Tercer trámite constitucional  C.Diputados  \n",
       "50                      Tercer trámite constitucional  C.Diputados  \n",
       "51                      Tercer trámite constitucional  C.Diputados  \n",
       "52                      Tercer trámite constitucional  C.Diputados  \n",
       "53                      Tercer trámite constitucional  C.Diputados  \n",
       "54                      Tercer trámite constitucional  C.Diputados  \n",
       "55       Comisión Mixta por rechazo de modificaciones       Senado  \n",
       "56       Comisión Mixta por rechazo de modificaciones  C.Diputados  \n",
       "57       Comisión Mixta por rechazo de modificaciones  C.Diputados  \n",
       "58       Comisión Mixta por rechazo de modificaciones       Senado  \n",
       "59       Comisión Mixta por rechazo de modificaciones       Senado  \n",
       "60       Comisión Mixta por rechazo de modificaciones       Senado  \n",
       "61  Disc. informe C.Mixta por rechazo de modific. ...  C.Diputados  \n",
       "62  Disc. informe C.Mixta por rechazo de modific. ...  C.Diputados  \n",
       "63  Disc. informe C.Mixta por rechazo de modific. ...  C.Diputados  \n",
       "64  Disc. informe C.Mixta por rechazo de modific. ...  C.Diputados  \n",
       "65  Disc. informe C.Mixta por rechazo de modific. ...  C.Diputados  \n",
       "66  Disc. informe C.Mixta por rechazo de modif. C....       Senado  \n",
       "67  Disc. informe C.Mixta por rechazo de modif. C....       Senado  \n",
       "68  Disc. informe C.Mixta por rechazo de modif. C....       Senado  \n",
       "69  Disc. informe C.Mixta por rechazo de modif. C....       Senado  \n",
       "70           Trámite finalización en Cámara de Origen  C.Diputados  \n",
       "71           Trámite finalización en Cámara de Origen  C.Diputados  \n",
       "72                 Trámite de aprobacion presidencial  C.Diputados  \n",
       "73                 Trámite en Tribunal Constitucional  C.Diputados  \n",
       "74           Trámite finalización en Cámara de Origen  C.Diputados  \n",
       "75                 Trámite en Tribunal Constitucional  C.Diputados  "
      ]
     },
     "metadata": {},
     "output_type": "display_data"
    }
   ],
   "source": [
    "display(Markdown(\"--- \\n## 🛤️ Histórico de Tramitación\"))\n",
    "bill_id = bill_id_widget.value\n",
    "\n",
    "tramites_query = \"\"\"\n",
    "    SELECT fecha_tramite, descripcion, etapa_especifica, camara\n",
    "    FROM bill_tramites\n",
    "    WHERE bill_id = ?\n",
    "    ORDER BY fecha_tramite ASC\n",
    "\"\"\"\n",
    "df_tramites = pd.read_sql_query(tramites_query, conn, params=(bill_id,))\n",
    "\n",
    "if df_tramites.empty:\n",
    "    display(Markdown(\"_No se encontró historial de trámites._\"))\n",
    "else:\n",
    "    display(df_tramites)"
   ]
  },
  {
   "cell_type": "code",
   "execution_count": 16,
   "id": "20831cd2",
   "metadata": {},
   "outputs": [
    {
     "data": {
      "text/markdown": [
       "--- \n",
       "## 🔗 Fuentes de Datos (URLs)"
      ],
      "text/plain": [
       "<IPython.core.display.Markdown object>"
      ]
     },
     "metadata": {},
     "output_type": "display_data"
    },
    {
     "data": {
      "application/vnd.microsoft.datawrangler.viewer.v0+json": {
       "columns": [
        {
         "name": "index",
         "rawType": "int64",
         "type": "integer"
        },
        {
         "name": "source_name",
         "rawType": "object",
         "type": "string"
        },
        {
         "name": "url",
         "rawType": "object",
         "type": "string"
        }
       ],
       "ref": "3f72b39e-bd2e-4508-b85b-55a76a45c873",
       "rows": [
        [
         "0",
         "senado_boletin",
         "https://tramitacion.senado.cl/wspublico/tramitacion.php?boletin=2439"
        ],
        [
         "1",
         "camara_boletin",
         "https://opendata.camara.cl/camaradiputados/WServices/WSLegislativo.asmx/retornarProyectoLey?prmNumeroBoletin=2439-20"
        ],
        [
         "2",
         "bcn_proyecto",
         "https://datos.bcn.cl/recurso/cl/proyecto-de-ley/2439-20/datos.json"
        ]
       ],
       "shape": {
        "columns": 2,
        "rows": 3
       }
      },
      "text/html": [
       "<div>\n",
       "<style scoped>\n",
       "    .dataframe tbody tr th:only-of-type {\n",
       "        vertical-align: middle;\n",
       "    }\n",
       "\n",
       "    .dataframe tbody tr th {\n",
       "        vertical-align: top;\n",
       "    }\n",
       "\n",
       "    .dataframe thead th {\n",
       "        text-align: right;\n",
       "    }\n",
       "</style>\n",
       "<table border=\"1\" class=\"dataframe\">\n",
       "  <thead>\n",
       "    <tr style=\"text-align: right;\">\n",
       "      <th></th>\n",
       "      <th>source_name</th>\n",
       "      <th>url</th>\n",
       "    </tr>\n",
       "  </thead>\n",
       "  <tbody>\n",
       "    <tr>\n",
       "      <th>0</th>\n",
       "      <td>senado_boletin</td>\n",
       "      <td>https://tramitacion.senado.cl/wspublico/tramit...</td>\n",
       "    </tr>\n",
       "    <tr>\n",
       "      <th>1</th>\n",
       "      <td>camara_boletin</td>\n",
       "      <td>https://opendata.camara.cl/camaradiputados/WSe...</td>\n",
       "    </tr>\n",
       "    <tr>\n",
       "      <th>2</th>\n",
       "      <td>bcn_proyecto</td>\n",
       "      <td>https://datos.bcn.cl/recurso/cl/proyecto-de-le...</td>\n",
       "    </tr>\n",
       "  </tbody>\n",
       "</table>\n",
       "</div>"
      ],
      "text/plain": [
       "      source_name                                                url\n",
       "0  senado_boletin  https://tramitacion.senado.cl/wspublico/tramit...\n",
       "1  camara_boletin  https://opendata.camara.cl/camaradiputados/WSe...\n",
       "2    bcn_proyecto  https://datos.bcn.cl/recurso/cl/proyecto-de-le..."
      ]
     },
     "metadata": {},
     "output_type": "display_data"
    }
   ],
   "source": [
    "display(Markdown(\"--- \\n## 🔗 Fuentes de Datos (URLs)\"))\n",
    "bill_id = bill_id_widget.value\n",
    "\n",
    "sources_query = \"\"\"\n",
    "    SELECT source_name, url\n",
    "    FROM entity_sources\n",
    "    WHERE entity_id = ? AND entity_type = 'bill'\n",
    "\"\"\"\n",
    "df_sources = pd.read_sql_query(sources_query, conn, params=(bill_id,))\n",
    "\n",
    "if df_sources.empty:\n",
    "    display(Markdown(\"_No se encontraron URLs de origen para este boletín._\"))\n",
    "else:\n",
    "    display(df_sources)"
   ]
  }
 ],
 "metadata": {
  "kernelspec": {
   "display_name": "Python 3",
   "language": "python",
   "name": "python3"
  },
  "language_info": {
   "codemirror_mode": {
    "name": "ipython",
    "version": 3
   },
   "file_extension": ".py",
   "mimetype": "text/x-python",
   "name": "python",
   "nbconvert_exporter": "python",
   "pygments_lexer": "ipython3",
   "version": "3.12.5"
  }
 },
 "nbformat": 4,
 "nbformat_minor": 5
}
