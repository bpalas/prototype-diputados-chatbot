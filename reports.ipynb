{
 "cells": [
  {
   "cell_type": "code",
   "execution_count": null,
   "id": "3437cf3b",
   "metadata": {},
   "outputs": [],
   "source": []
  },
  {
   "cell_type": "code",
   "execution_count": 2,
   "id": "7ecb0096",
   "metadata": {},
   "outputs": [
    {
     "data": {
      "text/markdown": [
       "# 📊 Resumen de la Base de Datos: `data/database/parlamento.db`"
      ],
      "text/plain": [
       "<IPython.core.display.Markdown object>"
      ]
     },
     "metadata": {},
     "output_type": "display_data"
    },
    {
     "data": {
      "text/markdown": [
       "Mostrando las primeras **5 filas** de cada tabla."
      ],
      "text/plain": [
       "<IPython.core.display.Markdown object>"
      ]
     },
     "metadata": {},
     "output_type": "display_data"
    },
    {
     "data": {
      "text/markdown": [
       "--- \n",
       "### 🏛️ Tabla: `dim_parlamentario`"
      ],
      "text/plain": [
       "<IPython.core.display.Markdown object>"
      ]
     },
     "metadata": {},
     "output_type": "display_data"
    },
    {
     "data": {
      "application/vnd.microsoft.datawrangler.viewer.v0+json": {
       "columns": [
        {
         "name": "index",
         "rawType": "int64",
         "type": "integer"
        },
        {
         "name": "mp_uid",
         "rawType": "int64",
         "type": "integer"
        },
        {
         "name": "nombre_completo",
         "rawType": "object",
         "type": "string"
        },
        {
         "name": "nombre_propio",
         "rawType": "object",
         "type": "string"
        },
        {
         "name": "apellido_paterno",
         "rawType": "object",
         "type": "string"
        },
        {
         "name": "apellido_materno",
         "rawType": "object",
         "type": "string"
        },
        {
         "name": "genero",
         "rawType": "object",
         "type": "string"
        },
        {
         "name": "fecha_nacimiento",
         "rawType": "object",
         "type": "string"
        },
        {
         "name": "lugar_nacimiento",
         "rawType": "object",
         "type": "string"
        },
        {
         "name": "diputadoid",
         "rawType": "object",
         "type": "string"
        },
        {
         "name": "bcn_uri",
         "rawType": "object",
         "type": "string"
        },
        {
         "name": "url_foto",
         "rawType": "object",
         "type": "string"
        },
        {
         "name": "twitter_handle",
         "rawType": "object",
         "type": "unknown"
        },
        {
         "name": "sitio_web_personal",
         "rawType": "object",
         "type": "unknown"
        },
        {
         "name": "profesion",
         "rawType": "object",
         "type": "unknown"
        },
        {
         "name": "url_historia_politica",
         "rawType": "object",
         "type": "string"
        },
        {
         "name": "fecha_extraccion",
         "rawType": "object",
         "type": "string"
        }
       ],
       "ref": "0c3a5220-a182-40cc-a3d0-16cc20c4e6bc",
       "rows": [
        [
         "0",
         "1",
         "María Candelaria Acevedo Sáez",
         "María Candelaria",
         "Acevedo",
         "Sáez",
         "Femenino",
         "1958-09-12",
         "Coronel",
         "1096",
         "http://datos.bcn.cl/recurso/persona/5247",
         "https://www.bcn.cl/laborparlamentaria/imagen/110x110/5247.jpg",
         null,
         null,
         null,
         "https://www.bcn.cl/historiapolitica/resenas_parlamentarias/wiki/María_Candelaria_Acevedo_Sáez",
         "2025-08-18"
        ],
        [
         "1",
         "2",
         "Eric Aedo Jeldres",
         "Eric Mariano",
         "Aedo",
         "Jeldres",
         "Masculino",
         "1968-07-13",
         "Los Ángeles",
         "1097",
         "http://datos.bcn.cl/recurso/persona/5253",
         "https://www.bcn.cl/laborparlamentaria/imagen/110x110/5253.jpg",
         null,
         null,
         "Administrador de Programas Sociales",
         "https://www.bcn.cl/historiapolitica/resenas_parlamentarias/wiki/Eric_Aedo_Jeldres",
         "2025-08-18"
        ],
        [
         "2",
         "3",
         "Yovana Ahumada Palma",
         "Yovana Alejandra",
         "Ahumada",
         "Palma",
         "Femenino",
         "1973-12-24",
         "Antofagasta",
         "1098",
         "http://datos.bcn.cl/recurso/persona/5188",
         "https://www.bcn.cl/laborparlamentaria/imagen/110x110/5188.jpg",
         "yovyaftap2",
         null,
         "Técnica agropecuaria",
         "https://www.bcn.cl/historiapolitica/resenas_parlamentarias/wiki/Yovana_Ahumada_Palma",
         "2025-08-18"
        ],
        [
         "3",
         "4",
         "Jorge Alessandri Vergara",
         "Jorge Iván",
         "Alessandri",
         "Vergara",
         "Masculino",
         "1979-06-08",
         "Santiago de Chile",
         "1009",
         "http://datos.bcn.cl/recurso/persona/4604",
         "https://www.bcn.cl/laborparlamentaria/imagen/110x110/4604.jpg",
         "jalessandri",
         null,
         "Abogado",
         "https://www.bcn.cl/historiapolitica/resenas_parlamentarias/wiki/Jorge_Iván_Alessandri_Vergara",
         "2025-08-18"
        ],
        [
         "4",
         "5",
         "René Alinco Bustos",
         "René",
         "Alinco",
         "Bustos",
         "Masculino",
         "1958-06-02",
         "",
         "803",
         "http://datos.bcn.cl/recurso/persona/135",
         "https://www.bcn.cl/laborparlamentaria/imagen/110x110/135.jpg",
         "alinco_rene",
         null,
         "Obrero de la Construcción",
         "https://www.bcn.cl/historiapolitica/resenas_parlamentarias/wiki/René_Alinco_Bustos",
         "2025-08-18"
        ]
       ],
       "shape": {
        "columns": 16,
        "rows": 5
       }
      },
      "text/html": [
       "<div>\n",
       "<style scoped>\n",
       "    .dataframe tbody tr th:only-of-type {\n",
       "        vertical-align: middle;\n",
       "    }\n",
       "\n",
       "    .dataframe tbody tr th {\n",
       "        vertical-align: top;\n",
       "    }\n",
       "\n",
       "    .dataframe thead th {\n",
       "        text-align: right;\n",
       "    }\n",
       "</style>\n",
       "<table border=\"1\" class=\"dataframe\">\n",
       "  <thead>\n",
       "    <tr style=\"text-align: right;\">\n",
       "      <th></th>\n",
       "      <th>mp_uid</th>\n",
       "      <th>nombre_completo</th>\n",
       "      <th>nombre_propio</th>\n",
       "      <th>apellido_paterno</th>\n",
       "      <th>apellido_materno</th>\n",
       "      <th>genero</th>\n",
       "      <th>fecha_nacimiento</th>\n",
       "      <th>lugar_nacimiento</th>\n",
       "      <th>diputadoid</th>\n",
       "      <th>bcn_uri</th>\n",
       "      <th>url_foto</th>\n",
       "      <th>twitter_handle</th>\n",
       "      <th>sitio_web_personal</th>\n",
       "      <th>profesion</th>\n",
       "      <th>url_historia_politica</th>\n",
       "      <th>fecha_extraccion</th>\n",
       "    </tr>\n",
       "  </thead>\n",
       "  <tbody>\n",
       "    <tr>\n",
       "      <th>0</th>\n",
       "      <td>1</td>\n",
       "      <td>María Candelaria Acevedo Sáez</td>\n",
       "      <td>María Candelaria</td>\n",
       "      <td>Acevedo</td>\n",
       "      <td>Sáez</td>\n",
       "      <td>Femenino</td>\n",
       "      <td>1958-09-12</td>\n",
       "      <td>Coronel</td>\n",
       "      <td>1096</td>\n",
       "      <td>http://datos.bcn.cl/recurso/persona/5247</td>\n",
       "      <td>https://www.bcn.cl/laborparlamentaria/imagen/1...</td>\n",
       "      <td>None</td>\n",
       "      <td>None</td>\n",
       "      <td>None</td>\n",
       "      <td>https://www.bcn.cl/historiapolitica/resenas_pa...</td>\n",
       "      <td>2025-08-18</td>\n",
       "    </tr>\n",
       "    <tr>\n",
       "      <th>1</th>\n",
       "      <td>2</td>\n",
       "      <td>Eric Aedo Jeldres</td>\n",
       "      <td>Eric Mariano</td>\n",
       "      <td>Aedo</td>\n",
       "      <td>Jeldres</td>\n",
       "      <td>Masculino</td>\n",
       "      <td>1968-07-13</td>\n",
       "      <td>Los Ángeles</td>\n",
       "      <td>1097</td>\n",
       "      <td>http://datos.bcn.cl/recurso/persona/5253</td>\n",
       "      <td>https://www.bcn.cl/laborparlamentaria/imagen/1...</td>\n",
       "      <td>None</td>\n",
       "      <td>None</td>\n",
       "      <td>Administrador de Programas Sociales</td>\n",
       "      <td>https://www.bcn.cl/historiapolitica/resenas_pa...</td>\n",
       "      <td>2025-08-18</td>\n",
       "    </tr>\n",
       "    <tr>\n",
       "      <th>2</th>\n",
       "      <td>3</td>\n",
       "      <td>Yovana Ahumada Palma</td>\n",
       "      <td>Yovana Alejandra</td>\n",
       "      <td>Ahumada</td>\n",
       "      <td>Palma</td>\n",
       "      <td>Femenino</td>\n",
       "      <td>1973-12-24</td>\n",
       "      <td>Antofagasta</td>\n",
       "      <td>1098</td>\n",
       "      <td>http://datos.bcn.cl/recurso/persona/5188</td>\n",
       "      <td>https://www.bcn.cl/laborparlamentaria/imagen/1...</td>\n",
       "      <td>yovyaftap2</td>\n",
       "      <td>None</td>\n",
       "      <td>Técnica agropecuaria</td>\n",
       "      <td>https://www.bcn.cl/historiapolitica/resenas_pa...</td>\n",
       "      <td>2025-08-18</td>\n",
       "    </tr>\n",
       "    <tr>\n",
       "      <th>3</th>\n",
       "      <td>4</td>\n",
       "      <td>Jorge Alessandri Vergara</td>\n",
       "      <td>Jorge Iván</td>\n",
       "      <td>Alessandri</td>\n",
       "      <td>Vergara</td>\n",
       "      <td>Masculino</td>\n",
       "      <td>1979-06-08</td>\n",
       "      <td>Santiago de Chile</td>\n",
       "      <td>1009</td>\n",
       "      <td>http://datos.bcn.cl/recurso/persona/4604</td>\n",
       "      <td>https://www.bcn.cl/laborparlamentaria/imagen/1...</td>\n",
       "      <td>jalessandri</td>\n",
       "      <td>None</td>\n",
       "      <td>Abogado</td>\n",
       "      <td>https://www.bcn.cl/historiapolitica/resenas_pa...</td>\n",
       "      <td>2025-08-18</td>\n",
       "    </tr>\n",
       "    <tr>\n",
       "      <th>4</th>\n",
       "      <td>5</td>\n",
       "      <td>René Alinco Bustos</td>\n",
       "      <td>René</td>\n",
       "      <td>Alinco</td>\n",
       "      <td>Bustos</td>\n",
       "      <td>Masculino</td>\n",
       "      <td>1958-06-02</td>\n",
       "      <td></td>\n",
       "      <td>803</td>\n",
       "      <td>http://datos.bcn.cl/recurso/persona/135</td>\n",
       "      <td>https://www.bcn.cl/laborparlamentaria/imagen/1...</td>\n",
       "      <td>alinco_rene</td>\n",
       "      <td>None</td>\n",
       "      <td>Obrero de la Construcción</td>\n",
       "      <td>https://www.bcn.cl/historiapolitica/resenas_pa...</td>\n",
       "      <td>2025-08-18</td>\n",
       "    </tr>\n",
       "  </tbody>\n",
       "</table>\n",
       "</div>"
      ],
      "text/plain": [
       "   mp_uid                nombre_completo     nombre_propio apellido_paterno  \\\n",
       "0       1  María Candelaria Acevedo Sáez  María Candelaria          Acevedo   \n",
       "1       2              Eric Aedo Jeldres      Eric Mariano             Aedo   \n",
       "2       3           Yovana Ahumada Palma  Yovana Alejandra          Ahumada   \n",
       "3       4       Jorge Alessandri Vergara        Jorge Iván       Alessandri   \n",
       "4       5             René Alinco Bustos              René           Alinco   \n",
       "\n",
       "  apellido_materno     genero fecha_nacimiento   lugar_nacimiento diputadoid  \\\n",
       "0             Sáez   Femenino       1958-09-12            Coronel       1096   \n",
       "1          Jeldres  Masculino       1968-07-13        Los Ángeles       1097   \n",
       "2            Palma   Femenino       1973-12-24        Antofagasta       1098   \n",
       "3          Vergara  Masculino       1979-06-08  Santiago de Chile       1009   \n",
       "4           Bustos  Masculino       1958-06-02                           803   \n",
       "\n",
       "                                    bcn_uri  \\\n",
       "0  http://datos.bcn.cl/recurso/persona/5247   \n",
       "1  http://datos.bcn.cl/recurso/persona/5253   \n",
       "2  http://datos.bcn.cl/recurso/persona/5188   \n",
       "3  http://datos.bcn.cl/recurso/persona/4604   \n",
       "4   http://datos.bcn.cl/recurso/persona/135   \n",
       "\n",
       "                                            url_foto twitter_handle  \\\n",
       "0  https://www.bcn.cl/laborparlamentaria/imagen/1...           None   \n",
       "1  https://www.bcn.cl/laborparlamentaria/imagen/1...           None   \n",
       "2  https://www.bcn.cl/laborparlamentaria/imagen/1...     yovyaftap2   \n",
       "3  https://www.bcn.cl/laborparlamentaria/imagen/1...    jalessandri   \n",
       "4  https://www.bcn.cl/laborparlamentaria/imagen/1...    alinco_rene   \n",
       "\n",
       "  sitio_web_personal                            profesion  \\\n",
       "0               None                                 None   \n",
       "1               None  Administrador de Programas Sociales   \n",
       "2               None                 Técnica agropecuaria   \n",
       "3               None                              Abogado   \n",
       "4               None            Obrero de la Construcción   \n",
       "\n",
       "                               url_historia_politica fecha_extraccion  \n",
       "0  https://www.bcn.cl/historiapolitica/resenas_pa...       2025-08-18  \n",
       "1  https://www.bcn.cl/historiapolitica/resenas_pa...       2025-08-18  \n",
       "2  https://www.bcn.cl/historiapolitica/resenas_pa...       2025-08-18  \n",
       "3  https://www.bcn.cl/historiapolitica/resenas_pa...       2025-08-18  \n",
       "4  https://www.bcn.cl/historiapolitica/resenas_pa...       2025-08-18  "
      ]
     },
     "metadata": {},
     "output_type": "display_data"
    },
    {
     "data": {
      "text/markdown": [
       "--- \n",
       "### 🏛️ Tabla: `dim_periodo_legislativo`"
      ],
      "text/plain": [
       "<IPython.core.display.Markdown object>"
      ]
     },
     "metadata": {},
     "output_type": "display_data"
    },
    {
     "data": {
      "application/vnd.microsoft.datawrangler.viewer.v0+json": {
       "columns": [
        {
         "name": "index",
         "rawType": "int64",
         "type": "integer"
        },
        {
         "name": "periodo_id",
         "rawType": "int64",
         "type": "integer"
        },
        {
         "name": "nombre_periodo",
         "rawType": "object",
         "type": "string"
        },
        {
         "name": "fecha_inicio",
         "rawType": "object",
         "type": "string"
        },
        {
         "name": "fecha_termino",
         "rawType": "object",
         "type": "string"
        }
       ],
       "ref": "14ace0df-2327-42fa-9adf-efc3b3f25885",
       "rows": [
        [
         "0",
         "1",
         "1990-1994",
         "1990-03-11",
         "1994-03-10"
        ],
        [
         "1",
         "2",
         "1994-1998",
         "1994-03-11",
         "1998-03-10"
        ],
        [
         "2",
         "3",
         "1998-2002",
         "1998-03-11",
         "2002-03-10"
        ],
        [
         "3",
         "4",
         "2002-2006",
         "2002-03-11",
         "2006-03-10"
        ],
        [
         "4",
         "5",
         "2006-2010",
         "2006-03-11",
         "2010-03-10"
        ]
       ],
       "shape": {
        "columns": 4,
        "rows": 5
       }
      },
      "text/html": [
       "<div>\n",
       "<style scoped>\n",
       "    .dataframe tbody tr th:only-of-type {\n",
       "        vertical-align: middle;\n",
       "    }\n",
       "\n",
       "    .dataframe tbody tr th {\n",
       "        vertical-align: top;\n",
       "    }\n",
       "\n",
       "    .dataframe thead th {\n",
       "        text-align: right;\n",
       "    }\n",
       "</style>\n",
       "<table border=\"1\" class=\"dataframe\">\n",
       "  <thead>\n",
       "    <tr style=\"text-align: right;\">\n",
       "      <th></th>\n",
       "      <th>periodo_id</th>\n",
       "      <th>nombre_periodo</th>\n",
       "      <th>fecha_inicio</th>\n",
       "      <th>fecha_termino</th>\n",
       "    </tr>\n",
       "  </thead>\n",
       "  <tbody>\n",
       "    <tr>\n",
       "      <th>0</th>\n",
       "      <td>1</td>\n",
       "      <td>1990-1994</td>\n",
       "      <td>1990-03-11</td>\n",
       "      <td>1994-03-10</td>\n",
       "    </tr>\n",
       "    <tr>\n",
       "      <th>1</th>\n",
       "      <td>2</td>\n",
       "      <td>1994-1998</td>\n",
       "      <td>1994-03-11</td>\n",
       "      <td>1998-03-10</td>\n",
       "    </tr>\n",
       "    <tr>\n",
       "      <th>2</th>\n",
       "      <td>3</td>\n",
       "      <td>1998-2002</td>\n",
       "      <td>1998-03-11</td>\n",
       "      <td>2002-03-10</td>\n",
       "    </tr>\n",
       "    <tr>\n",
       "      <th>3</th>\n",
       "      <td>4</td>\n",
       "      <td>2002-2006</td>\n",
       "      <td>2002-03-11</td>\n",
       "      <td>2006-03-10</td>\n",
       "    </tr>\n",
       "    <tr>\n",
       "      <th>4</th>\n",
       "      <td>5</td>\n",
       "      <td>2006-2010</td>\n",
       "      <td>2006-03-11</td>\n",
       "      <td>2010-03-10</td>\n",
       "    </tr>\n",
       "  </tbody>\n",
       "</table>\n",
       "</div>"
      ],
      "text/plain": [
       "   periodo_id nombre_periodo fecha_inicio fecha_termino\n",
       "0           1      1990-1994   1990-03-11    1994-03-10\n",
       "1           2      1994-1998   1994-03-11    1998-03-10\n",
       "2           3      1998-2002   1998-03-11    2002-03-10\n",
       "3           4      2002-2006   2002-03-11    2006-03-10\n",
       "4           5      2006-2010   2006-03-11    2010-03-10"
      ]
     },
     "metadata": {},
     "output_type": "display_data"
    },
    {
     "data": {
      "text/markdown": [
       "--- \n",
       "### 🏛️ Tabla: `parlamentario_aliases`"
      ],
      "text/plain": [
       "<IPython.core.display.Markdown object>"
      ]
     },
     "metadata": {},
     "output_type": "display_data"
    },
    {
     "data": {
      "text/markdown": [
       "_Esta tabla está actualmente vacía._"
      ],
      "text/plain": [
       "<IPython.core.display.Markdown object>"
      ]
     },
     "metadata": {},
     "output_type": "display_data"
    },
    {
     "data": {
      "text/markdown": [
       "--- \n",
       "### 🏛️ Tabla: `dim_partidos`"
      ],
      "text/plain": [
       "<IPython.core.display.Markdown object>"
      ]
     },
     "metadata": {},
     "output_type": "display_data"
    },
    {
     "data": {
      "application/vnd.microsoft.datawrangler.viewer.v0+json": {
       "columns": [
        {
         "name": "index",
         "rawType": "int64",
         "type": "integer"
        },
        {
         "name": "partido_id",
         "rawType": "int64",
         "type": "integer"
        },
        {
         "name": "nombre_partido",
         "rawType": "object",
         "type": "string"
        },
        {
         "name": "nombre_alternativo",
         "rawType": "object",
         "type": "string"
        },
        {
         "name": "sigla",
         "rawType": "object",
         "type": "unknown"
        },
        {
         "name": "fecha_fundacion",
         "rawType": "object",
         "type": "string"
        },
        {
         "name": "sitio_web",
         "rawType": "object",
         "type": "unknown"
        },
        {
         "name": "url_historia_politica",
         "rawType": "object",
         "type": "string"
        },
        {
         "name": "url_logo",
         "rawType": "object",
         "type": "unknown"
        },
        {
         "name": "ultima_actualizacion",
         "rawType": "object",
         "type": "string"
        }
       ],
       "ref": "06dd7fe8-5fde-4cfa-9740-ed6a424186f6",
       "rows": [
        [
         "0",
         "1",
         "Coalición por el Cambio",
         "",
         null,
         "2009",
         null,
         "https://www.bcn.cl/historiapolitica/partidos_politicos/wiki/Coalición_por_el_Cambio",
         "https://www.bcn.cl/laborparlamentaria/imagen/partido102.jpg",
         "2019-03-29T11:14:07-03:00"
        ],
        [
         "1",
         "2",
         "Partido Radical",
         "",
         "PR",
         "1863",
         null,
         "https://www.bcn.cl/historiapolitica/partidos_politicos/wiki/Partido_Radical",
         null,
         "2019-03-29T11:14:07-03:00"
        ],
        [
         "2",
         "3",
         "Partido Amplio de Izquierda Socialista",
         "",
         null,
         "1988",
         null,
         "https://www.bcn.cl/historiapolitica/partidos_politicos/wiki/Partido_Amplio_de_Izquierda_Socialista",
         null,
         "2019-03-29T11:14:07-03:00"
        ],
        [
         "3",
         "4",
         "Unión Socialista Popular",
         "",
         null,
         "1967",
         null,
         "https://www.bcn.cl/historiapolitica/partidos_politicos/wiki/Unión_Socialista_Popular",
         null,
         "2019-03-29T11:14:07-03:00"
        ],
        [
         "4",
         "5",
         "Partido Agrario Laborista",
         "",
         null,
         "1945",
         null,
         "https://www.bcn.cl/historiapolitica/partidos_politicos/wiki/Partido_Agrario_Laborista",
         null,
         "2019-03-29T11:14:07-03:00"
        ]
       ],
       "shape": {
        "columns": 9,
        "rows": 5
       }
      },
      "text/html": [
       "<div>\n",
       "<style scoped>\n",
       "    .dataframe tbody tr th:only-of-type {\n",
       "        vertical-align: middle;\n",
       "    }\n",
       "\n",
       "    .dataframe tbody tr th {\n",
       "        vertical-align: top;\n",
       "    }\n",
       "\n",
       "    .dataframe thead th {\n",
       "        text-align: right;\n",
       "    }\n",
       "</style>\n",
       "<table border=\"1\" class=\"dataframe\">\n",
       "  <thead>\n",
       "    <tr style=\"text-align: right;\">\n",
       "      <th></th>\n",
       "      <th>partido_id</th>\n",
       "      <th>nombre_partido</th>\n",
       "      <th>nombre_alternativo</th>\n",
       "      <th>sigla</th>\n",
       "      <th>fecha_fundacion</th>\n",
       "      <th>sitio_web</th>\n",
       "      <th>url_historia_politica</th>\n",
       "      <th>url_logo</th>\n",
       "      <th>ultima_actualizacion</th>\n",
       "    </tr>\n",
       "  </thead>\n",
       "  <tbody>\n",
       "    <tr>\n",
       "      <th>0</th>\n",
       "      <td>1</td>\n",
       "      <td>Coalición por el Cambio</td>\n",
       "      <td></td>\n",
       "      <td>None</td>\n",
       "      <td>2009</td>\n",
       "      <td>None</td>\n",
       "      <td>https://www.bcn.cl/historiapolitica/partidos_p...</td>\n",
       "      <td>https://www.bcn.cl/laborparlamentaria/imagen/p...</td>\n",
       "      <td>2019-03-29T11:14:07-03:00</td>\n",
       "    </tr>\n",
       "    <tr>\n",
       "      <th>1</th>\n",
       "      <td>2</td>\n",
       "      <td>Partido Radical</td>\n",
       "      <td></td>\n",
       "      <td>PR</td>\n",
       "      <td>1863</td>\n",
       "      <td>None</td>\n",
       "      <td>https://www.bcn.cl/historiapolitica/partidos_p...</td>\n",
       "      <td>None</td>\n",
       "      <td>2019-03-29T11:14:07-03:00</td>\n",
       "    </tr>\n",
       "    <tr>\n",
       "      <th>2</th>\n",
       "      <td>3</td>\n",
       "      <td>Partido Amplio de Izquierda Socialista</td>\n",
       "      <td></td>\n",
       "      <td>None</td>\n",
       "      <td>1988</td>\n",
       "      <td>None</td>\n",
       "      <td>https://www.bcn.cl/historiapolitica/partidos_p...</td>\n",
       "      <td>None</td>\n",
       "      <td>2019-03-29T11:14:07-03:00</td>\n",
       "    </tr>\n",
       "    <tr>\n",
       "      <th>3</th>\n",
       "      <td>4</td>\n",
       "      <td>Unión Socialista Popular</td>\n",
       "      <td></td>\n",
       "      <td>None</td>\n",
       "      <td>1967</td>\n",
       "      <td>None</td>\n",
       "      <td>https://www.bcn.cl/historiapolitica/partidos_p...</td>\n",
       "      <td>None</td>\n",
       "      <td>2019-03-29T11:14:07-03:00</td>\n",
       "    </tr>\n",
       "    <tr>\n",
       "      <th>4</th>\n",
       "      <td>5</td>\n",
       "      <td>Partido Agrario Laborista</td>\n",
       "      <td></td>\n",
       "      <td>None</td>\n",
       "      <td>1945</td>\n",
       "      <td>None</td>\n",
       "      <td>https://www.bcn.cl/historiapolitica/partidos_p...</td>\n",
       "      <td>None</td>\n",
       "      <td>2019-03-29T11:14:07-03:00</td>\n",
       "    </tr>\n",
       "  </tbody>\n",
       "</table>\n",
       "</div>"
      ],
      "text/plain": [
       "   partido_id                          nombre_partido nombre_alternativo  \\\n",
       "0           1                 Coalición por el Cambio                      \n",
       "1           2                         Partido Radical                      \n",
       "2           3  Partido Amplio de Izquierda Socialista                      \n",
       "3           4                Unión Socialista Popular                      \n",
       "4           5               Partido Agrario Laborista                      \n",
       "\n",
       "  sigla fecha_fundacion sitio_web  \\\n",
       "0  None            2009      None   \n",
       "1    PR            1863      None   \n",
       "2  None            1988      None   \n",
       "3  None            1967      None   \n",
       "4  None            1945      None   \n",
       "\n",
       "                               url_historia_politica  \\\n",
       "0  https://www.bcn.cl/historiapolitica/partidos_p...   \n",
       "1  https://www.bcn.cl/historiapolitica/partidos_p...   \n",
       "2  https://www.bcn.cl/historiapolitica/partidos_p...   \n",
       "3  https://www.bcn.cl/historiapolitica/partidos_p...   \n",
       "4  https://www.bcn.cl/historiapolitica/partidos_p...   \n",
       "\n",
       "                                            url_logo  \\\n",
       "0  https://www.bcn.cl/laborparlamentaria/imagen/p...   \n",
       "1                                               None   \n",
       "2                                               None   \n",
       "3                                               None   \n",
       "4                                               None   \n",
       "\n",
       "        ultima_actualizacion  \n",
       "0  2019-03-29T11:14:07-03:00  \n",
       "1  2019-03-29T11:14:07-03:00  \n",
       "2  2019-03-29T11:14:07-03:00  \n",
       "3  2019-03-29T11:14:07-03:00  \n",
       "4  2019-03-29T11:14:07-03:00  "
      ]
     },
     "metadata": {},
     "output_type": "display_data"
    },
    {
     "data": {
      "text/markdown": [
       "--- \n",
       "### 🏛️ Tabla: `dim_coaliciones`"
      ],
      "text/plain": [
       "<IPython.core.display.Markdown object>"
      ]
     },
     "metadata": {},
     "output_type": "display_data"
    },
    {
     "data": {
      "text/markdown": [
       "_Esta tabla está actualmente vacía._"
      ],
      "text/plain": [
       "<IPython.core.display.Markdown object>"
      ]
     },
     "metadata": {},
     "output_type": "display_data"
    },
    {
     "data": {
      "text/markdown": [
       "--- \n",
       "### 🏛️ Tabla: `dim_comisiones`"
      ],
      "text/plain": [
       "<IPython.core.display.Markdown object>"
      ]
     },
     "metadata": {},
     "output_type": "display_data"
    },
    {
     "data": {
      "application/vnd.microsoft.datawrangler.viewer.v0+json": {
       "columns": [
        {
         "name": "index",
         "rawType": "int64",
         "type": "integer"
        },
        {
         "name": "comision_id",
         "rawType": "int64",
         "type": "integer"
        },
        {
         "name": "nombre_comision",
         "rawType": "object",
         "type": "string"
        },
        {
         "name": "tipo",
         "rawType": "object",
         "type": "string"
        }
       ],
       "ref": "61fa64b8-27ad-4760-a245-bbe9cac3ff99",
       "rows": [
        [
         "0",
         "401",
         "Constitución, Legislación, Justicia y Reglamento",
         "Permanente"
        ],
        [
         "1",
         "402",
         "Obras Públicas, Transportes y Telecomunicaciones",
         "Permanente"
        ],
        [
         "2",
         "403",
         "Futuro, Ciencias, Tecnología, Conocimiento e Innovación",
         "Permanente"
        ],
        [
         "3",
         "404",
         "De Derechos Humanos y Pueblos Originarios",
         "Permanente"
        ],
        [
         "4",
         "405",
         "Medio Ambiente y Recursos Naturales",
         "Permanente"
        ]
       ],
       "shape": {
        "columns": 3,
        "rows": 5
       }
      },
      "text/html": [
       "<div>\n",
       "<style scoped>\n",
       "    .dataframe tbody tr th:only-of-type {\n",
       "        vertical-align: middle;\n",
       "    }\n",
       "\n",
       "    .dataframe tbody tr th {\n",
       "        vertical-align: top;\n",
       "    }\n",
       "\n",
       "    .dataframe thead th {\n",
       "        text-align: right;\n",
       "    }\n",
       "</style>\n",
       "<table border=\"1\" class=\"dataframe\">\n",
       "  <thead>\n",
       "    <tr style=\"text-align: right;\">\n",
       "      <th></th>\n",
       "      <th>comision_id</th>\n",
       "      <th>nombre_comision</th>\n",
       "      <th>tipo</th>\n",
       "    </tr>\n",
       "  </thead>\n",
       "  <tbody>\n",
       "    <tr>\n",
       "      <th>0</th>\n",
       "      <td>401</td>\n",
       "      <td>Constitución, Legislación, Justicia y Reglamento</td>\n",
       "      <td>Permanente</td>\n",
       "    </tr>\n",
       "    <tr>\n",
       "      <th>1</th>\n",
       "      <td>402</td>\n",
       "      <td>Obras Públicas, Transportes y Telecomunicaciones</td>\n",
       "      <td>Permanente</td>\n",
       "    </tr>\n",
       "    <tr>\n",
       "      <th>2</th>\n",
       "      <td>403</td>\n",
       "      <td>Futuro, Ciencias, Tecnología, Conocimiento e I...</td>\n",
       "      <td>Permanente</td>\n",
       "    </tr>\n",
       "    <tr>\n",
       "      <th>3</th>\n",
       "      <td>404</td>\n",
       "      <td>De Derechos Humanos y Pueblos Originarios</td>\n",
       "      <td>Permanente</td>\n",
       "    </tr>\n",
       "    <tr>\n",
       "      <th>4</th>\n",
       "      <td>405</td>\n",
       "      <td>Medio Ambiente y Recursos Naturales</td>\n",
       "      <td>Permanente</td>\n",
       "    </tr>\n",
       "  </tbody>\n",
       "</table>\n",
       "</div>"
      ],
      "text/plain": [
       "   comision_id                                    nombre_comision        tipo\n",
       "0          401   Constitución, Legislación, Justicia y Reglamento  Permanente\n",
       "1          402   Obras Públicas, Transportes y Telecomunicaciones  Permanente\n",
       "2          403  Futuro, Ciencias, Tecnología, Conocimiento e I...  Permanente\n",
       "3          404          De Derechos Humanos y Pueblos Originarios  Permanente\n",
       "4          405                Medio Ambiente y Recursos Naturales  Permanente"
      ]
     },
     "metadata": {},
     "output_type": "display_data"
    },
    {
     "data": {
      "text/markdown": [
       "--- \n",
       "### 🏛️ Tabla: `dim_legislatura`"
      ],
      "text/plain": [
       "<IPython.core.display.Markdown object>"
      ]
     },
     "metadata": {},
     "output_type": "display_data"
    },
    {
     "data": {
      "application/vnd.microsoft.datawrangler.viewer.v0+json": {
       "columns": [
        {
         "name": "index",
         "rawType": "int64",
         "type": "integer"
        },
        {
         "name": "legislatura_id",
         "rawType": "int64",
         "type": "integer"
        },
        {
         "name": "numero",
         "rawType": "int64",
         "type": "integer"
        },
        {
         "name": "fecha_inicio",
         "rawType": "object",
         "type": "string"
        },
        {
         "name": "fecha_termino",
         "rawType": "object",
         "type": "string"
        },
        {
         "name": "tipo",
         "rawType": "object",
         "type": "string"
        }
       ],
       "ref": "48541186-5d11-4ea9-9697-b74ecab3dad3",
       "rows": [
        [
         "0",
         "3",
         "319",
         "1990-03-11",
         "1990-05-20",
         "Extraordinaria"
        ],
        [
         "1",
         "4",
         "320",
         "1990-05-21",
         "1990-09-17",
         "Ordinaria"
        ],
        [
         "2",
         "5",
         "321",
         "1990-09-18",
         "1991-05-20",
         "Extraordinaria"
        ],
        [
         "3",
         "6",
         "322",
         "1991-05-21",
         "1991-09-17",
         "Ordinaria"
        ],
        [
         "4",
         "7",
         "323",
         "1991-09-18",
         "1992-05-20",
         "Extraordinaria"
        ]
       ],
       "shape": {
        "columns": 5,
        "rows": 5
       }
      },
      "text/html": [
       "<div>\n",
       "<style scoped>\n",
       "    .dataframe tbody tr th:only-of-type {\n",
       "        vertical-align: middle;\n",
       "    }\n",
       "\n",
       "    .dataframe tbody tr th {\n",
       "        vertical-align: top;\n",
       "    }\n",
       "\n",
       "    .dataframe thead th {\n",
       "        text-align: right;\n",
       "    }\n",
       "</style>\n",
       "<table border=\"1\" class=\"dataframe\">\n",
       "  <thead>\n",
       "    <tr style=\"text-align: right;\">\n",
       "      <th></th>\n",
       "      <th>legislatura_id</th>\n",
       "      <th>numero</th>\n",
       "      <th>fecha_inicio</th>\n",
       "      <th>fecha_termino</th>\n",
       "      <th>tipo</th>\n",
       "    </tr>\n",
       "  </thead>\n",
       "  <tbody>\n",
       "    <tr>\n",
       "      <th>0</th>\n",
       "      <td>3</td>\n",
       "      <td>319</td>\n",
       "      <td>1990-03-11</td>\n",
       "      <td>1990-05-20</td>\n",
       "      <td>Extraordinaria</td>\n",
       "    </tr>\n",
       "    <tr>\n",
       "      <th>1</th>\n",
       "      <td>4</td>\n",
       "      <td>320</td>\n",
       "      <td>1990-05-21</td>\n",
       "      <td>1990-09-17</td>\n",
       "      <td>Ordinaria</td>\n",
       "    </tr>\n",
       "    <tr>\n",
       "      <th>2</th>\n",
       "      <td>5</td>\n",
       "      <td>321</td>\n",
       "      <td>1990-09-18</td>\n",
       "      <td>1991-05-20</td>\n",
       "      <td>Extraordinaria</td>\n",
       "    </tr>\n",
       "    <tr>\n",
       "      <th>3</th>\n",
       "      <td>6</td>\n",
       "      <td>322</td>\n",
       "      <td>1991-05-21</td>\n",
       "      <td>1991-09-17</td>\n",
       "      <td>Ordinaria</td>\n",
       "    </tr>\n",
       "    <tr>\n",
       "      <th>4</th>\n",
       "      <td>7</td>\n",
       "      <td>323</td>\n",
       "      <td>1991-09-18</td>\n",
       "      <td>1992-05-20</td>\n",
       "      <td>Extraordinaria</td>\n",
       "    </tr>\n",
       "  </tbody>\n",
       "</table>\n",
       "</div>"
      ],
      "text/plain": [
       "   legislatura_id  numero fecha_inicio fecha_termino            tipo\n",
       "0               3     319   1990-03-11    1990-05-20  Extraordinaria\n",
       "1               4     320   1990-05-21    1990-09-17       Ordinaria\n",
       "2               5     321   1990-09-18    1991-05-20  Extraordinaria\n",
       "3               6     322   1991-05-21    1991-09-17       Ordinaria\n",
       "4               7     323   1991-09-18    1992-05-20  Extraordinaria"
      ]
     },
     "metadata": {},
     "output_type": "display_data"
    },
    {
     "data": {
      "text/markdown": [
       "--- \n",
       "### 🏛️ Tabla: `parlamentario_mandatos`"
      ],
      "text/plain": [
       "<IPython.core.display.Markdown object>"
      ]
     },
     "metadata": {},
     "output_type": "display_data"
    },
    {
     "data": {
      "application/vnd.microsoft.datawrangler.viewer.v0+json": {
       "columns": [
        {
         "name": "index",
         "rawType": "int64",
         "type": "integer"
        },
        {
         "name": "mandato_id",
         "rawType": "int64",
         "type": "integer"
        },
        {
         "name": "mp_uid",
         "rawType": "int64",
         "type": "integer"
        },
        {
         "name": "cargo",
         "rawType": "object",
         "type": "string"
        },
        {
         "name": "distrito",
         "rawType": "object",
         "type": "unknown"
        },
        {
         "name": "partido_id_mandato",
         "rawType": "object",
         "type": "unknown"
        },
        {
         "name": "fecha_inicio",
         "rawType": "object",
         "type": "string"
        },
        {
         "name": "fecha_fin",
         "rawType": "object",
         "type": "unknown"
        }
       ],
       "ref": "d43058fa-49cb-4001-9637-5250ff9502fd",
       "rows": [
        [
         "0",
         "1",
         "1",
         "Diputado",
         null,
         null,
         "2026-03-10",
         null
        ],
        [
         "1",
         "2",
         "2",
         "Diputado",
         null,
         null,
         "2026-03-10",
         null
        ],
        [
         "2",
         "3",
         "3",
         "Diputado",
         null,
         null,
         "2026-03-10",
         null
        ],
        [
         "3",
         "4",
         "4",
         "Diputado",
         null,
         null,
         "2026-03-10",
         null
        ],
        [
         "4",
         "5",
         "5",
         "Diputado",
         null,
         null,
         "2026-03-10",
         null
        ]
       ],
       "shape": {
        "columns": 7,
        "rows": 5
       }
      },
      "text/html": [
       "<div>\n",
       "<style scoped>\n",
       "    .dataframe tbody tr th:only-of-type {\n",
       "        vertical-align: middle;\n",
       "    }\n",
       "\n",
       "    .dataframe tbody tr th {\n",
       "        vertical-align: top;\n",
       "    }\n",
       "\n",
       "    .dataframe thead th {\n",
       "        text-align: right;\n",
       "    }\n",
       "</style>\n",
       "<table border=\"1\" class=\"dataframe\">\n",
       "  <thead>\n",
       "    <tr style=\"text-align: right;\">\n",
       "      <th></th>\n",
       "      <th>mandato_id</th>\n",
       "      <th>mp_uid</th>\n",
       "      <th>cargo</th>\n",
       "      <th>distrito</th>\n",
       "      <th>partido_id_mandato</th>\n",
       "      <th>fecha_inicio</th>\n",
       "      <th>fecha_fin</th>\n",
       "    </tr>\n",
       "  </thead>\n",
       "  <tbody>\n",
       "    <tr>\n",
       "      <th>0</th>\n",
       "      <td>1</td>\n",
       "      <td>1</td>\n",
       "      <td>Diputado</td>\n",
       "      <td>None</td>\n",
       "      <td>None</td>\n",
       "      <td>2026-03-10</td>\n",
       "      <td>None</td>\n",
       "    </tr>\n",
       "    <tr>\n",
       "      <th>1</th>\n",
       "      <td>2</td>\n",
       "      <td>2</td>\n",
       "      <td>Diputado</td>\n",
       "      <td>None</td>\n",
       "      <td>None</td>\n",
       "      <td>2026-03-10</td>\n",
       "      <td>None</td>\n",
       "    </tr>\n",
       "    <tr>\n",
       "      <th>2</th>\n",
       "      <td>3</td>\n",
       "      <td>3</td>\n",
       "      <td>Diputado</td>\n",
       "      <td>None</td>\n",
       "      <td>None</td>\n",
       "      <td>2026-03-10</td>\n",
       "      <td>None</td>\n",
       "    </tr>\n",
       "    <tr>\n",
       "      <th>3</th>\n",
       "      <td>4</td>\n",
       "      <td>4</td>\n",
       "      <td>Diputado</td>\n",
       "      <td>None</td>\n",
       "      <td>None</td>\n",
       "      <td>2026-03-10</td>\n",
       "      <td>None</td>\n",
       "    </tr>\n",
       "    <tr>\n",
       "      <th>4</th>\n",
       "      <td>5</td>\n",
       "      <td>5</td>\n",
       "      <td>Diputado</td>\n",
       "      <td>None</td>\n",
       "      <td>None</td>\n",
       "      <td>2026-03-10</td>\n",
       "      <td>None</td>\n",
       "    </tr>\n",
       "  </tbody>\n",
       "</table>\n",
       "</div>"
      ],
      "text/plain": [
       "   mandato_id  mp_uid     cargo distrito partido_id_mandato fecha_inicio  \\\n",
       "0           1       1  Diputado     None               None   2026-03-10   \n",
       "1           2       2  Diputado     None               None   2026-03-10   \n",
       "2           3       3  Diputado     None               None   2026-03-10   \n",
       "3           4       4  Diputado     None               None   2026-03-10   \n",
       "4           5       5  Diputado     None               None   2026-03-10   \n",
       "\n",
       "  fecha_fin  \n",
       "0      None  \n",
       "1      None  \n",
       "2      None  \n",
       "3      None  \n",
       "4      None  "
      ]
     },
     "metadata": {},
     "output_type": "display_data"
    },
    {
     "data": {
      "text/markdown": [
       "--- \n",
       "### 🏛️ Tabla: `militancia_historial`"
      ],
      "text/plain": [
       "<IPython.core.display.Markdown object>"
      ]
     },
     "metadata": {},
     "output_type": "display_data"
    },
    {
     "data": {
      "application/vnd.microsoft.datawrangler.viewer.v0+json": {
       "columns": [
        {
         "name": "index",
         "rawType": "int64",
         "type": "integer"
        },
        {
         "name": "militancia_id",
         "rawType": "int64",
         "type": "integer"
        },
        {
         "name": "mp_uid",
         "rawType": "int64",
         "type": "integer"
        },
        {
         "name": "partido_id",
         "rawType": "int64",
         "type": "integer"
        },
        {
         "name": "fecha_inicio",
         "rawType": "object",
         "type": "string"
        },
        {
         "name": "fecha_fin",
         "rawType": "object",
         "type": "string"
        }
       ],
       "ref": "0eb067ad-fd22-4938-9b58-b03258afc213",
       "rows": [
        [
         "0",
         "1",
         "2",
         "53",
         "2022-03-11",
         "2026-03-10"
        ],
        [
         "1",
         "2",
         "4",
         "61",
         "2018-03-11",
         "2022-03-10"
        ],
        [
         "2",
         "3",
         "4",
         "61",
         "2022-03-11",
         "2026-03-10"
        ],
        [
         "3",
         "4",
         "5",
         "128",
         "2006-03-11",
         "2010-03-10"
        ],
        [
         "4",
         "5",
         "13",
         "53",
         "2022-03-11",
         "2026-03-10"
        ]
       ],
       "shape": {
        "columns": 5,
        "rows": 5
       }
      },
      "text/html": [
       "<div>\n",
       "<style scoped>\n",
       "    .dataframe tbody tr th:only-of-type {\n",
       "        vertical-align: middle;\n",
       "    }\n",
       "\n",
       "    .dataframe tbody tr th {\n",
       "        vertical-align: top;\n",
       "    }\n",
       "\n",
       "    .dataframe thead th {\n",
       "        text-align: right;\n",
       "    }\n",
       "</style>\n",
       "<table border=\"1\" class=\"dataframe\">\n",
       "  <thead>\n",
       "    <tr style=\"text-align: right;\">\n",
       "      <th></th>\n",
       "      <th>militancia_id</th>\n",
       "      <th>mp_uid</th>\n",
       "      <th>partido_id</th>\n",
       "      <th>fecha_inicio</th>\n",
       "      <th>fecha_fin</th>\n",
       "    </tr>\n",
       "  </thead>\n",
       "  <tbody>\n",
       "    <tr>\n",
       "      <th>0</th>\n",
       "      <td>1</td>\n",
       "      <td>2</td>\n",
       "      <td>53</td>\n",
       "      <td>2022-03-11</td>\n",
       "      <td>2026-03-10</td>\n",
       "    </tr>\n",
       "    <tr>\n",
       "      <th>1</th>\n",
       "      <td>2</td>\n",
       "      <td>4</td>\n",
       "      <td>61</td>\n",
       "      <td>2018-03-11</td>\n",
       "      <td>2022-03-10</td>\n",
       "    </tr>\n",
       "    <tr>\n",
       "      <th>2</th>\n",
       "      <td>3</td>\n",
       "      <td>4</td>\n",
       "      <td>61</td>\n",
       "      <td>2022-03-11</td>\n",
       "      <td>2026-03-10</td>\n",
       "    </tr>\n",
       "    <tr>\n",
       "      <th>3</th>\n",
       "      <td>4</td>\n",
       "      <td>5</td>\n",
       "      <td>128</td>\n",
       "      <td>2006-03-11</td>\n",
       "      <td>2010-03-10</td>\n",
       "    </tr>\n",
       "    <tr>\n",
       "      <th>4</th>\n",
       "      <td>5</td>\n",
       "      <td>13</td>\n",
       "      <td>53</td>\n",
       "      <td>2022-03-11</td>\n",
       "      <td>2026-03-10</td>\n",
       "    </tr>\n",
       "  </tbody>\n",
       "</table>\n",
       "</div>"
      ],
      "text/plain": [
       "   militancia_id  mp_uid  partido_id fecha_inicio   fecha_fin\n",
       "0              1       2          53   2022-03-11  2026-03-10\n",
       "1              2       4          61   2018-03-11  2022-03-10\n",
       "2              3       4          61   2022-03-11  2026-03-10\n",
       "3              4       5         128   2006-03-11  2010-03-10\n",
       "4              5      13          53   2022-03-11  2026-03-10"
      ]
     },
     "metadata": {},
     "output_type": "display_data"
    },
    {
     "data": {
      "text/markdown": [
       "--- \n",
       "### 🏛️ Tabla: `comision_membresias`"
      ],
      "text/plain": [
       "<IPython.core.display.Markdown object>"
      ]
     },
     "metadata": {},
     "output_type": "display_data"
    },
    {
     "data": {
      "application/vnd.microsoft.datawrangler.viewer.v0+json": {
       "columns": [
        {
         "name": "index",
         "rawType": "int64",
         "type": "integer"
        },
        {
         "name": "membresia_id",
         "rawType": "int64",
         "type": "integer"
        },
        {
         "name": "mp_uid",
         "rawType": "int64",
         "type": "integer"
        },
        {
         "name": "comision_id",
         "rawType": "int64",
         "type": "integer"
        },
        {
         "name": "rol",
         "rawType": "object",
         "type": "string"
        },
        {
         "name": "fecha_inicio",
         "rawType": "object",
         "type": "string"
        },
        {
         "name": "fecha_fin",
         "rawType": "object",
         "type": "unknown"
        }
       ],
       "ref": "0746a7ec-e490-4548-8f30-44ce33000c30",
       "rows": [
        [
         "0",
         "1",
         "28",
         "3082",
         "Miembro",
         "2021-06-30",
         null
        ],
        [
         "1",
         "2",
         "50",
         "3082",
         "Miembro",
         "2021-06-30",
         null
        ],
        [
         "2",
         "3",
         "442",
         "3082",
         "Miembro",
         "2021-06-30",
         null
        ],
        [
         "3",
         "4",
         "408",
         "3082",
         "Miembro",
         "2021-06-30",
         null
        ],
        [
         "4",
         "5",
         "95",
         "3082",
         "Miembro",
         "2021-06-30",
         null
        ]
       ],
       "shape": {
        "columns": 6,
        "rows": 5
       }
      },
      "text/html": [
       "<div>\n",
       "<style scoped>\n",
       "    .dataframe tbody tr th:only-of-type {\n",
       "        vertical-align: middle;\n",
       "    }\n",
       "\n",
       "    .dataframe tbody tr th {\n",
       "        vertical-align: top;\n",
       "    }\n",
       "\n",
       "    .dataframe thead th {\n",
       "        text-align: right;\n",
       "    }\n",
       "</style>\n",
       "<table border=\"1\" class=\"dataframe\">\n",
       "  <thead>\n",
       "    <tr style=\"text-align: right;\">\n",
       "      <th></th>\n",
       "      <th>membresia_id</th>\n",
       "      <th>mp_uid</th>\n",
       "      <th>comision_id</th>\n",
       "      <th>rol</th>\n",
       "      <th>fecha_inicio</th>\n",
       "      <th>fecha_fin</th>\n",
       "    </tr>\n",
       "  </thead>\n",
       "  <tbody>\n",
       "    <tr>\n",
       "      <th>0</th>\n",
       "      <td>1</td>\n",
       "      <td>28</td>\n",
       "      <td>3082</td>\n",
       "      <td>Miembro</td>\n",
       "      <td>2021-06-30</td>\n",
       "      <td>None</td>\n",
       "    </tr>\n",
       "    <tr>\n",
       "      <th>1</th>\n",
       "      <td>2</td>\n",
       "      <td>50</td>\n",
       "      <td>3082</td>\n",
       "      <td>Miembro</td>\n",
       "      <td>2021-06-30</td>\n",
       "      <td>None</td>\n",
       "    </tr>\n",
       "    <tr>\n",
       "      <th>2</th>\n",
       "      <td>3</td>\n",
       "      <td>442</td>\n",
       "      <td>3082</td>\n",
       "      <td>Miembro</td>\n",
       "      <td>2021-06-30</td>\n",
       "      <td>None</td>\n",
       "    </tr>\n",
       "    <tr>\n",
       "      <th>3</th>\n",
       "      <td>4</td>\n",
       "      <td>408</td>\n",
       "      <td>3082</td>\n",
       "      <td>Miembro</td>\n",
       "      <td>2021-06-30</td>\n",
       "      <td>None</td>\n",
       "    </tr>\n",
       "    <tr>\n",
       "      <th>4</th>\n",
       "      <td>5</td>\n",
       "      <td>95</td>\n",
       "      <td>3082</td>\n",
       "      <td>Miembro</td>\n",
       "      <td>2021-06-30</td>\n",
       "      <td>None</td>\n",
       "    </tr>\n",
       "  </tbody>\n",
       "</table>\n",
       "</div>"
      ],
      "text/plain": [
       "   membresia_id  mp_uid  comision_id      rol fecha_inicio fecha_fin\n",
       "0             1      28         3082  Miembro   2021-06-30      None\n",
       "1             2      50         3082  Miembro   2021-06-30      None\n",
       "2             3     442         3082  Miembro   2021-06-30      None\n",
       "3             4     408         3082  Miembro   2021-06-30      None\n",
       "4             5      95         3082  Miembro   2021-06-30      None"
      ]
     },
     "metadata": {},
     "output_type": "display_data"
    },
    {
     "data": {
      "text/markdown": [
       "--- \n",
       "### 🏛️ Tabla: `electoral_results`"
      ],
      "text/plain": [
       "<IPython.core.display.Markdown object>"
      ]
     },
     "metadata": {},
     "output_type": "display_data"
    },
    {
     "data": {
      "text/markdown": [
       "_Esta tabla está actualmente vacía._"
      ],
      "text/plain": [
       "<IPython.core.display.Markdown object>"
      ]
     },
     "metadata": {},
     "output_type": "display_data"
    },
    {
     "data": {
      "text/markdown": [
       "--- \n",
       "### 🏛️ Tabla: `educacion`"
      ],
      "text/plain": [
       "<IPython.core.display.Markdown object>"
      ]
     },
     "metadata": {},
     "output_type": "display_data"
    },
    {
     "data": {
      "text/markdown": [
       "_Esta tabla está actualmente vacía._"
      ],
      "text/plain": [
       "<IPython.core.display.Markdown object>"
      ]
     },
     "metadata": {},
     "output_type": "display_data"
    },
    {
     "data": {
      "text/markdown": [
       "--- \n",
       "### 🏛️ Tabla: `bills`"
      ],
      "text/plain": [
       "<IPython.core.display.Markdown object>"
      ]
     },
     "metadata": {},
     "output_type": "display_data"
    },
    {
     "data": {
      "application/vnd.microsoft.datawrangler.viewer.v0+json": {
       "columns": [
        {
         "name": "index",
         "rawType": "int64",
         "type": "integer"
        },
        {
         "name": "bill_id",
         "rawType": "object",
         "type": "string"
        },
        {
         "name": "titulo",
         "rawType": "object",
         "type": "string"
        },
        {
         "name": "resumen",
         "rawType": "object",
         "type": "string"
        },
        {
         "name": "fecha_ingreso",
         "rawType": "object",
         "type": "string"
        },
        {
         "name": "etapa",
         "rawType": "object",
         "type": "unknown"
        },
        {
         "name": "iniciativa",
         "rawType": "object",
         "type": "string"
        },
        {
         "name": "origen",
         "rawType": "object",
         "type": "string"
        },
        {
         "name": "urgencia",
         "rawType": "object",
         "type": "string"
        },
        {
         "name": "resultado_final",
         "rawType": "object",
         "type": "unknown"
        },
        {
         "name": "ley_numero",
         "rawType": "object",
         "type": "unknown"
        },
        {
         "name": "ley_fecha_publicacion",
         "rawType": "object",
         "type": "unknown"
        }
       ],
       "ref": "6b7c92e4-09c3-4410-b342-882a21f8220a",
       "rows": [
        [
         "0",
         "17450-11",
         "Modifica el DFL N° 1, de Salud, de 2005, para establecer la obligatoriedad, a profesionales y establecimientos de salud, de otorgar prestaciones en la modalidad de libre elección de Fonasa",
         "Modifica el DFL N° 1, de Salud, de 2005, para establecer la obligatoriedad, a profesionales y establecimientos de salud, de otorgar prestaciones en la modalidad de libre elección de Fonasa",
         "2024-12-16",
         null,
         "Moción",
         "Cámara de Diputados",
         "Sin urgencia",
         null,
         null,
         null
        ],
        [
         "1",
         "17377-13",
         "Modifica el Código del Trabajo para permitir pactar un permiso laboral por fallecimiento de mascota o animal de compañía",
         "Modifica el Código del Trabajo para permitir pactar un permiso laboral por fallecimiento de mascota o animal de compañía",
         "2024-11-18",
         null,
         "Moción",
         "Cámara de Diputados",
         "Sin urgencia",
         null,
         null,
         null
        ],
        [
         "2",
         "17376-07",
         "Modifica la ley N° 20.084 para autorizar el traslado, desde los centros de privación de libertad para adolescentes, a secciones juveniles administradas por Gendarmería de Chile, en los casos que indica",
         "Modifica la ley N° 20.084 para autorizar el traslado, desde los centros de privación de libertad para adolescentes, a secciones juveniles administradas por Gendarmería de Chile, en los casos que indica",
         "2024-12-09",
         null,
         "Moción",
         "Cámara de Diputados",
         "Sin urgencia",
         null,
         null,
         null
        ],
        [
         "3",
         "17357-18",
         "Modifica la ley N° 14.908 para perfeccionar los procedimientos de cobro de deudas de pensiones de alimentos",
         "Modifica la ley N° 14.908 para perfeccionar los procedimientos de cobro de deudas de pensiones de alimentos",
         "2024-12-18",
         null,
         "Moción",
         "Cámara de Diputados",
         "Sin urgencia",
         null,
         null,
         null
        ],
        [
         "4",
         "17356-06",
         "Modifica la ley N° 19.175, sobre gobierno y administración regional, para establecer normas de transparencia y rendición de cuentas aplicables a los consejeros regionales",
         "Modifica la ley N° 19.175, sobre gobierno y administración regional, para establecer normas de transparencia y rendición de cuentas aplicables a los consejeros regionales",
         "2024-12-18",
         null,
         "Moción",
         "Cámara de Diputados",
         "Sin urgencia",
         null,
         null,
         null
        ]
       ],
       "shape": {
        "columns": 11,
        "rows": 5
       }
      },
      "text/html": [
       "<div>\n",
       "<style scoped>\n",
       "    .dataframe tbody tr th:only-of-type {\n",
       "        vertical-align: middle;\n",
       "    }\n",
       "\n",
       "    .dataframe tbody tr th {\n",
       "        vertical-align: top;\n",
       "    }\n",
       "\n",
       "    .dataframe thead th {\n",
       "        text-align: right;\n",
       "    }\n",
       "</style>\n",
       "<table border=\"1\" class=\"dataframe\">\n",
       "  <thead>\n",
       "    <tr style=\"text-align: right;\">\n",
       "      <th></th>\n",
       "      <th>bill_id</th>\n",
       "      <th>titulo</th>\n",
       "      <th>resumen</th>\n",
       "      <th>fecha_ingreso</th>\n",
       "      <th>etapa</th>\n",
       "      <th>iniciativa</th>\n",
       "      <th>origen</th>\n",
       "      <th>urgencia</th>\n",
       "      <th>resultado_final</th>\n",
       "      <th>ley_numero</th>\n",
       "      <th>ley_fecha_publicacion</th>\n",
       "    </tr>\n",
       "  </thead>\n",
       "  <tbody>\n",
       "    <tr>\n",
       "      <th>0</th>\n",
       "      <td>17450-11</td>\n",
       "      <td>Modifica el DFL N° 1, de Salud, de 2005, para ...</td>\n",
       "      <td>Modifica el DFL N° 1, de Salud, de 2005, para ...</td>\n",
       "      <td>2024-12-16</td>\n",
       "      <td>None</td>\n",
       "      <td>Moción</td>\n",
       "      <td>Cámara de Diputados</td>\n",
       "      <td>Sin urgencia</td>\n",
       "      <td>None</td>\n",
       "      <td>None</td>\n",
       "      <td>None</td>\n",
       "    </tr>\n",
       "    <tr>\n",
       "      <th>1</th>\n",
       "      <td>17377-13</td>\n",
       "      <td>Modifica el Código del Trabajo para permitir p...</td>\n",
       "      <td>Modifica el Código del Trabajo para permitir p...</td>\n",
       "      <td>2024-11-18</td>\n",
       "      <td>None</td>\n",
       "      <td>Moción</td>\n",
       "      <td>Cámara de Diputados</td>\n",
       "      <td>Sin urgencia</td>\n",
       "      <td>None</td>\n",
       "      <td>None</td>\n",
       "      <td>None</td>\n",
       "    </tr>\n",
       "    <tr>\n",
       "      <th>2</th>\n",
       "      <td>17376-07</td>\n",
       "      <td>Modifica la ley N° 20.084 para autorizar el tr...</td>\n",
       "      <td>Modifica la ley N° 20.084 para autorizar el tr...</td>\n",
       "      <td>2024-12-09</td>\n",
       "      <td>None</td>\n",
       "      <td>Moción</td>\n",
       "      <td>Cámara de Diputados</td>\n",
       "      <td>Sin urgencia</td>\n",
       "      <td>None</td>\n",
       "      <td>None</td>\n",
       "      <td>None</td>\n",
       "    </tr>\n",
       "    <tr>\n",
       "      <th>3</th>\n",
       "      <td>17357-18</td>\n",
       "      <td>Modifica la ley N° 14.908 para perfeccionar lo...</td>\n",
       "      <td>Modifica la ley N° 14.908 para perfeccionar lo...</td>\n",
       "      <td>2024-12-18</td>\n",
       "      <td>None</td>\n",
       "      <td>Moción</td>\n",
       "      <td>Cámara de Diputados</td>\n",
       "      <td>Sin urgencia</td>\n",
       "      <td>None</td>\n",
       "      <td>None</td>\n",
       "      <td>None</td>\n",
       "    </tr>\n",
       "    <tr>\n",
       "      <th>4</th>\n",
       "      <td>17356-06</td>\n",
       "      <td>Modifica la ley N° 19.175, sobre gobierno y ad...</td>\n",
       "      <td>Modifica la ley N° 19.175, sobre gobierno y ad...</td>\n",
       "      <td>2024-12-18</td>\n",
       "      <td>None</td>\n",
       "      <td>Moción</td>\n",
       "      <td>Cámara de Diputados</td>\n",
       "      <td>Sin urgencia</td>\n",
       "      <td>None</td>\n",
       "      <td>None</td>\n",
       "      <td>None</td>\n",
       "    </tr>\n",
       "  </tbody>\n",
       "</table>\n",
       "</div>"
      ],
      "text/plain": [
       "    bill_id                                             titulo  \\\n",
       "0  17450-11  Modifica el DFL N° 1, de Salud, de 2005, para ...   \n",
       "1  17377-13  Modifica el Código del Trabajo para permitir p...   \n",
       "2  17376-07  Modifica la ley N° 20.084 para autorizar el tr...   \n",
       "3  17357-18  Modifica la ley N° 14.908 para perfeccionar lo...   \n",
       "4  17356-06  Modifica la ley N° 19.175, sobre gobierno y ad...   \n",
       "\n",
       "                                             resumen fecha_ingreso etapa  \\\n",
       "0  Modifica el DFL N° 1, de Salud, de 2005, para ...    2024-12-16  None   \n",
       "1  Modifica el Código del Trabajo para permitir p...    2024-11-18  None   \n",
       "2  Modifica la ley N° 20.084 para autorizar el tr...    2024-12-09  None   \n",
       "3  Modifica la ley N° 14.908 para perfeccionar lo...    2024-12-18  None   \n",
       "4  Modifica la ley N° 19.175, sobre gobierno y ad...    2024-12-18  None   \n",
       "\n",
       "  iniciativa               origen      urgencia resultado_final ley_numero  \\\n",
       "0     Moción  Cámara de Diputados  Sin urgencia            None       None   \n",
       "1     Moción  Cámara de Diputados  Sin urgencia            None       None   \n",
       "2     Moción  Cámara de Diputados  Sin urgencia            None       None   \n",
       "3     Moción  Cámara de Diputados  Sin urgencia            None       None   \n",
       "4     Moción  Cámara de Diputados  Sin urgencia            None       None   \n",
       "\n",
       "  ley_fecha_publicacion  \n",
       "0                  None  \n",
       "1                  None  \n",
       "2                  None  \n",
       "3                  None  \n",
       "4                  None  "
      ]
     },
     "metadata": {},
     "output_type": "display_data"
    },
    {
     "data": {
      "text/markdown": [
       "--- \n",
       "### 🏛️ Tabla: `bill_authors`"
      ],
      "text/plain": [
       "<IPython.core.display.Markdown object>"
      ]
     },
     "metadata": {},
     "output_type": "display_data"
    },
    {
     "data": {
      "application/vnd.microsoft.datawrangler.viewer.v0+json": {
       "columns": [
        {
         "name": "index",
         "rawType": "int64",
         "type": "integer"
        },
        {
         "name": "bill_id",
         "rawType": "object",
         "type": "string"
        },
        {
         "name": "mp_uid",
         "rawType": "int64",
         "type": "integer"
        }
       ],
       "ref": "b898bcd4-6dc4-466c-a724-7f7700e65487",
       "rows": [
        [
         "0",
         "17450-11",
         "80"
        ],
        [
         "1",
         "17450-11",
         "139"
        ],
        [
         "2",
         "17450-11",
         "6"
        ],
        [
         "3",
         "17450-11",
         "56"
        ],
        [
         "4",
         "17450-11",
         "20"
        ]
       ],
       "shape": {
        "columns": 2,
        "rows": 5
       }
      },
      "text/html": [
       "<div>\n",
       "<style scoped>\n",
       "    .dataframe tbody tr th:only-of-type {\n",
       "        vertical-align: middle;\n",
       "    }\n",
       "\n",
       "    .dataframe tbody tr th {\n",
       "        vertical-align: top;\n",
       "    }\n",
       "\n",
       "    .dataframe thead th {\n",
       "        text-align: right;\n",
       "    }\n",
       "</style>\n",
       "<table border=\"1\" class=\"dataframe\">\n",
       "  <thead>\n",
       "    <tr style=\"text-align: right;\">\n",
       "      <th></th>\n",
       "      <th>bill_id</th>\n",
       "      <th>mp_uid</th>\n",
       "    </tr>\n",
       "  </thead>\n",
       "  <tbody>\n",
       "    <tr>\n",
       "      <th>0</th>\n",
       "      <td>17450-11</td>\n",
       "      <td>80</td>\n",
       "    </tr>\n",
       "    <tr>\n",
       "      <th>1</th>\n",
       "      <td>17450-11</td>\n",
       "      <td>139</td>\n",
       "    </tr>\n",
       "    <tr>\n",
       "      <th>2</th>\n",
       "      <td>17450-11</td>\n",
       "      <td>6</td>\n",
       "    </tr>\n",
       "    <tr>\n",
       "      <th>3</th>\n",
       "      <td>17450-11</td>\n",
       "      <td>56</td>\n",
       "    </tr>\n",
       "    <tr>\n",
       "      <th>4</th>\n",
       "      <td>17450-11</td>\n",
       "      <td>20</td>\n",
       "    </tr>\n",
       "  </tbody>\n",
       "</table>\n",
       "</div>"
      ],
      "text/plain": [
       "    bill_id  mp_uid\n",
       "0  17450-11      80\n",
       "1  17450-11     139\n",
       "2  17450-11       6\n",
       "3  17450-11      56\n",
       "4  17450-11      20"
      ]
     },
     "metadata": {},
     "output_type": "display_data"
    },
    {
     "data": {
      "text/markdown": [
       "--- \n",
       "### 🏛️ Tabla: `sesiones_votacion`"
      ],
      "text/plain": [
       "<IPython.core.display.Markdown object>"
      ]
     },
     "metadata": {},
     "output_type": "display_data"
    },
    {
     "data": {
      "application/vnd.microsoft.datawrangler.viewer.v0+json": {
       "columns": [
        {
         "name": "index",
         "rawType": "int64",
         "type": "integer"
        },
        {
         "name": "sesion_votacion_id",
         "rawType": "int64",
         "type": "integer"
        },
        {
         "name": "bill_id",
         "rawType": "object",
         "type": "string"
        },
        {
         "name": "fecha",
         "rawType": "object",
         "type": "string"
        },
        {
         "name": "tema",
         "rawType": "object",
         "type": "string"
        },
        {
         "name": "resultado_general",
         "rawType": "object",
         "type": "string"
        },
        {
         "name": "quorum_aplicado",
         "rawType": "object",
         "type": "string"
        },
        {
         "name": "a_favor_total",
         "rawType": "int64",
         "type": "integer"
        },
        {
         "name": "en_contra_total",
         "rawType": "int64",
         "type": "integer"
        },
        {
         "name": "abstencion_total",
         "rawType": "int64",
         "type": "integer"
        },
        {
         "name": "pareo_total",
         "rawType": "int64",
         "type": "integer"
        }
       ],
       "ref": "1fae6b98-f4b8-4b37-8cc8-d088410b2d6e",
       "rows": [
        [
         "0",
         "23227",
         "16653-33",
         "2024-04-03",
         "Boletín N° 16653-33",
         "Aprobado",
         "Quórum Simple",
         "90",
         "18",
         "9",
         "0"
        ],
        [
         "1",
         "23228",
         "16653-33",
         "2024-04-03",
         "Boletín N° 16653-33",
         "Aprobado",
         "Quórum Simple",
         "72",
         "39",
         "8",
         "0"
        ],
        [
         "2",
         "23256",
         "16565-24",
         "2024-04-17",
         "Boletín N° 16565-24",
         "Aprobado",
         "Quórum Simple",
         "95",
         "28",
         "16",
         "0"
        ],
        [
         "3",
         "23257",
         "16596-10",
         "2024-04-17",
         "Boletín N° 16596-10",
         "Aprobado",
         "Quórum Simple",
         "132",
         "0",
         "6",
         "0"
        ],
        [
         "4",
         "23258",
         "16597-10",
         "2024-04-17",
         "Boletín N° 16597-10",
         "Aprobado",
         "Quórum Simple",
         "133",
         "2",
         "3",
         "0"
        ]
       ],
       "shape": {
        "columns": 10,
        "rows": 5
       }
      },
      "text/html": [
       "<div>\n",
       "<style scoped>\n",
       "    .dataframe tbody tr th:only-of-type {\n",
       "        vertical-align: middle;\n",
       "    }\n",
       "\n",
       "    .dataframe tbody tr th {\n",
       "        vertical-align: top;\n",
       "    }\n",
       "\n",
       "    .dataframe thead th {\n",
       "        text-align: right;\n",
       "    }\n",
       "</style>\n",
       "<table border=\"1\" class=\"dataframe\">\n",
       "  <thead>\n",
       "    <tr style=\"text-align: right;\">\n",
       "      <th></th>\n",
       "      <th>sesion_votacion_id</th>\n",
       "      <th>bill_id</th>\n",
       "      <th>fecha</th>\n",
       "      <th>tema</th>\n",
       "      <th>resultado_general</th>\n",
       "      <th>quorum_aplicado</th>\n",
       "      <th>a_favor_total</th>\n",
       "      <th>en_contra_total</th>\n",
       "      <th>abstencion_total</th>\n",
       "      <th>pareo_total</th>\n",
       "    </tr>\n",
       "  </thead>\n",
       "  <tbody>\n",
       "    <tr>\n",
       "      <th>0</th>\n",
       "      <td>23227</td>\n",
       "      <td>16653-33</td>\n",
       "      <td>2024-04-03</td>\n",
       "      <td>Boletín N° 16653-33</td>\n",
       "      <td>Aprobado</td>\n",
       "      <td>Quórum Simple</td>\n",
       "      <td>90</td>\n",
       "      <td>18</td>\n",
       "      <td>9</td>\n",
       "      <td>0</td>\n",
       "    </tr>\n",
       "    <tr>\n",
       "      <th>1</th>\n",
       "      <td>23228</td>\n",
       "      <td>16653-33</td>\n",
       "      <td>2024-04-03</td>\n",
       "      <td>Boletín N° 16653-33</td>\n",
       "      <td>Aprobado</td>\n",
       "      <td>Quórum Simple</td>\n",
       "      <td>72</td>\n",
       "      <td>39</td>\n",
       "      <td>8</td>\n",
       "      <td>0</td>\n",
       "    </tr>\n",
       "    <tr>\n",
       "      <th>2</th>\n",
       "      <td>23256</td>\n",
       "      <td>16565-24</td>\n",
       "      <td>2024-04-17</td>\n",
       "      <td>Boletín N° 16565-24</td>\n",
       "      <td>Aprobado</td>\n",
       "      <td>Quórum Simple</td>\n",
       "      <td>95</td>\n",
       "      <td>28</td>\n",
       "      <td>16</td>\n",
       "      <td>0</td>\n",
       "    </tr>\n",
       "    <tr>\n",
       "      <th>3</th>\n",
       "      <td>23257</td>\n",
       "      <td>16596-10</td>\n",
       "      <td>2024-04-17</td>\n",
       "      <td>Boletín N° 16596-10</td>\n",
       "      <td>Aprobado</td>\n",
       "      <td>Quórum Simple</td>\n",
       "      <td>132</td>\n",
       "      <td>0</td>\n",
       "      <td>6</td>\n",
       "      <td>0</td>\n",
       "    </tr>\n",
       "    <tr>\n",
       "      <th>4</th>\n",
       "      <td>23258</td>\n",
       "      <td>16597-10</td>\n",
       "      <td>2024-04-17</td>\n",
       "      <td>Boletín N° 16597-10</td>\n",
       "      <td>Aprobado</td>\n",
       "      <td>Quórum Simple</td>\n",
       "      <td>133</td>\n",
       "      <td>2</td>\n",
       "      <td>3</td>\n",
       "      <td>0</td>\n",
       "    </tr>\n",
       "  </tbody>\n",
       "</table>\n",
       "</div>"
      ],
      "text/plain": [
       "   sesion_votacion_id   bill_id       fecha                 tema  \\\n",
       "0               23227  16653-33  2024-04-03  Boletín N° 16653-33   \n",
       "1               23228  16653-33  2024-04-03  Boletín N° 16653-33   \n",
       "2               23256  16565-24  2024-04-17  Boletín N° 16565-24   \n",
       "3               23257  16596-10  2024-04-17  Boletín N° 16596-10   \n",
       "4               23258  16597-10  2024-04-17  Boletín N° 16597-10   \n",
       "\n",
       "  resultado_general quorum_aplicado  a_favor_total  en_contra_total  \\\n",
       "0          Aprobado   Quórum Simple             90               18   \n",
       "1          Aprobado   Quórum Simple             72               39   \n",
       "2          Aprobado   Quórum Simple             95               28   \n",
       "3          Aprobado   Quórum Simple            132                0   \n",
       "4          Aprobado   Quórum Simple            133                2   \n",
       "\n",
       "   abstencion_total  pareo_total  \n",
       "0                 9            0  \n",
       "1                 8            0  \n",
       "2                16            0  \n",
       "3                 6            0  \n",
       "4                 3            0  "
      ]
     },
     "metadata": {},
     "output_type": "display_data"
    },
    {
     "data": {
      "text/markdown": [
       "--- \n",
       "### 🏛️ Tabla: `votos_parlamentario`"
      ],
      "text/plain": [
       "<IPython.core.display.Markdown object>"
      ]
     },
     "metadata": {},
     "output_type": "display_data"
    },
    {
     "data": {
      "application/vnd.microsoft.datawrangler.viewer.v0+json": {
       "columns": [
        {
         "name": "index",
         "rawType": "int64",
         "type": "integer"
        },
        {
         "name": "voto_id",
         "rawType": "int64",
         "type": "integer"
        },
        {
         "name": "sesion_votacion_id",
         "rawType": "int64",
         "type": "integer"
        },
        {
         "name": "mp_uid",
         "rawType": "int64",
         "type": "integer"
        },
        {
         "name": "voto",
         "rawType": "object",
         "type": "string"
        }
       ],
       "ref": "176661dd-e58c-47f9-a3fc-535c1e4d48c7",
       "rows": [
        [
         "0",
         "131385",
         "52554",
         "1",
         "A Favor"
        ],
        [
         "1",
         "131386",
         "52554",
         "2",
         "A Favor"
        ],
        [
         "2",
         "131387",
         "52554",
         "3",
         "A Favor"
        ],
        [
         "3",
         "131388",
         "52554",
         "4",
         "A Favor"
        ],
        [
         "4",
         "131389",
         "52554",
         "5",
         "Abstención"
        ]
       ],
       "shape": {
        "columns": 4,
        "rows": 5
       }
      },
      "text/html": [
       "<div>\n",
       "<style scoped>\n",
       "    .dataframe tbody tr th:only-of-type {\n",
       "        vertical-align: middle;\n",
       "    }\n",
       "\n",
       "    .dataframe tbody tr th {\n",
       "        vertical-align: top;\n",
       "    }\n",
       "\n",
       "    .dataframe thead th {\n",
       "        text-align: right;\n",
       "    }\n",
       "</style>\n",
       "<table border=\"1\" class=\"dataframe\">\n",
       "  <thead>\n",
       "    <tr style=\"text-align: right;\">\n",
       "      <th></th>\n",
       "      <th>voto_id</th>\n",
       "      <th>sesion_votacion_id</th>\n",
       "      <th>mp_uid</th>\n",
       "      <th>voto</th>\n",
       "    </tr>\n",
       "  </thead>\n",
       "  <tbody>\n",
       "    <tr>\n",
       "      <th>0</th>\n",
       "      <td>131385</td>\n",
       "      <td>52554</td>\n",
       "      <td>1</td>\n",
       "      <td>A Favor</td>\n",
       "    </tr>\n",
       "    <tr>\n",
       "      <th>1</th>\n",
       "      <td>131386</td>\n",
       "      <td>52554</td>\n",
       "      <td>2</td>\n",
       "      <td>A Favor</td>\n",
       "    </tr>\n",
       "    <tr>\n",
       "      <th>2</th>\n",
       "      <td>131387</td>\n",
       "      <td>52554</td>\n",
       "      <td>3</td>\n",
       "      <td>A Favor</td>\n",
       "    </tr>\n",
       "    <tr>\n",
       "      <th>3</th>\n",
       "      <td>131388</td>\n",
       "      <td>52554</td>\n",
       "      <td>4</td>\n",
       "      <td>A Favor</td>\n",
       "    </tr>\n",
       "    <tr>\n",
       "      <th>4</th>\n",
       "      <td>131389</td>\n",
       "      <td>52554</td>\n",
       "      <td>5</td>\n",
       "      <td>Abstención</td>\n",
       "    </tr>\n",
       "  </tbody>\n",
       "</table>\n",
       "</div>"
      ],
      "text/plain": [
       "   voto_id  sesion_votacion_id  mp_uid        voto\n",
       "0   131385               52554       1     A Favor\n",
       "1   131386               52554       2     A Favor\n",
       "2   131387               52554       3     A Favor\n",
       "3   131388               52554       4     A Favor\n",
       "4   131389               52554       5  Abstención"
      ]
     },
     "metadata": {},
     "output_type": "display_data"
    },
    {
     "data": {
      "text/markdown": [
       "--- \n",
       "### 🏛️ Tabla: `speech_turns`"
      ],
      "text/plain": [
       "<IPython.core.display.Markdown object>"
      ]
     },
     "metadata": {},
     "output_type": "display_data"
    },
    {
     "data": {
      "text/markdown": [
       "_Esta tabla está actualmente vacía._"
      ],
      "text/plain": [
       "<IPython.core.display.Markdown object>"
      ]
     },
     "metadata": {},
     "output_type": "display_data"
    },
    {
     "data": {
      "text/markdown": [
       "--- \n",
       "### 🏛️ Tabla: `interactions`"
      ],
      "text/plain": [
       "<IPython.core.display.Markdown object>"
      ]
     },
     "metadata": {},
     "output_type": "display_data"
    },
    {
     "data": {
      "text/markdown": [
       "_Esta tabla está actualmente vacía._"
      ],
      "text/plain": [
       "<IPython.core.display.Markdown object>"
      ]
     },
     "metadata": {},
     "output_type": "display_data"
    }
   ],
   "source": [
    "import sqlite3\n",
    "import pandas as pd\n",
    "from IPython.display import display, Markdown\n",
    "\n",
    "# --- CONFIGURACIÓN ---\n",
    "# Ruta a tu base de datos\n",
    "DB_PATH = 'data/database/parlamento.db'\n",
    "# Número de filas a mostrar por tabla\n",
    "LIMIT = 5\n",
    "\n",
    "def display_database_overview(db_path, limit):\n",
    "    \"\"\"\n",
    "    Se conecta a la BD y muestra las primeras N filas de cada tabla\n",
    "    de manera ordenada en un notebook.\n",
    "    \"\"\"\n",
    "    try:\n",
    "        with sqlite3.connect(db_path) as conn:\n",
    "            cursor = conn.cursor()\n",
    "            \n",
    "            # Obtener la lista de todas las tablas\n",
    "            cursor.execute(\"SELECT name FROM sqlite_master WHERE type='table';\")\n",
    "            tables = [table[0] for table in cursor.fetchall()]\n",
    "            \n",
    "            display(Markdown(f\"# 📊 Resumen de la Base de Datos: `{db_path}`\"))\n",
    "            display(Markdown(f\"Mostrando las primeras **{limit} filas** de cada tabla.\"))\n",
    "            \n",
    "            for table in tables:\n",
    "                if table.startswith('sqlite_'):\n",
    "                    continue\n",
    "                \n",
    "                try:\n",
    "                    # Usar pandas para leer la consulta SQL y obtener un DataFrame\n",
    "                    df = pd.read_sql_query(f\"SELECT * FROM {table} LIMIT {limit}\", conn)\n",
    "                    \n",
    "                    # Mostrar el nombre de la tabla como un título\n",
    "                    display(Markdown(f\"--- \\n### 🏛️ Tabla: `{table}`\"))\n",
    "                    \n",
    "                    if df.empty:\n",
    "                        display(Markdown(\"_Esta tabla está actualmente vacía._\"))\n",
    "                    else:\n",
    "                        # La función display() renderiza el DataFrame como una tabla HTML\n",
    "                        display(df)\n",
    "                        \n",
    "                except Exception as e:\n",
    "                    display(Markdown(f\"No se pudo leer la tabla `{table}`. Error: {e}\"))\n",
    "\n",
    "    except sqlite3.Error as e:\n",
    "        print(f\"❌ Error de base de datos: {e}\")\n",
    "\n",
    "# --- Ejecutar la función para mostrar el resumen ---\n",
    "display_database_overview(DB_PATH, LIMIT)"
   ]
  },
  {
   "cell_type": "code",
   "execution_count": 11,
   "id": "d6fe51c9",
   "metadata": {},
   "outputs": [
    {
     "name": "stdout",
     "output_type": "stream",
     "text": [
      "🔨 Construyendo contexto para parlamentario con mp_uid=1\n",
      "   ✓ Perfil básico: María Candelaria Acevedo Sáez\n",
      "   ✓ Contexto completo generado\n"
     ]
    }
   ],
   "source": [
    "from src.core.context_builder import ParlamentarioContextBuilder\n",
    "\n",
    "with ParlamentarioContextBuilder() as builder:\n",
    "    # Obtener contexto completo como diccionario\n",
    "    context = builder.build_complete_context(mp_uid=1)\n"
   ]
  },
  {
   "cell_type": "code",
   "execution_count": null,
   "id": "487cc6df",
   "metadata": {},
   "outputs": [
    {
     "name": "stdout",
     "output_type": "stream",
     "text": [
      "🔨 Construyendo contexto para parlamentario con mp_uid=123\n",
      "   ✓ Perfil básico: Leonidas Romero Sáez\n",
      "   ✓ Contexto completo generado\n",
      "🔨 Construyendo contexto para parlamentario con mp_uid=123\n",
      "   ✓ Perfil básico: Leonidas Romero Sáez\n",
      "   ✓ Contexto completo generado\n",
      "   ✓ Contexto de texto exportado a: c:\\Users\\benja\\OneDrive\\Desktop\\GitHub 2025\\prototype-diputados-chatbot\\data\\contexts\\context_mp_123_20250822_234404.txt\n",
      "\n",
      "Pregunta del usuario: ¿Cuáles son tus principales logros legislativos y en qué comisiones has participado?\n",
      "\n",
      "Respuesta del gemelo digital:\n",
      "<think>\n",
      "Okay, the user is asking about my main legislative achievements and which committees I've participated in. Let me check the context provided.\n",
      "\n",
      "First, the legislative achievements. The context says I have 20 projects as author or co-author, but none have been converted into law. Also, there are no projects in progress. Hmm, that's a bit of a problem. The user might be expecting some achievements, but the data shows none. Maybe I should mention that I've proposed several projects, even if they haven't passed yet. I should list the recent ones, like the ones related to traffic, time zones, and transportation. But I need to clarify that they're still in the process.\n",
      "\n",
      "Now, the committees. The context lists nine committees. I need to list them all but maybe highlight the more significant ones. The \"Comisiones Unidas de Gobierno, OOPP y Seguridad Ciudadana (NarcoAvionetas)\" seems important because it's about narco-drone issues. Also, the Acusación Constitucional against the minister, and the CEI related to water rights and education. These might be key areas where I've contributed. I should mention the active participation in these committees and maybe note that I haven't chaired any.\n",
      "\n",
      "Wait, the user might be looking for specific impacts or roles. Since the projects haven't become laws, I should focus on the proposals and the committees where I've been involved. Also, the user might be interested in the scope of the committees, like water rights or education, which are significant topics. I should present this information clearly, even if the achievements aren't in terms of passed laws.\n",
      "</think>\n",
      "\n",
      "Soy Leonidas Romero Sáez, diputado desde el 10 de marzo de 2026. En cuanto a mis **logros legislativos**, debo destacar que he presentado un total de 20 proyectos de ley como autor o coautor, aunque ninguno ha sido convertido en ley hasta la fecha. Los proyectos más recientes abordan temas como la regulación del tránsito, la unificación del huso horario de Chile, la modernización del Código Penal para abordar delitos como el robo cometido por tumultos, y la reforma del sistema de nombramiento de magistrados. Sin embargo, estos proyectos aún se encuentran en fase de tramitación o sin información actualizada.  \n",
      "\n",
      "En cuanto a las **comisiones en las que he participado**, he sido miembro de nueve comisiones clave, entre las que destacan:  \n",
      "1. **Comisiones Unidas de Gobierno, OOPP y Seguridad Ciudadana (NarcoAvionetas)**: Trabajo en temas relacionados con seguridad y combate al narcotráfico.  \n",
      "2. **Obras Públicas, Transportes y Telecomunicaciones**: Enfoque en infraestructura y desarrollo regional.  \n",
      "3. **Acusación Constitucional contra el ministro Jean Pierre Matus Acuña**: Participación en procesos de fiscalización y control institucional.  \n",
      "4. **CEI 58 Derechos de aprovechamiento de Aguas Región del Ñuble y Biobío**: Gestión de recursos hídricos en regiones clave.  \n",
      "5. **CEI 52 Implementación de la ley sobre Nueva Educación Pública**: Promoción de la educación local y servicios educativos.  \n",
      "\n",
      "Además, he colaborado en comisiones como **Zonas Extremas y Antártica Chilena**, **Control del Sistema de Inteligencia del Estado**, **Pesca y Acuicultura**, y otros relacionados con licitaciones públicas y tecnologías limpias. Mi labor se centra en abordar temas de relevancia nacional, aunque aún no se han materializado en leyes aprobadas.\n"
     ]
    }
   ],
   "source": [
    "import ollama\n",
    "from src.core.context_builder import ParlamentarioContextBuilder\n",
    "\n",
    "mp_uid = 123 \n",
    "\n",
    "with ParlamentarioContextBuilder() as builder:\n",
    "    context = builder.build_complete_context(mp_uid)\n",
    "    parlamentario_context = builder.export_context_to_text(mp_uid)\n",
    "\n",
    "\n",
    "def chat_with_digital_twin(user_query: str, context: str) -> str:\n",
    "    # Prepara un prompt de sistema que le dé una \"personalidad\" al LLM\n",
    "    system_prompt = (\n",
    "        f\"Eres un gemelo digital del diputado. Responde preguntas basándote en la \"\n",
    "        f\"información proporcionada en el siguiente contexto. \"\n",
    "        f\"Habla en primera persona, como si fueras el diputado. \"\n",
    "        f\"El contexto es: {context}\"\n",
    "    )\n",
    "\n",
    "    # Realiza la llamada a la API de Ollama\n",
    "    response = ollama.chat(\n",
    "        model='qwen3:8b', \n",
    "        messages=[\n",
    "            {'role': 'system', 'content': system_prompt},\n",
    "            {'role': 'user', 'content': user_query}\n",
    "        ],\n",
    "        stream=False\n",
    "    )\n",
    "\n",
    "    return response['message']['content']\n",
    "\n",
    "# Ejemplo de uso en el notebook\n",
    "pregunta_usuario = \"¿Cuáles son tus principales logros legislativos y en qué comisiones has participado?\"\n",
    "respuesta_llm = chat_with_digital_twin(pregunta_usuario, parlamentario_context)\n",
    "\n",
    "print(f\"\\nPregunta del usuario: {pregunta_usuario}\")\n",
    "print(f\"\\nRespuesta del gemelo digital:\\n{respuesta_llm}\")"
   ]
  },
  {
   "cell_type": "code",
   "execution_count": 4,
   "id": "02e158db",
   "metadata": {},
   "outputs": [
    {
     "name": "stderr",
     "output_type": "stream",
     "text": [
      "\"streamlit\" no se reconoce como un comando interno o externo,\n",
      "programa o archivo por lotes ejecutable.\n"
     ]
    }
   ],
   "source": [
    "!streamlit run src/app/digital_twin_app.py\n"
   ]
  }
 ],
 "metadata": {
  "kernelspec": {
   "display_name": "Python 3",
   "language": "python",
   "name": "python3"
  },
  "language_info": {
   "codemirror_mode": {
    "name": "ipython",
    "version": 3
   },
   "file_extension": ".py",
   "mimetype": "text/x-python",
   "name": "python",
   "nbconvert_exporter": "python",
   "pygments_lexer": "ipython3",
   "version": "3.12.5"
  }
 },
 "nbformat": 4,
 "nbformat_minor": 5
}
