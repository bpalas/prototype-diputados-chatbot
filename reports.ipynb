{
 "cells": [
  {
   "cell_type": "code",
   "execution_count": 4,
   "id": "7ecb0096",
   "metadata": {},
   "outputs": [
    {
     "data": {
      "text/markdown": [
       "# 📊 Resumen de la Base de Datos: `data/database/parlamento.db`"
      ],
      "text/plain": [
       "<IPython.core.display.Markdown object>"
      ]
     },
     "metadata": {},
     "output_type": "display_data"
    },
    {
     "data": {
      "text/markdown": [
       "Mostrando las primeras **5 filas** de cada tabla."
      ],
      "text/plain": [
       "<IPython.core.display.Markdown object>"
      ]
     },
     "metadata": {},
     "output_type": "display_data"
    },
    {
     "data": {
      "text/markdown": [
       "--- \n",
       "### 🏛️ Tabla: `dim_parlamentario`"
      ],
      "text/plain": [
       "<IPython.core.display.Markdown object>"
      ]
     },
     "metadata": {},
     "output_type": "display_data"
    },
    {
     "data": {
      "application/vnd.microsoft.datawrangler.viewer.v0+json": {
       "columns": [
        {
         "name": "index",
         "rawType": "int64",
         "type": "integer"
        },
        {
         "name": "mp_uid",
         "rawType": "int64",
         "type": "integer"
        },
        {
         "name": "nombre_completo",
         "rawType": "object",
         "type": "string"
        },
        {
         "name": "nombre_propio",
         "rawType": "object",
         "type": "string"
        },
        {
         "name": "apellido_paterno",
         "rawType": "object",
         "type": "string"
        },
        {
         "name": "apellido_materno",
         "rawType": "object",
         "type": "string"
        },
        {
         "name": "genero",
         "rawType": "object",
         "type": "string"
        },
        {
         "name": "fecha_nacimiento",
         "rawType": "object",
         "type": "string"
        },
        {
         "name": "lugar_nacimiento",
         "rawType": "object",
         "type": "string"
        },
        {
         "name": "distrito",
         "rawType": "object",
         "type": "unknown"
        },
        {
         "name": "fechas_mandato",
         "rawType": "object",
         "type": "unknown"
        },
        {
         "name": "diputadoid",
         "rawType": "object",
         "type": "string"
        },
        {
         "name": "wikidata_qid",
         "rawType": "object",
         "type": "unknown"
        },
        {
         "name": "bcn_uri",
         "rawType": "object",
         "type": "string"
        },
        {
         "name": "url_foto",
         "rawType": "object",
         "type": "string"
        },
        {
         "name": "twitter_handle",
         "rawType": "object",
         "type": "unknown"
        },
        {
         "name": "sitio_web_personal",
         "rawType": "object",
         "type": "unknown"
        },
        {
         "name": "titulo_honorifico",
         "rawType": "object",
         "type": "unknown"
        },
        {
         "name": "profesion",
         "rawType": "object",
         "type": "unknown"
        },
        {
         "name": "nacionalidad",
         "rawType": "object",
         "type": "string"
        },
        {
         "name": "url_historia_politica",
         "rawType": "object",
         "type": "string"
        },
        {
         "name": "fecha_extraccion",
         "rawType": "object",
         "type": "string"
        }
       ],
       "ref": "d46cb51b-4734-4078-ac8d-ca0acb3fc95c",
       "rows": [
        [
         "0",
         "1",
         "María Candelaria Acevedo Sáez",
         "María Candelaria",
         "Acevedo",
         "Sáez",
         "Femenino",
         "1958-09-12",
         "Coronel",
         null,
         null,
         "1096",
         null,
         "http://datos.bcn.cl/recurso/persona/5247",
         "https://www.bcn.cl/laborparlamentaria/imagen/110x110/5247.jpg",
         null,
         null,
         null,
         null,
         "http://datos.bcn.cl/recurso/pais/chile",
         "https://www.bcn.cl/historiapolitica/resenas_parlamentarias/wiki/María_Candelaria_Acevedo_Sáez",
         "2025-08-12"
        ],
        [
         "1",
         "2",
         "Eric Aedo Jeldres",
         "Eric Mariano",
         "Aedo",
         "Jeldres",
         "Masculino",
         "1968-07-13",
         "Los Ángeles",
         null,
         null,
         "1097",
         null,
         "http://datos.bcn.cl/recurso/persona/5253",
         "https://www.bcn.cl/laborparlamentaria/imagen/110x110/5253.jpg",
         null,
         null,
         null,
         "Administrador de Programas Sociales",
         "http://datos.bcn.cl/recurso/pais/chile",
         "https://www.bcn.cl/historiapolitica/resenas_parlamentarias/wiki/Eric_Aedo_Jeldres",
         "2025-08-12"
        ],
        [
         "2",
         "3",
         "Yovana Ahumada Palma",
         "Yovana Alejandra",
         "Ahumada",
         "Palma",
         "Femenino",
         "1973-12-24",
         "Antofagasta",
         null,
         null,
         "1098",
         null,
         "http://datos.bcn.cl/recurso/persona/5188",
         "https://www.bcn.cl/laborparlamentaria/imagen/110x110/5188.jpg",
         "yovyaftap2",
         null,
         null,
         "Técnica agropecuaria",
         "http://datos.bcn.cl/recurso/pais/chile",
         "https://www.bcn.cl/historiapolitica/resenas_parlamentarias/wiki/Yovana_Ahumada_Palma",
         "2025-08-12"
        ],
        [
         "3",
         "4",
         "Jorge Alessandri Vergara",
         "Jorge Iván",
         "Alessandri",
         "Vergara",
         "Masculino",
         "1979-06-08",
         "Santiago de Chile",
         null,
         null,
         "1009",
         null,
         "http://datos.bcn.cl/recurso/persona/4604",
         "https://www.bcn.cl/laborparlamentaria/imagen/110x110/4604.jpg",
         "jalessandri",
         null,
         null,
         "Abogado",
         "http://datos.bcn.cl/recurso/pais/chile",
         "https://www.bcn.cl/historiapolitica/resenas_parlamentarias/wiki/Jorge_Iván_Alessandri_Vergara",
         "2025-08-12"
        ],
        [
         "4",
         "5",
         "René Alinco Bustos",
         "René",
         "Alinco",
         "Bustos",
         "Masculino",
         "1958-06-02",
         "",
         null,
         null,
         "803",
         null,
         "http://datos.bcn.cl/recurso/persona/135",
         "https://www.bcn.cl/laborparlamentaria/imagen/110x110/135.jpg",
         "alinco_rene",
         null,
         null,
         "Obrero de la Construcción",
         "http://datos.bcn.cl/recurso/pais/chile",
         "https://www.bcn.cl/historiapolitica/resenas_parlamentarias/wiki/René_Alinco_Bustos",
         "2025-08-12"
        ]
       ],
       "shape": {
        "columns": 21,
        "rows": 5
       }
      },
      "text/html": [
       "<div>\n",
       "<style scoped>\n",
       "    .dataframe tbody tr th:only-of-type {\n",
       "        vertical-align: middle;\n",
       "    }\n",
       "\n",
       "    .dataframe tbody tr th {\n",
       "        vertical-align: top;\n",
       "    }\n",
       "\n",
       "    .dataframe thead th {\n",
       "        text-align: right;\n",
       "    }\n",
       "</style>\n",
       "<table border=\"1\" class=\"dataframe\">\n",
       "  <thead>\n",
       "    <tr style=\"text-align: right;\">\n",
       "      <th></th>\n",
       "      <th>mp_uid</th>\n",
       "      <th>nombre_completo</th>\n",
       "      <th>nombre_propio</th>\n",
       "      <th>apellido_paterno</th>\n",
       "      <th>apellido_materno</th>\n",
       "      <th>genero</th>\n",
       "      <th>fecha_nacimiento</th>\n",
       "      <th>lugar_nacimiento</th>\n",
       "      <th>distrito</th>\n",
       "      <th>fechas_mandato</th>\n",
       "      <th>...</th>\n",
       "      <th>wikidata_qid</th>\n",
       "      <th>bcn_uri</th>\n",
       "      <th>url_foto</th>\n",
       "      <th>twitter_handle</th>\n",
       "      <th>sitio_web_personal</th>\n",
       "      <th>titulo_honorifico</th>\n",
       "      <th>profesion</th>\n",
       "      <th>nacionalidad</th>\n",
       "      <th>url_historia_politica</th>\n",
       "      <th>fecha_extraccion</th>\n",
       "    </tr>\n",
       "  </thead>\n",
       "  <tbody>\n",
       "    <tr>\n",
       "      <th>0</th>\n",
       "      <td>1</td>\n",
       "      <td>María Candelaria Acevedo Sáez</td>\n",
       "      <td>María Candelaria</td>\n",
       "      <td>Acevedo</td>\n",
       "      <td>Sáez</td>\n",
       "      <td>Femenino</td>\n",
       "      <td>1958-09-12</td>\n",
       "      <td>Coronel</td>\n",
       "      <td>None</td>\n",
       "      <td>None</td>\n",
       "      <td>...</td>\n",
       "      <td>None</td>\n",
       "      <td>http://datos.bcn.cl/recurso/persona/5247</td>\n",
       "      <td>https://www.bcn.cl/laborparlamentaria/imagen/1...</td>\n",
       "      <td>None</td>\n",
       "      <td>None</td>\n",
       "      <td>None</td>\n",
       "      <td>None</td>\n",
       "      <td>http://datos.bcn.cl/recurso/pais/chile</td>\n",
       "      <td>https://www.bcn.cl/historiapolitica/resenas_pa...</td>\n",
       "      <td>2025-08-12</td>\n",
       "    </tr>\n",
       "    <tr>\n",
       "      <th>1</th>\n",
       "      <td>2</td>\n",
       "      <td>Eric Aedo Jeldres</td>\n",
       "      <td>Eric Mariano</td>\n",
       "      <td>Aedo</td>\n",
       "      <td>Jeldres</td>\n",
       "      <td>Masculino</td>\n",
       "      <td>1968-07-13</td>\n",
       "      <td>Los Ángeles</td>\n",
       "      <td>None</td>\n",
       "      <td>None</td>\n",
       "      <td>...</td>\n",
       "      <td>None</td>\n",
       "      <td>http://datos.bcn.cl/recurso/persona/5253</td>\n",
       "      <td>https://www.bcn.cl/laborparlamentaria/imagen/1...</td>\n",
       "      <td>None</td>\n",
       "      <td>None</td>\n",
       "      <td>None</td>\n",
       "      <td>Administrador de Programas Sociales</td>\n",
       "      <td>http://datos.bcn.cl/recurso/pais/chile</td>\n",
       "      <td>https://www.bcn.cl/historiapolitica/resenas_pa...</td>\n",
       "      <td>2025-08-12</td>\n",
       "    </tr>\n",
       "    <tr>\n",
       "      <th>2</th>\n",
       "      <td>3</td>\n",
       "      <td>Yovana Ahumada Palma</td>\n",
       "      <td>Yovana Alejandra</td>\n",
       "      <td>Ahumada</td>\n",
       "      <td>Palma</td>\n",
       "      <td>Femenino</td>\n",
       "      <td>1973-12-24</td>\n",
       "      <td>Antofagasta</td>\n",
       "      <td>None</td>\n",
       "      <td>None</td>\n",
       "      <td>...</td>\n",
       "      <td>None</td>\n",
       "      <td>http://datos.bcn.cl/recurso/persona/5188</td>\n",
       "      <td>https://www.bcn.cl/laborparlamentaria/imagen/1...</td>\n",
       "      <td>yovyaftap2</td>\n",
       "      <td>None</td>\n",
       "      <td>None</td>\n",
       "      <td>Técnica agropecuaria</td>\n",
       "      <td>http://datos.bcn.cl/recurso/pais/chile</td>\n",
       "      <td>https://www.bcn.cl/historiapolitica/resenas_pa...</td>\n",
       "      <td>2025-08-12</td>\n",
       "    </tr>\n",
       "    <tr>\n",
       "      <th>3</th>\n",
       "      <td>4</td>\n",
       "      <td>Jorge Alessandri Vergara</td>\n",
       "      <td>Jorge Iván</td>\n",
       "      <td>Alessandri</td>\n",
       "      <td>Vergara</td>\n",
       "      <td>Masculino</td>\n",
       "      <td>1979-06-08</td>\n",
       "      <td>Santiago de Chile</td>\n",
       "      <td>None</td>\n",
       "      <td>None</td>\n",
       "      <td>...</td>\n",
       "      <td>None</td>\n",
       "      <td>http://datos.bcn.cl/recurso/persona/4604</td>\n",
       "      <td>https://www.bcn.cl/laborparlamentaria/imagen/1...</td>\n",
       "      <td>jalessandri</td>\n",
       "      <td>None</td>\n",
       "      <td>None</td>\n",
       "      <td>Abogado</td>\n",
       "      <td>http://datos.bcn.cl/recurso/pais/chile</td>\n",
       "      <td>https://www.bcn.cl/historiapolitica/resenas_pa...</td>\n",
       "      <td>2025-08-12</td>\n",
       "    </tr>\n",
       "    <tr>\n",
       "      <th>4</th>\n",
       "      <td>5</td>\n",
       "      <td>René Alinco Bustos</td>\n",
       "      <td>René</td>\n",
       "      <td>Alinco</td>\n",
       "      <td>Bustos</td>\n",
       "      <td>Masculino</td>\n",
       "      <td>1958-06-02</td>\n",
       "      <td></td>\n",
       "      <td>None</td>\n",
       "      <td>None</td>\n",
       "      <td>...</td>\n",
       "      <td>None</td>\n",
       "      <td>http://datos.bcn.cl/recurso/persona/135</td>\n",
       "      <td>https://www.bcn.cl/laborparlamentaria/imagen/1...</td>\n",
       "      <td>alinco_rene</td>\n",
       "      <td>None</td>\n",
       "      <td>None</td>\n",
       "      <td>Obrero de la Construcción</td>\n",
       "      <td>http://datos.bcn.cl/recurso/pais/chile</td>\n",
       "      <td>https://www.bcn.cl/historiapolitica/resenas_pa...</td>\n",
       "      <td>2025-08-12</td>\n",
       "    </tr>\n",
       "  </tbody>\n",
       "</table>\n",
       "<p>5 rows × 21 columns</p>\n",
       "</div>"
      ],
      "text/plain": [
       "   mp_uid                nombre_completo     nombre_propio apellido_paterno  \\\n",
       "0       1  María Candelaria Acevedo Sáez  María Candelaria          Acevedo   \n",
       "1       2              Eric Aedo Jeldres      Eric Mariano             Aedo   \n",
       "2       3           Yovana Ahumada Palma  Yovana Alejandra          Ahumada   \n",
       "3       4       Jorge Alessandri Vergara        Jorge Iván       Alessandri   \n",
       "4       5             René Alinco Bustos              René           Alinco   \n",
       "\n",
       "  apellido_materno     genero fecha_nacimiento   lugar_nacimiento distrito  \\\n",
       "0             Sáez   Femenino       1958-09-12            Coronel     None   \n",
       "1          Jeldres  Masculino       1968-07-13        Los Ángeles     None   \n",
       "2            Palma   Femenino       1973-12-24        Antofagasta     None   \n",
       "3          Vergara  Masculino       1979-06-08  Santiago de Chile     None   \n",
       "4           Bustos  Masculino       1958-06-02                        None   \n",
       "\n",
       "  fechas_mandato  ... wikidata_qid                                   bcn_uri  \\\n",
       "0           None  ...         None  http://datos.bcn.cl/recurso/persona/5247   \n",
       "1           None  ...         None  http://datos.bcn.cl/recurso/persona/5253   \n",
       "2           None  ...         None  http://datos.bcn.cl/recurso/persona/5188   \n",
       "3           None  ...         None  http://datos.bcn.cl/recurso/persona/4604   \n",
       "4           None  ...         None   http://datos.bcn.cl/recurso/persona/135   \n",
       "\n",
       "                                            url_foto twitter_handle  \\\n",
       "0  https://www.bcn.cl/laborparlamentaria/imagen/1...           None   \n",
       "1  https://www.bcn.cl/laborparlamentaria/imagen/1...           None   \n",
       "2  https://www.bcn.cl/laborparlamentaria/imagen/1...     yovyaftap2   \n",
       "3  https://www.bcn.cl/laborparlamentaria/imagen/1...    jalessandri   \n",
       "4  https://www.bcn.cl/laborparlamentaria/imagen/1...    alinco_rene   \n",
       "\n",
       "  sitio_web_personal titulo_honorifico                            profesion  \\\n",
       "0               None              None                                 None   \n",
       "1               None              None  Administrador de Programas Sociales   \n",
       "2               None              None                 Técnica agropecuaria   \n",
       "3               None              None                              Abogado   \n",
       "4               None              None            Obrero de la Construcción   \n",
       "\n",
       "                             nacionalidad  \\\n",
       "0  http://datos.bcn.cl/recurso/pais/chile   \n",
       "1  http://datos.bcn.cl/recurso/pais/chile   \n",
       "2  http://datos.bcn.cl/recurso/pais/chile   \n",
       "3  http://datos.bcn.cl/recurso/pais/chile   \n",
       "4  http://datos.bcn.cl/recurso/pais/chile   \n",
       "\n",
       "                               url_historia_politica fecha_extraccion  \n",
       "0  https://www.bcn.cl/historiapolitica/resenas_pa...       2025-08-12  \n",
       "1  https://www.bcn.cl/historiapolitica/resenas_pa...       2025-08-12  \n",
       "2  https://www.bcn.cl/historiapolitica/resenas_pa...       2025-08-12  \n",
       "3  https://www.bcn.cl/historiapolitica/resenas_pa...       2025-08-12  \n",
       "4  https://www.bcn.cl/historiapolitica/resenas_pa...       2025-08-12  \n",
       "\n",
       "[5 rows x 21 columns]"
      ]
     },
     "metadata": {},
     "output_type": "display_data"
    },
    {
     "data": {
      "text/markdown": [
       "--- \n",
       "### 🏛️ Tabla: `parlamentario_aliases`"
      ],
      "text/plain": [
       "<IPython.core.display.Markdown object>"
      ]
     },
     "metadata": {},
     "output_type": "display_data"
    },
    {
     "data": {
      "text/markdown": [
       "_Esta tabla está actualmente vacía._"
      ],
      "text/plain": [
       "<IPython.core.display.Markdown object>"
      ]
     },
     "metadata": {},
     "output_type": "display_data"
    },
    {
     "data": {
      "text/markdown": [
       "--- \n",
       "### 🏛️ Tabla: `dim_partidos`"
      ],
      "text/plain": [
       "<IPython.core.display.Markdown object>"
      ]
     },
     "metadata": {},
     "output_type": "display_data"
    },
    {
     "data": {
      "application/vnd.microsoft.datawrangler.viewer.v0+json": {
       "columns": [
        {
         "name": "index",
         "rawType": "int64",
         "type": "integer"
        },
        {
         "name": "partido_id",
         "rawType": "int64",
         "type": "integer"
        },
        {
         "name": "nombre_partido",
         "rawType": "object",
         "type": "string"
        },
        {
         "name": "nombre_alternativo",
         "rawType": "object",
         "type": "string"
        },
        {
         "name": "sigla",
         "rawType": "object",
         "type": "unknown"
        },
        {
         "name": "fecha_fundacion",
         "rawType": "object",
         "type": "string"
        },
        {
         "name": "sitio_web",
         "rawType": "object",
         "type": "unknown"
        },
        {
         "name": "url_historia_politica",
         "rawType": "object",
         "type": "string"
        },
        {
         "name": "url_logo",
         "rawType": "object",
         "type": "unknown"
        },
        {
         "name": "ultima_actualizacion",
         "rawType": "object",
         "type": "string"
        }
       ],
       "ref": "e06cfbeb-03f3-4a34-b30a-937471643ca5",
       "rows": [
        [
         "0",
         "1",
         "Coalición por el Cambio",
         "",
         null,
         "2009",
         null,
         "https://www.bcn.cl/historiapolitica/partidos_politicos/wiki/Coalición_por_el_Cambio",
         "https://www.bcn.cl/laborparlamentaria/imagen/partido102.jpg",
         "2019-03-29T11:14:07-03:00"
        ],
        [
         "1",
         "2",
         "Partido Radical",
         "",
         "PR",
         "1863",
         null,
         "https://www.bcn.cl/historiapolitica/partidos_politicos/wiki/Partido_Radical",
         null,
         "2019-03-29T11:14:07-03:00"
        ],
        [
         "2",
         "3",
         "Partido Amplio de Izquierda Socialista",
         "",
         null,
         "1988",
         null,
         "https://www.bcn.cl/historiapolitica/partidos_politicos/wiki/Partido_Amplio_de_Izquierda_Socialista",
         null,
         "2019-03-29T11:14:07-03:00"
        ],
        [
         "3",
         "4",
         "Unión Socialista Popular",
         "",
         null,
         "1967",
         null,
         "https://www.bcn.cl/historiapolitica/partidos_politicos/wiki/Unión_Socialista_Popular",
         null,
         "2019-03-29T11:14:07-03:00"
        ],
        [
         "4",
         "5",
         "Partido Agrario Laborista",
         "",
         null,
         "1945",
         null,
         "https://www.bcn.cl/historiapolitica/partidos_politicos/wiki/Partido_Agrario_Laborista",
         null,
         "2019-03-29T11:14:07-03:00"
        ]
       ],
       "shape": {
        "columns": 9,
        "rows": 5
       }
      },
      "text/html": [
       "<div>\n",
       "<style scoped>\n",
       "    .dataframe tbody tr th:only-of-type {\n",
       "        vertical-align: middle;\n",
       "    }\n",
       "\n",
       "    .dataframe tbody tr th {\n",
       "        vertical-align: top;\n",
       "    }\n",
       "\n",
       "    .dataframe thead th {\n",
       "        text-align: right;\n",
       "    }\n",
       "</style>\n",
       "<table border=\"1\" class=\"dataframe\">\n",
       "  <thead>\n",
       "    <tr style=\"text-align: right;\">\n",
       "      <th></th>\n",
       "      <th>partido_id</th>\n",
       "      <th>nombre_partido</th>\n",
       "      <th>nombre_alternativo</th>\n",
       "      <th>sigla</th>\n",
       "      <th>fecha_fundacion</th>\n",
       "      <th>sitio_web</th>\n",
       "      <th>url_historia_politica</th>\n",
       "      <th>url_logo</th>\n",
       "      <th>ultima_actualizacion</th>\n",
       "    </tr>\n",
       "  </thead>\n",
       "  <tbody>\n",
       "    <tr>\n",
       "      <th>0</th>\n",
       "      <td>1</td>\n",
       "      <td>Coalición por el Cambio</td>\n",
       "      <td></td>\n",
       "      <td>None</td>\n",
       "      <td>2009</td>\n",
       "      <td>None</td>\n",
       "      <td>https://www.bcn.cl/historiapolitica/partidos_p...</td>\n",
       "      <td>https://www.bcn.cl/laborparlamentaria/imagen/p...</td>\n",
       "      <td>2019-03-29T11:14:07-03:00</td>\n",
       "    </tr>\n",
       "    <tr>\n",
       "      <th>1</th>\n",
       "      <td>2</td>\n",
       "      <td>Partido Radical</td>\n",
       "      <td></td>\n",
       "      <td>PR</td>\n",
       "      <td>1863</td>\n",
       "      <td>None</td>\n",
       "      <td>https://www.bcn.cl/historiapolitica/partidos_p...</td>\n",
       "      <td>None</td>\n",
       "      <td>2019-03-29T11:14:07-03:00</td>\n",
       "    </tr>\n",
       "    <tr>\n",
       "      <th>2</th>\n",
       "      <td>3</td>\n",
       "      <td>Partido Amplio de Izquierda Socialista</td>\n",
       "      <td></td>\n",
       "      <td>None</td>\n",
       "      <td>1988</td>\n",
       "      <td>None</td>\n",
       "      <td>https://www.bcn.cl/historiapolitica/partidos_p...</td>\n",
       "      <td>None</td>\n",
       "      <td>2019-03-29T11:14:07-03:00</td>\n",
       "    </tr>\n",
       "    <tr>\n",
       "      <th>3</th>\n",
       "      <td>4</td>\n",
       "      <td>Unión Socialista Popular</td>\n",
       "      <td></td>\n",
       "      <td>None</td>\n",
       "      <td>1967</td>\n",
       "      <td>None</td>\n",
       "      <td>https://www.bcn.cl/historiapolitica/partidos_p...</td>\n",
       "      <td>None</td>\n",
       "      <td>2019-03-29T11:14:07-03:00</td>\n",
       "    </tr>\n",
       "    <tr>\n",
       "      <th>4</th>\n",
       "      <td>5</td>\n",
       "      <td>Partido Agrario Laborista</td>\n",
       "      <td></td>\n",
       "      <td>None</td>\n",
       "      <td>1945</td>\n",
       "      <td>None</td>\n",
       "      <td>https://www.bcn.cl/historiapolitica/partidos_p...</td>\n",
       "      <td>None</td>\n",
       "      <td>2019-03-29T11:14:07-03:00</td>\n",
       "    </tr>\n",
       "  </tbody>\n",
       "</table>\n",
       "</div>"
      ],
      "text/plain": [
       "   partido_id                          nombre_partido nombre_alternativo  \\\n",
       "0           1                 Coalición por el Cambio                      \n",
       "1           2                         Partido Radical                      \n",
       "2           3  Partido Amplio de Izquierda Socialista                      \n",
       "3           4                Unión Socialista Popular                      \n",
       "4           5               Partido Agrario Laborista                      \n",
       "\n",
       "  sigla fecha_fundacion sitio_web  \\\n",
       "0  None            2009      None   \n",
       "1    PR            1863      None   \n",
       "2  None            1988      None   \n",
       "3  None            1967      None   \n",
       "4  None            1945      None   \n",
       "\n",
       "                               url_historia_politica  \\\n",
       "0  https://www.bcn.cl/historiapolitica/partidos_p...   \n",
       "1  https://www.bcn.cl/historiapolitica/partidos_p...   \n",
       "2  https://www.bcn.cl/historiapolitica/partidos_p...   \n",
       "3  https://www.bcn.cl/historiapolitica/partidos_p...   \n",
       "4  https://www.bcn.cl/historiapolitica/partidos_p...   \n",
       "\n",
       "                                            url_logo  \\\n",
       "0  https://www.bcn.cl/laborparlamentaria/imagen/p...   \n",
       "1                                               None   \n",
       "2                                               None   \n",
       "3                                               None   \n",
       "4                                               None   \n",
       "\n",
       "        ultima_actualizacion  \n",
       "0  2019-03-29T11:14:07-03:00  \n",
       "1  2019-03-29T11:14:07-03:00  \n",
       "2  2019-03-29T11:14:07-03:00  \n",
       "3  2019-03-29T11:14:07-03:00  \n",
       "4  2019-03-29T11:14:07-03:00  "
      ]
     },
     "metadata": {},
     "output_type": "display_data"
    },
    {
     "data": {
      "text/markdown": [
       "--- \n",
       "### 🏛️ Tabla: `dim_coaliciones`"
      ],
      "text/plain": [
       "<IPython.core.display.Markdown object>"
      ]
     },
     "metadata": {},
     "output_type": "display_data"
    },
    {
     "data": {
      "text/markdown": [
       "_Esta tabla está actualmente vacía._"
      ],
      "text/plain": [
       "<IPython.core.display.Markdown object>"
      ]
     },
     "metadata": {},
     "output_type": "display_data"
    },
    {
     "data": {
      "text/markdown": [
       "--- \n",
       "### 🏛️ Tabla: `bills`"
      ],
      "text/plain": [
       "<IPython.core.display.Markdown object>"
      ]
     },
     "metadata": {},
     "output_type": "display_data"
    },
    {
     "data": {
      "text/markdown": [
       "_Esta tabla está actualmente vacía._"
      ],
      "text/plain": [
       "<IPython.core.display.Markdown object>"
      ]
     },
     "metadata": {},
     "output_type": "display_data"
    },
    {
     "data": {
      "text/markdown": [
       "--- \n",
       "### 🏛️ Tabla: `militancia_historial`"
      ],
      "text/plain": [
       "<IPython.core.display.Markdown object>"
      ]
     },
     "metadata": {},
     "output_type": "display_data"
    },
    {
     "data": {
      "application/vnd.microsoft.datawrangler.viewer.v0+json": {
       "columns": [
        {
         "name": "index",
         "rawType": "int64",
         "type": "integer"
        },
        {
         "name": "militancia_id",
         "rawType": "int64",
         "type": "integer"
        },
        {
         "name": "mp_uid",
         "rawType": "int64",
         "type": "integer"
        },
        {
         "name": "partido_id",
         "rawType": "int64",
         "type": "integer"
        },
        {
         "name": "coalicion_id",
         "rawType": "object",
         "type": "unknown"
        },
        {
         "name": "fecha_inicio",
         "rawType": "object",
         "type": "string"
        },
        {
         "name": "fecha_fin",
         "rawType": "object",
         "type": "string"
        }
       ],
       "ref": "91c43351-aebd-4657-8ac7-c995ed23c79b",
       "rows": [
        [
         "0",
         "1",
         "2",
         "53",
         null,
         "2022-03-11",
         "2026-03-10"
        ],
        [
         "1",
         "2",
         "4",
         "61",
         null,
         "2018-03-11",
         "2022-03-10"
        ],
        [
         "2",
         "3",
         "4",
         "61",
         null,
         "2022-03-11",
         "2026-03-10"
        ],
        [
         "3",
         "4",
         "5",
         "128",
         null,
         "2006-03-11",
         "2010-03-10"
        ],
        [
         "4",
         "5",
         "13",
         "53",
         null,
         "2022-03-11",
         "2026-03-10"
        ]
       ],
       "shape": {
        "columns": 6,
        "rows": 5
       }
      },
      "text/html": [
       "<div>\n",
       "<style scoped>\n",
       "    .dataframe tbody tr th:only-of-type {\n",
       "        vertical-align: middle;\n",
       "    }\n",
       "\n",
       "    .dataframe tbody tr th {\n",
       "        vertical-align: top;\n",
       "    }\n",
       "\n",
       "    .dataframe thead th {\n",
       "        text-align: right;\n",
       "    }\n",
       "</style>\n",
       "<table border=\"1\" class=\"dataframe\">\n",
       "  <thead>\n",
       "    <tr style=\"text-align: right;\">\n",
       "      <th></th>\n",
       "      <th>militancia_id</th>\n",
       "      <th>mp_uid</th>\n",
       "      <th>partido_id</th>\n",
       "      <th>coalicion_id</th>\n",
       "      <th>fecha_inicio</th>\n",
       "      <th>fecha_fin</th>\n",
       "    </tr>\n",
       "  </thead>\n",
       "  <tbody>\n",
       "    <tr>\n",
       "      <th>0</th>\n",
       "      <td>1</td>\n",
       "      <td>2</td>\n",
       "      <td>53</td>\n",
       "      <td>None</td>\n",
       "      <td>2022-03-11</td>\n",
       "      <td>2026-03-10</td>\n",
       "    </tr>\n",
       "    <tr>\n",
       "      <th>1</th>\n",
       "      <td>2</td>\n",
       "      <td>4</td>\n",
       "      <td>61</td>\n",
       "      <td>None</td>\n",
       "      <td>2018-03-11</td>\n",
       "      <td>2022-03-10</td>\n",
       "    </tr>\n",
       "    <tr>\n",
       "      <th>2</th>\n",
       "      <td>3</td>\n",
       "      <td>4</td>\n",
       "      <td>61</td>\n",
       "      <td>None</td>\n",
       "      <td>2022-03-11</td>\n",
       "      <td>2026-03-10</td>\n",
       "    </tr>\n",
       "    <tr>\n",
       "      <th>3</th>\n",
       "      <td>4</td>\n",
       "      <td>5</td>\n",
       "      <td>128</td>\n",
       "      <td>None</td>\n",
       "      <td>2006-03-11</td>\n",
       "      <td>2010-03-10</td>\n",
       "    </tr>\n",
       "    <tr>\n",
       "      <th>4</th>\n",
       "      <td>5</td>\n",
       "      <td>13</td>\n",
       "      <td>53</td>\n",
       "      <td>None</td>\n",
       "      <td>2022-03-11</td>\n",
       "      <td>2026-03-10</td>\n",
       "    </tr>\n",
       "  </tbody>\n",
       "</table>\n",
       "</div>"
      ],
      "text/plain": [
       "   militancia_id  mp_uid  partido_id coalicion_id fecha_inicio   fecha_fin\n",
       "0              1       2          53         None   2022-03-11  2026-03-10\n",
       "1              2       4          61         None   2018-03-11  2022-03-10\n",
       "2              3       4          61         None   2022-03-11  2026-03-10\n",
       "3              4       5         128         None   2006-03-11  2010-03-10\n",
       "4              5      13          53         None   2022-03-11  2026-03-10"
      ]
     },
     "metadata": {},
     "output_type": "display_data"
    },
    {
     "data": {
      "text/markdown": [
       "--- \n",
       "### 🏛️ Tabla: `bill_authors`"
      ],
      "text/plain": [
       "<IPython.core.display.Markdown object>"
      ]
     },
     "metadata": {},
     "output_type": "display_data"
    },
    {
     "data": {
      "text/markdown": [
       "_Esta tabla está actualmente vacía._"
      ],
      "text/plain": [
       "<IPython.core.display.Markdown object>"
      ]
     },
     "metadata": {},
     "output_type": "display_data"
    },
    {
     "data": {
      "text/markdown": [
       "--- \n",
       "### 🏛️ Tabla: `votes`"
      ],
      "text/plain": [
       "<IPython.core.display.Markdown object>"
      ]
     },
     "metadata": {},
     "output_type": "display_data"
    },
    {
     "data": {
      "text/markdown": [
       "_Esta tabla está actualmente vacía._"
      ],
      "text/plain": [
       "<IPython.core.display.Markdown object>"
      ]
     },
     "metadata": {},
     "output_type": "display_data"
    },
    {
     "data": {
      "text/markdown": [
       "--- \n",
       "### 🏛️ Tabla: `speech_turns`"
      ],
      "text/plain": [
       "<IPython.core.display.Markdown object>"
      ]
     },
     "metadata": {},
     "output_type": "display_data"
    },
    {
     "data": {
      "text/markdown": [
       "_Esta tabla está actualmente vacía._"
      ],
      "text/plain": [
       "<IPython.core.display.Markdown object>"
      ]
     },
     "metadata": {},
     "output_type": "display_data"
    },
    {
     "data": {
      "text/markdown": [
       "--- \n",
       "### 🏛️ Tabla: `interactions`"
      ],
      "text/plain": [
       "<IPython.core.display.Markdown object>"
      ]
     },
     "metadata": {},
     "output_type": "display_data"
    },
    {
     "data": {
      "text/markdown": [
       "_Esta tabla está actualmente vacía._"
      ],
      "text/plain": [
       "<IPython.core.display.Markdown object>"
      ]
     },
     "metadata": {},
     "output_type": "display_data"
    },
    {
     "data": {
      "text/markdown": [
       "--- \n",
       "### 🏛️ Tabla: `educacion`"
      ],
      "text/plain": [
       "<IPython.core.display.Markdown object>"
      ]
     },
     "metadata": {},
     "output_type": "display_data"
    },
    {
     "data": {
      "text/markdown": [
       "_Esta tabla está actualmente vacía._"
      ],
      "text/plain": [
       "<IPython.core.display.Markdown object>"
      ]
     },
     "metadata": {},
     "output_type": "display_data"
    },
    {
     "data": {
      "text/markdown": [
       "--- \n",
       "### 🏛️ Tabla: `comision_membresias`"
      ],
      "text/plain": [
       "<IPython.core.display.Markdown object>"
      ]
     },
     "metadata": {},
     "output_type": "display_data"
    },
    {
     "data": {
      "text/markdown": [
       "_Esta tabla está actualmente vacía._"
      ],
      "text/plain": [
       "<IPython.core.display.Markdown object>"
      ]
     },
     "metadata": {},
     "output_type": "display_data"
    },
    {
     "data": {
      "text/markdown": [
       "--- \n",
       "### 🏛️ Tabla: `electoral_results`"
      ],
      "text/plain": [
       "<IPython.core.display.Markdown object>"
      ]
     },
     "metadata": {},
     "output_type": "display_data"
    },
    {
     "data": {
      "text/markdown": [
       "_Esta tabla está actualmente vacía._"
      ],
      "text/plain": [
       "<IPython.core.display.Markdown object>"
      ]
     },
     "metadata": {},
     "output_type": "display_data"
    }
   ],
   "source": [
    "import sqlite3\n",
    "import pandas as pd\n",
    "from IPython.display import display, Markdown\n",
    "\n",
    "# --- CONFIGURACIÓN ---\n",
    "# Ruta a tu base de datos\n",
    "DB_PATH = 'data/database/parlamento.db'\n",
    "# Número de filas a mostrar por tabla\n",
    "LIMIT = 5\n",
    "\n",
    "def display_database_overview(db_path, limit):\n",
    "    \"\"\"\n",
    "    Se conecta a la BD y muestra las primeras N filas de cada tabla\n",
    "    de manera ordenada en un notebook.\n",
    "    \"\"\"\n",
    "    try:\n",
    "        with sqlite3.connect(db_path) as conn:\n",
    "            cursor = conn.cursor()\n",
    "            \n",
    "            # Obtener la lista de todas las tablas\n",
    "            cursor.execute(\"SELECT name FROM sqlite_master WHERE type='table';\")\n",
    "            tables = [table[0] for table in cursor.fetchall()]\n",
    "            \n",
    "            display(Markdown(f\"# 📊 Resumen de la Base de Datos: `{db_path}`\"))\n",
    "            display(Markdown(f\"Mostrando las primeras **{limit} filas** de cada tabla.\"))\n",
    "            \n",
    "            for table in tables:\n",
    "                if table.startswith('sqlite_'):\n",
    "                    continue\n",
    "                \n",
    "                try:\n",
    "                    # Usar pandas para leer la consulta SQL y obtener un DataFrame\n",
    "                    df = pd.read_sql_query(f\"SELECT * FROM {table} LIMIT {limit}\", conn)\n",
    "                    \n",
    "                    # Mostrar el nombre de la tabla como un título\n",
    "                    display(Markdown(f\"--- \\n### 🏛️ Tabla: `{table}`\"))\n",
    "                    \n",
    "                    if df.empty:\n",
    "                        display(Markdown(\"_Esta tabla está actualmente vacía._\"))\n",
    "                    else:\n",
    "                        # La función display() renderiza el DataFrame como una tabla HTML\n",
    "                        display(df)\n",
    "                        \n",
    "                except Exception as e:\n",
    "                    display(Markdown(f\"No se pudo leer la tabla `{table}`. Error: {e}\"))\n",
    "\n",
    "    except sqlite3.Error as e:\n",
    "        print(f\"❌ Error de base de datos: {e}\")\n",
    "\n",
    "# --- Ejecutar la función para mostrar el resumen ---\n",
    "display_database_overview(DB_PATH, LIMIT)"
   ]
  }
 ],
 "metadata": {
  "kernelspec": {
   "display_name": "Python 3",
   "language": "python",
   "name": "python3"
  },
  "language_info": {
   "codemirror_mode": {
    "name": "ipython",
    "version": 3
   },
   "file_extension": ".py",
   "mimetype": "text/x-python",
   "name": "python",
   "nbconvert_exporter": "python",
   "pygments_lexer": "ipython3",
   "version": "3.12.5"
  }
 },
 "nbformat": 4,
 "nbformat_minor": 5
}
