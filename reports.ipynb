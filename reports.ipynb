{
 "cells": [
  {
   "cell_type": "code",
   "execution_count": 8,
   "id": "b7891ebe",
   "metadata": {},
   "outputs": [
    {
     "name": "stdout",
     "output_type": "stream",
     "text": [
      "✅ Conexión a la base de datos 'data/database/parlamento.db' exitosa.\n",
      "\n",
      "Se encontraron 28 tablas. Mostrando las 5 primeras filas de cada una:\n",
      "\n"
     ]
    },
    {
     "data": {
      "text/markdown": [
       "### Tabla: `dim_profesiones`"
      ],
      "text/plain": [
       "<IPython.core.display.Markdown object>"
      ]
     },
     "metadata": {},
     "output_type": "display_data"
    },
    {
     "data": {
      "application/vnd.microsoft.datawrangler.viewer.v0+json": {
       "columns": [
        {
         "name": "index",
         "rawType": "int64",
         "type": "integer"
        },
        {
         "name": "profesion_id",
         "rawType": "int64",
         "type": "integer"
        },
        {
         "name": "nombre_profesion",
         "rawType": "object",
         "type": "string"
        }
       ],
       "ref": "09689897-e7d4-4b2e-8513-31c22521ae8e",
       "rows": [
        [
         "0",
         "1",
         "Abogado"
        ],
        [
         "1",
         "2",
         "Farmacéutico"
        ],
        [
         "2",
         "3",
         "Médico; Médico Cirujano"
        ],
        [
         "3",
         "4",
         "Abogado; Agricultor"
        ],
        [
         "4",
         "5",
         "Militar; General de Brigada"
        ]
       ],
       "shape": {
        "columns": 2,
        "rows": 5
       }
      },
      "text/html": [
       "<div>\n",
       "<style scoped>\n",
       "    .dataframe tbody tr th:only-of-type {\n",
       "        vertical-align: middle;\n",
       "    }\n",
       "\n",
       "    .dataframe tbody tr th {\n",
       "        vertical-align: top;\n",
       "    }\n",
       "\n",
       "    .dataframe thead th {\n",
       "        text-align: right;\n",
       "    }\n",
       "</style>\n",
       "<table border=\"1\" class=\"dataframe\">\n",
       "  <thead>\n",
       "    <tr style=\"text-align: right;\">\n",
       "      <th></th>\n",
       "      <th>profesion_id</th>\n",
       "      <th>nombre_profesion</th>\n",
       "    </tr>\n",
       "  </thead>\n",
       "  <tbody>\n",
       "    <tr>\n",
       "      <th>0</th>\n",
       "      <td>1</td>\n",
       "      <td>Abogado</td>\n",
       "    </tr>\n",
       "    <tr>\n",
       "      <th>1</th>\n",
       "      <td>2</td>\n",
       "      <td>Farmacéutico</td>\n",
       "    </tr>\n",
       "    <tr>\n",
       "      <th>2</th>\n",
       "      <td>3</td>\n",
       "      <td>Médico; Médico Cirujano</td>\n",
       "    </tr>\n",
       "    <tr>\n",
       "      <th>3</th>\n",
       "      <td>4</td>\n",
       "      <td>Abogado; Agricultor</td>\n",
       "    </tr>\n",
       "    <tr>\n",
       "      <th>4</th>\n",
       "      <td>5</td>\n",
       "      <td>Militar; General de Brigada</td>\n",
       "    </tr>\n",
       "  </tbody>\n",
       "</table>\n",
       "</div>"
      ],
      "text/plain": [
       "   profesion_id             nombre_profesion\n",
       "0             1                      Abogado\n",
       "1             2                 Farmacéutico\n",
       "2             3      Médico; Médico Cirujano\n",
       "3             4          Abogado; Agricultor\n",
       "4             5  Militar; General de Brigada"
      ]
     },
     "metadata": {},
     "output_type": "display_data"
    },
    {
     "name": "stdout",
     "output_type": "stream",
     "text": [
      "\n",
      "==================================================\n",
      "\n"
     ]
    },
    {
     "data": {
      "text/markdown": [
       "### Tabla: `sqlite_sequence`"
      ],
      "text/plain": [
       "<IPython.core.display.Markdown object>"
      ]
     },
     "metadata": {},
     "output_type": "display_data"
    },
    {
     "data": {
      "application/vnd.microsoft.datawrangler.viewer.v0+json": {
       "columns": [
        {
         "name": "index",
         "rawType": "int64",
         "type": "integer"
        },
        {
         "name": "name",
         "rawType": "object",
         "type": "string"
        },
        {
         "name": "seq",
         "rawType": "int64",
         "type": "integer"
        }
       ],
       "ref": "efef8eff-3eeb-4909-bd60-6e45cf3c8da5",
       "rows": [
        [
         "0",
         "dim_profesiones",
         "550"
        ],
        [
         "1",
         "dim_parlamentario",
         "3964"
        ],
        [
         "2",
         "dim_partidos",
         "2851"
        ],
        [
         "3",
         "dim_comisiones",
         "4621"
        ],
        [
         "4",
         "dim_ministerios",
         "29"
        ]
       ],
       "shape": {
        "columns": 2,
        "rows": 5
       }
      },
      "text/html": [
       "<div>\n",
       "<style scoped>\n",
       "    .dataframe tbody tr th:only-of-type {\n",
       "        vertical-align: middle;\n",
       "    }\n",
       "\n",
       "    .dataframe tbody tr th {\n",
       "        vertical-align: top;\n",
       "    }\n",
       "\n",
       "    .dataframe thead th {\n",
       "        text-align: right;\n",
       "    }\n",
       "</style>\n",
       "<table border=\"1\" class=\"dataframe\">\n",
       "  <thead>\n",
       "    <tr style=\"text-align: right;\">\n",
       "      <th></th>\n",
       "      <th>name</th>\n",
       "      <th>seq</th>\n",
       "    </tr>\n",
       "  </thead>\n",
       "  <tbody>\n",
       "    <tr>\n",
       "      <th>0</th>\n",
       "      <td>dim_profesiones</td>\n",
       "      <td>550</td>\n",
       "    </tr>\n",
       "    <tr>\n",
       "      <th>1</th>\n",
       "      <td>dim_parlamentario</td>\n",
       "      <td>3964</td>\n",
       "    </tr>\n",
       "    <tr>\n",
       "      <th>2</th>\n",
       "      <td>dim_partidos</td>\n",
       "      <td>2851</td>\n",
       "    </tr>\n",
       "    <tr>\n",
       "      <th>3</th>\n",
       "      <td>dim_comisiones</td>\n",
       "      <td>4621</td>\n",
       "    </tr>\n",
       "    <tr>\n",
       "      <th>4</th>\n",
       "      <td>dim_ministerios</td>\n",
       "      <td>29</td>\n",
       "    </tr>\n",
       "  </tbody>\n",
       "</table>\n",
       "</div>"
      ],
      "text/plain": [
       "                name   seq\n",
       "0    dim_profesiones   550\n",
       "1  dim_parlamentario  3964\n",
       "2       dim_partidos  2851\n",
       "3     dim_comisiones  4621\n",
       "4    dim_ministerios    29"
      ]
     },
     "metadata": {},
     "output_type": "display_data"
    },
    {
     "name": "stdout",
     "output_type": "stream",
     "text": [
      "\n",
      "==================================================\n",
      "\n"
     ]
    },
    {
     "data": {
      "text/markdown": [
       "### Tabla: `dim_ubicaciones`"
      ],
      "text/plain": [
       "<IPython.core.display.Markdown object>"
      ]
     },
     "metadata": {},
     "output_type": "display_data"
    },
    {
     "data": {
      "application/vnd.microsoft.datawrangler.viewer.v0+json": {
       "columns": [
        {
         "name": "index",
         "rawType": "int64",
         "type": "integer"
        },
        {
         "name": "ubicacion_id",
         "rawType": "object",
         "type": "string"
        },
        {
         "name": "ciudad",
         "rawType": "object",
         "type": "string"
        },
        {
         "name": "region",
         "rawType": "object",
         "type": "string"
        },
        {
         "name": "pais",
         "rawType": "object",
         "type": "string"
        }
       ],
       "ref": "e5617497-4dd3-49ac-9aeb-b68e5033345a",
       "rows": [],
       "shape": {
        "columns": 4,
        "rows": 0
       }
      },
      "text/html": [
       "<div>\n",
       "<style scoped>\n",
       "    .dataframe tbody tr th:only-of-type {\n",
       "        vertical-align: middle;\n",
       "    }\n",
       "\n",
       "    .dataframe tbody tr th {\n",
       "        vertical-align: top;\n",
       "    }\n",
       "\n",
       "    .dataframe thead th {\n",
       "        text-align: right;\n",
       "    }\n",
       "</style>\n",
       "<table border=\"1\" class=\"dataframe\">\n",
       "  <thead>\n",
       "    <tr style=\"text-align: right;\">\n",
       "      <th></th>\n",
       "      <th>ubicacion_id</th>\n",
       "      <th>ciudad</th>\n",
       "      <th>region</th>\n",
       "      <th>pais</th>\n",
       "    </tr>\n",
       "  </thead>\n",
       "  <tbody>\n",
       "  </tbody>\n",
       "</table>\n",
       "</div>"
      ],
      "text/plain": [
       "Empty DataFrame\n",
       "Columns: [ubicacion_id, ciudad, region, pais]\n",
       "Index: []"
      ]
     },
     "metadata": {},
     "output_type": "display_data"
    },
    {
     "name": "stdout",
     "output_type": "stream",
     "text": [
      "\n",
      "==================================================\n",
      "\n"
     ]
    },
    {
     "data": {
      "text/markdown": [
       "### Tabla: `dim_partidos`"
      ],
      "text/plain": [
       "<IPython.core.display.Markdown object>"
      ]
     },
     "metadata": {},
     "output_type": "display_data"
    },
    {
     "data": {
      "application/vnd.microsoft.datawrangler.viewer.v0+json": {
       "columns": [
        {
         "name": "index",
         "rawType": "int64",
         "type": "integer"
        },
        {
         "name": "partido_id",
         "rawType": "int64",
         "type": "integer"
        },
        {
         "name": "nombre_partido",
         "rawType": "object",
         "type": "string"
        },
        {
         "name": "nombre_alternativo",
         "rawType": "object",
         "type": "unknown"
        },
        {
         "name": "sigla",
         "rawType": "object",
         "type": "unknown"
        },
        {
         "name": "bcn_uri",
         "rawType": "object",
         "type": "unknown"
        },
        {
         "name": "fecha_fundacion",
         "rawType": "object",
         "type": "unknown"
        },
        {
         "name": "sitio_web",
         "rawType": "object",
         "type": "unknown"
        },
        {
         "name": "url_historia_politica",
         "rawType": "object",
         "type": "unknown"
        },
        {
         "name": "url_logo",
         "rawType": "object",
         "type": "unknown"
        },
        {
         "name": "ultima_actualizacion",
         "rawType": "object",
         "type": "unknown"
        }
       ],
       "ref": "86d35146-a8d5-4396-99b0-1db529740ee1",
       "rows": [
        [
         "0",
         "1",
         "Partido Unión Demócrata Independiente",
         null,
         "UDI",
         null,
         null,
         null,
         null,
         null,
         null
        ],
        [
         "1",
         "2",
         "Falange Nacional",
         null,
         null,
         null,
         null,
         null,
         null,
         null,
         null
        ],
        [
         "2",
         "3",
         "Partido Demócrata Cristiano",
         null,
         "DC",
         null,
         null,
         null,
         null,
         null,
         null
        ],
        [
         "3",
         "4",
         "Partido Nacional Cristiano",
         null,
         null,
         null,
         null,
         null,
         null,
         null,
         null
        ],
        [
         "4",
         "5",
         "Partido Liberal Democrático o Balmacedista",
         null,
         null,
         null,
         null,
         null,
         null,
         null,
         null
        ]
       ],
       "shape": {
        "columns": 10,
        "rows": 5
       }
      },
      "text/html": [
       "<div>\n",
       "<style scoped>\n",
       "    .dataframe tbody tr th:only-of-type {\n",
       "        vertical-align: middle;\n",
       "    }\n",
       "\n",
       "    .dataframe tbody tr th {\n",
       "        vertical-align: top;\n",
       "    }\n",
       "\n",
       "    .dataframe thead th {\n",
       "        text-align: right;\n",
       "    }\n",
       "</style>\n",
       "<table border=\"1\" class=\"dataframe\">\n",
       "  <thead>\n",
       "    <tr style=\"text-align: right;\">\n",
       "      <th></th>\n",
       "      <th>partido_id</th>\n",
       "      <th>nombre_partido</th>\n",
       "      <th>nombre_alternativo</th>\n",
       "      <th>sigla</th>\n",
       "      <th>bcn_uri</th>\n",
       "      <th>fecha_fundacion</th>\n",
       "      <th>sitio_web</th>\n",
       "      <th>url_historia_politica</th>\n",
       "      <th>url_logo</th>\n",
       "      <th>ultima_actualizacion</th>\n",
       "    </tr>\n",
       "  </thead>\n",
       "  <tbody>\n",
       "    <tr>\n",
       "      <th>0</th>\n",
       "      <td>1</td>\n",
       "      <td>Partido Unión Demócrata Independiente</td>\n",
       "      <td>None</td>\n",
       "      <td>UDI</td>\n",
       "      <td>None</td>\n",
       "      <td>None</td>\n",
       "      <td>None</td>\n",
       "      <td>None</td>\n",
       "      <td>None</td>\n",
       "      <td>None</td>\n",
       "    </tr>\n",
       "    <tr>\n",
       "      <th>1</th>\n",
       "      <td>2</td>\n",
       "      <td>Falange Nacional</td>\n",
       "      <td>None</td>\n",
       "      <td>None</td>\n",
       "      <td>None</td>\n",
       "      <td>None</td>\n",
       "      <td>None</td>\n",
       "      <td>None</td>\n",
       "      <td>None</td>\n",
       "      <td>None</td>\n",
       "    </tr>\n",
       "    <tr>\n",
       "      <th>2</th>\n",
       "      <td>3</td>\n",
       "      <td>Partido Demócrata Cristiano</td>\n",
       "      <td>None</td>\n",
       "      <td>DC</td>\n",
       "      <td>None</td>\n",
       "      <td>None</td>\n",
       "      <td>None</td>\n",
       "      <td>None</td>\n",
       "      <td>None</td>\n",
       "      <td>None</td>\n",
       "    </tr>\n",
       "    <tr>\n",
       "      <th>3</th>\n",
       "      <td>4</td>\n",
       "      <td>Partido Nacional Cristiano</td>\n",
       "      <td>None</td>\n",
       "      <td>None</td>\n",
       "      <td>None</td>\n",
       "      <td>None</td>\n",
       "      <td>None</td>\n",
       "      <td>None</td>\n",
       "      <td>None</td>\n",
       "      <td>None</td>\n",
       "    </tr>\n",
       "    <tr>\n",
       "      <th>4</th>\n",
       "      <td>5</td>\n",
       "      <td>Partido Liberal Democrático o Balmacedista</td>\n",
       "      <td>None</td>\n",
       "      <td>None</td>\n",
       "      <td>None</td>\n",
       "      <td>None</td>\n",
       "      <td>None</td>\n",
       "      <td>None</td>\n",
       "      <td>None</td>\n",
       "      <td>None</td>\n",
       "    </tr>\n",
       "  </tbody>\n",
       "</table>\n",
       "</div>"
      ],
      "text/plain": [
       "   partido_id                              nombre_partido nombre_alternativo  \\\n",
       "0           1       Partido Unión Demócrata Independiente               None   \n",
       "1           2                            Falange Nacional               None   \n",
       "2           3                 Partido Demócrata Cristiano               None   \n",
       "3           4                  Partido Nacional Cristiano               None   \n",
       "4           5  Partido Liberal Democrático o Balmacedista               None   \n",
       "\n",
       "  sigla bcn_uri fecha_fundacion sitio_web url_historia_politica url_logo  \\\n",
       "0   UDI    None            None      None                  None     None   \n",
       "1  None    None            None      None                  None     None   \n",
       "2    DC    None            None      None                  None     None   \n",
       "3  None    None            None      None                  None     None   \n",
       "4  None    None            None      None                  None     None   \n",
       "\n",
       "  ultima_actualizacion  \n",
       "0                 None  \n",
       "1                 None  \n",
       "2                 None  \n",
       "3                 None  \n",
       "4                 None  "
      ]
     },
     "metadata": {},
     "output_type": "display_data"
    },
    {
     "name": "stdout",
     "output_type": "stream",
     "text": [
      "\n",
      "==================================================\n",
      "\n"
     ]
    },
    {
     "data": {
      "text/markdown": [
       "### Tabla: `dim_parlamentario`"
      ],
      "text/plain": [
       "<IPython.core.display.Markdown object>"
      ]
     },
     "metadata": {},
     "output_type": "display_data"
    },
    {
     "data": {
      "application/vnd.microsoft.datawrangler.viewer.v0+json": {
       "columns": [
        {
         "name": "index",
         "rawType": "int64",
         "type": "integer"
        },
        {
         "name": "mp_uid",
         "rawType": "int64",
         "type": "integer"
        },
        {
         "name": "nombre_completo",
         "rawType": "object",
         "type": "string"
        },
        {
         "name": "nombre_propio",
         "rawType": "object",
         "type": "string"
        },
        {
         "name": "apellido_paterno",
         "rawType": "object",
         "type": "string"
        },
        {
         "name": "apellido_materno",
         "rawType": "object",
         "type": "unknown"
        },
        {
         "name": "genero",
         "rawType": "object",
         "type": "string"
        },
        {
         "name": "fecha_nacimiento",
         "rawType": "object",
         "type": "unknown"
        },
        {
         "name": "lugar_nacimiento_id",
         "rawType": "object",
         "type": "unknown"
        },
        {
         "name": "diputadoid",
         "rawType": "object",
         "type": "unknown"
        },
        {
         "name": "senadorid",
         "rawType": "object",
         "type": "unknown"
        },
        {
         "name": "bcn_person_id",
         "rawType": "object",
         "type": "string"
        },
        {
         "name": "bcn_uri",
         "rawType": "object",
         "type": "string"
        },
        {
         "name": "url_foto",
         "rawType": "object",
         "type": "string"
        },
        {
         "name": "twitter_handle",
         "rawType": "object",
         "type": "unknown"
        },
        {
         "name": "sitio_web_personal",
         "rawType": "object",
         "type": "unknown"
        },
        {
         "name": "profesion_id",
         "rawType": "float64",
         "type": "float"
        },
        {
         "name": "partido_militante_actual_id",
         "rawType": "object",
         "type": "unknown"
        },
        {
         "name": "url_historia_politica",
         "rawType": "object",
         "type": "string"
        },
        {
         "name": "fecha_extraccion",
         "rawType": "object",
         "type": "string"
        }
       ],
       "ref": "cba3b7ef-9994-493a-9fbf-2e820734ff58",
       "rows": [
        [
         "0",
         "1",
         "Carlos Bombal Otaegui",
         "Carlos",
         "Bombal",
         "Otaegui",
         "Masculino",
         null,
         null,
         "415",
         null,
         "2721",
         "http://datos.bcn.cl/recurso/persona/2721",
         "https://www.bcn.cl/laborparlamentaria/imagen/2721.jpg",
         null,
         null,
         "1.0",
         null,
         "https://www.bcn.cl/historiapolitica/resenas_parlamentarias/wiki/Carlos_Bombal_Otaegui",
         "2025-09-06"
        ],
        [
         "1",
         "2",
         "Ramón Arias",
         "Ramón",
         "Arias",
         null,
         "Masculino",
         null,
         null,
         null,
         null,
         "2483",
         "http://datos.bcn.cl/recurso/persona/2483",
         "https://www.bcn.cl/laborparlamentaria/imagen/2483.jpg",
         null,
         null,
         null,
         null,
         "https://www.bcn.cl/historiapolitica/resenas_parlamentarias/wiki/Ramón_Arias",
         "2025-09-06"
        ],
        [
         "2",
         "3",
         "José Plácido Musalem Saffie",
         "José Plácido",
         "Musalem",
         "Saffie",
         "Masculino",
         null,
         null,
         null,
         null,
         "2315",
         "http://datos.bcn.cl/recurso/persona/2315",
         "https://www.bcn.cl/laborparlamentaria/imagen/2315.jpg",
         null,
         null,
         "1.0",
         null,
         "https://www.bcn.cl/historiapolitica/resenas_parlamentarias/wiki/José_Plácido_Musalem_Saffie",
         "2025-09-06"
        ],
        [
         "3",
         "4",
         "Arístides Benavente Carvajal",
         "Arístides",
         "Benavente",
         "Carvajal",
         "Masculino",
         null,
         null,
         null,
         null,
         "458",
         "http://datos.bcn.cl/recurso/persona/458",
         "https://www.bcn.cl/laborparlamentaria/imagen/458.jpg",
         null,
         null,
         null,
         null,
         "https://www.bcn.cl/historiapolitica/resenas_parlamentarias/wiki/Arístides_Benavente_Carvajal",
         "2025-09-06"
        ],
        [
         "4",
         "5",
         "Juan de Dios Peñafiel Varela",
         "Juan de Dios",
         "Peñafiel",
         "Varela",
         "Masculino",
         null,
         null,
         null,
         null,
         "597",
         "http://datos.bcn.cl/recurso/persona/597",
         "https://www.bcn.cl/laborparlamentaria/imagen/597.jpg",
         null,
         null,
         null,
         null,
         "https://www.bcn.cl/historiapolitica/resenas_parlamentarias/wiki/Juan_de_Dios_Peñafiel_Varela",
         "2025-09-06"
        ]
       ],
       "shape": {
        "columns": 19,
        "rows": 5
       }
      },
      "text/html": [
       "<div>\n",
       "<style scoped>\n",
       "    .dataframe tbody tr th:only-of-type {\n",
       "        vertical-align: middle;\n",
       "    }\n",
       "\n",
       "    .dataframe tbody tr th {\n",
       "        vertical-align: top;\n",
       "    }\n",
       "\n",
       "    .dataframe thead th {\n",
       "        text-align: right;\n",
       "    }\n",
       "</style>\n",
       "<table border=\"1\" class=\"dataframe\">\n",
       "  <thead>\n",
       "    <tr style=\"text-align: right;\">\n",
       "      <th></th>\n",
       "      <th>mp_uid</th>\n",
       "      <th>nombre_completo</th>\n",
       "      <th>nombre_propio</th>\n",
       "      <th>apellido_paterno</th>\n",
       "      <th>apellido_materno</th>\n",
       "      <th>genero</th>\n",
       "      <th>fecha_nacimiento</th>\n",
       "      <th>lugar_nacimiento_id</th>\n",
       "      <th>diputadoid</th>\n",
       "      <th>senadorid</th>\n",
       "      <th>bcn_person_id</th>\n",
       "      <th>bcn_uri</th>\n",
       "      <th>url_foto</th>\n",
       "      <th>twitter_handle</th>\n",
       "      <th>sitio_web_personal</th>\n",
       "      <th>profesion_id</th>\n",
       "      <th>partido_militante_actual_id</th>\n",
       "      <th>url_historia_politica</th>\n",
       "      <th>fecha_extraccion</th>\n",
       "    </tr>\n",
       "  </thead>\n",
       "  <tbody>\n",
       "    <tr>\n",
       "      <th>0</th>\n",
       "      <td>1</td>\n",
       "      <td>Carlos Bombal Otaegui</td>\n",
       "      <td>Carlos</td>\n",
       "      <td>Bombal</td>\n",
       "      <td>Otaegui</td>\n",
       "      <td>Masculino</td>\n",
       "      <td>None</td>\n",
       "      <td>None</td>\n",
       "      <td>415</td>\n",
       "      <td>None</td>\n",
       "      <td>2721</td>\n",
       "      <td>http://datos.bcn.cl/recurso/persona/2721</td>\n",
       "      <td>https://www.bcn.cl/laborparlamentaria/imagen/2...</td>\n",
       "      <td>None</td>\n",
       "      <td>None</td>\n",
       "      <td>1.0</td>\n",
       "      <td>None</td>\n",
       "      <td>https://www.bcn.cl/historiapolitica/resenas_pa...</td>\n",
       "      <td>2025-09-06</td>\n",
       "    </tr>\n",
       "    <tr>\n",
       "      <th>1</th>\n",
       "      <td>2</td>\n",
       "      <td>Ramón Arias</td>\n",
       "      <td>Ramón</td>\n",
       "      <td>Arias</td>\n",
       "      <td>None</td>\n",
       "      <td>Masculino</td>\n",
       "      <td>None</td>\n",
       "      <td>None</td>\n",
       "      <td>None</td>\n",
       "      <td>None</td>\n",
       "      <td>2483</td>\n",
       "      <td>http://datos.bcn.cl/recurso/persona/2483</td>\n",
       "      <td>https://www.bcn.cl/laborparlamentaria/imagen/2...</td>\n",
       "      <td>None</td>\n",
       "      <td>None</td>\n",
       "      <td>NaN</td>\n",
       "      <td>None</td>\n",
       "      <td>https://www.bcn.cl/historiapolitica/resenas_pa...</td>\n",
       "      <td>2025-09-06</td>\n",
       "    </tr>\n",
       "    <tr>\n",
       "      <th>2</th>\n",
       "      <td>3</td>\n",
       "      <td>José Plácido Musalem Saffie</td>\n",
       "      <td>José Plácido</td>\n",
       "      <td>Musalem</td>\n",
       "      <td>Saffie</td>\n",
       "      <td>Masculino</td>\n",
       "      <td>None</td>\n",
       "      <td>None</td>\n",
       "      <td>None</td>\n",
       "      <td>None</td>\n",
       "      <td>2315</td>\n",
       "      <td>http://datos.bcn.cl/recurso/persona/2315</td>\n",
       "      <td>https://www.bcn.cl/laborparlamentaria/imagen/2...</td>\n",
       "      <td>None</td>\n",
       "      <td>None</td>\n",
       "      <td>1.0</td>\n",
       "      <td>None</td>\n",
       "      <td>https://www.bcn.cl/historiapolitica/resenas_pa...</td>\n",
       "      <td>2025-09-06</td>\n",
       "    </tr>\n",
       "    <tr>\n",
       "      <th>3</th>\n",
       "      <td>4</td>\n",
       "      <td>Arístides Benavente Carvajal</td>\n",
       "      <td>Arístides</td>\n",
       "      <td>Benavente</td>\n",
       "      <td>Carvajal</td>\n",
       "      <td>Masculino</td>\n",
       "      <td>None</td>\n",
       "      <td>None</td>\n",
       "      <td>None</td>\n",
       "      <td>None</td>\n",
       "      <td>458</td>\n",
       "      <td>http://datos.bcn.cl/recurso/persona/458</td>\n",
       "      <td>https://www.bcn.cl/laborparlamentaria/imagen/4...</td>\n",
       "      <td>None</td>\n",
       "      <td>None</td>\n",
       "      <td>NaN</td>\n",
       "      <td>None</td>\n",
       "      <td>https://www.bcn.cl/historiapolitica/resenas_pa...</td>\n",
       "      <td>2025-09-06</td>\n",
       "    </tr>\n",
       "    <tr>\n",
       "      <th>4</th>\n",
       "      <td>5</td>\n",
       "      <td>Juan de Dios Peñafiel Varela</td>\n",
       "      <td>Juan de Dios</td>\n",
       "      <td>Peñafiel</td>\n",
       "      <td>Varela</td>\n",
       "      <td>Masculino</td>\n",
       "      <td>None</td>\n",
       "      <td>None</td>\n",
       "      <td>None</td>\n",
       "      <td>None</td>\n",
       "      <td>597</td>\n",
       "      <td>http://datos.bcn.cl/recurso/persona/597</td>\n",
       "      <td>https://www.bcn.cl/laborparlamentaria/imagen/5...</td>\n",
       "      <td>None</td>\n",
       "      <td>None</td>\n",
       "      <td>NaN</td>\n",
       "      <td>None</td>\n",
       "      <td>https://www.bcn.cl/historiapolitica/resenas_pa...</td>\n",
       "      <td>2025-09-06</td>\n",
       "    </tr>\n",
       "  </tbody>\n",
       "</table>\n",
       "</div>"
      ],
      "text/plain": [
       "   mp_uid               nombre_completo nombre_propio apellido_paterno  \\\n",
       "0       1         Carlos Bombal Otaegui        Carlos           Bombal   \n",
       "1       2                   Ramón Arias         Ramón            Arias   \n",
       "2       3   José Plácido Musalem Saffie  José Plácido          Musalem   \n",
       "3       4  Arístides Benavente Carvajal     Arístides        Benavente   \n",
       "4       5  Juan de Dios Peñafiel Varela  Juan de Dios         Peñafiel   \n",
       "\n",
       "  apellido_materno     genero fecha_nacimiento lugar_nacimiento_id diputadoid  \\\n",
       "0          Otaegui  Masculino             None                None        415   \n",
       "1             None  Masculino             None                None       None   \n",
       "2           Saffie  Masculino             None                None       None   \n",
       "3         Carvajal  Masculino             None                None       None   \n",
       "4           Varela  Masculino             None                None       None   \n",
       "\n",
       "  senadorid bcn_person_id                                   bcn_uri  \\\n",
       "0      None          2721  http://datos.bcn.cl/recurso/persona/2721   \n",
       "1      None          2483  http://datos.bcn.cl/recurso/persona/2483   \n",
       "2      None          2315  http://datos.bcn.cl/recurso/persona/2315   \n",
       "3      None           458   http://datos.bcn.cl/recurso/persona/458   \n",
       "4      None           597   http://datos.bcn.cl/recurso/persona/597   \n",
       "\n",
       "                                            url_foto twitter_handle  \\\n",
       "0  https://www.bcn.cl/laborparlamentaria/imagen/2...           None   \n",
       "1  https://www.bcn.cl/laborparlamentaria/imagen/2...           None   \n",
       "2  https://www.bcn.cl/laborparlamentaria/imagen/2...           None   \n",
       "3  https://www.bcn.cl/laborparlamentaria/imagen/4...           None   \n",
       "4  https://www.bcn.cl/laborparlamentaria/imagen/5...           None   \n",
       "\n",
       "  sitio_web_personal  profesion_id partido_militante_actual_id  \\\n",
       "0               None           1.0                        None   \n",
       "1               None           NaN                        None   \n",
       "2               None           1.0                        None   \n",
       "3               None           NaN                        None   \n",
       "4               None           NaN                        None   \n",
       "\n",
       "                               url_historia_politica fecha_extraccion  \n",
       "0  https://www.bcn.cl/historiapolitica/resenas_pa...       2025-09-06  \n",
       "1  https://www.bcn.cl/historiapolitica/resenas_pa...       2025-09-06  \n",
       "2  https://www.bcn.cl/historiapolitica/resenas_pa...       2025-09-06  \n",
       "3  https://www.bcn.cl/historiapolitica/resenas_pa...       2025-09-06  \n",
       "4  https://www.bcn.cl/historiapolitica/resenas_pa...       2025-09-06  "
      ]
     },
     "metadata": {},
     "output_type": "display_data"
    },
    {
     "name": "stdout",
     "output_type": "stream",
     "text": [
      "\n",
      "==================================================\n",
      "\n"
     ]
    },
    {
     "data": {
      "text/markdown": [
       "### Tabla: `parlamentario_aliases`"
      ],
      "text/plain": [
       "<IPython.core.display.Markdown object>"
      ]
     },
     "metadata": {},
     "output_type": "display_data"
    },
    {
     "data": {
      "application/vnd.microsoft.datawrangler.viewer.v0+json": {
       "columns": [
        {
         "name": "index",
         "rawType": "int64",
         "type": "integer"
        },
        {
         "name": "alias_id",
         "rawType": "object",
         "type": "string"
        },
        {
         "name": "mp_uid",
         "rawType": "object",
         "type": "string"
        },
        {
         "name": "alias",
         "rawType": "object",
         "type": "string"
        }
       ],
       "ref": "11dae90e-99a0-4865-87ae-0fcc5c8072b8",
       "rows": [],
       "shape": {
        "columns": 3,
        "rows": 0
       }
      },
      "text/html": [
       "<div>\n",
       "<style scoped>\n",
       "    .dataframe tbody tr th:only-of-type {\n",
       "        vertical-align: middle;\n",
       "    }\n",
       "\n",
       "    .dataframe tbody tr th {\n",
       "        vertical-align: top;\n",
       "    }\n",
       "\n",
       "    .dataframe thead th {\n",
       "        text-align: right;\n",
       "    }\n",
       "</style>\n",
       "<table border=\"1\" class=\"dataframe\">\n",
       "  <thead>\n",
       "    <tr style=\"text-align: right;\">\n",
       "      <th></th>\n",
       "      <th>alias_id</th>\n",
       "      <th>mp_uid</th>\n",
       "      <th>alias</th>\n",
       "    </tr>\n",
       "  </thead>\n",
       "  <tbody>\n",
       "  </tbody>\n",
       "</table>\n",
       "</div>"
      ],
      "text/plain": [
       "Empty DataFrame\n",
       "Columns: [alias_id, mp_uid, alias]\n",
       "Index: []"
      ]
     },
     "metadata": {},
     "output_type": "display_data"
    },
    {
     "name": "stdout",
     "output_type": "stream",
     "text": [
      "\n",
      "==================================================\n",
      "\n"
     ]
    },
    {
     "data": {
      "text/markdown": [
       "### Tabla: `dim_periodo_legislativo`"
      ],
      "text/plain": [
       "<IPython.core.display.Markdown object>"
      ]
     },
     "metadata": {},
     "output_type": "display_data"
    },
    {
     "data": {
      "application/vnd.microsoft.datawrangler.viewer.v0+json": {
       "columns": [
        {
         "name": "index",
         "rawType": "int64",
         "type": "integer"
        },
        {
         "name": "periodo_id",
         "rawType": "int64",
         "type": "integer"
        },
        {
         "name": "nombre_periodo",
         "rawType": "object",
         "type": "string"
        },
        {
         "name": "fecha_inicio",
         "rawType": "object",
         "type": "string"
        },
        {
         "name": "fecha_termino",
         "rawType": "object",
         "type": "string"
        }
       ],
       "ref": "2e8ddede-f73c-49fc-be63-62b33941081b",
       "rows": [
        [
         "0",
         "1",
         "1990-1994",
         "1990-03-11",
         "1994-03-10"
        ],
        [
         "1",
         "2",
         "1994-1998",
         "1994-03-11",
         "1998-03-10"
        ],
        [
         "2",
         "3",
         "1998-2002",
         "1998-03-11",
         "2002-03-10"
        ],
        [
         "3",
         "4",
         "2002-2006",
         "2002-03-11",
         "2006-03-10"
        ],
        [
         "4",
         "5",
         "2006-2010",
         "2006-03-11",
         "2010-03-10"
        ]
       ],
       "shape": {
        "columns": 4,
        "rows": 5
       }
      },
      "text/html": [
       "<div>\n",
       "<style scoped>\n",
       "    .dataframe tbody tr th:only-of-type {\n",
       "        vertical-align: middle;\n",
       "    }\n",
       "\n",
       "    .dataframe tbody tr th {\n",
       "        vertical-align: top;\n",
       "    }\n",
       "\n",
       "    .dataframe thead th {\n",
       "        text-align: right;\n",
       "    }\n",
       "</style>\n",
       "<table border=\"1\" class=\"dataframe\">\n",
       "  <thead>\n",
       "    <tr style=\"text-align: right;\">\n",
       "      <th></th>\n",
       "      <th>periodo_id</th>\n",
       "      <th>nombre_periodo</th>\n",
       "      <th>fecha_inicio</th>\n",
       "      <th>fecha_termino</th>\n",
       "    </tr>\n",
       "  </thead>\n",
       "  <tbody>\n",
       "    <tr>\n",
       "      <th>0</th>\n",
       "      <td>1</td>\n",
       "      <td>1990-1994</td>\n",
       "      <td>1990-03-11</td>\n",
       "      <td>1994-03-10</td>\n",
       "    </tr>\n",
       "    <tr>\n",
       "      <th>1</th>\n",
       "      <td>2</td>\n",
       "      <td>1994-1998</td>\n",
       "      <td>1994-03-11</td>\n",
       "      <td>1998-03-10</td>\n",
       "    </tr>\n",
       "    <tr>\n",
       "      <th>2</th>\n",
       "      <td>3</td>\n",
       "      <td>1998-2002</td>\n",
       "      <td>1998-03-11</td>\n",
       "      <td>2002-03-10</td>\n",
       "    </tr>\n",
       "    <tr>\n",
       "      <th>3</th>\n",
       "      <td>4</td>\n",
       "      <td>2002-2006</td>\n",
       "      <td>2002-03-11</td>\n",
       "      <td>2006-03-10</td>\n",
       "    </tr>\n",
       "    <tr>\n",
       "      <th>4</th>\n",
       "      <td>5</td>\n",
       "      <td>2006-2010</td>\n",
       "      <td>2006-03-11</td>\n",
       "      <td>2010-03-10</td>\n",
       "    </tr>\n",
       "  </tbody>\n",
       "</table>\n",
       "</div>"
      ],
      "text/plain": [
       "   periodo_id nombre_periodo fecha_inicio fecha_termino\n",
       "0           1      1990-1994   1990-03-11    1994-03-10\n",
       "1           2      1994-1998   1994-03-11    1998-03-10\n",
       "2           3      1998-2002   1998-03-11    2002-03-10\n",
       "3           4      2002-2006   2002-03-11    2006-03-10\n",
       "4           5      2006-2010   2006-03-11    2010-03-10"
      ]
     },
     "metadata": {},
     "output_type": "display_data"
    },
    {
     "name": "stdout",
     "output_type": "stream",
     "text": [
      "\n",
      "==================================================\n",
      "\n"
     ]
    },
    {
     "data": {
      "text/markdown": [
       "### Tabla: `dim_coaliciones`"
      ],
      "text/plain": [
       "<IPython.core.display.Markdown object>"
      ]
     },
     "metadata": {},
     "output_type": "display_data"
    },
    {
     "data": {
      "application/vnd.microsoft.datawrangler.viewer.v0+json": {
       "columns": [
        {
         "name": "index",
         "rawType": "int64",
         "type": "integer"
        },
        {
         "name": "coalicion_id",
         "rawType": "object",
         "type": "string"
        },
        {
         "name": "nombre_coalicion",
         "rawType": "object",
         "type": "string"
        }
       ],
       "ref": "e9d8b1b0-cbb1-44ae-a982-910d46935e2e",
       "rows": [],
       "shape": {
        "columns": 2,
        "rows": 0
       }
      },
      "text/html": [
       "<div>\n",
       "<style scoped>\n",
       "    .dataframe tbody tr th:only-of-type {\n",
       "        vertical-align: middle;\n",
       "    }\n",
       "\n",
       "    .dataframe tbody tr th {\n",
       "        vertical-align: top;\n",
       "    }\n",
       "\n",
       "    .dataframe thead th {\n",
       "        text-align: right;\n",
       "    }\n",
       "</style>\n",
       "<table border=\"1\" class=\"dataframe\">\n",
       "  <thead>\n",
       "    <tr style=\"text-align: right;\">\n",
       "      <th></th>\n",
       "      <th>coalicion_id</th>\n",
       "      <th>nombre_coalicion</th>\n",
       "    </tr>\n",
       "  </thead>\n",
       "  <tbody>\n",
       "  </tbody>\n",
       "</table>\n",
       "</div>"
      ],
      "text/plain": [
       "Empty DataFrame\n",
       "Columns: [coalicion_id, nombre_coalicion]\n",
       "Index: []"
      ]
     },
     "metadata": {},
     "output_type": "display_data"
    },
    {
     "name": "stdout",
     "output_type": "stream",
     "text": [
      "\n",
      "==================================================\n",
      "\n"
     ]
    },
    {
     "data": {
      "text/markdown": [
       "### Tabla: `dim_comisiones`"
      ],
      "text/plain": [
       "<IPython.core.display.Markdown object>"
      ]
     },
     "metadata": {},
     "output_type": "display_data"
    },
    {
     "data": {
      "application/vnd.microsoft.datawrangler.viewer.v0+json": {
       "columns": [
        {
         "name": "index",
         "rawType": "int64",
         "type": "integer"
        },
        {
         "name": "comision_id",
         "rawType": "int64",
         "type": "integer"
        },
        {
         "name": "nombre_comision",
         "rawType": "object",
         "type": "string"
        },
        {
         "name": "tipo",
         "rawType": "object",
         "type": "string"
        }
       ],
       "ref": "113c7570-16c1-4e2d-85bb-38ac20707ac5",
       "rows": [
        [
         "0",
         "401",
         "Constitución, Legislación, Justicia y Reglamento",
         "Permanente"
        ],
        [
         "1",
         "402",
         "Obras Públicas, Transportes y Telecomunicaciones",
         "Permanente"
        ],
        [
         "2",
         "403",
         "Futuro, Ciencias, Tecnología, Conocimiento e Innovación",
         "Permanente"
        ],
        [
         "3",
         "404",
         "De Derechos Humanos y Pueblos Originarios",
         "Permanente"
        ],
        [
         "4",
         "405",
         "Medio Ambiente y Recursos Naturales",
         "Permanente"
        ]
       ],
       "shape": {
        "columns": 3,
        "rows": 5
       }
      },
      "text/html": [
       "<div>\n",
       "<style scoped>\n",
       "    .dataframe tbody tr th:only-of-type {\n",
       "        vertical-align: middle;\n",
       "    }\n",
       "\n",
       "    .dataframe tbody tr th {\n",
       "        vertical-align: top;\n",
       "    }\n",
       "\n",
       "    .dataframe thead th {\n",
       "        text-align: right;\n",
       "    }\n",
       "</style>\n",
       "<table border=\"1\" class=\"dataframe\">\n",
       "  <thead>\n",
       "    <tr style=\"text-align: right;\">\n",
       "      <th></th>\n",
       "      <th>comision_id</th>\n",
       "      <th>nombre_comision</th>\n",
       "      <th>tipo</th>\n",
       "    </tr>\n",
       "  </thead>\n",
       "  <tbody>\n",
       "    <tr>\n",
       "      <th>0</th>\n",
       "      <td>401</td>\n",
       "      <td>Constitución, Legislación, Justicia y Reglamento</td>\n",
       "      <td>Permanente</td>\n",
       "    </tr>\n",
       "    <tr>\n",
       "      <th>1</th>\n",
       "      <td>402</td>\n",
       "      <td>Obras Públicas, Transportes y Telecomunicaciones</td>\n",
       "      <td>Permanente</td>\n",
       "    </tr>\n",
       "    <tr>\n",
       "      <th>2</th>\n",
       "      <td>403</td>\n",
       "      <td>Futuro, Ciencias, Tecnología, Conocimiento e I...</td>\n",
       "      <td>Permanente</td>\n",
       "    </tr>\n",
       "    <tr>\n",
       "      <th>3</th>\n",
       "      <td>404</td>\n",
       "      <td>De Derechos Humanos y Pueblos Originarios</td>\n",
       "      <td>Permanente</td>\n",
       "    </tr>\n",
       "    <tr>\n",
       "      <th>4</th>\n",
       "      <td>405</td>\n",
       "      <td>Medio Ambiente y Recursos Naturales</td>\n",
       "      <td>Permanente</td>\n",
       "    </tr>\n",
       "  </tbody>\n",
       "</table>\n",
       "</div>"
      ],
      "text/plain": [
       "   comision_id                                    nombre_comision        tipo\n",
       "0          401   Constitución, Legislación, Justicia y Reglamento  Permanente\n",
       "1          402   Obras Públicas, Transportes y Telecomunicaciones  Permanente\n",
       "2          403  Futuro, Ciencias, Tecnología, Conocimiento e I...  Permanente\n",
       "3          404          De Derechos Humanos y Pueblos Originarios  Permanente\n",
       "4          405                Medio Ambiente y Recursos Naturales  Permanente"
      ]
     },
     "metadata": {},
     "output_type": "display_data"
    },
    {
     "name": "stdout",
     "output_type": "stream",
     "text": [
      "\n",
      "==================================================\n",
      "\n"
     ]
    },
    {
     "data": {
      "text/markdown": [
       "### Tabla: `dim_legislatura`"
      ],
      "text/plain": [
       "<IPython.core.display.Markdown object>"
      ]
     },
     "metadata": {},
     "output_type": "display_data"
    },
    {
     "data": {
      "application/vnd.microsoft.datawrangler.viewer.v0+json": {
       "columns": [
        {
         "name": "index",
         "rawType": "int64",
         "type": "integer"
        },
        {
         "name": "legislatura_id",
         "rawType": "int64",
         "type": "integer"
        },
        {
         "name": "numero",
         "rawType": "int64",
         "type": "integer"
        },
        {
         "name": "fecha_inicio",
         "rawType": "object",
         "type": "string"
        },
        {
         "name": "fecha_termino",
         "rawType": "object",
         "type": "string"
        },
        {
         "name": "tipo",
         "rawType": "object",
         "type": "string"
        }
       ],
       "ref": "17cec060-9cc9-49c0-8ee7-3ae3f0de4106",
       "rows": [
        [
         "0",
         "3",
         "319",
         "1990-03-11",
         "1990-05-20",
         "Extraordinaria"
        ],
        [
         "1",
         "4",
         "320",
         "1990-05-21",
         "1990-09-17",
         "Ordinaria"
        ],
        [
         "2",
         "5",
         "321",
         "1990-09-18",
         "1991-05-20",
         "Extraordinaria"
        ],
        [
         "3",
         "6",
         "322",
         "1991-05-21",
         "1991-09-17",
         "Ordinaria"
        ],
        [
         "4",
         "7",
         "323",
         "1991-09-18",
         "1992-05-20",
         "Extraordinaria"
        ]
       ],
       "shape": {
        "columns": 5,
        "rows": 5
       }
      },
      "text/html": [
       "<div>\n",
       "<style scoped>\n",
       "    .dataframe tbody tr th:only-of-type {\n",
       "        vertical-align: middle;\n",
       "    }\n",
       "\n",
       "    .dataframe tbody tr th {\n",
       "        vertical-align: top;\n",
       "    }\n",
       "\n",
       "    .dataframe thead th {\n",
       "        text-align: right;\n",
       "    }\n",
       "</style>\n",
       "<table border=\"1\" class=\"dataframe\">\n",
       "  <thead>\n",
       "    <tr style=\"text-align: right;\">\n",
       "      <th></th>\n",
       "      <th>legislatura_id</th>\n",
       "      <th>numero</th>\n",
       "      <th>fecha_inicio</th>\n",
       "      <th>fecha_termino</th>\n",
       "      <th>tipo</th>\n",
       "    </tr>\n",
       "  </thead>\n",
       "  <tbody>\n",
       "    <tr>\n",
       "      <th>0</th>\n",
       "      <td>3</td>\n",
       "      <td>319</td>\n",
       "      <td>1990-03-11</td>\n",
       "      <td>1990-05-20</td>\n",
       "      <td>Extraordinaria</td>\n",
       "    </tr>\n",
       "    <tr>\n",
       "      <th>1</th>\n",
       "      <td>4</td>\n",
       "      <td>320</td>\n",
       "      <td>1990-05-21</td>\n",
       "      <td>1990-09-17</td>\n",
       "      <td>Ordinaria</td>\n",
       "    </tr>\n",
       "    <tr>\n",
       "      <th>2</th>\n",
       "      <td>5</td>\n",
       "      <td>321</td>\n",
       "      <td>1990-09-18</td>\n",
       "      <td>1991-05-20</td>\n",
       "      <td>Extraordinaria</td>\n",
       "    </tr>\n",
       "    <tr>\n",
       "      <th>3</th>\n",
       "      <td>6</td>\n",
       "      <td>322</td>\n",
       "      <td>1991-05-21</td>\n",
       "      <td>1991-09-17</td>\n",
       "      <td>Ordinaria</td>\n",
       "    </tr>\n",
       "    <tr>\n",
       "      <th>4</th>\n",
       "      <td>7</td>\n",
       "      <td>323</td>\n",
       "      <td>1991-09-18</td>\n",
       "      <td>1992-05-20</td>\n",
       "      <td>Extraordinaria</td>\n",
       "    </tr>\n",
       "  </tbody>\n",
       "</table>\n",
       "</div>"
      ],
      "text/plain": [
       "   legislatura_id  numero fecha_inicio fecha_termino            tipo\n",
       "0               3     319   1990-03-11    1990-05-20  Extraordinaria\n",
       "1               4     320   1990-05-21    1990-09-17       Ordinaria\n",
       "2               5     321   1990-09-18    1991-05-20  Extraordinaria\n",
       "3               6     322   1991-05-21    1991-09-17       Ordinaria\n",
       "4               7     323   1991-09-18    1992-05-20  Extraordinaria"
      ]
     },
     "metadata": {},
     "output_type": "display_data"
    },
    {
     "name": "stdout",
     "output_type": "stream",
     "text": [
      "\n",
      "==================================================\n",
      "\n"
     ]
    },
    {
     "data": {
      "text/markdown": [
       "### Tabla: `dim_materias`"
      ],
      "text/plain": [
       "<IPython.core.display.Markdown object>"
      ]
     },
     "metadata": {},
     "output_type": "display_data"
    },
    {
     "data": {
      "application/vnd.microsoft.datawrangler.viewer.v0+json": {
       "columns": [
        {
         "name": "index",
         "rawType": "int64",
         "type": "integer"
        },
        {
         "name": "materia_id",
         "rawType": "int64",
         "type": "integer"
        },
        {
         "name": "nombre",
         "rawType": "object",
         "type": "string"
        }
       ],
       "ref": "3430ceb0-943b-4d39-8b85-478b8d1a484b",
       "rows": [
        [
         "0",
         "881",
         "ABANDONO DEL HOGAR"
        ],
        [
         "1",
         "882",
         "ABOGADOS"
        ],
        [
         "2",
         "883",
         "ABORTO TERAPEUTICO"
        ],
        [
         "3",
         "884",
         "ABUSOS DE PUBLICIDAD"
        ],
        [
         "4",
         "885",
         "ACADEMIA JUDICIAL"
        ]
       ],
       "shape": {
        "columns": 2,
        "rows": 5
       }
      },
      "text/html": [
       "<div>\n",
       "<style scoped>\n",
       "    .dataframe tbody tr th:only-of-type {\n",
       "        vertical-align: middle;\n",
       "    }\n",
       "\n",
       "    .dataframe tbody tr th {\n",
       "        vertical-align: top;\n",
       "    }\n",
       "\n",
       "    .dataframe thead th {\n",
       "        text-align: right;\n",
       "    }\n",
       "</style>\n",
       "<table border=\"1\" class=\"dataframe\">\n",
       "  <thead>\n",
       "    <tr style=\"text-align: right;\">\n",
       "      <th></th>\n",
       "      <th>materia_id</th>\n",
       "      <th>nombre</th>\n",
       "    </tr>\n",
       "  </thead>\n",
       "  <tbody>\n",
       "    <tr>\n",
       "      <th>0</th>\n",
       "      <td>881</td>\n",
       "      <td>ABANDONO DEL HOGAR</td>\n",
       "    </tr>\n",
       "    <tr>\n",
       "      <th>1</th>\n",
       "      <td>882</td>\n",
       "      <td>ABOGADOS</td>\n",
       "    </tr>\n",
       "    <tr>\n",
       "      <th>2</th>\n",
       "      <td>883</td>\n",
       "      <td>ABORTO TERAPEUTICO</td>\n",
       "    </tr>\n",
       "    <tr>\n",
       "      <th>3</th>\n",
       "      <td>884</td>\n",
       "      <td>ABUSOS DE PUBLICIDAD</td>\n",
       "    </tr>\n",
       "    <tr>\n",
       "      <th>4</th>\n",
       "      <td>885</td>\n",
       "      <td>ACADEMIA JUDICIAL</td>\n",
       "    </tr>\n",
       "  </tbody>\n",
       "</table>\n",
       "</div>"
      ],
      "text/plain": [
       "   materia_id                nombre\n",
       "0         881    ABANDONO DEL HOGAR\n",
       "1         882              ABOGADOS\n",
       "2         883    ABORTO TERAPEUTICO\n",
       "3         884  ABUSOS DE PUBLICIDAD\n",
       "4         885     ACADEMIA JUDICIAL"
      ]
     },
     "metadata": {},
     "output_type": "display_data"
    },
    {
     "name": "stdout",
     "output_type": "stream",
     "text": [
      "\n",
      "==================================================\n",
      "\n"
     ]
    },
    {
     "data": {
      "text/markdown": [
       "### Tabla: `dim_normas`"
      ],
      "text/plain": [
       "<IPython.core.display.Markdown object>"
      ]
     },
     "metadata": {},
     "output_type": "display_data"
    },
    {
     "data": {
      "application/vnd.microsoft.datawrangler.viewer.v0+json": {
       "columns": [
        {
         "name": "index",
         "rawType": "int64",
         "type": "integer"
        },
        {
         "name": "norma_id",
         "rawType": "int64",
         "type": "integer"
        },
        {
         "name": "bcn_norma_id",
         "rawType": "object",
         "type": "string"
        },
        {
         "name": "bcn_historia_id",
         "rawType": "object",
         "type": "unknown"
        },
        {
         "name": "numero_norma",
         "rawType": "object",
         "type": "string"
        },
        {
         "name": "tipo_norma",
         "rawType": "object",
         "type": "string"
        },
        {
         "name": "titulo_norma",
         "rawType": "object",
         "type": "string"
        },
        {
         "name": "fecha_publicacion",
         "rawType": "object",
         "type": "string"
        },
        {
         "name": "organismo_promulgador",
         "rawType": "object",
         "type": "unknown"
        },
        {
         "name": "url_ley_chile",
         "rawType": "object",
         "type": "string"
        }
       ],
       "ref": "2df2a531-b079-47ae-badf-de8617f1585a",
       "rows": [
        [
         "0",
         "1",
         "235507",
         null,
         "20000",
         "Ley",
         "SUSTITUYE LA LEY Nº 19.366, QUE SANCIONA EL TRAFICO ILICITO DE ESTUPEFACIENTES Y SUSTANCIAS SICOTROPICAS",
         "2005-02-16",
         null,
         "http://www.leychile.cl/Navegar?idNorma=235507"
        ]
       ],
       "shape": {
        "columns": 9,
        "rows": 1
       }
      },
      "text/html": [
       "<div>\n",
       "<style scoped>\n",
       "    .dataframe tbody tr th:only-of-type {\n",
       "        vertical-align: middle;\n",
       "    }\n",
       "\n",
       "    .dataframe tbody tr th {\n",
       "        vertical-align: top;\n",
       "    }\n",
       "\n",
       "    .dataframe thead th {\n",
       "        text-align: right;\n",
       "    }\n",
       "</style>\n",
       "<table border=\"1\" class=\"dataframe\">\n",
       "  <thead>\n",
       "    <tr style=\"text-align: right;\">\n",
       "      <th></th>\n",
       "      <th>norma_id</th>\n",
       "      <th>bcn_norma_id</th>\n",
       "      <th>bcn_historia_id</th>\n",
       "      <th>numero_norma</th>\n",
       "      <th>tipo_norma</th>\n",
       "      <th>titulo_norma</th>\n",
       "      <th>fecha_publicacion</th>\n",
       "      <th>organismo_promulgador</th>\n",
       "      <th>url_ley_chile</th>\n",
       "    </tr>\n",
       "  </thead>\n",
       "  <tbody>\n",
       "    <tr>\n",
       "      <th>0</th>\n",
       "      <td>1</td>\n",
       "      <td>235507</td>\n",
       "      <td>None</td>\n",
       "      <td>20000</td>\n",
       "      <td>Ley</td>\n",
       "      <td>SUSTITUYE LA LEY Nº 19.366, QUE SANCIONA EL TR...</td>\n",
       "      <td>2005-02-16</td>\n",
       "      <td>None</td>\n",
       "      <td>http://www.leychile.cl/Navegar?idNorma=235507</td>\n",
       "    </tr>\n",
       "  </tbody>\n",
       "</table>\n",
       "</div>"
      ],
      "text/plain": [
       "   norma_id bcn_norma_id bcn_historia_id numero_norma tipo_norma  \\\n",
       "0         1       235507            None        20000        Ley   \n",
       "\n",
       "                                        titulo_norma fecha_publicacion  \\\n",
       "0  SUSTITUYE LA LEY Nº 19.366, QUE SANCIONA EL TR...        2005-02-16   \n",
       "\n",
       "  organismo_promulgador                                  url_ley_chile  \n",
       "0                  None  http://www.leychile.cl/Navegar?idNorma=235507  "
      ]
     },
     "metadata": {},
     "output_type": "display_data"
    },
    {
     "name": "stdout",
     "output_type": "stream",
     "text": [
      "\n",
      "==================================================\n",
      "\n"
     ]
    },
    {
     "data": {
      "text/markdown": [
       "### Tabla: `dim_ministerios`"
      ],
      "text/plain": [
       "<IPython.core.display.Markdown object>"
      ]
     },
     "metadata": {},
     "output_type": "display_data"
    },
    {
     "data": {
      "application/vnd.microsoft.datawrangler.viewer.v0+json": {
       "columns": [
        {
         "name": "index",
         "rawType": "int64",
         "type": "integer"
        },
        {
         "name": "ministerio_id",
         "rawType": "int64",
         "type": "integer"
        },
        {
         "name": "camara_ministerio_id",
         "rawType": "int64",
         "type": "integer"
        },
        {
         "name": "nombre_ministerio",
         "rawType": "object",
         "type": "string"
        }
       ],
       "ref": "5d4e400b-6b5d-4f1d-8c68-5bbb24475dfe",
       "rows": [
        [
         "0",
         "1",
         "164",
         "Ministerio del Medio Ambiente"
        ],
        [
         "1",
         "2",
         "68",
         "Consejo Nacional de la Cultura y las Artes"
        ],
        [
         "2",
         "3",
         "1",
         "Ministerio de Economía, Fomento y Turism"
        ],
        [
         "3",
         "4",
         "2",
         "Ministerio de Hacienda"
        ],
        [
         "4",
         "5",
         "3",
         "Ministerio de Educación"
        ]
       ],
       "shape": {
        "columns": 3,
        "rows": 5
       }
      },
      "text/html": [
       "<div>\n",
       "<style scoped>\n",
       "    .dataframe tbody tr th:only-of-type {\n",
       "        vertical-align: middle;\n",
       "    }\n",
       "\n",
       "    .dataframe tbody tr th {\n",
       "        vertical-align: top;\n",
       "    }\n",
       "\n",
       "    .dataframe thead th {\n",
       "        text-align: right;\n",
       "    }\n",
       "</style>\n",
       "<table border=\"1\" class=\"dataframe\">\n",
       "  <thead>\n",
       "    <tr style=\"text-align: right;\">\n",
       "      <th></th>\n",
       "      <th>ministerio_id</th>\n",
       "      <th>camara_ministerio_id</th>\n",
       "      <th>nombre_ministerio</th>\n",
       "    </tr>\n",
       "  </thead>\n",
       "  <tbody>\n",
       "    <tr>\n",
       "      <th>0</th>\n",
       "      <td>1</td>\n",
       "      <td>164</td>\n",
       "      <td>Ministerio del Medio Ambiente</td>\n",
       "    </tr>\n",
       "    <tr>\n",
       "      <th>1</th>\n",
       "      <td>2</td>\n",
       "      <td>68</td>\n",
       "      <td>Consejo Nacional de la Cultura y las Artes</td>\n",
       "    </tr>\n",
       "    <tr>\n",
       "      <th>2</th>\n",
       "      <td>3</td>\n",
       "      <td>1</td>\n",
       "      <td>Ministerio de Economía, Fomento y Turism</td>\n",
       "    </tr>\n",
       "    <tr>\n",
       "      <th>3</th>\n",
       "      <td>4</td>\n",
       "      <td>2</td>\n",
       "      <td>Ministerio de Hacienda</td>\n",
       "    </tr>\n",
       "    <tr>\n",
       "      <th>4</th>\n",
       "      <td>5</td>\n",
       "      <td>3</td>\n",
       "      <td>Ministerio de Educación</td>\n",
       "    </tr>\n",
       "  </tbody>\n",
       "</table>\n",
       "</div>"
      ],
      "text/plain": [
       "   ministerio_id  camara_ministerio_id  \\\n",
       "0              1                   164   \n",
       "1              2                    68   \n",
       "2              3                     1   \n",
       "3              4                     2   \n",
       "4              5                     3   \n",
       "\n",
       "                            nombre_ministerio  \n",
       "0               Ministerio del Medio Ambiente  \n",
       "1  Consejo Nacional de la Cultura y las Artes  \n",
       "2    Ministerio de Economía, Fomento y Turism  \n",
       "3                      Ministerio de Hacienda  \n",
       "4                     Ministerio de Educación  "
      ]
     },
     "metadata": {},
     "output_type": "display_data"
    },
    {
     "name": "stdout",
     "output_type": "stream",
     "text": [
      "\n",
      "==================================================\n",
      "\n"
     ]
    },
    {
     "data": {
      "text/markdown": [
       "### Tabla: `dim_zonas_electorales`"
      ],
      "text/plain": [
       "<IPython.core.display.Markdown object>"
      ]
     },
     "metadata": {},
     "output_type": "display_data"
    },
    {
     "data": {
      "application/vnd.microsoft.datawrangler.viewer.v0+json": {
       "columns": [
        {
         "name": "index",
         "rawType": "int64",
         "type": "integer"
        },
        {
         "name": "zona_id",
         "rawType": "object",
         "type": "string"
        },
        {
         "name": "nombre",
         "rawType": "object",
         "type": "string"
        },
        {
         "name": "tipo",
         "rawType": "object",
         "type": "string"
        }
       ],
       "ref": "bdce4e53-0b20-4312-9204-feea6333f0c4",
       "rows": [],
       "shape": {
        "columns": 3,
        "rows": 0
       }
      },
      "text/html": [
       "<div>\n",
       "<style scoped>\n",
       "    .dataframe tbody tr th:only-of-type {\n",
       "        vertical-align: middle;\n",
       "    }\n",
       "\n",
       "    .dataframe tbody tr th {\n",
       "        vertical-align: top;\n",
       "    }\n",
       "\n",
       "    .dataframe thead th {\n",
       "        text-align: right;\n",
       "    }\n",
       "</style>\n",
       "<table border=\"1\" class=\"dataframe\">\n",
       "  <thead>\n",
       "    <tr style=\"text-align: right;\">\n",
       "      <th></th>\n",
       "      <th>zona_id</th>\n",
       "      <th>nombre</th>\n",
       "      <th>tipo</th>\n",
       "    </tr>\n",
       "  </thead>\n",
       "  <tbody>\n",
       "  </tbody>\n",
       "</table>\n",
       "</div>"
      ],
      "text/plain": [
       "Empty DataFrame\n",
       "Columns: [zona_id, nombre, tipo]\n",
       "Index: []"
      ]
     },
     "metadata": {},
     "output_type": "display_data"
    },
    {
     "name": "stdout",
     "output_type": "stream",
     "text": [
      "\n",
      "==================================================\n",
      "\n"
     ]
    },
    {
     "data": {
      "text/markdown": [
       "### Tabla: `parlamentario_mandatos`"
      ],
      "text/plain": [
       "<IPython.core.display.Markdown object>"
      ]
     },
     "metadata": {},
     "output_type": "display_data"
    },
    {
     "data": {
      "application/vnd.microsoft.datawrangler.viewer.v0+json": {
       "columns": [
        {
         "name": "index",
         "rawType": "int64",
         "type": "integer"
        },
        {
         "name": "mandato_id",
         "rawType": "int64",
         "type": "integer"
        },
        {
         "name": "mp_uid",
         "rawType": "int64",
         "type": "integer"
        },
        {
         "name": "cargo",
         "rawType": "object",
         "type": "string"
        },
        {
         "name": "zona_electoral_id",
         "rawType": "object",
         "type": "unknown"
        },
        {
         "name": "partido_id_mandato",
         "rawType": "object",
         "type": "unknown"
        },
        {
         "name": "fecha_inicio",
         "rawType": "object",
         "type": "string"
        },
        {
         "name": "fecha_fin",
         "rawType": "object",
         "type": "string"
        }
       ],
       "ref": "0672c0ec-aa69-44ee-8d5e-08b45f9835a3",
       "rows": [
        [
         "0",
         "1",
         "1",
         "Diputado",
         null,
         null,
         "1990-03-11",
         "1994-03-10"
        ],
        [
         "1",
         "2",
         "1",
         "Diputado",
         null,
         null,
         "1994-03-11",
         "1998-03-10"
        ],
        [
         "2",
         "3",
         "1",
         "Senador",
         null,
         null,
         "1998-03-11",
         "2006-03-10"
        ],
        [
         "3",
         "4",
         "2",
         "Diputado",
         null,
         null,
         "1831-01-01",
         "1831-12-31"
        ],
        [
         "4",
         "5",
         "3",
         "Senador",
         null,
         null,
         "1973-01-01",
         "1981-12-31"
        ]
       ],
       "shape": {
        "columns": 7,
        "rows": 5
       }
      },
      "text/html": [
       "<div>\n",
       "<style scoped>\n",
       "    .dataframe tbody tr th:only-of-type {\n",
       "        vertical-align: middle;\n",
       "    }\n",
       "\n",
       "    .dataframe tbody tr th {\n",
       "        vertical-align: top;\n",
       "    }\n",
       "\n",
       "    .dataframe thead th {\n",
       "        text-align: right;\n",
       "    }\n",
       "</style>\n",
       "<table border=\"1\" class=\"dataframe\">\n",
       "  <thead>\n",
       "    <tr style=\"text-align: right;\">\n",
       "      <th></th>\n",
       "      <th>mandato_id</th>\n",
       "      <th>mp_uid</th>\n",
       "      <th>cargo</th>\n",
       "      <th>zona_electoral_id</th>\n",
       "      <th>partido_id_mandato</th>\n",
       "      <th>fecha_inicio</th>\n",
       "      <th>fecha_fin</th>\n",
       "    </tr>\n",
       "  </thead>\n",
       "  <tbody>\n",
       "    <tr>\n",
       "      <th>0</th>\n",
       "      <td>1</td>\n",
       "      <td>1</td>\n",
       "      <td>Diputado</td>\n",
       "      <td>None</td>\n",
       "      <td>None</td>\n",
       "      <td>1990-03-11</td>\n",
       "      <td>1994-03-10</td>\n",
       "    </tr>\n",
       "    <tr>\n",
       "      <th>1</th>\n",
       "      <td>2</td>\n",
       "      <td>1</td>\n",
       "      <td>Diputado</td>\n",
       "      <td>None</td>\n",
       "      <td>None</td>\n",
       "      <td>1994-03-11</td>\n",
       "      <td>1998-03-10</td>\n",
       "    </tr>\n",
       "    <tr>\n",
       "      <th>2</th>\n",
       "      <td>3</td>\n",
       "      <td>1</td>\n",
       "      <td>Senador</td>\n",
       "      <td>None</td>\n",
       "      <td>None</td>\n",
       "      <td>1998-03-11</td>\n",
       "      <td>2006-03-10</td>\n",
       "    </tr>\n",
       "    <tr>\n",
       "      <th>3</th>\n",
       "      <td>4</td>\n",
       "      <td>2</td>\n",
       "      <td>Diputado</td>\n",
       "      <td>None</td>\n",
       "      <td>None</td>\n",
       "      <td>1831-01-01</td>\n",
       "      <td>1831-12-31</td>\n",
       "    </tr>\n",
       "    <tr>\n",
       "      <th>4</th>\n",
       "      <td>5</td>\n",
       "      <td>3</td>\n",
       "      <td>Senador</td>\n",
       "      <td>None</td>\n",
       "      <td>None</td>\n",
       "      <td>1973-01-01</td>\n",
       "      <td>1981-12-31</td>\n",
       "    </tr>\n",
       "  </tbody>\n",
       "</table>\n",
       "</div>"
      ],
      "text/plain": [
       "   mandato_id  mp_uid     cargo zona_electoral_id partido_id_mandato  \\\n",
       "0           1       1  Diputado              None               None   \n",
       "1           2       1  Diputado              None               None   \n",
       "2           3       1   Senador              None               None   \n",
       "3           4       2  Diputado              None               None   \n",
       "4           5       3   Senador              None               None   \n",
       "\n",
       "  fecha_inicio   fecha_fin  \n",
       "0   1990-03-11  1994-03-10  \n",
       "1   1994-03-11  1998-03-10  \n",
       "2   1998-03-11  2006-03-10  \n",
       "3   1831-01-01  1831-12-31  \n",
       "4   1973-01-01  1981-12-31  "
      ]
     },
     "metadata": {},
     "output_type": "display_data"
    },
    {
     "name": "stdout",
     "output_type": "stream",
     "text": [
      "\n",
      "==================================================\n",
      "\n"
     ]
    },
    {
     "data": {
      "text/markdown": [
       "### Tabla: `militancia_historial`"
      ],
      "text/plain": [
       "<IPython.core.display.Markdown object>"
      ]
     },
     "metadata": {},
     "output_type": "display_data"
    },
    {
     "data": {
      "application/vnd.microsoft.datawrangler.viewer.v0+json": {
       "columns": [
        {
         "name": "index",
         "rawType": "int64",
         "type": "integer"
        },
        {
         "name": "militancia_id",
         "rawType": "int64",
         "type": "integer"
        },
        {
         "name": "mp_uid",
         "rawType": "int64",
         "type": "integer"
        },
        {
         "name": "partido_id",
         "rawType": "int64",
         "type": "integer"
        },
        {
         "name": "fecha_inicio",
         "rawType": "object",
         "type": "string"
        },
        {
         "name": "fecha_fin",
         "rawType": "object",
         "type": "unknown"
        }
       ],
       "ref": "4c93dd42-7ca4-4990-ac4d-ee243422d2fc",
       "rows": [
        [
         "0",
         "1",
         "1",
         "1",
         "1990-03-11",
         null
        ],
        [
         "1",
         "2",
         "3",
         "2",
         "1957-05-21",
         "1961-05-20"
        ],
        [
         "2",
         "3",
         "3",
         "3",
         "1961-05-21",
         null
        ],
        [
         "3",
         "4",
         "3",
         "4",
         "1953-05-21",
         "1957-05-20"
        ],
        [
         "4",
         "5",
         "5",
         "5",
         "1888-06-01",
         null
        ]
       ],
       "shape": {
        "columns": 5,
        "rows": 5
       }
      },
      "text/html": [
       "<div>\n",
       "<style scoped>\n",
       "    .dataframe tbody tr th:only-of-type {\n",
       "        vertical-align: middle;\n",
       "    }\n",
       "\n",
       "    .dataframe tbody tr th {\n",
       "        vertical-align: top;\n",
       "    }\n",
       "\n",
       "    .dataframe thead th {\n",
       "        text-align: right;\n",
       "    }\n",
       "</style>\n",
       "<table border=\"1\" class=\"dataframe\">\n",
       "  <thead>\n",
       "    <tr style=\"text-align: right;\">\n",
       "      <th></th>\n",
       "      <th>militancia_id</th>\n",
       "      <th>mp_uid</th>\n",
       "      <th>partido_id</th>\n",
       "      <th>fecha_inicio</th>\n",
       "      <th>fecha_fin</th>\n",
       "    </tr>\n",
       "  </thead>\n",
       "  <tbody>\n",
       "    <tr>\n",
       "      <th>0</th>\n",
       "      <td>1</td>\n",
       "      <td>1</td>\n",
       "      <td>1</td>\n",
       "      <td>1990-03-11</td>\n",
       "      <td>None</td>\n",
       "    </tr>\n",
       "    <tr>\n",
       "      <th>1</th>\n",
       "      <td>2</td>\n",
       "      <td>3</td>\n",
       "      <td>2</td>\n",
       "      <td>1957-05-21</td>\n",
       "      <td>1961-05-20</td>\n",
       "    </tr>\n",
       "    <tr>\n",
       "      <th>2</th>\n",
       "      <td>3</td>\n",
       "      <td>3</td>\n",
       "      <td>3</td>\n",
       "      <td>1961-05-21</td>\n",
       "      <td>None</td>\n",
       "    </tr>\n",
       "    <tr>\n",
       "      <th>3</th>\n",
       "      <td>4</td>\n",
       "      <td>3</td>\n",
       "      <td>4</td>\n",
       "      <td>1953-05-21</td>\n",
       "      <td>1957-05-20</td>\n",
       "    </tr>\n",
       "    <tr>\n",
       "      <th>4</th>\n",
       "      <td>5</td>\n",
       "      <td>5</td>\n",
       "      <td>5</td>\n",
       "      <td>1888-06-01</td>\n",
       "      <td>None</td>\n",
       "    </tr>\n",
       "  </tbody>\n",
       "</table>\n",
       "</div>"
      ],
      "text/plain": [
       "   militancia_id  mp_uid  partido_id fecha_inicio   fecha_fin\n",
       "0              1       1           1   1990-03-11        None\n",
       "1              2       3           2   1957-05-21  1961-05-20\n",
       "2              3       3           3   1961-05-21        None\n",
       "3              4       3           4   1953-05-21  1957-05-20\n",
       "4              5       5           5   1888-06-01        None"
      ]
     },
     "metadata": {},
     "output_type": "display_data"
    },
    {
     "name": "stdout",
     "output_type": "stream",
     "text": [
      "\n",
      "==================================================\n",
      "\n"
     ]
    },
    {
     "data": {
      "text/markdown": [
       "### Tabla: `comision_membresias`"
      ],
      "text/plain": [
       "<IPython.core.display.Markdown object>"
      ]
     },
     "metadata": {},
     "output_type": "display_data"
    },
    {
     "data": {
      "application/vnd.microsoft.datawrangler.viewer.v0+json": {
       "columns": [
        {
         "name": "index",
         "rawType": "int64",
         "type": "integer"
        },
        {
         "name": "membresia_id",
         "rawType": "int64",
         "type": "integer"
        },
        {
         "name": "mp_uid",
         "rawType": "int64",
         "type": "integer"
        },
        {
         "name": "comision_id",
         "rawType": "int64",
         "type": "integer"
        },
        {
         "name": "rol",
         "rawType": "object",
         "type": "string"
        },
        {
         "name": "fecha_inicio",
         "rawType": "object",
         "type": "string"
        },
        {
         "name": "fecha_fin",
         "rawType": "object",
         "type": "unknown"
        }
       ],
       "ref": "cc27f45f-1501-48fd-bb83-fed995757fc1",
       "rows": [
        [
         "0",
         "1",
         "563",
         "3082",
         "Miembro",
         "2021-06-30",
         null
        ],
        [
         "1",
         "2",
         "858",
         "3082",
         "Miembro",
         "2021-07-21",
         null
        ],
        [
         "2",
         "3",
         "280",
         "3082",
         "Miembro",
         "2021-07-21",
         null
        ],
        [
         "3",
         "4",
         "410",
         "2401",
         "Miembro",
         "2019-09-26",
         null
        ],
        [
         "4",
         "5",
         "570",
         "2401",
         "Miembro",
         "2019-09-26",
         null
        ]
       ],
       "shape": {
        "columns": 6,
        "rows": 5
       }
      },
      "text/html": [
       "<div>\n",
       "<style scoped>\n",
       "    .dataframe tbody tr th:only-of-type {\n",
       "        vertical-align: middle;\n",
       "    }\n",
       "\n",
       "    .dataframe tbody tr th {\n",
       "        vertical-align: top;\n",
       "    }\n",
       "\n",
       "    .dataframe thead th {\n",
       "        text-align: right;\n",
       "    }\n",
       "</style>\n",
       "<table border=\"1\" class=\"dataframe\">\n",
       "  <thead>\n",
       "    <tr style=\"text-align: right;\">\n",
       "      <th></th>\n",
       "      <th>membresia_id</th>\n",
       "      <th>mp_uid</th>\n",
       "      <th>comision_id</th>\n",
       "      <th>rol</th>\n",
       "      <th>fecha_inicio</th>\n",
       "      <th>fecha_fin</th>\n",
       "    </tr>\n",
       "  </thead>\n",
       "  <tbody>\n",
       "    <tr>\n",
       "      <th>0</th>\n",
       "      <td>1</td>\n",
       "      <td>563</td>\n",
       "      <td>3082</td>\n",
       "      <td>Miembro</td>\n",
       "      <td>2021-06-30</td>\n",
       "      <td>None</td>\n",
       "    </tr>\n",
       "    <tr>\n",
       "      <th>1</th>\n",
       "      <td>2</td>\n",
       "      <td>858</td>\n",
       "      <td>3082</td>\n",
       "      <td>Miembro</td>\n",
       "      <td>2021-07-21</td>\n",
       "      <td>None</td>\n",
       "    </tr>\n",
       "    <tr>\n",
       "      <th>2</th>\n",
       "      <td>3</td>\n",
       "      <td>280</td>\n",
       "      <td>3082</td>\n",
       "      <td>Miembro</td>\n",
       "      <td>2021-07-21</td>\n",
       "      <td>None</td>\n",
       "    </tr>\n",
       "    <tr>\n",
       "      <th>3</th>\n",
       "      <td>4</td>\n",
       "      <td>410</td>\n",
       "      <td>2401</td>\n",
       "      <td>Miembro</td>\n",
       "      <td>2019-09-26</td>\n",
       "      <td>None</td>\n",
       "    </tr>\n",
       "    <tr>\n",
       "      <th>4</th>\n",
       "      <td>5</td>\n",
       "      <td>570</td>\n",
       "      <td>2401</td>\n",
       "      <td>Miembro</td>\n",
       "      <td>2019-09-26</td>\n",
       "      <td>None</td>\n",
       "    </tr>\n",
       "  </tbody>\n",
       "</table>\n",
       "</div>"
      ],
      "text/plain": [
       "   membresia_id  mp_uid  comision_id      rol fecha_inicio fecha_fin\n",
       "0             1     563         3082  Miembro   2021-06-30      None\n",
       "1             2     858         3082  Miembro   2021-07-21      None\n",
       "2             3     280         3082  Miembro   2021-07-21      None\n",
       "3             4     410         2401  Miembro   2019-09-26      None\n",
       "4             5     570         2401  Miembro   2019-09-26      None"
      ]
     },
     "metadata": {},
     "output_type": "display_data"
    },
    {
     "name": "stdout",
     "output_type": "stream",
     "text": [
      "\n",
      "==================================================\n",
      "\n"
     ]
    },
    {
     "data": {
      "text/markdown": [
       "### Tabla: `proyectos_ley`"
      ],
      "text/plain": [
       "<IPython.core.display.Markdown object>"
      ]
     },
     "metadata": {},
     "output_type": "display_data"
    },
    {
     "data": {
      "application/vnd.microsoft.datawrangler.viewer.v0+json": {
       "columns": [
        {
         "name": "index",
         "rawType": "int64",
         "type": "integer"
        },
        {
         "name": "proyecto_id",
         "rawType": "object",
         "type": "string"
        },
        {
         "name": "titulo",
         "rawType": "object",
         "type": "string"
        },
        {
         "name": "resumen",
         "rawType": "object",
         "type": "unknown"
        },
        {
         "name": "tipo_proyecto",
         "rawType": "object",
         "type": "unknown"
        },
        {
         "name": "fecha_ingreso",
         "rawType": "object",
         "type": "string"
        },
        {
         "name": "etapa",
         "rawType": "object",
         "type": "string"
        },
        {
         "name": "subetapa",
         "rawType": "object",
         "type": "string"
        },
        {
         "name": "iniciativa",
         "rawType": "object",
         "type": "string"
        },
        {
         "name": "origen",
         "rawType": "object",
         "type": "string"
        },
        {
         "name": "urgencia",
         "rawType": "object",
         "type": "string"
        },
        {
         "name": "resultado_final",
         "rawType": "object",
         "type": "string"
        },
        {
         "name": "estado",
         "rawType": "object",
         "type": "string"
        },
        {
         "name": "refundidos",
         "rawType": "object",
         "type": "string"
        },
        {
         "name": "numero_ley",
         "rawType": "object",
         "type": "unknown"
        },
        {
         "name": "norma_id",
         "rawType": "float64",
         "type": "float"
        },
        {
         "name": "fecha_actualizacion",
         "rawType": "object",
         "type": "string"
        }
       ],
       "ref": "a58540a4-508b-47a8-9ad4-338289d4029b",
       "rows": [
        [
         "0",
         "17450-11",
         "Modifica el DFL N° 1, de Salud, de 2005, para establecer la obligatoriedad, a profesionales y establecimientos de salud, de otorgar prestaciones en la modalidad de libre elección de Fonasa",
         null,
         null,
         "2024-12-16",
         "Primer trámite constitucional (C.Diputados)",
         "Primer informe de comisión de Salud",
         "Moción",
         "C.Diputados",
         "Sin urgencia",
         "En tramitación",
         "TRAMITACIÓN",
         "",
         null,
         null,
         "2025-09-07 21:01:13"
        ],
        [
         "1",
         "2439-20",
         "Sustituye ley N° 19.366, que sanciona el tráfico ilícito de estupefacientes y sustancias sicotrópicas.",
         null,
         null,
         "1999-12-14",
         "Tramitación terminada",
         "/",
         "Mensaje",
         "C.Diputados",
         "Sin urgencia",
         "Publicado",
         "PUBLICADO",
         "",
         "20000",
         "1.0",
         "2025-09-07 21:01:13"
        ]
       ],
       "shape": {
        "columns": 16,
        "rows": 2
       }
      },
      "text/html": [
       "<div>\n",
       "<style scoped>\n",
       "    .dataframe tbody tr th:only-of-type {\n",
       "        vertical-align: middle;\n",
       "    }\n",
       "\n",
       "    .dataframe tbody tr th {\n",
       "        vertical-align: top;\n",
       "    }\n",
       "\n",
       "    .dataframe thead th {\n",
       "        text-align: right;\n",
       "    }\n",
       "</style>\n",
       "<table border=\"1\" class=\"dataframe\">\n",
       "  <thead>\n",
       "    <tr style=\"text-align: right;\">\n",
       "      <th></th>\n",
       "      <th>proyecto_id</th>\n",
       "      <th>titulo</th>\n",
       "      <th>resumen</th>\n",
       "      <th>tipo_proyecto</th>\n",
       "      <th>fecha_ingreso</th>\n",
       "      <th>etapa</th>\n",
       "      <th>subetapa</th>\n",
       "      <th>iniciativa</th>\n",
       "      <th>origen</th>\n",
       "      <th>urgencia</th>\n",
       "      <th>resultado_final</th>\n",
       "      <th>estado</th>\n",
       "      <th>refundidos</th>\n",
       "      <th>numero_ley</th>\n",
       "      <th>norma_id</th>\n",
       "      <th>fecha_actualizacion</th>\n",
       "    </tr>\n",
       "  </thead>\n",
       "  <tbody>\n",
       "    <tr>\n",
       "      <th>0</th>\n",
       "      <td>17450-11</td>\n",
       "      <td>Modifica el DFL N° 1, de Salud, de 2005, para ...</td>\n",
       "      <td>None</td>\n",
       "      <td>None</td>\n",
       "      <td>2024-12-16</td>\n",
       "      <td>Primer trámite constitucional (C.Diputados)</td>\n",
       "      <td>Primer informe de comisión de Salud</td>\n",
       "      <td>Moción</td>\n",
       "      <td>C.Diputados</td>\n",
       "      <td>Sin urgencia</td>\n",
       "      <td>En tramitación</td>\n",
       "      <td>TRAMITACIÓN</td>\n",
       "      <td></td>\n",
       "      <td>None</td>\n",
       "      <td>NaN</td>\n",
       "      <td>2025-09-07 21:01:13</td>\n",
       "    </tr>\n",
       "    <tr>\n",
       "      <th>1</th>\n",
       "      <td>2439-20</td>\n",
       "      <td>Sustituye ley N° 19.366, que sanciona el tráfi...</td>\n",
       "      <td>None</td>\n",
       "      <td>None</td>\n",
       "      <td>1999-12-14</td>\n",
       "      <td>Tramitación terminada</td>\n",
       "      <td>/</td>\n",
       "      <td>Mensaje</td>\n",
       "      <td>C.Diputados</td>\n",
       "      <td>Sin urgencia</td>\n",
       "      <td>Publicado</td>\n",
       "      <td>PUBLICADO</td>\n",
       "      <td></td>\n",
       "      <td>20000</td>\n",
       "      <td>1.0</td>\n",
       "      <td>2025-09-07 21:01:13</td>\n",
       "    </tr>\n",
       "  </tbody>\n",
       "</table>\n",
       "</div>"
      ],
      "text/plain": [
       "  proyecto_id                                             titulo resumen  \\\n",
       "0    17450-11  Modifica el DFL N° 1, de Salud, de 2005, para ...    None   \n",
       "1     2439-20  Sustituye ley N° 19.366, que sanciona el tráfi...    None   \n",
       "\n",
       "  tipo_proyecto fecha_ingreso                                        etapa  \\\n",
       "0          None    2024-12-16  Primer trámite constitucional (C.Diputados)   \n",
       "1          None    1999-12-14                        Tramitación terminada   \n",
       "\n",
       "                              subetapa iniciativa       origen      urgencia  \\\n",
       "0  Primer informe de comisión de Salud     Moción  C.Diputados  Sin urgencia   \n",
       "1                                    /    Mensaje  C.Diputados  Sin urgencia   \n",
       "\n",
       "  resultado_final       estado refundidos numero_ley  norma_id  \\\n",
       "0  En tramitación  TRAMITACIÓN                  None       NaN   \n",
       "1       Publicado    PUBLICADO                 20000       1.0   \n",
       "\n",
       "   fecha_actualizacion  \n",
       "0  2025-09-07 21:01:13  \n",
       "1  2025-09-07 21:01:13  "
      ]
     },
     "metadata": {},
     "output_type": "display_data"
    },
    {
     "name": "stdout",
     "output_type": "stream",
     "text": [
      "\n",
      "==================================================\n",
      "\n"
     ]
    },
    {
     "data": {
      "text/markdown": [
       "### Tabla: `proyectos_autores`"
      ],
      "text/plain": [
       "<IPython.core.display.Markdown object>"
      ]
     },
     "metadata": {},
     "output_type": "display_data"
    },
    {
     "data": {
      "application/vnd.microsoft.datawrangler.viewer.v0+json": {
       "columns": [
        {
         "name": "index",
         "rawType": "int64",
         "type": "integer"
        },
        {
         "name": "proyecto_id",
         "rawType": "object",
         "type": "string"
        },
        {
         "name": "mp_uid",
         "rawType": "int64",
         "type": "integer"
        }
       ],
       "ref": "e35ba987-b96d-4b1e-abff-3278a65427e5",
       "rows": [
        [
         "0",
         "17450-11",
         "3477"
        ],
        [
         "1",
         "17450-11",
         "1139"
        ]
       ],
       "shape": {
        "columns": 2,
        "rows": 2
       }
      },
      "text/html": [
       "<div>\n",
       "<style scoped>\n",
       "    .dataframe tbody tr th:only-of-type {\n",
       "        vertical-align: middle;\n",
       "    }\n",
       "\n",
       "    .dataframe tbody tr th {\n",
       "        vertical-align: top;\n",
       "    }\n",
       "\n",
       "    .dataframe thead th {\n",
       "        text-align: right;\n",
       "    }\n",
       "</style>\n",
       "<table border=\"1\" class=\"dataframe\">\n",
       "  <thead>\n",
       "    <tr style=\"text-align: right;\">\n",
       "      <th></th>\n",
       "      <th>proyecto_id</th>\n",
       "      <th>mp_uid</th>\n",
       "    </tr>\n",
       "  </thead>\n",
       "  <tbody>\n",
       "    <tr>\n",
       "      <th>0</th>\n",
       "      <td>17450-11</td>\n",
       "      <td>3477</td>\n",
       "    </tr>\n",
       "    <tr>\n",
       "      <th>1</th>\n",
       "      <td>17450-11</td>\n",
       "      <td>1139</td>\n",
       "    </tr>\n",
       "  </tbody>\n",
       "</table>\n",
       "</div>"
      ],
      "text/plain": [
       "  proyecto_id  mp_uid\n",
       "0    17450-11    3477\n",
       "1    17450-11    1139"
      ]
     },
     "metadata": {},
     "output_type": "display_data"
    },
    {
     "name": "stdout",
     "output_type": "stream",
     "text": [
      "\n",
      "==================================================\n",
      "\n"
     ]
    },
    {
     "data": {
      "text/markdown": [
       "### Tabla: `proyectos_ministerios_patrocinantes`"
      ],
      "text/plain": [
       "<IPython.core.display.Markdown object>"
      ]
     },
     "metadata": {},
     "output_type": "display_data"
    },
    {
     "data": {
      "application/vnd.microsoft.datawrangler.viewer.v0+json": {
       "columns": [
        {
         "name": "index",
         "rawType": "int64",
         "type": "integer"
        },
        {
         "name": "proyecto_id",
         "rawType": "object",
         "type": "string"
        },
        {
         "name": "ministerio_id",
         "rawType": "object",
         "type": "string"
        }
       ],
       "ref": "e088dee7-b85e-4c0f-89f3-29e6a0092ee2",
       "rows": [],
       "shape": {
        "columns": 2,
        "rows": 0
       }
      },
      "text/html": [
       "<div>\n",
       "<style scoped>\n",
       "    .dataframe tbody tr th:only-of-type {\n",
       "        vertical-align: middle;\n",
       "    }\n",
       "\n",
       "    .dataframe tbody tr th {\n",
       "        vertical-align: top;\n",
       "    }\n",
       "\n",
       "    .dataframe thead th {\n",
       "        text-align: right;\n",
       "    }\n",
       "</style>\n",
       "<table border=\"1\" class=\"dataframe\">\n",
       "  <thead>\n",
       "    <tr style=\"text-align: right;\">\n",
       "      <th></th>\n",
       "      <th>proyecto_id</th>\n",
       "      <th>ministerio_id</th>\n",
       "    </tr>\n",
       "  </thead>\n",
       "  <tbody>\n",
       "  </tbody>\n",
       "</table>\n",
       "</div>"
      ],
      "text/plain": [
       "Empty DataFrame\n",
       "Columns: [proyecto_id, ministerio_id]\n",
       "Index: []"
      ]
     },
     "metadata": {},
     "output_type": "display_data"
    },
    {
     "name": "stdout",
     "output_type": "stream",
     "text": [
      "\n",
      "==================================================\n",
      "\n"
     ]
    },
    {
     "data": {
      "text/markdown": [
       "### Tabla: `proyectos_tramites`"
      ],
      "text/plain": [
       "<IPython.core.display.Markdown object>"
      ]
     },
     "metadata": {},
     "output_type": "display_data"
    },
    {
     "data": {
      "application/vnd.microsoft.datawrangler.viewer.v0+json": {
       "columns": [
        {
         "name": "index",
         "rawType": "int64",
         "type": "integer"
        },
        {
         "name": "tramite_id",
         "rawType": "int64",
         "type": "integer"
        },
        {
         "name": "proyecto_id",
         "rawType": "object",
         "type": "string"
        },
        {
         "name": "fecha_tramite",
         "rawType": "object",
         "type": "string"
        },
        {
         "name": "descripcion",
         "rawType": "object",
         "type": "string"
        },
        {
         "name": "etapa_general",
         "rawType": "object",
         "type": "unknown"
        },
        {
         "name": "etapa_especifica",
         "rawType": "object",
         "type": "string"
        },
        {
         "name": "camara",
         "rawType": "object",
         "type": "string"
        },
        {
         "name": "sesion",
         "rawType": "object",
         "type": "string"
        }
       ],
       "ref": "11100ab1-8e46-4ac6-bc2c-13cb5b93de1c",
       "rows": [
        [
         "0",
         "155",
         "17450-11",
         "2024-12-16",
         "Ingreso de proyecto .",
         null,
         "Primer trámite constitucional",
         "C.Diputados",
         "/"
        ],
        [
         "1",
         "156",
         "17450-11",
         "2025-04-08",
         "Cuenta de proyecto . Pasa a Comisión de Salud",
         null,
         "Primer trámite constitucional",
         "C.Diputados",
         "10/373"
        ],
        [
         "2",
         "157",
         "2439-20",
         "1999-12-14",
         "Ingreso de proyecto .",
         null,
         "Primer trámite constitucional",
         "C.Diputados",
         "/"
        ],
        [
         "3",
         "158",
         "2439-20",
         "1999-12-14",
         "Cuenta de proyecto . Pasa a Comisión Especial sobre drogas",
         null,
         "Primer trámite constitucional",
         "C.Diputados",
         "19/341"
        ],
        [
         "4",
         "159",
         "2439-20",
         "1999-12-14",
         "Oficio Nº 2.662 a Corte Suprema. Remite proyecto para efectos de evacuar opinión solicitada",
         null,
         "Primer trámite constitucional",
         "C.Diputados",
         "/"
        ]
       ],
       "shape": {
        "columns": 8,
        "rows": 5
       }
      },
      "text/html": [
       "<div>\n",
       "<style scoped>\n",
       "    .dataframe tbody tr th:only-of-type {\n",
       "        vertical-align: middle;\n",
       "    }\n",
       "\n",
       "    .dataframe tbody tr th {\n",
       "        vertical-align: top;\n",
       "    }\n",
       "\n",
       "    .dataframe thead th {\n",
       "        text-align: right;\n",
       "    }\n",
       "</style>\n",
       "<table border=\"1\" class=\"dataframe\">\n",
       "  <thead>\n",
       "    <tr style=\"text-align: right;\">\n",
       "      <th></th>\n",
       "      <th>tramite_id</th>\n",
       "      <th>proyecto_id</th>\n",
       "      <th>fecha_tramite</th>\n",
       "      <th>descripcion</th>\n",
       "      <th>etapa_general</th>\n",
       "      <th>etapa_especifica</th>\n",
       "      <th>camara</th>\n",
       "      <th>sesion</th>\n",
       "    </tr>\n",
       "  </thead>\n",
       "  <tbody>\n",
       "    <tr>\n",
       "      <th>0</th>\n",
       "      <td>155</td>\n",
       "      <td>17450-11</td>\n",
       "      <td>2024-12-16</td>\n",
       "      <td>Ingreso de proyecto .</td>\n",
       "      <td>None</td>\n",
       "      <td>Primer trámite constitucional</td>\n",
       "      <td>C.Diputados</td>\n",
       "      <td>/</td>\n",
       "    </tr>\n",
       "    <tr>\n",
       "      <th>1</th>\n",
       "      <td>156</td>\n",
       "      <td>17450-11</td>\n",
       "      <td>2025-04-08</td>\n",
       "      <td>Cuenta de proyecto . Pasa a Comisión de Salud</td>\n",
       "      <td>None</td>\n",
       "      <td>Primer trámite constitucional</td>\n",
       "      <td>C.Diputados</td>\n",
       "      <td>10/373</td>\n",
       "    </tr>\n",
       "    <tr>\n",
       "      <th>2</th>\n",
       "      <td>157</td>\n",
       "      <td>2439-20</td>\n",
       "      <td>1999-12-14</td>\n",
       "      <td>Ingreso de proyecto .</td>\n",
       "      <td>None</td>\n",
       "      <td>Primer trámite constitucional</td>\n",
       "      <td>C.Diputados</td>\n",
       "      <td>/</td>\n",
       "    </tr>\n",
       "    <tr>\n",
       "      <th>3</th>\n",
       "      <td>158</td>\n",
       "      <td>2439-20</td>\n",
       "      <td>1999-12-14</td>\n",
       "      <td>Cuenta de proyecto . Pasa a Comisión Especial ...</td>\n",
       "      <td>None</td>\n",
       "      <td>Primer trámite constitucional</td>\n",
       "      <td>C.Diputados</td>\n",
       "      <td>19/341</td>\n",
       "    </tr>\n",
       "    <tr>\n",
       "      <th>4</th>\n",
       "      <td>159</td>\n",
       "      <td>2439-20</td>\n",
       "      <td>1999-12-14</td>\n",
       "      <td>Oficio Nº 2.662 a Corte Suprema. Remite proyec...</td>\n",
       "      <td>None</td>\n",
       "      <td>Primer trámite constitucional</td>\n",
       "      <td>C.Diputados</td>\n",
       "      <td>/</td>\n",
       "    </tr>\n",
       "  </tbody>\n",
       "</table>\n",
       "</div>"
      ],
      "text/plain": [
       "   tramite_id proyecto_id fecha_tramite  \\\n",
       "0         155    17450-11    2024-12-16   \n",
       "1         156    17450-11    2025-04-08   \n",
       "2         157     2439-20    1999-12-14   \n",
       "3         158     2439-20    1999-12-14   \n",
       "4         159     2439-20    1999-12-14   \n",
       "\n",
       "                                         descripcion etapa_general  \\\n",
       "0                              Ingreso de proyecto .          None   \n",
       "1      Cuenta de proyecto . Pasa a Comisión de Salud          None   \n",
       "2                              Ingreso de proyecto .          None   \n",
       "3  Cuenta de proyecto . Pasa a Comisión Especial ...          None   \n",
       "4  Oficio Nº 2.662 a Corte Suprema. Remite proyec...          None   \n",
       "\n",
       "                etapa_especifica       camara  sesion  \n",
       "0  Primer trámite constitucional  C.Diputados       /  \n",
       "1  Primer trámite constitucional  C.Diputados  10/373  \n",
       "2  Primer trámite constitucional  C.Diputados       /  \n",
       "3  Primer trámite constitucional  C.Diputados  19/341  \n",
       "4  Primer trámite constitucional  C.Diputados       /  "
      ]
     },
     "metadata": {},
     "output_type": "display_data"
    },
    {
     "name": "stdout",
     "output_type": "stream",
     "text": [
      "\n",
      "==================================================\n",
      "\n"
     ]
    },
    {
     "data": {
      "text/markdown": [
       "### Tabla: `proyectos_documentos`"
      ],
      "text/plain": [
       "<IPython.core.display.Markdown object>"
      ]
     },
     "metadata": {},
     "output_type": "display_data"
    },
    {
     "data": {
      "application/vnd.microsoft.datawrangler.viewer.v0+json": {
       "columns": [
        {
         "name": "index",
         "rawType": "int64",
         "type": "integer"
        },
        {
         "name": "documento_id",
         "rawType": "int64",
         "type": "integer"
        },
        {
         "name": "proyecto_id",
         "rawType": "object",
         "type": "string"
        },
        {
         "name": "tramite_id",
         "rawType": "object",
         "type": "unknown"
        },
        {
         "name": "tipo_documento",
         "rawType": "object",
         "type": "string"
        },
        {
         "name": "url_documento",
         "rawType": "object",
         "type": "string"
        },
        {
         "name": "fecha_documento",
         "rawType": "object",
         "type": "string"
        },
        {
         "name": "descripcion",
         "rawType": "object",
         "type": "string"
        }
       ],
       "ref": "baa9e141-9fc4-48b8-851e-d7782d3a603e",
       "rows": [
        [
         "0",
         "1",
         "2439-20",
         null,
         "Oficio",
         "http://datos.bcn.cl/recurso/cl/documento/661353.txt",
         "2005-01-04",
         "Texto del documento: Oficio para el boletín 2439-20"
        ],
        [
         "1",
         "2",
         "2439-20",
         null,
         "http://datos.bcn.cl/recurso/nulo",
         "http://datos.bcn.cl/recurso/cl/documento/655207.txt",
         "2001-10-09",
         "Texto del documento: http://datos.bcn.cl/recurso/nulo para el boletín 2439-20"
        ],
        [
         "2",
         "3",
         "2439-20",
         null,
         "Oficio",
         "http://datos.bcn.cl/recurso/cl/documento/661348.txt",
         "2004-10-05",
         "Texto del documento: Oficio para el boletín 2439-20"
        ],
        [
         "3",
         "4",
         "2439-20",
         null,
         "http://datos.bcn.cl/recurso/nulo",
         "http://datos.bcn.cl/recurso/cl/documento/653467.txt",
         "2003-12-03",
         "Texto del documento: http://datos.bcn.cl/recurso/nulo para el boletín 2439-20"
        ],
        [
         "4",
         "5",
         "2439-20",
         null,
         "InformeComisionLegislativa",
         "http://datos.bcn.cl/recurso/cl/documento/661323.txt",
         "2001-03-22",
         "Texto del documento: InformeComisionLegislativa para el boletín 2439-20"
        ]
       ],
       "shape": {
        "columns": 7,
        "rows": 5
       }
      },
      "text/html": [
       "<div>\n",
       "<style scoped>\n",
       "    .dataframe tbody tr th:only-of-type {\n",
       "        vertical-align: middle;\n",
       "    }\n",
       "\n",
       "    .dataframe tbody tr th {\n",
       "        vertical-align: top;\n",
       "    }\n",
       "\n",
       "    .dataframe thead th {\n",
       "        text-align: right;\n",
       "    }\n",
       "</style>\n",
       "<table border=\"1\" class=\"dataframe\">\n",
       "  <thead>\n",
       "    <tr style=\"text-align: right;\">\n",
       "      <th></th>\n",
       "      <th>documento_id</th>\n",
       "      <th>proyecto_id</th>\n",
       "      <th>tramite_id</th>\n",
       "      <th>tipo_documento</th>\n",
       "      <th>url_documento</th>\n",
       "      <th>fecha_documento</th>\n",
       "      <th>descripcion</th>\n",
       "    </tr>\n",
       "  </thead>\n",
       "  <tbody>\n",
       "    <tr>\n",
       "      <th>0</th>\n",
       "      <td>1</td>\n",
       "      <td>2439-20</td>\n",
       "      <td>None</td>\n",
       "      <td>Oficio</td>\n",
       "      <td>http://datos.bcn.cl/recurso/cl/documento/66135...</td>\n",
       "      <td>2005-01-04</td>\n",
       "      <td>Texto del documento: Oficio para el boletín 24...</td>\n",
       "    </tr>\n",
       "    <tr>\n",
       "      <th>1</th>\n",
       "      <td>2</td>\n",
       "      <td>2439-20</td>\n",
       "      <td>None</td>\n",
       "      <td>http://datos.bcn.cl/recurso/nulo</td>\n",
       "      <td>http://datos.bcn.cl/recurso/cl/documento/65520...</td>\n",
       "      <td>2001-10-09</td>\n",
       "      <td>Texto del documento: http://datos.bcn.cl/recur...</td>\n",
       "    </tr>\n",
       "    <tr>\n",
       "      <th>2</th>\n",
       "      <td>3</td>\n",
       "      <td>2439-20</td>\n",
       "      <td>None</td>\n",
       "      <td>Oficio</td>\n",
       "      <td>http://datos.bcn.cl/recurso/cl/documento/66134...</td>\n",
       "      <td>2004-10-05</td>\n",
       "      <td>Texto del documento: Oficio para el boletín 24...</td>\n",
       "    </tr>\n",
       "    <tr>\n",
       "      <th>3</th>\n",
       "      <td>4</td>\n",
       "      <td>2439-20</td>\n",
       "      <td>None</td>\n",
       "      <td>http://datos.bcn.cl/recurso/nulo</td>\n",
       "      <td>http://datos.bcn.cl/recurso/cl/documento/65346...</td>\n",
       "      <td>2003-12-03</td>\n",
       "      <td>Texto del documento: http://datos.bcn.cl/recur...</td>\n",
       "    </tr>\n",
       "    <tr>\n",
       "      <th>4</th>\n",
       "      <td>5</td>\n",
       "      <td>2439-20</td>\n",
       "      <td>None</td>\n",
       "      <td>InformeComisionLegislativa</td>\n",
       "      <td>http://datos.bcn.cl/recurso/cl/documento/66132...</td>\n",
       "      <td>2001-03-22</td>\n",
       "      <td>Texto del documento: InformeComisionLegislativ...</td>\n",
       "    </tr>\n",
       "  </tbody>\n",
       "</table>\n",
       "</div>"
      ],
      "text/plain": [
       "   documento_id proyecto_id tramite_id                    tipo_documento  \\\n",
       "0             1     2439-20       None                            Oficio   \n",
       "1             2     2439-20       None  http://datos.bcn.cl/recurso/nulo   \n",
       "2             3     2439-20       None                            Oficio   \n",
       "3             4     2439-20       None  http://datos.bcn.cl/recurso/nulo   \n",
       "4             5     2439-20       None        InformeComisionLegislativa   \n",
       "\n",
       "                                       url_documento fecha_documento  \\\n",
       "0  http://datos.bcn.cl/recurso/cl/documento/66135...      2005-01-04   \n",
       "1  http://datos.bcn.cl/recurso/cl/documento/65520...      2001-10-09   \n",
       "2  http://datos.bcn.cl/recurso/cl/documento/66134...      2004-10-05   \n",
       "3  http://datos.bcn.cl/recurso/cl/documento/65346...      2003-12-03   \n",
       "4  http://datos.bcn.cl/recurso/cl/documento/66132...      2001-03-22   \n",
       "\n",
       "                                         descripcion  \n",
       "0  Texto del documento: Oficio para el boletín 24...  \n",
       "1  Texto del documento: http://datos.bcn.cl/recur...  \n",
       "2  Texto del documento: Oficio para el boletín 24...  \n",
       "3  Texto del documento: http://datos.bcn.cl/recur...  \n",
       "4  Texto del documento: InformeComisionLegislativ...  "
      ]
     },
     "metadata": {},
     "output_type": "display_data"
    },
    {
     "name": "stdout",
     "output_type": "stream",
     "text": [
      "\n",
      "==================================================\n",
      "\n"
     ]
    },
    {
     "data": {
      "text/markdown": [
       "### Tabla: `proyectos_materias`"
      ],
      "text/plain": [
       "<IPython.core.display.Markdown object>"
      ]
     },
     "metadata": {},
     "output_type": "display_data"
    },
    {
     "data": {
      "application/vnd.microsoft.datawrangler.viewer.v0+json": {
       "columns": [
        {
         "name": "index",
         "rawType": "int64",
         "type": "integer"
        },
        {
         "name": "proyecto_id",
         "rawType": "object",
         "type": "string"
        },
        {
         "name": "materia_id",
         "rawType": "int64",
         "type": "integer"
        }
       ],
       "ref": "1f29c9f3-04f9-4ea7-a0e9-b6b214a0f420",
       "rows": [
        [
         "0",
         "2439-20",
         "25717"
        ]
       ],
       "shape": {
        "columns": 2,
        "rows": 1
       }
      },
      "text/html": [
       "<div>\n",
       "<style scoped>\n",
       "    .dataframe tbody tr th:only-of-type {\n",
       "        vertical-align: middle;\n",
       "    }\n",
       "\n",
       "    .dataframe tbody tr th {\n",
       "        vertical-align: top;\n",
       "    }\n",
       "\n",
       "    .dataframe thead th {\n",
       "        text-align: right;\n",
       "    }\n",
       "</style>\n",
       "<table border=\"1\" class=\"dataframe\">\n",
       "  <thead>\n",
       "    <tr style=\"text-align: right;\">\n",
       "      <th></th>\n",
       "      <th>proyecto_id</th>\n",
       "      <th>materia_id</th>\n",
       "    </tr>\n",
       "  </thead>\n",
       "  <tbody>\n",
       "    <tr>\n",
       "      <th>0</th>\n",
       "      <td>2439-20</td>\n",
       "      <td>25717</td>\n",
       "    </tr>\n",
       "  </tbody>\n",
       "</table>\n",
       "</div>"
      ],
      "text/plain": [
       "  proyecto_id  materia_id\n",
       "0     2439-20       25717"
      ]
     },
     "metadata": {},
     "output_type": "display_data"
    },
    {
     "name": "stdout",
     "output_type": "stream",
     "text": [
      "\n",
      "==================================================\n",
      "\n"
     ]
    },
    {
     "data": {
      "text/markdown": [
       "### Tabla: `sesiones_votacion`"
      ],
      "text/plain": [
       "<IPython.core.display.Markdown object>"
      ]
     },
     "metadata": {},
     "output_type": "display_data"
    },
    {
     "data": {
      "application/vnd.microsoft.datawrangler.viewer.v0+json": {
       "columns": [
        {
         "name": "index",
         "rawType": "int64",
         "type": "integer"
        },
        {
         "name": "sesion_votacion_id",
         "rawType": "object",
         "type": "string"
        },
        {
         "name": "proyecto_id",
         "rawType": "object",
         "type": "string"
        },
        {
         "name": "camara",
         "rawType": "object",
         "type": "string"
        },
        {
         "name": "fecha",
         "rawType": "object",
         "type": "string"
        },
        {
         "name": "tema",
         "rawType": "object",
         "type": "string"
        },
        {
         "name": "resultado_general",
         "rawType": "object",
         "type": "string"
        },
        {
         "name": "quorum_aplicado",
         "rawType": "object",
         "type": "string"
        },
        {
         "name": "a_favor_total",
         "rawType": "object",
         "type": "string"
        },
        {
         "name": "en_contra_total",
         "rawType": "object",
         "type": "string"
        },
        {
         "name": "abstencion_total",
         "rawType": "object",
         "type": "string"
        },
        {
         "name": "pareo_total",
         "rawType": "object",
         "type": "string"
        }
       ],
       "ref": "21436b4d-4c29-4a66-a5b5-5108b25847f9",
       "rows": [],
       "shape": {
        "columns": 11,
        "rows": 0
       }
      },
      "text/html": [
       "<div>\n",
       "<style scoped>\n",
       "    .dataframe tbody tr th:only-of-type {\n",
       "        vertical-align: middle;\n",
       "    }\n",
       "\n",
       "    .dataframe tbody tr th {\n",
       "        vertical-align: top;\n",
       "    }\n",
       "\n",
       "    .dataframe thead th {\n",
       "        text-align: right;\n",
       "    }\n",
       "</style>\n",
       "<table border=\"1\" class=\"dataframe\">\n",
       "  <thead>\n",
       "    <tr style=\"text-align: right;\">\n",
       "      <th></th>\n",
       "      <th>sesion_votacion_id</th>\n",
       "      <th>proyecto_id</th>\n",
       "      <th>camara</th>\n",
       "      <th>fecha</th>\n",
       "      <th>tema</th>\n",
       "      <th>resultado_general</th>\n",
       "      <th>quorum_aplicado</th>\n",
       "      <th>a_favor_total</th>\n",
       "      <th>en_contra_total</th>\n",
       "      <th>abstencion_total</th>\n",
       "      <th>pareo_total</th>\n",
       "    </tr>\n",
       "  </thead>\n",
       "  <tbody>\n",
       "  </tbody>\n",
       "</table>\n",
       "</div>"
      ],
      "text/plain": [
       "Empty DataFrame\n",
       "Columns: [sesion_votacion_id, proyecto_id, camara, fecha, tema, resultado_general, quorum_aplicado, a_favor_total, en_contra_total, abstencion_total, pareo_total]\n",
       "Index: []"
      ]
     },
     "metadata": {},
     "output_type": "display_data"
    },
    {
     "name": "stdout",
     "output_type": "stream",
     "text": [
      "\n",
      "==================================================\n",
      "\n"
     ]
    },
    {
     "data": {
      "text/markdown": [
       "### Tabla: `votos_parlamentario`"
      ],
      "text/plain": [
       "<IPython.core.display.Markdown object>"
      ]
     },
     "metadata": {},
     "output_type": "display_data"
    },
    {
     "data": {
      "application/vnd.microsoft.datawrangler.viewer.v0+json": {
       "columns": [
        {
         "name": "index",
         "rawType": "int64",
         "type": "integer"
        },
        {
         "name": "voto_id",
         "rawType": "object",
         "type": "string"
        },
        {
         "name": "sesion_votacion_id",
         "rawType": "object",
         "type": "string"
        },
        {
         "name": "mp_uid",
         "rawType": "object",
         "type": "string"
        },
        {
         "name": "voto",
         "rawType": "object",
         "type": "string"
        }
       ],
       "ref": "b6ee1b63-6e81-47f2-839c-9ae30076d127",
       "rows": [],
       "shape": {
        "columns": 4,
        "rows": 0
       }
      },
      "text/html": [
       "<div>\n",
       "<style scoped>\n",
       "    .dataframe tbody tr th:only-of-type {\n",
       "        vertical-align: middle;\n",
       "    }\n",
       "\n",
       "    .dataframe tbody tr th {\n",
       "        vertical-align: top;\n",
       "    }\n",
       "\n",
       "    .dataframe thead th {\n",
       "        text-align: right;\n",
       "    }\n",
       "</style>\n",
       "<table border=\"1\" class=\"dataframe\">\n",
       "  <thead>\n",
       "    <tr style=\"text-align: right;\">\n",
       "      <th></th>\n",
       "      <th>voto_id</th>\n",
       "      <th>sesion_votacion_id</th>\n",
       "      <th>mp_uid</th>\n",
       "      <th>voto</th>\n",
       "    </tr>\n",
       "  </thead>\n",
       "  <tbody>\n",
       "  </tbody>\n",
       "</table>\n",
       "</div>"
      ],
      "text/plain": [
       "Empty DataFrame\n",
       "Columns: [voto_id, sesion_votacion_id, mp_uid, voto]\n",
       "Index: []"
      ]
     },
     "metadata": {},
     "output_type": "display_data"
    },
    {
     "name": "stdout",
     "output_type": "stream",
     "text": [
      "\n",
      "==================================================\n",
      "\n"
     ]
    },
    {
     "data": {
      "text/markdown": [
       "### Tabla: `entity_sources`"
      ],
      "text/plain": [
       "<IPython.core.display.Markdown object>"
      ]
     },
     "metadata": {},
     "output_type": "display_data"
    },
    {
     "data": {
      "application/vnd.microsoft.datawrangler.viewer.v0+json": {
       "columns": [
        {
         "name": "index",
         "rawType": "int64",
         "type": "integer"
        },
        {
         "name": "source_id",
         "rawType": "int64",
         "type": "integer"
        },
        {
         "name": "entity_id",
         "rawType": "object",
         "type": "string"
        },
        {
         "name": "entity_type",
         "rawType": "object",
         "type": "string"
        },
        {
         "name": "source_name",
         "rawType": "object",
         "type": "string"
        },
        {
         "name": "url",
         "rawType": "object",
         "type": "string"
        },
        {
         "name": "last_checked_at",
         "rawType": "object",
         "type": "string"
        }
       ],
       "ref": "11c92581-9e66-4ca2-9208-167bddb982b0",
       "rows": [
        [
         "0",
         "10",
         "17450-11",
         "bill",
         "senado_boletin",
         "https://tramitacion.senado.cl/wspublico/tramitacion.php?boletin=17450",
         "2025-09-07 21:01:13"
        ],
        [
         "1",
         "11",
         "17450-11",
         "bill",
         "camara_boletin",
         "https://opendata.camara.cl/camaradiputados/WServices/WSLegislativo.asmx/retornarProyectoLey?prmNumeroBoletin=17450-11",
         "2025-09-07 21:01:13"
        ],
        [
         "2",
         "12",
         "17450-11",
         "bill",
         "bcn_proyecto",
         "https://datos.bcn.cl/recurso/cl/proyecto-de-ley/17450-11/datos.json",
         "2025-09-07 21:01:13"
        ],
        [
         "3",
         "13",
         "2439-20",
         "bill",
         "senado_boletin",
         "https://tramitacion.senado.cl/wspublico/tramitacion.php?boletin=2439",
         "2025-09-07 21:01:13"
        ],
        [
         "4",
         "14",
         "2439-20",
         "bill",
         "camara_boletin",
         "https://opendata.camara.cl/camaradiputados/WServices/WSLegislativo.asmx/retornarProyectoLey?prmNumeroBoletin=2439-20",
         "2025-09-07 21:01:13"
        ]
       ],
       "shape": {
        "columns": 6,
        "rows": 5
       }
      },
      "text/html": [
       "<div>\n",
       "<style scoped>\n",
       "    .dataframe tbody tr th:only-of-type {\n",
       "        vertical-align: middle;\n",
       "    }\n",
       "\n",
       "    .dataframe tbody tr th {\n",
       "        vertical-align: top;\n",
       "    }\n",
       "\n",
       "    .dataframe thead th {\n",
       "        text-align: right;\n",
       "    }\n",
       "</style>\n",
       "<table border=\"1\" class=\"dataframe\">\n",
       "  <thead>\n",
       "    <tr style=\"text-align: right;\">\n",
       "      <th></th>\n",
       "      <th>source_id</th>\n",
       "      <th>entity_id</th>\n",
       "      <th>entity_type</th>\n",
       "      <th>source_name</th>\n",
       "      <th>url</th>\n",
       "      <th>last_checked_at</th>\n",
       "    </tr>\n",
       "  </thead>\n",
       "  <tbody>\n",
       "    <tr>\n",
       "      <th>0</th>\n",
       "      <td>10</td>\n",
       "      <td>17450-11</td>\n",
       "      <td>bill</td>\n",
       "      <td>senado_boletin</td>\n",
       "      <td>https://tramitacion.senado.cl/wspublico/tramit...</td>\n",
       "      <td>2025-09-07 21:01:13</td>\n",
       "    </tr>\n",
       "    <tr>\n",
       "      <th>1</th>\n",
       "      <td>11</td>\n",
       "      <td>17450-11</td>\n",
       "      <td>bill</td>\n",
       "      <td>camara_boletin</td>\n",
       "      <td>https://opendata.camara.cl/camaradiputados/WSe...</td>\n",
       "      <td>2025-09-07 21:01:13</td>\n",
       "    </tr>\n",
       "    <tr>\n",
       "      <th>2</th>\n",
       "      <td>12</td>\n",
       "      <td>17450-11</td>\n",
       "      <td>bill</td>\n",
       "      <td>bcn_proyecto</td>\n",
       "      <td>https://datos.bcn.cl/recurso/cl/proyecto-de-le...</td>\n",
       "      <td>2025-09-07 21:01:13</td>\n",
       "    </tr>\n",
       "    <tr>\n",
       "      <th>3</th>\n",
       "      <td>13</td>\n",
       "      <td>2439-20</td>\n",
       "      <td>bill</td>\n",
       "      <td>senado_boletin</td>\n",
       "      <td>https://tramitacion.senado.cl/wspublico/tramit...</td>\n",
       "      <td>2025-09-07 21:01:13</td>\n",
       "    </tr>\n",
       "    <tr>\n",
       "      <th>4</th>\n",
       "      <td>14</td>\n",
       "      <td>2439-20</td>\n",
       "      <td>bill</td>\n",
       "      <td>camara_boletin</td>\n",
       "      <td>https://opendata.camara.cl/camaradiputados/WSe...</td>\n",
       "      <td>2025-09-07 21:01:13</td>\n",
       "    </tr>\n",
       "  </tbody>\n",
       "</table>\n",
       "</div>"
      ],
      "text/plain": [
       "   source_id entity_id entity_type     source_name  \\\n",
       "0         10  17450-11        bill  senado_boletin   \n",
       "1         11  17450-11        bill  camara_boletin   \n",
       "2         12  17450-11        bill    bcn_proyecto   \n",
       "3         13   2439-20        bill  senado_boletin   \n",
       "4         14   2439-20        bill  camara_boletin   \n",
       "\n",
       "                                                 url      last_checked_at  \n",
       "0  https://tramitacion.senado.cl/wspublico/tramit...  2025-09-07 21:01:13  \n",
       "1  https://opendata.camara.cl/camaradiputados/WSe...  2025-09-07 21:01:13  \n",
       "2  https://datos.bcn.cl/recurso/cl/proyecto-de-le...  2025-09-07 21:01:13  \n",
       "3  https://tramitacion.senado.cl/wspublico/tramit...  2025-09-07 21:01:13  \n",
       "4  https://opendata.camara.cl/camaradiputados/WSe...  2025-09-07 21:01:13  "
      ]
     },
     "metadata": {},
     "output_type": "display_data"
    },
    {
     "name": "stdout",
     "output_type": "stream",
     "text": [
      "\n",
      "==================================================\n",
      "\n"
     ]
    },
    {
     "data": {
      "text/markdown": [
       "### Tabla: `intervenciones_discurso`"
      ],
      "text/plain": [
       "<IPython.core.display.Markdown object>"
      ]
     },
     "metadata": {},
     "output_type": "display_data"
    },
    {
     "data": {
      "application/vnd.microsoft.datawrangler.viewer.v0+json": {
       "columns": [
        {
         "name": "index",
         "rawType": "int64",
         "type": "integer"
        },
        {
         "name": "intervencion_id",
         "rawType": "object",
         "type": "string"
        },
        {
         "name": "mp_uid",
         "rawType": "object",
         "type": "string"
        },
        {
         "name": "sesion_votacion_id",
         "rawType": "object",
         "type": "string"
        },
        {
         "name": "comision_id",
         "rawType": "object",
         "type": "string"
        },
        {
         "name": "texto",
         "rawType": "object",
         "type": "string"
        },
        {
         "name": "fecha",
         "rawType": "object",
         "type": "string"
        },
        {
         "name": "tema",
         "rawType": "object",
         "type": "string"
        },
        {
         "name": "url_video",
         "rawType": "object",
         "type": "string"
        },
        {
         "name": "inicio_seg",
         "rawType": "object",
         "type": "string"
        },
        {
         "name": "fin_seg",
         "rawType": "object",
         "type": "string"
        }
       ],
       "ref": "d2e99ff7-484e-48df-b42b-fca080a99baf",
       "rows": [],
       "shape": {
        "columns": 10,
        "rows": 0
       }
      },
      "text/html": [
       "<div>\n",
       "<style scoped>\n",
       "    .dataframe tbody tr th:only-of-type {\n",
       "        vertical-align: middle;\n",
       "    }\n",
       "\n",
       "    .dataframe tbody tr th {\n",
       "        vertical-align: top;\n",
       "    }\n",
       "\n",
       "    .dataframe thead th {\n",
       "        text-align: right;\n",
       "    }\n",
       "</style>\n",
       "<table border=\"1\" class=\"dataframe\">\n",
       "  <thead>\n",
       "    <tr style=\"text-align: right;\">\n",
       "      <th></th>\n",
       "      <th>intervencion_id</th>\n",
       "      <th>mp_uid</th>\n",
       "      <th>sesion_votacion_id</th>\n",
       "      <th>comision_id</th>\n",
       "      <th>texto</th>\n",
       "      <th>fecha</th>\n",
       "      <th>tema</th>\n",
       "      <th>url_video</th>\n",
       "      <th>inicio_seg</th>\n",
       "      <th>fin_seg</th>\n",
       "    </tr>\n",
       "  </thead>\n",
       "  <tbody>\n",
       "  </tbody>\n",
       "</table>\n",
       "</div>"
      ],
      "text/plain": [
       "Empty DataFrame\n",
       "Columns: [intervencion_id, mp_uid, sesion_votacion_id, comision_id, texto, fecha, tema, url_video, inicio_seg, fin_seg]\n",
       "Index: []"
      ]
     },
     "metadata": {},
     "output_type": "display_data"
    },
    {
     "name": "stdout",
     "output_type": "stream",
     "text": [
      "\n",
      "==================================================\n",
      "\n"
     ]
    },
    {
     "data": {
      "text/markdown": [
       "### Tabla: `interacciones`"
      ],
      "text/plain": [
       "<IPython.core.display.Markdown object>"
      ]
     },
     "metadata": {},
     "output_type": "display_data"
    },
    {
     "data": {
      "application/vnd.microsoft.datawrangler.viewer.v0+json": {
       "columns": [
        {
         "name": "index",
         "rawType": "int64",
         "type": "integer"
        },
        {
         "name": "interaccion_id",
         "rawType": "object",
         "type": "string"
        },
        {
         "name": "source_uid",
         "rawType": "object",
         "type": "string"
        },
        {
         "name": "target_uid",
         "rawType": "object",
         "type": "string"
        },
        {
         "name": "tipo",
         "rawType": "object",
         "type": "string"
        },
        {
         "name": "fecha",
         "rawType": "object",
         "type": "string"
        },
        {
         "name": "fuente",
         "rawType": "object",
         "type": "string"
        },
        {
         "name": "snippet",
         "rawType": "object",
         "type": "string"
        }
       ],
       "ref": "f1c96f88-6e15-4222-bfcb-0e0ebeb8460d",
       "rows": [],
       "shape": {
        "columns": 7,
        "rows": 0
       }
      },
      "text/html": [
       "<div>\n",
       "<style scoped>\n",
       "    .dataframe tbody tr th:only-of-type {\n",
       "        vertical-align: middle;\n",
       "    }\n",
       "\n",
       "    .dataframe tbody tr th {\n",
       "        vertical-align: top;\n",
       "    }\n",
       "\n",
       "    .dataframe thead th {\n",
       "        text-align: right;\n",
       "    }\n",
       "</style>\n",
       "<table border=\"1\" class=\"dataframe\">\n",
       "  <thead>\n",
       "    <tr style=\"text-align: right;\">\n",
       "      <th></th>\n",
       "      <th>interaccion_id</th>\n",
       "      <th>source_uid</th>\n",
       "      <th>target_uid</th>\n",
       "      <th>tipo</th>\n",
       "      <th>fecha</th>\n",
       "      <th>fuente</th>\n",
       "      <th>snippet</th>\n",
       "    </tr>\n",
       "  </thead>\n",
       "  <tbody>\n",
       "  </tbody>\n",
       "</table>\n",
       "</div>"
      ],
      "text/plain": [
       "Empty DataFrame\n",
       "Columns: [interaccion_id, source_uid, target_uid, tipo, fecha, fuente, snippet]\n",
       "Index: []"
      ]
     },
     "metadata": {},
     "output_type": "display_data"
    },
    {
     "name": "stdout",
     "output_type": "stream",
     "text": [
      "\n",
      "==================================================\n",
      "\n",
      "✅ Conexión a la base de datos cerrada.\n"
     ]
    }
   ],
   "source": [
    "import sqlite3\n",
    "import pandas as pd\n",
    "from IPython.display import display, Markdown\n",
    "\n",
    "# --- CONFIGURACIÓN ---\n",
    "# Asegúrate de que esta ruta sea correcta para tu archivo de base de datos.\n",
    "DB_PATH = 'data/database/parlamento.db' \n",
    "pd.set_option('display.max_rows', 100)\n",
    "\n",
    "# --- 1. CONEXIÓN A LA BASE DE DATOS ---\n",
    "conn = None # Inicializamos la variable de conexión\n",
    "try:\n",
    "    # Se establece la conexión a la base de datos SQLite\n",
    "    conn = sqlite3.connect(DB_PATH)\n",
    "    print(f\"✅ Conexión a la base de datos '{DB_PATH}' exitosa.\")\n",
    "\n",
    "    # --- 2. OBTENER Y MOSTRAR LAS TABLAS ---\n",
    "    \n",
    "    # Creamos un cursor para ejecutar consultas SQL\n",
    "    cursor = conn.cursor()\n",
    "    \n",
    "    # Consultamos la tabla maestra para obtener los nombres de todas las tablas de usuario\n",
    "    cursor.execute(\"SELECT name FROM sqlite_master WHERE type='table';\")\n",
    "    tablas = cursor.fetchall() # Obtenemos todos los resultados\n",
    "\n",
    "    print(f\"\\nSe encontraron {len(tablas)} tablas. Mostrando las 5 primeras filas de cada una:\\n\")\n",
    "\n",
    "    # Iteramos sobre la lista de nombres de tablas encontradas\n",
    "    for tabla in tablas:\n",
    "        nombre_tabla = tabla[0] # El nombre de la tabla está en la primera posición de la tupla\n",
    "        \n",
    "        # Usamos display y Markdown para mostrar el nombre de la tabla como un título\n",
    "        display(Markdown(f'### Tabla: `{nombre_tabla}`'))\n",
    "        \n",
    "        # Creamos la consulta SQL para seleccionar las 5 primeras filas\n",
    "        query = f\"SELECT * FROM {nombre_tabla} LIMIT 5\"\n",
    "        \n",
    "        # Usamos pandas para ejecutar la consulta y leer el resultado en un DataFrame\n",
    "        df = pd.read_sql_query(query, conn)\n",
    "        \n",
    "        # Mostramos el DataFrame\n",
    "        display(df)\n",
    "        print(\"\\n\" + \"=\"*50 + \"\\n\") # Añadimos un separador para mayor claridad\n",
    "\n",
    "except sqlite3.Error as e:\n",
    "    # Si ocurre algún error durante la conexión o consulta, se imprime el error\n",
    "    print(f\"❌ Error de base de datos: {e}\")\n",
    "\n",
    "finally:\n",
    "    # --- 3. CERRAR LA CONEXIÓN ---\n",
    "    if conn:\n",
    "        conn.close()\n",
    "        print(\"✅ Conexión a la base de datos cerrada.\")"
   ]
  }
 ],
 "metadata": {
  "kernelspec": {
   "display_name": "Python 3",
   "language": "python",
   "name": "python3"
  },
  "language_info": {
   "codemirror_mode": {
    "name": "ipython",
    "version": 3
   },
   "file_extension": ".py",
   "mimetype": "text/x-python",
   "name": "python",
   "nbconvert_exporter": "python",
   "pygments_lexer": "ipython3",
   "version": "3.12.5"
  }
 },
 "nbformat": 4,
 "nbformat_minor": 5
}
