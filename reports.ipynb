{
 "cells": [
  {
   "cell_type": "code",
   "execution_count": null,
   "id": "3437cf3b",
   "metadata": {},
   "outputs": [],
   "source": []
  },
  {
   "cell_type": "code",
   "execution_count": null,
   "id": "7ecb0096",
   "metadata": {},
   "outputs": [
    {
     "data": {
      "text/markdown": [
       "# 📊 Resumen de la Base de Datos: `data/database/parlamento.db`"
      ],
      "text/plain": [
       "<IPython.core.display.Markdown object>"
      ]
     },
     "metadata": {},
     "output_type": "display_data"
    },
    {
     "data": {
      "text/markdown": [
       "Mostrando las primeras **5 filas** de cada tabla."
      ],
      "text/plain": [
       "<IPython.core.display.Markdown object>"
      ]
     },
     "metadata": {},
     "output_type": "display_data"
    },
    {
     "data": {
      "text/markdown": [
       "--- \n",
       "### 🏛️ Tabla: `dim_parlamentario`"
      ],
      "text/plain": [
       "<IPython.core.display.Markdown object>"
      ]
     },
     "metadata": {},
     "output_type": "display_data"
    },
    {
     "data": {
      "application/vnd.microsoft.datawrangler.viewer.v0+json": {
       "columns": [
        {
         "name": "index",
         "rawType": "int64",
         "type": "integer"
        },
        {
         "name": "mp_uid",
         "rawType": "int64",
         "type": "integer"
        },
        {
         "name": "nombre_completo",
         "rawType": "object",
         "type": "string"
        },
        {
         "name": "nombre_propio",
         "rawType": "object",
         "type": "string"
        },
        {
         "name": "apellido_paterno",
         "rawType": "object",
         "type": "string"
        },
        {
         "name": "apellido_materno",
         "rawType": "object",
         "type": "string"
        },
        {
         "name": "genero",
         "rawType": "object",
         "type": "string"
        },
        {
         "name": "fecha_nacimiento",
         "rawType": "object",
         "type": "string"
        },
        {
         "name": "lugar_nacimiento",
         "rawType": "object",
         "type": "string"
        },
        {
         "name": "diputadoid",
         "rawType": "object",
         "type": "string"
        },
        {
         "name": "bcn_uri",
         "rawType": "object",
         "type": "string"
        },
        {
         "name": "url_foto",
         "rawType": "object",
         "type": "string"
        },
        {
         "name": "twitter_handle",
         "rawType": "object",
         "type": "unknown"
        },
        {
         "name": "sitio_web_personal",
         "rawType": "object",
         "type": "unknown"
        },
        {
         "name": "profesion",
         "rawType": "object",
         "type": "unknown"
        },
        {
         "name": "url_historia_politica",
         "rawType": "object",
         "type": "string"
        },
        {
         "name": "fecha_extraccion",
         "rawType": "object",
         "type": "string"
        },
        {
         "name": "validation_status",
         "rawType": "object",
         "type": "unknown"
        },
        {
         "name": "validation_error",
         "rawType": "object",
         "type": "unknown"
        }
       ],
       "ref": "4a9ef26e-88fc-49d2-a5f2-426267f48f6a",
       "rows": [
        [
         "0",
         "1",
         "María Candelaria Acevedo Sáez",
         "María Candelaria",
         "Acevedo",
         "Sáez",
         "Femenino",
         "1958-09-12",
         "Coronel",
         "1096",
         "http://datos.bcn.cl/recurso/persona/5247",
         "https://www.bcn.cl/laborparlamentaria/imagen/110x110/5247.jpg",
         null,
         null,
         null,
         "https://www.bcn.cl/historiapolitica/resenas_parlamentarias/wiki/María_Candelaria_Acevedo_Sáez",
         "2025-08-18",
         null,
         null
        ],
        [
         "1",
         "2",
         "Eric Aedo Jeldres",
         "Eric Mariano",
         "Aedo",
         "Jeldres",
         "Masculino",
         "1968-07-13",
         "Los Ángeles",
         "1097",
         "http://datos.bcn.cl/recurso/persona/5253",
         "https://www.bcn.cl/laborparlamentaria/imagen/110x110/5253.jpg",
         null,
         null,
         "Administrador de Programas Sociales",
         "https://www.bcn.cl/historiapolitica/resenas_parlamentarias/wiki/Eric_Aedo_Jeldres",
         "2025-08-18",
         null,
         null
        ],
        [
         "2",
         "3",
         "Yovana Ahumada Palma",
         "Yovana Alejandra",
         "Ahumada",
         "Palma",
         "Femenino",
         "1973-12-24",
         "Antofagasta",
         "1098",
         "http://datos.bcn.cl/recurso/persona/5188",
         "https://www.bcn.cl/laborparlamentaria/imagen/110x110/5188.jpg",
         "yovyaftap2",
         null,
         "Técnica agropecuaria",
         "https://www.bcn.cl/historiapolitica/resenas_parlamentarias/wiki/Yovana_Ahumada_Palma",
         "2025-08-18",
         null,
         null
        ],
        [
         "3",
         "4",
         "Jorge Alessandri Vergara",
         "Jorge Iván",
         "Alessandri",
         "Vergara",
         "Masculino",
         "1979-06-08",
         "Santiago de Chile",
         "1009",
         "http://datos.bcn.cl/recurso/persona/4604",
         "https://www.bcn.cl/laborparlamentaria/imagen/110x110/4604.jpg",
         "jalessandri",
         null,
         "Abogado",
         "https://www.bcn.cl/historiapolitica/resenas_parlamentarias/wiki/Jorge_Iván_Alessandri_Vergara",
         "2025-08-18",
         null,
         null
        ],
        [
         "4",
         "5",
         "René Alinco Bustos",
         "René",
         "Alinco",
         "Bustos",
         "Masculino",
         "1958-06-02",
         "",
         "803",
         "http://datos.bcn.cl/recurso/persona/135",
         "https://www.bcn.cl/laborparlamentaria/imagen/110x110/135.jpg",
         "alinco_rene",
         null,
         "Obrero de la Construcción",
         "https://www.bcn.cl/historiapolitica/resenas_parlamentarias/wiki/René_Alinco_Bustos",
         "2025-08-18",
         null,
         null
        ]
       ],
       "shape": {
        "columns": 18,
        "rows": 5
       }
      },
      "text/html": [
       "<div>\n",
       "<style scoped>\n",
       "    .dataframe tbody tr th:only-of-type {\n",
       "        vertical-align: middle;\n",
       "    }\n",
       "\n",
       "    .dataframe tbody tr th {\n",
       "        vertical-align: top;\n",
       "    }\n",
       "\n",
       "    .dataframe thead th {\n",
       "        text-align: right;\n",
       "    }\n",
       "</style>\n",
       "<table border=\"1\" class=\"dataframe\">\n",
       "  <thead>\n",
       "    <tr style=\"text-align: right;\">\n",
       "      <th></th>\n",
       "      <th>mp_uid</th>\n",
       "      <th>nombre_completo</th>\n",
       "      <th>nombre_propio</th>\n",
       "      <th>apellido_paterno</th>\n",
       "      <th>apellido_materno</th>\n",
       "      <th>genero</th>\n",
       "      <th>fecha_nacimiento</th>\n",
       "      <th>lugar_nacimiento</th>\n",
       "      <th>diputadoid</th>\n",
       "      <th>bcn_uri</th>\n",
       "      <th>url_foto</th>\n",
       "      <th>twitter_handle</th>\n",
       "      <th>sitio_web_personal</th>\n",
       "      <th>profesion</th>\n",
       "      <th>url_historia_politica</th>\n",
       "      <th>fecha_extraccion</th>\n",
       "      <th>validation_status</th>\n",
       "      <th>validation_error</th>\n",
       "    </tr>\n",
       "  </thead>\n",
       "  <tbody>\n",
       "    <tr>\n",
       "      <th>0</th>\n",
       "      <td>1</td>\n",
       "      <td>María Candelaria Acevedo Sáez</td>\n",
       "      <td>María Candelaria</td>\n",
       "      <td>Acevedo</td>\n",
       "      <td>Sáez</td>\n",
       "      <td>Femenino</td>\n",
       "      <td>1958-09-12</td>\n",
       "      <td>Coronel</td>\n",
       "      <td>1096</td>\n",
       "      <td>http://datos.bcn.cl/recurso/persona/5247</td>\n",
       "      <td>https://www.bcn.cl/laborparlamentaria/imagen/1...</td>\n",
       "      <td>None</td>\n",
       "      <td>None</td>\n",
       "      <td>None</td>\n",
       "      <td>https://www.bcn.cl/historiapolitica/resenas_pa...</td>\n",
       "      <td>2025-08-18</td>\n",
       "      <td>None</td>\n",
       "      <td>None</td>\n",
       "    </tr>\n",
       "    <tr>\n",
       "      <th>1</th>\n",
       "      <td>2</td>\n",
       "      <td>Eric Aedo Jeldres</td>\n",
       "      <td>Eric Mariano</td>\n",
       "      <td>Aedo</td>\n",
       "      <td>Jeldres</td>\n",
       "      <td>Masculino</td>\n",
       "      <td>1968-07-13</td>\n",
       "      <td>Los Ángeles</td>\n",
       "      <td>1097</td>\n",
       "      <td>http://datos.bcn.cl/recurso/persona/5253</td>\n",
       "      <td>https://www.bcn.cl/laborparlamentaria/imagen/1...</td>\n",
       "      <td>None</td>\n",
       "      <td>None</td>\n",
       "      <td>Administrador de Programas Sociales</td>\n",
       "      <td>https://www.bcn.cl/historiapolitica/resenas_pa...</td>\n",
       "      <td>2025-08-18</td>\n",
       "      <td>None</td>\n",
       "      <td>None</td>\n",
       "    </tr>\n",
       "    <tr>\n",
       "      <th>2</th>\n",
       "      <td>3</td>\n",
       "      <td>Yovana Ahumada Palma</td>\n",
       "      <td>Yovana Alejandra</td>\n",
       "      <td>Ahumada</td>\n",
       "      <td>Palma</td>\n",
       "      <td>Femenino</td>\n",
       "      <td>1973-12-24</td>\n",
       "      <td>Antofagasta</td>\n",
       "      <td>1098</td>\n",
       "      <td>http://datos.bcn.cl/recurso/persona/5188</td>\n",
       "      <td>https://www.bcn.cl/laborparlamentaria/imagen/1...</td>\n",
       "      <td>yovyaftap2</td>\n",
       "      <td>None</td>\n",
       "      <td>Técnica agropecuaria</td>\n",
       "      <td>https://www.bcn.cl/historiapolitica/resenas_pa...</td>\n",
       "      <td>2025-08-18</td>\n",
       "      <td>None</td>\n",
       "      <td>None</td>\n",
       "    </tr>\n",
       "    <tr>\n",
       "      <th>3</th>\n",
       "      <td>4</td>\n",
       "      <td>Jorge Alessandri Vergara</td>\n",
       "      <td>Jorge Iván</td>\n",
       "      <td>Alessandri</td>\n",
       "      <td>Vergara</td>\n",
       "      <td>Masculino</td>\n",
       "      <td>1979-06-08</td>\n",
       "      <td>Santiago de Chile</td>\n",
       "      <td>1009</td>\n",
       "      <td>http://datos.bcn.cl/recurso/persona/4604</td>\n",
       "      <td>https://www.bcn.cl/laborparlamentaria/imagen/1...</td>\n",
       "      <td>jalessandri</td>\n",
       "      <td>None</td>\n",
       "      <td>Abogado</td>\n",
       "      <td>https://www.bcn.cl/historiapolitica/resenas_pa...</td>\n",
       "      <td>2025-08-18</td>\n",
       "      <td>None</td>\n",
       "      <td>None</td>\n",
       "    </tr>\n",
       "    <tr>\n",
       "      <th>4</th>\n",
       "      <td>5</td>\n",
       "      <td>René Alinco Bustos</td>\n",
       "      <td>René</td>\n",
       "      <td>Alinco</td>\n",
       "      <td>Bustos</td>\n",
       "      <td>Masculino</td>\n",
       "      <td>1958-06-02</td>\n",
       "      <td></td>\n",
       "      <td>803</td>\n",
       "      <td>http://datos.bcn.cl/recurso/persona/135</td>\n",
       "      <td>https://www.bcn.cl/laborparlamentaria/imagen/1...</td>\n",
       "      <td>alinco_rene</td>\n",
       "      <td>None</td>\n",
       "      <td>Obrero de la Construcción</td>\n",
       "      <td>https://www.bcn.cl/historiapolitica/resenas_pa...</td>\n",
       "      <td>2025-08-18</td>\n",
       "      <td>None</td>\n",
       "      <td>None</td>\n",
       "    </tr>\n",
       "  </tbody>\n",
       "</table>\n",
       "</div>"
      ],
      "text/plain": [
       "   mp_uid                nombre_completo     nombre_propio apellido_paterno  \\\n",
       "0       1  María Candelaria Acevedo Sáez  María Candelaria          Acevedo   \n",
       "1       2              Eric Aedo Jeldres      Eric Mariano             Aedo   \n",
       "2       3           Yovana Ahumada Palma  Yovana Alejandra          Ahumada   \n",
       "3       4       Jorge Alessandri Vergara        Jorge Iván       Alessandri   \n",
       "4       5             René Alinco Bustos              René           Alinco   \n",
       "\n",
       "  apellido_materno     genero fecha_nacimiento   lugar_nacimiento diputadoid  \\\n",
       "0             Sáez   Femenino       1958-09-12            Coronel       1096   \n",
       "1          Jeldres  Masculino       1968-07-13        Los Ángeles       1097   \n",
       "2            Palma   Femenino       1973-12-24        Antofagasta       1098   \n",
       "3          Vergara  Masculino       1979-06-08  Santiago de Chile       1009   \n",
       "4           Bustos  Masculino       1958-06-02                           803   \n",
       "\n",
       "                                    bcn_uri  \\\n",
       "0  http://datos.bcn.cl/recurso/persona/5247   \n",
       "1  http://datos.bcn.cl/recurso/persona/5253   \n",
       "2  http://datos.bcn.cl/recurso/persona/5188   \n",
       "3  http://datos.bcn.cl/recurso/persona/4604   \n",
       "4   http://datos.bcn.cl/recurso/persona/135   \n",
       "\n",
       "                                            url_foto twitter_handle  \\\n",
       "0  https://www.bcn.cl/laborparlamentaria/imagen/1...           None   \n",
       "1  https://www.bcn.cl/laborparlamentaria/imagen/1...           None   \n",
       "2  https://www.bcn.cl/laborparlamentaria/imagen/1...     yovyaftap2   \n",
       "3  https://www.bcn.cl/laborparlamentaria/imagen/1...    jalessandri   \n",
       "4  https://www.bcn.cl/laborparlamentaria/imagen/1...    alinco_rene   \n",
       "\n",
       "  sitio_web_personal                            profesion  \\\n",
       "0               None                                 None   \n",
       "1               None  Administrador de Programas Sociales   \n",
       "2               None                 Técnica agropecuaria   \n",
       "3               None                              Abogado   \n",
       "4               None            Obrero de la Construcción   \n",
       "\n",
       "                               url_historia_politica fecha_extraccion  \\\n",
       "0  https://www.bcn.cl/historiapolitica/resenas_pa...       2025-08-18   \n",
       "1  https://www.bcn.cl/historiapolitica/resenas_pa...       2025-08-18   \n",
       "2  https://www.bcn.cl/historiapolitica/resenas_pa...       2025-08-18   \n",
       "3  https://www.bcn.cl/historiapolitica/resenas_pa...       2025-08-18   \n",
       "4  https://www.bcn.cl/historiapolitica/resenas_pa...       2025-08-18   \n",
       "\n",
       "  validation_status validation_error  \n",
       "0              None             None  \n",
       "1              None             None  \n",
       "2              None             None  \n",
       "3              None             None  \n",
       "4              None             None  "
      ]
     },
     "metadata": {},
     "output_type": "display_data"
    },
    {
     "data": {
      "text/markdown": [
       "--- \n",
       "### 🏛️ Tabla: `parlamentario_aliases`"
      ],
      "text/plain": [
       "<IPython.core.display.Markdown object>"
      ]
     },
     "metadata": {},
     "output_type": "display_data"
    },
    {
     "data": {
      "text/markdown": [
       "_Esta tabla está actualmente vacía._"
      ],
      "text/plain": [
       "<IPython.core.display.Markdown object>"
      ]
     },
     "metadata": {},
     "output_type": "display_data"
    },
    {
     "data": {
      "text/markdown": [
       "--- \n",
       "### 🏛️ Tabla: `dim_partidos`"
      ],
      "text/plain": [
       "<IPython.core.display.Markdown object>"
      ]
     },
     "metadata": {},
     "output_type": "display_data"
    },
    {
     "data": {
      "application/vnd.microsoft.datawrangler.viewer.v0+json": {
       "columns": [
        {
         "name": "index",
         "rawType": "int64",
         "type": "integer"
        },
        {
         "name": "partido_id",
         "rawType": "int64",
         "type": "integer"
        },
        {
         "name": "nombre_partido",
         "rawType": "object",
         "type": "string"
        },
        {
         "name": "nombre_alternativo",
         "rawType": "object",
         "type": "string"
        },
        {
         "name": "sigla",
         "rawType": "object",
         "type": "unknown"
        },
        {
         "name": "fecha_fundacion",
         "rawType": "object",
         "type": "string"
        },
        {
         "name": "sitio_web",
         "rawType": "object",
         "type": "unknown"
        },
        {
         "name": "url_historia_politica",
         "rawType": "object",
         "type": "string"
        },
        {
         "name": "url_logo",
         "rawType": "object",
         "type": "unknown"
        },
        {
         "name": "ultima_actualizacion",
         "rawType": "object",
         "type": "string"
        }
       ],
       "ref": "31c08268-5d34-4232-840e-8c51ab576652",
       "rows": [
        [
         "0",
         "1",
         "Coalición por el Cambio",
         "",
         null,
         "2009",
         null,
         "https://www.bcn.cl/historiapolitica/partidos_politicos/wiki/Coalición_por_el_Cambio",
         "https://www.bcn.cl/laborparlamentaria/imagen/partido102.jpg",
         "2019-03-29T11:14:07-03:00"
        ],
        [
         "1",
         "2",
         "Partido Radical",
         "",
         "PR",
         "1863",
         null,
         "https://www.bcn.cl/historiapolitica/partidos_politicos/wiki/Partido_Radical",
         null,
         "2019-03-29T11:14:07-03:00"
        ],
        [
         "2",
         "3",
         "Partido Amplio de Izquierda Socialista",
         "",
         null,
         "1988",
         null,
         "https://www.bcn.cl/historiapolitica/partidos_politicos/wiki/Partido_Amplio_de_Izquierda_Socialista",
         null,
         "2019-03-29T11:14:07-03:00"
        ],
        [
         "3",
         "4",
         "Unión Socialista Popular",
         "",
         null,
         "1967",
         null,
         "https://www.bcn.cl/historiapolitica/partidos_politicos/wiki/Unión_Socialista_Popular",
         null,
         "2019-03-29T11:14:07-03:00"
        ],
        [
         "4",
         "5",
         "Partido Agrario Laborista",
         "",
         null,
         "1945",
         null,
         "https://www.bcn.cl/historiapolitica/partidos_politicos/wiki/Partido_Agrario_Laborista",
         null,
         "2019-03-29T11:14:07-03:00"
        ]
       ],
       "shape": {
        "columns": 9,
        "rows": 5
       }
      },
      "text/html": [
       "<div>\n",
       "<style scoped>\n",
       "    .dataframe tbody tr th:only-of-type {\n",
       "        vertical-align: middle;\n",
       "    }\n",
       "\n",
       "    .dataframe tbody tr th {\n",
       "        vertical-align: top;\n",
       "    }\n",
       "\n",
       "    .dataframe thead th {\n",
       "        text-align: right;\n",
       "    }\n",
       "</style>\n",
       "<table border=\"1\" class=\"dataframe\">\n",
       "  <thead>\n",
       "    <tr style=\"text-align: right;\">\n",
       "      <th></th>\n",
       "      <th>partido_id</th>\n",
       "      <th>nombre_partido</th>\n",
       "      <th>nombre_alternativo</th>\n",
       "      <th>sigla</th>\n",
       "      <th>fecha_fundacion</th>\n",
       "      <th>sitio_web</th>\n",
       "      <th>url_historia_politica</th>\n",
       "      <th>url_logo</th>\n",
       "      <th>ultima_actualizacion</th>\n",
       "    </tr>\n",
       "  </thead>\n",
       "  <tbody>\n",
       "    <tr>\n",
       "      <th>0</th>\n",
       "      <td>1</td>\n",
       "      <td>Coalición por el Cambio</td>\n",
       "      <td></td>\n",
       "      <td>None</td>\n",
       "      <td>2009</td>\n",
       "      <td>None</td>\n",
       "      <td>https://www.bcn.cl/historiapolitica/partidos_p...</td>\n",
       "      <td>https://www.bcn.cl/laborparlamentaria/imagen/p...</td>\n",
       "      <td>2019-03-29T11:14:07-03:00</td>\n",
       "    </tr>\n",
       "    <tr>\n",
       "      <th>1</th>\n",
       "      <td>2</td>\n",
       "      <td>Partido Radical</td>\n",
       "      <td></td>\n",
       "      <td>PR</td>\n",
       "      <td>1863</td>\n",
       "      <td>None</td>\n",
       "      <td>https://www.bcn.cl/historiapolitica/partidos_p...</td>\n",
       "      <td>None</td>\n",
       "      <td>2019-03-29T11:14:07-03:00</td>\n",
       "    </tr>\n",
       "    <tr>\n",
       "      <th>2</th>\n",
       "      <td>3</td>\n",
       "      <td>Partido Amplio de Izquierda Socialista</td>\n",
       "      <td></td>\n",
       "      <td>None</td>\n",
       "      <td>1988</td>\n",
       "      <td>None</td>\n",
       "      <td>https://www.bcn.cl/historiapolitica/partidos_p...</td>\n",
       "      <td>None</td>\n",
       "      <td>2019-03-29T11:14:07-03:00</td>\n",
       "    </tr>\n",
       "    <tr>\n",
       "      <th>3</th>\n",
       "      <td>4</td>\n",
       "      <td>Unión Socialista Popular</td>\n",
       "      <td></td>\n",
       "      <td>None</td>\n",
       "      <td>1967</td>\n",
       "      <td>None</td>\n",
       "      <td>https://www.bcn.cl/historiapolitica/partidos_p...</td>\n",
       "      <td>None</td>\n",
       "      <td>2019-03-29T11:14:07-03:00</td>\n",
       "    </tr>\n",
       "    <tr>\n",
       "      <th>4</th>\n",
       "      <td>5</td>\n",
       "      <td>Partido Agrario Laborista</td>\n",
       "      <td></td>\n",
       "      <td>None</td>\n",
       "      <td>1945</td>\n",
       "      <td>None</td>\n",
       "      <td>https://www.bcn.cl/historiapolitica/partidos_p...</td>\n",
       "      <td>None</td>\n",
       "      <td>2019-03-29T11:14:07-03:00</td>\n",
       "    </tr>\n",
       "  </tbody>\n",
       "</table>\n",
       "</div>"
      ],
      "text/plain": [
       "   partido_id                          nombre_partido nombre_alternativo  \\\n",
       "0           1                 Coalición por el Cambio                      \n",
       "1           2                         Partido Radical                      \n",
       "2           3  Partido Amplio de Izquierda Socialista                      \n",
       "3           4                Unión Socialista Popular                      \n",
       "4           5               Partido Agrario Laborista                      \n",
       "\n",
       "  sigla fecha_fundacion sitio_web  \\\n",
       "0  None            2009      None   \n",
       "1    PR            1863      None   \n",
       "2  None            1988      None   \n",
       "3  None            1967      None   \n",
       "4  None            1945      None   \n",
       "\n",
       "                               url_historia_politica  \\\n",
       "0  https://www.bcn.cl/historiapolitica/partidos_p...   \n",
       "1  https://www.bcn.cl/historiapolitica/partidos_p...   \n",
       "2  https://www.bcn.cl/historiapolitica/partidos_p...   \n",
       "3  https://www.bcn.cl/historiapolitica/partidos_p...   \n",
       "4  https://www.bcn.cl/historiapolitica/partidos_p...   \n",
       "\n",
       "                                            url_logo  \\\n",
       "0  https://www.bcn.cl/laborparlamentaria/imagen/p...   \n",
       "1                                               None   \n",
       "2                                               None   \n",
       "3                                               None   \n",
       "4                                               None   \n",
       "\n",
       "        ultima_actualizacion  \n",
       "0  2019-03-29T11:14:07-03:00  \n",
       "1  2019-03-29T11:14:07-03:00  \n",
       "2  2019-03-29T11:14:07-03:00  \n",
       "3  2019-03-29T11:14:07-03:00  \n",
       "4  2019-03-29T11:14:07-03:00  "
      ]
     },
     "metadata": {},
     "output_type": "display_data"
    },
    {
     "data": {
      "text/markdown": [
       "--- \n",
       "### 🏛️ Tabla: `dim_coaliciones`"
      ],
      "text/plain": [
       "<IPython.core.display.Markdown object>"
      ]
     },
     "metadata": {},
     "output_type": "display_data"
    },
    {
     "data": {
      "text/markdown": [
       "_Esta tabla está actualmente vacía._"
      ],
      "text/plain": [
       "<IPython.core.display.Markdown object>"
      ]
     },
     "metadata": {},
     "output_type": "display_data"
    },
    {
     "data": {
      "text/markdown": [
       "--- \n",
       "### 🏛️ Tabla: `dim_comisiones`"
      ],
      "text/plain": [
       "<IPython.core.display.Markdown object>"
      ]
     },
     "metadata": {},
     "output_type": "display_data"
    },
    {
     "data": {
      "application/vnd.microsoft.datawrangler.viewer.v0+json": {
       "columns": [
        {
         "name": "index",
         "rawType": "int64",
         "type": "integer"
        },
        {
         "name": "comision_id",
         "rawType": "int64",
         "type": "integer"
        },
        {
         "name": "nombre_comision",
         "rawType": "object",
         "type": "string"
        },
        {
         "name": "tipo",
         "rawType": "object",
         "type": "string"
        }
       ],
       "ref": "7f287c51-7ca4-4b8e-825a-65311ecb3f96",
       "rows": [
        [
         "0",
         "401",
         "Constitución, Legislación, Justicia y Reglamento",
         "Permanente"
        ],
        [
         "1",
         "402",
         "Obras Públicas, Transportes y Telecomunicaciones",
         "Permanente"
        ],
        [
         "2",
         "403",
         "Futuro, Ciencias, Tecnología, Conocimiento e Innovación",
         "Permanente"
        ],
        [
         "3",
         "404",
         "De Derechos Humanos y Pueblos Originarios",
         "Permanente"
        ],
        [
         "4",
         "405",
         "Medio Ambiente y Recursos Naturales",
         "Permanente"
        ]
       ],
       "shape": {
        "columns": 3,
        "rows": 5
       }
      },
      "text/html": [
       "<div>\n",
       "<style scoped>\n",
       "    .dataframe tbody tr th:only-of-type {\n",
       "        vertical-align: middle;\n",
       "    }\n",
       "\n",
       "    .dataframe tbody tr th {\n",
       "        vertical-align: top;\n",
       "    }\n",
       "\n",
       "    .dataframe thead th {\n",
       "        text-align: right;\n",
       "    }\n",
       "</style>\n",
       "<table border=\"1\" class=\"dataframe\">\n",
       "  <thead>\n",
       "    <tr style=\"text-align: right;\">\n",
       "      <th></th>\n",
       "      <th>comision_id</th>\n",
       "      <th>nombre_comision</th>\n",
       "      <th>tipo</th>\n",
       "    </tr>\n",
       "  </thead>\n",
       "  <tbody>\n",
       "    <tr>\n",
       "      <th>0</th>\n",
       "      <td>401</td>\n",
       "      <td>Constitución, Legislación, Justicia y Reglamento</td>\n",
       "      <td>Permanente</td>\n",
       "    </tr>\n",
       "    <tr>\n",
       "      <th>1</th>\n",
       "      <td>402</td>\n",
       "      <td>Obras Públicas, Transportes y Telecomunicaciones</td>\n",
       "      <td>Permanente</td>\n",
       "    </tr>\n",
       "    <tr>\n",
       "      <th>2</th>\n",
       "      <td>403</td>\n",
       "      <td>Futuro, Ciencias, Tecnología, Conocimiento e I...</td>\n",
       "      <td>Permanente</td>\n",
       "    </tr>\n",
       "    <tr>\n",
       "      <th>3</th>\n",
       "      <td>404</td>\n",
       "      <td>De Derechos Humanos y Pueblos Originarios</td>\n",
       "      <td>Permanente</td>\n",
       "    </tr>\n",
       "    <tr>\n",
       "      <th>4</th>\n",
       "      <td>405</td>\n",
       "      <td>Medio Ambiente y Recursos Naturales</td>\n",
       "      <td>Permanente</td>\n",
       "    </tr>\n",
       "  </tbody>\n",
       "</table>\n",
       "</div>"
      ],
      "text/plain": [
       "   comision_id                                    nombre_comision        tipo\n",
       "0          401   Constitución, Legislación, Justicia y Reglamento  Permanente\n",
       "1          402   Obras Públicas, Transportes y Telecomunicaciones  Permanente\n",
       "2          403  Futuro, Ciencias, Tecnología, Conocimiento e I...  Permanente\n",
       "3          404          De Derechos Humanos y Pueblos Originarios  Permanente\n",
       "4          405                Medio Ambiente y Recursos Naturales  Permanente"
      ]
     },
     "metadata": {},
     "output_type": "display_data"
    },
    {
     "data": {
      "text/markdown": [
       "--- \n",
       "### 🏛️ Tabla: `dim_legislatura`"
      ],
      "text/plain": [
       "<IPython.core.display.Markdown object>"
      ]
     },
     "metadata": {},
     "output_type": "display_data"
    },
    {
     "data": {
      "application/vnd.microsoft.datawrangler.viewer.v0+json": {
       "columns": [
        {
         "name": "index",
         "rawType": "int64",
         "type": "integer"
        },
        {
         "name": "legislatura_id",
         "rawType": "int64",
         "type": "integer"
        },
        {
         "name": "numero",
         "rawType": "int64",
         "type": "integer"
        },
        {
         "name": "fecha_inicio",
         "rawType": "object",
         "type": "string"
        },
        {
         "name": "fecha_termino",
         "rawType": "object",
         "type": "string"
        },
        {
         "name": "tipo",
         "rawType": "object",
         "type": "string"
        }
       ],
       "ref": "7b78edc0-43bd-4ed8-bc09-66ccb5edaf75",
       "rows": [
        [
         "0",
         "3",
         "319",
         "1990-03-11",
         "1990-05-20",
         "Extraordinaria"
        ],
        [
         "1",
         "4",
         "320",
         "1990-05-21",
         "1990-09-17",
         "Ordinaria"
        ],
        [
         "2",
         "5",
         "321",
         "1990-09-18",
         "1991-05-20",
         "Extraordinaria"
        ],
        [
         "3",
         "6",
         "322",
         "1991-05-21",
         "1991-09-17",
         "Ordinaria"
        ],
        [
         "4",
         "7",
         "323",
         "1991-09-18",
         "1992-05-20",
         "Extraordinaria"
        ]
       ],
       "shape": {
        "columns": 5,
        "rows": 5
       }
      },
      "text/html": [
       "<div>\n",
       "<style scoped>\n",
       "    .dataframe tbody tr th:only-of-type {\n",
       "        vertical-align: middle;\n",
       "    }\n",
       "\n",
       "    .dataframe tbody tr th {\n",
       "        vertical-align: top;\n",
       "    }\n",
       "\n",
       "    .dataframe thead th {\n",
       "        text-align: right;\n",
       "    }\n",
       "</style>\n",
       "<table border=\"1\" class=\"dataframe\">\n",
       "  <thead>\n",
       "    <tr style=\"text-align: right;\">\n",
       "      <th></th>\n",
       "      <th>legislatura_id</th>\n",
       "      <th>numero</th>\n",
       "      <th>fecha_inicio</th>\n",
       "      <th>fecha_termino</th>\n",
       "      <th>tipo</th>\n",
       "    </tr>\n",
       "  </thead>\n",
       "  <tbody>\n",
       "    <tr>\n",
       "      <th>0</th>\n",
       "      <td>3</td>\n",
       "      <td>319</td>\n",
       "      <td>1990-03-11</td>\n",
       "      <td>1990-05-20</td>\n",
       "      <td>Extraordinaria</td>\n",
       "    </tr>\n",
       "    <tr>\n",
       "      <th>1</th>\n",
       "      <td>4</td>\n",
       "      <td>320</td>\n",
       "      <td>1990-05-21</td>\n",
       "      <td>1990-09-17</td>\n",
       "      <td>Ordinaria</td>\n",
       "    </tr>\n",
       "    <tr>\n",
       "      <th>2</th>\n",
       "      <td>5</td>\n",
       "      <td>321</td>\n",
       "      <td>1990-09-18</td>\n",
       "      <td>1991-05-20</td>\n",
       "      <td>Extraordinaria</td>\n",
       "    </tr>\n",
       "    <tr>\n",
       "      <th>3</th>\n",
       "      <td>6</td>\n",
       "      <td>322</td>\n",
       "      <td>1991-05-21</td>\n",
       "      <td>1991-09-17</td>\n",
       "      <td>Ordinaria</td>\n",
       "    </tr>\n",
       "    <tr>\n",
       "      <th>4</th>\n",
       "      <td>7</td>\n",
       "      <td>323</td>\n",
       "      <td>1991-09-18</td>\n",
       "      <td>1992-05-20</td>\n",
       "      <td>Extraordinaria</td>\n",
       "    </tr>\n",
       "  </tbody>\n",
       "</table>\n",
       "</div>"
      ],
      "text/plain": [
       "   legislatura_id  numero fecha_inicio fecha_termino            tipo\n",
       "0               3     319   1990-03-11    1990-05-20  Extraordinaria\n",
       "1               4     320   1990-05-21    1990-09-17       Ordinaria\n",
       "2               5     321   1990-09-18    1991-05-20  Extraordinaria\n",
       "3               6     322   1991-05-21    1991-09-17       Ordinaria\n",
       "4               7     323   1991-09-18    1992-05-20  Extraordinaria"
      ]
     },
     "metadata": {},
     "output_type": "display_data"
    },
    {
     "data": {
      "text/markdown": [
       "--- \n",
       "### 🏛️ Tabla: `parlamentario_mandatos`"
      ],
      "text/plain": [
       "<IPython.core.display.Markdown object>"
      ]
     },
     "metadata": {},
     "output_type": "display_data"
    },
    {
     "data": {
      "application/vnd.microsoft.datawrangler.viewer.v0+json": {
       "columns": [
        {
         "name": "index",
         "rawType": "int64",
         "type": "integer"
        },
        {
         "name": "mandato_id",
         "rawType": "int64",
         "type": "integer"
        },
        {
         "name": "mp_uid",
         "rawType": "int64",
         "type": "integer"
        },
        {
         "name": "cargo",
         "rawType": "object",
         "type": "string"
        },
        {
         "name": "distrito",
         "rawType": "object",
         "type": "unknown"
        },
        {
         "name": "partido_id_mandato",
         "rawType": "object",
         "type": "unknown"
        },
        {
         "name": "fecha_inicio",
         "rawType": "object",
         "type": "string"
        },
        {
         "name": "fecha_fin",
         "rawType": "object",
         "type": "unknown"
        }
       ],
       "ref": "1f2b5723-d282-4e2e-b8fb-34e402b49df9",
       "rows": [
        [
         "0",
         "1",
         "1",
         "Diputado",
         null,
         null,
         "2026-03-10",
         null
        ],
        [
         "1",
         "2",
         "2",
         "Diputado",
         null,
         null,
         "2026-03-10",
         null
        ],
        [
         "2",
         "3",
         "3",
         "Diputado",
         null,
         null,
         "2026-03-10",
         null
        ],
        [
         "3",
         "4",
         "4",
         "Diputado",
         null,
         null,
         "2026-03-10",
         null
        ],
        [
         "4",
         "5",
         "5",
         "Diputado",
         null,
         null,
         "2026-03-10",
         null
        ]
       ],
       "shape": {
        "columns": 7,
        "rows": 5
       }
      },
      "text/html": [
       "<div>\n",
       "<style scoped>\n",
       "    .dataframe tbody tr th:only-of-type {\n",
       "        vertical-align: middle;\n",
       "    }\n",
       "\n",
       "    .dataframe tbody tr th {\n",
       "        vertical-align: top;\n",
       "    }\n",
       "\n",
       "    .dataframe thead th {\n",
       "        text-align: right;\n",
       "    }\n",
       "</style>\n",
       "<table border=\"1\" class=\"dataframe\">\n",
       "  <thead>\n",
       "    <tr style=\"text-align: right;\">\n",
       "      <th></th>\n",
       "      <th>mandato_id</th>\n",
       "      <th>mp_uid</th>\n",
       "      <th>cargo</th>\n",
       "      <th>distrito</th>\n",
       "      <th>partido_id_mandato</th>\n",
       "      <th>fecha_inicio</th>\n",
       "      <th>fecha_fin</th>\n",
       "    </tr>\n",
       "  </thead>\n",
       "  <tbody>\n",
       "    <tr>\n",
       "      <th>0</th>\n",
       "      <td>1</td>\n",
       "      <td>1</td>\n",
       "      <td>Diputado</td>\n",
       "      <td>None</td>\n",
       "      <td>None</td>\n",
       "      <td>2026-03-10</td>\n",
       "      <td>None</td>\n",
       "    </tr>\n",
       "    <tr>\n",
       "      <th>1</th>\n",
       "      <td>2</td>\n",
       "      <td>2</td>\n",
       "      <td>Diputado</td>\n",
       "      <td>None</td>\n",
       "      <td>None</td>\n",
       "      <td>2026-03-10</td>\n",
       "      <td>None</td>\n",
       "    </tr>\n",
       "    <tr>\n",
       "      <th>2</th>\n",
       "      <td>3</td>\n",
       "      <td>3</td>\n",
       "      <td>Diputado</td>\n",
       "      <td>None</td>\n",
       "      <td>None</td>\n",
       "      <td>2026-03-10</td>\n",
       "      <td>None</td>\n",
       "    </tr>\n",
       "    <tr>\n",
       "      <th>3</th>\n",
       "      <td>4</td>\n",
       "      <td>4</td>\n",
       "      <td>Diputado</td>\n",
       "      <td>None</td>\n",
       "      <td>None</td>\n",
       "      <td>2026-03-10</td>\n",
       "      <td>None</td>\n",
       "    </tr>\n",
       "    <tr>\n",
       "      <th>4</th>\n",
       "      <td>5</td>\n",
       "      <td>5</td>\n",
       "      <td>Diputado</td>\n",
       "      <td>None</td>\n",
       "      <td>None</td>\n",
       "      <td>2026-03-10</td>\n",
       "      <td>None</td>\n",
       "    </tr>\n",
       "  </tbody>\n",
       "</table>\n",
       "</div>"
      ],
      "text/plain": [
       "   mandato_id  mp_uid     cargo distrito partido_id_mandato fecha_inicio  \\\n",
       "0           1       1  Diputado     None               None   2026-03-10   \n",
       "1           2       2  Diputado     None               None   2026-03-10   \n",
       "2           3       3  Diputado     None               None   2026-03-10   \n",
       "3           4       4  Diputado     None               None   2026-03-10   \n",
       "4           5       5  Diputado     None               None   2026-03-10   \n",
       "\n",
       "  fecha_fin  \n",
       "0      None  \n",
       "1      None  \n",
       "2      None  \n",
       "3      None  \n",
       "4      None  "
      ]
     },
     "metadata": {},
     "output_type": "display_data"
    },
    {
     "data": {
      "text/markdown": [
       "--- \n",
       "### 🏛️ Tabla: `militancia_historial`"
      ],
      "text/plain": [
       "<IPython.core.display.Markdown object>"
      ]
     },
     "metadata": {},
     "output_type": "display_data"
    },
    {
     "data": {
      "application/vnd.microsoft.datawrangler.viewer.v0+json": {
       "columns": [
        {
         "name": "index",
         "rawType": "int64",
         "type": "integer"
        },
        {
         "name": "militancia_id",
         "rawType": "int64",
         "type": "integer"
        },
        {
         "name": "mp_uid",
         "rawType": "int64",
         "type": "integer"
        },
        {
         "name": "partido_id",
         "rawType": "int64",
         "type": "integer"
        },
        {
         "name": "fecha_inicio",
         "rawType": "object",
         "type": "string"
        },
        {
         "name": "fecha_fin",
         "rawType": "object",
         "type": "string"
        }
       ],
       "ref": "09d41399-601e-4eac-8533-17297f2ab347",
       "rows": [
        [
         "0",
         "1",
         "2",
         "53",
         "2022-03-11",
         "2026-03-10"
        ],
        [
         "1",
         "2",
         "4",
         "61",
         "2018-03-11",
         "2022-03-10"
        ],
        [
         "2",
         "3",
         "4",
         "61",
         "2022-03-11",
         "2026-03-10"
        ],
        [
         "3",
         "4",
         "5",
         "128",
         "2006-03-11",
         "2010-03-10"
        ],
        [
         "4",
         "5",
         "13",
         "53",
         "2022-03-11",
         "2026-03-10"
        ]
       ],
       "shape": {
        "columns": 5,
        "rows": 5
       }
      },
      "text/html": [
       "<div>\n",
       "<style scoped>\n",
       "    .dataframe tbody tr th:only-of-type {\n",
       "        vertical-align: middle;\n",
       "    }\n",
       "\n",
       "    .dataframe tbody tr th {\n",
       "        vertical-align: top;\n",
       "    }\n",
       "\n",
       "    .dataframe thead th {\n",
       "        text-align: right;\n",
       "    }\n",
       "</style>\n",
       "<table border=\"1\" class=\"dataframe\">\n",
       "  <thead>\n",
       "    <tr style=\"text-align: right;\">\n",
       "      <th></th>\n",
       "      <th>militancia_id</th>\n",
       "      <th>mp_uid</th>\n",
       "      <th>partido_id</th>\n",
       "      <th>fecha_inicio</th>\n",
       "      <th>fecha_fin</th>\n",
       "    </tr>\n",
       "  </thead>\n",
       "  <tbody>\n",
       "    <tr>\n",
       "      <th>0</th>\n",
       "      <td>1</td>\n",
       "      <td>2</td>\n",
       "      <td>53</td>\n",
       "      <td>2022-03-11</td>\n",
       "      <td>2026-03-10</td>\n",
       "    </tr>\n",
       "    <tr>\n",
       "      <th>1</th>\n",
       "      <td>2</td>\n",
       "      <td>4</td>\n",
       "      <td>61</td>\n",
       "      <td>2018-03-11</td>\n",
       "      <td>2022-03-10</td>\n",
       "    </tr>\n",
       "    <tr>\n",
       "      <th>2</th>\n",
       "      <td>3</td>\n",
       "      <td>4</td>\n",
       "      <td>61</td>\n",
       "      <td>2022-03-11</td>\n",
       "      <td>2026-03-10</td>\n",
       "    </tr>\n",
       "    <tr>\n",
       "      <th>3</th>\n",
       "      <td>4</td>\n",
       "      <td>5</td>\n",
       "      <td>128</td>\n",
       "      <td>2006-03-11</td>\n",
       "      <td>2010-03-10</td>\n",
       "    </tr>\n",
       "    <tr>\n",
       "      <th>4</th>\n",
       "      <td>5</td>\n",
       "      <td>13</td>\n",
       "      <td>53</td>\n",
       "      <td>2022-03-11</td>\n",
       "      <td>2026-03-10</td>\n",
       "    </tr>\n",
       "  </tbody>\n",
       "</table>\n",
       "</div>"
      ],
      "text/plain": [
       "   militancia_id  mp_uid  partido_id fecha_inicio   fecha_fin\n",
       "0              1       2          53   2022-03-11  2026-03-10\n",
       "1              2       4          61   2018-03-11  2022-03-10\n",
       "2              3       4          61   2022-03-11  2026-03-10\n",
       "3              4       5         128   2006-03-11  2010-03-10\n",
       "4              5      13          53   2022-03-11  2026-03-10"
      ]
     },
     "metadata": {},
     "output_type": "display_data"
    },
    {
     "data": {
      "text/markdown": [
       "--- \n",
       "### 🏛️ Tabla: `comision_membresias`"
      ],
      "text/plain": [
       "<IPython.core.display.Markdown object>"
      ]
     },
     "metadata": {},
     "output_type": "display_data"
    },
    {
     "data": {
      "application/vnd.microsoft.datawrangler.viewer.v0+json": {
       "columns": [
        {
         "name": "index",
         "rawType": "int64",
         "type": "integer"
        },
        {
         "name": "membresia_id",
         "rawType": "int64",
         "type": "integer"
        },
        {
         "name": "mp_uid",
         "rawType": "int64",
         "type": "integer"
        },
        {
         "name": "comision_id",
         "rawType": "int64",
         "type": "integer"
        },
        {
         "name": "rol",
         "rawType": "object",
         "type": "string"
        },
        {
         "name": "fecha_inicio",
         "rawType": "object",
         "type": "string"
        },
        {
         "name": "fecha_fin",
         "rawType": "object",
         "type": "unknown"
        }
       ],
       "ref": "e7e57e7d-0c3f-4239-b3d9-e0203a4d6c1d",
       "rows": [
        [
         "0",
         "1",
         "28",
         "3082",
         "Miembro",
         "2021-06-30",
         null
        ],
        [
         "1",
         "2",
         "50",
         "3082",
         "Miembro",
         "2021-06-30",
         null
        ],
        [
         "2",
         "3",
         "442",
         "3082",
         "Miembro",
         "2021-06-30",
         null
        ],
        [
         "3",
         "4",
         "408",
         "3082",
         "Miembro",
         "2021-06-30",
         null
        ],
        [
         "4",
         "5",
         "95",
         "3082",
         "Miembro",
         "2021-06-30",
         null
        ]
       ],
       "shape": {
        "columns": 6,
        "rows": 5
       }
      },
      "text/html": [
       "<div>\n",
       "<style scoped>\n",
       "    .dataframe tbody tr th:only-of-type {\n",
       "        vertical-align: middle;\n",
       "    }\n",
       "\n",
       "    .dataframe tbody tr th {\n",
       "        vertical-align: top;\n",
       "    }\n",
       "\n",
       "    .dataframe thead th {\n",
       "        text-align: right;\n",
       "    }\n",
       "</style>\n",
       "<table border=\"1\" class=\"dataframe\">\n",
       "  <thead>\n",
       "    <tr style=\"text-align: right;\">\n",
       "      <th></th>\n",
       "      <th>membresia_id</th>\n",
       "      <th>mp_uid</th>\n",
       "      <th>comision_id</th>\n",
       "      <th>rol</th>\n",
       "      <th>fecha_inicio</th>\n",
       "      <th>fecha_fin</th>\n",
       "    </tr>\n",
       "  </thead>\n",
       "  <tbody>\n",
       "    <tr>\n",
       "      <th>0</th>\n",
       "      <td>1</td>\n",
       "      <td>28</td>\n",
       "      <td>3082</td>\n",
       "      <td>Miembro</td>\n",
       "      <td>2021-06-30</td>\n",
       "      <td>None</td>\n",
       "    </tr>\n",
       "    <tr>\n",
       "      <th>1</th>\n",
       "      <td>2</td>\n",
       "      <td>50</td>\n",
       "      <td>3082</td>\n",
       "      <td>Miembro</td>\n",
       "      <td>2021-06-30</td>\n",
       "      <td>None</td>\n",
       "    </tr>\n",
       "    <tr>\n",
       "      <th>2</th>\n",
       "      <td>3</td>\n",
       "      <td>442</td>\n",
       "      <td>3082</td>\n",
       "      <td>Miembro</td>\n",
       "      <td>2021-06-30</td>\n",
       "      <td>None</td>\n",
       "    </tr>\n",
       "    <tr>\n",
       "      <th>3</th>\n",
       "      <td>4</td>\n",
       "      <td>408</td>\n",
       "      <td>3082</td>\n",
       "      <td>Miembro</td>\n",
       "      <td>2021-06-30</td>\n",
       "      <td>None</td>\n",
       "    </tr>\n",
       "    <tr>\n",
       "      <th>4</th>\n",
       "      <td>5</td>\n",
       "      <td>95</td>\n",
       "      <td>3082</td>\n",
       "      <td>Miembro</td>\n",
       "      <td>2021-06-30</td>\n",
       "      <td>None</td>\n",
       "    </tr>\n",
       "  </tbody>\n",
       "</table>\n",
       "</div>"
      ],
      "text/plain": [
       "   membresia_id  mp_uid  comision_id      rol fecha_inicio fecha_fin\n",
       "0             1      28         3082  Miembro   2021-06-30      None\n",
       "1             2      50         3082  Miembro   2021-06-30      None\n",
       "2             3     442         3082  Miembro   2021-06-30      None\n",
       "3             4     408         3082  Miembro   2021-06-30      None\n",
       "4             5      95         3082  Miembro   2021-06-30      None"
      ]
     },
     "metadata": {},
     "output_type": "display_data"
    },
    {
     "data": {
      "text/markdown": [
       "--- \n",
       "### 🏛️ Tabla: `electoral_results`"
      ],
      "text/plain": [
       "<IPython.core.display.Markdown object>"
      ]
     },
     "metadata": {},
     "output_type": "display_data"
    },
    {
     "data": {
      "text/markdown": [
       "_Esta tabla está actualmente vacía._"
      ],
      "text/plain": [
       "<IPython.core.display.Markdown object>"
      ]
     },
     "metadata": {},
     "output_type": "display_data"
    },
    {
     "data": {
      "text/markdown": [
       "--- \n",
       "### 🏛️ Tabla: `educacion`"
      ],
      "text/plain": [
       "<IPython.core.display.Markdown object>"
      ]
     },
     "metadata": {},
     "output_type": "display_data"
    },
    {
     "data": {
      "text/markdown": [
       "_Esta tabla está actualmente vacía._"
      ],
      "text/plain": [
       "<IPython.core.display.Markdown object>"
      ]
     },
     "metadata": {},
     "output_type": "display_data"
    },
    {
     "data": {
      "text/markdown": [
       "--- \n",
       "### 🏛️ Tabla: `bills`"
      ],
      "text/plain": [
       "<IPython.core.display.Markdown object>"
      ]
     },
     "metadata": {},
     "output_type": "display_data"
    },
    {
     "data": {
      "application/vnd.microsoft.datawrangler.viewer.v0+json": {
       "columns": [
        {
         "name": "index",
         "rawType": "int64",
         "type": "integer"
        },
        {
         "name": "bill_id",
         "rawType": "object",
         "type": "string"
        },
        {
         "name": "titulo",
         "rawType": "object",
         "type": "string"
        },
        {
         "name": "resumen",
         "rawType": "object",
         "type": "string"
        },
        {
         "name": "fecha_ingreso",
         "rawType": "object",
         "type": "string"
        },
        {
         "name": "etapa",
         "rawType": "object",
         "type": "unknown"
        },
        {
         "name": "iniciativa",
         "rawType": "object",
         "type": "string"
        },
        {
         "name": "origen",
         "rawType": "object",
         "type": "string"
        },
        {
         "name": "urgencia",
         "rawType": "object",
         "type": "string"
        },
        {
         "name": "resultado_final",
         "rawType": "object",
         "type": "unknown"
        },
        {
         "name": "ley_numero",
         "rawType": "object",
         "type": "unknown"
        },
        {
         "name": "ley_fecha_publicacion",
         "rawType": "object",
         "type": "unknown"
        }
       ],
       "ref": "239b02f3-7c39-4aa2-9a97-c074993a9233",
       "rows": [
        [
         "0",
         "17450-11",
         "Modifica el DFL N° 1, de Salud, de 2005, para establecer la obligatoriedad, a profesionales y establecimientos de salud, de otorgar prestaciones en la modalidad de libre elección de Fonasa",
         "Modifica el DFL N° 1, de Salud, de 2005, para establecer la obligatoriedad, a profesionales y establecimientos de salud, de otorgar prestaciones en la modalidad de libre elección de Fonasa",
         "2024-12-16",
         null,
         "Moción",
         "Cámara de Diputados",
         "Sin urgencia",
         null,
         null,
         null
        ],
        [
         "1",
         "17377-13",
         "Modifica el Código del Trabajo para permitir pactar un permiso laboral por fallecimiento de mascota o animal de compañía",
         "Modifica el Código del Trabajo para permitir pactar un permiso laboral por fallecimiento de mascota o animal de compañía",
         "2024-11-18",
         null,
         "Moción",
         "Cámara de Diputados",
         "Sin urgencia",
         null,
         null,
         null
        ],
        [
         "2",
         "17376-07",
         "Modifica la ley N° 20.084 para autorizar el traslado, desde los centros de privación de libertad para adolescentes, a secciones juveniles administradas por Gendarmería de Chile, en los casos que indica",
         "Modifica la ley N° 20.084 para autorizar el traslado, desde los centros de privación de libertad para adolescentes, a secciones juveniles administradas por Gendarmería de Chile, en los casos que indica",
         "2024-12-09",
         null,
         "Moción",
         "Cámara de Diputados",
         "Sin urgencia",
         null,
         null,
         null
        ],
        [
         "3",
         "17357-18",
         "Modifica la ley N° 14.908 para perfeccionar los procedimientos de cobro de deudas de pensiones de alimentos",
         "Modifica la ley N° 14.908 para perfeccionar los procedimientos de cobro de deudas de pensiones de alimentos",
         "2024-12-18",
         null,
         "Moción",
         "Cámara de Diputados",
         "Sin urgencia",
         null,
         null,
         null
        ],
        [
         "4",
         "17356-06",
         "Modifica la ley N° 19.175, sobre gobierno y administración regional, para establecer normas de transparencia y rendición de cuentas aplicables a los consejeros regionales",
         "Modifica la ley N° 19.175, sobre gobierno y administración regional, para establecer normas de transparencia y rendición de cuentas aplicables a los consejeros regionales",
         "2024-12-18",
         null,
         "Moción",
         "Cámara de Diputados",
         "Sin urgencia",
         null,
         null,
         null
        ]
       ],
       "shape": {
        "columns": 11,
        "rows": 5
       }
      },
      "text/html": [
       "<div>\n",
       "<style scoped>\n",
       "    .dataframe tbody tr th:only-of-type {\n",
       "        vertical-align: middle;\n",
       "    }\n",
       "\n",
       "    .dataframe tbody tr th {\n",
       "        vertical-align: top;\n",
       "    }\n",
       "\n",
       "    .dataframe thead th {\n",
       "        text-align: right;\n",
       "    }\n",
       "</style>\n",
       "<table border=\"1\" class=\"dataframe\">\n",
       "  <thead>\n",
       "    <tr style=\"text-align: right;\">\n",
       "      <th></th>\n",
       "      <th>bill_id</th>\n",
       "      <th>titulo</th>\n",
       "      <th>resumen</th>\n",
       "      <th>fecha_ingreso</th>\n",
       "      <th>etapa</th>\n",
       "      <th>iniciativa</th>\n",
       "      <th>origen</th>\n",
       "      <th>urgencia</th>\n",
       "      <th>resultado_final</th>\n",
       "      <th>ley_numero</th>\n",
       "      <th>ley_fecha_publicacion</th>\n",
       "    </tr>\n",
       "  </thead>\n",
       "  <tbody>\n",
       "    <tr>\n",
       "      <th>0</th>\n",
       "      <td>17450-11</td>\n",
       "      <td>Modifica el DFL N° 1, de Salud, de 2005, para ...</td>\n",
       "      <td>Modifica el DFL N° 1, de Salud, de 2005, para ...</td>\n",
       "      <td>2024-12-16</td>\n",
       "      <td>None</td>\n",
       "      <td>Moción</td>\n",
       "      <td>Cámara de Diputados</td>\n",
       "      <td>Sin urgencia</td>\n",
       "      <td>None</td>\n",
       "      <td>None</td>\n",
       "      <td>None</td>\n",
       "    </tr>\n",
       "    <tr>\n",
       "      <th>1</th>\n",
       "      <td>17377-13</td>\n",
       "      <td>Modifica el Código del Trabajo para permitir p...</td>\n",
       "      <td>Modifica el Código del Trabajo para permitir p...</td>\n",
       "      <td>2024-11-18</td>\n",
       "      <td>None</td>\n",
       "      <td>Moción</td>\n",
       "      <td>Cámara de Diputados</td>\n",
       "      <td>Sin urgencia</td>\n",
       "      <td>None</td>\n",
       "      <td>None</td>\n",
       "      <td>None</td>\n",
       "    </tr>\n",
       "    <tr>\n",
       "      <th>2</th>\n",
       "      <td>17376-07</td>\n",
       "      <td>Modifica la ley N° 20.084 para autorizar el tr...</td>\n",
       "      <td>Modifica la ley N° 20.084 para autorizar el tr...</td>\n",
       "      <td>2024-12-09</td>\n",
       "      <td>None</td>\n",
       "      <td>Moción</td>\n",
       "      <td>Cámara de Diputados</td>\n",
       "      <td>Sin urgencia</td>\n",
       "      <td>None</td>\n",
       "      <td>None</td>\n",
       "      <td>None</td>\n",
       "    </tr>\n",
       "    <tr>\n",
       "      <th>3</th>\n",
       "      <td>17357-18</td>\n",
       "      <td>Modifica la ley N° 14.908 para perfeccionar lo...</td>\n",
       "      <td>Modifica la ley N° 14.908 para perfeccionar lo...</td>\n",
       "      <td>2024-12-18</td>\n",
       "      <td>None</td>\n",
       "      <td>Moción</td>\n",
       "      <td>Cámara de Diputados</td>\n",
       "      <td>Sin urgencia</td>\n",
       "      <td>None</td>\n",
       "      <td>None</td>\n",
       "      <td>None</td>\n",
       "    </tr>\n",
       "    <tr>\n",
       "      <th>4</th>\n",
       "      <td>17356-06</td>\n",
       "      <td>Modifica la ley N° 19.175, sobre gobierno y ad...</td>\n",
       "      <td>Modifica la ley N° 19.175, sobre gobierno y ad...</td>\n",
       "      <td>2024-12-18</td>\n",
       "      <td>None</td>\n",
       "      <td>Moción</td>\n",
       "      <td>Cámara de Diputados</td>\n",
       "      <td>Sin urgencia</td>\n",
       "      <td>None</td>\n",
       "      <td>None</td>\n",
       "      <td>None</td>\n",
       "    </tr>\n",
       "  </tbody>\n",
       "</table>\n",
       "</div>"
      ],
      "text/plain": [
       "    bill_id                                             titulo  \\\n",
       "0  17450-11  Modifica el DFL N° 1, de Salud, de 2005, para ...   \n",
       "1  17377-13  Modifica el Código del Trabajo para permitir p...   \n",
       "2  17376-07  Modifica la ley N° 20.084 para autorizar el tr...   \n",
       "3  17357-18  Modifica la ley N° 14.908 para perfeccionar lo...   \n",
       "4  17356-06  Modifica la ley N° 19.175, sobre gobierno y ad...   \n",
       "\n",
       "                                             resumen fecha_ingreso etapa  \\\n",
       "0  Modifica el DFL N° 1, de Salud, de 2005, para ...    2024-12-16  None   \n",
       "1  Modifica el Código del Trabajo para permitir p...    2024-11-18  None   \n",
       "2  Modifica la ley N° 20.084 para autorizar el tr...    2024-12-09  None   \n",
       "3  Modifica la ley N° 14.908 para perfeccionar lo...    2024-12-18  None   \n",
       "4  Modifica la ley N° 19.175, sobre gobierno y ad...    2024-12-18  None   \n",
       "\n",
       "  iniciativa               origen      urgencia resultado_final ley_numero  \\\n",
       "0     Moción  Cámara de Diputados  Sin urgencia            None       None   \n",
       "1     Moción  Cámara de Diputados  Sin urgencia            None       None   \n",
       "2     Moción  Cámara de Diputados  Sin urgencia            None       None   \n",
       "3     Moción  Cámara de Diputados  Sin urgencia            None       None   \n",
       "4     Moción  Cámara de Diputados  Sin urgencia            None       None   \n",
       "\n",
       "  ley_fecha_publicacion  \n",
       "0                  None  \n",
       "1                  None  \n",
       "2                  None  \n",
       "3                  None  \n",
       "4                  None  "
      ]
     },
     "metadata": {},
     "output_type": "display_data"
    },
    {
     "data": {
      "text/markdown": [
       "--- \n",
       "### 🏛️ Tabla: `bill_authors`"
      ],
      "text/plain": [
       "<IPython.core.display.Markdown object>"
      ]
     },
     "metadata": {},
     "output_type": "display_data"
    },
    {
     "data": {
      "application/vnd.microsoft.datawrangler.viewer.v0+json": {
       "columns": [
        {
         "name": "index",
         "rawType": "int64",
         "type": "integer"
        },
        {
         "name": "bill_id",
         "rawType": "object",
         "type": "string"
        },
        {
         "name": "mp_uid",
         "rawType": "int64",
         "type": "integer"
        }
       ],
       "ref": "94109181-059d-47f0-82f3-6d08fdd94bf5",
       "rows": [
        [
         "0",
         "17450-11",
         "80"
        ],
        [
         "1",
         "17450-11",
         "139"
        ],
        [
         "2",
         "17450-11",
         "6"
        ],
        [
         "3",
         "17450-11",
         "56"
        ],
        [
         "4",
         "17450-11",
         "20"
        ]
       ],
       "shape": {
        "columns": 2,
        "rows": 5
       }
      },
      "text/html": [
       "<div>\n",
       "<style scoped>\n",
       "    .dataframe tbody tr th:only-of-type {\n",
       "        vertical-align: middle;\n",
       "    }\n",
       "\n",
       "    .dataframe tbody tr th {\n",
       "        vertical-align: top;\n",
       "    }\n",
       "\n",
       "    .dataframe thead th {\n",
       "        text-align: right;\n",
       "    }\n",
       "</style>\n",
       "<table border=\"1\" class=\"dataframe\">\n",
       "  <thead>\n",
       "    <tr style=\"text-align: right;\">\n",
       "      <th></th>\n",
       "      <th>bill_id</th>\n",
       "      <th>mp_uid</th>\n",
       "    </tr>\n",
       "  </thead>\n",
       "  <tbody>\n",
       "    <tr>\n",
       "      <th>0</th>\n",
       "      <td>17450-11</td>\n",
       "      <td>80</td>\n",
       "    </tr>\n",
       "    <tr>\n",
       "      <th>1</th>\n",
       "      <td>17450-11</td>\n",
       "      <td>139</td>\n",
       "    </tr>\n",
       "    <tr>\n",
       "      <th>2</th>\n",
       "      <td>17450-11</td>\n",
       "      <td>6</td>\n",
       "    </tr>\n",
       "    <tr>\n",
       "      <th>3</th>\n",
       "      <td>17450-11</td>\n",
       "      <td>56</td>\n",
       "    </tr>\n",
       "    <tr>\n",
       "      <th>4</th>\n",
       "      <td>17450-11</td>\n",
       "      <td>20</td>\n",
       "    </tr>\n",
       "  </tbody>\n",
       "</table>\n",
       "</div>"
      ],
      "text/plain": [
       "    bill_id  mp_uid\n",
       "0  17450-11      80\n",
       "1  17450-11     139\n",
       "2  17450-11       6\n",
       "3  17450-11      56\n",
       "4  17450-11      20"
      ]
     },
     "metadata": {},
     "output_type": "display_data"
    },
    {
     "data": {
      "text/markdown": [
       "--- \n",
       "### 🏛️ Tabla: `sesiones_votacion`"
      ],
      "text/plain": [
       "<IPython.core.display.Markdown object>"
      ]
     },
     "metadata": {},
     "output_type": "display_data"
    },
    {
     "data": {
      "application/vnd.microsoft.datawrangler.viewer.v0+json": {
       "columns": [
        {
         "name": "index",
         "rawType": "int64",
         "type": "integer"
        },
        {
         "name": "sesion_votacion_id",
         "rawType": "int64",
         "type": "integer"
        },
        {
         "name": "bill_id",
         "rawType": "object",
         "type": "string"
        },
        {
         "name": "fecha",
         "rawType": "object",
         "type": "string"
        },
        {
         "name": "tema",
         "rawType": "object",
         "type": "string"
        },
        {
         "name": "resultado_general",
         "rawType": "object",
         "type": "string"
        },
        {
         "name": "quorum_aplicado",
         "rawType": "object",
         "type": "string"
        },
        {
         "name": "a_favor_total",
         "rawType": "int64",
         "type": "integer"
        },
        {
         "name": "en_contra_total",
         "rawType": "int64",
         "type": "integer"
        },
        {
         "name": "abstencion_total",
         "rawType": "int64",
         "type": "integer"
        },
        {
         "name": "pareo_total",
         "rawType": "int64",
         "type": "integer"
        }
       ],
       "ref": "cc79984f-c57b-4ae6-b1d1-5f7cbbcc7ae1",
       "rows": [
        [
         "0",
         "41351",
         "17286-05",
         "2024-12-18",
         "Boletín N° 17286-05",
         "Aprobado",
         "Quórum Simple",
         "112",
         "0",
         "4",
         "1"
        ],
        [
         "1",
         "41583",
         "17286-05",
         "2024-12-11",
         "Boletín N° 17286-05",
         "Aprobado",
         "Quórum Simple",
         "101",
         "8",
         "3",
         "0"
        ],
        [
         "2",
         "41584",
         "17286-05",
         "2024-12-11",
         "Boletín N° 17286-05",
         "Aprobado",
         "Quórum Calificado",
         "103",
         "9",
         "2",
         "0"
        ],
        [
         "3",
         "41585",
         "17286-05",
         "2024-12-11",
         "Boletín N° 17286-05",
         "Aprobado",
         "Quórum Simple",
         "114",
         "0",
         "0",
         "0"
        ],
        [
         "4",
         "41586",
         "17286-05",
         "2024-12-11",
         "Boletín N° 17286-05",
         "Aprobado",
         "Quórum Simple",
         "113",
         "1",
         "0",
         "0"
        ]
       ],
       "shape": {
        "columns": 10,
        "rows": 5
       }
      },
      "text/html": [
       "<div>\n",
       "<style scoped>\n",
       "    .dataframe tbody tr th:only-of-type {\n",
       "        vertical-align: middle;\n",
       "    }\n",
       "\n",
       "    .dataframe tbody tr th {\n",
       "        vertical-align: top;\n",
       "    }\n",
       "\n",
       "    .dataframe thead th {\n",
       "        text-align: right;\n",
       "    }\n",
       "</style>\n",
       "<table border=\"1\" class=\"dataframe\">\n",
       "  <thead>\n",
       "    <tr style=\"text-align: right;\">\n",
       "      <th></th>\n",
       "      <th>sesion_votacion_id</th>\n",
       "      <th>bill_id</th>\n",
       "      <th>fecha</th>\n",
       "      <th>tema</th>\n",
       "      <th>resultado_general</th>\n",
       "      <th>quorum_aplicado</th>\n",
       "      <th>a_favor_total</th>\n",
       "      <th>en_contra_total</th>\n",
       "      <th>abstencion_total</th>\n",
       "      <th>pareo_total</th>\n",
       "    </tr>\n",
       "  </thead>\n",
       "  <tbody>\n",
       "    <tr>\n",
       "      <th>0</th>\n",
       "      <td>41351</td>\n",
       "      <td>17286-05</td>\n",
       "      <td>2024-12-18</td>\n",
       "      <td>Boletín N° 17286-05</td>\n",
       "      <td>Aprobado</td>\n",
       "      <td>Quórum Simple</td>\n",
       "      <td>112</td>\n",
       "      <td>0</td>\n",
       "      <td>4</td>\n",
       "      <td>1</td>\n",
       "    </tr>\n",
       "    <tr>\n",
       "      <th>1</th>\n",
       "      <td>41583</td>\n",
       "      <td>17286-05</td>\n",
       "      <td>2024-12-11</td>\n",
       "      <td>Boletín N° 17286-05</td>\n",
       "      <td>Aprobado</td>\n",
       "      <td>Quórum Simple</td>\n",
       "      <td>101</td>\n",
       "      <td>8</td>\n",
       "      <td>3</td>\n",
       "      <td>0</td>\n",
       "    </tr>\n",
       "    <tr>\n",
       "      <th>2</th>\n",
       "      <td>41584</td>\n",
       "      <td>17286-05</td>\n",
       "      <td>2024-12-11</td>\n",
       "      <td>Boletín N° 17286-05</td>\n",
       "      <td>Aprobado</td>\n",
       "      <td>Quórum Calificado</td>\n",
       "      <td>103</td>\n",
       "      <td>9</td>\n",
       "      <td>2</td>\n",
       "      <td>0</td>\n",
       "    </tr>\n",
       "    <tr>\n",
       "      <th>3</th>\n",
       "      <td>41585</td>\n",
       "      <td>17286-05</td>\n",
       "      <td>2024-12-11</td>\n",
       "      <td>Boletín N° 17286-05</td>\n",
       "      <td>Aprobado</td>\n",
       "      <td>Quórum Simple</td>\n",
       "      <td>114</td>\n",
       "      <td>0</td>\n",
       "      <td>0</td>\n",
       "      <td>0</td>\n",
       "    </tr>\n",
       "    <tr>\n",
       "      <th>4</th>\n",
       "      <td>41586</td>\n",
       "      <td>17286-05</td>\n",
       "      <td>2024-12-11</td>\n",
       "      <td>Boletín N° 17286-05</td>\n",
       "      <td>Aprobado</td>\n",
       "      <td>Quórum Simple</td>\n",
       "      <td>113</td>\n",
       "      <td>1</td>\n",
       "      <td>0</td>\n",
       "      <td>0</td>\n",
       "    </tr>\n",
       "  </tbody>\n",
       "</table>\n",
       "</div>"
      ],
      "text/plain": [
       "   sesion_votacion_id   bill_id       fecha                 tema  \\\n",
       "0               41351  17286-05  2024-12-18  Boletín N° 17286-05   \n",
       "1               41583  17286-05  2024-12-11  Boletín N° 17286-05   \n",
       "2               41584  17286-05  2024-12-11  Boletín N° 17286-05   \n",
       "3               41585  17286-05  2024-12-11  Boletín N° 17286-05   \n",
       "4               41586  17286-05  2024-12-11  Boletín N° 17286-05   \n",
       "\n",
       "  resultado_general    quorum_aplicado  a_favor_total  en_contra_total  \\\n",
       "0          Aprobado      Quórum Simple            112                0   \n",
       "1          Aprobado      Quórum Simple            101                8   \n",
       "2          Aprobado  Quórum Calificado            103                9   \n",
       "3          Aprobado      Quórum Simple            114                0   \n",
       "4          Aprobado      Quórum Simple            113                1   \n",
       "\n",
       "   abstencion_total  pareo_total  \n",
       "0                 4            1  \n",
       "1                 3            0  \n",
       "2                 2            0  \n",
       "3                 0            0  \n",
       "4                 0            0  "
      ]
     },
     "metadata": {},
     "output_type": "display_data"
    },
    {
     "data": {
      "text/markdown": [
       "--- \n",
       "### 🏛️ Tabla: `votos_parlamentario`"
      ],
      "text/plain": [
       "<IPython.core.display.Markdown object>"
      ]
     },
     "metadata": {},
     "output_type": "display_data"
    },
    {
     "data": {
      "application/vnd.microsoft.datawrangler.viewer.v0+json": {
       "columns": [
        {
         "name": "index",
         "rawType": "int64",
         "type": "integer"
        },
        {
         "name": "voto_id",
         "rawType": "int64",
         "type": "integer"
        },
        {
         "name": "sesion_votacion_id",
         "rawType": "int64",
         "type": "integer"
        },
        {
         "name": "mp_uid",
         "rawType": "int64",
         "type": "integer"
        },
        {
         "name": "voto",
         "rawType": "object",
         "type": "string"
        }
       ],
       "ref": "bb354c27-0efb-415d-9dd2-5338cf10ca67",
       "rows": [
        [
         "0",
         "263372",
         "52554",
         "1",
         "A Favor"
        ],
        [
         "1",
         "263373",
         "52554",
         "2",
         "A Favor"
        ],
        [
         "2",
         "263374",
         "52554",
         "3",
         "A Favor"
        ],
        [
         "3",
         "263375",
         "52554",
         "4",
         "A Favor"
        ],
        [
         "4",
         "263376",
         "52554",
         "5",
         "Abstención"
        ]
       ],
       "shape": {
        "columns": 4,
        "rows": 5
       }
      },
      "text/html": [
       "<div>\n",
       "<style scoped>\n",
       "    .dataframe tbody tr th:only-of-type {\n",
       "        vertical-align: middle;\n",
       "    }\n",
       "\n",
       "    .dataframe tbody tr th {\n",
       "        vertical-align: top;\n",
       "    }\n",
       "\n",
       "    .dataframe thead th {\n",
       "        text-align: right;\n",
       "    }\n",
       "</style>\n",
       "<table border=\"1\" class=\"dataframe\">\n",
       "  <thead>\n",
       "    <tr style=\"text-align: right;\">\n",
       "      <th></th>\n",
       "      <th>voto_id</th>\n",
       "      <th>sesion_votacion_id</th>\n",
       "      <th>mp_uid</th>\n",
       "      <th>voto</th>\n",
       "    </tr>\n",
       "  </thead>\n",
       "  <tbody>\n",
       "    <tr>\n",
       "      <th>0</th>\n",
       "      <td>263372</td>\n",
       "      <td>52554</td>\n",
       "      <td>1</td>\n",
       "      <td>A Favor</td>\n",
       "    </tr>\n",
       "    <tr>\n",
       "      <th>1</th>\n",
       "      <td>263373</td>\n",
       "      <td>52554</td>\n",
       "      <td>2</td>\n",
       "      <td>A Favor</td>\n",
       "    </tr>\n",
       "    <tr>\n",
       "      <th>2</th>\n",
       "      <td>263374</td>\n",
       "      <td>52554</td>\n",
       "      <td>3</td>\n",
       "      <td>A Favor</td>\n",
       "    </tr>\n",
       "    <tr>\n",
       "      <th>3</th>\n",
       "      <td>263375</td>\n",
       "      <td>52554</td>\n",
       "      <td>4</td>\n",
       "      <td>A Favor</td>\n",
       "    </tr>\n",
       "    <tr>\n",
       "      <th>4</th>\n",
       "      <td>263376</td>\n",
       "      <td>52554</td>\n",
       "      <td>5</td>\n",
       "      <td>Abstención</td>\n",
       "    </tr>\n",
       "  </tbody>\n",
       "</table>\n",
       "</div>"
      ],
      "text/plain": [
       "   voto_id  sesion_votacion_id  mp_uid        voto\n",
       "0   263372               52554       1     A Favor\n",
       "1   263373               52554       2     A Favor\n",
       "2   263374               52554       3     A Favor\n",
       "3   263375               52554       4     A Favor\n",
       "4   263376               52554       5  Abstención"
      ]
     },
     "metadata": {},
     "output_type": "display_data"
    },
    {
     "data": {
      "text/markdown": [
       "--- \n",
       "### 🏛️ Tabla: `speech_turns`"
      ],
      "text/plain": [
       "<IPython.core.display.Markdown object>"
      ]
     },
     "metadata": {},
     "output_type": "display_data"
    },
    {
     "data": {
      "application/vnd.microsoft.datawrangler.viewer.v0+json": {
       "columns": [
        {
         "name": "index",
         "rawType": "int64",
         "type": "integer"
        },
        {
         "name": "speech_id",
         "rawType": "int64",
         "type": "integer"
        },
        {
         "name": "mp_uid",
         "rawType": "int64",
         "type": "integer"
        },
        {
         "name": "sesion_votacion_id",
         "rawType": "object",
         "type": "unknown"
        },
        {
         "name": "comision_id",
         "rawType": "int64",
         "type": "integer"
        },
        {
         "name": "texto",
         "rawType": "object",
         "type": "string"
        },
        {
         "name": "fecha",
         "rawType": "object",
         "type": "string"
        },
        {
         "name": "tema",
         "rawType": "object",
         "type": "string"
        },
        {
         "name": "url_video",
         "rawType": "object",
         "type": "string"
        },
        {
         "name": "inicio_seg",
         "rawType": "float64",
         "type": "float"
        },
        {
         "name": "fin_seg",
         "rawType": "float64",
         "type": "float"
        }
       ],
       "ref": "bcbf239b-b2eb-4bbc-b434-513e9b66df1c",
       "rows": [
        [
         "0",
         "1",
         "42",
         null,
         "4563",
         "Se abre la sesión el acta de la sesión número 15 se da por aprobada por no haber sido objeto de observación es el acta de la sesión número 16, qué disposición de las señoras y señores diputados la secretaría abogada de la lectura a la cuenta secretaria abogada, por favor, reciente tenemos una larga cuenta hoy día, así que con paciencia, unos fiso el delegado presidencial de la región de Valparaíso por el cual señala que se recibieron 285 recursos de reposición y revisión por el bono acogida y tras la revisión y cruza información con organismo competente se constató que algunas familias no recibieron el bono, no recibieron un tramo equivocado indica que la fecha a 109 familias les pagó con retroactivo. Bono acogida y 4 familias que ya habían recibido el pago por lo que sus recursos Fueron rechazados por improcedente 144 familia se le rechazaron sus recursos por no cumplir con los requisitos no ser propietarios terrenos irregulares arrendatario segunda vivienda o tener ya una solución habitacional vosotros impedimento el documento con el detalle fue enviado los correos de los integrantes de la comisión todos los documentos fueron enviados los correos Así que no voy a volver a repetir esta frase todos un oficio al delegado presidencial de la región de Valparaíso por el cual Informa el trabajo de coordinación de todos los organismos públicos en relación con el medio incendio la región del país ocurrió el 2 y 3 febrero 2004 un oficio el delegado presidencial región de Valparaíso por el cual Informa el listado de los dirigentes sociales con los cuales se reunió los avances del plan de seguridad el área afectada por el incendio el estudio de los requerimientos policiales y la evaluación del sistema de protección entre otras materias observatorio observas por la contraloría general de la Pública respecto al plan de reconstrucción y que se detectó deficiencias en la ejecución de la medida prevista finalmente señala que no efectivo que se asignaron los recursos la municipalidad de quilpué viña del mar para la reparación de las viviendas de un oficio al Ministerio de interior por el cual se refiere así las familias damnificadas por el incendio que recién asentamientos irregulares serán consideradas dentro de los beneficios estatales en el marco el proceso reconstrucción y señala que aquello fue contestado por el Ministerio desarrollo social por Cuánto es de su competencia un oficio el Ministerio desarrollo social por el cual se refiere a la solicitud de recibir a la brevedad la audiencia a la familia del me Fica freemason un oficial ministerio desarrollo social por el cual se refiere a las razones por las cuales no se aplicó la ficha de emergencia básica fiber, respecto de la familia Que al momento del siniestro habitaban viviendas que resultaron parcialmente dañadas por el fuego un oficio el Ministerio del interior por el cual señala que la solicitud de informar la función real que cumple el general El gerente de la reconstrucción y su equipo y la forma en que se juntarán. Recurso el fondo emergencia transitorio por incendio fue derivado el Ministerio desarrollo social por ser materia su competencia un oficio al Ministerio de salud por el cual se refiere a la cantidad de atenciones y terapia de Salud Mental que se han realizado respecto a las familias afectadas por la tragedia oficio de la dirección de presupuesto por el cual remite información actualizada sobre la ejecución de los años 20 24 y 20 25 del fondo emergencia transitorio por instantes un oficio al ministerio desarrollo social por el cual informa la función que cumple el gerente de la reconstrucción y su equipo en el proceso de reconstrucción comunica que una vez ocurrió los incendios presidente de la república mandato al comité de ministro el nombramiento un gerente técnico que se hiciera cargo el seguimiento y la implementación del futuro plan de reconstrucción y fuera un puente entre El Ejecutivo y la comunidad afectada manteniendo la presencia permanente los territorios en ese contexto, el señor Coronado fue incorporado al trabajo diseñó el plan de reconstrucción y se le manda tu inicialmente elaborar y ejecutar la estrategia seguimiento y control del plan adjunta minuto con funciones. Áreas y roles Asimismo informa que sobre la forma en que se ejecutaron los recursos del fondo emergencia transitorio por incendio está solicitud fue derivada al ministerio Hacienda y a la directora de presupuesto para que informen de manera directa a la comisión por tratarse materias de su competencia un oficio el Ministerio desarrollo social por el cual informa que derivó al ministerio vivienda y urbanismo la solicitud de informar respecto a las viviendas que presentaron daño parciales actual Villa Costa sol quilpué colocación del medio incendio que afectó la región de Valparaíso por tratarse materias de su competencia un oficio el Ministerio desarrollo social por el cual se refiere a la solicitud para emitir antecedentes sobre los montos totales asignado al fondo emergencia transitorio conforme a la ley 21061 los recursos ejecutado en relación con dicho fondo el desglose de los recursos que se han utilizado los fondos comprometidos pero no ejecutados los recursos no utilizados tal afecte los saldos disponibles que se encuentran destinado el fondo emergencia transitorio comunica que en el contexto los incendios. el 27 de junio en 2024 se promulgó la ley 21000 681 que crea el fondo emergencia transitorio por incendio el cual Establece en su artículo 1 el monto total del fondo luego en su Artículo 26 por las acciones iniciativas financiar y en el artículo 3 la responsabilidad de administración que corresponde al ministerio hacienda en ese contexto y dar cumplimiento a la obligación legal dispuesta en aquella regulación en la página web de la dirección de presupuesto se encuentran publicados los informes asociados a cada programa presupuestario asignado a la actualidad incendios 2025 y el programa asignado durante el año presupuestario 2020 416 el Ministerio de economía por el cual comunica que derivó al ministerio Hacienda la solicitud de pronunciamiento el presente el banco estado con el objeto de distintividad considere la posibilidad otorgar un crédito especial con 0% inten de interés y con flexibilidad de pago para los damnificados un oficial Ministerio de las culturas, las artes y el patrimonio por el cual informa que en el evento benéfico junto tilde se levanta realizó el 16 de 1024 fue impulsado por las organizaciones movidos por chile, desde chile y hogar de Cristo Además del apoyo al banco estado anatel empresas donantes organizaciones social y destacada figura Televisa Quién era demás articular el trabajo entre la sociedad civil y el sector privado y público por lo que la participación de esa cartera consistió en canalizar derivar y convocar artista que quisieran colaborar con la actividad que se realizaría por tanto en relación al control financiero y no sean dos o recursos Fiscales recaudados por el físico no corresponde dentro de la facultad de zacateras realizar control al respecto un oficio al Ministerio de Obras Públicas por el cual se refiere a las razones por las cuales no fueron demolidos los radiales de la vivienda sin Estrada y remite oficio del secretario regional Ministerial de obras públicas de Valparaíso el cual detalla la información solicitada un oficio la directora de presupuesto para el cual adjunto información relativa a la ejecución de los años 20 24 y 25 al fondo emergencia transitorio por incendio un oficio le director ejecutivo de la agrupación movidos por chile por él. Cuál remite el listado de los kit de emergencia entregados la fecha en que fueron asignados a la municipalidad de huaraz, entidades y el funcionario encargado de recibir un oficio de la directora subrogante del serviu, región de Valparaíso por el cual se refiere a las viviendas que presentaron daño parcial del sector Villa Costa Sol de quilpué y el documento que el detalle que envía los correos de los integrantes la comisión un oficio la directora subrogante del serviu, por el cual se refiere a como la cartera pretende avanzar en el proceso de reconstrucción Durante los 7 meses de gobiernos que restan la forma de ante, el cual se pretende mejorar el sistema de prevención y respuesta ante futuras catástrofe y el estado de avanza el proceso de digitalización que implementado el Ministerio de acuerdo a la ley 21.180, un oficio al director regional te seco el paraíso por el cual se refiere la solicitud de realizar un proceso de fiscalización y revisión exhaustiva todos los colonizados por empresa chilquinta distribuciones sea la familia afectada por el medio. Y señala que desde el día en que aconteció hasta la fecha se instruyó a la empresa. Aludía para que en un plazo de 10 días hábiles contados a partir de esta fecha de notificación del presente oficio entregue un informe que incluya antecedentes para llevar a cabo, la fiscalización solicitada Una vez que se reciba la información a la empresa concesionaria, se procederá a realizar una revisión de los coros realizados por ti, 5a distribución en los términos solicitados de una vez que este proceso termine se informará oportunamente la comisión Respecto a los resultados oficio de la directora Nacional del servicio nacional de prevención y respuesta ante desastres cenapred por el cual se refiere a las 1101 siete casas de emergencia entregadas en la comuna de quilpué como respuesta inicial a la catástrofe producida debido al incendio ocurrido la región del paraíso en febrero de 1024 y las razones por las cuales una proporción considerable de ellas fueron instaladas con deficiencias constructivas ficción fiscalización en y seguimiento técnico presentando deterioros que les han hecho inhabitables en el corto plazo. Mónica que según sus registros 1101 viviendas de emergencia instaladas en la comuna de quilpué oficio de la directora Nacional del servicio nacional de prevención y respuesta ante desastres cenapred por el cual informa las razones por las cuales existe una demora en la entrega información vinculada los mecanismos de licitación ejecutados para la elección de la vivienda de emergencia entregadas con tecnología Tecno Tecno van en Informa el listado de empresas contratadas la cantidad de unidades pagadas a cada empresa y los valores de la vivienda de emergencia que fueron visitadas oficio de la directora Nacional del servicio nacional de prevención y respuesta ante desastres cenapred por el cual informa detalle de las tres empresas que le hicieron las viviendas de emergencia por estar disponible el valor unitario y las unidades entregadas en cada una está licitaciones y el destino de estos recursos y la diferencia que han existido de la ejecución presupuestaria de dichos fondos entre los años 2024 y 1025 oficio de la directora Nacional del servicio nacional de prevención y respuesta ante desastres en hebreo por el cual informa sobre la forma en que se están ejecutando los recursos presupuestarios por partes servicio nacional de prevención y respuesta ante desastres en cuanto al proceso de reconstrucción del Mini centenario. Al respecto comunica que no tiene la competencia para ejecutar recursos presupuestarios ni de ni de dirigir o coordinar capacidades para cumplir con los objetivos propios de la fase de reconstrucción Por tanto se no tiene presupuesto en esta materia oficio de la subsecretaría del interior, por cuál se refiere al trabajo de coordinación de todos los organismos públicos en relación con el men encender la región de Valparaíso oficio del ministerio desarrollo social por el cual informa de forma pormenorizada por nombre la cantidad de fichas básicas de emergencia fijé que fueron aplicadas en relación con el medio decente Región del país ocurrió Durante los días 2 y 3 de febrero 24 y detalle de las razones por las cuales se ha considerado el éxito social de hogares, alguno tecnificado Comparte el 20% con mayores recursos de nuestro país oficio del ministerio desarrollo social por el cual se refiere a la solicitud de propósito de la extensión del plazo solicitada para por esta cartera la contraloría general de la república, el 6 de agosto pasado por la entrega del presente relacionado con el proceso de reconstrucción de 27 Región del país ocurrió el 2 y 3 de febrero 24 regil hice el envío de dicha documentación al réferi organismo público. el plazo vencimiento de esta comisión el 18 de agosto próximo al respecto a Junta oficio 1429 de 2025 del fiscal del ministerio desarrollo social y familia y comprobante de ingreso de la ventanilla, única de la contraloría general de República oficio del delegado presidencial de Región del país ante la solicitud de aplicar la ficha básica de emergencia fide por lluvia al pobladores de la villa costa azul y de la villa, El Monte de la comuna que puede que aún no ha recibido este es un instrumento de caracterización socioeconómica emergencia que se aplica en terreno al lado las áreas afectadas como consecuencia una emergencia o desastre o catástrofe para castrar identificar las personas afectadas y a su grupo familiar es agrega esta normativa que el diseño y administración de la ficha básica de emergencia fines de responsabilidad de la subsecretaría de servicios sociales oficio del delegado presidencial de la región del país o por el cual se refiere a la solicitud de informar en relación con la entrega del Bono de acogida Y gasto de albergue transitorio gato a las familias afectadas por el incendio ocurrido la región del país o en feriado de la cantidad de bonos entregados hasta esta fecha el número de 1 disponibles que aún no han sido entregados y los plazos y fechas contemplados en esta materia oficio el presidente consejo de estado por el cual informa respecto a las posibilidades penales o civiles por el bendiciendo y la región deprisa los días 2 y 3 de febrero comunique que ese consejo a tomarte diversas acciones judiciales tanto civiles como penales las cuales detalle. nota de la jefa del gabinete de la presidencia consejo defensa del estado por el cual escucha la inasistencia del presidente a la sesión de hoy por compromisos agendado frente carta del Ministerio de Hacienda recibido el miércoles 13 agosto mediante la cual agradecen y confirmar el compromiso ferry de 60 y estado presenta las excusas por inasistencia administra la sesión del lunes 11 de agosto del presente debido a una descoordinación interna producto de las variadas intervenciones que esa cartera recibe semanalmente no obstante ella quiera disposición para asistir cuando la comisión así lo estime pertinente oficio del ministro del interior por el cual se refiere a la consulta de esta comisión acerca de informes y Es efectivo que la cartera de una dirección icipalidad y él pues en término de no invertir los 350,000 millones de besos 700 750 millones de besos del fondo de agencia tránsito y comunica que la subsecretaría interior mediante resoluciones de 2024 transfirió 700 31000000 632 $1000 al sur al municipio de gripe para gatos en ordinario por la vigencia de los incendios de febrero de 2024 las resoluciones se daña de las finalidades de las transferencias son para ayuda directa personas afectadas alimentación servicios básicos abrigo protección personal funerales y alimento para mascotas contratación de bienes y servicios para apoyo logístico en respuesta y recuperación arriendo de equipos tecnológicos o computacionales para personas que trabajen en ámbitos de respuesta manejo de especies vegetales y arbolado en riesgo. Reposición de señalética Barreras barandas en barandas dañada demarcación Vial labores de desratización y otras medidas para recuerdo de la población indica que este año se incorporó la posibilidad de usar los recursos para reparaciones urgentes de vivienda de emergencia detenidos Asimismo indica que se informa al municipio que nos autoriza invertir en viviendas irregulares para evitar futuros rechazos en las rendiciones de cuentas oficio de la subsecretaría del interior procol responde a la consulta sobre las razones por las cuales no se ha utilizado la unidad de fomento para reajustar los motos que se le entregan a la familia por el bono de acogida Y gasto de albergue transitorio E indica que el bono de acogida Busca facilidad la habitabilidad aciduria de familias afectadas por el incendio con un monto de 10 UFC calculado al 2 de febrero de 2024 el gasto albergue transitorio gato es un beneficio del mismo mientras que la subsidio del interior entrega el bono de transición a la vivienda también de 10 veces para personas nominadas por el minvu, para continuar con el proceso de reconstrucción precisa que estos beneficios se vienen sefina. Conjuntos de emergencia extrapresupuestarios y el fondo se definen instructivos y resoluciones antes de 2023 el monto mensual era de $300000 y de Domínguez de 2023 se fijó en 10 UFC para mantener el criterio constante considerando variaciones económicas oficio de la subsecretaría interior por cuál da respuesta a la consulta acerca del proceso de retiro de escombros Pos incencio Y vos incendio y se refiere al uso y destino de los recursos que fueron contemplado para dicha labor detalle de las transferencias realizadas así como los fondo en utilizar la cantidad de personas que participaron en esa gestión la razones por las cuales se negó la entrega de vivienda de emergencia las familias que recibieron el bono de acogida oficio de la subsecretaría del interior por el cual la respuesta a la consulta acerca del trabajo de coordinación de todos los organismos públicos en relación al medición de la región de Valparaíso oficio de la subsecretaría del interior por el cual la respuesta a la consulta acerca de las personas damnificadas que fueron beneficiadas del Bono de cogido para arrendatarios y de ahí, en qué consiste está? Y señale a otra ayudas que entregó esa Su secretaria, es actor aguanta Muchas gracias Gustavo Sánchez Muchas gracias, presidente y respecto a la comunicación que me llega el Ministerio de Hacienda solo señalarán considera lamentable saber la buena voluntad del ministro de hacienda para venir junto con está terminando la comisión investigadora sé que no sé si va a servir de algo, pero bueno, le manda una foto Saludos amiguito, Gracias Sánchez Gracias presidente y solamente preguntar a la secretaria, si es que están contestando todos los oficios o sé alguno Que falta por contestar y cuál sería el número o el porcentaje falta por contestar porque está terminando la comisión y tenemos que efectuar las conclusiones y las respuestas oficios fundamental para efectos de hacer unas buenas conclusiones, eso me hace presente. Hay bastantes oficio contestado diputado longton tanto en la página web y además los enviamos los correos, pero hoy día con ustedes por apreciar llegaron bastante oficios que los tenemos que subir porque una vez que hacer a la cuenta recién se suben a la página, ya están enviados. Los habían preguntado yo en la tarde estaría en condiciones, porque los tengo todos y al informaban sábado, así que los tengo todos los voy limpiando en el informe la tarde estaría en condiciones de hacer un recuento de Cuánto son los que van faltando por contestar. Eso es el horario. Lo mando, pero Sí sería bueno, gracias Y qué tal Ya tenerlo para efectos de constatar los la comisión, Qué organismos, no han contestado los oficios y ver las acciones a seguir en relación a eso porque para hacer las conclusiones tales expectativas de tener todos. Estado perfecto de poder construir viene construir bien esa conclusión entonces y en razón, de eso también ver los tiempos para ver si están excedido los tiempos para ver si es que tomamos la decisión o no de ya lo contrario es hora, se presenta si así lo vamos a hacer Pero también quiero decirles que yo tengo una modalidad trabajo en los informes En qué pongo todos los oficios y quedan también los que están sin respuestas quedan ahí para la historia de la ley todos los organismos que no contestar porque hay una capita especial de oficio contestado si no contestaba yo me voy a comunicar personalmente con aquellos organismos que no ha contestado Lo oficio, pero Yo calculo que de los 222 oficios más menos que se han enviado deben estar el contexto. A unos 150 al menos boga son aquellos que no han sido respondido, no me voy a comunicar personalmente para que decir o sea, porque la idea es que cada uno de los diputados y diputadas pueda. Enviárselas conclusa, las propuestas y conclusiones a más tardar hasta el día miércoles hasta las 6 de la tarde, Porque porque nos tenemos que reunir el día jueves, pero no puede ser en paralelo a las a las 12 voy a tener que citar para el jueves en la tarde para ir poder discutir y ver si hay algún acuerdo con las propuestas conclusión, pero después voy a avisar por el WhatsApp la hora y pero se adelantó que va a ser el plazo hasta el día miércoles hasta las 6 de la tarde. Varios Se ofrece la palabra en varios Yo quiero hacer un varios y quiero enviarle un abrazo y todo mi cariño a la diputada Carolina marzán, que ha fallecido su papá Así que falleció noche Así que el pésame para ella Por cierta la familia La Carolina marzán y bueno un fuerte abrazo y todas las fuerzas y bueno también para que está convención sepa porque también está ausente hoy día así que cada día de Carolina recibe de esta comisión y de cada uno de los integrantes que tengas un caluroso abrazo de cada uno lo que está acá presente vamos a pasar a la orden del día de esta sesión tiene por objeto recabar antecedentes relacionados con el mandato de la comisión para esto defectos así. en la secretaria regional Ministerial de desarrollo, social y familia de la región de Valparaíso Dra Claudia Espinosa carramiñana, el secretario regional ministerial d'economia, fomento y turismo de la región de Valparaíso ciudad Barceló redondo araña y la directora del servicio nacional de prevención y respuesta ante desastres señora Alicia cebrián López vamos a dejar en primer lugar a la directora del servicio nacional de prevención y respuesta ante desastres señora Luisa sembrar López después de la seremi desarrollo social y después al seremi economía directora, por favor usted tiene la palabra Gracias por estar acá que allá presidente por su intermedio saludar a diputado he invitado a la a la comisión en primer lugar presidente quisiera informar a la comisión que antes de que iniciará la estación y se entrega al secretario de la De la comisión de un pendrive donde Se juntaron los antecedentes en respuesta al oficio 173 de esta comisión que dice relación con la solicitud de las actas de entrega de las viviendas emergencia es oficio correspondido con fecha 8 de agosto sin embargo, los antecedentes fueron entregados hoy día en un pendrive, pues las actas constituyen información sensible tiene están los datos personales de cada una de las personas que la firmaron sus Ruth sus teléfonos direcciones por lo tanto. perfecto Correcto desarrollar nuestra nuestra preocupación, por qué son datos sensibles de esas acta y de revisar los habría que poder responder con ello perfecto, muchas gracias secretaria. Sí, diputado no se presente de por su intermedio. Nosotros bueno, fuimos citados a esta a esta comisión hemos ido respondiendo cada uno de los oficios que está comisión ha requerido con información respecto a gestiones que le corresponden a este a este servicio en la primera sesión a la que fuimos convocados. Nosotros dimos cuenta del trabajo, que realizamos en la fase de respuesta a la emergencia la rehabilitación, nosotros como servicio no tenemos competencias en la fase de reconstrucción, sino que solo hasta la etapa de rehabilitación y en esa etapa Nos tocó poder dar respuesta a las primeras necesidades que ocurrieron luego de el incendio en concreto a la entrega de elementos de ayuda humanitaria, Qué es Cómo se define ese ítem, en apoyar en la contratación de sexto servicio y lo más fuerte, probablemente fue la instalación de viviendas de emergencia al cierre de esa etapa que se realizó es finalmente en el mes de marzo de este año se Instalar un 2538 viviendas en tres etapas consecutivas con una con una distribución donde la mayor cantidad de viviendas por supuesto se instaló en la comuna de Viña del Mar enseguida la comuna de quilpué y la comuna de Villa alemana, dentro de las consultas que se nos hicieron llegar de presidente este están por ejemplo el convenio que se nos consulto por el convenio que hubiésemos realizado con esval que fue el oficio número 167 avisar informar es oficio fue respondido con fecha 11 de agosto pero informar a esta comisión que el servicio que cenapred no ha celebrado ningún convenio con la empresa espalda por lo tanto no no hay información que nosotros pudiéramos entregar al respecto los servicios que se contrataron relacionado con algún servicio sanitario tuvieron que ver con las conexiones de vivienda. Emergencia y esos servicios no fueron contratados a través de envases Val sino que Se realizaron a través de empresas contratistas especializadas para ellos respecto a la otra de las consultas que se nos ha hecho llegar el presidente que también fue respondida través de el oficio 1913, Qué es la respuesta al oficio 146 en el cual se nos consultaba por las los mecanismos de licitación que están ejecutado para elección de las viviendas de emergencia entregadas y el listado de empresas contratadas las cantidad de unidades que fueron pagadas a la empresa y los valores de las viviendas de emergencia es información fue detallada en el oficio no sé si usted estima pertinente que me explique sobre ello y entregue el detalle lo puedo hacer lo tengo acá para que tienen conocimiento de todos los diputados o o lo o después lo revisan en el en el oficio para no extenderme y seguir con las otras preguntas. Mañana sí que terminaba con las posiciones, por favor, directora de Muchas gracias en términos generales solo para venir no entrar en el en el detalle, que ya fue enviado las viviendas de emergencia, se se se compran a través de dos mecanismos uno es el mercado, es el sistema que está atrás de convenio marco, Qué es un proceso que realiza que se realiza a través de la ley de compras públicas, donde Al momento de ocurrir al emergencia, existían tres proveedores que estaban disponibles dado y con los cuales se contrataron viviendas para poder iniciar los procesos de instalación y dada la demanda por viviendas de emergencia, se amplio ese convenio marco a través de procesos de trato directo con otra sería empresas que están detalladas en el oficio y esta tarde vaya o también el valor pagado para cada una de esas empresas y el detalle de las viviendas que se le asignó a cada uno de ellos todos de acuerdo a los mecanismos definidos en la ley de compras. También se no requirió presidente por su intermedio a informar sobre las situaciones de viviendas que se entregaron en la comuna de quilpué como respuesta para esta etapa de rehabilitación y que habrían presentado algunas dificultades en su deficiencias constructivas a informar eso también se mandó en el oficio 1912 depresión. Te conté fecha 13 de agosto informarle que del total de viviendas que se instalaron en la comuna de quilpué son 1101. Están las actas conformes que se recepcionaron del municipio de cada una de las viviendas entregadas de esas viviendas producto de el proceso de las viviendas de emergencia tal como yo con tela en la primera citación a la que asistí hoy día la modalidad de compra de esta vivienda que están establecía en convenio marco tienen un proceso de postventa que se extiende por 6 meses desde entregada la vivienda de emergencia ese proceso de paz. Venta implica que el proveedor se hace responsable de cualquier problema que tenga la instalación de la vivienda en ese proceso de de 6 meses siempre y cuando la vivienda no sufre alteraciones estructurales, vale decir no se no se amplíe no se reduzca no se le saqué alguna de sus partes en ese proceso de posventa, Qué es un trabajo que se coordino con la municipalidad de quilpué para levantar estas situaciones se detectaron ciertas deficiencias en la construcción que fueron aproximadamente Muchas gracias que fueron 403 viviendas las que se presentaron alguna alguna situación de ellas 400 fueron reparaciones menores cuando lo reparaciones menores tuvieron que ver con sellos con problemas de hay una parte la vida que se llama bota agua con el acceso a la vivienda y detalles de este tipo que fueron todos reparado y asumido por la empresa que que instalaron esas vivienda y 3 viviendas que tuvieron un daño más importante. Que nosotros lo catalogamos como estructural debido al emplazamiento, dónde estaban como Usted bien, sabe de presidente por su intermedio, los sectores, los terrenos donde se instalaron muchas de estas viviendas son terrenos con una pendiente importante para poder instalar la vivienda y las viviendas se instalan sobre unos pilotes que tienen cierta dimensión y en estos casos donde la pendiente era mayor Esos pilotes fueron más altos, no para poder cubrir la pendiente y poder instalar la vivienda que quedara bien instalada es un género que en tres casos estas viviendas tuvieran algún tipo de desplazamiento producto de estos pilote, eso también fue asumido por las empresas que lo instalaron y se repusieron las viviendas y se arreglaron, por lo tanto efectivamente surgieron ese ese tipo de situaciones todos fueron cubiertas por estos 6 meses que le explico de garantía que tiene las viviendas las viviendas de emergencia y respecto a la tercera observación, Qué haces yo mismo oficio. Referente a deterioro progresivo sentado está está viviendas en el corto plazo. Yo quisiera presidente a través suyo recordar que la vivienda de emergencia una de las características esenciales, es que son provisorias están hechas para que duren un cierto periodo de tiempo no tenemos presidente hoy día un estudio o algo que técnico que defina Cuánto tiempo dura una vivienda de emergencia en esta calidad de transitoria, no, pero están se pensaron desde que se inició la instalación de viviendas de emergencia en el año 1960 hasta ahora como una respuesta a la emergencia desde el estado en una solución que fuera rápida de entregar y que respondiera a otorgar condiciones mínimas de habitabilidad para las personas que sufrieron una situación de emergencia. Está modalidad de vivienda ido sufriendo, por supuesto mejoras a lo largo de El tiempo quisiera recordar presidente por su intermedio que en el año 2014 para el incendio de Valparaíso dónde es afectar una cantidad más o menos similar de vivienda producto es incendio en este momento lo que se entregaba como solución para las personas damnificadas era lo que conocemos comúnmente como una media agua no una vivienda de 18 m2 o menos que no tenía ilación que se entregaba desarmada y se le entregaba los municipios para que ellos hicieron el proceso de construcción e instalación proceso que muchas veces era apoyado por efectivos de las fuerzas armadas por voluntarios e incluso por las mismas familias con posterioridad eso el estándar de las viviendas de emergencia y producto de la necesidad de poder mejorar y dar una respuesta que fuera más linda para las personas se fue mejorando este es estándar hasta llegar al año hasta llegar a lo que tenemos hoy día que son 25 m2 este proceso de irme. dándole instalación en el año 2016 se entregaron viviendas con una tecnología similar a la que se entregan hoy de 22 metros cuadrados que que no tenían garantía, además y que nuevamente la modalidad de construcción se hacía a través de una entrega el municipio y el municipio tenía que asumir la construcción de esas vivienda y se hacía con voluntario fuerzas armadas, por lo tanto esas viviendas tampoco tenían garantía porque los proveedores no podían asegurar que en el proceso de instalación se cometieron errores, por lo tanto no habría no había cobertura y hemos ido transitando a partir de justamente de estos procesos de ir mejorando estaba condición a la vivienda que tenemos hoy de 24 m2 con baño con una construcción que realiza los mismos proveedores para poder asegurar estos 6 meses que tienen de de posventa y y se dan con la posibilidad de habitabilidad a decir conectada en el Eléctrica baño y alcantarillado en los lugares donde existe factibilidad para poder realizarlo entonces a mí me parece muy bien presidente que en una instancia como estábamos debatir sobre si son o no correcto tener 6 meses de garantía o debería extenderse si hubiera que hacerle mejoras al diseño de las viviendas de emergencia y nosotros estamos completamente disponibles a a poder participar de este debate, pero hoy día lo que tenemos es eso lo que se ha establecido Qué es un proceso de mejora a través del tiempo. Yo entiendo perfectamente y nosotros como servicio Por supuesto que lo comprometemos que lo comprendemos que 24 m2 es la solución para una familia pero pero hay que pensar Qué es una solución transitoria, No no es una solución definitiva para el problema de habitabilidad de las personas eventualmente de damnificada con todo esto quiero decir el presidente que que si existe deterioro en las viviendas de emergencia, nosotros estamos existe un procedimiento que está implementado a través de la delegación presidencial Regional de inclinación con los municipios para poder levantar esos datos esos casos y poder atenderlo En el entendido que se pudieran tener que hacer algunas mejoras para sostener está transitoriedad de la vivienda de emergencia y eso existe está coordinado y nosotros somos parte de ese proceso en términos de certificar que fue una vivienda que se entregó en el contexto de la de la emergencia, por lo tanto si si así fuera nosotros no hemos tenido información de casos que puedan calificar en esta con esta característica Pero por supuesto que estamos disponibles Por qué existe el mecanismo para poder abordarlo a través de los municipios de poder ir en apoyo a la vivienda que insisto en su calidad de transitorias pudieran tener algún algún proceso de deterioro enseguida presidente respecto a lo consultado en el Oficio 17170 que también fue respondido por parte del servicio respecto a respecto, perdón a al eje cución presupuestaria que que nosotros tendríamos al respecto a los recursos de emergencia nos da los recursos de reconstrucción Perdón lo primero es decir presidente que nosotros como organismos lo que hacemos Es generar una coordinación de los organismos que forman parte del sistema en las distintas fases del ciclo gestión del riesgo, pero no no está incorporada la etapa de reconstrucción dentro de las funciones que tiene nuestro servicio Por lo tanto nosotros coordinamos en las etapas de prevención de mitigación en la respuesta y hasta la rehabilitación pero en la reconstrucción no tenemos facultades por lo por lo tanto tampoco tenemos recursos ejecutados para asignados para esa etapa los recursos con los cuales se han financiado todas las acciones de recuperación. Son recursos de emergencia que no son los recursos del fondo especial de emergencia que se que se el fondo transitorio de emergencia al feto Son recursos de la glosa 07 de la subsecretaría del interior, Qué es el fondo para cubrir situaciones de emergencia o gasto no previsto así se financian las acciones que yo comentado de rehabilitación y de y de primera respuesta por lo tanto no tenemos presupuesto asignado en la etapa de reconstrucción y no podemos informar sobre ejecución producto de ellos y respecto a sí a los compromiso que se generaron con los proveedores en la tapa que si nos corresponde como servicio de respuesta y rehabilitación menciona el presidente que el gasto Total que el servicio gestión o solo lo que hizo San aprieta esto no tiene que ver ni con los gastos que se generaron por otros organismos respecto a pagos de Bono contrataciones de otros servicios Solo que lo que nosotros hicimos en la fase. respuesta y rehabilitación para la emergencia de los días 2 y 3 de febrero del año pasado ascendió a más de 53461 billones de pesos que incluye la compra vivienda de emergencia elementos de primera respuesta contratación de servicio apoyo con aeronaves para el combate incendio kit de distintos tipos etcétera de eso 53 mil millones existen 45000000 $970777 que están qué están en gestión de pago esto equivale el 0,08 del total del monto y que corresponde a un rezago de los servicios de instalación eléctrica a ayúdame, Cuál era el otro y los kit de habilidades y los kit de habitabilidad Qué son enseres básicos que se entregan a la a las personas junto con la vivienda emergencia y que corresponden a Piloto que estamos llevando a cabo en la comuna de viña del mar con un tipo de vivienda que hemos catalogado de vivienda de emergencia progresiva que son las o HP Qué es un piloto que estamos llevando a cabo con una empresa que ha sido validado por el Ministerio y vivienda de manera de explorar una posibilidad de tener una respuesta con una vivienda que pudiera ser que tuviera posibilidad de crecer la misma vivienda y convertirse en una vivienda definitiva, no en una solución definitiva lo quería, no sucede es que la vivienda emergencia cómo está concedida no puede ser ampliada o si se amplia no cumple con los requisitos de construcción que está establecido por el Ministerio vivienda urbanismo, se genera este gasto por parte del Estado para la instalación de la vivienda y cuando hay que instalarla vivienda definitiva en el mismo terreno esa vivienda o hay que desarmarla y pierde Entonces ese ese gasto queda queda ahí. Sin sin un destino mayor este proyecto que estamos piloteando son viviendas industrializadas que que pueden ser factibles de recibir el subsidio de ampliación portal ministerio vivienda y estamos explorando si ella pudiera hacer una posibilidad de acortar el tiempo de respuesta Pero además de entregar una solución que fuera progresiva para llegar una vivienda definitiva Bueno ese esos 45 millones que están en proceso de pago una parte de ello responde a los kit de habitabilidad que se le entregan a las a las familias que están siendo beneficiadas con este piloto, no, entonces de los 53000 y algo millones que gestionamos nosotros como servicio hay un poco más de 45000000 que están en trámite de pago. Y finalmente presidente en relación a otra de las preguntas que nos que nos llegó de esta de esta comisión respecto, que también se responde un parte en otro oficio el oficio 161 Respecto a los proveedores de vivienda a la modalidad de pago y al costo por unidad está el detalle en el oficio con el que respondimos el 1910 ya me refería hace un momento atrás a ellos son tres los los proveedores de vivienda que estaban al minuto de emergencia en convenio marco a los cuales se les asignaron una cierta cantidad de viviendas para para iniciar este trámite y con la con la finalidad y la necesidad necesito de ampliarla la posibilidad de proveedores que teníamos para atender toda la demanda trato directo se sumaron cinco y cinco empresas más a las que se le asignaron también otro otro número de viviendas en el proceso de ejecución. De la emergencia una actualización del convenio marco en el año 2023 proceso que realiza a través de Mercado público no es un proceso en el que nosotros como cenapred participemos y hubo entonces de las tres empresas que inicialmente estaban en convenio marco solo quedaron dos se siguió trabajando con ellas en esa en esa modalidad y hubo una una Un aumento en el valor de las viviendas de emergencia que quedó todo registrado en el en el convenio marco y finalmente respecto a la cantidad de viviendas de emergencia que se han gestionado para la región en el año 2024 para el incendio del 2 y 3 de febrero fueron 2538 viviendas La que gestiona el servicio y para otros eventos 1085 durante el 2024 y durante el 2025 están consideradas estas 23 vivienda que yo le digo. contaba que estas son estas modalidades para responder a esta emergencia y 718 que se han gestionado para otros eventos, eso es presidente lo que yo puedo formatear hacia directora por su exposición y ahora quería preguntarle a la diputada debuta O si quieren hacer alguna pregunta duda o Sánchez Muchas gracias presidente para el Excel para ese protón la exposición. Y un tema en particular que que yo sé que me inquieta todas las víctimas es todo el tema de cómo se hace la revisión y la reparación de las viviendas de emergencia dañadas nos ha comentado quién esto se hace básicamente a través de un trabajo conjunto entre la delegación presidencial los municipios, pero no todos los municipios funcionan igual y lo municipios. Además que son entes autónomos que no están sometidos a jerárquicamente al gobierno se fundó es una colaboración en la medida que todos cooperen, pero es eso no se da entonces entender bien porque el gobierno ha decidido mantener esta metodología Porque si dependes exclusivamente, perdón, si aprendes crucialmente la información que te provea un ente rector cual tú no tienes en fondo una una dirección jerárquica, no puedes analizar resultados fondo. muy complejo estrictamente del puntito técnico superando incluso a Esteban políticos y la diferencia que vamos a tener de una parte técnica para efecto de garantizar lo vamos a ir un resultado, creo que es una buena decisión porque tú no puedes en un proceso tan sensible como este depender de un eslabón que tú no controlan o diriges en un fondo y si lo alcalde O alcaldesa tengo Viera bien y sino que haces tú se lo sé porque después de tanto tiempo que ha transcurrido 100 con esa metodología Y por qué el gobierno también tiene tiene recurso tiene personal en situaciones de emergencia en el tocador pasado siendo funcionario público hoy hasta el último bogado no cerraron la calle Recuérdame año 2014 ya bastante tiempo y un abogado un servicio me tocó estar viéndose, qué funciona el flujo de las micros dentro de una zona afectada por la energía sacó nada que ver con la mesa que me toca, pero todos estábamos ahí desempeñando algún Una función para eso dentro de la seremi dentro de los servicios regionales y no entiendo porque se ha tomado esta decisión de depender de los municipios o si me puedes aclarar un poco de eso porque se mantiene su totalidad hoy de Betty diputado te hago y después diputada Suárez preguntado, muchas gracias presidente saludar por su intermedio a los colegas y también a la autoridad Es que hoy día han llegado hasta comisión especial investigadora quiero y valoro porque lo que a lo que sea referirme presidente la directora cenapred son varias consultas que hemos hecho no sé tú atrás de una minuta de pregunta siguiendo la línea de lo que pregunta el diputado Sánchez por ejemplo, la última vez que estuvo que la directora estuvo aquí porcentaje presente se la entrego, por ejemplo nombres de personas que todavía no están ni conectados a la alcantarilla. Ni tenían agua potable Bueno le quiero decir que hasta el día de hoy no tienen agua pero si tuvieron que ellos mismos realizar una fosa o algo así para poder tener alcantarilla porque le digo esto porque en su explicación idea eso mismo lo que es el diputado Sánchez no toda la municipalidad funcionan de la misma forma y no hemos dado cuenta, lo largo está reconstrucción de que tampoco ayudan de igual manera a todos los ciudadanos he en ese camino. Yo le quiero decir que los damnificados han sido bastante por activo ellos han cotizado. Han llamado distintas, no cierto empresas que tienen el convenio Marco que también son proveedores de cenapred y se encuentran y me gustaría que explicara, por ejemplo, en este momento porque se toma la decisión de entregar, por ejemplo de estas viviendas de emergencia que cuestan entre 12 y 16000000, pero vienen con pisos de no son antifuego. Y cuestan bueno que el doble, porque por ejemplo, nosotros cotizamos una Qué es anti, fuego que traen un piso de terciado de 18 Mm qué es como lo mínimo no aceptó para que no batalles es que se humedece cuando hay más peso digamos caminando sobre está bien emergencia que sabemos que no esté que no es definitiva y algunas venían hasta con calefón hijos, tan cerca del 8 millones de peso Entonces no quería entender cuál es la decisión para escoger algo más caro que traía menos equipación y lo otro es que ya han pasado un año ocho meses y definitivamente un avión de emergencia que estaba hecha vacuna garantía 6 meses día, ya no la tiene y la gente va a pasar su segundo invierno en esta vivienda de emergencia Así que para que nos puede aclarar y que conozcamos y vemos toda duda de esta cotización quisiera los damnificados con respecto a proveedores de cenapec de esta vivienda de emergencia Muchas gracias presidente de USA favor. Gracias presidente bueno saludar, por supuesto primero en primeramente a los vecinos damnificados dirigentes que nos acompañan en esta sala Perdón saludar también a nuestros invitados a la directora seremi haciéndome parte también de la consulta de mi hija antecesores de los colegas a mí me gustaría preguntar además saber si ustedes tienen la cifra que deberán tener la llegamos de Cuántas viviendas de emergencia finalmente se entregaron Cuántas personas hoy día en Viña del mar en quilpué en Villa alemana están viviendo en viviendas de emergencia. La persona afecta primero Ojalá si me pueden dar el dato Por comuna, cuántas en Viña cuentan quilpué de Cuántas Envíale Maná estás viviendas según información que nos han entregado los propios significados nunca vinieron con conexión, digamos certera de luz agua y por supuesto con el problema que tiene para el sentimiento respecto de los baños digan conexión de alcantarillado. Eso se logró resolver Cuántas personas Todavía siguen teniendo problemas con las votaciones del eléctricas, por ejemplo o Cuántas personas o Cuántas de estas familias que están con viviendas de emergencia finalmente lograron conectar, estás viviendas emergencia a por ejemplo alcantarillado o si no fue así Cuál es la alternativa que ustedes sugirieron para el descenso de estos elementos. Y por otro lado. Sabemos que efectivamente los municipios son entes fundamentales también para poder coordinar con ustedes acciones ya lo decía acá. El colega Luis Fernando pero mi pregunta es esas reuniones de coordinación de levantamiento de información que le entregan los vecinos damnificados a los municipios y en consecuencia de Alicia ser los municipios ustedes Cada cuánto tiempo se hacen Estos son reuniones semanales mensuales quincenales más o menos Cuál es la temática de de lo que se trata en esto Cuáles son porque claro probablemente los dramas que se partieron viendo los primeros meses o semanas son muy distintas a los días ustedes les está tocando probablemente tener que ver hoy día, no sé, ya le preguntó al seremi, quizás tiene que ver también con un tema más de de cómo ir insertando sea desde el punto de vista de recuperar los empleos que quizás muchos perdieron y probablemente la dinámica de Conversación en las reuniones son distintas Me gustaría saber cuál es? Cuál es que hoy día lo que más está afectando y Y si esas reuniones son directamente con los alcaldes de la comuna con representantes de la de las municipalidades, eso presidente Gracias saludar a los vecinos de la autoridad una consulta bien cortita a propósito de la experiencia que tenido cenapred desde que se inició en Madrid en Cinépolis tales como agarran ustedes la iniciativa legal que vista en el senado esperando de la ley de incendios entiendo que también han sido requeridos por por algunos legisladores para opinar está esperando hace un año y creo que colabora Pero quizás términos puntuales como eso se articula con cenapred y como colabora en la prevención de incendio, gracias. ruta doctor Gracias presente agradecer a la posición y también salvar a los invitados en relación a las viviendas de emergencia y la reparación de las mismas me interesa hay un período de 6 meses de garantía tanto en Viña como en quilpué la garantía en muchos casos nos hizo valer porque porque todo fue muy sobre la marcha no entonces del intalacion aquí empezaron a fallar muchas viviendas probablemente el plazo es excedido 6 meses, por lo tanto muchas veces la garantía no se hizo valer en el caso de quilpué habían aproximadamente 300000000 de pesos que no sabía no utilizado el 2024 de la reconstrucción al menos esa plata estaba y por lo tanto lo que se hizo puede estirar esa plata través de ciprés, para que esa plata se estiran gran parte de aquí de reparación de las viviendas Porque después venció la garantía la preguntaba Es la línea de Qué está haciendo o qué rol tiene cenapred para efecto de la reparación de esas viviendas que la garantía venció entendiendo que en quilpué se están utilizando 750000000 para su kit de reparación que solo que Me comentan andado bien, pero no sé lo que ocurre con viña del mar, por ejemplo o con otras casas queden totalmente estos kit de reparación pueden no llegar decir cenapred está haciendo valer la garantía de los 6 meses. Se están se garantizo que sea garantía efectivamente se utilizó Y qué ocurre con aquellas viviendas que tienen fallas y tienen daños por un sinfín de razones principalmente por boludo del invierno o por la ubicación, porque muchas de ellas se instalaron a la rápida por la emergencia intempestivamente y por lo tanto eso género que no quedarán bien ubicada muchas de ellas y con algunos daños que se empezaron a ver al poco tiempo 12 cenapred, qué rol ha tenido en aquello para efectos de poder reparar esas viviendas y particularmente que pasan viña eso ya se presenta. Directora, por favor, para presidente como hay algunas preguntas que se repiten en relación con la reparación, las voy a juntar en una sola respuesta tal como yo comentaba el proceso de las condiciones del convenio Marco que estaba vigente a la hora de la emergencia establecía que habían tres empresas que estaban en convenio marco el convenio Marco es un procedimiento que se hace a través de la ley de compra no es alguno, Qué es cenapred participe donde se levanta una una licitación una especie de concurso para que proveedores que cumplen con los requisitos que se establecen para en este caso la vivienda de emergencia puedan postular con su requisito con sus condiciones y se adjudican de acuerdo a lo que esa propuesta que hace hace vía ley de compra a las que se ajusten mayormente a esa propuesta. Otros proveedores que estaban en la en el convenio marco establecida demás que tenían la obligación de tener seis meses de convenio, se llama posventa, pero Son seis meses de garantía en el fondo ante cualquier problema que tuvieran las viviendas de emergencia que se pudieran atribuir a la instalación de la vivienda, no, por eso era tan importante que dejar bien en claro que aquellas viviendas que fueron intervenidas en esos seis meses, quedamos fuera de ese de esa posibilidad de que el proveedor tiene la obligación de hacerse cargo de hacer esa reparación, eso se realizó se realizó en tal como yo mencionaba presidente en la comuna de quilpué con 403 viviendas que fueron detectadas con reparaciones menores y alguna y tres con problemas estructural 320 en el caso de Viña del Mar 310 con reparaciones menores del índole de reparaciones que menciona la presentación y 10 que tuvieron problemas estructurales. Decir que fue necesario hacer una intervención mayor en la vivienda dentro esa intervenciones mayores Incluso el instalar una nueva vivienda eso fueron 320, Cuándo fueron 723 vivienda de este total de 2538 viviendas instaladas que accedieron a este a este activaron la garantía y los proveedores atendieron solucionando Esa esa reparación es esa esa gestión y da como mencionaba el diputado Sánchez por su intermedio presidente efectivamente nosotros como menciona recién nosotros estamos disponibles a poder revisar los procedimientos que están hoy día establecido, no? Y el sistema, cómo está diseñado entrega un rol muy relevante a los municipios en la gestión de la emergencia nosotros como servicio coordinamos un sistema y ponemos a disposición de la atención la los medios y recursos que sean necesarios de gestionar con otras entidades para responder. Guada mente a ellos y la envergadura está mergencia hizo que alguno de esos procedimiento que fueran subsidiados por otros servicios incluido en nuestro fue prueba de ello fue que que fue con personal de nuestro servicio que se hizo el levantamiento inicial de ir a verificar una vez aplicada la Five En aquellos domicilios donde se cumplía con los requisitos de la ficha de poder tener vivienda emergencia de ir de poder ir a ese domicilio a ti ficar que la persona quería o no quería la vivienda se estaba la factibilidad técnica en el terreno o gasta limpiezas y demoliciones que se coordinaron con el Ministerio Obras Públicas para poder llegar a ellos, pero en el diseño original de esto los municipios cumplen un rol muy importante en este levantamiento en este emergencia es error Como le digo fue fue de manera colaborativa sumido en parte por el servicio pero también en colaboración con otros con otros organismos. Y se siguió manteniendo este diseño de que fueran a través de los municipios que se levantarán aquellas viviendas que presentaban algún problema, básicamente por dos razones diputado por su intermedio presiente porque en el trabajo cotidiano que se hacía con los municipios durante la emergencia y respondiendo también la pregunta de la diputada flores de Cómo eran, estás reuniones, se establecieron reuniones semanales una bella pasado un poco el fragor de la emergencia, no reuniones semanales con los municipios particularmente con quilpué con Villa y concón viña del mar con las personas que ambas alcaldesas designaron para este trabajo que en general están vinculados a la vivienda o al área social Con quienes nos coordinamos semanalmente para poder ir atendiendo, estás dificultades estas cosas que iban saliendo y con el tiempo esa ese trabajo Fue fue pasando de reunión este. Aleja más bien la atención de casos particulares en la medida que fueron que fueron pasando los meses, nosotros recurrimos a los municipios diputado por su intermedio presenta Porque no tenemos la capacidad como servicio de hacer esta tensión en terreno directo nosotros como servicio el servicio tiene 535 funcionarios al 31 de diciembre. Esperamos tener 535 funcionarios a todo chile, de ellos, la mitad son operadores de turno, por lo tanto no hacen trabajo en terreno Y en la dirección Regional de Valparaíso son ocho los funcionarios que pudieran estar disponibles hacer este trabajo en terreno Por lo tanto es operativamente bien inviable que nosotros hiciéramos ese levantamiento como servicio y por eso nos apoyamos en la gestión municipal para poder hacer de eso más efectivo y porque por supuesto por el rol que cumple el mismo municipio conocimientos los territorios la cercanía con los vecinos estimamos que la más. Hacerlo a través de ellos y en mi opinión en general y funcionó bastante bien. Digamos que con ciertas dificultades, Por supuesto que también comprender la magnitud que esto significó en término de número de personas afectadas número viviendas instalada nunca antes el servicio iniciándose en aprendí, siendo n me había instalado esta cantidad de viviendas de manera de manera. Nosotros como servicio Como el explicaba en posición ante esto también se delegaba los municipios la instalación de las viviendas. Nosotros la queríamos y se la entregan a los municipios su instalación y de Don tiempo a esta parte la hemos asumido nosotros a través de empresas que las construyen y la y la instalan entonces entendemos que en este proceso por supuesto pueden haber situaciones de casos que hayan quedado no completamente satisfecha la intervención que se hizo hemos seguido recibiendo esos casos los hemos ido atendiendo en el caso que tienen una una posibilidad. solución pero también nos encontramos con situaciones en las que técnicamente no es factible realizar algunas cosas no siempre considerando que la vivienda de emergencias transitorias que tiene esta característica Por supuesto que nosotros como servicio que hiciéramos yo en lo personal quisiera que eso se cumpliera y que la gente no tuviera que estar pasando más de un año en esa vivienda no O sea la vivienda es para entregar una solución rápida y transitoria de habitabilidad pensando además que después del verano empiezan rápidamente a bajar las temperaturas y el invierno nos han tocado situaciones al revés donde la tecnificación es el invierno y en que entregarle rápidamente una solución a las personas y y la vivienda emergencias es una solución rápida pero es transitoria no está hecha para que la bajen te pase un año más de un año no está pensando en que sea la solución definitiva estamos trabajando como le comentaba anteriormente en un piloto de una vivienda que pudiera Para hacer eso trae transformarse en una primera respuesta con posibilidad de crecer una vivienda definitiva, pero es un piloto que estamos haciendo Recién con 23 viviendas aquí en la como en la comuna de viña del mar y que tenemos que evaluar Cómo cómo funciona hemos estado haciéndole seguimiento a ellos no está exento de dificultades y es una solución mucho más cara de la que nosotros hoy día como servicio entregamos pero que pudiera permitir disminuir los tiempos de respuesta y sumando y restando termina siendo más barata para el Estado no Entonces a su a su pregunta diputado Sánchez y diputada flores por su intermedio. Le que se involucre municipio en está en esta gestiones para nosotros relevante por lo que le explico y Y por supuesto que estamos disponibles a mejorar cualquier procedimiento que haya que hacer para que esto sea más eficiente al principio la emergencia fueron miles diría yo de funcionarios públicos que participaron en el levantamiento. Nosotros mismos como servicio trajimos diariamente entre 20 y 25 funcionarios del nivel central apoyar las acciones de la región porque nuestra realidad es que no estás votaciones regionales son en promedio 17 y 18 personas de las cuales, la mitad es operador de turno tarde para para gestiones en terreno respecto al valor de la vivienda que preguntaba el diputado Esteban en los montos que nosotros tenemos el monto que se le asigna la vivienda emergencia no es un monto que Define cenapred tal como yo explicaba es un monto que está definido en el convenio. Marco que realiza que se realiza a través de la ley de compras públicas y y en promedio con con IVA incluido las viviendas La máscara, que que se que se compró para esta emergencia ascendió a 10641000 el promedio son 8000400 que es lo que en promedio y vamos haciendo un promedio de los proveedores con los que se trabajaron en es emergencia entre los que está incluido. Con un IVA incluido diputada en promedio, por ejemplo las viviendas que están en convenio marco en el convenio marco con el que se inició la gestión de la compra eran 7000070 y 1,8 millones 131,000 y la fundación vivienda y había uno más y 7134000 es el promedio de las viviendas que nosotros iniciamos la adquisición que estaban en convenio marco y producto de las necesidades humanas proveedores para tener más viviendas rápidamente vía trato directo se sumaron otras empresa donde en promedio son 8000900 es el valor promedio de las viviendas Nosotros sabemos que Probablemente van a ver otras opciones en el mercado que pudieran ser más barata que alomejor estructuralmente satisfagan mejor las necesidades que pudieran tener las familias en este caso. Esos así digo, me vine antes prefabricadas con otro otro otro requerimientos, pero los requisitos de las viviendas de emergencia y los proveedores que están hoy día están Están así y el valor que tienen por convenio Marco no es algo que definamos nosotros como servicio. Nosotros ponemos las especificaciones técnicas para una vivienda transitoria y después a través de los procesos de la ley de compras públicas se publican está estos catálogos y son los proveedores los que los que postulan y finalmente ese mismo procedimiento que se lo que se los adjudica respecto a las viviendas que se entregaron, qué pregunta usted diputada finalmente se entregaron 2538 viviendas en total en nosotros las definimos a tres fases, digamos que la primera fueron 1218 después 1019 y finalmente un último grupo que fueron beneficiarios que fueron más rezagados por la dificultad sus terrenos. Algunas dificultades en la fide por una Zetas aclaraciones 301 y en la comuna de quilpué se instalaron 1101 viviendas en la comuna de viña del mar 1434 y en la comuna de Villa alemana, 23, las actas de esas 2538 vivienda fue lo que yo inicialmente comunique que se habían entregado en este pendrive al secretario que fue uno de los requerimientos que nos hizo esta esta esta comisión respecto a la a la información respecto a la a la mano la pregunta sobre las reparaciones que decía el diputado longton en poco lo que yo ya ha explicado afectivamente el convenio marco estipula 6 meses mismas condiciones se les puso a los proveedores que se contrataron por trato directo de manera de igualar las condiciones de tambo proveedores y dados los números que yo mencionaba de esta 723 viviendas que fueron que hicieron uso de esta de la garantía y Se realizaron. reparaciones menores y está 13 viviendas que tuvieron un problema más estructural y que fueron afecta este a este proceso terminado ese ese tiempo de los 6 meses efectivamente se diseñaron algunos mecanismos para poder atender aquellos problemas que tenían las viviendas de emergencia y que ya estaban después a los 6 meses fuera de fuera de este plazo de garantía, uno de ellos fue la transferencia los municipios de un monto para poder hacer estos kit de reparación proceso en el cual nosotros como servicio no tenemos nada que decir ni hacer digamos no tenemos ninguna función más que sugerir en su minuto la necesidad de diseñar un mecanismo para atender ellos esto también considerando experiencia de situaciones de emergencia anteriores donde la reconstrucción también ha tomado tiempo y las personas han tenido que pasar más tiempo en las viviendas transitorias de lo que nosotros quisiéramos Y tenemos distintas distintas experiencias que si usted estima los puedo relatar y Producto de la familia si van a tener que pasar este invierno también en situación de transitoriedad en su solución habitacional se converso con la delegación presidencial con la subsecretaría del interior para diseñar un mecanismo que nos pudiera permitir levantar estos casos saber que habían Cuáles son las viviendas que estaban con alguna situación de problema para poder atenderlas y se diseña un procedimiento donde el municipio nuevamente levantaba la información Se le eleva va a la delegación presidencial regional a nosotros solo se nos consulta si son efectivamente viviendas emergencia entregadas con ocasión del incendio el 2 y 3 de febrero y y posteriormente con los fondos de emergencia que administra la subsecretaría del interior la delegación hacia la gestión de poder hacer algún apoyo esa vivienda en materia de reparación o alguna otra cosa que permitiera no no tener problemas en términos de Cómo enfrentar el invierno en nuestro rol en este proceso fue proponerlo. Pues certificar que la vivienda emergencia que se estaba levantando era efectivamente instalada con ocasión del del del del incendio, el 2 y 3 de febrero y finalmente para responder la pregunta el diputado Ibáñez respecto a la ley de incendios activamente cuando se estaba elaborando el proyecto L y nosotros fuimos requeridos como servicio participamos en la comisión de agricultura del senado, además con nuestro opinión. Nosotros creemos que es una ley que efectivamente puede aportar a la prevención de incendios forestales Por alguno de los artículos que ahí quedaron estipulado Estamos de acuerdo en la necesidad de poder hacer este trabajo con anticipación que hoy día está muy desarticulado y que no tiene obligatoriedad en materia de temas de preparación justamente ayer hicimos el Coby nacional con una estrategia fortalecimiento de la gestión de incendios forestales que estamos nosotros coordinando con cosas desde hace tres años, pero qué es la suma de buenas voluntades de muchos. Servicio de poder ayudar a la preparación no hay obligatoriedad están involucrados los municipios través de sus asociaciones organizaciones privadas con caritas y también muchos servicios públicos pero que en algunas ocasiones carecen de facultades para poder hacer aceleradamente estas cosas Y lamentablemente, cómo está diseñado el sistema en algunas ocasiones tenemos que esperar que ocurra la emergencia para poder tener recursos para intervenir y lo que quisiéramos justamente todo lo contrario es que se pudiera invertir en preparación y en prevención para poder evitar tener que hacer el gasto después con respondiendo una emergencia Con el impacto que yo tienen eladia, las personas y una infraestructura Entonces estamos estamos muy en la línea de que de que esta ley se puede aplicar y ojalá se promulga la rápido y la pudiéramos tener vigente para este periodo mayor recurrencia Muchas gracias, preciosa, gracias a una relación dentro de mis consultas y hay que había pasado con el tema de la electricidad. Y con el tema cierto de la habilitación de no sé alcantarillado fosa séptica si se me se me pasó esa no tenía que anotar en el proceso de instalación de las viviendas ocurrieron distinto tipo de situaciones de las 2538 viviendas que se entregaron no todas quedaron conectadas a servicios básicos, no Y eso aquí tenemos el desglose Y si usted lo estima yo le puedo dejar esta minuta con el detalle, nosotros hablamos de habitabilidad de la vivienda emergencia cuando está cumple con las conexiones electricidad, agua y servicios sanitarios 100% hábitat habitabilidad cuando la vivienda fue posible de Conectar a estas tres a estos tres servicios y eso no sucedió en en todas las en todas las comunas por distintas razones muchas. La que tienen que ver con conexión sanitaria, que probablemente es la más sensible la más importante tiene que ver con condiciones anteriores a la ocurrencia de la emergencia, vale decir había un buen grupo de esta de esta vivienda que antes de que ocurre el incendio no tenían conexión de alcantarillado, no, Y eso se mantenía en la comuna de Villa alemana, fue más fácil enfrentar esta situación porque en general las viviendas estaban instaladas en terrenos que eran más bien amplios, no era un terreno grande donde la vivienda estaba en una porque son una condición de ruralidad y en esos casos no fue posible instalar fosas que las viviendas que fueron siniestradas no tenían por lo tanto las viviendas de emergencia quedaron conectada a estas cosas no no quedaron conectadas con con habitabilidad quedaron de las 23 quedaron. Corrígeme Miguel quedaron 12 conectadas a todos 12 de las 23 quedaron con Baja electricidad, agua y sanitaria y conectados con fosa o al alcantarillado 19 de 23 ya lo mismo que con agua 19 de 23:12 con electricidad en el caso de la conexión eléctrica la en general porque también hay casos bien puntuales con situaciones muy puntuales pero en general el problema de la conexión eléctrica tenía que ver con nosotros tenemos la obligación de hacer una conexión certificada, vale Decirte que hacer con un técnico especializado que nos entregó un formulario que se llama t1. Qué es la validación, Qué hace la superintendencia para poder acreditar esa conexión y que sea una conexión segura la vivienda emergencia tienen su conexión interior certificada por la SEP y Y eso tiene que ir al Empalme de la compañía y en algunas en algunos casos no sucedió que las personas no quisieron conectarse a la compañía Por qué significaba cliente lizarse y nosotros como servicio no podemos obligar a las personas a que lo hagas Porque yo no puedo hacer como servicio es hacer una conexión transitoria, se la conexión eléctrica que se hace Es una conexión que nos certifique a través del t1, no? Entonces hay alguna vivienda que no pudieron ser conectada o por dónde estaban? Porque tenemos situaciones donde las las personas que fueron con sus viviendas siniestradas tenían una condición de que vivían de manera, que les habían cedido el terreno donde estaban que no eran propietarios del terreno Y para poder nosotros instalarle vivienda y los servicios posteriores, necesitamos la autorización del propietario del terreno, es un muchas cosas, se den muchos casos se solucionó porque sentía mente los propietarios entregan un poder simple nonacosano tarea ni nada de eso, dónde se le autoriza la persona instalar su vivienda en la parte de atrás del terreno un costado etcétera, tenemos grupos familiares, que vivían todos juntos y producto de la situación de emergencia. Si está lo más de una tienda emergencia en un terreno no cediéndolo el dueño del propietario del terreno Y eso son situaciones que enfrentamos acá y lo mismo nos pasó con los asentamientos precarios que en un trabajo que se hizo con Sergio y con el Ministerio vivienda y esto es algo que tampoco cenapred había hecho antes se autorizó la instalación de viviendas en asentamientos precarios que estaban en proceso de radicación que estaban reconocidos en el catastro de campamentos del mismo con esa certificación que nos entregó la seremi de vivienda de aquí de la región de Valparaíso nosotros, instalamos viviendas de emergencia en esos territorios territorios que en muchos casos de ellos no tenían conexión a servicios básicos desde antes de ocurrido el incendio y en muchos de sus casos la gran mayoría diga yo sobre todas las zonas más urbanas los terrenos no tienen cabida para instalar una fosa no hay espacio para De hecho hay terreno donde incluso nuestra vivienda emergencia por las dimensiones que tiene no Fusible de instalar porque no cabían en el terreno no tenemos el caso de el sector del olivar, donde la construcción era de otra de otra metodología eran un mismo terreno más de una familia y y la la estrechez, digamos el ancho el terreno era mucho más pequeño que el ancho de nuestra vivienda en nuestra vivienda es de un piso, no tiene No tiene Cómo instalarse, no son de 4 piso no es un módulo de departamentos una solución para un grupo familiar. Entonces Esas situaciones fueron las que nos encontramos en terreno hemos ido con el tiempo una vez cerrado este proceso atendiendo situaciones puntuales que han ido saliendo y quiero mencionar lo que no está el diputado, pero te preguntaba el diputado teado Respecto a los casos que se nos fueron entregados la otra vez cuando cuando vinimos y que pectivamente la dirigenta me entregó a mí un caso de una señora se casó en nosotros lo revisamos aquí el subdirector personalmente con Versus la señora y claro, yo puedo entender diputada que que a veces las respuestas que nosotros como servicios damos no son satisfactorias o no dejan completamente satisfechos a las personas pero nosotros tenemos restricciones técnicas para hacer algunas instalaciones nosotros trabajamos con empresas de cenapred no es un organismo técnico en un organismo de coordinación que genera estos trabajos genera la instalación de vivienda las conexiones eléctricas de agua y sanitaria a través de empresas especialista que se pronuncian sobre la factibilidad o no de poder generar una conexión y frente a ellos nosotros no tenemos las facultades de dudar o no o si lo que nos están diciendo estaciono el subdirector se ha comprometido con la dirigenta a ir a ver especialmente este caso que ya ha sido atendido en dos ocasiones quiero decir en dos ocasiones a las señoras. Explicado la la dificultad técnica que tiene por donde ella está instalada y hemos hecho todo el esfuerzo diputada De verdad, créame para poder dar respuesta a todo esta situación Nosotros sabemos que esto en una en una situación de emergencia que que fue que también para el sistema género un antes y un después y una comisión investigadora sobre el incendio hizo un mea culpa como servicio en términos de de que a la luz de El impacto que tuvo del daño y de la pérdida de Vidas claramente las instituciones del estado fallamos en algunas cosas y eso lo dijimos esa vez y nosotros como servicio hemos hecho todo el esfuerzo para responder dentro de nuestras posibilidades de manera, oportuna y con una solución Qué es la que tenemos hoy día como estado para estas situaciones que sea lo más digna posible eso no quiere decir que yo diga que sea la mejor solución del mundo y lo que estoy diciendo. escribía tenemos esto que estoy danzando y que estamos completamente disponibles Ah sí De esta comisión en las conclusiones del informe o de otro espacio general las conversaciones para mejorar la respuesta transitoria, créame que estamos disponible hacerlo y prueba de ello Es que estamos piloteando Este otro proyecto en la comuna de Viña del Mar A ver si logramos tener una una solución que sea más permanente digamos no quedarnos en esta situación transitoria, Gracias directora, Muchas gracias sobre todo por si te gusta docente para para ir finalizando con la directora y luego pasar con la seremi Muchas gracias, presidenta considerando el valor que tiene por unidad y el costo instalación y también el problema que se produce a propósito de la subcontratación en algunas ocasiones de la internación de esta de esta mediagua salir si es que no sé si El caso descrito y el otro que están desarrollando, pero si tuvo alguna conversación en algún minuto de reemplazar la estrategia instalación de agua por viviendas prefabricadas, qué día el precio no es muy distinto a lo que el precio que termina saliendo por por unidad una una medida o es la calidad infinitamente distinta y además 1 1 reflexionamos y todo lo que pasado la directora no decía que está mediaguas, no son para estar un año no son para estar más de un año la misma garantía que tiene mi cabello, no se nos da cuenta de eso. Sí es una garantía de 6 meses Eso es porque la misma empresa que los elaboró y los instala no puede dar cuenta, no, no puedo ir al pisar el correcto funcionamiento está más allá de los 6 meses a todos. Nosotros nos ha tocado estar sentado dentro de mucho estar ahí en la que tenía problemas de goteras Crónica de cada vez que ir una lluvia, la próxima semana parece que está lloviendo toda la semana. Entonces vamos empezar de nuevo con el con el jueguito de la de las lonas plásticas y fondo No no es no es razonable, que esto siga así me toca robos y todo eso saber si es que hay alguna medida que se te contemplando del gobierno para resolver esto porque yo entrante la Avenida de las lonas plásticas o ver en el fondo, cómo le ponemos una tablita encima lo oyó está estar en ese juego que es parte de la vida de las personas mi día que que siguen estar viéndote emergencia y que probablemente Cómo va la cosa mucho para seguir más tiempo todavía para el ritmo que Está avanzando la reconstrucción saber qué está haciendo Y si tú en el punto ya está viendo yo el pronóstico del tiempo para la próxima semana próxima semana tenemos pronosticado lluvias domingo lunes martes miércoles jueves viernes sábado Entonces caro el nylon nuevo golpe que se está pensando porque ya estamos bien, pasadito comienzo el invierno que se está pensando para resolver esto Gracias gracias diputado. Voy a vamos a hablar también la del diputado Ibáñez para que después pueda usted ya cerrar directora diputado Ibáñez vivienda de emergencia que se instalaron en sectores que eran considerados catastro minvu, modifica dicen que se les pidió que se le señaló que iban y venían con fosa incluida esa Es verdad esa información no, no lo otro es si es que no hubo siempre conexión x por x motivo en términos del presupuesto que se gasta por la vivienda. Eso, Por ejemplo, promedio 8000009 vienen incorporando digamos todo eso elemento y qué pasa? Digamos esquela y donde hace instalación. alguno de esos elementos desde punto de vista del presupuesto Gracias diputado directora para cerrar esta misma intervención y luego darle el pase la seremi, por favor, gracias a Dios a nosotros como servicio lo que nos corresponde o lo que está estipulado hasta el día de hoy que hagamos como servicio tiene que ver con una solución transitoria de emergencia, por lo tanto a lo que no hemos abocado desde que éramos onemi y ahora cenapred es a poder mejorar es estándar de vivienda de emergencia, pero nosotros no estamos porque no está así estipulado y lo digo así, porque pudiera ser que de los acuerdos que se lleguen de esta de esta comisión otro se cambie es que nosotros no, no entregamos viviendas definitivas a vivienda definitivas parte de la reconstrucción y la reconstrucción no está dentro de nuestro mandato protector nuestro mandato es la solución es transitoria, en esta etapa de rehabilitación Y eso es lo Qué hacemos? Podemos conversar sobre mejorar la calidad de avión de emergencia matar sus metros etcétera Y eso Por supuesto estamos 100% disponible, pero no está dentro de nuestro mandato entregar viviendas definitivas, por lo tanto lo que lo que lo que hacemos Es mejorar esta vivienda transitoria, Qué es la obligación que nosotros tenemos dentro de lo que está estipulado hacerse estas viviendas tienen ese valor que yo mencionaba promedio, pero ese valor promedio incluye la instalación de la vivienda a la compra e instalación, traslado, logística, etcétera, no incluye los servicios la conexión a servicio se contrata aparte ya Entonces estos ocho millones promedio incluye la construcción y la instalación las conexiones se contratan a través de otras empresas que se tercerizan y entonces no van, no van conectadas, por lo tanto el monto total de Davivienda habilitadas es la suma de la compra instalación de la vivienda más la contratación de los servicios que estéticamente se puedan ejecutar entonces no es que todas las viviendas vengan con fosa La La La La idea, es que todas las viviendas tengan habitabilidad que queda supeditada a la factibilidad técnica de ello y Y cómo le decía en los sectores principalmente Rurales se nos hemos podido avanzar en esa habitabilidad a través de la instalación de fosa Pero qué es un servicio Qué es aparte de la compra de la vivienda nueva en conjunto no es un pack completo no Entonces no la vivienda emergencia el proveedor de estos montos que llevo mencionaba es compra instalación, no? Y con estos seis meses de garantía, los servicios Se contratan, aparte con otras empresas no Qué son empresas más pequeñas que se especializa en ellos y el eléctrico que tiene que estar además certificada por la superintendencia tele. y combustible creo que respondí Muchas gracias directora, le agradecemos también a su equipo técnico está Gracias por la presentación bastante Clara o no ahora le damos la bienvenida y le damos la palabra a la secretaria regional Ministerial de desarrollo, social y familia de la región de Valparaíso la señora Claudia Espinoza carramiñana, carramiñana Qué lleva poquito tiempo en el cargo los tres años estaba ya perfecto, no, no la yo creo que no vamos a encontrar, tenemos una presentación, no sé si los colegas ya la tiene la secretaría de ambiente asaltar una muestra de la del diputado Celis me faltaría una mí y con eso no se preocupe importantes o los datos Muchas gracias, bienvenida tiene usted la palabra. Muy buenos días, saludos también a las integrantes de la comisión y también hoy día Quiénes son invitados y también a las personas que asisten lo que voy a presentar son tres puntos importantes que entiendo que han sido también lo solicitado para la presentación de hoy Cuál es nuestro rol en emergencia, Qué es muy breve sobre la ficha básica de emergencia y también los puntos y gestión social, no en estos tres puntos vamos a partir primero solo recordando Cuál es el rol del ministerio desarrollo social y familia dentro de todo el ciclo de manejo del riesgo que soy importante También señalarlo. Nosotros en este caso estamos también participamos en la fase de rehabilitación y también en la fase de reconstrucción, no estando y siendo parte también con distintas medidas en el plan de reconstrucción es importante para poder tenerlo Claro que no somos un organismo de respuesta, sino que somos un organismo también que somos de segunda. Línea entrando la fase de rehabilitación sobre la ficha básica de emergencia Y a propósito también de las consultas que se han realizado importante traje y la presentación lo primero que ustedes tienen también son las normativa y el marco normativo de la ficha básica de emergencia y la ficha básica de emergencia hídrica también, Qué es la otra que se aplica habitualmente en el caso de emergencia es la fiv Ahí están los decretos y algo importante, qué parte del plan Nacional de emergencia y que las formas de poder evaluar y el sistema de evaluación de daños y necesidades se hace principalmente en dos instrumentos el informe Alfa Qué es el que realiza la municipalidad es y lo que realiza el Ministerio desarrollo social y familia a través de las pide No eso importante y ahí está las resoluciones también asociadas, Qué es parte también de un sistema y eso me parece importante poder reforzar también esa idea y Bueno y qué es la fibra no importan. señala lo primero es señales que la fiebre es un catastro no nos permite caracterizar socioeconómicamente la afectación que tienen las familias se aplica en terreno y lo que hace cadastrar los hogares Y el grupo familiar eso es algo que es importante lo mismo hace en el caso del déficit hídrico en el caso de la fide h y toda la información recogida es parte también de un sistema información social de emergencia, Qué es el cc y Qué es el sistema de información está disponible para los otros organismos que lo requieran no de una información que se disponibiliza para que puedan tomar decisiones los otros organismos porque esta es la primera fotografía y por lo tanto Necesitamos este primer catastro para la respuesta de los otros organismos Y eso es muy importante poder explicitar por lo tanto el objetivo de la fide Precisamente es poder hacer esa identificación y ese catastro con Ur Ciencia también da la emergencia donde el cruce información que se realiza Al momento de ser digital, lafise aplican terreno Y luego es digitada en el ingreso también en este sistema y realizando un cruce también con lentificación de las personas y el estado que exista también de las personas en el registro civil gran parte del auto reporte también es un auto reporte de las personas afectadas, Qué es válida por los funcionarios públicos acreditado. Luego voy a presentar también, Qué es la acreditación Y cómo los funcionarios públicos efectivamente logran es acreditación. Está autorreporte validado a través de diversos mecanismos también y por eso es un curso en el cual, ella se preparan para esta validación de la información que es algo de importante y me parece muy relevante señalar es algo que durante todo el proceso que nosotros estuvimos también no solo en terreno, sino que en el proceso de ambiente estuvimos los Punto de gestión social que estaban ubicados también en las zonas afectadas y el trabajo de todo este tiempo es recordar que la fide no es equivalente al Bono ni tampoco es equivalente un beneficio la fiv es una fotografía del daño de la habitabilidad de la vivienda y del daño de los enseres, No eso es lo que evaluar aquello que se me ha dado qué es lo que se requiere dar una respuesta rápida a el nivel de habitabilidad también que tengan la familia es las personas no? Por eso es un instrumento además muy fundamental para este levantamiento del afectación algo relevante es y algo también que nos parece importante señalar Es que la fide implica también y está válida sobre el desempeño que generan también los distintos funcionarios públicos, Qué son de servicios y distintas instituciones. Que apoyan este proceso tanto de Aplicación como de digitación no siempre coordinado por la subsecretaría de servicios sociales, esto Solo lo logran a través de un curso es un curso, Qué es de sin de 15 horas, no queda más ese curso debe aprobarse solo una vez que está aprobado tienen la acreditación correspondiente Pero además, ese curso dura solo un año y por lo tanto es un curso en el cual tienen que volver a revalidar y volver a cursar año a año para tener es acreditación Y en este sentido Ahí están los datos 2024 2025 de los funcionarios de la región que están acreditados con esas características y en función de este principio también de porque aquí hay servicios del estado que están presentes a propósito de principio de apoyo mutuo y escalabilidad también que están contenidos en la normativa en este principio y a partir de esa capacitación e importante que ustedes sepan cómo nos organizamos, no dado la magnitud. De la catástrofe fue importante definir Qué definimos equipos de planificación del despliegue equipos que tienen y miren el despliegue territorial Y luego cuadrillas, qué son las cuadrillas que barrieron todos los territorios primero el equipo de planificación de la espía, que está compuesto por las encargadas Five de los municipios involucrados de la subí de Cos también con el nuestro equipo de la secretaría regional ministerial y el equipo focalización y el equipo nacional también de focalización, no ahí la encargada emergencia de nivel nacional, fue muy relevante luego el mirar también y hacer este despliegue territorial por municipio, lo hace la encargada de la encuesta G municipio Y a quién importante señalar que nosotros tenemos un convenio permanente con todos los municipios de la región con los cuales, nosotros acompañamos todos los procesos de focalización, dónde hay distintos instrumentales, no? Y por lo tanto implica la preparación precisamente para esta situación es, pero también hay otros. Herramienta y otros instrumentos focalización, por lo tanto nuestro trabajo y también financiamos a los municipios en esta línea de focalización, por lo tanto ahí hay un trabajo, Qué es permanente, no nosotros estamos permanentemente actualizando las condiciones, no solo del curso digamos en este caso de la aplicación de Five sino que de los otros instrumentos planificación también, entonces estás encargadas municipales junto con nuestro encargado de la encuesta G desde nuestro ministerio más también un coordinador de apoyo que era quién coordinaba toda la colaboración del resto de los funcionarios públicos también y de los servicios que participaron de la encuesta e incluso verificaba, dónde se En qué comuna se distribuía donde llegaba tan municipio Y esa coordinación la hacía también con apoyo funcionario en coordinador de su apoyo. Luego lo más importante Yo creo que es lo más relevante constituimos cuadrillas de despliegue en cada uno de los sectores afectados. Esas cuadrillas eran lideradas por funcionario municipal de focalización también que efectivamente trabajan en este ámbito en el municipio, estuvieron acompañados de encuestadores municipales tanto de las comunas afectadas como también de los otros municipios de la región y también del país que concurrieron a colaborar también en este proceso y otros apoyos complementarios también que tuvimos por lo tanto las cuadrillas y aquí hay algo muy importante hicieron para rizos permanentes también en los territorios Quiénes guiaban esos barridos son los funcionarios de los municipios de las comunas afectadas por el incendio porque son algo muy simple. Son Quiénes conocen el territorio conocen el territorio conocen a la dirigencia conocen precisamente las características de la zona afectada y por lo tanto en ese sentido la fide fue aplicada y digital. Solo por funcionarios y servidores públicos que contaban con la acreditación Five a esa fecha no tuvimos una balanza voluntario de osito distintos distintos ministerios de hecho en el mismo gabinete habían funcionarios que señalaban colegas seremi me decían mi equipo está disponible ahí cuenten, con ello y nosotros teníamos que decirles no porque solo son Quiénes tienen esta acreditación y además con la rigurosidad que tiene la acreditación ya Y eso es algo importante de resguardar quién responde no? Entonces en el fondo se aplica solo los hogares recientes de las viviendas afectadas en el sitio también tuvimos varias situaciones que tenía que ver con por ejemplo las personas que estaban hospitalizadas, qué es lo que hacíamos en ese caso nosotros se concurrió nuestro funcionar concurrieron, por ejemplo el hospital y luego la sube se aplica también y se complementa y la información Se ingresa en el momento que se está en el sitio Algo súper concretos Egeo referencia también. Esa información donde se recoge la información y por eso debe ser en el sitio y debe ser precisamente en la vivienda afectada debe ser respondida por una persona mayor de 18 años no por la responsabilidad de además, esa persona debe firmar que la información que está entregando es verídica algo que es fundamental notado Que es auto reporte en este caso, además excepcionalmente y dada las características principalmente de la zona del olivar, excepcionalmente y por mandato del comité de ayudas temprana se autorizan encuesta GPS al para aquellas personas que eran propietarias Y no residentes y que además arrendaban la vivienda se ha Estrada no y que efectivamente podían respaldar, Qué son los propietarios y que cumplieran ciertas condiciones de vulnerabilidad socioeconómica de acuerdo a las instrucciones también que nos dio la subsecretaría del interior precisamente vinculado también al pago de ayuda. Temprano no, y ahí está el oficio todo este sistema de información estuvo activo el evento, no? Qué es lo que se denomina como evento estuvo abierto hasta julio del 2024 en ese sentido también que fue la cobertura total de los hogares afectados sin embargo, dado también en ese sentido las características volvió a abrirse el período, pero en este caso es importante señalar. Además que se comenzó a aplicar formalmente el mismo 5 de febrero Pero los municipios aplicaron encuestas Desde el mismo día dos y luego otro, Qué es muy relevante, esto implicó una planificación importante y por eso además, participaron muchos funcionarios públicos calificados, porque al 15 febrero se realizó el 90% de las encuestas Y eso implicó encuestadores directo enterré. 1551 personas todas acreditadas en el sistema si se No Ahí está el detalle y ustedes pueden ver cuántas personas participaron Y cuántas pibes se aplicaron Aquí está el dato el detalle, pero aquí también están los gráficos, dónde lo que podemos ver ese número altamente excepcional si usted muy gran pregunta si a mí me hubieran pedido una planificación y que pudiesen estar aplicada el 90% de la número de encuesta fibra la fecha que estuvimos yo hubiera dicho que era imposible no por el volumen y por el tiempo que implica la aplicación de la fide y sin embargo, gracias a la colaboración y la coordinación de distintos sectores podemos llegar a estas cifras y está rápida evaluación que claramente implicaba que se podía activar las lluvias tempranas lo más pronto mente posible aquí donde también en el gráfico podemos ver cómo 15 febrero estaba el 90% de la encuesta ya aplicada y ahí vemos la acumulación en el tiempo respecto al así podemos ir mostrando precisamente Cómo fue durante todo el período que estaba abierto hasta el día de hoy podemos también, ahí está el resumen de la afectación. Están todas las afectaciones de la vivienda como las afectaciones de los enseres, no? Y los datos también respecto a la aplicación total de la fivet algo importante a señalar Es que la fiv es lo que valúa son los hogares dentro de una vivienda pueden haber distintos lugares Pero lo importante es que se considera un hogar un hogar, es un grupo de personas que se alimenta y lo vamos en cotidiano de la misma o ya no Y eso es súper importante porque ahí también distintas composiciones familiares, pero cuando hay un presupuesto común y hay una alimentación común, eso se considera también un hogar ya. Cuáles fueron los requerimientos, no? Y las modificaciones de las pide que también ha sido algo que se ha preguntado algo que ha sido de interés, a mí me parece Solo señalarles que desde el número total tenemos una modificación de 1648 fines que fueron modificadas en este periodo No desde la aplicación en adelante y por eso hubo una solicitud es que fueron atendibles verificables como solicitudes tanto de aplicación de Five como de modificación de Five también vivimos situaciones que fueron bien compleja yo misma en algún momento constaté, me di cuenta que los funcionarios de Viña del Mar están haciendo agredidos por situaciones que tenían que ver dónde viven temente no correspondía la aplicación de la fide y no correspondía la modificación de la fide ya Y eso lo constató en instituto también hicimos las denuncias correspondientes a fiscal. Qué situaciones de maltrato bastante grave a funcionarios públicos e importante señalar que la pide y el evento digamos el evento en cis en el sistema de información estuvo activo también Durante los primeros 60 días? Esto es doble del promedio habitual que se mantiene abierto un evento en Si no es mucho más breve, pero claramente el requerimiento implicaba también este fuerzo y esta temporalidad mucho más amplia, también ahí podemos ver como el sistema, si se se reabrió entre los meses de junio y Julio para poder digitar pibes que quedaron pendiente en el mes de abril y solicitudes también quisieron los municipios y la última repertura fue ahora en este año entre marzo y abril de esta 2025 principalmente para incorporar las últimas solicitudes demo. Ubicación por parte de los municipios solicitas a partir de los ciudadanos por supuesto pero no implicó aplicación de nuevas y no precisamente porque un barrido intensivo y registros también respecto a esa forma de identificar la afectación en el territorio y por lo tanto También es importante señalar que durante 2 meses se barrieron los territorios como decíamos nosotros pero que en el fondo se desplegó el operativo en todos los sectores de las tres comunas acercando el estado los vecinos para que pudieran consultar sobre la afip solicitar modificaciones o su aplicación y también poder entregar información de las ayudas de emergencia en este proceso lo que nosotros identificamos es que necesitábamos llegar con mayor información no necesitábamos que las familias tuvieran información disponible y ahí la subsecretaría del interior también a través de la delegación. Tencial implementó dispositivo de gestión social, qué es lo que buscaban era entregar información y orientar a las familias afectadas está se instalaron en los mismos territorios afectados nosotros como ministeriodesarrollosocial vimos las orientaciones el acompañamiento también para poder instalar estos puntos y que implicaba atender estas consultas importante digamos están ahí los detalles es una estrategia también de despliegue nos importaba muchísimo poder entregar información oficial directa Clara y los equipos también hicimos los procesos de inducción de cómo responder de las formas también que fuesen lo más clara y empática entendiendo que en ciertos contextos necesitamos mucho mayor esfuerzo para poder entregar información con Claridad a las familias afectadas, no? Cuál eran los objetivos y ahí solo para señalar en el fondo primero podía dar información sobre responder consultas de ahí vas temprano a la familia afectadas revisar los casos que fueran necesarios sobre las olas solicitudes de modificación se recepciona van también proveer de información relativa a la oferta de soluciones habitacionales transitorias disponer información relativa a oferta de soluciones habitacionales definitivas registrar y derivar las solicitudes de atención de ciudadanos o de cuidados en la familia afectada derivar o referir a los usuarios a las atenciones de servicios disponibles no Y estuvieron disponibles los puntos de gestión social durante el mes de marzo y abril del 2024 con una entrega de monitoreo permanente ahí donde ustedes pueden ver también las fechas de habilitación de inicio de terminó y la cantidad de atención a registradas también que son de un Alka Sharona 5495 atenciones registrada en los módulos de gestión social y que se ubicaron precisamente los territorios que están mencionados también en esa tabla en este resumen que tiene Y por último señalar que además se brindaron canales de comunicación que operaron durante la emergencia además de los 17 puntos de gestión social estaba la ventanilla, única social de cada municipio, el call center del ministerio desarrollo social y familia y en el recuadro ustedes pueden ver te respondieron más de 9000 consultas también entre febrero y marzo la oír presencial virtual derivaciones y derivaciones de otros servicios y hasta ahí estimado misión nuestra presentación disponible para las preguntas. Gracias, muchas gracias, hermanito de Espinoza por la presentación. Abro la palabra los colegas. Alguien tiene alguna consulta alguna opinión comentario diputado longton, por favor, que sea presidente parece la exposición de la seremi primero en relación a la a la ficha fibe y el porcentaje del registro social de hogares respecto al 60% la atención, el decreto 34 de los inhábiles de los Ávila en verdad, pero con el 60% se declara inhábil los que tiene más de una más una vivienda como ese está siguiendo el proceso regular del registro social de hogares o se tiene una forma distinta de cálculo porque lo digo porque una persona que tiene dos B que tenía dos viviendas, vivían una de ellas, esa se le quemó y la segunda vivienda en una vivienda que estaba pagando con un dividendo y que trabaja pero que recién. poquito más que el sueldo mínimo lo más probable que tenga que ir a llegar hasta familia sobre todo si tenemos un núcleo familiar amplio y esa persona no está recibiendo ninguna ayuda del Estado Quisiera saber si el cálculo es el tradicional o se hace una excepcionalidad respecto al núcleo familiar que tenemos mucho caso de personas inhábiles que están en esa situación y que lamentablemente según el registro de hogares tiene un 70% vulnerabilidad es decir, está en la parte alta cuando todas luces no debería estar en la parte alta estar en la parte baja principalmente por la tragedia que vivieron tonces Quisiera saber esos criterios, si es que existe la disposición de lo bueno de poder modificarlos en atención a tragedia que vio o hacer un nuevo golosón porque Lamentablemente esa familia no les alcanza para llegar a fin de mes Porque además, han tenido que pedir créditos adicionales para poder vivir entonces hay una doble carga, entonces están en es una situación más mejoradas que algunos que si están recibiendo ayuda el estado, pero tanto quisiera saber si es que hay alguna modificación o propuesta para que al menos ampliar el decreto 34 y para que yo inhábiles pasen a ser hábiles y no queden excluidos rezar del video la misma tragedia del dato oficial del tema de los campamentos, en quilpué tanto en Viña Quisiera saber si es que hay aquí paridad Respecto a los datos recopilados y la situación que están viviendo los campamentos formalizados y se han tenido diferencias en relación a la información recopilada terreno, porque solo que nos indican hay información muy distinta de las fibras a la realidad que están viendo al menos los campamentos formalizados por el minvu, y lo último presidente tiene que ver con siguen equipos en terreno en verificando la la ficha fides en atención a los datos entregados Y las eventuales equivocaciones que pueden haber habido en terreno en la recopilación de la información porque se lo digo porque vidrio que muchos que se le ha pasado pero pero en terreno uno se encuentra con personas que te pasan su ficha fibe te dicen yo quede fuera por ejemplo yo tenía un emprendimiento y en la ficha fibe eso no consta que yo tenía un emprendimiento adultos mayores muchas veces y el estado no llego me ayuda a decir sercotec no vinieron me ayuda porque mi ficha fibe eso no consta o por otro lado personas que en un terreno tenían dos familias Yuya una llenó la ficha fibe y la otra no o uno el ayuno por la otra entonces ese tipo de cosas se repiten más de lo habitual tiene sentido por eso la pregunta si usted es tan revaluando fijas Five incorporando nuevas familias en ficha fibe porque Lamentablemente gente que sí debería estar dentro de las ayudas en una está y muchas veces los canales de canción o no llegan a toda la ciudadanía como finalmente la el estado no es capaz de poder responder todo este tipo de situaciones y que hay alguna acción en terreno para poder modificar y corregir esta situación es que yo me imagino que difícil de detectar las todas Pero si hay un contingente porque este hablo de muchos funcionarios que están en terreno entonces Quisiera saber no sé qué no sé tal vez tu mamá Quisiera saber si quisiera saber si es que hay una presencia activa en terreno y los canales de comunicación porque está comisión particularmente los damnificados mucho de ellos lo sigue entonces sería bueno saber los canales de comunicación donde recurrir Cómo recurrir y para efecto de que efectivamente la familia puedan actualizar su ficha pibas y pibes si es que hubo algún error que pueda ser comprobables hora se presenta Dos consultas primero respecto de la modificación de la ficha Steve zissis, tenemos el dato del Cuántas fichas fives Se realizaron Y cuánta porción de esta se modificaron y bueno, si está disponible la causa de modificación a propósito de lo que se ha ayudado en neiva, hay varias causas Pero quizá la más recurrente y Segundo si es que todavía existe tiempo para hacer modificaciones. O sea que ella finalmente está cerrado este este este proceso y si mentalmente podría haber una nueva etapa, digamos de modificaciones de ficha firme y lo último respecto de los puntos definidos social Eso me parece muy bien yo participe en alguno se siguen haciendo los puntos de gestión social o o están de una transforma proyectado Freddy sale la entidad de que de que se requiera mayor presencia en terreno por parte del ministerio eso seremi, no sé si hay alguna otra consulta diputado huella bienvenido pudo barrio No perfecto que usted la palabra seremi Gracias quizás voy a reiterar algunas cosas que que que presente a propósito las consultas del diputado longton que no no lo veo precisamente señalar que haber vuelva a ir. Importante que la pregunta respecto al porcentaje hábil o inhábil no lo define la ficha fibe eso importante y no lo Define tampoco el r.c.h. Eso es importante señalar. Lo no, lo que yo vuelvo a reiterar es muy importante el registro es un instrumento es un catastro una fotografía para que los otros organismos definan criterios Los criterios, no lo define la fotografía ya si yo tomo una fotografía Me da una caracterización de la situación del momento esa fotografía le sirve a otros para tomar decisiones Y definir rangos ya y eso me parece súper importante Cuál es la diferencia de lo que hace la fibra de lo que coloque hace el rsh. No sirve tiene carácter universal precisamente no se aplica todo y rsh tiene una finalidad más focalizada también en algunos ámbitos Y eso es importante poder señalar los Y considerarlo no hay, no hubo en el oro s h a propósito la pregunta del diputado longton modificación en Los criterios, Por qué es un instrumento Nacional de evaluación nacional complementario y en este caso no tiene que ver ni tiene relación con la aplicación de la fiebre, que sube que yo estaba presentando Y eso es importante también señalarlo, no tenemos el detalle y el señalar y asociar a este instrumento diferencias según campamento puede tener que ver con algunos elementos de características socioeconómicas de ese contexto sin embargo, no hay una definición a priori, no? Por eso me parece importante señalar es una fotografía que se toma con criterios que son comunes a nivel nacional y que por lo tanto esos criterios y el resultado de la fotografía tiene que ver con estas características de aquello que se evalúa ya Y eso es importante. Mencionábamos algo relevante efectivamente la fide es un instrumento que tiene gran medida de auto reporte, por eso las personas deben ser mayores 18 años debe firmar de que la información que entregan es fidedigna, por ejemplo composición familiar que me tocó a mí en terreno, no sé si es aquello a lo cual se refería el diputado longton Pero qué es lo que nos pasó también y pudimos observar efectivamente muchas veces en las cuales luego de la entrega también de las ayudas tempranas, se buscaba hacer modificaciones de la designación de hogar y yo decía antes Cómo se define hogar Entonces si vive un conjunto de personas en una en una misma vivienda se alimentan tienen un presupuesto común de alimentación, no corresponde la división posterior y nosotros tuvimos solicitaciones de división que no correspondían en función de esa. Característica Y esa definición del instrumento Qué es distinto Y qué tiene que ver con otras situaciones que ocurrían también en las composiciones familiares no Y eso importante Yo sé que puede ser a veces complejo también no de entender pero Precisamente es esa fotografía Qué es aquello que hace la ficha fibe Quienes no consignaron emprendimiento decir yo mostré Y quizá puedo volver a compartir toda la información de todos los momentos en los cuales se abrió la ficha fibe y que decir No solo tuvo mucho más tiempo abierta que cualquier otro evento es un evento que permaneció abierto No más del doble el tiempo de lo habitual se vuelve abrir durante el año 2024 nuevamente para poder hacer modificaciones también y algunas incorporaciones y se vuelve abrir el año 2025 para hacer las últimas modificaciones. Visitas también Polo municipio que son Quiénes reciben, estuvimos en terreno muchísimo tiempo. Yo tuve a mi funcionarios de decir que recuperé mi funcionario que está aquí encargada focalización. Yo creo que en el mes de mayo no pude recuperarlo y lo pudimos recuperar me refiero porque estaban instalados en los municipios y en el terreno y por lo tanto en todo ese proceso y digo que teníamos la certeza la convicción de que se habían hecho todos los barridos y todos los instancias también para poder hacer las modificaciones porque le el gráfico que ya le mostraba de la curva también de acciones de incorporación realización de Five de modificación de Five queda muy claro, porque tú comenzamos a tener una avalancha en algún periodo tuvimos, por ejemplo, la comuna de Viña del Mar la última semana de febrero, si no recuerdo mal, por ejemplo 200 solicitudes. Respecto a la fide y solo se tradujeron 51 en fibra real no hay otra 200 que no correspondía y que no adecuado y cuando digo No correspondía todavía hablando de situación en las cuales nos dicen Sí aquí, había otra vivienda en un terreno que no cabe otra vivienda donde no había ningún rastro de pilotes donde las personas no podían decirnos cómo estaba ubicada donde Vidente mente ni siquiera tenía información respecto a la estructura de este terreno antes del incendio, estamos hablando de ese tipo de situaciones también. Entonces el auto reporte muy relevante y efectivamente hay algunas personas que dicen no registraron no consignaron emprendimiento sin embargo, nosotros tuvimos período en los cuales y tuvimos yo misma atendí situaciones las cuales de personas a propósito de la entrega de él, por ejemplo, el trabajo que hizo fosis con más de 2000 personas las cuales entraron también en los cupos de emprendimiento una avalancha solicitudes de modificación de emprendimiento las cuales solo fueron. Tendrías alguna que podían ser evidentemente demostrables, no también estuvimos fenómeno y solicitud de las cuales eso no era demostrable y por lo tanto si quería modificar también aquí el auto reporte inicial, quién define la ayuda no es la fide, no? Y eso me parece súper importante la fibra de la fotografía. Eso Como quisiera enfatizar y sobre los canales de comunicación tuvimos enumerables canales de información, hoy día seguimos teniendo también relación con los equipos municipales en este ámbito, el evento está cerrado mencionando toda la excepcionalidad y toda la cantidad también de iniciativas que permitieron información también como los puntos de gestión social y en ese sentido y propósito que señalaban o también hay buenas fuerzo norme en los puntos de gestión social en contratación de profesionales su capacitación garantizar que pudiste la atención más cercana Clara empática tamb. Esa persona eso es algo que hicimos, además que quisimos enfatizar y qué acompañamos damas personalmente, pero también hay otros procesos y otra etapa hoy día el equipo reconstrucciones, quién está también recogiendo no propósito que mira aquí Andrés que no reporta todo esas situaciones que recoge la situación en las cuales hay algo que resolver la coordinación y la articulación de los servicios situaciones puntuales, por ejemplo a la fide si hay algún nivel, estoy pensando en algunos sectores particulares, no a propósito que usted lo desea también sé qué tal inicia, Villa Costa sol, tenía una situación en la techumbre, eso no corresponde la modificación en la ficción que se está haciendo bordada por las mejoras, que está haciendo mimbo el tema es que efectivamente eso no es contable, porque el daño la habitabilidad no fue en este momento no es contable después, pero que evidentemente que resolverlo de otra manera, no. Y por eso la fotografía no es la culpable de que yo no Y eso. Importante de poder señalar hoy día el evento está cerrado No que esa es la decisión también de nuestro nivel central respecto a la fibra y por eso existieron todos esos periodos para las modificaciones y son 1648 filas modificadas en total de las 8500 y la causal principal tendríamos que revisarlas, pero muchas tienen que ver con modificación en la composición familiar principalmente Pero hay una variedad muy amplia también de las razones por las cuales se modificó ese porcentaje tan alto de fichas de información de emergencia no ficha básica de emergencia creo que ahí respondo todas las preguntas Muchas gracias seremi respecto de antes de darle la palabra libro respecto de la categoría a b o b. jurídicamente hablando Recuerda que estamos en espera del dictamen de contraloría que se comprometió a enviar un un documento donde se explícita que yo, porque eso está definido por las que por las fiestas y entiendo que el instrumento de diagnóstico y luego alguien toma la decisión en base sealmaster importantes que el diagnóstico está bien hecho el diputado Vargas presidente por saludar a la serie de su posición señala, Qué bueno que nosotros nos llega mucha gente que está que fue víctima de Lamentablemente del Mega incendio y este desastre y nosotros vamos contratando ciertas cosas que se nos van señalando aquí en la en la realidad de los lugares que fueron más también te afectado La pregunta, es ese de mí es Aquí hay personas que señalan y dirigentes eran que la gente si recibió ayuda de fósil de asentamiento irregular eso toma campamento o sé que finalmente esos asentamientos no reciben y que esos esos suena o es una suerte de discriminación desde el punto vista de la de la de la entrega de beneficio, en fin, Y esta es la primera interrogante y los otros cuánto tiempo está vigente la ficha fibe preguntan acá también no está su pregunta presidente Disculpe diputado barrio, se le mira la palabra lema diputado importante señalar que el caso justo te menciona la situación de fosis como fosis princesa. la medida de fosis no discrimina y no tiene ninguna relación con la condición del terreno Por lo tanto La Única condición para postular a los programas de emprendimiento de fosis era tener ficha fibe y aparecer con pérdida de empleo a través del gas, lo digo porque ese proceso nosotros lo conocemos está altamente respaldado y pueden ver también toda la información que respalda esa definición entonces no es ahí no hay una distinción porque no es el tema que relevante y la fide digamos es la fotografía que se hace y tiene vigencia, va a estar Próximamente incluso puede ser vista en ventanilla, única Social es un documento que queda también para la familia y que queda de respaldo para ella, así que en ese sentido no es que pierda vigencia está asociado un evento, por ejemplo, hay familias que luego con las Viaje en el invierno volvieron a verse afectadas y se volvió aplicar una segunda ficha fibe que daba cuenta de la afectación en este contexto Y tenemos los indicadores también de aquí. Muchas gracias seremi por su respuesta. Bueno, confíate accidental que plantea lo siguiente a vemos dos diputados de la comisión. Están misión ha sido impulsada fundamentalmente bordados de la posición, que ya no están presentes en este momento voy a suspender la sesión por falta de Boro Ahora si reiniciamos la sesión le pedimos a los diputados que pueden tomar asiento Y usted y la pregunta están candente ahí con la seremi de desarrollo, social y familia diputado cuello punto reglamento media pedido tiene la palabra mucho. Gracias presidente vicepresidente en esta sesión como esto se publicó esto queda grabado se está repitiendo en vivo para que estén interés en esta condición vestidores que muy relevante está hablando de un evento que fue tráfico para viña del mar que puede ya hermana y consecuencia de mucho interés en que esto se desarrolla de una forma sería yo presidente quiero si lo siguiente en las comisiones que esté horas son una herramienta de legítima de la cámara para fiscalizar y ciertamente que está comisión también es ácido válidos tanto ha permitido arribar hallazgos que dicen dicen relación con el estado de reproducción firmar vida, me quiero decir que como las comisiones investigar son una herramienta fundamental mente que permite que las minorías parlamentarias pueden controlar los actos de gobierno eso de mí me pica una cierta responsabilidad y esto me fuiste a faltado seriedad después tuviste que la oposición fundamentalmente de forma legítima y eso es solo lo reitero a Te digo que se metió ahora ha impulsado varias sesiones más de una la semana muchas veces ya sin embargo, hoy día estamos una condición. Es que estamos tres diputados en estamos todos diputados ya y con un abandono total y completo por parte de la oposición y lo que su reflejo la falta de seriedad y también la falta de responsabilidad con la gente que fue víctima y me dicen de eso hay que decirlo presidente Y qué quieres que yo haga falta o ha faltado enfrentar con rigurosidad. El desarrollo está comisión tomando en cuenta que más estamos terminando estamos a puertas de botanas conclusiones, entonces en esto yo creo que además se ha exigido o sobre tejido la labor de la secretaría para poder hacerse cargo de estas exposiciones y preguntas que se formulan está grueso sin embargo, vemos una actitud de desidia y negligencia por parte fundamentalmente de la oposición alejar a donar está en mi servidor Acostado viendo y día estamos acá si deseas especial, gracias. Muchas gracias presidente no Vimos a ningún diputado fiscalista firmando está comisión especial pero esta condición especialmente por su intermedio presente para para decirle al diputado que yo sé es lo último que podemos hacer porque justamente los diputados oficialistas no realizaron ninguna acción con los damnificados cuando vieron que la auditoría de la contraloría hablaba de la Vans del uno coma 14% en la reconstrucción a un ritmo muy lento pero de más la desidia de los diputados oficialistas en oficial en pedirle al ministro Monte que se pronunciaré lidera la cara los para los damnificados son algunos llegaron no todos cuando realizamos y convocamos a todos a reuniones que tienen en el mismo congreso tampoco llegaron no dieron la cara pero no solo eso sino que también en Salud Mental Tuvimos que llegara una comisión especial investigadora para que recién vine a entregar cifras datos que además no tiene nada que ver con la realidad que vive los damnificados cuando también viene el subsecretario del interior y entrega cifras que tampoco concuerdan con las cifras que tenemos ni mucho menos cuando las hacemos el cruce con las demás entidades como municipalidad o también o privados que también está el territorio, no concuerdan hoy día. Estamos aquí independiente de que haya fallado recién está una de las últimas sesiones, que ya tenemos antes de empezar, no sé todo laborar Así que no sea muy justo, Yo le veo presidente de que esto no lo instrumentalizan, necesitamos esta comisión especial vestida era porque gracias a eso a un año mucho nuestros de mi ficado por segundo año consecutivo no van a tener su techo Recién ahora. Estamos tratando de dilucidar las certezas que debería haberle dado el estado o Quiénes gobiernan han De por lo menos de marzo del año pasado y justamente la contraloría se ha pronunciado la última sesión cuando terminamos aquí a las 11 de la noche que por supuesto por su intermedio novia, el cuello hasta la 11 de la noche aquí por los dos se puede escuchar. Yo también tengo rato de estar entonces lugar al mismo tiempo, pero tratar de hacer este punto y yo también quiero que quede el acta que se digan este tipo cosa porque puedo nombrar a todos y cada uno de los ministros que no han dado la cara a los damnificados y no sé cómo lo van a defender porque gracias a una sesión especial. Gracias a esta comisión especial investigadora Porque se cae por faltar un día no le peguemos al resto Porque además como lo dijo el diputado cuello por su intermedio no está viendo todos los damnificados aquí los dirigentes están transmitiendo en vivo a todos y cada uno de ellos y ellos saben perfectamente Quiénes han estado y quiénes no han estado por lo tanto, claro. punto No quiero que hagamos de Este es un tema para escuchar al seremi economía solamente me gustaría solamente me gustaría aclarar, que yo creo que a veces la de generalizaciones solo Dios sabe yo, por lo menos firme está comisión investigadora y estaba re bueno, hagamos de eso tampoco un tema diputados y presidentes esto es muy importante tener un este intelecto al si me permite el diputado tejado intelectual acá yo lo dicho bastante claramente las investigadoras una atribución es una prerrogativa de 90 meses para metales para fiscalizar Y eso lo valoro y lo legítimo y esta función ácido ácido valiosa acentúa Hemos llegado allá hay algo importante entonces acá nadie está está digamos subestimando la labor de la comisión Solamente que también es que se quede letra Usabilidad nosotros por ejemplo, pongo un ejemplo distinto de otros extintos en el caso del escándalo grosero. Míralo impulsamos investigadora y no sé si me escribe el presente voy a llevar la orden creciente porque esto para escuchar entonces parece no quiero presidente presidente le pidió al menos el uno al otro miente el otro está hablando y después si quiere le doy de nuevo la palabra diputado te ha sido fundamental en esto respetar los procedimientos y dije que la democracia y cuando el video hablo lo escuchamos en silencio no fue interrumpido Entonces yo pido lo mismo y yo hablo solamente cuando presienten a la palabra entonces para culminar yo creo que no es sano. Tergiverse, Qué es el fondo se utilice se instrumentaliza al presidente que estamos acá se está dando en espectáculos este lamentable se está creo que es hasta de una forma despreciando también la esencia está comisión el origen de la comisión, no te diga firmar acá que finalmente ha sido la posición quién abandonó esta comisión colocho alborotado que salió la sala de forma bastante cuestionable, que no sé no respeta la gente que no respeta la palabra del otro En definitiva. Creo que estamos, o sea, esta condición económicamente que la pusieron y yo hemos participado Bueno yo digo que acá se está finalmente instrumentalizando, se está aprovechando una situación y tampoco se enfrenta en un recurso sería yo Bueno yo del día siguiente del incendio Yo vivo en los cerros de viña estuve al día siguiente de ahí en adelante con cola familias con la junta de vecinos trabajando con ellos en tu celular. Créame que ser responsable de lo que se hace lo que se fórmula y también Creo que yo diría presidente que se llama al orden de cuidado, te hago porque me interrumpió constantemente, creo que ha sido y respetuoso y eso no corresponde a Sebastián miren, no quiero que se nos vaya el tiempo en esto. Yo creo que sí de usted me pide la palabra se la voy a dar diputado dedo pero pero pero él pero yo creo que al menos si es que va. Sí, Y entonces continuamos con la orden del día allá porque estábamos viendo con damnificados, en bienes nacionales distintas situaciones, porque y vengo feliz porque sabe que solamente faltó voluntad política de quienes nos gobiernan para poder realizar trámite y así lo de mi ficado poder acceder a tener de aquí a fin de año su casa, por eso no estuve yo presente en esta independiente de cualquier cosa presidente hemos hecho las cosas como corresponden Por qué no todo es tan yo creo que ha quedado claro para botar mi ficado de que el acompañamiento del Estado no estado ante su lado y es por eso, que justamente pocos que hemos estado no cierto en la comisión usted también hemos estado acompañando a muchas personas que lamentablemente al no tenés acompañamiento se han visto en cierto, hay personas que se quitaron la vida las personas que perdieron todo. Necesitan la compañía de gente que pueda fiscalizar y voluntad política y eso es todo y hoy día después de mucha presión y Gracias hasta convenciones vestigador A qué Qué pena que se termine porque falta mucho que hacer todavía que le oyó se han estado dando soluciones certeza respuesta a gente que ha dado la cara no ha pedido Disculpa pero han dado la cara y dentro de eso yo lo valoro independiente de eso sí le falta al respeto al diputado, güey, biografis, culpable.com y disculpa Muchas gracias, presente continuo con la orden del día tiene la palabra, por favor. Tiene la palabra seremi Muchas gracias por acompañarnos, no Marcela redondo con micrófono, por favor, el botoncito negro que está en la base, es mi recibo presidente muy buen día y a través de usted también saludar a los integrantes de esta comisión y también a las vecinas y vecinos que están presente bueno, la circunstancia, que nos lleva a estar en esta condición de haber hecho un trabajo en relación con la emergencia está bastante Clara digamos a partir del 2 de diciembre de febrero del 2024, el Mega incendio, además de generar un impacto muy desastroso para la familia también hubo una afectación directa y desde el primer momento lo sabíamos en la economía en el aspecto económico. Domingo productivo y también asociado eso en el empleo a partir del 26 cierran las primeras acciones que era la más prioritaria y era más urgente Y a partir del y el 8 de febrero tenemos la resolución administrativa exenta Y dónde se termina y nos faculta para poder hacer un catastro a través de la ficha de emergencia de empresa y cooperativa, la felicito a la fibra y el objetivo era catastral empresas identificar dónde están localizadas y también a cada uno los empresarios poder identificar las pérdidas que tuvieron que eran pérdidas materiales tanto en lo que era infraestructura equipamiento herramienta. Dddd productos en venta que tenía y también de vehículo con esa ficha, la verdad es que debo destacar de Qué diferencia de otras condiciones de ir en favor de hacemos levantamiento de emergencia es que era muy difícil identificar donde habían empresas localizadas y que perdieron muchas de ellas eran pequeña empresa y en domicilios particulares almacenes de barrio ese tipo de empresa y en ellas se perdió la totalidad Entonces no habían evidencia como lo hicimos a través de un trabajo colaborativo con las respectivas municipalidades logramos tener las patentes de comerciales en nosotros también a través de nuestros de nuestros. No, de sercotec centro de negocios sercotec también teníamos muchos usuarios y finalmente también con la visita a terreno, podríamos identificar Dónde está la existencia de empresa y con ese catastro, empezamos a aplicarla y llevo dos períodos uno fue el periodo normal que se extendió desde el propio 8 de febrero hasta el 23 de febrero y después de hubo un período de risa de rezago y extensión de plazo bastante con bastantes días, digamos disponible entre el 24 de febrero y el 14 de marzo dicho sea de paso y que nosotros la atención nuestra desde el Ministerio de economía ha sido a las empresas formales que tributan en primera categoría, por lo tanto cualquier condición que no cumpliera. bajo esa premisa no podían ser parte del catastro algunos tenían una de verificación inmediata sin embargo, después también hubo período descarte que lo hicimos hicimos un despliegue territorial dividimos en 11, polígono Viña del Mar 2, en quilpué y dos en Villa alemana, con eso hicimos era eso fue diseñado en función de las capacidades que tenemos para poder cubrir durante el día hicimos 22 turno en la mañana y en la tarde y todo esto se hizo con funcionaria y funcionario de cada uno de los servicios dependientes del Ministerio de economía bajo la dirección mía, que me tocó constituir en ese mismo 8 de Pero el comité de emergencia y ahí ya empezamos a trabajar arduamente en terreno con todo la capacidad de funcionar ya que teníamos teníamos la primera etapa formal trabajamos dos coordinadores cada cada salida la hacíamos aproximadamente con 20 funcionarios y usamos 10 vehículos esto Cuándo fue el periodo de rezago donde ya el volumen era menor y había que buscar dónde voy a estar las empresas que no habíamos catastro tuvimos hacíamos turno de 10 personas y revisamos el vehículo. Ahora una vez que teníamos el catastro, se definió a nivel central las iniciativas que iba contemplar para poder ir en ayuda a estos empresarios. Mipyme y fueron 5 que corresponde a la medida número 155 y eso corresponde al programa de emergencia sercotec con sercotec el aporte a cada empresario puede hasta 10000000 de peso para poder reconstruir de su negocio la medida 156 corresponde a un programa de recuperación activa recuperación de corfo y ese era un instrumento que cofinanciada el 70% de la del plan de inversión que los empresarios tenía y el otro 30% es con aporte particular de ellos también trabajaba en la medida número 157 el plan de emergencia de reconstrucción y ahí lo que vimos hicimos un apoyo para los créditos. Dando para empresa que lo necesita y que podrían recuperar tuve una mediodía número 158, Qué es la la mesa de inversión regional y la medida número 159, Qué es la mesa de recuperación productiva que las entramos ahí en el barrio del salto donde habían empresa de mayor tamaño y con daños parciales y totales y pasó hablar de los resultados de la medida número 155 que corresponde al programa de emergencia sercotec Office llamo con este catastro con la ficha 477 empresa de los cuales 62 no fueron factible, Porque no reunían las condiciones y al final con este instrumento de emergencia sercotec hicimos un beneficio para 400. Empresa Este programa ya terminó está cerrado y la verdad es que fue bien inmediato fue rápido el poder ejecutarlo y con la medida número 156 que corresponde al al programa activa recuperación de corfo en ese caso se postularon 83 proyecto y 74 recibieron el subsidio en este momento tenemos hay una rendición del 86% y porque falta para el 100% voy a tu proyecto tiene una duración de 10 meses y hay algunos prorrogado 12 meses a fines de septiembre Babo tener concluido el a la totalidad de los proyectos, por lo tanto ahí se va a cerrar ya este ciclo de ayuda que hicimos a través de corfo es la medida número 157 que corre. Pon the a crédito blandos 79 empresa hicieron solicitud para hacer catastrado accedieron a financiamiento 39 empresa y eso lo hicimos, básicamente con el banco el estado y con garantía corfo y si hubo 39 casos en que postergaron los créditos que tenían dada su obra operatoria normal de anterior al evento y un reborde y un único reordenamiento de deuda Así que eso fue el caso de esa empresa que estaban en función de financiamiento fueron debidamente Atendió decir que la mesa inversión regional no hubo proyecto que hayan ingresado por lo tanto no manda a ese instrumento que pusimos y en la medida número 159, Qué es la mesa de reactivación del barrio El Salto Ahí está ejecutado al 100% hicimos nueces ione entre febrero y Julio incluido el ministro del trabajo el ministro de economía y hubo reuniones bilaterales con cada una de las empresas que se suscriban a esta acción se informo El Avance en la ejecución de su programa y se gestiono el apoyo de tramitaciones sectoriales, dónde podríamos habilitar de los permisos y todo lo que se les venía cuando tenían daño y tenían que reconstruir rehabilitarse en ese caso tuvimos 22 atenciones a los titulares de proyecto y Sigma quiero plantear de Visualizamos en esta acción algunas fortalezas y también creemos que hay puntos por mejorar, que espero que que que pueda ser recogido Por qué en esto hay enseñanza fortalece fortaleza, despliegue rápido de la ficha. Lo hicimos muy rápido, o sea, bueno, había un período condicionante para el período Total que era del 8 de febrero hasta el 14 de marzo en cluido, el período extensión lo otro es que tuvimos una muy buena coordinación entre la seremi, el nivel central los servicios hicimos una reportería diaria y también un buen trabajo con los rezagados donde pudimos ver que con el período que se dio de extensión. Estamos cubriendo la totalidad que podemos registrar de casos afectado. Y hubo una ejecución efectiva ya es cumplimiento al 100% de atención a los beneficiarios y hubo una muy buena receptividad del empresario es solo destacamos no hubo ningún empresario que no estuviese dispuesto a poder trabajar con nosotros muy colabora día Muy atento para también ese transparente en la presentación de las pérdidas que Ellos tenían. Esto se hizo con una aplicación que él aplicador de encuesta azul, rey 1 2, 3 y por lo tanto la información que cada encuestador tenía en terreno, era seguido a nivel central y por lo tanto se trabajaban las bases de datos diariamente todos los días A las 6 de la tarde. La misión de reportar esa la información y después porque aviario se iban verificando también lo trata bien errores de Rusia había que corregirlo en fin y en cuanto mejoría que me gusta esto todavía médica o hacer proyecto Es que creo que hay que fortalecer los canales de comunicación con empresa cuando está situaciones de emergencia ocurren. Yo creo que ahí hay algo por hacer Porque además el sector productivo Industrial empresarial estado catastrados el creo que es muy podría ser muy simple tener una base de datos a la cual acceder inmediatamente para ver la zona afectación y cruzar porque nosotros la verdad que tuvimos que construir un poodle con las patentes comerciales y nosotros mismo era muy Saber que se había quemado todo en un domicilio particular Entonces eso esos datos las empresas tiene Están georeferenciado, pero habría que utilizarla en esto en esto de evento la otra cosa es que creo que la previa notificación georeferencia la empresa puede ser viable en el país también ya lo dije cada empresa tiene un lugar tiene un domicilio y bueno son bases de datos que yo creo que habría que plasmarla en algo que pudiera servir como herramienta para este tipo de esa Lamentablemente y creo que también habría que tener una disponibilidad logística inicial para atender la emergencia productiva separada porque porque no ocurría de que no teníamos disponibilidad de vehículo para ir a terreno porque habían emergencias. Relevante en ese momento y nos quedamos ahí un poco entrampado para hacer la salida de Reno Esto fue enseñanza aprendió a las medidas. Entendemos que la tenemos en muy en orden y con ejecución rápida más que nada por él, Porque tampoco es supernumerario la cantidad de empresas es bastante mejorable, o sea manejable, así que la verdad que este fue un trabajo que hicimos con mucho agrado sobre todo y que no exigía terreno porque nosotros tenemos que ser verificaciones de las empresa en terreno porque la aplicación hace georreferenciación y eso era una condición y Yaqui verificaba la existencia posible de una empresa que nosotros estábamos catastrado la comunidad por laborar mucho también. Entonces no, no sé allá. Akinator tu lugar habrían negocio y eso no la verdad que no sirvió bastante pero eso es una forma de informar que uno la trabaja cuándo ocurren estas cosas y no en otro lugar en otro momento Así que eso presidente le puedo informar en resumen tenemos detalle cada cosa obviamente Y si necesitan información que no presto a que me la pueda solicitar y entregar Muchas gracias seremi por su exposición de joderte, blusa la palabra imputado cuello Muchas gracias presidente saludo al seremi de economía y ella con su posición tengo alguna algunas preguntas que fue mural de primero decir que no solo yo me comuniqué con el seremi en pocos días del incendio porque en el recorrido por la zona secreto Villa Independencia mucha más de la ciudad de alimento leyes comunes Había muchos talleres mecánicos de costura, o sea, distinta pequeña empresa que habían perdido absolutamente todo entonces yo, o sea, primero quiero valorarla la rápida reacción de la serenidad economía el contexto de la emergencia porque son paralelos y a mí me consta que se aplicó la encuesta en paralelo a lo que está ocurriendo en relación de hecho había confusión e con la fila palco al respecto rápidamente y ciertamente karaoke Una una es conocido con ustedes, me tuviste que las capacidades iniciales no siempre son las deseadas porque el fondo y lo que tenemos una una mirada un poco reducida de la de la emergencia de cómo el estado de estar preparado por el feto a la virgencita y la viejita productiva creo que es un aspecto que están al desde ese punto de vista porque está la capacidad inicial Eso significa recurso humano significa vehículo significa la persona se te antoje. Dice parte también de la mirada más integral luego enseguida y quisiera preguntar, no sé si es culpa si lo dejo en su posesión, pero expecto de los el volumen de recursos aplicados sobre todo instrumento de la zona siniestradas enseguida claro, me sorprendes todo y la mesa inversión regional no, no dio no dio fruto o no género interesante llamativo y lo otro es si es posible contar con algún catastro o alguna comparativa, a que me refiero con esto, por ejemplo, saber si envié dependencia o el olivar, Cuántas pequeñas empresas existían antes del incendio, cuántas se recuperaron después del incendio ahora en agosto 2025 porque solamente. Es un elemento importante para evaluar, sobre todo las variaciones en el empleo del fondo, cuál fue el impacto socioeconómico del incendio de puesto está del empleo y se los prometo aplicado ansío apto para para la recuperación, eso palabra residente. Gracias, gracias, presidente Salvador nuevamente por su intermedio acepto al seremi, le quiero contar. Voy a voy a tomar una muestra de la población con respecto a un ejercicio que podemos hacer perfectamente con damnificado. Gracias a Eric porque era que está presente aquí, Qué es damnificado, también realizamos una junta de emprendedores de estos microemprendedores, que ustedes se refirió en los cuales había gente que tenía una panadería y pastelería que tenía un tremendo talento no cierto en su casa también había alguien de un taller mecánico y también había alguien que tenía equipos de música. Guitarras qué arrendaba para pequeños eventos y todo eso ellos estaban envías de formalizarse y de hecho Se sincera, lo dijeron, O nosotros estamos trabajando. Digamos curo, porque no saben, tenían conocimiento de boleta del IVA que podían pagar este trasera Bueno ahí lo acercamos o tratamos hicimos el intento de acercar los justamente con cerco cerco de Qué es algo que cumple esa función y que sabemos que había estado desplegado no cierto en distintos lugares para poder ayudar a estas personas, pero justamente Son ellos, los que no aparecen y le pongo ejemplo como esta persona sacar un crédito personal, no cierto comercial para poder justo se hayan comprado un refrigerador y un horno y se lo llevó al fuego, entonces quedaron definitivamente nuevamente sin nada. El taller mecánico perdió todas sus herramientas y también el que tenía los equipos de música y su guitarra perdió todo dentro de todo esto O sea en tu información. por ejemplo lugares de gente que tenía un minimarket donde la mercadería en total de las teorías, yo como 25000000 de pesos que también se llevó el fuego esta persona recibió cerca de $800000 que vente no alcanza para volver a reponer un negocio Pero algo es algo como dicen que estemos con esa gente que no aparece en los registros que era una alternativa que sea en algún momento de que se pudieran formalizar y aportar no cierto lo significa comenzar como microempresario verdes puede ir creciendo los que somos emprendedores, sabemos que así se parte muchas veces incluso sin permiso y a medida que uno va creciendo desarrollando generando la riqueza y trabajo se tiene que formalizar para justamente entregar trabajo de calidad al sector a la gente que tiene talento y que los buenos podrían ser mi asunto se me gustaría sería si también Tenían un plan para eso porque cuando revisó no sé arto y parte de lo que estamos aquí el informe contraloría dice que algo tan importante como mesa de inversión regional que tiene un 0% de avance si tiene cifras con respecto a eso y cómo lo hacemos con ellos porque vivía Usted sabe que la cifra de informalidad crecido nuestro país no voy a dar la razón Y porqué, pero no es por el incendio y además el programa activa corfo, yo le quiero preguntar directamente por su intermedio presidente el plan de reconstrucción tiene 166 medida de las cuales 34 deberían haber sido adoptadas el año 2024 ninguna medida se cumplió en su totalidad el 11 11 días Tenían un 0% de avance, el 10 tenía menos del 28% de Vans y el resto solamente avances parciales lotería que me hablar en estos términos de en la gestión que realizaron de estas medidas porque usted nombró hay una de la medida de la media, Qué porcentaje avances tuvo el 2024 y hasta la fecha de hoy, cuánto avanzado con respecto a eso principalmente porque bueno, cuando uno revisa el informe la contraloría nosotros encuesta con muchos datos que la gente no entiende que yo sé que usted nos va a poder explicar de una manera sencilla y cuál va a ser la medida que va a tomar no cierto de este 0% de avance de la mesa de inversión regional, que créame que Lo necesitamos justamente para sacar a mucho lo de mi ficados que no ha tenido la compañía miento y por eso muy llegado a esta comisión especial investigadora para buscar la certeza, pueden tener cierto la certeza de seguir adelante 1 2. Eso eso me pregunta por el momento presente. Muchas gracias, presidente presidente bueno saludar al súper cortito, cuánto el monto que que se destino para recuperarla emprendimiento y la empresa como del fisco Cuáles fueron las principales fuentes que nacimiento y yo recuerdo haber ido a varias asamblea de sercotec, estuvieron ahí intentando con la mente la herramienta peluquería en la repostería para tener más o menos un estimado del volumen de dinero fiscal, que si no para recuperarlo emprendimiento. Gracias, preciosa. Gracias, yo quiero comentar brevemente con lo con lo que dijo el diputado tu idea o cómo va el cumplimiento respecto la observaciones que hizo contraloría en atención a la m. de coordinación regional que fue parte de la observación es de primer informe contraloría la mesa inversión regional después créditos blandos para empezar su tamaño y activa cuerpo en relación más que lo y señal Usted en relación a lo que sea lo contraloría contraloría hizo algunas observaciones Quisiera saber si es que se hicieron cargo aquella observaciones y en atención a la cobertura Quisiera saber los que tienen catastrar la cobertura total de los apoyo a los emprendedores en atención a el daño producido es decir tiene certeza de que efectivamente llegaron a todos los emprendedores que fueron siniestrados producto del incendio y que lo perdieron todo Yo entiendo que los recursos Obviamente que no todos le van a cubrir todo pero pero me interesa saber si es que hubo una cobertura total, por qué se lo digo porque al igual que en el caso anterior no nos pasa Yo creo que hablo varios diputados de que nos encontramos con emprendedores que nos dicen que no le llegó ningún ayuda o qué la pregunta fue tan a raíz de la ficha fibe Esto fue de la noche a la mañana, pero tanto se llenaron fichas mucho sin el conocimiento de cómo se llenaba o quizás las preguntas no fueron las adecuadas y no se tuvo la noción el conocimiento de que esa persona había perdido su emprendimiento entonces hay un catastro había una segunda lectura y revisión porque a mí me preocupa cuando dice que se se van a cerrar ya el tema de las ayudas y sería bueno quizá mantenerlo abierto porque probablemente vamos a tener situaciones de personas que Finalmente nos ayuda el estado no llegó Entonces qué posibilidad de que estás ayudas o estos programas que en abiertos para efecto de detectar situaciones que nos han detectado y cuál es la cobertura Total que han tenido en relación a los cines traduces seremi denuncia la palabra Muchas gracias cada pregunta y voy a responder en orden de acuerdo lo que me pregunta el diputado cuello Villa Independencia bueno efectivamente Villa Independencia fue uno de los lugares que concentro había una alta concentración de empresa y esa servicio debidamente atendida y algunos postularon a sercotec y no los descalificar para que postular a corfo también de manera que si el monto requerido después de haber sido usuario de sercotec también podían optar al proyecto activa corto en relación con la mezcla de inversión de interés, yo voy a leer textualmente Porque estos días no la definición y la verdad que no no tuvo demanda es descripción estrategia integral Deco Ordenación y acción conjunta entre el Ministerio de economía fomento y turismo y el gobierno Regional de Valparaíso orientada Identificar y gestionar los obstáculos que afecta una cartera de proyectos regionales de inversión obstáculos esta iniciativa se fundamenta en la necesidad de optimizar la gestión de los recursos económicos y potencial desarrollo regional garantizando una ejecución eficiente y oportuna de proyecto más bien esto era una un trabajo que podríamos hacer si que alguna presa tenía una impedimento sectorial algún permiso alguna era más bien cualitativo y no cuantitativo lo hago la diferencia el otro contar con catastro comparativa si esto podría hacerse a través de hacer el requerimiento a nuestros servicios en sercotec y también acor. Cada uno tuvo su su grupo de beneficiario y están debidamente identificado Así que se puede contar con esa información en la medida que sea solicitada una de las instituciones en relación a lo que no sé si le completado los objetos en relación a lo que manifiesta el diputado te habla de muestra de población de damnificado emprendedores a los que me refería el que tiene casa taller guitarra de herramienta y han perdido herramienta importante estacar que todo instrumento que que implementó el Ministerio de economía son para empresa que efectivamente tributan en primera categoría y había una serie de verificaciones porque sino contar con la carpeta tributaria era imposible poder ejecutar este instrumento. Así que ahí Creo darle respuesta usted diputado acerca acerca de sercotec mencionar que sercotec tiene instrumentos que todos los años y son qué son que se abren y que cada emprendedor en esta condiciones puede postular lo lo que ocurre En qué en condición de incendio era más directo y era una atención es buscando quién había perdido pero en este momento y cualquier programas el correo cualquier programa corfo está abierto para cada uno los empresarios o de los emprendedores que no tienen la condición todavía de empresa registrada en el servicio puesto interno Y con todo lo que eso implica de manera que yo invito a que eso es empresario puedan revisar lo que haya Sercotec corfo y también dejamos la puerta abierta Por supuesto en la seremi, ahí siempre lo hemos hecho muchos emprendedores y empresarios tienen falta de información de la podemos complementar Así que yo diría eso también diputado el otro en minimarket que tuvo una pérdida aproximada de 25000000 de peso y recibió $800000 es muy probable Este no es un caso ni sercotec menos corto y muy probable que haya recibido una asistencia a partir del fosis porque ellos si entregan hasta un millón de besos a emprendedores Entonces yo creo que tenía un gran negocio Pero esta era informar Por así decirlo no cierto Entonces qué hacemos con esa empresa Como le digo cualquier emprendedor cualquier persona que tengo un proyecto una idea de negocio. Tiene año año la disponibilidad de los programas que dispone golfo y se corre como cualquier persona que que tenga es entre No necesariamente haberse visto con esta afectación tan terrible, digamos ya y el programa activa corfo usted me pide cifras y se la voy a indicar en verdad no podría dejar esa canción mire en el caso de activa corfo la disposición de recurso fue de 2 billones 2000000000 783 1157 $10 de los cuales llevamos un 86% pero es porque los proyectos cuándo empezaron a ejecutar se tiene un plazo de 12 meses y son 10 12 meses. Qué tiene un acompañamiento porque trabajamos a través de un operador es donde los planes de compra que han definido los propios empresarios van siendo asistido en esos 10 meses y ahora en septiembre y el 3 de octubre estamos terminando los últimos que quedaron en cluso considerando lo que tiene aplazamiento de plazo por 2 meses dicionales como empezaron el año pasado, No han terminado y por eso que no tenemos la ejecutabilidad del 100% Así que ese es una cifra. La otra cifra es la de sercotec. Se la voy a entregar también y está en la en el archivo que le entregamos sercotec en fue un plan de inversión aprobado de 3786 mil millones mil millones 8470 esto suma entre golfo y sercotec 3,6 coma 6. 1000000000 de pesos se fue el aporte que entre ambas instituciones hemos entregado 6,5 Y con eso creo haberle respondido el hecho de que los plazos los avances usted quería que le manifestará Cuánto se avanzó el 2024, pero resulta que el 2024 todavía las personas estaban recién habían a jubilado proyecto. Entonces han tenido todo este plazo incluso Hay posibilidad de no ejecutabilidad el 100% Porfa y el premio empresario que no ha tenido la disposición de poner el complementario. Eso es yo te digo dado hoy bañé, el monto destinado, creo eso aclarado, justamente con la exactamente este presidente longton diputado la mesa de coordinación regional explique de Qué es un Una colaboración que muy similar al gabinete ebro crecimiento y empleo donde no hemos dedicado los seremi de economía acelerar inversiones privada Chávez del restauran viento de permisos sectoriales no me ambientales Y que ahora bueno viene a corregir c&a y darle estructura del país con la nueva ley de permisos sectoriales Así que eso es lo que le puedo decir la cobertura total de apoyo a emprendedores en relación al daño yo creo que tenemos una buena medida que la podríamos generar a partir con los datos que tenemos en corfo sercotec Quizá si ustedes van a hacer la consulta la institución es hacer eso también porque son antecedentes primero fidedigno y también. Hemos dado cuenta de que la reactivación económica sobre todos los pequeños locatarios ha sido bastante exitoso. Están en muy buenas condiciones de hecho cuando vamos nosotros vemos qué bueno, además de haber recuperado y a pesar de todo el ánimo de hacer cosas. Vemos que que los emprendimientos eso están con un soporte técnico Al haber trabajado con estos instrumentos sercotec corfo Y eso lo prácticamente han hecho una capacitación un entrenamiento para hacer negocio y creo que hay bastante que están mejor, así que creo que podríamos satisfacer ese requerimiento y la cobertura total, a ver como tuvimos un pedido de rezago más largo, que el primero creo oficial, la verdad que hicimos búsqueda revoque. Hicimos ciclos de repetición en cada lugar, por lo tanto creemos que sí estamos acá, vamos el tema y prueba de ello Es que después hubo gente que empezó a preguntar y la verdad que la mayoría de ellos era porque pensaban que podían ser beneficiario de esto, pero no, no era el instrumento adecuado para ello y los que si tenían razón, que por uno u otro motivo quedaron es rezagado Más allá del periodo que habíamos dado igual fueron tomados en cuenta y adicionados a la lista porque la resolución del del 8 de febrero m facultada para eso y los emprendedores no llegó ayuda Esto creo que hay que separar a ver si entendemos en pre. Lloré por alguien que no está formalizado lo más probable que lo que usted me dice diputado tenga relación con el apoyo fosis y no Corzo Seco de que no logro Violeta ministerio Yo me refería formalizado su sercotec corfo, pero pero muy muy muy muy corto y si día que hicieran aquellos que quedaron fuera de sercotec corfo teniendo las condiciones los requisitos para poder postular estos recursos podrían hacerlo podrían hacerle daño Abriga institución, no, pero pero por él por los damnificados a propósito de los de las catástrofes ese se terminó el plazo para postular a los fondos que tenían que ver con damnificados ya fui a relación con las resoluciones a del 8 de febrero así lo estipula. Pero esa resolución podría modificarse el punto de vista del acceso la oportunidad el momento que estamos hablando con una gastro fe bien grande, por lo tanto los particulares y situación está viendo casa. Me la sé muy distinta Entonces razonablemente, si es que se están perdido de reconstrucción de viviendas 10 o a terminar y se va aplazar, probablemente por el 2026 400000000000 1 entendería y que todas las ayudas que van en la línea paralela, a esa reconstrucción deberían estar esa línea del y atractiva y probablemente porque hay situaciones que por retraso demora o bien porque la familia no tenían toda la información, Se puede se pueden dar y ser Injusto que quedarán fuera familia que cumplían con los requisitos. O sea presidente y si te mire solo respecto de la información que plantea al seremi por su intermedio sobre la comparación entre el período anterior al incendio y posterior respecto de la reclusorio conomica y bueno tal como surgir servir mandar un oficio, pero creo que no sé si operar de los servicios. Yo más bien Creo que tendré que dirigió misterio conomía para que regula la conoce los servicios porque no sé. Creciente reglamentariamente nuestro plazo en sueldos y esta esta sesión fue una excepción que le hablé con el secretario general y citamos entonces para afinar conclusiones y recomendaciones y en ese sentido Escuchar algunas expositores que nos quedaron fuera, pero ya no estamos en el plazo para remitir oficios alcanzar tampoco contesta fisio por la vida de forma individual y con quién quiera sumarse, gracias. Entonces no se puede pedir oficio pero aquí a ocho el punto y si usted lo quiere permitir a título como diputado y quiere invitar, no a todo el resto cantado desuscribir lo diputado te hago Muchas gracias al presidente yo justamente iba a ser la misma pregunta que había hecho con el Gustavo longton, me queda claro conozco las leyes, pero igual no puedo dejar de hacer una pregunta, por qué está comenzó? La están siguiendo También muchas personas que hoy día no están regularizadas y que vienen lugares donde para formalizarse no pueden tener una dirección. por su intermedio presidente del seremi, Yo creo que usted conoce como es el territorio y las condiciones de muchos microempresarias, Qué día están en distintos, polígono poblaciones y sectores no cierto que también son afectadas por el incendio Entonces como Nosotros hemos tenido aquí varios ministros que han llegado diciendo y que todo lo que todos sabemos, no sé si como para excusarse o qué, pero que está sido uno de los incendios más grandes de nuestro país y una tremenda catástrofe no se ve reflejado las ayuda y el acompañamiento pero si la grandilocuencia y en ese aspecto y basándome en eso que han dicho todo y cada uno lo bonito que venía para acá Existirá dentro del alguna especie de permiso especial Porque habían microemprendedores hoy en asentamientos voy a hacerlo irregulares que viene emprendedores ahí no están formalizados por la razón que le explicó Que obviamente no tenían una dirección donde establecerse pero día decreto municipal que pueden ayudas para eso microemprendimientos digámoslo, así que tenían lo pregunto yo soy yo conozco la ley dice la respuesta pero no de no puedo dejar de hacer esa pregunta porque también fueron afectados por el por este mega incendio y hoy día obviamente están a la deriva Cómo le digo perdieron todo y no se han vuelto digamos reponer dentro de su ilegalidad que está Mira pregunta y por otro lado presidente no es una pregunta para sujetar yo, pero como acaban de informar de que no podemos hacer oficio y lo voy a hacer a traer otro día le yo le quiero Y aprovechando y para que quede También el acta de esta comisión especial investigadora la ministra Desarrollo Social Quién es la encargada de generar no cierto y recibir las fechas y decir Quiénes son los septos las personas afectadas al igual que el subsecretario del interior aseveraron de que ellos se habían pagado 6 meses los bonos y aquí tengo Revista porque no hemos demorado juntos los damnificados hacer una recolección de todas las personas que no han recibido el bono por los 6 meses de los cuales ellos deberán haber pagado entonces yo voy a oficio, quería entregarle. Está 72 personas que tienen ficha, Qué bueno general, que no recibieron los 6 meses que solo recibieron 3 y otra vez de eso oficio, yo quería pedir que se le restituya no cierto los tres meses que aseveran estos dos ministros haber pagado porque entonces la plata si está que se lo restituyan a estas personas yo lo voy a hacer obviamente de oficio porque ya no lo voy a hacer la comisión, pero quería dejarlo Igual constatado dentro de las actas de esta condición y le vamos a hacer llegar justamente todos y cada uno de esto también fijados para que se le restituya los 3 meses que no se les pagaron porque tenemos el acta de nuestra comisión de qué tanto la ministra Desarrollo Social como el ministro del interior dicen que se pagaron 6 meses. Tú eso Muchas gracias presiente se dio cuenta del resultado 284 kinder puse yo en el mes de febrero y ya se pagaron centro 400 día que estaba mal pagado, estaba mal pagado a decir verdad fueron dos es eso frondoso frondoso fueron dos jornadas brutales porque llegó mucha gente hicimos la mayor cantidad, que pudimos le pedimos al ministerio que que lo revisara. Tema ya de los que habíamos presentado desconocemos si es que efectivamente se realizó en esos términos de hecho el oficio planteamos eso, pero también eso da cuenta de que no se pagó bien, no se pagó bien o sea, sí, sí, es una de 284 habían 119 efectivamente mal pagado no me cabe duda que deben haber allá afuera mucho Otro que no lo es tanto, sé sumar me lo que usted plantea diputado te hago y efectivamente aquí hay que hacer una revisión mucho más hechos, tía mucho más que su tía la prosecretaría mañana pedido la palabra antes de cerrar la orden del día siguiente a traer su yo necesito el acuerdo de la comisión Cecilia parece Porque así como no se pueden permitir más oficios tampoco se pueden recibir más respuestas porque ya terminó el plazo legal de la comisión. Solo se prorrogan 15 días para conclusiones y afinar las pro. Quería pedir autorización para poder recibir respuestas hasta el martes 19 para darlas cuenta el miércoles y mandársela a su correo, el mismo martes Por cuánto Aún está mandando respuesta del ministerio Hacienda caba informar que va a mandar la respuesta de su oficio entonces, pero para que yo necesito la acuerdo a la comisión Por qué es una Norma que no está así dispuesta reglamento recuerdo perfecto algo más que agregar Bueno si no hay nada más que agregar a ser por supuesto intento ubicar instrumento que para persona que no se han formalizado puedan acudir a y yo y son dos bastante. Conoció y por sercotec porque porque lo toma es emprendedor y uno de los objetivos esenciales formalizarse uno de ellos capital abeja para mujeres y el otro es capital pionera, Qué es para mujeres, pero que hacen labores o trabajo en un negocio que tradicionalmente ha sido masculinizado solo los dos que se me vienen a la memoria, que tiene esos requisitos Ahora no encuentro todo instrumento que no sea para el empresario con primera categoría tributaria. Aprovechen o bueno, si es que no, si es que no hay más pregunta y que ando en los cinco minutos obviamente hoy día de forma muy extraordinarias estacionamos todavía para escuchar audiencia agradecerle el seremi que estuvo acá con nosotros, pero yo creo que Nobleza obliga también agradecer a todas las personas que nos acompañaron en esta sesión desde el día 1 obviamente la ciudadanía está muy encima este tema y yo creo que cada uno quiere no acompañado con alto y bajo hasta Tuvimos una que estuvo un poquito. Que tuvo un problemita y de salud, pero pero agradecerle por habernos acompañado a veces a veces pudo haber sido complejo Pero al final también era necesario y es positivo para la democracia que esto ocurra si quiere hacerla todos los que nos acompañaron agradecerle también a los que hicieron la la transmisión ahora obviamente desde el día martes tenemos 15 días para para redactar y botar las conclusiones. Yo solamente quería citar las palabras del ministro Montes que dijo él está Emma comisión a propósito esta comisión investigadora ellos tuvieron que sentarse con su equipo a revisarla revisar cómo iba la reconstrucción y que eso le había ayudado mucho para destrabar algunas cosas las comisiones investigadoras son importante. Es un ejercicio que a veces está subvalorado en la cámara diputado diputado, pero que nos permiten justamente fiscalizar presionar por lo que hay que presionar y sobre todo también darle una voz a las personas que están que fueron damnificada o que tienen distintos distintos problemas y también construye una historia todo lo que se discute aquí pasa a ser parte de la historia de chile. Y probablemente mucha gente más adelante va a revisar, Qué pasó acá entonces Gracias a todos a los diputados que diputados y diputadas que siempre estuvieron presente algunos que tuvieron inconveniente saludar obviamente la diputada marzán, que tuvo el fallecimiento de un ser querido. Gracias Y también. Gracias a la secretaría por el esfuerzo de estar ahí permanentemente dentro de lo que ocurría la situación es que obviamente una de la comisión investigadora con más. Con más audiencia nomás que la lista de espera me de Mega incendio, pero el top 3 en el top 3 sin más y voy a ver si cumplió el objeto las sesiones que se levanta Muchas gracias.",
         "2025-08-14",
         "Comisión Investigadora Reconstrucción Incendios / Jueves 14 agosto 2025",
         "https://www.youtube.com/watch?v=elQPyqQzE94",
         "0.0",
         "11203.3"
        ],
        [
         "1",
         "2",
         "76",
         null,
         "4563",
         "sea por aprobar un objeto de observaciones del acta de la sesión número 17 queda a disposición de las señoras y señores diputados las secretarías abogada, amablemente de la lectura la cuenta secreción Te tenemos los siguientes documentos para la cuenta un oficio de la municipalidad viña del mar por el cual, la respuesta a las siguientes consultas realizadas por la comisión posibilidad optar las medidas necesarias para desmalezar y limpiar las quebradas aledañas, a las zonas afectadas por el medio incendio invitar una agenda atención preferencial para los damnificados remitir registro de entrada y salida de los materiales de construcción recibidos por el municipio informar estado de sumario administrativo incluido en contra algunos funcionarios municipales que habrían incurrido en conductas discriminatorias de hostigamiento algunos damnificados o qué revelaron datos personales Y a propósito de la negativa, un funcionario municipal de recibir en el centro de acopio de Viña del Mar después de la 19 hora una partida de colchones por haber terminado su jornada de trabajo Se lo solicitó evaluar, la posibilidad incluir una investigación sumaria lo que has contestado en este oficio por la señora, alcaldesa y finalmente la participación de la oficina de arquitectos elemental en el proceso de reconstrucción el documento por el detalle todo tu oficio porque un solo piso presidente contesto todo fueron remitidos los correos de los integrantes de la comisión un oficio la municipalidad de quilpué por el cual se refiere a la solicitud de habilitar un agenda atención preferente Para tonificar y comunica que desde el inicio la emergencia dirección implementó medidas tendientes a facilitar y priorizar la atención de los vecinos y familias afectadas por el siniestro un oficio al ministerio desarrollo social por el cual se refiere a la ejecución presupuestaria del fondo emergencia transitorio por incendio la cantidad recursos contemplados para tensiones y el tratamiento de Salud Mental en la ley 21081 y los montos efectivamente Ejecutados a la fecha materia Salud Mental un oficio al director ejecutivo de texto en Chile por el cual informa la cantidad de viviendas construidas en el marco del proceso de reconstrucción y la forma en que se destruyeron y los sectores En dónde se instalaron junto con un mapa del lugar un oficio al ministerio Hacienda por el cual indica que dentro de las competencias de la cartera le corresponde la administración del fondo Nacional de reconstrucción que canaliza aporte de privados para la reconstrucción de infraestructura afectada por la catástrofe en el mismo en el marco el funcionamiento de ese fondo indica que se asigna un total de 222959350 pisos para el financiamiento un proyecto de vivienda en el sector olivar, qué beneficia cuatro familias siendo el municipio de Viña del Mar la institución a cargo de su ejecución señal además que la secretaría técnica del fondo promovió la participación de organizaciones privadas sin fines de lucro en el financiamiento de obras del plan de reconstrucción y detalla los proyectos habitacionales financiados y gestionados por los privados de los que tiene conocimiento. un oficial Ministerio de interior por el cual informa que derivó al ministerio Desarrollo Social la solicitud de remitir copia el plan maestro que contiene el modelo de gestión utilizado en el proceso de reconstrucción un oficio al ministerio interior por el cual se refiere a la solicitud detallar diversos aspectos del fondo emergencia transitorio por incendio indica que la administración de ese fondo corresponde el Ministerio Hacienda y que en el sitio web institucional de la dirección de presupuesto se publica mensualmente de ejecución presupuestaria correspondiente a cada periodo mensual y anual incorporando la apertura de comillas la ejecución fe incendio Asimismo señala que está cartera no ha ejecutado fondos concernientes al fondo consultado un oficio al ministerio interior por el cual informa que derivó a la directora el servicio nacional de prevención ante desastre la solicitud apoyar a las familias afectadas de la entrega un kit de emergencia por tratarse materias propias de su competencia un oficio al ministerio desarrollo social por el cual informa que le digo a la directora del servicio nacional de prevención desastre la solicitud apoyar a las familias afectadas través de la entrega de un kit de emergencia anterior ministro interior ahora el Ministerio Desarrollo Social un oficio al Ministerio de economía por el cual informa que derivó al ministerio Hacienda la solicitud de esta comisión para pedir al presidente el banco estado pronunciamiento sobre la factibilidad de otorgar a los damnificados del incendio un crédito especial con 0% y Tere y condiciones flexibles de pago considerando que dicha institución bancaria se relaciona con el gobierno a través del ministerio haciendo una fijo el Ministerio de Hacienda por el cual se refiere a lo anteriormente señalado decir a la factibilidad que el banco estado torín crédito especial flexible con 0% interés para los damnificados del incendio un oficio el Ministerio desarrollo social por el cual remite un informe de la subsecretaría de servicios sociales para que se refiera a la pizza emergencia básica ya las familias cuyas viviendas resultados parcialmente dañada por el fuego Por cuánto tiene a su cargo la administración del sistema información social en emergencia que con Tiene los catastros de caracterización socioeconómica levantados a través de la fibra, el Ministerio desarrollo social por el cual remite informe sobre sistema de gestión para el seguimiento del plan de reconstrucción y carta gantt del plan de reconstrucción un oficio la secretaría regional Ministerial de vivienda y urbanismo el paraíso por el cual informa la cantidad de viviendas construidas con fondos privados o de terceros ajenos al estado y el destino de los recursos liberados, un oficio de la secretaría regional Ministerial de vivienda y urbanismo al paraíso por el cual se refiere a las ayudas a entregar las familias afectadas por el medio incendio la región que habitan asentamientos irregulares en el marco el proceso de reconstrucción un oficio la secretaría regional Ministerial de vivienda y urbanismo Valparaíso por el que indica que el cuestionario preguntas realizadas por el arte diputado hotuiti teao drago Fueron respondidas por el mini ministro en la sesión del día lunes 11 de agosto pasado instancia en la cual se entregó copia de la presentación que contenía las preguntas plantea sus respectivas respuestas los parlamentarios presentes un oficio la secretaría regional Ministerial de vivienda. urbanismo el paraíso por el cual se refiere a la diferencia entre los subsidios regulares y los subsidios otorgados en el marco el proceso de reconstrucción del medio del 2 y 3 de febrero, el 2024 oficio la secretaría regional Ministerial de vivienda y urbanismo del paraíso por el cual se refiere a los avances de los estudios sobre la condición de las techumbres en las viviendas de viña Costa Sol de la comuna de quilpué oficio la directora regional subrogante el servicio y vivienda y urbanismo el paraíso por el cual informa la aplicación del subsidio directo respecto a la familia del comité de vivienda esfuerzo por un sueño la comuna de quilpué las razones por las cuales no se incluyo el catastro Nacional de campamentos del año 2023 Y la aplicación del artículo 1 numeral 4 dela ley 21081 que crea el Face por incendio para la reconstrucción en lo relativo al quisición de terreno oficio de la directora regional subrogante el serio, el paraíso por el cual se refiere el catato viviendas construidas y terminadas y el número y ubicación de las unidades que se encuentran en proceso de ejecución oficio de la directora Regional del serviu, por el cual se refiere en el marco el proceso reconstrucción en la entrega asesorías técnicas las familias damnificadas que optaron por la auto construcción de su vivienda oficio la directora Regional del serio al paraíso por el cual se refiere el bono cogía al gasto albergue transitorio y al reajuste en unidades de fomento un oficio la secretaría regional Ministerial de vivienda y urbanismo Valparaíso por el cual se refiere a la solicitud de recibido en audiencia a familias damnificadas por el medio incendio oficio la secretaría regional Ministerial de vivienda y urbanismo el paraíso por el cual informa las soluciones adoptadas por el Ministerio de vivienda en relación a los cuatro y pareos que el momento el siniestro se encontrará habitados por una más familia considera hina. El marco el proceso reconstrucción oficio de la directora Regional subrogante del serviu, Valparaíso por el cual se refiere el personal del Ministerio de vivienda destinado a la región de Valparaíso para atender aspectos relacionados con los permisos edificación en el marco el proceso de reconstrucción oficio la subsecretaría de Hacienda por el cual informa que derivó al ministerio Desarrollo Social la solicitud remitir copia del plan maestro que contiene el modelo de gestión utiliza el proceso de construcción y la región de Valparaíso tras los incendios febrero 2024 una nota la banca al partido por la democracia por el cual comunica que la diputada señora Elia Molina reemplazar a la diputada señora Carolina marzán, en la sesión de hoy y finalmente Presenta una nota al comité mixto socialcristiano nacional libertario independientes por el cual comunica que la que el diputado Roberto Arroyo reemplazar a la diputada Sara contra la sesión de hoy Gracias Gracias alguna observación sobre la verdad de cuenta. Se ofrece la palabra para varios no hay ningún bendiciones y propuestas que ha de incluir en su informe final se presentaron cuatro propuestas de conclusiones de los diputados Andrés Celis Andrés longton y Luis Fernando Sánchez la diputada Carolina marzán Francisca bello y el diputado Diego Ibáñez diputado autito y como cuarto también de la diputada Carolina marzán, en este orden fueron recepcionadas la secretaría y en ese orden serán votadas en el día de hoy secretaria, por favor, se puede dar lectura a las meras conclusiones que ingresaron gracias. Dime a Torres está mirando porque le habla hoy en venir al senador Ah ya Perfecto perfecto Bueno entonces te las propuestas de conclusiones y recomendaciones de los diputados señores Andrés Celis montt Andrés longton Herrera y el diputado Luis Fernando Sánchez ossa, Ibiza Si amas de los 16 meses del devastador incendio que afectó a la región de Valparaíso en febrero de 2024 los datos de ejecución presupuestaria revelan una preocupante lentitud en el uso efectivo de los recursos del fondo emergencia transitorio por incendio ley 21081 Cristina hasta 800 millones de pesos para la reconstrucción 800000000000 Las cifras generales son elocuentes por el retraso que digan ser tanto respecto de los estándares internacionales como el abundante experiencia nacional en materia catástrofe, pero lo más reprochable es el mal manejo específico de la reconstrucción habitacional conclusiones 1 sentimiento abandonaste la nula respuesta al gobierno la tragedia qué significó el incendio que asolo las comunas de Viña del Mar quilpué Villa alemana en febrero 2024 no se quedó solo las pérdidas de Vidas humanas y en la destrucción de los bienes muebles inmuebles ubicados las zonas afectadas Lamentablemente en la tragedia se ha extendido Durante un año y medio se sigue extendiendo por causa de un en eficiencia excusable del estado en un contexto en que nuestro país cuenta con el Mati va legal vigente como la ley 16,28 y dos refundida con el decreto número 104 1009 67 que entrega facultades extraordinarias para el poder ejecutivo y en particular al presidente de la república para actuar en caso de catástrofe resulta injustificable que habita 18 meses le ocurrió el incendio con dos. Inviernos entre medio la enorme mayoría de las víctimas, No cuenten con una solución habitacional efectiva la misma ley de presupuesto vigente, contempla líneas específicas de gasto y recursos para enfrentar la reconstrucción durante el desarrollo sus labores la comisión investigadora escucha representante de las víctimas de la gran mayoría de los sectores de mi ficado de las comunas de Viña del Mar quilpué Villa alemana siendo el sentimiento y la conclusión generalizada tanto de los damnificados cómo está cámara de diputados que los órganos del Estado encargados de la reconstrucción aprendizado el apego a una serie de trabajo gráficas x sobre el respeto a la dignidad de la familia afectada dignidad que sean para no solo en palabras de buena crianza sino que nuestra constitución política tiene el espíritu de nuestra legislación de emergencia el mencionado decreto 104 1009 77 espíritu que sea visto gravemente infligido dos avances suficiente frente a la magnitud del daño se ha logrado constatar la existencia subsidios nominados y horas en q. qué vistan de la realidad de las necesidades reales que requieren las víctimas del incendio quedando universo hogares que aún carecen de una solución definitiva conformando la mayoría de la población afectada de estos antecedentes se puede dar cuenta que la administración ha comunicado avances de vivienda como terminadas pero sin contar con antecedentes que permitan verificar se han sido entregadas o habilitadas según estándares de recepción de obra servicios básicos conectados actas etcétera para tener un debido control de la calidad de las viviendas entregadas se deben poner los esfuerzos en certificar la habitabilidad mínima de estas con especial consideración de las conexiones de agua saneamiento suministro eléctrico servicio sanitario exetera esta actividad podría ser desarrollada por medio de cédulas de entrega con techlift únicos con un corte quincenal de avance con la debida publicación por Barrio O sector y contratistas a cargo de las obras 3 ejecución y compromisos del feto rezagados a más de 16 meses el devastador incendio que afectó a la región de Valparaíso 1024 los datos de ejecución presupuestaria revelan una preocupante lentitud en el uso efectivo de los recursos del fondo emergencia transitorio por incendio Qué es tinas Tacho siento mil millones de pesos para la reconstrucción la cifra generales son elocuentes por el retraso que evidencian tanto respecto estándares internacionales como la del abundante experiencias nacionales materia catástrofe de Lomas reprochable es el mal manejo Pacífico de la reconstrucción habitacional de un total de 4609 viviendas dañadas y transcurridos 16 meses solo 3670 Son consideradas hábiles para el subsidio quedando 939 familias marginadas una solución habitacional solo 114 casa se han construido yo soy 866 están en ejecución 2680 casa están rezagadas sin considerar la 939 inhábiles solo 2748 familias han sido nominadas para el subsidio habitacional quedando 922 rezagadas además de la 939 que no son No se trata un problema presupuestario puesto que la ley 21080 y 9 kg F publicada, el 1 de julio de 2024 toluco hasta 800 mil millones de pesos para ser ejecutados a través del servicio de vivienda y Urbanización del paraíso, pero al ritmo de avanse la reconstrucción estos recursos que legalmente expiran en 2026 nos alcanzarán ejecutar pies a estar disponible desde hace más de un año. esta ley no solo creó el feto por incendio con vigencia, hasta el año 26, sino que introdujo un mecanismo de financiamiento vía un impuesto sustitutivo el 12% de las utilidades acumuladas de empresa registro rai con plazo hasta enero 2025 para nutrir Tito fondo Asimismo definió que los recursos podrían destinarse una amplia, gama de finalidades de recuperación planificación urbana proyectos de inversión pública reparación y reconstrucción de vivienda adquisición de terrenos demoliciones habilitación de espacios público además de subsidios productivos laborales y psicosocial es la diferencia entre hogar está mi ficado sí viviendas dañadas Explica el proceso de catástrofe la ficha básica de emergencia fibe levanto Mateo 1500 registro hogares afectados Posteriormente la ficha 2 del Ministerio de vivienda contabilizo alrededor de 6500 viviendas o previo identificados identificaron dos finalmente 4609 unidades habitacionales con daño La población considerada hábil para subsidio corresponde a propietarios o cónyuge de esas viviendas dañadas que no poseen otras viviendas habitables mediante el decreto supremo 34 de octubre 2024 y ministerio vivienda a la elegibilidad para incluir en forma excepcional la propietarios una segunda vivienda en ciertos casos adultos mayores personas con discapacidad o perteneciente al 60% más vulnerable del registro social de hogares así como hago propietarios de viviendas pareadas cuatro y pareos no obstante al 31 de Julio 2025 aún permanecían 915 familias clasificadas como no y no hábiles sin acceso a los subsidios habitacionales de reconstrucción 4 mhz. El Ministerio de vivienda y urbanismo en la aplicación de las facultades que le concede la ley para facilitar la reconstrucción el Ministerio vivienda y urbanismo posee la potestad reglamentaria para facilitar la reconstrucción a partir del decreto supremo número 332 además de otros instrumentos cuenta con láser. 500 y facultades necesarias para enfrentar un proceso de reconstrucción como ya se hizo exitosamente en ocasiones anteriores inexplicablemente estas herramientas no se han utilizado adecuadamente en esta oportunidad Incluso el propio ministro modificó el citado decreto introducción de exigencias que conspiran en contra el sentido de urgencia requerido básicamente se trata un profundo error conceptual Cuándo es pretender aplicar criterios y lógicas propias del régimen de normalidad a una situación de catástrofe En qué se debe primar la urgencia social las familias que lo perdieron todo no pueden ser tratadas como postulantes habituales al subsidio habitacional y sometidas a la burocracia tiempos normales más aún cuando no se trata un incendio particular sino de una catástrofe catástrofe en que el estado le corresponde en tanto uno o funcionarios del Estado presuntamente involucrado en el delito de incendio dos responsabilidad del estado de la falta de planificación urbana 3 evidencia de una mala gestión de la emergencia por parte de los organismos. De 4 hay responsabilidad del estado por falta de planificación y ejecución de planes de emergencia a nivel regional de los municipios 5 hay sectores que se quemaron por no haberse realizado las labores de limpieza preventiva por parte de los municipios, la respuesta del Estado no puede por tanto excluir personas y familias damnificadas bajo el pretexto de exigencias propias de una política habitacional, sino que debe propender a solucionar los efectos de la catástrofe con la mayor rapidez y eficacia posible los requisitos exigibles para que una persona sea considerada hábil para recibir un subsidio en el proceso normal de postulación al subsidio habitacional no pueden ser los mismos que se apliquen en una emergencia o catástrofe en el caso de una catástrofe se trata de reponer su vivienda familias que lo perdieron todo lo que ocasiona una emergencia social de magnitud reponer la vivienda a las familias damnificadas debiera ser la primera prioridad del plan de reconstrucción por cuanto el mayor impacto económico Social para esa familia la falta de vivienda. Negligencia no se queda solo la administración de la reconstrucción por parte del Ministerio de vivienda y urbanismo, sino que la comisión especial investigadora recibió de primera fuente el testimonio de los representantes de las víctimas Quiénes estuvieron en más de una oportunidad que la máxima autoridad del ministerio el ministro Carlos Montes Noa promovidos pasos para escucharlos directamente lo que constituye no solo una falta de sensibilidad ante la tragedia humana sino que una desconexión con la ciudadanía por la cual se deberá velar desde los espacios de poder Para repartir tabla y la las conclusiones que le puedan seguir también están en el WhatsApp pero que las tengan Ahí vamos en la página 45 inexplicable respuesta de la Administración ante casos de damnificados con más una vivienda Sí Dentro de esa familia y algunas que posee más de una vivienda no solo no se les puede aplicar esa causal de inhabilidad propia del proceso. El mal de postulaciones ni mucho menos se perjudicar adicionalmente producto de terror conceptual a otras familias damnificadas, por ejemplo aquellas familias que no son copropietarios de un cuatro y pareo si uno de los copropietarios posee una segunda vivienda retrasa la solución para los otros tres hogares involucrados decepción que aplicó el Ministerio vivienda mediante el decreto supremo número 34 para que Quiénes poseen segunda vivienda pueden optar al subsidio es totalmente insuficiente dicho decreto permitió habilitará 382 familias pero restringir está ayuda al 60% más vulnerable como si el retraso y quiénes poseen segunda vivienda no estuviera viviendo una emergencia social de proporciones y esos absurdos una familia que de una segunda vivienda Modesta el inmenso mayoría de los casos se trata de viviendas de muy bajo costo bien que posee una vivienda en otro lugar no debiera ser. Nada, tratando es una catástrofe 6, ausencia de políticas de expropiaciones para la reconstrucción en emergencias anteriores elegirlo para permitir que el estado expropia y propiedades al valor de Mercado previo la catástrofe con el objeto de resarcir a los damnificados Quiénes puedan disponer de esos recursos para edificar en otro lugar y permitir al Estado disponer de esos terrenos para la reconstrucción, esta herramienta se utilizó exitosamente en el caso de chaitén y facilitaría una reconstrucción organizada por barrios y sectores acortando significativamente los tiempos en el caso de la región de Valparaíso se podría haber incluido un mecanismo este tipo para reconstruir el mismo lugar sin trabas re comprando el terreno el propietario original o en su defecto disponiendo el estado del terreno para otro se me Fica dos este mecanismo habría permitido solucionar el problema de los cuatro y pareos y avanzar de forma rápida y expedita en barrios completos arrasados por el fuego pero El Ejecutivo desechos a posibilidad 7 + la gestión de la Administración tanto en el nivel central. Cómo regional las situaciones descritas se interrelacionan con problemas propios de la burocracia y una falta de capacidad de gestión particularmente revelador es que se haya detectado 329 casas que figuraban inscrita nombre el servicio de vivienda y Urbanización y no de sus propietarios Cuántas viviendas más se encuentran esta misma situación el serviu Valparaíso debiera levantar un catastro de inmediato y no esperar una próxima emergencia para proceder a la regularización de este tipo de situaciones la gestión inicial de la catástrofe fue extraordinariamente eficiente tanto por parte de los municipios de Viña del Mar quilpué Villa alemana que vivieron haber liberado un proceso orientación acompañamiento información conjuntamente con el serviu y otros servicios como el propio serviu se registra una notable descoordinación entre los departamentos de obras municipales y el serviu, que no entregar la información Clara oportuna sobre las soluciones individuales o colectivas a las que podrían acceder los vecinos sus requisitos y características. Siendo además los tres alcaldes políticamente afines al gobierno central está falta de coordinación resulta más inexplicable a los vecinos damnificados sufrieron constantes versiones contradictorias, hubo confusión y tardanza en materia de autorización demoliciones familias que necesitaban demoler no recibieron la autorización por parte de las autoridades competentes en ese momento municipalidad de otra familia se les demolió su vivienda algunos casos sin autorización y actualmente estas familias no Son consideradas hábiles en el proceso en curso el proceso de vinculación asignación de proyecto y entidades patrocinantes a cada familia ha sido lento a la fecha todavía subsisten 332 familias hábiles sin vincular ellos sin contar el universo 939 familias inhábiles la mayoría de las cuales podría estar encaminado una solución se subieron a adoptar una política de acepciones más realista se han registrado demás una poca oferta de entidades patrocinantes y una falta de supervisión desde el serviu. Labor de las entidades patrocinantes y de acompañamiento a los vecinos una entidad patrocinante obtiene alrededor de 30 unidad de fomento por familia y su trabajo fundamental para acelerar los trámites y Buscar soluciones, pero tampoco ha habido desde el Sergio una orientación respecto al diseño de barrios de manera que las entidades patrocinantes los vecinos trabajen con soluciones armónicas a escala barrial es particularmente llamativo que en Barrio consolidado como el olivar y canal beagle Viña del Mar o canal chacao quilpué no se haya procedido con un paquete de medidas como las señaladas en los acápites anteriores impulsando una reconstrucción más IVA con diseños de barrio y un trabajo verdaderamente coordinado en estos sectores tradicionalmente el proceso institucional ha sufrido reveses el funcionario designado como jefe de la reconstrucción en la región término renunciando a su cargo y durante 2025 se vio reemplazar al director Regional del serviu, evidenciando la falta de continuidad la gestión del proceso reconstructivo por su parte. vivienda y urbanismo informado sobre diversas acciones y planes en desarrollo para atender la emergencia habitacional la región el plan de emergencia habitacional del gobierno incluye metas ambiciosas en la región de Valparaíso las cuales se marca también la iniciativas de reconstrucción post incendio la meta Regional del plan de emergencia es construir 31246 viviendas durante el período de gobierno al 30 de junio del 2025 se reporta un avance del 69 como 45% es decir 21701 viviendas entregadas además Indicó que 12544 viviendas estaban en ejecución y 5666 por indicial sumando un total de 39911 soluciones habitacionales en proceso en la región dentro de estos logros el Ministerio de vivienda y urbanismo destacó la entrega de 410 viviendas Industrial industrializado con 1524 adicionales en proceso de realización de 158 proyectos de equipamiento comunitario 6292 viviendas que recibieron mejoramientos energéticos de la región Asimismo el Ministerio identifica, una serie de planes urbanos habilitaciones emblemáticas en Valparaíso tales como el olivar alto en Viña del mar un polígono de 54 tareas destinadas a viviendas Bellavista en San Antonio parque Estero San Felipe y artificio La calera, paralelamente se trabaja el programa asentamientos precarios con 374 campamentos de la región en el proceso intervención 65 en diagnóstico 87 en radicación 104 en reconstrucción y 118 en revisa Para coordinar la reconstrucción post incendio el Ministerio de vivienda y urbanismo sector hizo el territorio afectado en polígonos atendidos por duplas técnicos sociales y ha ido juntando las estructuras organizativas en tres momentos una etapa de puesta en marcha febrero mayo del 2024 una segunda etapa junio del 2024 enero 2025 y finalmente una etapa de obras desde febrero. 125 Si bien, estas acciones y cifras oficiales Aunque muestran, un esfuerzo amplio materia habitacional regional no refleja la situación específica de la reconstrucción Pos incendio en la provincia del paraíso, la cual continúa mostrando retrasos graves en efecto mientras se reporta más de 21 llantas construidas en la región en el marco general en el ámbito específico de la reconstrucción de las 4609 viviendas sin Estrada solo 114 viviendas se han construido efectivamente en 16 meses y 876 encuentran en obra quedando miles de familias damnificadas aún esperando soluciones habitacionales definitiva esto videncia una brecha significativa entre el discurso y las metas oficiales y la realidad perimentado por la familia afectadas por el incendio 8 inexplicable negativa del serbio de la región de Valparaíso de recibir apoyo de la sociedad civil existe evidencia de que en el marco del inició la reconstrucción a solo semanas de producción los incendios existió un ofrecimiento? Parte la cámara chilena de construcción de 1862 viviendas al serie de la región de Valparaíso viviendas que en su enorme mayoría fueron rechazadas esto significa significa este significativa por te habría permitido al ente encargado de la reconstrucción comenzar esta labor con 31 proyectos habitacionales completos una base significativas de la cual proyectar una Vans lo que hubiera disminuido en gran medida los problemas que debieron enfrentar las víctimas producto del abandono y la negligencia del Estado solo aceptaron 47 de las 1862 vivienda oficial Sergio por parte de la cámara chilena construcción cifra Qué representa apenas un 2,5 de la ayuda ofrecida este actor representa un desprecio por la sociedad civil impropia un país en que el sector público y el sector privado han trabajado siempre juntos y coordinados por mejorar la calidad de vida Los chilenos según los representantes de la cámara chilena construcción la ayuda habría sido rechazada por razones técnicas sin embargo. ahorita razones técnicas nunca se han expuesto con Claridad lo que da lugar a un manto de uvas inapropiado en un contexto de tanto sufrimiento humano estén explicable rechazo ayuda en un caso como el de los incendios en que miles de familias llevan un año y medio viviendo en condiciones precarias es no solo un acto negligencia pública sino que un verdadero escándalo baje su ejecución presupuestaria la baja ejecución presupuestaria tiene a nuestro juicio directa relación con la defectuosa conducción política y técnica del ministerio vivienda y urbanismo suma problemas de gestión a nivel del ser vivo el paraíso a continuación se presentan algunos datos claves de ejecución financiera al segundo trimestre de 2025 presupuesto vigente total 2025 subtítulo 31 más su título 3357 1032 millones ejecución del programa segundo trimestre 1025 8339801549 31 3593 millones ejecutados de 13281 millones que representan el 27% transferencias de capital subsidio habitacional Isis aportes del sector privado subtítulo 33 4807 millones de 443 1383 millones que representen un 5% si bien Se observa un avance respecto al primer trimestre de 225 donde la ejecución apenas alcanzaba un 5 coma 6% El Salto a 14,6 porciento al cierre el segundo trimestre sigue siendo insuficiente para insuficiente frente al carácter urgencia que sigue una catástrofe de la magnitud del incendio Valparaíso en situaciones de emergencia. tiempo es un factor crítico cada vez que ibas a sin ejecución efectiva se traduce en familia que continúan en condiciones de precariedad con impactos directos en su bienestar salud y capacidad de retomar una vida normal leyes internacionales categóricas en proceso de reconstrucción post desastre la respuesta presupuestaria de ese rápida y masiva experiencias en países como Japón Nueva Zelanda o el propio chile tras el 27f Mostrar que un ejecución del 25 al 30% en el primer trimestre es el estándar mínimo para garantizar que las soluciones lleguen a tiempo con menos de la mitad de esa referencia alcanzada incluso al segundo trimestre el rezago de la respuesta siguiente ejecución por componentes proyectos de inversión directa subtítulo de ayuno ejecución de 3500 33000000 de 13287 millones que representan 27 coma 1% es el componente con mayor avances relativo pero aún bajo para obras que a estas alturas deberían estar en plena construcción transferencia de capital del Sur Título 33 ejecución de 4800 7000000 de 43382 millones que representen 111 como un porciento nuestros bajo rendimiento Precisamente en el canal principal de ayuda directa de la familia La familia, significa en Mérida subsidio habitacional preocupante situación de los subsidio habitacional en el fondo solidario de elección de vivienda instrumento diseñado para dar solución definitiva los damnificados apenas que ejecuta un 8 coma 4% de su presupuesto no lo que refleja una lentitud incompatible con el objetivo de entregar viviendas en un plazo razonable está baja ejecución pone en riesgo, la credibilidad el proceso de reconstrucción y retrasa el cierre de campamentos o la transición de soluciones habitacionales de emergencia a definitivas el programa de mejoramiento de viviendas y barrios que debiera permitir intervenciones rápidas en estructura básica y entorno urbano está prácticamente paralizado un avanse del de avenas 1,9 porciento esto implica que muchas obras menores como mejoramiento de calles acceso. iluminación o servicios básicos Siguen sin iniciarse datos a Julio de 2025 programas Pet incendios Valparaíso cuenta con un presupuesto vigente de aproximadamente 57 coma 33 millones para obras y subsidios se la región junio de 2025 se habían ejecutado 8340 billones equivalentes solo sale 14 coma 6% del total disponible, aunque se observa un avance respecto al cierre de 2024 cuando la ejecución apenas llegó al 5% y al trimestre 2020 5 el ritmo sigue siendo lento insuficiente para una emergencia de esa magnitud la referencia internacional para emergencias de reconstrucción es de 25 al 30% de ejecución en el primer trimestre Incluso el segundo trimestre seguimos por debajo de la mitad de esas tantas existencia de su programa con ejecución crítica fondo solidario de elección de vivienda 2640 millones ejecutados de 31,400 25000000 loco 108 coma 4% este fondo es clave para entregar vivienda definirías al ritmo actual podría tardar en complementar la meta de reconstrucción habitacional programa de mejoramiento de viviendas y barrios avena 75000000 ejecutado de 1872 millones, lo que representa un 1.9% prácticamente inmovilizado vez haciendo instrumento pensado para intervenciones rápidas en entornos y servicios básicos de los sectores afectados sistema integrado de subsidios 2162 millones y figurado de 10,000 85000000 lo que representa un 21 coma 1% muy por debajo donde explique más hijos ha tenido este sistema debería articular múltiples línea de subsidio pero si ejecución ha sido limitada el mal desempeño de la reconstrucción contratada notablemente con otros procesos exitosos de nuestra historia reciente que además dejaron un conjunto de herramientas y aprendizajes desaprovechado por razones incomprensibles esto da cuenta de una insoslayable responsabilidad política de la máxima autoridad del ramo que no subo o no quiso utilizar los recursos disponibles para aliviar la clínica situación de miles de familias damnificadas, los diversos problemas de gestión y coordinación de los organismos del estado y videncia, la necesidad de mejorar la institucionalidad a partir de la experiencia acumulada y te digo incluso por el propio ministerio vivienda y urbanismo que ha señalado la obsolencia del marco normativo vigente para gastrofest y la elaboración de un proyecto de ley marco reconstrucción coordinado por el Ministerio del interior en el corto plazo se han introducido reglamentarios, por ejemplo, el decreto supremo 34 de 2024, qué modificó transitoriamente el decreto supremo 332 para ampliar la cobertura algunos danificado perimétrico ido pero si alcance a sido limitado sin embargo estas iniciativas no ha logrado de revertir las falencias observadas en el proceso, por ejemplo la labor de la gerencia reconstrucción cumplió un rol efectivamente facilitador en la presencia de la presente emergencia se Limitada por la falta de atribuciones y facultades para articular los esfuerzos intersectoriales de gerencia quedó su vida principalmente un rol informativo y de seguimiento sin capacidad resolutiva real falta de Liderazgo y conducción política sumado a la mala gestión y poder ejecución contrastada abiertamente con el discurso presidencial de reconstrucción con dignidad no visualizamos una construcción política eficaz de la delegación presidencial también se advierte un escaso liderazgo por parte del gobierno regional y central lo que obliga a recomendar a su excelencia el presidente de la república a ordenar de manera inmediata la persecución de responsabilidades administrativas y políticas de Quiénes dirigen el proceso de reconstrucción en Ministerio jefatura de servicios secretaría regional ministerial y funcionarios en general solicitando la renuncia de dichas autoridades al debido al inestable retraso de las ayudas y ejecución en los programas de reconstrucción una reconstrucción con dignidad debiera concentrar los esfuerzos en aliviar el drama social y económico que representa para más de 4000 familias la pérdida de sus viviendas. Antimonio de la urgencia de la solución habitacional a consideraciones ideológicas o requisitos burocráticos que entorpece la respuesta gravísimo proliferación de problemas de Salud Mental dentro de las personas afectadas la pérdida de seres queridos Y de todos los bienes que sostenían la vida de las personas las personas incluyendo por supuesto su hogar son de por sí episodio difíciles de asimilar por la mente humana pero que dicho pisodios herrería de manera continúa Durante un año y medio es el caldo de cultivo perfecto para que se den lugar pisodio de estrés ansiedad incluso depresión estos problemas, que si bien son invisibles erosionan la vida personal y social de las personas a nivel es que son muy difíciles de reparar del incendio han transcurrido dos inviernos con todas las consecuencias que yo llevaba dejaron instalaciones precarias la crisis de seguridad que sufre el país y el temor constante de que vuelva originarse un mega incendio no existe persona cada una de las personas afectadas por los incendios Parece ser un hecho de la causa de que la víctima de los incendios necesitan. el profesional para sobrellevar lo que han vivido han tenido vivir desde que lograron sobrevivir al devastador incendio hasta ahora en efecto la negligencia del Estado significado que la tragedia no haya terminado en la reducción definitiva del incendio sino que se mantenga viva hasta el día de hoy falta de Claridad sobre las cifras oficiales Otro aspecto cuestionable dentro del contexto la reconstrucción en la falta de concordancia entre las cifras publicadas por diferentes entidades al 20 de agosto 2025 de conformidad con cifras entregadas por la empresa sanitaria de Valparaíso esval son 89 las viviendas que cuentan con certificación por parte de la empresa de lo que significa que las viviendas cuentan con medidor de agua está certificaciones corresponden a 60 viviendas de automoción y solo 29 viviendas construidas por empresa contratada por el service de la región del paraíso para la ejecución de los proyectos constructora San sebastián-paso Ryan y Milton Armando leyton, González Este certificado es necesario Porque permite solicitar la recepción de obra municipal de xela repetida direcciones de obras municipales Viña del Mar o quilpué viña del mar y está cifra se alejan de los números que ha informado el Ministerio de vivienda el transcurso de la comisión investigadora señalando canción 91 la viviendas ejecutadas y entregada por el celu es decir 62 bien de más de las que a la fecha reciente hay certeza de ejecución efectiva habiéndose bulería de sobremanera los derechos de las personas afectadas por los incendios es imperativo que al menos existen la herida de respecto de las cifras oficiales y que a su vez estás funden se funden antecedentes ellos como les la certificación de la empresa sanitaria respectiva requisitos cliente para que la dirección de obras apruebe la recepción de obras y se la entreguen efectivamente la vivienda a la familia. recomendaciones y propuestas 1 solicitudes a la cámara de diputados solicita urgentemente al gobierno de chile, encabezado por el presidente de la república Gabriel boric, font que en un plazo no superior a 6 meses contados desde la aprobación de presente informe cuente con un estado afectivo de Avance en materia de construcción que comprenda al menos al 70% de las viviendas afectadas y que en el mismo tenor en un plazo no superior a un año contado desde la aprobación del presente informe ya se haya complementado en un 100% la reconstrucción de las viviendas que se perdieron por causa del incendio de la cámara diputado recomienda el presidente de la república tenga bien evaluar, la continuidad en el cargo de la ministra desarrollo social y familia Doña javiera, toro Cáceres por ser una de las responsables directas de las labores de reconstrucción que le fueron encomendadas y por su ausencia indispensable en las labores propias del cargo que influyen en el cumplimiento de las metas propuestas por la administración de la cámara de solicita el presidente de la república, Qué es tituye azúcar al ministro de vivienda y urbanismo Carlos Montes cisternas por ser el responsable directo de las labores de reconstrucción que le fueron encomendadas de conformidad con las cifras del mismo Ministerio de vivienda y urbanismo solo se han ejecutado y terminaron 39% de las viviendas dañadas lo que es inconcebible habiendo transcurrido ya más de un año y medio desde los incendios lentitud con todos los perjuicios que ello conlleva para la víctima se hace aún más cuestionable si se tiene en cuenta que han existido precedentes en nuestro país de procesos de reconstrucción llevado a cabo en menos tiempo Y con mejores resultados del Congreso Nacional y en particular esta cámara de diputados siempre ha mostrado la mejor disposición a colaborar en el proceso de reconstrucción por lo que las llamadas trabajo prácticas no son atenuantes ni menos eximentes para un ministro de estado un país como el nuestro forjado ante las constantes embates de una catástrofe la actitud adoptada por el ministro Montes para víctimas ha sido indolente carentes pasos para escuchar adecuadamente Quiénes han sufrido las consecuencias más devastadoras del incendio de febrero 2024 la cámara de diputados solicita al presidente de la república que me ante el Ministerio de salud promueve un plan destinado abordar los problemas de salud mental desencadenados de las víctimas que aún esperan por una respuesta definitiva recomendaciones de índole his lativo a legislar sobre la base de la ley 33 para facultad del estado efector expropiaciones de terrenos con un mecanismo reglado de recompra En aquellos casos en que por algún motivo fundado se requiere Localizar a los damnificados de Modificar el decreto supremo 332 para eliminar los requisitos de vulnerabilidad socioeconómica y simplificar la b, la B habilitación de los damnificados evitando exclusiones y justificadas en el acceso al subsidio habitacional de reconstrucción se extender la vigencia de la ley 21109 Utilización del fondo emergencia transitorio Más allá del año 2026 demo asegurar que los recursos puedan ejecutarse completamente si la reconstrucción requiere más tiempo del inicialmente previsto proponer soluciones con diseño de barrio impulsar proyectos integrales por sectores supervisando y acompañando el proceso de vinculación que realiza las entidades patrocinantes con los damnificados de manera que las soluciones habitacionales individuales confluyen en Barrio planificado con estándares adecuados crear una institucionalidad funcionará la reconstrucción incorpora todos los aprendizajes experiencias previas con carácter resolutivo y capacidad de coordinación intersectorial de esta entidad debe permitir de manera rápida y eficiente articular la respuesta del estado en este y futuras catástrofes cerrando el círculo de riesgo desastre reconstrucción y fortaleciendo la alianza público-privada Para apoyar la labor de las organizaciones de la sociedad civil que trabajan en reconstrucción, por ejemplo el campamento F mejorar la coordinación. municipalidades los servicios de vivienda y Urbanización autoridades centrales Estableciendo canales claros de información y responsabilidad Así mismo brindar apoyo técnico a las familias que opten por la autoconstrucción para asegurar la regularización y la calidad desafía andas en el proceso de reconstrucción En definitiva la reconstrucción post incendio febrero 2024 debe ser abordada con mayor urgencia Claridad normativo y coordinación institucional y a la ciudadanía y especialmente las familias afectadas merecen que el estado utiliza todas las herramientas disponibles y corrija las falencias detectadas asegurando un proceso reconstrucción digno justo eficiente coordinado e informado Es así quedaría aboga por la lectura del informe antes de someter a la votación quería preguntarle a los diputados y diputadas se querían hacer algún tipo de comentarios propuestas sobre totalidad puedo participar en todo el proceso y por lo tanto voy a dar hacer un comentario general. Yo tenía una una una larga convivencia laboral con el ministro de vivienda falleció Carlos Monte porque era senador diputado todo y dónde estaba el hospital es donde Yo trabajé toda mi vida, el sótero del río. Entonces conozco su forma de trabajar conozco su cercanía con la gente conozco lo obsesivo, Qué es por cumplir las metí por avanzar y por trabajar entonces yo. No puedo discutir a los parlamentarios que están aquí sentado, Qué son de la zona que han estado al lado de la gente que que han visto el dolor el sufrimiento la muerte la desgracia no, no puedo ser más empático con la angustia, con la sensación de que debería haber sido mucho más rápido todo mucho más eficaz y eficiente puede ser que así sea, pero no me parece dentro del informe, no voy a discutir la cifra, tengo otra cifra pero un ministerio como el Ministerio de vivienda, que ya lleva el 80% de cumplimiento de las metas nacionales de su ministerio poder decir Qué es negligente, qué es que abandonó negligencia y yo no puedo negar que habido retrasos eso sería absurdo. Negar una realidad, pero hay que hacer un análisis y ayer me pegué una lectura como venía a una comisión que no había trabajado y una lectura de todo lo que se ha ido produciendo y las presentaciones Y la verdad es que el problema es súper complejo yo no no es como como como que se puede hacer un plan habitacional todos iguales no? Porque son distintas áreas son distintas realidades campamento casas de condominio casas aisladas entiendo también y eso lo leí enoja en páginas que están disponible para toda la gente que muchas velas de las ofertas de la de la de la construcción la cámara la construcción es la misma gente que no las había querido Porque eran como entrecomilla prefabricada eran como modulares no sé cómo se le llama a la pero que mucha gente no quiso aquello. Tocayo, la heterogeneidad del daño la locura miento de muchos actores y sectores que siempre en Chile Ha sido complicado se lo digo yo que fue ministro de salud y que trate de articular v8 ministerio porque la salud en todas las políticas y es muy difícil yo sé O sea no voy a negar ninguna dato que que andaba en el informe pero a mí me parece que hacer juicios de valor y ve y que benostan no solo la capacidad, sino que también la otra de las personas a mí no me parece y creo que lo técnico es técnico Y si usted y se puede perfectamente si no estamos conforme con el trabajo que ha hecho el mide el miembro a un ministerio estará involucrado en este informe pero de ahí a decir que una iglesia desidia abandono. A mí no me parece bien ese sentido Quisiera hacer un llamado a No a no tomar esa esa frase porque no me parece que sean parte de un informe técnico, sino que más bien de un interés en sacar o o o o o pedirle que el ministro los ministros tengan que ser sacado de su cargo. Yo creo que eso requiere un análisis mucho más profundo de la realidad y de todo lo que está haciendo el ministro y la ministra a lo largo de todo el país Por qué no solamente la reconstrucción de este incendio. El único trabajo a nivel nacional Así que eso quería decir quiero decir que por los largos años que conozco al ministro te puedo decir que así con seguridad de que ninguno de los apelativos que lo denostan son reales. Venegas cuello bello allá ahí voy profe, muchas gracias presidente bueno Primero que nada saludar por su intermedio todos los colegas presente a propósito de los colegas, por favor, que si no si no me distraigo y no no logro concentrarme Oye primero quería saludarlos a todos y a propósito de la intervención que hacía recibir la diputada Molina yo puedo entender que a ella le sorprenda esto en el fondo viniendo a alguien que lo conoce desde hace tantos años con la trayectoria tanzen política como el ministro Monte pero la verdad es que la experiencia que nos ha tocado conocer y la cara del ministro Monte que nos ha tocado conocer a todos los acá presentes incluso algunas de las víctimas acá presente es dramática, Yo quiero señalar a propósito de alguna algunos datos muy específicos que se llama la diputada molinar lada de 80% ejecución presupuestaria y una recapitular sobre uno de los momentos más dramáticos y creo que especialmente relevante Igual cuando discutimos respecto de las cifras de viviendas terminadas y entregadas recordemos que el ministro Montes y su equipo nos hablaron acá de 90 viviendas entregadas y terminadas después nos enteramos porque estaba también en los antecedentes disponible en esta comisión que existían solo cerca de 50 recepciona por parte del municipio y depósito de un requerimiento información que el hablante o yo la comisión que lo enviamos como comisión y recibimos la respuesta por parte de mal nos enteramos que había Entre 25 y 30 conexiones de agua potable en viviendas nuevas solicitado por el Ministerio de vivienda O sea al menos que el ministro de vivienda y estaba entregando casas sin llave de agua Quiere decir que el mismo no entregó cifras falsas Y creo que eso es ya argumento suficiente para plantear aquí en este informe una cuestión kidia, la planteaste largo tiempo y que agradezco por lo de que hayamos logrado este consenso en el fondo con los diputados alistan, para poner laca que plantear la presidenta la solicitud porque en realidad de su prometida que ponga el cargo de ministro de onda, porque no puede ser que el ministro venga acá a la comisión con datos falsos o manipulados o están erróneos que no podemos sino a subir que que no existió buena fe, entonces evidentemente que yo creo que estás injustificable más allá del sufrimiento del dolor incluso de la víctima, que que llevan demasiado tiempo esperando la reconstrucción el hecho de que de que las cifras que se presentan en esta comisión no se combinan con la realidad y que estén siendo infladas para efectos de Hablar un resultado o una Vans en la reconstrucción que no es real que no es real porque sabemos y yo lo confirmado sabemos que existen solo Entre 25 y 30 conexiones de agua potable en viviendas nuevas solicitada por el Ministerio de vivienda, entonces así no entiendo, no existen, no existen eso no es así y no hay forma de que aquí puede si no quiere que no que hubo un error que que en realidad la 90 viviendas están, pero pero aquí hubo un problema de papeleo a ver una casa que no tiene llave de agua no puede ser entregado entonces evidentemente aquí esto no sé condice con la realidad la cifra que nos entregó el ministro día de permiso razón suficiente de razón suficiente y de visa esa razón suficiente para todos nosotros yo le pregunté hace algún tiempo. Yo creo que esto debes hacer algo transversal. Más allá de la diferencia política que tenemos sobre esta mesa Porque yo por lo menos poniéndome en el lugar de mis colegas oficialista sería el más indignado, si es que un ministro de mi gobierno llega una comisión investigadora con cifras falsas, sería el más indignado Entonces esto tiene que ser transversal. porque no puede terminar siendo la conclusión de que una responsabilidad que recae hoy día personalmente ministro montes en realidad, una responsabilidad de todo el gobierno, Porque esa sería el resultado si quiere esta parte del informe se rechaza eso tenía una conclusión Entonces yo le hago la invitación a todos los colegas que más allá de que yo puedo entender la larga historia que conozcan al ministro Monte que esto suene fuerte que lo voy a entender, pero aquí hay algo tan grave tan grave que esto no puede ser odiado por una comisión investigadora de estas características, eso nomás presidente y por supuesto yo voy a votar a favor de este informe gracias a Dios portado Sánchez diputado Venegas Cuándo fueron estos accidente alguno de los diputados de la diputada que están en esta mesa estuvimos en ese lugar uno lo Muéstrame otro lo Muéstrame no hay algunos que le sacan provecho político a las fotos, pero yo quiero decir con propiedad que aquí no estuvieron mucho, te los que están sentados Y qué están haciendo juiciosita. Yo quiero decir, por ejemplo que sí, estuvo por ejemplo el propio diputado republicano. Tengo diferencia fundamente política con él, pero él estuvo estuvo lagomarsino, estuvo la diputada bello, estuvimos con el diputado Ibáñez también estuvimos entregando agua, estuvimos haciendo un montón de cosas por el estilo y yo quiero señalar los Súper categórico porque súper fácil venir a plantear la crítica fuerte brutal. utilizando el dolor humano para tratar de sacar provecho político Yo creo hablar con legitimidad en este instante porque hay muchos que haga yo lo he visto Drive de sujeto de su palabra hacer aspaviento hablar fuerte. Pero no estuvieron ahí. No estuvieron ahí. Yo no quiero sacar en cara de que estuve Simplemente estoy señalando que hay muchos que hay que están haciendo juicios categóricos Como por ejemplo, te digo que no estuvo bueno, el presidente presidente le puede ser que se calle, por favor y por favor, no lo que pasa es que tú has sacado provecho político la semana pasada con el tema también estoy hablando, Yo estoy hablando yo ahora, por favor, por favor, aquí lo presiente votado, te hago lo llamó al orden, por favor, cuidemos el lenguaje también por respeto a las a los familiares de las víctimas, están presente por todo cambió por segunda edición artículo 61 artículo 61, número 7 artículo 61, ex diputado presidente yo lo llamo a que conduzca como corresponde. Continúe por lo que pasa es que ya no voy a aceptar ofensa, no voy a aceptar ofensa Y si quiere tener ofensa de otra naturaleza en el otro pasó no tengo ningún problema, pero acá, pero acá yo no quiero que se me ofenda y el artículo 61 número 7 hotel obligarte a llamarlos orden por segunda vez presidente presidente. Ningún proyecto de naturaleza, Yo quiero hablarle súper categóricamente la gente ningún proyecto esta naturaleza se resuelve en los plazos que se están Estableciendo acá como yo tuve en terreno y lo puedo decir compro vida, le tengo que decir a la gente le tengo que decir a la gente. Diputado tía, por favor, lo ha llamado a veces al orden, por favor, continúa diputado Venegas cuando nosotros llegamos a los terrenos los terrenos no tenían título de propiedad habían casa sobre casalotes sobre lote no había nada, había Tomás había terrenos totalmente regulares, por lo menos en el sector que a mí me toca representar que está en la comuna de quilpué no había en ciertos sectores ninguna determinación del terreno programen te tal Entonces yo lo llamo, por ejemplo aquellos que conocen derechos que son abogados, cómo se puede realizar todo esos trámites de reconstrucción sin siquiera habían título de dominio siquiera habían delimitaciones siquiera se sabía Cuántos terrenos, tenían es muy fácil. Yo le quiero hablar a los vecinos y a la vecina es muy fácil, venir y hacer gárgaras con el dolor, pero también la gente tiene que saber la realidad de cómo se construyen los proyecto y un proyecto para Por ejemplo realizar trámites de esta naturaleza, lo primero que se tiene que saber cuáles son los terrenos que hay Cómo se planifica el terreno Cuáles son los títulos de dominio que existen si es que tienen uno tiene más propiedades, si es que persona que tenía más y usted lo sabe muy bien más de dos o tres propiedades, entonces un proyecto de esta naturaleza no se realiza de un momento para otro y todo lo que son tienen aquello lista mintiendo están sacándole provecho político y luego se van y se retiran cuando le dice la verdad Entonces no es que verdad porque me no me deja doblar prácticamente entonces me duele que con el dolor de la gente que lo vas a mal, se te sacando provecho político porque usted sabe ni la gente que está viendo a través de los video que esto se está haciendo sabe porque porque noviembre hay elecciones. Eso es el motor de qué sirve sacar a un ministro que ha llevado y que ha conducido este proceso ahora en este instante para nuevamente Llamar a otra ministra a otro ministro para que cambien al servi, para que caigan minar las orejas con un grado de racionalidad. Yo le pido de verdad a los diputados y a los diputados que quieren de verdad, una solución para la gente que tiene una solución para el gente, de qué sirve el término concreto para resolver el tema le quiero decir con total propia Aunque resulte impopular en año electoral que no sirve para nada, que lo que corresponde es que rectifiqué y yo estoy dispuesto, por ejemplo que hay muchas solicitudes que aquí se enseña y que tienen que ser recogía, pero de qué sirve de qué sirve si no solamente y le quiero decir con sinceridad la gente para que lo veas para que le pagarán conferencia para que vayan al pensador y pagar un punto político señalando que derrotaron al gobierno perfecto. Lo hicieron Y de qué le sirve a la gente. Simplemente Quiero llamar al orden. Yo soy una persona y en la mente y le pido disculpas y me apasione, no lo he hecho durante todo el tiempo que ha sido diputado Usted sabe que yo soy bien de consenso, viendo conversaciones converso con todos los sectores nunca me había pasado como ahora, pero sabes por qué me apasiona hoy día me apasione porque me duele cuando se trata de sacar provecho político mezquino. Cuando hay gente que lo está pasando y lo ha pasado pésimo con el dolor humano con el dolor mano no se saca provecho político es la diputada estación, por favor, público poca gente que está aquí presente, por favor, restarse diputado cuello, por favor. Gracias presidente presidente primero tengo una una inquietud de carácter procedimental porque claramente el informe Qué es que usted me santa.ar parlamentario hasta esta comisión no puede ser votado como un Todo habida cuenta de que contiene claro elemento distinta naturaleza que reúne consideraciones de lo que ha pasado la comisión pero también tengo un juicio de valor que no encuentras entre en las los las condiciones ni lo que gaste de W Y que además a mí juicio tiene algunas algunos elementos que contiene un reglamento Cómo despegar enseguida presente libro de punto vista del fondo sin duda que acá existe una una estación de la comunidad Qué es legítima, Qué es justificada respecto de reconstrucción y obtuve también. El día siguiente o el día el día de mi centro naturalmente, Qué día de terror de dolor Yo vivo en los teros de Viña del Mar Gómez Carreño acerca de la Independencia y estuvimos ahí escudo gris gente ayudando a la olla común es bueno, es lo que siento que ya cambiando día día consecuencia conozco y se lo que se ha vivido lo que se perdió se le Perdieron su pariente, pero no recuerdo, pero las casas lo creo todo y solamente que esto implica esa ese dolor genera también respiración cuando ve que los procesos son de voz o qué son lentos que uno que sea se cree que sea más rápido en consecuencia y creo que que ser empático y el fondo pensar que solo conoce la realidad Hay que ser un juicio crítico respecto de este proceso recontrucción, no me queda ninguna duda y el informe no te propone. Recoge elementos que son efectivamente que dan dan cuenta de la falta de celeridad en la Revolución y que también depende del evento de carácter estructural porque En definitiva en Cúcuta un estado que no tiene una montura suficiente para atender las labores que implican salido una casa una una de un insecto está característica y están tan grande y tan dañino enseguida presidente. Yo creo que la aceleración es que resultan puntadas y incluso yo llevo algo irresponsable sentido Por ejemplo hablar de haber muy livianas decir que el estado es responsable de tal cosa en el sentido de que repasar el incendio caro ayudar si le presta el servicio es el punto vista de la verificación pero sea Laguna realidad después te lo juro Te juro, que eso es el proceso es babo. también se establece en parte de las conclusiones, ya se puso muy duro muy crítico respecto de la negativa de del ser vivo recibe apoyo, la sociedad civil ya que sea solución o un hecho bien específico que fue explicado por el ministro Montes que se pidió indagar al respecto y se vale que se rechazo una un ofrecimiento de parte de la garnacha en la contrucción de 1860 al serbio, entonces en esta en esta parte se dice, por ejemplo que Quiero saber toda la ayuda ofrecida entonces a mí me parece Yo también quiero que se haga la presión de gas el precio una donación de toda esta cantidad de casa y hablamos ayuda una ayuda no es una venta la lluvia nos pagan Entonces si estuviera 11 presiento de venta, creo que haber no Esto no es muy Exacto Por decirlo de forma diplomática que sale una ayuda, entonces hay que dejarlo Qué consecuencias y si es así yo creo que se comete una expresión que Contame qué contamina el informe es que como digo Ahí le meto que yo comparto yo consigo que hay que recoger ya otra cosa también tiene que ver con la exigencia dan categórica respecto de la de hacer efectiva responsabilidades administrativas políticas bueno dura serie autoridades partiendo por 12 por 2 ministros y también otros niveles jerárquicos setame Yo también comparto que esto no resuelve hoy día El Avance de la Revolución no es la solución, pero también Me permito señalar, qué? El que se ha puesto hilo virulento de la de la que le puse valor al respecto a las posibilidades, admite días política, o sea, está, está peticiones de de renuncias claramente Pon el foco en que A mi esposo le informé tiene que ver con obtener una suerte de de un futbolito y una sorteo de revancha ya y que deja de lado que prescinde quieres Plaza la estancia de avanzar en la reconstrucción Cómo ha sido el objetivo, está de esta comisión investigadora y ahí presidente yo Considero que ese esa parte de la del informe de las conclusiones y las proposiciones no se vienen al reglamento de la cámara n Lira en el congreso, el sentido que el objetivo Y ahora cómo es esta es reunir informaciones respecto a determinados actos de gobierno y conclusiones que se pueden adoptar y después se puede sufrir enviarme. Otros órganos internos de control Pero en ningún caso una comisión investigadora puede atribuirse la facultad que no están en la Constitución y la ley y el reglamento de asignar responsables política y consecuencias Yo lamento presidente que uniforme que creo que esta propuesta que te hace con la mentario recoge Lamento con seriedad haya sido contaminado y por estos estos componentes que realmente no Aparentemente centro cosa pero creo que revelan a mi juicio que hay un interés que va mucho más allá y que se desvía de lo importante y con avanzar con la reproducción y responder a las familias de las víctimas de este mega incendio Gracias presidente por el último sientes y que no olvide la preguntarte toxement. Para la votación procedimientos, el siguiente se botan las primeras que se recibieron, pero se votan en bloque no se pueden no se pueden ir párrafo por párrafo salvo que consienten en dividirla los autores de las construcciones, si se rechaza se va con el segundo y así reglamento de un dado cuello y apoyo Muchas gracias presidente ir a migración. Se quedaría yo agradecería presidente que se puede indicar para una mejor comprensión inteligencia de esta comisión y dije no están viendo Cuáles son los artículos que indican que no se puede llevar a la oración del informe. Lee la palabra a las 7 de ahogado, pero ya dijo que si se podía en el caso que estén de acuerdo la autores del informe, pero será por las comisiones investigadoras. Están reguladas Y estás pecto, no está regulado y así o una jurisprudencia que ha sentado el secretario general de la cámara mediante instructivo, si usted lo tiene A bien, pues me imagino que estar acá en este minuto si quiere puede ir a conversar con él es el instructivo que nos enojado nosotros En cuanto a la votación de los informes de las comisiones investigadoras. Le gusta bello de reglamento para la venta flores para tratar de buscar una salida salomónica frente a esto puede proporcionar que los autores de la con esta conclusión puedan aceptar cierto para evitar dilaciones porque y podamos echar las votaciones y se puedan votar lo que los numerales o los artículos digamos que los colegas quisieran digamos votar separadamente para allá se aprobar o rechazar y así no perder más tiempo llegamos solo como propuesta presidente. Gracias, gracias presidente Creo que uno de los elementos. Cómo partiste comisión fue apoyarlo para que usted preside a esta cámara Porque justamente lo que o sea está comisión porque justamente lo que buscamos es tener la mayor objetividad en esta tarea lo más importante es por lo que están pasando la familia de eso no podemos perdernos y como reactivamos mejoramos y la misma línea que dice la diputada que me han de ser solicitar Pues no sé si es posible un receso ahí a traer su y la secretaria en que los autores podás puedan llegar a un acuerdo Si alguna diferencia algunos párrafos, bueno dejar escrito porque creo que salir de aquí en que unos ganan otros pierden de creo que no he sentido el sentido es que se sienta más tranquila la familia y que si están compromiso explícito de que la reconstrucción va a tomar mucho más fuerza creo que eso es lo que no debe mover En estos momentos presidente Erika Muchas gracias Quiero que llega yo no tengo acceso a saber y solo me quedan en la confianza de Cuál es el primero que llegó, está en los correos porque por favor, súper importante porque efectivamente vamos a ir botando en orden de llegada, pero yo tengo alguna coincidencias con este, pero efectivamente si no se puede de alguna forma de votar por separado, vamos a estar Eternamente acá botando informe por informe Entonces yo creo que es mejor que lleguemos a 1 enteros diputados algún acuerdo para poder ver cómo generamos las votaciones. De reglamento de la diputada molida, después la ayuda flores.si este reglamento pero solamente preguntar si acaso podemos incorporar el informe que mandó la aquenio Toy reemplazando a la diputada marzán, Qué es la única que a Quito sobre salud mental de manera que se en corporán el informe final puede ser sobre el punto primero solo quisiera recordar que según reglamento nuestro ministro de fe es la secretaría por lo tanto si la secretaría da un orden en la cual han llegado los informes el ministro de fe que está constatando ese orden primero, por lo tanto todos tenemos que confiar en el trabajo profesional de nuestra secretaría en este caso de Claudia cierto del abogado asesor. Hola tanto no creo y necesario que la secretaría presidente tenga que mandarnos qué correo llegó primero igual después ya eso como primera cosa y luego otro también sobre reglamento Y a propósito lo que hice la diputada la colega Molina tengo que lo que podemos hacer es votar. Es que informe que también se entendería porque como ella bien Dice el único que aborda el tema de Salud Mental pero por reglamento creo que no lo podemos incorporar pero si votar favorablemente Sí claro unanimidad siempre se puede digamos a servir lo que yo les quiero recordar a un poco Yo también esto antes no era así esto porque en una comisión investigadora que no me acuerdo cual fue quedó un problema porque aceptaron refundido respondieron conclusiones contradictorio. César muy tremendo el secretario lo subieron lo bajaron Por qué no se dio cuenta y desde ese minuto que fue hace como 2 años más o menos el secretario fijo el criterio y nos llamó a reunión instructivo de Qué es el orden de llegada y que se votan en bloque ahora como ustedes bien saben siempre está en la salida de la unanimidad porque la comisión puede actuar por unanimidad siempre incluso dejar sin efecto el reglamento por unanimidad Entonces si es así y ustedes consideran que por ejemplo como decía lo de la Salud Mental si hay unanimidad lo podemos someter a votación y se agrega en el en el Deuda güey o reglamento presidente de la secretaría el siguiente sentido primero el reglamento No indica ni pide una oración separada de los informes ese lugar es un lugar es cierto que el presidente de Mira el orden de la votación. Eso estamos de acuerdo y yo también hago fe de cuál fue el orden de votación o no hay ningún prevalece y tú no están Tello estante yo yo discrepo de que acá se requiera unanimidad para botar los otros informes puesto que únicamente se podría prescindir del buzón de de uniforme cuando sean incompatibles entre Sí existen elementos incompatibles pero en caso contrario de ese votado todos y cada uno porque no hay ninguna más un presente en t1. Mira con todo respeto presente un instructivo de las leyes está bien está muy bien es una orientación a música sele cámara sin embargo la comisión los soberanos función del reglamento y Ley Orgánica y no efectivo que no pasa por el reglamento secuencia presidente yo lo quiero que me diría Center Center para poder concluir punto de una florería Es que este el reglamento y un Telo venir tío me siento activo no es vinculante para los comentarios que tenemos la prestada y el mandato soberano de botar los informes y pues voy a hacer lo que yo creo que corresponde acá en derecho es que ese orden los informes de semana Espero que a calle muy aguado razonables porque En definitiva no sería sano que rechacemos los hombros y dentro del continente que yo culpa yo he sido recibieron lleva la guardo razonable hacemos lo informe hace presente reglamento al diputado electo en el diputado Sánchez Que por favor, los asesores de cada uno ustedes pueden reunirse con el imputado de diputados tiene comúnmente sumarse a esta reunión para ver Cuáles son los puntos que ustedes quieren no incluir de este informe para hacer las 11 para enero tengo ningún problema que esto sea sí, pero por una cuestión de economía procesal Espero que sigamos la sesión y que lo asesores por mientras ustedes se vayan reuniendo, vamos un pendiente que al término de la palabra la solterona, la palabra aún no hay acuerdo entre los asesores y los diputado diputado diputado lo presiente por 7 ML Gustavo la solución a lo que será el diputado cuello de quién decretó la forma reglamentaria porque ya está sentado reglamentariamente Cómo se tramitan los informes, pero la salida para esto es que los tres diputados que presentamos el informe demos la unanimidad para efectos los tres de poder votar el informe con las salvedades, que ustedes no les parece o bien. Podrían votar en contra y yo creo que salga un anime hasta yo, por lo menos no tengo problema y parece que le gustaba Santi celli, tampoco lo tendrían porque en caso contrario se produciría se produciría el efecto de ustedes podrían votar en contra o abstenerse y quizás para algunos de la posición podría ser conveniente eso porque comunicacional mente saldría quizá una ganancia política, pero yo creo que eso es un mezquino, porque lo que queremos es que hay uniforme lo más mayoritariamente aprobado para efecto de que la de los damnificados pueden avanzar con las modificaciones que se van a esperamos a probar a propósito el informe la comisión investigadora, por lo tanto, yo no tengo problema, es más. Estoy dispuesto incluso aquellos aspectos, que usted no le gusta o Tiene ciertas discrepancias a poder morigerar los atenual oso bien avanzar en otra solución, por ejemplo creciente Para mí, sería importante que se estableciera que la encargada de la reconstrucción que la ministra desarrollo social más allá. Presidente puedo hablar su salida para mí lo más relevante es que salga del cargo de encargado de la reconstrucción porque no lo he hecho bien en esa labor Eso me parece más viable para poder tener los votos porque acá estamos además entre oficialismo y oposición, estamos 76 por lo tanto hay muchas cosas que no se van a probar por mayoría y me parece que os Qué cosas que vayan en esa línea que tengan que ver con la función en la reconstrucción pueden tener más viabilidad del punto vista de los votos para tener un uniforme lo más consensuado posible porque acá Más allá de la oposición, el oficialismo presiente algo que superior un bien superior, qué es sacar a los damnificados adelante adelante y la tristeza y el abandono que han tenido este último tiempo propósito de la falta de medidas que se han tomado propósito el proceso de reconstrucción es oración presente reglamento de Hurtado Sánchez presidente transforme. Si quieren planteamos la votación separada, simplemente de lo que es la solicitud de renuncia de ambos ministro Y si quieren ellos votar eso encontra bueno fondo ya será, será decisión de ellos. Lo pronto mientras yo creo que todavía está por conversar, pero perfecto de que no sea abrir la votación de uniforme completo porque sino ahí terminamos en 3 días más, si es que en realidad lo que nos preocupa es la situación de Carlos Montes y de la ministra toro Perdón entonces podemos ir, simplemente fijemos tantos votaciones para cada uno en el fondo tomara la decisión que le parezca más correcto Gracias presente.si del accidente artículo 23 del reglamento artículo establece claramente que salvó Norma legal o reglamentaria en contrario, solo brazo aprenderse el cumplimiento. Reglamento cuando exista una niñera es decir la universidad para disponer del reglamento cuando este reglamento establece no cuando lo hacen y un acuerdo ni una ni una gota una coloración tructivo o bien una vestimenta decir acá No hay ninguna Norma reglamentaria que impida el voto de los enamorados parlamentarios de decir si lo concreto el informe tableta l Molina apartamento debe ser votado y no requiere unidad para que se dice comprado el presente es reglamentario el reglamento dice que la bulimia es alegre cuando hay una norma reglamentaria que impide o prohíbe algo Ortiz ahí hay corresponden a una amiga pero si va estar en un reglamento acá no se requiere un anime alguna para poder someter a votación los informes que han propuesto dictados Ibáñez y la diputada marzán y otros En consecuencia presidente yo a más creo que recurrir a la pantalla yo fui Me Siento la unción mi tío y también votamos info. Distintas y separadas entre sí puede someter al punto pero vería atención respecto porque creo que tengo que hacer la aplicación estricta reglamento Y eso creo que no sea viene con el leer o interpretar Qué es porque hay una Navidad para bordar otro informe, Qué son aportes también a esta discusión ya se presenta el último reglamento de para hacer súper justo debutado te hago diputado barrios que tanto hablábamos seguir con las tradiciones de los diputados presidente yo solo que solo que se junte se reúne por menta porque ya me llegó una habitación separada del presidente más que nada quería plantear para toda esta situación es que en esta sesión de Cara a los damnificados que no están viendo aquí que los diputados digan qué aspectos si quieren y qué aspectos no quieren y así de simple de Cara a los damnificados la ciudadanía trans. Carencia y digan, Qué artículos no le gusta y eso es todo. Yo creo que es súper sensado y está una comisión especial investigadora que le está dando respuesta a la ciudadanía a los damnificados y veamos como votará el diputado por su intermedio Venegas por ejemplo, qué tanta locación hizo o que viene? Aquí hace mucho un político es tremendo, pero no me hablen eso no quiero volver a lo que están tío, que veamos, cuál es su Artículo y cuáles no y que cada uno diga que sí que no es una recomendación antes de darle la de yo quiero que la sierra abogada explique nuevamente procedimiento y para contestar alguna de las inquietudes que hacía lado los diputados y diputadas y diputados ocurre que las comisión especial investigadora no están regulados en cuanto su procedimiento en el reglamento no están inculta y hay un capítulo de las comisiones especiales Investiga ahora que lo tengo acá. Pero el procedimiento no está detallado, por lo tanto, eso ha sido regulado a través de un instructivo de la secretaría general y es así como yo tengo que votar no, cómo cómo cómo hay que votar ahora es usted no estaba acuerdo si usted yo le pido le aconsejo que llamemos al Señor Landeros que venga que explicarle el procedimiento, pero yo no lo puedo hacer de otra manera, porque pues soy yo la que voy a tener problema. yo solamente estoy aplicando los instructivos que a mí me gusta el aguacate que está uno para llegar a un acuerdo por eso, pero no lo sé, sory, los diputados y mi fondo es para que haya para matar con estilo y con las intervenciones creo que tomarse un tiempo, pero bueno, respecto al informe de los diputados London Celis y Sánchez no lo encuentro un informe del todo descabellado, creo que hay un ánimo de involucramiento efectivamente por parte de los tres diputados y de conocimiento sin embargo al igual que el de Venegas el diputado cuello creo que hay un exceso de sentimientos respecto a cuestiones que sucedieron en el proceso de reconstrucción que yo creo que de alguna forma O puedes ir imprecisa o carecen de sustento y voy a irme en especial a lo que se plantea con respecto a la municipalidad de viña nos plantean y nos dicen la gestión inicial de la 14 fue extraordinariamente deficiente por tanto los municipios de viña quilpué Villa alemana, debieron haber liderado un proceso de acompañamiento lo que nos planteó la alcaldesa ripamonti. Cuando vino nos dice que se ha llevado a cabo un proceso de acompañamiento que nos permite tener una oficina en el tercer piso, por ejemplo del edificio o'higgins que a su vez ha tenido presencia desde ese kalydeco también nos plantean. Hay un notable descoordinación entre los departamentos de obras municipales y serviu, lo cual también tengo discrepancia con respecto y eso me parece un poco complejo lo de las autoridades, además regionales que no se nombran tampoco en el informe, no sabemos precisar A qué autoridades regionales nos estamos refiriendo Pero además creo que deja de alguna forma el informe o desconoce un problema de estado de estado respecto a lo que estamos viviendo como país respecto a la planificación territorial, porque tampoco hay que olvidar que la oposición estuvo 16 años en la municipalidad de Viña del Mar Por ende manteniendo los campamentos más grandes sin haber levantado el antaños información que se necesitaba usted creo que al menos. Tres cuestiones del informe que me parece compleja de poder aprobar sin embargo, estoy de acuerdo con el con el espíritu que que plantea el diputado longton de poder tener un informe lo más unitario posible porque efectivamente A quién tenemos que darle respuestas es a las personas que hoy día viven sin sustento hoy día han vivido el proceso del incendio y sobre todo vivido las consecuencias del incendio tengo toda la intención de que podamos tener recomendaciones respecto a cómo vamos a enfrentar como estado Yo estoy Completamente de acuerdo con modificar en el decreto número 332 Completamente de acuerdo Creo que es insuficiente llama incluso creo que eres un mal término Llamar a personas hábiles e inhábiles somos personas yo si algún día Vi una catástrofe esperaría que no me dijeran que soy hábil o inhábil, eso es una cuestión de sentido común. Creo que efectivamente hay que darle una agilidad al proceso de reconstrucción, pero también estoy de acuerdo con los diputados que antecedieron es que creo que para dar agilidad no sé si una persona o un ministerio ministro nuevo pueda empaparse del proceso para llevar a cabo los desafío importante es que tenemos creo que hay un exceso efectivamente de imprecisiones y sobretodo de poner sentimientos en un informe que creo que debiese ser un poco más estricto Pero además también Creo que al menos esos tres articulado hay un exceso de revanchismo político que yo creo que no le sirve a nadie, Yo estoy de acuerdo presidente con muchas cosas de que dice el informe, pero efectivamente se enojaría mucho más fácil poder tener votaciones separada de algunas cuestiones para poder llegar a un consenso y actual como cámara de diputados y no como bancadas políticas y eres un tío. Yo estoy dispuesta. Embargo también me preocupa, no poder llegar a votar, por ejemplo, el informe de la diputada marzán, que en este momento no está porque se encuentra de duelo para contarle la ciudadanía, que no es puro irresponsable, que no está acá la diputada marzán, me interesa mucho que llegamos a ese punto creo que es un punto central que nos puede llevar a la rehabilitación, no solamente habitacional, sino de la humanidad y creo que eso también está puesto en está en esta comisión hemos hablado del humano, hemos hablado de lo técnico, pero también hemos hablado de los problemas, sobre todo psicosociales que han llevado lo que han tenido los damnificados es su presidente. Yo tengo todo el ánimo de poder llegar a consenso en esta comisión de que el proceso de reconstrucción le sirva a la gente, no, a nosotros los políticos, pero también Creo que hay que ser justos y precisos respecto a la información y al menos respecto a las municipalidades, creo que hay un revanchismo político. Grasa diputada bello solamente señalar que yo también me voy a proponer que sin corpore el informe de la diputada marzán, para qué es esta parte integrante de este tipo de pero junto con la votación separada que van a ver usted también se va a incluir poder sumar el informe de la diputada marzán, pero déjame ver Lamento pobre Por eso, que ahora falta el diputado barrios te hago flores locktone barriga Ibáñez lagomarsino Navarro presidente por su intermedio señalar que asistimos una una conversación que yo creo que está siendo llevada de no al punto de lo que esperan los vecinos que están afectados. El punto aquí es que propone esta comisión esta comisión investigadora o que analiza esta comisión investigadora para que sea eficiente y eficaz el ejercicio de la política pública que hasta ahora no la ha sido Ese es el punto. Digo esto porque yo no era diputado al momento de la de la de la del Mega incendio, pero sí estuve en el Mega incendio posterior a ello quiere desolador el panorama que hay personas de Villa dulce de independencia de independencia del Olivares fin que aún espera soluciones. Y no podemos, no podemos no decir la verdad, la verdad es que este proceso ha sido lento. No hay que tapar el sol con un dedo, la verdad que uno quisiera que el estado de chile, el estado de chile, fuera más eficiente y eficaz en la resolución de los problemas que atañen a la gente que aún espera solución. en este informe que se acaba de leer por parte de la secretaría a la cual, yo le le agradezco todo el apoyo y todo lo que todo lo que han hecho durante estás sesiones de esta comisión investigadora tiene cosas que uno uno a 10 inmediatamente lo dicho la diputada la diputada en el tema del 33 2 en fin Pero también uno Espera que en esa en esta en esta resolución se han considerado por ejemplo lo que dijo en estás en esta secuencia de conversación el director de Ladrón de Viña del Mar Hola misma alcaldesa viña el mar o la misma alcaldesa de quilpué El punto está que se que uno quiere hacer un dilema político de este tema. Yo tengo ningún problema con la renuncia el punto es de que eso Finalmente colabora y la solución de los problemas de Villa dulce de Villa independencia del olivar en fin, yo creo que no. Yo creo que no tengo la convicción de que no. Entonces el punto es Cómo es cómo es como seguimos para solucionar los problemas de la gente Alguien pudiese decir aquí que el señor Coronado presente en está en esta sala ha tenido una conducta negligente o displicente para con las personas que han tenido problema en ningún caso. Porque a mí se me ha dicho un terreno que ha tenido una excelente actitud, pero que no ha sido capaz de hacer del instrumental del ejercicio del Estado poner de acuerdo finalmente a las a los diferentes agentes del Estado para la solución del problema, tenemos un problema un tanto mayor que pedir renuncia Eso quiere decir. El problema es que el estado que va a tener Sin lugar a duda una nueva catástrofe tiene que ser capaz a través de nuestras indicaciones de nuestras decisiones como comisión investigadora para que queden el registro histórico bueno de ser eficiente eficaz en la nueva catastro que sea de venir, Ojalá nuestra región y ojalá en ninguna región de chile, pero que van a haber catastros van a ver y aquí también hemos señalado que yo entonces el presidente por su intermedio. Yo creo que se puede llegar un entendimiento que podemos votar de manera consensuada una una una resolución porque finalmente está la decisión de colaborarle de manera eficiente y eficaz a los vecinos vecina que aún esperan solución que aún esperan solución. Y uno no le pudiste entregar a la a la autoridad gubernamental de ministerio en fin, una suerte de mala fe una suerte de desidia. Porque no la han tenido uno lo que puedes decir es que hace poco proactivo pide hasta ese concepto no lo cuídese, lo puedes albergar, pero no pudiese decir que han tenido desidia, aquí vino el ministro de vivienda contestó uno a una las preguntas que se le habían hecho por oficio. Eso quiere decir que el problema Está en la solución, No eso quería decir que tenemos que ser proactivo en aquello como comisión Entonces yo digo mire extender, la vigencia de la ley 21621 681 promociones con diseño de barrio impulsar proyectos integrales por sectores con usted mismo presidentes tuvimos en el en el olivar inaugurando finalizando proyecto de quiero mi barrio por ejemplo o también estuvimos con otros con el con el diputado Ibáñez en la entrega del 4 y pareo en el en el olivar Entonces yo digo podemos poner no podemos ponernos de acuerdo Claro que podemos ponernos de acuerdo porque nadie aquí está tratando decir que esto fue fantástico que no hay problema alguno y tapando el sol con un dedo Lo que sí es que que poner los énfasis en los puntos neurálgicos y Creo yo que eso están en parte de este de esta recomendación y propuesta y también en otra que al menos uno hay A redactar y sé que es necesario presidente hacer un cuarto intermedio y ponernos de acuerdo en aquello, lo diputado no, no veo problema para poder finalmente gota se ha gastado barrio solamente que todo lo que dice relación con la dirección de obra de viña y otros que lo pusieron temas de madera legal están en la letra g, pero pero vaya eso le gusta otra, por favor tiene usted la palabra Muchas gracias presidente saludar por su intermedio a los colegas aquí antes de comenzar. Bueno, no puedo estar más de acuerdo con este informe de hecho, me informé también tiene situaciones de Salud Mental y de fue una preocupación constante que tuvimos con los damnificados durante todo este proceso y a continuación voy hacer una cronología para los que Quizá antes no estaban como el diputado barrios se pueden acordar. Qué es lo que sucedió? Porque intermedio presidente illia. Todos conocemos La tremenda trayectoria del ministro es más justo donde usted está sentada, es grandilocuente mente hablo de que este fue uno de los incendios de los peores incendios y catástrofe nuestro país. Cómo el líder que debería ser y con la experiencia que tiene debería expuesto más ojo o más tinka, cómo le dicen en idioma coloquial para resolver y ni siquiera resolver porque sabemos Qué es un proceso lento pero si para darle la cara y acompañarlos en el proceso O sea que no se dio por parte de ningún ministerio me pueden hablar de gente la reconstrucción sí, realizamos reuniones donde solamente llegaron ellos pero sin atribuciones para dar respuestas Y para dar las certezas que no les han dado en 1 y medio todavía a los damnificados no estamos hablando una persona que no tenga experiencia al revés lo oficia mos lo citamos realice un montón de reuniones para que él estuviera presente y le dieras aceptes a los damnificados y cuando ustedes la desidia de un ministro que tiene toda esa experiencia sabiendo que esté uno las catástrofe más grande de la historia de nuestro país no llega las reuniones cansé. En la comisión de vivienda su asistencia los damnificados pidieron permiso en su trabajo dejaron de ganar dinero para sentarse en una mesa Cómo está para que le diera la respuesta y no llegó ni siquiera se escuchó ya en una hora ante el presidente y le dijo que no llegaba eso para mí que soy un representante popular es una bofetada en la cara de los damnificados que además durante más de un año y medio han sido abandonados por parte del Estado es verdad, tenemos un problema en nuestra legislación y tener un problema en esto institucionalidad que no responde en la reparación y en la reconstrucción cuando tiene un desastre así por eso como la cuando lo miras si fuera nuevo yo no le escribía tanto, pero él tiene una tremenda trayectoria y por eso le exigimos y no estuvo a la altura, por eso no puedo estar más de acuerdo con que se pida justamente. No, por nosotros no, por una situación política y ahora un pariente sientes lo que dijo el diputado Venegas que nunca estuvo cuando se fueron los matinales y lo vieron con una foto entregándole agua los de mi ficado él también se fue y aquí de unificados que han visto a personas que al mismo diputados que están esta mesa trabajando con ellos desde hace más de un año y medio y esa es la verdad, enviando oficios pidiendo audiencia incluso por si termino presidente con el diputado Ibáñez Tratamos de tener una audiencia con el presidente de la república, que dijo que no lo dejaremos solo preguntemos los damnificados Cómo se han sentido todo este tiempo A eso me refiero hemos hecho oficio, hemos tratado de reunir a la autoridad que le den las certezas y no han sido capaces de estar para que hablar de la ministra desarrollo social, que lidera esto que nos enteramos aquí de que ella en realidad era la que debería haber dado un montón de cerveza, que no las veo es más en una Cuándo comenzó la comisión preguntamos si alguien le había visto en terreno, la dieron una vez y no la vieron más en un año y medio Aquí voy con esto. Para cerrar con respecto a este a este informe quiero decir de que tuvimos que llegar hasta comisión especial investigadora para que recién vinieran a dar es aceptes a él ya entonces cuando tenemos el dolor de los damnificados. Cuándo vemos diputados como el diputado hereda que viene tira su ácido y se va y no lo hemos visto nunca más en su propio Distrito no vino a trabajar con damnificado, no da vergüenza del trabajo de algunos nos da pena que sus representantes populares solo vengan acá porque son las fin de un partido político y defiende a los ministros sin tener los fundamentos de peso y de acompañamiento de damnificado para estar aquí presentes hoy día y tratar de dilucidar las conclusiones para que algo así Nunca más en nuestro país vuelva a ocurrir, vuelvo a repetir. Yo creo que esto no es una situación que tengo que definir los asesores Esto se debe debatir aquí en público presidente y por eso le pido que debatamos aquí Quiénes quieren y Quienes no quieren así de simple por transparencia por probidad y para que cada uno los damnificados vean como botan sus Diputados Hemos llegado a la parte final de esta comisión especial investigadora y llegó el momento de rendir cuentas Este es el momento de definir Quiénes deben rendir cuentas a la ciudadanía, que han abandonado por más de un año y medio. Las cifras y el informe la contraloría es contundente. Yo me alegro, me alegro que la contralora general de la república esté con los ojos encima de lo que está pasando con la reconstrucción porque este ritmo es muy lento, es verdad cada uno de los ministerios y cada uno de los servicios ha tenido buenas cosas, pero muchas malas y eso lo vamos a votar aquí y esa mi presente yo le yo le yo le pido que por favor someta a votación que cada uno de su Cómo se puede decir que a uno lo de lo de lo de matamos de forma pública, Qué cosas queremos y qué cosas no queremos vuelvo a decir con un ánimo de dilucidar y entregar transparencia a la ciudadanía, qué parte de esta conclusión y que digan que quién Sí eso es todo muchas Gracias y con el orden de diputados quiero hablar pero ahorita gracias, gracias presidente bueno presidente, la verdad que este es un tema tan complejo tan delicado o no entiende de cierta forma que exista una cierta emocionalidad También aparte de lo razonable. Pero estamos hablando y que creo que es importante Más allá de que está ya es la segunda comisión investigadora que tenemos al efecto Tuvimos una problema entre tal que fuera a propósito del del incendio mismo del Mega incendio, qué precio en este caso el diputado lagomarsino tuvimos fuimos parte de esa comisión terrible dolorosa hoy día somos parte de esta comisión que tiene que ver netamente con la reconstrucción, pero yo quiero que no perdamos el foco queridos colegas, de qué? Acá murieron casi 140 personas. murieron escuchamos acá en esta comisión como el anterior el dolor de los familiares. La gente quiere respuestas? Estas alturas ya con con tantas intervenciones, no recuerdo presidente. Quién fue que señaló, que aquí no había responsabilidad del estado, Yo estoy segura, que es el consejo defensa del estado, se hace parte de esto se va a poder probar en tribunales de que si es responsabilidad del Estado plenamente segura eso no solamente como ahogada, sino que también por una cuestión de sentido común acá murieron personas, se perdió parte de la propiedad privada Pues también bien en público. Y hay antecedentes de sobra para poder acreditar de que estás muertes Y esa perdida en gran medida se pudieron haber evitado y eso evidentemente responsabilidad de las autoridades autoridades más responsables y otras con menos nivel de responsabilidad Pero existe. Estaba establecido por algunas instituciones del estado o cierto Cómo se podría haber evitado esto y no se hizo la verdad es que el informe uno de los informes que se Proponen En lo particular. A mí me parece razonable, Porque una cosa es la responsabilidad penal otra cosa es la responsabilidad ministrativa. Qué es la que está revisando también la contraloría uno le agradece la contralor nacional en la contraloría gional por su trabajo, pero nosotros también tenemos un rol distinto Qué es para establecer responsabilidades política. Quiénes son los responsables políticos el gobierno y en este caso en particular de las carteras, Por supuesto que el ministro de vivienda y la ministra desarrollo social. saca la responsabilidad yo le quiero recordar a los colegas existen distintos tipos civil penal administrativa política y nosotros no le estamos diciendo acá por gracias Te informe el señor monte y la otra ministra vaya a la ministra Desarrollo Social van a renunciar nosotros le estamos diciendo me des ayayay responsabilidad y creemos que ustedes no son las personas más competentes para esto cargo y sobre todo respecto del ministro monte. Quién hemos estado en terrenos con algunos con publicidad otros con que hemos hecho A menos publicidad respecto de las zonas afectadas la gente nos dice nos han dicho yo creo que estamos acá porque no hemos hecho un por ejemplo, una acusación constitucional respecto. El ministro Carlos Monte recordemos. Nos eso los que hemos estado recorriendo viña y quilpué se enoja dicho, yo estoy segura, que no soy la primera en esta comisión a lo que no han dicho directamente nos han encarado porque no hemos abusado el ministro. Entonces la gente los ciudadanos a lo que nosotros representamos creen que hay una responsabilidad política que se tiene que hacer valer y nosotros acá producto de esta comisión no estamos sacando el ministro de vivienda, pero si estamos diciendo que no debiera estar porque nació dirigente sobre todo por una persona que se supone que por la trayectoria que tiene debiera tener un estándar mucho más alto de diligencia, tú si yo le quiero. Decir a los colegas de esta comisión y cuando nuevamente están recorriendo los cerros de Viña del Mar estén en quilpué Piensan en eso. En qué la gente les va a decir que estamos salvando al responsable político de la nula reconstrucción yo tenido que explicarle mucho esos vecinos que lamentablemente no tenemos los votos para hacer una acusación constitucional contra Carlos Montes que la podríamos presentar porque la amo perder acá estamos haciendo bastante menos duros queso y simplemente estamos pidiendo que no uniforme se reconozca su responsabilidad política tanto de él como de la encargada de la reconstrucción la ministra Perdón Desarrollo Social si yo quisiera invitarle a eso ya a los vecinos que estén atentos por supuesto Cómo van a votar cada uno de los colegas pero también aquí no olviden lo que nos han dicho cuando estamos en la calle a los que hemos estado en la calle por cierto, la gente quiere responsabilidad no quieren que una vez más pase lo que ha pasado casi los últimos cuatro años en este país que pasan cosas gravísima y no hay consecuencia alguna Gracias presidente. Gracias a diputada flores y hará el diputado longton después de usado María Ibáñez lagomarsino y la Biblia nuyado diputada sigamos 12 con el orden debuta barría tampoco perfecto Ibáñez por favor, puede hablar. Gracias presidente hacer algunas reflexiones generales primero que todo creo que estamos todos contesten un diagnóstico de que el proceso ha sido lento y Asimismo también se señala por parte de la propiedad mi estatura su momento y el ministro Montes creo que había una autocrítica y lo deseable sería silbante algunos parlamentarios que pudiésemos tener un texto de consenso sin perjuicio de que se decía que al mente separar las votaciones y rechazar o aprobar según cada uno lo estime conveniente ahora bien, hay algunas imprecisiones técnicas y función. De lo señalado en esta comisión que toma el texto y yo no se hace cargo de lo que aquí mismo se dijo y que está en acta, por ejemplo, en materia de los datos de habitabilidad vino cenapred y entregó los datos específicos de Cuántas aguantas, le falta conexión eléctrica, Cuánto le falta agua y aquí si se señala que en realidad saben todos los datos Y eso es falso, o sea, primer elemento, hay un elemento un diagnóstico de desconocimiento que no se hace cargo de lo que aquí mismo cenapred expuso segundo respecto de la la nomenclatura de inhábiles. Está bajo un texto legal por tanto criticar la la medida de que existan los 139 familia sin solución por ser inhábiles debe remitirse al cambio normativo de hecho, lo dijo el mismo mismo que de hecho. Nos sugirió presentar un proyecto de ley Por qué no vas al gobierno? Bueno, eso pues ser una crítica ya se puede estar en el texto pero dice relación con la estructura normativa y el diseño de cómo se generan hoy las políticas de reconstrucción que por ley está mandado el Ministerio Desarrollo Social porque son políticas integrales de reconstrucción, Qué bien, Qué suave tengo la vivienda por otro lado se señala que hay una negligencia de minvu, porque abro comillas se hizo exitosamente en épocas anteriores. Yo entiendo que todavía está entregando casas del insen del 2014 en Valparaíso experiencias exitosas de reconstrucción Pos incendio, vamos para comparar siniestro o siniestro no vamos a comprar esto con los terremotos que son de una fisionomía distinta o un maremoto, Qué son de una fisionomía distinta no hay si es que uno cree que una gestión anterior es exitosa por entregar una y ya después de 10 años o después de 9 años yo creo que eso es básicamente una personita político respecto de lo que se señala sobre la cámara chilena de la construcción presidente sobre la cámara chilena construcción de un abrigo que nadie como dando al lado es como el momento en que uno pretende que la conclusión Solo que se basó la canción El falso, Porque primero que todo No es una no es una donación Bueno aquí no dice donación dice ofrecimiento que su enorme mayoría fueron rechazadas Pero quién rechazo eso en algún momento porque eran viviendas que están apunto entregarse o que ya estaba haciendo construida y que estaban en otros lugares de la comuna no está en Viña del Mar estaban en limache estaba en el muelle está en otros lugares y la gente muchas de esas gente no se quiso trasladar y aquí los puso también el problema instrumento y la Biblia seremi vivienda y nadie le dijo nada absolutamente acá en esta comisión entonces allí se señala que por haberse realizado esta oferta ese acto represente un desprecio por la sociedad civil y un verdadero escándalo eso aquí el ministro Montes dijo que no era efectivo que una noticia falsa que de hecho cuando cuando se aceptan 47 de la 1008 62 vivienda primero no era una donación porque venía con precio de una oferta con precio Pero ese precio era muy alto en función de elfec, porque ya se había probado el sé, no estoy diciendo que esté de acuerdo o no con el con el rechazo a la aprobación estoy diciendo que lo que acá sale es falso y de juicio moral, que después se señala cada como desprecio o escándalo está mal, digo si es que vamos robar algo que técnicamente no se hace cargo de lo que aquí mismo es expuso y que nadie le responde al ministro realidad tienen razón, los parlamentarios cuando señala que hay un punto político respecto del tema de la presión cuando se apunta los municipios el municipio Villa del mar durante 20 años estuvo gobernado por un administración que era opuesta a la del actual administración y las toma de terreno la regularización la construcción de vías levantamiento proyectos No se puede hacer en 2 años 8 años de una administración nueva, o sea igual te amo responsable. por eso consiguió solicitaría Enzo alguna votación por separado en lo relativo al municipio de viña del mar y respecto de el tema del municipio de la limpieza preventiva de municipios entiendo que está comisión investigadora respecto a la reconstrucción porque ya tuvimos la comisión investigadora respecto de los incendios que la aprecio el diputado lagomarsino Pero cómo se está metiendo Entonces en un tema de proliferación dicen yo sino específicamente de reconstrucción, entonces incorporemos todo lo que tiene que ver con la prevención de incendio y ahí hecho de menos que en la propuesta legislativa que quiere parece muy buena, por lo demás no sale Algo que fue casi consenso, si no fuese por la extensión del diputado Sánchez 10 de 13 Qué es acelerar la aprobación de las leyes en Dios que está en el senado esperando que dice relación con la prevención y justamente con el de maleza miento a cargo de conaf o de los municipios que no tienen puede estar para ingresar un terreno privado para desmalezar Y eso se lo vio presidente que los Cómo incorporarse que va haber algún tipo de consenso en este informe para botarlo dentro de todos los elementos que que se pretenden llegar a consensos y no lo digo yo lo dijo cenapred cuando le preguntaba explícitamente, qué piensa usted de cuál pudo haber sido una mejor labor preventiva en materia de alejamiento hijo Bueno está la ley y les pido que la casa eso hubiese sido muy muy muy efectivo eso Entonces es general para cerrar porque ya que nadie escuchado lo mismo Solo que los que dan un registro incorpores o elemento permitir que se vende por separado presidente y que podamos tener algún tipo de consenso porque aquí me consta que parlamentaria independiente de color político que estaba detrás de los oficios como el diputado tweety que ha estado como tenemos presión está comisión y como mucho de nosotros que también hemos estado exigiendo al gobierno responsabilidad más claras pero creo que eso implica también un gesto con los damnificados y no la utilización del dolor de los damnificados por Muchas gracias presiente yo tengo muy buena memoria. Y el 11 de junio de 2025 estábamos esta misma sala botando las conclusiones de la comisión investigadora anterior que recabó la actuaciones omisiones de funcionarios y autoridades en torno al mega incendio particularmente el puesto de mando unificado, pero es informe. Traía 2 capítulo 19 1 capítulo 19 que hablaba de reconstrucción y otro que hablaba de ayudas temprana y en las recomendaciones del capítulo de reconstrucción. Traía una recomendación. Qué era muy importante para mí que a la necesidad de una institucionalidad. Qué se encargará de forma independiente a serviu de los procesos de reconstrucción tal cual como existió en Chile después del terremoto de chillán de 1939 en que el gobierno de Pedro Aguirre Cerda se creó la corporación de reconstrucción y auxilio corporación que lo demás después se fusionó Concordia y la corporación de vivienda con la conjura B la corporación de servicio habitacionales y con el coach en la corporación de Urbanización y dieron vida en su conjunto a ser vivo que se transforma Una institución que no puede con lo que antiguamente hacían cinco instituciones presidente. Yo creo que algún olvida muy rápido y yo invitaría a los integrantes de esta comisión sobre todo de aquellos que también participaron en la comisión anterior a ver quiénes rechazaron esa propuesta de creación de una institución haría yo lo invitó, no quiero apuntar a nadie con el voto pero está disponible democracia en vivo.cl, jueves 11 junio 2025 comisión investigadora del Messenger porque meto podría de forma muy curiosa con la letra e de recomendaciones de índole legislativo que dice crearon incluso ya funcionará la reconstrucción que incorpora todos los aprendizajes de experiencias previas con carácter resolutivo y capacidad de coordinación intersectorial esta entidad debe permitir de manera rápida y efectiva articular la respuesta del estado en esta y futuras catástrofes cerrando el círculo de riesgo desastre reconstrucción y feliz siendo Alianza público privada Para apoyar a la orden la organización de la sociedad civil que trabaja en reconstrucción por ejemplo en campamento Me sorprende ver esto producto de que fue previamente rechazado en el informe de la comisión investigadora del medio y día lo veo firme por el origen de quienes creían este informe porque el anterior oportunidad Lamentablemente fue rechazado dicha recomendación que yo mismo propuse. Porque por supuesto aquí. No me cabe duda, que si estuviéramos en un gobierno de otro color político tiene hoy día piden la renuncia del ministro monti, la ministra toro estarían haciendo justamente lo contrario. Justamente lo contrario defendiendo a suministros y a mí me cansa, eso me agota presiente porque fui al mente no llegamos a nada, no llegamos a nada. si un país complejo tenemos una una morfología demasiado diversa, dónde lo que sucede en arica no es lo mismo que suceden Magallanes lo que ocurre en la costa la región del país no es lo mismo que ocurre en su interior o en su valle o en San Antonio o en tanta otras localidades quilpué Valparaíso Viña del Mar incluso dentro de las comunas y portando tenemos entidad que no da abasto serviu servicio de vivienda y Urbanización de la quinta Región donde antiguamente habían cinco instituciones que tiene esa labor corporación de reconstrucción auxilio en la corporación de Urbanización la corporación de vivienda la corporación de servicios habitacionales cura B entonces Desde esa V yo creo que aquí hay razones estructurales presidente que no han llevado hasta donde estamos ahora bien. Yo le digo los veo informe los cuatro perdón, pero los dos que quizás tienen un poco más de mayoría y creo que tampoco quise ha hecho todo bien y de hecho cuando llega el ministro montes en la primera sesión y dice que valora esta comisión especial investigadora Porque a propósito de ella. Sus equipos revisaron los procesos el proceso de reconstrucción Y a propósito de aquellos lograban destrabar importantes. nudos quiero se habían visto hasta que el momento yo creo que esa frase del ministro Montes Traduce bien lo que así está comisión especial investigadora y también traduce bien lo que hubiera sucedido en ausencia esta comisión especial investigadora y por eso yo parto valorando yo firme esta comisión especial investigadora, pero fue claramente promovida por la posición y yo valoro que haya sido promovida por la posición y yo creo que indicó nadie va a poner en discusión aquí en vista de lo que dijo el ministro Monte que presente quiero posible su existencia tuvieron que sentarse y revisar nuevamente el proceso de reconstrucción Y a propósito de aquello lograron destrabar muchas cosas entre ellas los cuadriláteros 12 primero partir para hablando que la oposición haya promovido esta comisión especial investigadora en segundo lugar. Qué en la mayoría de las sesiones? Hubo principalmente presencia la oposición. Y que muchas veces los preguntas más inquisitivas vinieron de allá justamente. Además de las de uno de vez en cuando Entonces en ese respectiva, yo creo que e importante valorar la comisión especial investigadora subsistencia, pero tampoco podemos. Yo no le haría aprovechamiento político como indicó por su intermedio el diputado Venegas yo creo que no me cabe duda que estaría haciendo Exactamente lo contrario, si la posición estudian invertida Y probablemente mismo diputado Venegas estaría pidiendo la renuncia algún ministro de vivienda, si es que fuera de chile, vamos poder republicano mensualmente quién sabe? Creo que aquí Tenemos que tener altura de Mira así, como tuvimos la altura de mira en la comisión investigadora incendio idea que tener altura de mí a este proceso de reconstrucción y por eso yo a pesar de que me frustra Bueno nos demoramos una comisión investigadora extranjera este párrafo, le trae de crema institucionalidad funciona la reconstrucción debió de haber venido el primer informe no voy a dar nombre Quiénes rechazaban Esa esa recomendación y que hoy día está aquí porque lo voy a decir que habiendo estado en el informe anterior hoy día la tendríamos conociéndolo tiempo legislativo, no sería así. Tú también habla de una reflexión y cuando la gente Reflexiona Por supuesto que uno puede valorar que exista una reflexión y que abro vos y también de esta realidad que hemos visto el día de la incapacidad de serviu, en llevar en paradero la política habitacional tradicional con la política habitacional respecto un proceso de reconstrucción sigue la convicción. De Quiénes era incluso él Ya yo creo que eso no podemos no valorarlo así como también tenemos que valorar la existencia esta comisión investigadora reconocida por el mismo ministro monte y por eso presidente Yo creo que usted es mejor que cualquiera para liderar. Un proceso el agua Guillermo a un consejo suyo ingresado alguna votaciones separada Claro pero creo que podemos llegar a un consenso. Un acuerdo que nos permita tener un texto consensuado está un texto más consensuado tampoco que ignórela 1800 vivienda ofrecía por cámara chilena construcción Quizá no voy a no voy a ponerlo en duda quizá le preguntaron a un par de damnificados Y es que estaban disponibles dijeron que no pero uno que la estaba tocando ahí la estado toca le ha tocado estar ahí y conversar con mucho a la inmensa mayoría no le preguntan. De que estaba en disposición de irse alguna esa vivienda que alguna de ellas tan alejado una estaba mucho más cerca en quilpué Villa alemana, limache, viña Valparaíso no era la notaría este no hubiera solucionado la totalidad el problema y la solución a una parte sí, hijo bien. Aquí que han muerto y muriendo 139 personas en el incendio, el 2 de febrero y aún fiscalía que valoramos por cierto, que haya que tenga dar la reja los responsables materiales del incendio, 1cita declarar A quiénes, participaron del puesto de Mando unificado y que ahí hay responsabilidad, cómo lo logramos determinar en la comisión investigadora anterior, pero si presidente y con esto término finalmente lo espere harto rato para poder hablar. Y harto se hablaron más vez y se extendieron bastante más tenemos 139 falleció y hasta hace pocos días, había fallecido 84 personas esperando la reconstrucción. Es todo un drama humano. es todo un drama humano que yo creo que a todos nos conmoción a vale No emocionamos cuando escuchamos a algunos damnificados hablar de su videncia, que no pudimos escuchar la comisión investigadora del Messenger y quede así escuchamos, Yo creo que por ellos y por ella Tenemos que tener la altura de miras suficiente para hacer lo que haríamos. Si es que fuera nuestro gobierno. Lo digo la posición porque probablemente el propio el gobierno siguiente sellado posición y quizás no aquí Quizá en otra región va haber un Messenger y yo sé que van a estar en la posición que probablemente otro diputado están defender a su ministro y ministro tengamos la altura suficiente. Porque sin lugar a duda con Cómo están las cosas ahora. Hay una probabilidad cierta de que tampoco estaría tanto mejor lo mismo en una en una en una catástrofe de la envergadura que fue esta. Se lo debemos a todas y todos los de mi ficado tener la altura de Mira suficiente Y sobre todo a quienes perdieron la vida durante el Messenger y después del Muchas gracias, preciosa. Muchas gracias a diputado lagomarsino, Y por último la diputada nuyado y después de esto voy a hacer un voy a dar una suspensión por unos 15 minutos para que se pongan de acuerdo, lo distinto asesores por diputado y diputada por cierto, te gusta presidente Muchas gracias en la comisión de vivienda tuvimos la oportunidad también de poder recibir a muchos familiar y representante de Quiénes fueron damnificado en este incendio de igual, manera recibimos la mayoría de los parlamentarios de esta región, por lo tanto conozco muy de cerca, lo que expusieron todas las dirigentas y también valoro que está comisión. Lo señaló el ministro Carlos Monte pueda dar respuesta efectivamente todo lo que se pretende hacer lo más rápido posible que es lo que esperan aquella familia que tuvieron tanto dolor Lamentablemente el estado con su burocracia Generalmente ha sido muy lenta y por lo tanto yo valoro, la la exposición que escuchamos de de las recomendaciones que se hacen por lo tanto creo que también este parlamento tiene la responsabilidad de poder legislativo de también el ministro tiene la responsabilidad de poder modificar decreto de extender el fondo de emergencia transitorio como aquí se señala, pero lo importante que el estado debía, no está preparado para poder atender situaciones de catástrofe siniestro desastres naturales mucha familia que viven en zonas y 3. Y que también están sufriendo situaciones de precariedad y al no estar preparado significa que no hay una institucionalidad que tenga la capacidad de ser Ángel inter-operativas donde se tienen que Juntar todas estas instituciones. El mide eso el mismo municipio las coordinaciones que se deben establecer con el mozo Lamentablemente al no tener Cómo se señalaba las recomendaciones de la comisión anterior que dice el diputado largo lagomarsino también desde mi rol como integrante de la comisión de vivienda propusimos un proyecto de ley que está durmiendo en nuestra comisión porque han habido otros otros proyectos que se han agilizado, pero ahí lo que se plantea en este proyecto es Cómo se puede atender a través de una agencia. Al de construcción situaciones de catástrofe situaciones de siniestro, cómo lo que ha ocurrido aquí desastres naturales y al no estar preparado, por lo tanto nombramos a una persona como fue el caso de Don Patricio para llevar a cabo la coordinación ya los parlamentarios que salieron no tenían problema en coordinarse con él, pero como éstas coordinaciones se hacen con cada una de la seremia y director y que tienen que cumplir su rol. y los municipios También tienen que entregar antecedente y colocarse a disposición Si no existe, está institucionalidad estructurada y que pueda dar cuenta de aquello, la verdad que podemos estar pidiéndole la cabeza cualquiera de los ministros en situaciones que pudieran ocurrir hoy día con el cambio climático y varios desastre hemos tenido que asumir y por lo tanto ante esas situaciones nuevamente vamos a estar en un fracaso y no quisiéramos nuevamente tener dos o tres comisiones para lograr entender que es lo que tenemos que hacer por lo tanto yo creo que esto no sirve para efectivamente revisarlo coordinar, no, pero cuando uno solamente anda en la búsqueda de De decir aquí la responsabilidad política es de Tales la responsabilidad política lo tiene el Estado chileno y en el cual también este poder legislativo tiene que asumir está responsabilidad Ya no habían pasado situaciones complejas y no le hemos podido responder por lo tanto yo creo que el pedir hoy día la cabeza de un vinito como el cazón ministro, Monte o ministro que tiene un avance en un plan de emergencia o ministro que tiene un consejo asesor, que de manera permanente se reúne también con representantes de las instituciones privadas y ahí está la cámara chilena de la construcción, pero la cámara chilena de la construcción en ese consejo al cual también soy parte, no ha ido hace a decir. Mira, yo le voy a regalar y colocó a disposición tantas vivienda eso no ocurre porque finalmente lo que ocurrió con esta vivienda que se han entregado también fue la oferta que tuvieron ellos, pero se le tuvieron que comprar entonces nadie aquí ha ido ofrecer o a regalar eso debe quedar claro cuando nosotros decimos porque no se aprovecharon esa vivienda que la cámara de sirena Freezer y los procedimientos burocráticos cuando tuvimos que escuchar mucho de que ellas personas estaban en Campamento que solamente habían recibido un bulo muchas otras que tenían vivienda que eran de autoconstrucción que no estaban registrada no estaban regularizada, por lo tanto esa burocracia tampoco se pudo apoyar por otro lado, nos encontramos con la situación de personas que era su segunda vivienda y por lo tanto también quedaba en excluida, entonces tiene que haber una respuesta de parte del Estado Qué significa hacer todas las modificaciones para que en el momento en que se decreta un estado de emergencia por situación de catástrofe y de siniestro gravemente Cómo ocurrió a Toda esos requisitos no deben estar obstaculizando la construcción y como ustedes bien señalan y se atrevieron aquí a colocar la posibilidad de que también se pudieran expropiar terreno. Eso es positivo de parte de los parlamentarios de oposición hoy día que lo hacen porque las improvisaciones le tienen tremendo pánico, pero si se trata de una situación tan grave cómo está entonces hay que buscar y colocar a disposición todos aquellos mecanismos, la legislación tiene que ser capaz de resolver la por lo tanto este desafío no puede quedar solamente en decir Yo quiero la cabeza de la ministra toro porque no ha venido a las coordinaciones, Yo quiero la cabeza del ministro ministro que debe terminar con el plan de emergencia, debe dejar comprometido más presupuesto para los años siguientes debe darle continuidad que yo. Tivamente aquí el estado en su conjunto y esto tampoco libera a los municipios ninguna de las instituciones porque también uno escucha muchos alcalde, cuando sucede esto no está responsabilidad en el Ministerio del ministro de vivienda, pero tampoco ASUME la responsabilidad porque la institución del estado que más cercana está a la familia y la municipalidad y no puede mirar para el techo Entonces yo creo que en lo que plantea el diputado lagomarsino, que Ojalá haya podido o este conforme con la con la propuesta número es de que crear una institucionalidad funcional a la reconstrucción, puede incorporar estos aprendizaje experiencia que se dice, pero más bien Es como está termina construyendo en el tiempo breve cinetto requisitos, que hoy día el estado de manera burocrática tiene efectivamente muchos van a van a poder decir nosotros no es. Mostrado más que otro pero que hay una responsabilidad que política y quién de todos nosotros y esa responsabilidad política y la tenemos que asumir legislando y avanzando en tener una institucionalidad que no nos encuentre otra vez Un año más sin esta reconstrucción Y dónde también hay que entender aquello porque no va a terminar 2026 2027 seguramente 2028 Ojalá sea cuanto antes pero tienen que estar cuantificado y disponible aquí o recursos y que yo sugiero señor presidente que en la conducción lo está haciendo muy bien y espero que la voluntad del debutado o tú y yo y el diputado longton permitan poder definir y no estaré la búsqueda de cabeza, sino más bien como nos entramos hoy día en esta responsabilidad que política y de todo es del Estado están bien de nosotros de cada uno que estamos aquí y que queremos. entrégalo lo mejor a cada una la familia que hoy día lo están pasando muy mal y ellos esperan también que nosotros seamos aiquile que no nos vemos tanta vuelta y que no estemos peleando y responsabilizándolo unos a otros yo debo valorar la gestión que en la región ha hecho el cerebro y Fabiana y la directora Isabel de la Vega sé que han habido complejidades, pero siempre buscan el diálogo entonces Considero que también el director y la seremi en esta región tienen que haber estado a la altura de lo que había ocurrido Sí eso no ocurrió también sería importante revisar porque los Rem y los directores son el Ministerio en el territorio y ahí tienen que ellos colocarle todo el empuje y si no lo hacen no Esto va escalando hacia arriba porque al final la responsabilidad nosotros decimos se la dejamos al ministro cuando hay un equipo en terreno, hay muchos profesionales que tienen que cumplir con esos rol hacer la Vega Y como Nosotros también estamos mandando para hacer la pega y con nuestros asesores, llévalo a cabo. Creo que es lo que correspondería revisar en el actuar de cada una de aquellas personas, gracias. Muchas gracias diputada No ya voy a suspender por 15 minutos para que puedan llegar algún tipo de acuerdo a los diputados y diputadas y qué son las 17:26 a las 17 4217 las 5 a las 17 con las 5:26 hasta las 17:42 Para volver la voz por separado y si hay Y luego el informe presentado, no, no sé, es que ese minuto y volvemos va a suspender. Antes de la palabra a las 7 de abogado solamente señalar que ya llegó al mail de ella, se lo va a entregar otra bandera cada uno de ustedes el orden Coque llegaron las conclusiones recomendaciones propuestas de ahí está la orden para que ustedes puedan verlo, primeras ingreso ya recibió lo acabo de ver el doctor Sánchez y la mía y después sigue el orden que está justamente presentaban esta comisión. Se creó gas usted puede dar curso de cómo va a proceder a la votación se graba, por favor, para empezar con la votación, por favor, y que cada uno ya pueda pronunciar ser diputada, vamos, entonces a partir por la pasta Mezquite votación aquí. Yo tenía marca las que querían las que La que habían pedido votación separada, pero el diputado Pues yo recién eso llegará una no la he dejado todavía diputado güey. Usted me puede ir indicando, por favor, entonces la página uno no habría no habría ninguna votación mejor que el diputado pollo me indique dónde están sus votaciones separadas para votar en bloque todo es que para no ir botando hoja por hoja, sino que botar todo en bloqueo, si te pase de eso me voy a decir que ya estamos acuerdo unánime tanto para incorporar y logró sea contradictorio y compatible la informe de la diputada Carolina marzán y también allí unanimidad de los 13. uniforme del diputado Sánchez de Dalton y vamos a votar por las votaciones que han pedido que sea para antes de partir aplicando procedimiento que hacer una consulta las indicaciones de las propuestas y conclusiones de la diputada marzán, no es todo el informe al que vamos solo las propuestas y las conclusiones porque si no va a quedar todo lo que diga relación a la Salud Mental y que no sea incompatible de contradictorio con lo que quieran mente se apruebe luego de la oración separada y lo que resta le informes a partir de su reciente hay que votar en bloque este informe el primero y luego de eso se entienden excluidas las votaciones separada Entonces vamos a votar las que no están pedidas Luego de eso empezar a botar las que las solicitudes semanas de votación se paraba que parece que el diputado Yo me indique ahora para hacer un trabajo más rápido Cuáles son las sus solicitudes separadas de votación separada diputado cuello si me puede indicar la página y el presidente de la primera por separado por escrito es el título de la conclusión número 4, qué consta la página número tres que porque el título habla de la negligencia de Mystery vivienda urbanismo, creo que seas una imputación de responsabilidad, que no estás juntada y pronto quiero o que se rechace hoy en que se cambie el título por actuaciones botada formulación que no realiza una imputación de esa característica. Eso presente continuo Luego de eso, Entonces diputado cuello podemos seguir viendo que otras más te está pidiendo su solicitud de votación. Porque hay varios o no son las votaciones para que agarre central de usado cuello a todas Pero antes que se le indique, por favor, el Uruguay el diputado longton vio la palabra presidente muy breve de la página de conclusiones y recomendaciones de índole legislativo, complementario reglamentarias y administrativas porque según dice, además con el texto que no solamente son modificaciones legales para ser presidente reglamentarias, ya está establecida. El párrafo final de la conclusión número cuatro de la conclusión número 7875 y la la parte final segundo párrafo es la parte inicial hasta el serbio. Luego la de la página 57, la conclusión. número 8 luego la página 10 Hola conclusión 11 para quinto de la conclusión número 1111 rulo página 11 los párrafos 11 12 y 13 concurso no sé si la foto 11 12 y 13 se puso falta leer hasta 1 de la página 45 de volver página cuarto ya página 4 los numerales 4 y 5 policía de la cruz, número 4 y finalmente tarjeta solicitar la letra b y se pide las conclusiones finales de rectas perpendiculares y votamos también las de la diputada marzán. y llegó una del diputado Ibáñez para tomar, por favor, si voy a tomar la votación entonces de las conclusiones y propuestas que están en el en el en el uno en El Paso uno con exclusión de que ella respecto de las cuales han pedido otras 11 para diputado barría diputado barrio diputada bello diputado Arroyo A favor secretaria Muchas gracias, por favor. a favor a favor secretaria a favor secretaria, por favor el resultado aprobación la votación separada, por favor ese que te ahogas En la página 3, el título cuarto que dice negligencia del Ministerio de Hacienda perdón de vivienda y urbanismo que está tomando no, si se justifico después no ese día no a los dos días más Vamos al ministerio vivienda y urbanismo en la aplicación, por favor, negligencia el diputado cuello Muchas gracias presidente mire Una sugerencia. Quiero subir y que se cambia la palabra negligencia actuaciones de misterio vivienda, etcétera, etcétera pabellón acuerdo en esta es el título solamente lo vas a que la palabra negligencia implica hacer una importación que regresar pantalla más no corresponde una comisión investigadora es suficiente con la propuesta del diputado cuello, qué actuaciones del Ministerio de vivienda y urbanismo en la aplicación de facultades que le concede la ley para facilitar la reconstrucción nomás un minuto, por favor, vamos a votar la propuesta el diputado cuello o la que estaba negligencia el Ministerio de vivienda y urbanismo, vamos a votar entonces. Si no vamos a votar lo que está negligencia el Ministerio diputado barría encontra diputado barrios diputada bello diputado rollo diputado Luis cuello v flores diputado Ibáñez diputado lagomarsino, diputado longton diputado Molina en contra diputado Sánchez diputado tarea yo voy a votar por qué la palabra negligencia la podríamos cambiar por abandono desinterés indolencia indiferencia y prudencia omisión olvidó decir ya está lleno de no le gusta ninguna disputa continuamos aplicación votación a favor Gracias diputado Celis 5 votos a favor 7 botón contrarresta sábado tonces la palabra negligencia y vamos a votar ahora la propuesta del diputado cuello que hablaba de actuar de acción tributaria por favor actuaciones del Ministerio de vivienda y urbanismo en la aplicación de facultades que le concede la ley para facilitar la reconstrucción diputado barriga favor diputado barrio diputada bello diputado rollo diputado cuello por favor diputada flores diputado Ibáñez diputado lagomarsino diputado longton diputado Molina A favor de Gustavo Sánchez siendo siempre una condena, Ojalá lo más categórico a favor, quiero mejores de mi definiciones abandonó desinterés indolencia indiferencia Pero bueno también voy a votar a favor para que sea actuaciones cuando hay 10 sinónimo mucho más fuerte que eso se siente vamos entonces a la página 4 en el párrafo que dice más aún cuando no se trata un incendio particular sino de una catástrofe en que el estado es corresponsable en tanto votación separada de los numerales 4 y 5 que dice responsabilidad del estado por la falta de planificación y ejecución de planes de emergencia. nivel regional y de los municipios que hay sectores que se quemaron por no haberse realizado las labores de limpieza preventivas por parte de los municipios que termine la ciudad de abogada ya el numeral 4 lo vamos a votar separados, verdad numeral 4 y 5 no completo los 4 del 5 y responsabilidad de estado por falta planificación y hay sectores que se quemaron por no haberse realizado labores de limpieza ambos juntos diputado barrio Perdón barría diputado Barrio diputada bello diputado Arroyo diputado cuello diputada flores al presidente es el y estoy muy convencida de que hay responsabilidad del estado de que gran parte de esta catástrofe se pudo haber evitado cómo quedó de manifiesto en la comisión por eso voto a favor Gracias diputada diputado Ibáñez tenía una propuesta porque estoy de acuerdo con lo que señala diputada flores Pero eso no? Por eso querías una propuesta para que no tuviésemos que votar, pero en fin, ya está en voto en contra, pero si hay responsabilidad del estado por falta de planificación y por no haberse hecho las tareas preventivas, el tema que aquí el estado también incorpora los municipios, digamos dentro de la lógica de lo que es un estado, pero bueno, en fin entiendo que no hubo espacio para plantearse diputado lagomarsino. diputado longton Gracias y gritaré bastante evidente que al menos este tipo de responsabilidad existe no habían planes de emergencia en el regional y de los municipios y no sé si hicieron la hora de limpieza preventiva eso para eso también bastante constatado No solamente en este comisión. Si no llevo la fuerza de los hechos, es que parece que si no llegamos concesión este tipo de cosas el germen político se va a involucrar en cada una de las conclusiones y vamos a perder Los quería imparcialidad que tenemos que tener y garantizar garantizar los diputados está comisión Así que voto a favor Gracias diputada Molina yo creo que estamos trabajando el tema de la reconstrucción de la Génesis del incendio. Entonces creo que no no corresponde encontré Muchas gracias. confusiones de parte de todos los que pueden estar escuchando no sé aquí dice el punto 4 hubo funcionarios del estado presuntamente involucrados en el delito de incendio hay responsabilidad del estado de la falta de planificación urbana hay evidencia una mala gestión de emergencia por parte de los organismos competentes hay responsabilidad del estado por la falta de planificación y ejecución de planes de emergencia a nivel regional y de los municipios hay sectores que se quemaron por no haberse realizado las labores de limpieza preventiva por parte del municipio si no estamos de acuerdo todos con esto yo no sé si sirvió de algo está comisión especial investigadora Yo lamento mucho que no esté los votos para que este punto permanezca acá porque es fundamental que le demos una señal al gobierno y le una señora todo el país de que al menos estamos de acuerdo con que hubo responsabilidad del estado en el hecho de que el fuego llegará desde Casablanca hasta viña del mar y quilpué eso no es normal no es esperable y no debes hacer aceptable bota favor secretaria presidente Diputado te dado al evadir la responsabilidad del estado por la falta de planificación, aquí no ha pasado nada colegas, por lo tanto estamos todo bien los damnificados están tranquilos, porque esto no se va a volver a repetir en un futuro porque no habían planes de evacuación, no habían planes de emergencia y un largo etcétera como dijo el diputado tanto longton como como Sánchez y no sé porque no va a estar exponen las conclusiones. Aquí nos están viendo todos y cada uno los damnificados y están viendo como votan ustedes también colegas Y esto es nuevamente abandonarlos en nuevamente pegarle una bofetada, cómo lo ha hecho? El estado es tu último año y medio voy a votar a favor presentar ya, pero no estoy tranquilo, porque por la votación se va a perder este punto y este es el centro de lo que estamos hoy día discutiendo tanto costo traerá de autoridades para que diera las certezas y hoy día estamos eliminando parte de esa certeza querían a él le daba hace mucho tiempo a los damnificados, como dicen, hay lugares donde uno tiene que reclamar que la presa o el punto trenza o el pensador yo creo que no es así es aquí de cara aquí le ya lo trámite cado que todos deben dar la cara a un xiomi voto a favor presenta. Gracias diputado te sientes el estado del Estado traspaso laboyanos de turno, eso es lo que quería y calificado creo que a las víctimas que fallecieron al menos Gracias a él los dos párrafos, la votación 512 favor 6 votos en contra set atenciones no hubo quórum para aprobar ni para rechazar y una pensión 65 61 por reglamento del diputado lagomersino Muchas gracias presidente Yo quiero decir que fuera de que hayamos portado esto esto escapa al objeto de la comisión de reconstrucción ayudas temprana y yo quiero hacer el punto respecto de que estoy hasta el informe de la comisión investigadora del Mason Dios ya hay dos comisiones la de Mega incendio ya se hizo este punto y ya está mucho más extenso quedó numerales de hecho Ahí el diputado Sánchez en aquella ocasión lo presento y sea Bravo Y cómo son como dos páginas para ser sincero entonces fondo de reglamento últimos prender Lamento por favor, presidente y considerando, que estoy de acuerdo con lo que tenía el diputado lagomarsino sin perjuicio de aquellos, el texto cruza totalmente también la dimensión de la prevención y digo Si es que Aceptar es argumento el deudor a comer, si no tendríamos que al menos cercenar un tercio del texto y eso no va a aburrir Entonces cómo no aburrir yo sugiero solicitar por unanimidad porque yo creo que estamos toda cuerda que nadie quiere mentir porque efectivamente responsable estado y trasciende los gobiernos que lo el numeral 4 y 5. Si es que hay unanimidad y la y la vida por su intermedio presidente que hay responsabilidad de estado por parte de asignación y ejecución de emergencia fin punto y creo que eso es más honesto y se condice con lo que señale gustado lagomarsino, porque me siento mal. Yo dando en contra de esto por una acepción jurídica y quiero que que lo que de verdad ocurrió digamos que que el estado las leyes que se yo no no pudieron digamos prevenir estacas reglamento reglamento para entender bien el fondo de la solicitud que hace el diputado Ibáñez tengo que entender prevente las razones y todavía no entiendo Cuál es el conflicto jurídico. Porque quiere se plantea en el lo quiera el texto del punto 4 sí estaba muy claro, entonces Todavía no entiendo, no sea que estaría dando el acuerdo, no perdón, es unanimidad igual sería de mí dado que yo sí, yo también escribo lo que me entiende bañes. Yo agregaría dado que el fondo está con queso no tiene un desarrollo en esta este informe que se haga referencia el aseo, que dure que se haga referencia a la agencia investigadora, que ya probamos qué precio le puedo hablar, comérselo. Besos entregas yo para eso requiere la unanimidad en la misma lógica. Lo que dice el diputado hay una, hay una responsabilidad estados evidentes el punto en la otra cosa y cómo lo dicho el diputado lagomarsino sé es que eso está incluido las conclusiones en fin. punto de venta de requerir la unidad para eso quería ver si para votar de nuevo lo que hacía el diputado Ibáñez pero vas hacer guere la oralidad los integrantes de la comisión, por favor, ponga lo que quiera hacer el numeral 4 y 5 y establecer solamente un número numeral que sea de los siguientes 1 1 que señaló siguiente Aires el estado por falta de eficacia y ejecución de planes tal cómo lo contempla la comisin investigadora tanto tanto tanto que no te entiendo que tienen un número que salieron número de la comisión me llevaron acuerdo cuál número de la y hacer remisión a las conclusiones de la comisión investigadora cabrona la LEIDSA Aquí hay problema. Estoy la uni mi a la oralidad, diputados votaciones emergencia tal como lo señala, la comisión investigadora de la número, no sé cuánto es secretaria. Hay una línea para botar. Eso separadamente perfecto el 4 y 5, qué haríamos el 4 y 5 el 4 y 5 quedarían subsumido reducidos a uno solo que dice. Responsabilidad del estado por la falta de planificación y ejecución de planes de emergencia tal como lo estableció la comisión especial investigadora y yo busco por el nombre legal de incendios sí, pero pues lo buscó diputados electos, por favor, vamos ahora a la misma página 4 hay un párrafo que dice la negligencia el párrafo final quiere no sé si quieren que lo lea que está pidiendo eliminar si me gustaría también consultar la secretaria si no se entiende esto desechado por incompatible con lo que acabamos de acordar. 4 y se me confirmó en ese sentido Entonces quiero saber si con esta votación no estaríamos entrando en algo que es contradictorio con lo que vamos a cortar por una línea no presidente, no, no, no es no es contradictorio. no, y había pedido la votación separada con anticipación diputado Sánchez ya votemos presidente Entonces ese párrafo, no sé si quieren que lo lea Octavio su está ahí es el último del 4 diputado diputado, barría diputado barrios cabello, diputado rubeo diputado cuello cibuta flores diputado Ibáñez diputado lagomarsino, diputado longton diputado Molina diputado Sánchez Muchas gracias para que todos sepan que estamos votando aquí, por favor, sicamente dice que víctimas han señalado que en más de una oportunidad la máxima autoridad Ministerio de vivienda ministro Carlos Montes no promovió espacio para escucharlos directa Eso es lo de aquí, aún no están botando contagio por supuesto voy a otra favor, porque lo que las víctimas porque lo que expresan en vigencia, en eso, Por supuesto que es una negligencia, no recibió la víctima Pero bueno, yo voy a votar a favor de estos porque efectivamente lo que la misma víctimas no han señalado Y por supuesto que no responsabilidad o estar del lado de ellos tributado te hago. secretaría lo largo de esta Reconstrucción genere varias muchas reuniones en las cuales se sitúa el ministro que no llegó tampoco autoridades locales regionales y tampoco alcaldesas y lo que quiero decir antes de anunciar Mi voto es lo siguiente secretaria en favor, porque nosotros somos la voz de los damnificados el ministro Montes suspendió su venida la comisión de vivienda de la cara una hora antes dejando espera o se ha dejado dejó esperando damnificado habían perdido habían pedido permiso para poder estar ahí O sea no ganaron dinero sino que perdieron Dino para ver en escuchar su su su cerveza que no le dieron suspendió dos veces prólogo prólogo prólogo y la única reunión a la cual accedió a que fueran damnificado. Y diputados y ahí debo decir que fueron varios la condición para recibir a los diputados era que no fuera los damnificados otra bofetada me lo dijo personalmente porque estaba mi asesora Ahí está grabado. Demás, salió la prensa diputada, sino la ley o la condición para reunirse con los medios, verdad? Fue que no fuera los damnificados nuevamente una bofetada Sí eso te lo quieren sacar de este informe. Están de parte de los que siguen abandonando los damnificados, la pregunta este, qué parte están van a defender al ministro negligente o se van a poner de parte de los damnificados anuncio Mi voto a favor por la justicia social, que todos piden diputado presidente. 5 votos a favor 7 votos en contra Entonces se rechaza ese párrafo, la página 5 hora segundo párrafo de la recomendación 7 que dice la gestión inicial de la catástrofe hasta como el propio serviu segunda parte del segundo párrafo página 5 Siete mala gestión de la Administración segundo párrafo parte final la gestión inicial o segunda parte la gestión inicial de la catástrofe hasta el serviu, diputado barría contra diputado barrios diputada bello diputado rollo diputado cuello diputada flores diputado Ibáñez diputado lagomarsino, diputado longton diputado Lina diputado Sánchez Muchas gracias el texto dice que la gestión inicial de la catástrofe fue extraordinariamente deficiente tanto por parte de los municipios de Viña del Mar quilpué Villa alemana que debieron haber liderado un proceso de orientación acompañamiento. información conjuntamente con el celu y otros servicios como el propio serviu si no estamos de acuerdo con eso yo creo que insisto en el punto está comisión tiene graves problemas de de llegar a la conclusión que la misma ciudadanía está demandando tenemos que exigir las respuestas al gobierno independiente las diferencias políticas por lo mismo voy a votar a favor de este María gustado que hubiese más consenso en esta comisión en cosas tan básicas como la diligencia y la falta de Claridad y de respuesta que ha ido de carga las víctimas tanto de parte autoridad de gobierno como autoridad municipal a favor presidente actual dirigente están todo el municipio de viña real para Isaac de quilpué Villa alemana del serviu, de la 20 creo que más que datos de relato y es la realidad Así yo tapado un minuto a 5 votos a favor 6 en contra una atención entonces rechazadas aparte del párrafo es la misma página el siguiente párrafo hasta todo el párrafo final que empieza con su registro también hay que botarlo diputado barría no se registró en contra a Rafa se registró una notable hasta contradictoria es diputada Perdón que estoy resfriada diputado barría diputado Barrios mire, aquí se señala Porque tanto que se que se quiere proteger a las víctimas siento de mal los tres alcaldes, políticamente afines al gobierno central está falta de coordinación resulta más inexplicable aún como si hubiese sido una una acción no una opción voluntaria de verdad los vecinos damnificados sufrió en constante versiones contradictorias Entonces si es que realmente se quiere proteger a los vecinos damnificados Yo no sé en qué momento se le imputa una acción voluntaria Boston contra Gracias diputada diputada bello Gracias diputado Arroyo diputado cuello diputada flores diputado Ibáñez fuerte peso diputado lagomarsino biografía mayor diputado longton diputado Molina Diputado Sánchez Muchas gracias a Dios y yo no entiendo por cierto medio presidente el diputado barrios en qué parte del párrafo de que se imputa una acción deliberada No hay ninguna imputación aquí de una acción deliberada voy a repetir un concepto que el mismo texto usa notable descoordinación esa discordia nación puede ser por error puede ser poner licencia puede ser de forma dolosa No lo sabemos pero aquí en ninguna parte se dice que esto fue algo deliberado, simplemente que no existió la coordinación quiere la misma víctima en requerían para que existir una respuesta Clara obviamente nuestra responsabilidad sigilo un estándar mayor a la administración del estado. Hijito en el punto que he hecho en ocasiones anteriores, es que no estamos de acuerdo en esta comisión de exigir es estándar mayor a la administración. Nos estamos equivocando insisto, nos estamos equivocando, No puedes decir que le pongamos la vara tan baja a la administración municipal Muchas gracias, ya le quiero contar que por todo esos damnificados que lo mandaron del serviola Don del Don de nuevo al Ministerio del Ministerio de nuevo, la municipalidad de la municipalidad de nuevo a ser vivo y a todas y cada uno de los servicios públicos sin respuesta sin certezas y sin nada de información Durante un año y medio voy a votar a favor, porque definitivamente lo que sufrieron los difica y está reflejado lo que lo que vivieron Porta socas portazo de las autoridades que le tenía que dar las las certezas que le tenían que dar la información correcta para saber cuando iban a red. Sus hogares recordemos queridos colegas que están votando en contra perdieron mascotas perdieron familias y perdieron sus hogares Y luego el Estado a través de la burocracia ineficiencia y la falta de certeza le dio golpe. Bofetadas puerta tras puerta fui con ellos a todos y cada uno sus trámites y recibimos portazos constantemente por eso los diputados en esta comisión que están votando en contra están votando a favor de es autoridades que pegaron portazo los damnificados Gracias secretaria anuncio Mi voto a favor Gracias secretaria abogada a ver yo creo que es difícil sostener que aquí hubo coordinación comunicación o como quieran definirlo dentro de los apartamentos de obra de viña a quilpué Villa alemana, ojo aquí no hacen alusión a un alcaldía en particular Y además que hayan tenido una solución Clara una comunicación nítida con los damnificados con la víctima seguir yo no votar en contra de esta si quieres voto a favor estoy convencido de eso ya se siente 5 votos a favor 6 votos en contra una atención entonces rechazado el párrafo. Ahora hay una petición de votación separada de todo el párrafo inexplicable y negativo del serviu, la región de Valparaíso recibir apoyo de la sociedad civil diputado barría página 7 y 8 contra diputada bello diputada bello diputado rollo diputado cuello voy a contar Mi voto porque está en un minuto Porque este este capítulo se refiere a un ofrecimiento de la cámara chilena de la construcción que nos fue un evento de donación acá se habla de que se rechazo una ayuda de que se rechazo una puerta de la sociedad civil cuando en realidad se refiere una oferta que se legítima Por supuesto que la casa plantea como que fuera una donación Entonces esto Eso no es exacta, esté muy exacta pronto. Creo que no corresponde y plantea en su término Y porqué disfrazan la realidad y por eso voto en contra. grasa diputado diputado flores y se expuso acá Nayeli se pregunta el ministro Más allá de las críticas que uno pueda tener le pero esa información es falsa y además yo juicio de valor que se toma como consecuencia de una información falsa Entonces se rechaza Muchas gracias yo hasta comisión los correos donde efectivamente como bien planteada por su intermedio el diputado cuello esto no era un apoyo y tampoco O sea la sociedad civil es muy grande yo iría era una oferta del empresariado lo cual es legítimo tienes y era una ayuda que servía yo no puedo dar en contra de esto porque No es mentira, aquí hubo correos que llegaron a la comisión investigadora, que lo leímos hubo afirmaciones de la cámara chilena construcción y yo creo que esto es algo que podría ser rectificado por parte de la oposición para salvar las dudas que tienen que se han planteado, pero en el fondo es algo cierto, Sí que llevo tu favor frase diputado diputado longton diputado Molina diputado Sánchez Muchas gracias, sé que en el mismo ánimo de la propuesta que hizo hace un rato al diputado Iván y yo le quiero hablarte que si la palabra ayuda o apoyo les hace ruido que sí estaría la eliminada de esta comisión para reemplazar esa palabra por ofrecimiento y se están todos, no sé si sería necesario crecimiento. Pero que se lo importante que quiere consignado que se rechazo que aquí como dice el diputado lagomarsino por su intermedio presidente hubo un error garrafal por parte del serviu, enviar un múltiples correos electrónicos avión 1800 viviendas disponibles que estaban las condiciones para ser ofertadas al serviu y que ni siquiera se le considero de guada mente no sé contestar en eso correo electrónico. Entonces Yo propongo que se tardan ni ni a cambiemos esa palabra por oferta hilo rojo por unanimidad de los presentes y otro favor para efectos de un reglamento diputado Gracias secretaria se evidenció una manifiesta decidir respecto del actuar del Estado para con el sector privado al evidenciarse que la cámara está Elena la construcción ofreció al Sergio más de Las casas listas y la propuesta no tuvo respuesta ni tardía ni imprecisa Simplemente no hubo respuesta formal de parte del Estado al ofrecimiento de una ayuda del sector privado para con el estado de chile, en una situación de crisis sin perjuicio de que el serbio aseguraron que la compra no se ejecutó porque muchas de las edificaciones no cumplían con los estándares necesarios para que el estado desembolsará en ellas sin embargo no contestó formalmente con esta argumentación explicando la io solicitando una contrapropuesta que se adaptará a eso estándares necesarios estaba la oportunidad estaba la opción pero no se tomó y La respuesta es débil, por lo tanto no puedo más que votar a favor para que esto se mantenga Y gracias secretaria diputado Celis a favor y votos a favor y votos en contra se rechaza Entonces el párrafo. Ahora si hay unanimidad hay una propuesta del diputado Sánchez que está redactando presidentes hay unanimidad para aceptarla. tamales las propuestas diputados cambiar todas las partes donde dice ayuda por la palabra ofrecimiento No alimentos que puede botar el contraste que no ya, pues ya no sigamos Entonces vamos a la página 10 a la página 10, el párrafo, 11 12 34 quinto que dice esto da cuenta una historia de responsabilidad política hasta familias damnificadas. 11 quinto párrafo página días secretaría yo lo pasé a PDF y ahí se escurre lo corre las páginas esto da cuenta de una insoslayable responsabilidad política de la máxima autoridad del ramo que no supo no quiso utilizar los recursos disponibles para aliviar la eclíptica la crítica situación de miles de familias damnificadas ya diputado barría encontrado barrios en contra de una imputación diputada bello diputado cuello está conclusión así como las que vienen después que terminemos contribuyen lleguen a una conclusión respecto de repostería política de ciertas autoridades quiero decir que cuando uno Presenta una petición de comisión investigadora y hace alusión algún tipo de responsabilidad es rechazado de meta mente no se crea la porque no se puede, no es parte, no funcionamos investigadora estar estar haciendo lo posible, por qué te pregunto porque este las siguientes atributos Ibáñez Diputado lagomarsino diputado longton gritaría presiente y quizás no es solamente una cartera yo creo que hay un conjunto de autoridades que estuvieron involucrados en la ejecución de los gastos y por eso me parece que no siendo completamente justa Igualmente la votar a favor porque claramente es lo que es lo que hay con respecto a esta definición de la ejecución del gasto, pero me parece que acá hubo más carteras involucradas Y eso quedó en evidencia propósito lo distinto informe que tuvimos en esta comisión a favor. Creo que con todo lo que hemos visto en esta comisión no se puede ser suficientemente duro con el ministro de vivienda a favor presidente 5 votos a favor siete contra rechazado, entonces esa parte del párrafo 11 habían más en la siguiente página la página 11, los tres últimos párrafos, que empiezan con la falta de Liderazgo y conducción política hasta que entorpecen la respuesta. Sí sí, junto diputado barría sí, encontraba falta liderazgo hasta programa de reconstrucción Sí ya estaba barría diputado barrio diputado diputado cuello flores diputado Ibáñez diputado longton diputado Molina diputado Sánchez una vez más que dice acá la falta de Liderazgo y conducción política en las autoridades no hubo. Conducción política eficaz desde la delegación presidencial escaso liderazgo por parte del gobierno regional y central esto obliga a recomendar al presidente la República ordenar de manera inmediata la persecución corresponsalía demostrativas y políticas de Quiénes dirigen el proceso de reconstrucción y cito en el punto a y me sorprende que esto siquiera sea materia de debate con la cantidad de víctimas que hemos escuchado con las declaraciones que hemos escuchado acá de autoridades de todo nivel esto debes hacer algo de acuerdo transversal, sino donde estamos poniendo la vara a nivel de piso a nivel de piso medio entrante otra favor de esto presidente secretario resolvimos turnos no los abandonaremos fue la frase del presidente grandilocuente mente hablándole a los damnificados que confiaron ciegamente en las palabras del presidente boric. Pero lamentablemente se fueron los matinales se fueron las cámaras, cómo lo dijo por su intermedio presidente el diputado Nelson que vino a tirar, así que se fue fueron abandonados golpeados abofeteado por parte de todas y cada una de las autoridades que no le supieron dar las certezas y respuestas quitar esto de este informe de conclusiones es desconocer todo el periplo que han vivido todos y cada uno de los damnificados es desconocer los esfuerzos de muchos que perdieron sus hogares es desconocer gente que tuvo que pedir permiso sin goce de sueldo para ir a tratar de escuchar a una autoridad que le diera las certezas que no le dio porque no llegó. Y no solo eso, sino que lo envío a otro servicio Buscar las certezas, Porque allá, lo enviaron de nuevo a otro servicio más y así sucesivamente si esto no está las conclusiones significa que ha sido todo fluido y que el fondo de esta comisión especial investigadora no tiene nada que hacer porque todo fluyó le dieron lo que necesitaba nifica dos y se hizo un trabajo de Liderazgo tremendo con ellos, se les acompaño durante todo el proceso, se le dieron las respuestas fueron recibidos por los ministros. Disculpe, no pasó nada de eso hasta que llegamos a esta comisión y los diputados que votan en contra están votando en contra de eso y es desconocer lo que todos y cada uno los damnificados vivieron Obviamente que voy a votar a favor, Gracias secretaria o cómo es el presidente boric en su discurso presidencial con tus ojos línea creo que haya faltado claro intentado liderazgo a faltado conducción política ha sido lo mismo Yo voto a 5 votos a favor, 7, botón contrarrestado ambos párrafo. Ahora el siguiente párrafo, que habla con la reconstrucción con dignidad y que termina en la respuesta diputado barría. el último párrafo de contra a favor un minuto te daré algo mío, que diga estaré aquí para ti, que yo voto a favor. encontrar encontrar secretaría yo creo que está esta propuesta Si se hubiera planteado los términos de solicitar que la ministra Desarrollo Social abandoné su puesto de encargada de la reconstrucción, probablemente hubiera sido aprobada al menos con un voto más y Está bien, pero se modifica la ley habría si una abrí hace una propuesta Yo lamento que se que se rechace y que no sé, voy a llegar a consenso esto porque claramente que la ausencia la ministra Desarrollo Social fue evidente en este proceso y que creció el liderazgo necesario para enfrentar el proceso reconstrucción a favor. A favor porque tienen que establecerse responsabilidad en este las responsabilidades son con nombre y apellido la ministra toro ha tenido una un rol directo un rol directo en esto una responsabilidad directa asignada por el presidente de la república y no cumple con el estándar, entonces insisto en el punto sílaba para la vamos a poner por el piso, no vamos a llegar a ningún lado, no vamos a lograr nunca subir el nivel del trabajo ante la emergencia y vamos a tener después de otra comisión de incendios más, como ya tantas han existido en el pasado a favor estado de autoritaria. Cuándo comenzamos está comisión especial investigadora la ministra estuvo presente y dijo que había estado en terreno, estaban todos y cada uno los dirigentes presente dijeron que la vieron una vez en un año y medio. Qué suceso en el mundo público cuando tú no haces tú pega eres del mundo privado cuando no haces tu Vega eres desvinculado Gracias por la prestación cuando dice que ha estado en terreno que ha estado con la gente pero nadie la ha visto es faltar a la verdad. Cuando los damnificados necesitan las respuestas correctas cuando ven que supiste a Five fueron mal tomadas, los impide los coffee de los habilitados los no habilitados cuando tenemos no cierto una ministra que no está con la gente acompañándola, la que dice defender al pueblo de chile, no Está con el pueblo no está con los damnificados no sabemos dónde está. No puedo más que votar a favor, para que esto esté en este informe porque ahí dice justamente lo que pasó con ella, no la vimos, no estuvo con los damnificados, no les dio las certezas tuvimos que esperar nuevamente a esta comisión especial investigadora para que viniera a tratar de decir No qué es lo que estaba pasando Gracias secretaria. Gracias secretaria va Aquí lo que estamos diciendo es que se recomienda al presente la república que tenga bien evaluar, la continuidad de la República resistencia dolor para mente ya lo estaría su cargo la mitad duro para sigo lo mismo voto a favor 52 a favor 7 votos en contra sábado entonces la letra c. Perdón la letra b. Vamos, ahora la letra c toda la letra c tiene votación separado diputado barría en contra en contra en contra encontrar Arquero argumentar que tomarme un minuto que te vayamos y o testigos de una conducción deficiente del plan de reconstrucción y quiero señalarlo claramente siendo yo oficialista este gobierno pero proponer una destitución A cuántos meses 7 meses 6 meses de que termine el gobierno cuando hemos generado al menos algún tipo de mejoras en la agilización de los procesos que llego a persona nueva hacerse cargo de todo el proceso de reconstrucción nuevamente desde el minvu va a ser peor para los damnificados Entonces yo insisto. Esto es la muestra evidente de que hay una Vendetta política frente al ministro monte y no se está pensando precisamente En qué es lo mejor para el proceso de reconstrucción sino solamente en quitarle. Ministro a el presidente boric, que no han podido hacer por acusaciones constitucionales. diputado Sánchez En línea de lo que estaba haciendo recién por su intermedio al diputado Ibáñez lo mejor para las víctimas de la reconstrucción sería que efectivamente allá en la cartera allá de ministro alguien que tenga la diferencia de sentarse con ellos de escucharlos de entender el problema que está enfrentando y que no le llevó la pildorita para decirle, no o sí, todo está bien. Si esto Está avanzando el ritmo que avanza siempre es que tienen que tienen que esperar un rato chiquillo, eso es lo que sería lo mejor y eso es lo que la decisión que deberías haber tomado presidente Hace mucho tiempo y que no la tomo por yo creo que también para diligencia el presidente una vez más el Santísimo y el centralismo de siempre no Mira la realidad de lo que está pasando aquí en la región de Valparaíso y el ministro que desatan encargándose de una visión, Qué es fundamental, no está haciendo Entonces evidentemente esto Esta parte cobrar la responsabilidad, dónde corresponde Qué es el ministro de vivienda yo lo voto a favor. Yo soy bruta bastantes diputado te hago Bueno hoy día, hemos visto distintos anuncio, ya sabemos que muchos están abandonando el barco que Esto va a ser una mera administración y que además la reconstrucción no va a estar en manos de las autoridades, que hoy día están por lo tanto, yo estoy de acuerdo con este artículo de pedir la cabeza de quién no ha liderado correctamente esta reconstrucción mensaje de un damnificado, parece que los diputados están borrando con el codo lo que se evidenció en esta comisión especial investigadora a favor. diputado longton presidente 52 a favor 7 votos en contra rechazan tonces la letra c ahora están las conclusiones de la diputada marzán, el diputado lagomarsino indicación de Hurtado lagomarsino desayunar y muchas gracias presidente esta comisión de contribuir lo más posible en general mecanismos para que esto no vuelva a ocurrir en los términos que corrió y por tanto Quiero agregar una nueva letra i y que dice que debe crearse un instrumento independiente decretos supremos Y cómo hiciste el DS 27 29 49 27 para gestionar cualquier proceso de reconstrucción sea por serviu water inclusión el Ministerio de vivienda y urbanismo debe realizar las gestiones sea de la índole que fuere para crear una Ambiente flexible para los procesos de reconstrucción en contexto de catástrofe y no estar dependiendo de modificar por contraloría y esperar todo el tiempo para que se cambie el DS 27 29 49 el ds1 sino que en el fondo de un instrumento particular único independiente para cualquier proceso de reconstrucción claro y que esté ahí durmiendo y ahí catástrofe se ocupa ocupa ese que mucho más flexible unanimidad para ver si está si se bota oro para votar a guardado y por favor secretaria hogar tomé la votación de los diputados a la sala la comisión. Intermedio Pero quiero saber cómo conversa eso con el decreto 104 77 entrega las facultades extraordinarias poder ejecutivo para actuar en caso de catástrofes, Porque si son facultades amplias una entiende que si son tan amplias el poder ejecutivo el gobierno de turno puede adecuar las normas administrativas de acuerdo a la catástrofe en particular que está enfrentando por una catástrofe son distinto por lo tanto tiene que ser mecanismos flexibles y de acuerdo al 104 esas Latina y datos solamente ver cómo está complementar con eso y no tengo ningún problema en ir a probarlo si puedo responder preguntas plantea una cuestión que Real efectivamente el presidente la República tiene un mandato amplio prácticamente en todo lo que refiere a nuestro país y estamos en un país y presidencialista el punto del tiempo aquí no hemos discutido sobre el tipo de respuesta. En gran medida, sino que hemos hemos discutido sobre el tiempo la respuesta y el tener un instrumento ya listo, que esté listo antes de cualquier catástrofe, que sea lo suficientemente flexible es tiempo que se gana en un proceso de reconstrucción y que también es tiempo que tiene que pasar por contraloría y tiene que tomarse razón que tiene que modificar sé que tiene que darse su tiene un mecanismo un decreto un test x, eso te permite activar tenerlo durmiendo ahí por si hay cualquier cadastro fe de las formas, lo suficientemente flexible para que cuando ocurran llegué y se active. por unanimidad eliminar la cuenta que al inicio fue por unanimidad habían acordado verlo Quién es que hay unas botas una petición de votación se paga quieren que alguno necesita el Sí pero no todo el procedimiento presidente lo que queríamos incorporar Y dónde entiendo que hubo acuerdo era respecto a Salud Mental solamente solo para el corporales o la votación separada Perdón diputada flores que está conclusiones van solo a Salud Mental Precisando eso para que quede bien constancia, no es todo toda la todo el paquete de que entregó ella, sino que solo lo que conclusiones después hay un acápite que dice síntesis ejecutiva sano y después dicen recomendaciones las recomendaciones es así que son si yo lo mire yo lo mire ya todos Salud Mental sobre la guardia diputados Muchas gracias presidente yo había solicitado una oración separar respecto del último punto del informe de la de la diputada marzán, por qué hace referencia un proyecto de ley que no revisado que la poca información que vengo directo buenos actos que no son tan buenos al otro parecer Entonces pretendía, no dar el acuerdo al aspecto de esa parte. Solamente ahora bien dado Qué es aspecto en particular es lo que dice relación con ese proyecto de ley, no manifiesto ningún caso mi consentimiento ni acuerdo.al con todo lo contenido en el mismo. Gracias, okay, hay una abogada Ahora hay una hay una propuesta de recomendación del diputado Ibáñez que dice lo siguiente, o sea un es una claro, una recomendación solicitar al senado aprobar Con urgencia la ley de incendios ya aprobada por la sala de la cámara. Solicitar al senado aprobar Con urgencia la ley de incendios ya aprobada por la sala de la cámara. Tendría que buscarlo. Bueno, Esta es la última en aceptarla, está no necesito una niña porque está en su derecho de presentar conclusión y recomendación hay que botarla nomás Ahora yo no se tendría que buscar que ve que boletines no lo sé si es una remisión a un oficio que enviamos como comisión investigadora, Qué es que no recuerdo boletín, pero es lo que ya probamos en la comisión, Qué es un proyecto y está haciendo tramitado en el senado todos es un oficio que todos aprobamos excepto el diputado Sánchez que estuvo ya y una una ley que está en el senado y que tienen aprobación ya de todas las alas y tiene mucho que ver porque si es que estás tomando labores preventivas Bueno una de las principales represente los Señora Vaca cenapred es que esa ley se apruebe rápido. Pues yo creo que hay un error de procesamiento porque la secretaria nos planteó en un comienzo instrucción de secretario Landero se tiene que votar el primer informe nosotros acordamos por unanimidad incluir el informe de la diputada marzán, respecto a Salud Mental y si se va a considerar esta propuesta del diputado Ibáñez como no informe a la misma razón, igual razón igual disposición Entonces se requeriría una niña como el instructivo es por orden de llegada, por dónde llega a fueron? Está feliz y feliz y con Tony Santos el diputado Sánchez Entonces pues por unanimidad se aceptaron las de la diputada marzán, En cuánto sale un mental y claro eso Vaya que no me acuerdo, no me acuerdo pero debo terminar reglamentario del cuándo cuándo planteamos el asilo cuelgas tiene la gentileza poder escuchar cuando planteamos en la mira parte de tu sesión reglamentario lamentablemente no se resolvió el punto elemento vibrante tiene que ver con que un instructivo de la sedería general no tiene fuerza vinculante para los para cantar en consecuencia ninguna parte está establecido de seguir a una niña para abortar una conclusión a mí justo de votar, sé porque no hay Norma alguna que impida que un parlamentario miembro esta condición puede formular una propuesta de recomendación es no quiero una línea, No está salió ninguna parte y lo revise reglamento No hay ninguna referencia a instructivo que Determine que tengamos que restringir los que faculta. Mujer hace propuesta y botarla Torres entrevista de la elemental llovido que usted resuelva reglamentario que solo digo que has enterado Martínez puedes bajar, Yo quiero probarlo usted como informantes del informe que ya habíamos terminado allá, espérate pero después de eso Yo propongo a diputado Celis como informantes Gustavo Sánchez por el punto gracias a Dios Muchas gracias presidente si nos vamos a seguir por lo que plantea por su intermedio el diputado cuello quiero solicitarle entonces quedemos lectura cada uno de los informes que llegaron estás aquí hay que votemos cada uno de los informes quiero nuestra secretaría Porque si vamos a aplicar el secretario de que no vinculante ninguna instrucción por parte del secretario eso tenemos que considerar absolutamente todos los informes y Tenemos que votar absolutamente cada una de sus partes yo creo que eso no es razonable. Creo que el tema Ya está agotado Y ya votamos y se establece el procedimiento para la Oración de cada uno de los aspectos de la del informe lleva tiempo ahora bien si vamos a decir qué es anormal obliga Entonces tenemos que aplicar ese criterio para efecto de todos las conclusiones que llegaron nosotros conversamos con el criterio general de la cámara y ratificó confirmo todo lo que dijo la secretaria abogada contra procedimiento yo voy habilidad para que se puede votar la del diputado salvo que la quiera retirar allá para que se voté la indicación del diputado Daniel anime OK Google no hay nadie me quiere hacer el firmante ahora ya habían acordado todos. candidatos que se inscribieron el día 18 eso había sido un acuerdo tomamos y no sé dónde más que la presente la república se envía a Dios y al consejo de estado al presidente de presente estudio fueron todas las proposiciones sin embargo, no encuentro fundamento alguno en el informe de usted mismo grupo esto para poder emitir está está este texto instructivo Cuál sería la razón pues así espero fundamentamos estilo Pero Eventuales responsabilidades penales administrativas civiles de todo tipo y una mente átomo de hacer un insumo que le sirva a los investigadores no sé que yo creo que no está colaboración con el Ministerio Público y con los fiscales que están dando esta investigación de ese total por eso yo creo que esto es pertinente sin perjuicio de que el informe más tarde subió a la página pero creo que no nos resta en la fruta mente nada colaborara que le llegue lo antes posible. Casa tiburón Sánchez barrios sobre el punto si lo que tiene que ver lo que estás llevando a cabo si mal no entiendo al ministerio público tiene que ver con los incendios no con el proceso de construcción. Entonces no tiene No tiene lugar lo que ha dicho el diputado Sánchez Porque una cosa es el incendio, el imputación de graves delitos A quiénes propiciaron este incendio que tenés que hacer con toda la responsabilidad y con todo el rigor de la ley, pero otra cosa es en ámbito de la reconstrucción. El diputado te ha disputado el presidente también que se la haga llegar a todos y cada uno de los tenis ficado que vinieron a exponer esta comisión especial investigadora Yo seguiría seguiría tiene los correo electrónicos para ellos no olvidemos que Esto justamente fue realizado para darle a ello se pesa Así que no nos olvidemos de los damnificados, quién está un año y medio no cierto esperando esta respuesta. Gracias, presente a todos los tienen a exponer porque ellos me da un dirigentes y representantes de grupaciones que justamente vinieron a exponer. Se hace presidente si regreso tenemos la obligación compra misterioso poder si se plantea una posición de banda de este informe Ministerio Público Yo pido que le gustabas antes que estoy medio pueda decir cuáles son los hechos que constituyen delito estar en este informe de la única forma de poder elemento fundamental que te que me vaya me tiró público proceso presente gracia barrios Mire yo no estoy de acuerdo, o sea, yo estoy de acuerdo que se envía todos lados que pueda ser posible, pero yo creo que efectivamente no hay ningún hecho constitutivo de delito, en este informe iferencia del anterior en la cual se planteaban elemento quisieran constitutivo eventualmente Lito Cómo era impreso votamos tan unánimemente la negligencia grave en escusado l en aquella oportunidad entre otro elemento. Yo creo que Igual se puede mandar a todos lados pero efectivamente no, no creo que sea lo idóneo en vista de los antecedentes que hemos recabado dudas antes sobre el punto Muchas gracias presidente Bueno un informe extenso Pero al menos la parte que yo más destacado que está contenido en el punto 13, la falta de Claridad sobre las cifras oficiales de reconstrucción, eso podría haber ahí conductas constitutivas de delito para que si nos informa un avance de ejecución de la reconstrucción que va mucho más allá de lo que reportan, otra organismos, públicos y privados empresa incluso comenzar aquí no sabemos qué es lo que se está haciendo por la plata. Cómo se están gastando los recursos en particular del fet Entonces evidentemente será la fiscalía, la que establezca si es que aquí los antecedentes recabados y lo que se ha discutido en las sesiones de la comisión especial investigadora levanté indicios suficientes para investigar eso, pero yo creo que esto no eso no es una decisión que tengamos que tomar aquí. Por lo menos cuando me dice el Ministerio de vivienda que tiene 90 viviendas entregadas y después me dice que hay 2530 conexiones de agua potable entonces esa cifra implica gasto implica que se está incurriendo al parecer o supuestamente según el Ministerio de vivienda en un gasto que no sabemos Dónde está aplicando, tendría que ser el Ministerio Público el que establezcas es que aquí me siento, no, no es decisión nuestra las palabras que pasa que está confundiendo dos planos el diputado Sánchez Porque todo lo que enseña la ya lo está investigando a la contraloría de hecho, lo señaló la controlador de Uber está ella evaluando todos los antecedentes cuando contraloría encuentra que hay un antecedente que pueda eventualmente se construyó herido porque así funcional derecho público diputado contraloría lo manda el Ministerio Público y usted cree que hay. Hecho constitutivo de delito, estarán seguros te ponga la denuncia y no se quede la acusación política porque lo que a veces se busca acá es que se establezca después el día de mañana el titular y botado Sánchez mandan al ministerio público el informe blablabla Entonces eso no corresponde porque el derecho público funciona con la contraloría como el lente del control de juridicidad y se encuentra alguna ilegalidad le envía al ministerio público hace funcionar las cosas y lo que importante que nosotros con este informe seamos responsables Gracias presidente Gustavo barrios y sobre el punto presidente señalar que nosotros hicimos una a una a una reunión o sea perdón a una sesión que entiendo duramos hasta como las 11:30 de la noche incluida la contraloría general de la república que señaló que estaba haciendo investigaciones sendas investigaciones cuando aquellas cuando quillas concluyan es determinación de la contraloría general de la república ponerlo antecedente en el misterio. Público no está comisión en relación a la esencia de esta comisión Entonces sí que hay una No pues no no, no Entonces entonces yo creo que es contradictoria en sí misma con Cómo cómo funciona el sistema el sistema nuestro país es la contraloría general de la república en relación a esa determinación que concluya las investigaciones Que ella misma señaló que ponga en antecedente al ministerio público no corresponde esta comisión realizarlo. Diputado presidente máquina para consignar en el en el acta de que comenzaron las lluvias y los vientos fuertes en Viña del Mar Valparaíso bueno la sal interior y este va a ser el segundo invierno que muchos damnificados van a pasar con plásticos y sin nuevamente su certeza correspondiente Cuándo va de su casa. Ahora no se olvide que nosotros también ejercemos una labor fiscalizadora y que lo que plantea el debutante es una de las vías para eso mismo. No sé si le aporta lo lo deja tranquilo, no, pero yo creo que hay que utilizar todas las herramientas posible y si una de esa ramienta es la fiscalización y exponer antecedente frente nosotros miente público porque no solamente eso presente, muchas gracias, solamente señalar que relacionan las investigadoras me tocó participar en los casinos de juego y las conclusiones recomendaciones se envió al público por fuera de lugar a todos los que se invitaron a esta sección, también le Office llamo y ahora botarlas entiende incorporado todas las instituciones ministerio que se Desarrollo Social La contraloría vivir. el serviu minvu, todos los que concurrieron a esta comisión y si le invitó Así que eso se tiene por aprobado Así que no es necesario tomar el acuerdo Ahora sí quiero proponer el acuerdo para enviarlo al ministerio público y un esto le pido a la secre abogada que tome la votación por acá de potasio Gracias presidente diputado barría diputado barrios diputada bello diputado cuello diputada flores diputado Ibáñez diputado lagomarsino, diputado longton diputado diputado diputado Molina diputado Sánchez diputado presidente rechaza la petición 4 votos a favor cuatro votos encontrados atención es el informante de este de esta comisión, por favor No si lo hacen por una línea lo acordado te gustaba feliz de transferirle el informe de esta comisión por este cumplió lo que todo está señora de la conclusión.",
         "2025-08-21",
         "Comisión Investigadora Reconstrucción Incendios / Jueves 21 agosto 2025",
         "https://www.youtube.com/watch?v=sRB39VchuFI",
         "0.0",
         "13566.9"
        ],
        [
         "2",
         "3",
         "76",
         null,
         "401",
         "el señor abogado secretario de la cuenta de los documentos llegados a la comisión los siguientes documentos tenemos un reemplazo de Gustavo Jaime mulet represaria debutado ya Karol cariola, para estación tenemos registrados pareos de la diputada Javier Morales con Don Andrés longton y de la diputada Lorena fries con la diputada Camila flores También tenemos correo electrónico misterio justicia derechos humanos por el cual se escucha se tire suministro y su secretario puerto de agenda pero si están para efectos del proyecto de responsabilidad penal modificaciones a ley de responsabilidad penal adolescente será que está la dirección de rizos o social Doña Macarena acompañada del asesor legislativo el Ministerio Francisco Maldonado Eso es todo señor presidente de Leyva No yo no sé, pero cortita cuente con Andrés la oración en particular como no vayan llegando al secretario Recuerden que esto fue aprobado en general perón, Comparado frente a sus puestos indicaciones que ingresaron hoy Solo dos, No solamente la casa. En cuál video se está moviendo un tema un par de 1642 radio cómo vamos a empezar la votación en particular el partido está en cada uno de los puestos perdón, el Comparado Comparado me confundí 14. Ahora cuando vaya preferencia, eh, presidente tenemos Claro ya en la ubicación de las indicaciones nuevas acaban de ingresar la indicación nacido presenta las indicaciones y dirige al texto base del proyecto Y tenemos estas indicaciones y dirigidas para el inciso tercero artículo 30 tenido presente que el texto va a ser lo que hace reemplazarlo y si sos tercero cuarto y quinto del artículo 32 el premarin Siso que aparece en el proyecto acá es el que reemplaza el inciso tercero del artículo 30 y tenemos una indicación del diputado hacer gusta ahora Vente para reemplazarla y su tercer W 130 * 1 del siguiente tenor que está en el comparador y luego tenemos la indicación de ser decirte que también que también Sí también tenemos la indicación suya que también reemplaza el Gracias elegido del 0 al 30 te siguen 3 de noviembre. Tú está calidad le serán aplicables en el juicio segundo tercero y cuarto del artículo 61 en eso coincide con la del Benavente Y percibirán túnica renta una dieta equivalente a la remuneración dos ministros estado la ley no podrá establecer asignaciones adicionales con fondos públicos la van a vender ímpetu de la calidad de ser en aplicables, las disposiciones del inciso segundo tercero y cuarto artículo 61 y confidente indicaciones en cuanto a la dieta y a cumplir los 65 años presidirán como única renta una dieta que valiente la remodelación de un ministro ha estado la ley no podrá establecer asignaciones adicionales con fondos públicos son bastante semejantes en ese sentido Entonces el proyecto base el proyecto base lo deja para 60 años, mujer y 65 hombres. Antes dice 65 años y dice pues no podrá establecer asignaciones, o sea, el diputado Benavente plantea que los expresidentes tengan solo tienda, no asignaciones si es el presidente también tenemos una de una modificación que tendría que considerar la comisión que presentada por el diputado Raúl Leiva que agrega al extremo de la indicación debuta Benavente qué se refiere afinación adicionales con fondos públicos agrega o privados o públicos o privados y aparte. le iba a proponer que uno pueda o tenga que renunciar se recibe fondos públicos o privados y la indicación, o sea, usted básicamente mantiene lo que hay hoy, pero lo obliga a renunciar al beneficio sé que tienen pega público-privada eso le pone Dale Efecto se siente uno que lleva la edad a 65 el proyecto base hacia la hicieron hombre 60-65 Benavente no y prohíbe la asignación es necesidad pública guatemalteco. Evita calidad, yo creo que son bastante claro 65 años decidir a comunicar, pero sí se ve claro se haga porque son para lo mismo claro, exactamente te da la razón de baneo. Bueno, perfecto Sí porque son equivalentes si quieres te puedes ir porque ya te voy a leer la nación y nacionalidad. Cuatro latinos 61 sea el fuero y percibirá comunica renta una dieta equivalente a La regulación del Estado la ley no podrá establecer asignaciones adicionales con fondos públicos es el texto que se ofrece una palabra sobre tu indicación Yola Gracias presidente bueno, esta indicación lo que hace ese está indicación lo que propone es desnaturalizar a mí juicio la esencia del proyecto, Qué es permitir cierto que reciban una dieta los presidentes desde que dejan el cargo en adelante yendo al ejemplo más cercano eso significaría quieres de abril próximo el presidente boric empieza a recibir una dieta Durante los años que dure su vida definidos ya hijo. El proyecto lo que propone es un cambio en esta situación para que la reciben solamente cuando jubilan cuando ya no pueden hacer otras labores y por lo tanto a mí me parece que esto evidentemente desnaturaliza el objetivo del proyecto que fue votado en general a favor y que deberíamos rechazar está indicación. Gracias diputada ahí hay una parte muy importante al final de la indicación que dice La Ley no podrá establecer asignaciones adicionales con fondos públicos eso produce un ahorro fiscal importante por los 4 expresidentes que vamos a tener en abril con vida diputado o diputada floreciente caro puede ser un ahorro para los que tenemos con vida Pero puede que no sea tarde se ahorro respecto del presidente que va a estar saliendo que va a percibir su dieta contar de los 40 años 12 yo no sé si en realidad es ahorro yo creo que más bien Cómo se dice en el campo se le vea nomás los gatos a mí me parece que evidentemente está indicación va en contra de la esencia del proyecto la esencia del proyecto es que finalmente la dieta los expresidentes se parta pagando montar de los 65 años de edad que cuando la mayoría de los chilenos se jubila No, toca esta indicación, digamos la discusión misma, sino que añade al elemento que no está ni siquiera considerado contemplado es la idea Martín aquí, estamos hablando cierto de de En definitiva que se le siga pagando independientemente de la edad a la cual cierto deje de ser presidente a Quién es el presidente de la república Y la verdad las cosas que no va al fondo de la discusión presidentes y saca el tema es si le quiere y puede pagar dietas a los expresidentes por décadas malo, gastos operacionales Esa es la difusión y creo que lo que hace esta indicación es precisamente saliste fuera de esa discusión de fondo redondo. Creo que más allá excepto del pareo, creo que tendría que hacer es absolutamente. En votación, entonces la indicación de los diputados longton alessandri, la vaca para dejar la dieta sin edad le pido un segundo porque estaba en votación diputado chile, para que no para que se escuche bien en votaciones en el puesto el motor después de ser presidente se somete a votación la indicación de los diputados y la vaca Lisa en The London que reemplazó decidió tercero del artículo 30. Don Gustavo Benavente al final Don Gustavo perfecto diputado Jaime mulet diputado Marcos ilabaca, por favor, por favor Don Marcos ilabaca, diputado y a Pamela jiles, Ponla negativa contra Don Raúl Leiva a favor de la javiera Morales favor Don Luis Sánchez Sánchez señor presidente Tenemos cuatro cinco votos a favor y tres en contra pero abstención. Cómo se llama el secretario yo quisiera llamarle la atención en la buena fe que le Supongo respecto de la necesidad de haber escuchado mi petición la necesidad haber escuchado mi petición que hice en ausencia del diputado autor de la indicación de haber votado es antes porque porque desgraciadamente mi juicio quedamos en la imposibilidad de poder recuperar esa indicación del diputado Benavente en la sala ya está dado que se produjo este orden de votación. Ella sugiere en la buena fe que fuera distinto quiero dejarlo en claro, porque mi única pretensión era que pudiéramos reponer esa posibilidad. No, no fue rechazado reglamento me dice secretario, se puede reponer las indicaciones que serían en el mismo jetivo prácticas o en el inciso primero lo están sustituyendo, pero con alguna diferencia en este caso porque no son exactamente iguales Entonces se produce el efecto de que se entiende necesaria para el efecto del reglamento por ser incompatible Colo Colo Colo ya aprobado por la comisión, si se acuerde de mí No porque yo nunca nos hicieron presentes Lo importante, es que la indicación de la diputada jiles se puede reponer en la sala el proyecto, perdón debutantes y como el proyecto hay dos cosas, pero esto no tiene urgencia, por lo tanto Igualmente se puede presentar una indicación la indicación del putamente en la sala Pero además de eso reglamentarias Pero además de eso pongamos. Supuesto que se presenta una sumergirse o discusión inmediata, le hice caso no podría presentar la indicación en la sala, por lo tanto creo que sería bueno reglamentariamente saber si es que cuando ceden rechazar las anteriores se pueden reponer las alas para empezar ese punto es urgencia inmediata. La única diferencia que no sé si sos jefe lo mismo como la forma de trabajo que tenemos ya tradicional estaba comisión en el caso del presidente y mío y de otros participantes y además de un período Yo pido, por favor, a la luz de esta situación que se tome en cuenta cuando se hace una petición en buena fe en mi caso. Yo tenía perfectamente Claro que no iba a ganar la indicación, pero mi objetivo era no estando el autor de la indicación acá que ella tuviera la mía. Facilidades para ir a la sala por razones de democracia ya entonces él lo que nos acaba de soñar el secretario En definitiva, es que tiene dificultad es cierto Entonces lo que pido es que tratemos de hacer simplemente lo que había pasado había sido que habíamos visto sindicación se habría rechazado, ya habíamos pasado a la votación de la segunda. Lo cual la mercería insisto en la buena fe que habría tenido un mejor sentido político tendrá discusión inmediata, pero no soy más clara, hay 3 candidatos presidenciales que son por lo demás lo soy candidato o tres de los candidatos con mayores posibilidades llegar de llegar a la presidencia de la República sí que se han pronunciado a favor de esto por lo tanto pudiera en un determinado pedido esto afecta. Ya vente tener urgencia imaginariamente ya lo único que estoy diciendo es que me parece que cuando hago una petición que el único objetivo que tiene es disponer una indicación que ni siquiera es mía ya para como insumo democrático, digamos facilitar la sala Sería bueno es una sugerencia amistosa que estuviera en cuenta, nada más quieren. Digamos, no más que la segunda página de Gustavo Luis Sánchez que también muy rica Necesito un tercero, pero digamos es algo que la indicación. Pero la tablet tiene su final reemplazar es eso cuarto luego la palabra primero con la palabra segundo piso o segundo es el que dice el que haya desempeñado Hazte cargo por el período completo asumirá inmediatamente y de pleno derecho a la dignidad oficial de ex presidente de la república Y qué es lo que hace el prefecto va a hacer no se aplicará la cena les hizo primero el que llega a jugar el cargo de presidente República por vacancia del mismo ni quien haya sido declarado culpable de juicio político seguido su contra es Claro que la intención fue dar lo de la dignidad hagamos que que corresponda del presidente la República Así que la indicación del diputado. Si podíamos presente en someter a votación como bien lo dice a la 3 con el inciso cuarto con las 3 por unanimidad. Si se declara el artículo 1 inciso 1° inciso cuarto o indicación para saber si bien complicado, sé quién modifica hacemos la referencia primero por el segundo podría entenderse, que quién llega ocupar el cargo de presidente la República por vacancia del mismo son un cargo vitalicio como presidente. Y no termina nunca sobre lo dejó como dato Leiva que quieren apostar a favor, Don Marcos ilabaca, Don Gustavo Benavente 250 tiene tontera favor una consulta porque lo que se está discutiendo eso indicación sobre el texto base acordado que todavía no votamos. Colega solo de quién haya declarado culpable en juicio político seguido y en su contra las hipótesis que plantea la hipótesis que plantea el diputado Sánchez y perjuicios su intención 15 narración con aquellos que no hayan terminado su periodo por alguna razón está resuelta por el inciso segundo de la Constitución el que ha desempeñado te cargo por el período completo por consiguiente. Si es vacancia, Sí sí, perdió algo tiene alguna inhabilidad sobreviniente, por eso queda claro. el proyecto y luego tenemos un dinosaurio estado Sánchez para agregar ese soquito de aquí tenemos que ir hasta el final sobre cuál tamente la indicación Raúl Sánchez Agregar evento nuevo después del punto seguido que viene después de la palabra dieta Y qué hace el expresidente República son algunas funciones morada con fondos públicos dejaran tanto la desempeña de percibir la dieta Excepto a los empleos docentes y las funciones o comisiones igual carácter de la ciudad Superior y especial y el presidente República el presidente y asumió funciones que se le suspende la dieta mantiene el Esa es la propuesta del diputado de nueve, las 5 estaba que el inciso final dice el expresidente del detector electricidad de república que ASUME una función a poner algo fondos públicos o privados dejar adentro, pero si la dieta es que está en ambos porque estaba plantea que se suspenda cuando tenga ingresos entendiendo el concepto de remuneración del código del trabajo porque dice función remunerada y el concepto de remuneración está desarrollado en el código de trabajo. Entonces es un vínculo sobre Tribunal electoral siempre exceptuando el tema docente docente perfecto lo único que busca la indicación del diputado Sánchez mantener el actual texto vigente punto nada más entonces sí Exacto lo que pasa es que tenemos la indicación que lo único que elimine la frase del texto actual de la construcción manteniendo En todo caso el fuero la invitación de Sánchez es retornar el matadero. indicaciones mandaste tú hace mantenerte y todo hace en votación en votación la indicación del diputado Sánchez para mantenerlas fueron El Güero canción de Sánchez que cuando te quitan la dieta por tener otro sueldo mantiene el fuero eso vamos a hacer una Estarías agente canciones que no tienen objetos, no cumple ningún objeto porque se mete y solo podría probar la indicación mía, que está el texto constitucional actualmente vigente que incorpora fondo privado el accidente yo tomo la idea que usted plantea originalmente votemos el texto base acordado por la comisión mal. La indicación del diputado Sánchez que está muy cierto, estoy gente que son del diputado Sánchez mantenga vigente de expresidente para adelante columna al medio segundo párrafo. con cuero como usted quiere, pero solo que no en ese texto si lo correcto es votación para rechazarlos estaban aventé a favor de rechazar cuando ya perfecto Marcos ilabaca, encontró también de efecto hace la indicación te gustaría Pamela jiles, favor a favor diputado Raúl Leiva contraindicación Don Andrés longton contra voy a Javier Morales en contra de Luis Sánchez al final Don Leonardo Leonardo Leonardo Soto tenemos pendiente at&t presidente contra Don Luis Sánchez Entonces tenemos unos favor 12345678 en contra y 0 abstenciones y queda con fuero cómo estaba antes en el texto original de la Constitución y ahora había que votar la del diputado Leiva que dice que cuando tenga remuneración el fondo privado es bastante de su pena. Ver el inciso final del artículo el artículo vigente la constitución del artículo 30 y lo voy a leer acá dice en la en la segunda página la columna de la izquierda. Dice electo siguiente la república que sume alguna función de brigada con fondos públicos dejara en tanto la desempeña de presidir la dieta manteniendo todo caso al fueron entonces lo que agrega la propuesta debutado Don Raúl Leiva es electricidad República suma una función pública con fondos públicos y privados dejaran tanto la desempeña percibir la dieta manteniendo esto casual fueron y después sigue lo que está delante del instituto privado Don Gustavo Benavente indicación del butano el indicación del libertador le diga que inciden en el inicio final. asador Don Gustavo Leyva tenemos Don Marcos ilabaca, a favor, llévamela Aquiles en contra Don Raúl Leiva viendo que parece que hay algunos diputados que quieren que la dieta sea compatible con un contrato privado porque vos también contra no nos entiende no es coherente Yo voto por Andrés no votó a favor Doña javiera, Morales a favor Don Luis Sánchez favor, Don Leonardo Soto Norte presidente favor 15678 10810 solo Deja presente que la indicación propuesta concepto de remuneración y quiénes votamos a favor Estamos en contra de que una ex presidente recibe una dieta Cuánto tiene un contrato trabajo una empresa privada Quiénes votaron en contra indicación es que me estima Qué es pertinente y procedente que un ex presidente República depresiva dieta, además recibo para suscribir contrato trabajo y recibir una remuneración fondo privado al mismo tiempo claro, solo jale su me parece exceptuando los docentes solo va a ser prioritario que más había que votar bien tenemos una explicación pendientes tenemos la indicación pendiente del diputado Gustavo Benavente que va a agregar el inciso final del del texto constitucional. Luego el punto aparte que me estarías el punto seguido la siguiente oración tampoco percibiría la dieta mientras sea candidato a cargos de elección popular, entonces queda Electro siguiente República la suma de una función a morena con fondos públicos o privados según el cambio que pusimos dejar al tanto la desempeña y recibir la dieta manteniendo todo caso, el proceso de empleos docente y las funciones de igual carga Superior medial y tampoco por supuesto, cómo queda la propuesta. Le gustaba gustaba la mente es agregar al final Como último última oración del inciso final tampoco presidirá la dieta mientras sea candidato a cargos de elección popular la greda como otra situación en la que no perciben dieta porque la norma vigente dice lp7 república que suba alguna función remunerada con fondos públicos dejaran tanto la desempeña recibir la dieta. Bueno, presentemos privados también materia En todo caso. y aquí está agrega por diputado Benavente que tampoco a perseguir a nadie también está sea candidato a cargos de elección, una exportados en ador coreo presidente y en ese pedido de campaña de casi tres meses no recibiría la dieta porque están campaña sientes solo más presidente No perfecto indicación diputado Benavente de Qué es la oración al inciso final 2 para verte, por favor, su indicación a favor Don Marcos ilabaca, a favor Doña Pamela jiles, Quiero suscribir la indicación Don Patricio ya por favor, también le iba a favor Don Andrés longton también la suscribo y voto a favor ya favor Voy a Javier Morales a favor Don Luis Sánchez Don Leonardo Soto a favor señor presidente En campaña no hay del diputado en terminamos la informante según el orden alfabético corresponde el diputado Leiva Pero según los registros le propondría debutado ya Pamela jiles, pero sé que no le gusta, no le gusta, no lo pasamos bien p.m. Dale tiene el honor usted informar este proyecto se va a ver el sábado a las 7 a.m. Si queda muy poquito, vamos a terminar Qué son dos votaciones muy cortas y despachamos la sesión, por favor, ahí están recibiendo el Comparado de responsabilidad penal adolescente de 18 vamos a la página 18 El Comparado por favor una indicación de la diputada javiera Morales en la número 7. Diputada Morales si quiere Le ofrezco la palabra para hablar de este indicaciones de 300 una indicación que quede más claro el artículo 55 ter no se entendía quién Cuál era la solicitud o de quién era la solicitud que se debe acoger acá la idea de la indicación que quede claro que a solicitud de una víctima el tribunal tiene que oír a esa parte antes de modificar la medida cautelar Eso es todo sobre la indicación Sí gracias presentes y yo Comparto el fondo de los murales que va la misma línea de lo de lo que aprobamos en el primer trámite Entonces Quisiera saber en el fondo, cuál es la cuál es el cambio que revista en relación al 51 33 que que incorporamos en el primer? Ofrezco la palabra El Ejecutivo del primer trámite de texto en el primer trámite, Quién era el problema de que actualmente el costo y obligado siempre hago tirarlo y tercera víctima con lo cual está obligado final y muchas veces las frutas víctima avisar una sectorización puede mandarla a traer el término contigo y muchas veces además quieren evitar un efecto victimización secundaria no quieren ya saber de casa y eso eso fue lo que para nosotros motivo el solicitar el primer lugar el primer trámite que se rechaza la modificación la aprobación por la víctima Y en segundo lugar que se modificaran los términos que vienen. La diputada Morales está muy de acuerdo porque corrige corrige el problema que la heladería entonces a solicitud de la víctima a Solicito de la víctima, tiene la víctima, tiene interés perfectamente puede ir y opuesta obligaba para que para que votemos la abro al primer trámite Buscar acta mente me lo mismo, pero el problema de interpretación respecto a cómo está planteando tengo problema en corregir la través de la indicación de la diputada Morales porque nosotros decíamos final cuando así lo exige eres sobre esta misma materia obviamente nosotros no pensando la víctima No pero si queda más claro sí. Yo comparto la posición de la indicación, pero creo que falta algo para obligar al tribunal, estúpidamente oír a la víctima porque no, porque lo que sucede es que dice que a solicitudes por iniciativa de la víctima, qué pasó Así que no existe ningún antecedente la entrada tendría que existir algún tipo de invitación a la víctima pronunciarse algo algún estilo, Qué es obligación citar a la víctima, no obligación que comparezca ni atender como variable o como factor a los intereses de ella, la hora de resolver una sustitución o remisión de condena de bodas, que la citación es obligatoria. Y en la ley 21526 se perfeccionó esa regla precisamente radicando un domicilio específico y favoreciendo la idea de que se casó está judicializado el tribunal más te va a mantener un domicilio activo de parte de la víctima para poder cumplir con esta obligación y si no está judicializado la obligación que caiga sobre el fiscal, entonces la norma existe se ve afección o recientemente con la ley 20500 27 y resuelve el problema que salga Muchas gracias, no es sería la 8 del diputado Andres longton Leiva los numerales para incorporar el siguiente artículo tercero nuevo agregues en la circunstancia sexta del artículo 11 del código penal. Mediatamente después del punto y aparte que pasaste el punto Seguido lo siguiente no podría estimarse y reprochable la conducta anterior del delincuente que haya sido condenado previamente de conformidad con el régimen de responsabilidad penal adolescente previsto en la ley 20084 después de 15 años no puede pedir al registro civil borrarlo antecedentes de por sí sola, pero por lo que ocurre es que en el sistema responsabilidad penal adolescente cuando tú cumples la mayoría de edad independientemente la cantidad de delitos que cometiste cuando eras menor de edad tus papeles se limpian es decir como si nunca eras cometido un delito antes y eso claramente que influye el momento de que cuando es mayor de edad comete nuevo delitos, porque siempre se le trata como primerizo y el primerizo siempre tiene una más baja pena porque tengo atenuante. Picada como la y reprochable conducta anterior y teniendo una constelación actual de nuestro país donde tenemos delincuentes prolíficos menores de edad que cometen 20:30 o más delitos cuando cumplen 18 años porque le da donde más se cometen delitos entre los 14 y 17 particularmente en 16 y 7 por lo tanto es poco entendible presidente y que alguien cometió tantos delitos, Cuándo cumple 18 años y cometas un nuevo delito, el sistema lo trate como un primerizo eso francamente no tiene asidero desde el punto de vista de que alguien que tiene un comportamiento delictual habitual el sistema lo premia como si no era cometido ningún delito con anterioridad y por lo tanto eso es lo que provoca presidente es que hay un beneficio al delincuente por el solo hecho de cumplir la mayoría de edad y eso claramente que genera impunidad sin ninguna duda y también revela de que el sistema no castiga lo suficientemente o lo suficientemente contundente el punto de vista de la pena. A quién vuelve a cometer delito después de cumplir la mayoría de edad y eso es mente que hay que corregirlo presidente considerando que tenemos delincuentes con la carrera larga delictual y que la continúan después de los 18 años Muchas gracias diputado longton en votación El Ejecutivo por favor sobre la fundamentación una donación a una zorra fundamentación y otra sobre el contenido de la fundamentación, la regla aplica caso de habitualidad puede darse de un hurto simple de un Super 8 cerca de la regla igual estamos hablando de una regla que afectivamente se haga cargo de los delincuentes permanente persistente etcétera, sino que se aplica cualquiera y lo segundo es que tener claro el texto y la fundamentación que no son no son coincidentes en relación al fondo la verdad que el Ministerio siempre ha tratado de adecuar su interpretación a las compromisos internacionales asumidos. en el Corpus Iuris derecho de infancia que de acuerdo a la Corte Interamericana forma parte de los instrumentos internacionales de los cuales es competente la corte y por lo cual es Entonces estaría responsabilidades Nacional del Estado de chile, se considera la abuela de Beijing que tienen Rango constitucional acordé al quinto y su segundo puesto y que señala el artículo 21.2 los registros de menores delincuentes no se utilizarán el proceso de adulto relativo al caso su siguiente lo que te implicado el mismo delincuente decirte ahí hay una un límite en este caso no podría entrar a ver el fundamento, pero lo que tiene que resolver la comisión a su defecto es si no respeta ese compromiso internacional o si no me pescas la posición del ministerio por lo que señale antes y más bien nos vemos razón alguna en este caso en particular Cómo va a saltar sin compromiso internacional de las praxias y Beijing están incorporadas en nuestra legislación y porque así lo dispone el artículo número 12 inciso segundo de la ley 20084 Y al set práctica que están incorporados dentro los derechos son obligatorias para nuestro estado sin perjuicio de ello yo voté a favor y lo quiero dejar en claro, respecto de un catastro de delito y cuando aplicamos la internación provisoria máxima para mayores de 16, yo voté a favor para que fuera el caso de ciertos delitos Y esa modificación que hicimos artículo 21 podría entender está normas y prejuicio el fondo constitucional respecto de delitos Lomas gravosos, qué establecía el pueblo catálogo que nosotros hablamos que fue una indicación del diputado en caso de homicidio secuestro, pero en este caso al no existir detención de ninguna especie un hurto simple, por ejemplo, cuando tuviera 14 años de edad, podría y rogar a ese adulto en el no tener el responsable con tus anterior si comete un delito en A los 18 años y un año Entonces no son no es consistente con esa. indicación que ya probé si fuera el catastro o el catálogo delitos de los más gravosa, Qué establece el código penal podría verlo sin perjuicio que está pendiente el tema constitucionalidad Por eso, yo textos tentación voy a votar, la encontré gracias diputado pero no es justo con el que si tiene ante cumplir 18 por el cometido 21 puede tener un tremendo historia está condenada al menos lo tenga como dato que que está frente a una persona que tú me llevaste hacerte la fuerte que 21 veces es un orto menor hay un caso grave, pero yo digo de los delitos menores que yo me parece que también hay que recordar que sea justo para el que de verdad tiene irreprochable conducta anterior que no cometió delito de los ceros los di 8 años ibutan Soto siguiente en el mismo sentido que plantea el diputado Leiva a nivel mundial internacional la todo lo que tiene que ver con la responsabilidad en adolescentes, tiene varios principios que son distintos la penalidad y el castigo, los adultos la etapa de adolescencia es una etapa transitoria, como todos saben por la pasaron y y muchísimos muchas cosas que después como adulto evidentemente no las continuamos la etapa en que uno más Aprende de los errores le digo a nivel cotidiano normal, es lícito es la adolescencia y también los menores que tienen conductas delictiva lo mismo que que alguien comete un delito a los 16 años a los 15 años es grave, pero él todo el sistema va y ronda Integra un conjunto de herramientas para impedir de que esa carrera directiva la continúa como adulto. evidentemente si lo los delitos que puede cometer en esa etapa lo van a acompañar el resto de su vida privando lo de Sí cometieron todo delito de la erupción de conducta anterior evidentemente va estigmatizar a los adultos y le va a hacer pagar toda su vida por los errores de juventud en otro sistema y la mayoría de los tratamientos nación de Jesucristo chile, buscan que se comete otro delito evidentemente tiene que responder porque yo, pero por las condiciones que se produzcan concomitante Cuándo se produce el delito de decir si hay agravante calificantes tetera, pero no que arrastre los problemas delictuales que tuvo juventud que que que precisamente eso es lo que se tratan de evitar que continúe la etapa adulto se hace debutado claro diputado Soto dice que justo que lo acompañe por toda la vida lo que hizo pero solo lo ha España si es que comete otro delito ahí se lo van a sacar a relucir diputado. Gracias presentes y como una licencia para volver a el inquilino sistema te da la oportunidad para delinquir nuevamente cuando cumplas 18 años y eso claramente que no tiene no tiene ningún sentido ahora presidente Yo quiero primero dos cosas La reina de Guillén cuando uno el artículo 21 2 de las reglas dice las reglas prohíbe la utilización de registro de menores delincuentes en caso de subsiguientes de los implicados sujeto y después dice dicho Regis dice Por ende no se incorpora la huella genética de un menor en el registro de condenados o ojo que habla del registro de condenados hay que distinguir porque una cosa del registro de condenados y otra cosa hace la regla de reprochable conducta anterior son dos cosas totalmente distintas nosotros no estamos tocando el registro de condenados estamos diciendo que le reprochable conducta anterior Qué son circunstancias atenuantes deberán considerarse no eran considerarse para efectos de cuando cumple la mayoría hizo eso presente por lo tanto en ese caso no aplicaría el tratado. lo menos sería absolutamente discutible y por otro lado presidente y yo me abro la posible que se los entregue el diputado Leiva de para solicitar un acuerdo de incorporarlos los delitos graves Del catálogo, que ya probamos a propósito este proyecto es decir, al menos incorporarlos los delitos más graves respecto a la de reprochable conducta anterior para efecto de que cuando hay un asesinato y secuestro eso, Obviamente que no no se limpia los papeles, cuándo cumples la mayoría de edad es clasificación la secretaría diputado diputado diputado ilabaca, presidente creo que la propuesta que este que usted desarrolla efectivamente, por lo menos mí me daría mayor tranquilidad porque tal cual hoy día entendiendo la lógica de la indicación en ordenar no estimar la de reproducción de conducta anterior como atenuante tal cual los días en Todo de la indicación diputado longton es absolutamente extensiva y se podría caer en los casos que han señalado aquí ya de manera seguida por varios parlamentario, sí que está indicación al final solamente requiere los delitos de la gravedad que hemos ya votado y en mi caso particular a favor, yo también estaría disponible para suscribir el español Sí pero quiero Andrés igual quiero hacer una precisión porque entiendo que claro como es una fundamentación nueva las reglas de Beijing nos dicen relación, única crucialmente con registro de ADN lo que seguramente escuchamos recto con información el 21.2 dice los registros de menores delincuentes no se utilizarán en proceso hasta adultos relativos acaso subsiguientes en los Que aparezca implicado el mismo delincuente nada más segura. el texto que se leyó Andrés respecto a una sentencia dela Corte Suprema respecto a la aplicación del ADN no es la regla de Beijing lo que se lo que se leyó Andrés está bien respecto de una sentencia que establece la Corte Suprema respecto de Por ende no se incorporan la huella genética de un menor en el registro condenado jurisprudencia la extima Corte Suprema contesté Es una sentencia la Corte Suprema no la norma de la norma de bellini, sanación A mi vecino que aplica la norma de ADN que está establecida en la ley 19.970 en función de la 20820 1084 la norma de Beijing dice registro de condenado nada mano de huella genética lo que hace una sentencia aplicar para lo mismo pero si comparto que efectivamente un problema de fondo Por qué razón solo con la del diputado tiene solo un párrafo que la directora no tiene nada más te conozco dónde viene el resto Y probablemente tierra sólida que proviene de una sentencia, qué es lo que se utiliza como fuente segundo lugar la presión registro de condenados ocupa el término ampliamente internacional que obliga a los países en nuestro caso responde prontuario el prontuario, qué sirve f1 defecto de interpretaciones más o menos del año 30 es valorar y respetar la conducta anterior hoy día equivale a tener o no tener con delantera del término mucho que no veo ninguna diferencia no lo que yo subo en la primera intervención y lo segundo da lo mismo A quién edito se aplique la regla única no se pueden valorar y Por ende es relevante la gravedad los delitos relativos. Una pregunta más bien de fondo que yo creo que porque un debate mayor en orden Cómo se acredita la y pues echarle conducta anterior también discutí con doctrina como de no como lo acreditó, no solo eso sino que son varios los factores que voy a poner a un magistrado o magistrado también puede poner otro tipo de elementos en su comportamiento es un tema que se discute cuerpos hacia claro te fijas es un tema que se discute fuerte pero si lo que me se me fue posible Amén pero si es un problema pero si respecto a cierto tipo de delito porque lo plantea vamos recién el principio general derecho al igual. Yo no soy experto material menores, pero igual que el código del trabajo tiene un principio porque hay un principio pero menor que infunde y que ilustra toda la interpretación que no puede traer entonces La otra pregunta que quería plantear si El Ejecutivo vamos a estar esta Norma incorporada nuestra legislación conforman el inciso segundo del artículo segundo la mente 1084 tiene solo Rango legal más no constitucional esas otra discusión que también se abre si los tratados internacionales ratificados por chile, incorpora, cómo estás Buenas prácticas, tienen Rango constitucional constitucional o de Rango legal, porque mentalmente Yo podría modificar está Norma al estar incorporada con Rango legal y no funcionan esos y prevengo esas dos cosas que hay en la Expo Tu boda ganar que de aplicar una norma que lo puedo evaluar, es solo respecto al catálogo delito, que hablamos un artículo 21 y solo para mayores de 16 años no los menores de 16 años yo estoy pensando en mi caso curacaví, hace pocos días que vuelven por segunda vez a la casa, una víctima la atropellan, pero si ir y dos, pero dos tenían menores de edad 2 del grupo. cuando cuando el inca de nuevo Yo quiero que cueste para que el mismo que arrolló al Señor en curacaví lo puede saber si es por cierto, yo voy seguro este reciente está bien que lo considere Caro que haya registro no podría incluso llegar más allá decir Qué es un delito único, digamos que hay una continuidad a delito, pero pero si la Norma que se plantea por eso planteó yo respecto a un secuestro de un homicidio de una violación, por ejemplo de un menor que cumple años el primero el 2 de enero el primero en héroe su mayoría a discutirlo el catálogo nice 221 y solo para mayores de 16 años porque si un menor de edad y eso para que un menor de edad comete este delito un delito grave ya modificamos la normativa hacer una internación provisoria máxima de 10 pregunta Alexa Cómo borro los antecedentes penales cuando y como en una por ejemplo en un delito de homicidio secuestro menor de 16 años lo comenté y la condena que el máximo que puede ser 5, cuándo y cómo se borran los antecedentes también importante presidentes entendido que el diputado longton va a reformular su indicación para ciertos delitos el catálogo de ya habíamos señalado anteriormente yo iría yo voy a aprobar la indicación primer lugar a Dana no tengo tan Claro que los tratados internacionales tengan Rango constitucional el juicio tienen Rango legal, se nos enseñó la teoría del ordenamiento jurídico de kelsen, incluso que esta era la norma fundamental y luego venía ley y tratado internacional en cierto de que la vida Y en segundo lugar presidente más allá y que se mencione que sí es cierto existe. indubio Pro reo que no no, pero tenemos que ir hoy día al Aguilar de acuerdo a lo que estamos viviendo en el país, en qué momento edad que causan grave delito y es importante que el juez tenga conocimiento que sacó cuando lleguen a la ute y sigan cometiendo los delitos tenga conocimiento que participaron en delito muy grave y yo creo que es necesaria esta disposición el indubio Pro reo dejémoslo la defensoría penal pública que lo invoque pero nosotros no podemos legislar pensando en que vamos a ser abogado de una de las dos partes porque el indubio Pro reo un principio que se aplica sobre obligar como no se puede aplicar solo en la medida que se invoca solo en la medida que alguien lo invoque hace que nosotros no somos no somos de tal manera no lo tiene que invocar un hada parte Así que en ese sentido presidente no puede ser en una manera no puede ser una manera de de inhibir nuestro actual necesidades actuales de nuestro país es desconocer la legislación que nosotras bien hemos aplicado no solo sino que la mente 1084 está la norma efectivamente excepto ahora si se quiere modificarlo para que no se discute el interés superior del niño la responsabilidad la reinserción y todo esa madre entonces sí efectivamente no se quiere aplicar un principio que a mi juicio procede de oficio cuando usted me dice que usted no es defensor Es que eliminó lo del texto legal no hay ningún problema eliminemos lo de la Constitución discutamos lo pero nosotros no podemos esos principios soslayar los en función de modificar otras normas legales presidente Primero las consultas presidente consulta para eliminación de antecedentes gorda, la reglamentación actual si se trata una condena superior a 3 años y no no me sirve ser superior una vez que ha ejecutado totalmente la condena tiene que hacer el trámite de inscripción en el Antiguo bayoneta. Tú qué has cometido un periodo de vigilancia de 3 años adicionales donde se corrobora que efectivamente hay un proceso reinserción y luego yo recién lo voy a eliminar solo para efectos públicos Perdón privados para los efectos públicos y fuerzas armadas de natación en generación desde momento que termina de cumplir totalmente su su condena y Por ende normalmente reiteran te intermedio Pues todo muy larga la persona no esperan a terminar lo de años. Entremedio fuera completamente con respecto al producir mediante este principio es asimilado a de la defensa razones de representación tiene que tratar de obtener la interpretación más favorable al imputado normalmente cuando se cita tiene que ver con la cuestión distinta ante la duda correo y yo somos aplicable interpretativo se aplica a falta de prueba si yo no tengo prueba suficiente para condenar el juez tiene que absorber es el rango del indubio Pro reo y sobre el rango constitucional efectivamente fue aprobado en el artículo 2° inciso segundo la referencia Corpus Iuris pero la verdad que desde el año 2012 que se produjo la primera sentencia en esta materia donde se debatió lo mismo la Corte Suprema ha acudido al estímulo quinto y su segundo de la Constitución que dice específicamente y están todos los ejercicios. Es deber del órgano del Estado respetar y promover tales derecho garantiza la Constitución como los tratados internacionales ratificados por chile y que se encuentren Vicente que el caso sobre esa base nuestra Corte Suprema ha entendido que este tipo de interpretaciones son inconstitucional de manera permanente prácticamente de la vigencia de la de la ley y a mayor abundamiento presidente de batido Algo similar en caso de Guay en caso de Paraguay la Corte Interamericana en la década de los 2010 2015 la convención la Comisión Interamericana emite una opinión consultiva el año 2002 ratificando que en su interpretación y de la corte Los Cuatro instrumentos básicos que incluyen el Corpus Iuris derecho de infancia incluyendo las reglas de Beijing forma parte el artículo 18 de la Comisión Interamericana derechos humanos y eso quiere decir que si uno no respeta Beijing para La Corte Interamericana infringiendo el pacto americano derecho. Igual o por la señal ahí da lo mismo la gravedad del delito obstruccionista y encontraste proyecto de manera bien bien contundente y el sorprendente considerando la realidad que vive el país y amas con el ánimo y llegar a un acuerdo, vemos qué es imposibilidad eso ante la posición constante de este gobierno representado por los asesores tiene sentido presidente, Yo quiero también prestar otra situación que tiene que ver con las reglas de Beijing que el gobierno. Defendiendo fuertemente no todas las legislaciones del mundo tienen irreprochable conducta anterior, es más sensible le reprocharle conducta anterior en la modificación de no Código Penal ir a quedar fuera porque de repente cuando interior tiene que ir con poner un estándar superior al comportamiento de una persona es una persona se nace con el representante era por Dante no Debería ser es como que te dan una licencia un premio por no haber delinquir nunca No cuando el ser humano no debería delinquir por lo tanto uno también por interpretar de que esto es un beneficio que es una circunstancia atenuante por lo tanto lo que nos estamos diciendo es más que considerar o no lo registro de las condenas anteriores. Es de que se le va a tratar como una persona que cometió el delito por primera vez, pero si la circunstancia atenuante entonces las circunstancias de no antes no es el considera la regla los los registros de condena anterior es decir que hay una regla que no se va aplicar en otra legislación que probablemente tampoco están otras legislaciones, por lo tanto si uno se va extrapola otras legislaciones diría Ah pero si no hay una circunstancia atenuante nota legislaciones, estarán cumpliendo el tratado de Jim no conocen lo que estamos diciendo es que a la gente que cumple mayoría de edad se le va aplicar la pena. Según lo establecido en la legislación Ni más ni menos si no va a tener un tratamiento más benigno, pero eso es producto que nosotros tenemos alguna regla especial con el reprochable conducta anterior, por lo tanto es algo sujeto discusión presidente eso quiero eso Quiero ir y que claramente que en la forma que lo hemos planteado respecto a las excepciones, la demás lo establecemos para un catálogo acotado delito, que solo delito más grave nuestra legislación, cómo le explicamos una familia presidente que perdió un hijo asesinado por un menor de edad los 17 años cuando comete otro delito A los 18 años que ese Joven se le va a tratar como un primerizo, iba a recuperar la libertad, los pocos meses Esa es la respuesta que leemos tenemos que darle la ciudadanía presidente y que lamentablemente vivía no estamos dando el ancho a propósito de esta postura del gobierno que francamente comprensible, pero solamente presidente atribuir una intención distinta al función propia del gobierno y catalogarlo de obtuso, lista es algo. Inconducente yo le pido al diputado longton que tiene legítimo derecho a contraargumentar y es su posición, pero trataron gobierno de obstrucción y stanoplex tan importante donde se ha sido fundamental compartir Pero eso, pero porque tiene una posesión Andrés Pero eso no significa ser obstruccionista siente siente siente siente. presidente primero sí presidente dos cosas primero quería que yo tenía la palabra, pero usted le dio la palabra el diputado Leiva si no estamos hablando del tema entonces usted no sabía lo que iba a decir entonces entonces presidente lo primero era decir que mi postura respecto todo el proyecto ha sido tratar de dar señales también concretar la ciudadanía respecto a que los niveles actuales de violencia en la delincuencia no se deben tolerar sea de la que sea ya yo voy a hoy en particular aquellas normas que dicen relación con los delitos más violentos Y en este caso de acuerdo los antecedentes que hemos logrado escuchar en el debate claramente Esto va a terminar en otro estadio de Porque no seguro que se apruebe con la indicación que ustedes supuestamente vamos a modificar la indicación adecuada porque lo más seguro que esté sea una discusión y un debate constitucional ante las defensas lo mejor lleven este tema a la 1 constitucional, pero en el caso puntual respecto a la indicación adecuada. Yo voy a seguir apoyando la cosa diferente es también en la misma línea de la interrupción del diputado Leiva aquella faltas que le atañe o que le Acuña al ejecutivo porque En definitiva si usted quiere hablar ya entonces entonces ya entonces ya ya. Cuando El Ejecutivo estado participando en todas y cada una los proceso de discusión poniendo su punto haciendo su punto pero siempre estado nosotros siquisiri la discusión de este proyecto no estaría con discusión inmediata en otros proyectos pero yo debo rescatar de que El Ejecutivo óvulo asesor ejecutivo particular en este proyecto han estado colaborando colocando temas más bien técnicos en el proceso del debate podemos compartir uno compartir varias de la propuesta o del o argumento del ejecutivo yo no estaba de acuerdo con mucho de su mentor y por eso estaba pero dile a ellos que sentía están desarrollando un proceso obstruccionista yo creo que eso no pasamos varios pueblos. Vamos a votar, entonces diputado Soto tipo de la reinserción social juvenil que viene trabajando en esta comisión no este gobierno, sino el gobierno anterior la misma gestación de la ley que el día se está aplicando. Yo creo que está validado técnicamente siempre y yo creo que no cabe a pedirles intencionalidades propósitos Cómo desbloqueo de leyes Simplemente yo dar una como una opinión experta en base a las calidades que tiene Macarena y Francisco Qué es reconocida por los dos gobiernos que yo conozco que estaba acá en este tema, por eso me parece que son de medida la palabra de del diputado longton por su intermedio y y solo para ratificar el punto que ha planteado que bien simple. Yo creo que no cabe la loca enojarse. Cuando le dicen cuando le dicen que su indicación es inconstitucional no es la actitud correcta, Qué es uno se moleste intenté atribuir la intención de otra persona cuando le dicen que inconstitucional y se lo demuestra el presidente el tratado de Beijing o las reglas de Beijing que está en el tratado y fueron aprobadas por chile, pues no aprobada por chile, mediante decreto supremo número 122 del ministerio relaciones exteriores de fecha 3 de febrero del 2022 poniéndose en vigor en el país desde ese momento están vigente la relación de Beijing y de acuerdo al artículo quinto de la Constitución también son aplicables con protección constitucional Entonces yo no sé si tiene sentido aprobar una ley que contraviene expresamente en la constitución. De la de la base de institucionalidad podemos eliminar la presión de que los tratamientos no son ellos son protegidos por la constitución, pero mientras lo estén, tenemos que aplicarlo Y eso es lo que se ha dicho acá. Yo creo que no hay que molestarse cuando alguien le revelan el Exacto sentido de una ley y su inconstitucionalidad corregida de Andrés longton para incorporar un artículo tercero nuevo siguientes del artículo tercero agregaste de las circunstancias sexta del artículo 11 del Código Penal inmediatamente después del punto aparte Seguido lo siguiente no podrá. Estimarse y reprochable la conducta anterior de delincuente que haya sido condenado previamente Por alguno de los delitos previstos en el inciso según final, Perdón del artículo 1618. DS 8 de la ley número 30884 favor, Don Raúl Leiva presidente entendiendo la intención de la indicación pero siendo abiertamente inconstitucional me abstengo resistencia suburbana la votación incluido no influye finalmente la votación final hace que a favor Sé que estábamos parados pero pero cuando salió la sala dijo como allegados otro día no autorizó a votar Así que voto favor secretario Luis Sánchez Muchas gracias, favor Don Leonardo Soto Por las razones que señala odio me voy a tener porque nosotros tenemos una gran obligación Cuando hacemos este tipo de mo Qué son legales, Qué es antepone a todas que básicamente no aprobar normas que son inconstitucionales y aquí se nos ha dicho que son inconstitucionales se Argumenta en torno a eso y lo que vamos hacer es desprestigiar esta legislación que tiene muchas cosas buenas cuando uno le agrega cosa abiertamente inconstitucionales a sabiendas, sabes poner al escarnio público Y eso es lamentable porque tiene varias cosas que son interesante este proyecto, pero nosotros nos debemos a eso en Nuestro juramento en otro estatuto, así que yo no voy a probarlo aunque sea en popular. Yo tengo que realización de acciones, por eso señor presidente a Paola Llámale 7025 favor cv2 atenciones aprobado aprobado su indicación con las correcciones propuesta. Por el diputado Leiva transitorio 25 con el presidente una una una aclaración primero está Norma que eliminar el 24, el 24 no fue aprobado. Eso es lo primero y lo segundo tiene que ver con la entrada la completa entrada en vigencia de la ley 21526 para que entre en pleno régimen este proyecto ley una vez que entren fenol. Dime la ley 21526 para que quede coherente con la entrada en vigencia de la ley creo que generó el próximo año se constituyó efectivamente soluciona buena parte de los problemas de coexistencia le jode la solución más simple para resolver sus problemas de coexistencia supone que esta ley no va a estar aprobada después de esa fecha si la regla sin sentido y hace innecesario las demás transitorias y no se supone que ya están aprobadas perfectamente 7 grita esa prueba no tiene ningún sentido los demás demás transitoria y me parece que haría raro que se reforman autorizamos a la secretaría revisar si hay otras transitorias. No se puede, no se levanta la sesión.",
         "2025-08-21",
         "Comisión de Constitución / Jueves 21 agosto 2025",
         "https://www.youtube.com/watch?v=upc3keFEL9U",
         "0.0",
         "4890.2"
        ],
        [
         "3",
         "4",
         "108",
         null,
         "4601",
         "Buenos días mi presidente general de Ministerio Público sean resistentes a los siguientes documentos un oficio de fecha 19 de agosto del secretario general de la cámara de diputadas y diputados el cual comunica que la sala accedió la solicitud de esta comisión para la prórroga del plazo de vigencia, la misma por otros 15 días a contar de la fecha 22 de agosto. Esto es extiende su mandato hasta el 9 de septiembre del año 2025 para dar cumplimiento a su cometido una carta de 12 agosto del señor Eduardo Sebastián Rincón y rojas mediante la cual comunica la situación que indica una denuncia respecto de un diputado integrante de esta comisión De fecha 19 de agosto del señor fiscal nacional durante el Valencia basket mediante el cual excusas potencialización de hoy por encontrarse en código funcionario la fecha y hora sin prejuicio cuál indica quién su representación así tira el jefe del sistema de análisis criminal y focos investigativos señor Claudio Ramírez Núñez de manera, remota que no entiendo que tenemos ya. está presente y un correo de fecha 19 de agosto del capitán de carabineros de la novena comisaría de la guardia del Congreso Nacional capitán, Don Rodrigo Marín hetzel mediante el cual confirma la asistencia del directorio del control de drogas en investigación criminal general Don Jaime Velasco bahamondes en representación del General director del General director de carabineros de chile, general Marcelo araya Zapata a la sesión de hoy Gracias Leonardo vamos a pedir la palabra sobre Gracias presidente solamente para propósito de las sesiones que nos quedan si es posible que contemplemos invitar a los periodistas que han hecho reportaste al respecto solo periodista de el mostrador contrapoder chile y hay un tercer medio que habría hecho un reportaje yo puedo contarlo pero sería importante poder biobiolaradio, que Quizás ellos podía ser en 10 minutos por tu dar su parecer no sé cómo cómo está la tienda de lo que nos queda por tratar recientes. Gracias a Dios no quiera solo una sesión de acuerdo a los plazos de aquí tenemos que hagan en un parque invitados, creo todavía, o sea, pero que lo tendremos que ir al finalizar para tomar las eliminaciones Ahora hay que recordar que el propósito de esta comisión especial investigadora es puedes utilizar los actos del gobierno en torno a las materias sexto de estudio en este caso este organismo para exponer no acepta la situación. Creo que sea dentro el foco la material investigación invitar a los periodistas y podamos hacer una investigación y no tiene que ver principalmente con la que estaba investigando los otros tu entorno. Sin falta mi amor, ahí venía a los diputados presidente razonablemente eso yo creo que igual lo periodista un trabajo bastante importante en algunas materias, No justamente dicen relación con Cómo ha sido abordado esto Cuáles son las falencias que pueden existir son reportajes que han realizado que tiene mucha información por tanto si existe la posibilidad de poder escucharlos en agosto, creo que sería razonable, si esto no es posible presidente me gustaría que también que si se le pudiese a ellos oficial que pudiesen enviar todos los antecedentes que tengan y que también se puede adjuntar los reportaje a como materia de la comisión para el informe que podemos realizar los reportajes, yo puedo. Adjuntarlo como información de de también de esta comisión que son tres reportaje que hasta el momento muy bien Lili acuerdo la sonido. Vamos oficial entonces para ver si te puede enviar, no la información si quieres entonces y al Jaime Velasco que nos acompaña cierto presentación del director de control de drogas investigación criminal de carabineros de chile, conectado por su queremos preguntarle si es que parte de su presentación requiere que sea materias de Secreto de la comisión o reservado. Según los medios como ya deja igual en la cámara diputados por la transparencia toda la seriedad que nos caracteriza bien Vamos a entonces la palabra Jaime Velasco director el director de control de drogas investigación criminal de carabineros de chile, eneral tiene la palabra gracias Buenos días presidente Jaime Velasco dirección control droga investigación criminal tengo toda la área de la investigación criminal En qué departamento se droga departamento investigación de organizaciones de personas y vehículos en laboratorio y par de centro de análisis en la macrozona Norte y su bueno efectivamente principalmente atendiendola la materia en cuestión. Hoy y siempre se habla de hielo personal se habla de fenómenos criminales que hemos tenido desde hace algún tiempo el Play 3, pero se asocia principalmente ha hecho público violento dónde están relacionados también distintas organizaciones nacionales de las cuales también el último tiempo principalmente la última semana queremos de chile, a tenido muy buenos resultados, pero respecto al robo de cobre uno puede señalar también que este es un fenómeno es un fenómeno criminal porque desde hace muy buen tiempo a la fecha se ha ido acrecentando y acentuando en distintas regiones y esto se ha ido expandiendo también a regiones donde Generalmente no ocurría sé por lo tanto es un fenómeno que ha ido creciendo conforme a los datos que nosotros hemos podido ir. Registrando antecedente que conforme al sistema de análisis de información de cráneos de chile, hemos podido detectar desde el año 2021 al 2025 efectivamente hay una tendencia al alza en este delito decir este año queremos decirle, ya tiene 461 eventos que están relacionados con este delito a nivel a nivel nacional, que uno compara los años anteriores pectivamente hay un crecimiento en esta situación, el año 2021 asientos caso 226-228 461 casó en el año al respecto Damián se pueden señalar distinto análisis, Qué son de importancia Y quizá en relación con aquellas regiones donde tenemos mayor incidencia. dt de cerro tololo Lamentablemente lo diera la región de higgins y aquí puedo señalar algunas características no sé la neta respecto algún proceso investigativo que en su momento donde también está aquí en la región, hay que tener en cuenta que principalmente en provincia este problema se ejecuta y se materializa en sectores Rurales y de diversa magnitud cierto tipo de errores, pero también hay muro de otros que afectan a tendido eléctrico mayores donde hemos tenido problemas e incluso con suministro eléctrico de una región a otra pero tiene esa característica principalmente me pone en sectores Rurales y en horarios nocturnos o'higgins Bio Bio la región Metropolitana El ambiente Valparaíso hindú de Mauri y la araucanía son las regiones que concentran mayoritariamente este este tipo de delitos también dentro del análisis y y en el sistema de análisis territorial de graneros de chile, también se vislumbran umbrales donde no solamente afectan a la zona centro zona Sur sino que también antes en relación con el incremento la región de arica y parinacota, por eso hablo de un fenómeno que ha ido ganándose a otras regiones o como la región de aysén. Y los lagos donde también hemos tenido un incremento de pelito donde se hace No mucho tiempo, la verdad quiera prácticamente no Por lo tanto dentro de esa proyecciones que carabineros de chile, realiza la región de arica parinacota tienen Rango fuera de la normalidad respecto a esta a este Valparaíso la región metropolitana tiene levemente un Rango fuera de la normalidad pero en general Respecto a los detenidos Bien también hay un incremento en los casos queremos decirle Ya este año tiene 65 detenidos por este bendito proyectando lo fin de año vamos a llegar a Rango histórico respecto a las detenciones de estas personas tomando el mismo periodo de tiempo nunca antes creo de chile, ha tenido la tener confunda reflexión de fin de año esa cantidad de detenidos principalmente relacionadas con la sustracción robo de cable Principalmente estos detenidos son chilenos aquí no estamos hablando por lo menos en las primeras detenciones y conforme a los antecedentes estadísticos son en un 91% chilenos y en un 99% son adultos Generalmente tienen reincidencia justamente en este tipo herido Y eso también es interesante de profundizar un poco atendiendo que Quiénes se dedican a cometer estos delitos principalmente se dedican solamente hay desde desde la perspectiva de la investigación efectivamente no ha tenido algunas incursiones investigativas, no este año 100 notas principalmente el año 2022 2024 en distintos sectores Rurales pero tamb. Relacionado con la suspensión de cátodos de cobre, dónde se han desbaratado estructuras importantes principalmente en la macrozona Norte Como en antofagasta donde haya sustracciones de gato desde el tema donde incluso para mí solo un momento debido a esto este tipo delito o el rol cazo de cobre de la empresa codelco de una zona extractora en San Antonio donde también se logró desbaratar el año pasado una agrupación criminal con asiento en Santiago y en la quinta en la quinta región cráneos de chile, participa actualmente en distintas mesas de trabajo que representación institucional es la última Fuentes y 8 de junio que salieron sus secretarios hasta el cuñado y por supuesto a nivel a nivel regional. Malla de los antecedentes que uno no puede señalar acá, Qué son estadísticas y con la mirada desde la perspectiva del fenómeno criminal y de la investigación criminal en maya, el recovery, Qué puede afectar un lugar muy local o puede afectar grandes extensiones del país sin duda que estás de este conforme a la a la experiencia podemos estar en bajo agrupaciones que son mucho más gusta que tienen un sinnúmero de elementos que pueden estar asociados a transporte a mi tía la modificación del Cobre Para futuras comercializaciones, posiblemente dentro y fuera del país Por eso estoy aquí mirando como fenómeno criminal donde no solamente. Hay una persona que roba cobre en un lugar físico sino que pueda mucho más completa detrás de esto y que puede estar asociado a un sin número de individuos que tienen capacidades físicas importantes para la comercialización del cable. Gracias genial y les parece bien que a los parlamentarios que escuchemos el Ministerio Público por el tiempo que tenemos la condición y luego damos las preguntas al coordinador de la unidad de análisis, criminal y focos investigativos taxi de Ministerio Público Claudio Ramírez en representación al Señor Ángel Valencia Don Claudio Buenos días tiene la palabra Buenos días señor presidente intermedio saludar a toda la comisión y agradecer esta posibilidad de intervenir vía zoom desde acá por ahora de Valdivia en este caso y segundo saludar a Gerardo que acaba de exponer a que nos vemos Ya nos conocemos poco y de señalar este punto Party aquí el metanálisis capacitación a nivel de cifra y de exposición que acaba de hacerse lo que acaba de empezar el general Coronel descifra y descripción me equivoco mucho lo que ya Te expulsó, sí, quisiera agregar algunos algunos espacios unos temas. Yo tengo una presentación, no sé si la van a presentar ustedes o o no compartir pantalla, me dicen que la van a pasar desde allá la segunda lámina, por favor, bueno, algo como decía recién ya con ciertamente con lo que lo que estaba haciendo carabinero Y supongo que a partir de todas las exposiciones que ustedes han Rocío también. Ya has tenido Fernando ni idea de este fenómeno criminal, cómo salió el tendiendo territorialmente Y cómo está girando un impacto operacional y económico sí, bien, cómo indicar que tenga dinero es un fenómeno que está más arraigado en banda chilena dado sus formas que se comete uno tiene que estar sin Del escalamiento que se puede producir que finalmente tú estás Hace por dinero, no sé dónde van puestos dinero donde se acumulan como circula en el país, Cómo pueden salir del país. Este son fenómenos que nosotros somos italiano Teresa mucho poder avanzar ya no quedarnos solo con el mercado primario, sino que los mercados secundarios y me saqué siempre todas maneras, qué minerales están movilizando el plan criminal y que era cierto Está alentado Gerardo fútsal Colombia financieros y Hacia dónde se dirige a sus recursos siempre tiene bien Clara y quizás aquí adelanto el primer aspecto clave en este trabajo y que ha dado los resultados que un poco también explicaba general es la inteligencia lidad en efectivo que estuvo fenómeno voy a explicar que tiene varias etapas y cada etapa inteligente organismo del Estado Ya está carabineros investigaciones ministerio público se quitó parte interna aduana etcétera fueron todos ellos actuando reintegra devolver este fenómeno evitando que su complejidad y su texto en su extensión territorial y su tercera es bien es una cadena como acá acá es estructurada tiene cierta funcionalidad Cómo prevenimos esta cadena, cómo vamos cortando esta cadena es clave y no los factores que ha dado resultado es justamente cuando el organismo del Estado operante Valente agencia decir compartiendo información y terminaron cada momento de vuelo de mitigación es que están se están desarrollando ya sigamos complicado reciencito fenómeno complejo en el sentido de que se extiende a varios ámbitos de la actividad económica el país ya tenemos el más común que ya no se decía por ejemplo en Santiago es muy fuerte en los cables, los de cable tendido eléctrico algunas empresas han ido evolucionando a otro tipo de cable con alto Bahía de seguridad pero aún un importante el proceso aire de robo de cable tendido eléctrico en un tiempo hace un par de días o un año y medio un año atrás tuvimos un fuerte aumento del robo de cable y telecomunicaciones de la fibra óptica que como tal no tiene valor comercial pero si se corta con ocasión andar buscando cobre portado de manera aleatoria hasta encontrar cobre Y por supuesto también contaban cable telecomunicaciones más bien gobernando pero Ah Ah Ah Ah Mirá vos a otro luego está el tema Las catenarias cierto que es el este el cable que hace contacto con los el tren que va desde Santiago a chillán y se producen corte ese es un crocante complejo y aquí te quiero sacar mi trabajo que se ha desarrollado constantemente con la policía y particularmente con carabinero que en su momento genera un proceso de Son prontito suceso control y con motocicletas llegamos y flujo bastante producto cíclico y tengo que hacer tu tiempo aumento rolas catenaria pregunta en el grupo permanente que está trabajando en otro catenaria para contenerlo Ahí trabaja el mundo privado y el mundo público hasta la F y por lo tanto tenemos ahí un trabajo constante y permanente o insisto a ver ya que la Panda sale que retoman su trabajo, verdad Y también es un Qué es un escenario que se iba contando, pero tiene algo novedoso, pero también hace un año cierto, pero de gato de placas de cobre que me haya explicado este este punto este es complejo porque los Cardozo grande se requiere un abrazo importante camión tortura en fin producto y aquí donde hemos portado también más adelante en un evento, pero bastante. Y las tuberías ya entonces por lo tanto vemos Que comillas en el mercado de oferta a logaritmos, terminal de respecto del cobre en la en la espacio público comillas es abundante tanto. Él va a seguir este fenómeno de manera Crónica por lo tanto hay que tener un rulo permanente del Estado para investigar estos delitos y perseguirlo ya por lo tanto me parece ahí. Sí, este me lo permiten de mucho calor. Está comisión en cuanto pone un énfasis en este problema crónico es digamos en términos generales también ya se explicaba histograma, tú te llamas avena y distinta gente, pasó que se van dando en este fenómeno criminal el primero, por supuesto la sustracción que básicamente cortar cable car lugares de bajo control, pero sin cámara o aislado el anoche, aunque también hemos tenido caso de basta. Evidencia durante el día de arrastre, levanta la tapa y con un vehículo idóneo o tiran o arrastra por el piso, el cable fuera del subterráneo también sea bastante bastante imágenes de sentido positiva, la complejidad de la sustracción es la probalidad, Quién es el dueño del cobre en ciertas etapas difíciles etapas tema de las catenarias hierro de cable tendido eléctrico regularmente está unido a personas que tienen algunos tipos de conocimiento de estos lugares y también del voltaje bancos. los cuales hay gente en el primerito y la venta de los lugares donde se puede producir o cortes Por qué la sustracción torio de la conozcas o qué es el proceso de fundición de chipeado de manera de poder general para poder acumular lo seguramente la chatarrería vender al menudeo o bien hacer un proceso de acumulación para pasar la etapa de acopio intermedio Y adónde si hoy día a nivel investigativo es donde estamos poniendo más teléfono porque aquí en este copia intermedio se producen dos, pero uno es fundición operación de lingotes artesanales por un lado y por otro también se producen en pacificación del acto de procedencia donde hay cierta facilidad para Generar está falsificación Y pues después dar el paso siguiente Cómo ves que exportan el cobre unos juegos investigativos que estamos yendo, estás en esta unidad intermedia lo más grande que la que una chatarrería normal y tiene estas dos fases de una vez chipeados, esto fundir y bien, iba a estar al proceso de poder exportar el cobre por estafa sificacion de alta como la indica y finalmente en el mapa de punta criminal más rentable para localización es la solución exportación y ahí vuelvo cierto, que necesitamos que también encontró la fundición estar operando y tienen autorización sanitaria para poder funcionar y ahí lo importante. Nosotros tres que la información de dónde está, cómo está funcionando hemos tenido, pero yo creo que nos falta. Maitre genialidad color ganismo de control de esta judiciales artesanales productos la zona norte de Santiago hay un party en grandes ligas y también el tema La exportación bueno sigamos a modo de resumen o síntesis para que que bastante aceptado lo que está portando Explica las etapas cierto. Nosotros queremos que hay acciones preventivas que se pueden tomar ya en cámaras tener listo las personas que salen de las empresas toman medidas de resguardo este te lo presto Ya quedan en el mundo el mundo también de los propietarios de lo que estábamos hablando no se cortaba fibra óptica gallo montando moto de batería cierto que también tiene un cierto valor económico y la antena de comunicación están también ahí en la rueda de batería Pero todas las 2 sur del país y centro país ciudad estado de batería y también Alguna vez se puso rojo en la instalación de aplicación de la vía de eso todas que hablemos en lugares de acopio lugares de producción y finalmente lugares de venta puede ser exportación texto al finalmente a Oriente de Horacio regularmente, no como actores importantes tenemos los otros dos protocolo de trabajo importante Hola hola la gremial de la empresa de telecomunicación llama chile telcos y también tenemos trabajo permanente con el consejo minero, Como alma delante pronto articulación aquí con el mundo privado para sobre todo para acreditar la procedencia del Cobre chile, del coyote comiendo antibacterial sigamos tipología que ya Estoy haciendo apenas minera, hemos tenido un caso Pero ha sido violento en el grupo de personas con armas cierto que ingresan a ir a robar el camión es significativo la forma en que se come de la sustracción zonas urbanas o Rurales subestaciones también de repetidora de celulares en plata en plata fotovoltaicas, toto se va a funcionar colocaciones Buscar el cobre, pero también se produce atentado contra este tipo de instalación, sigamos básicamente Existen tres ámbitos en los cuales. Nosotros nos eligieron tampoco investigativo poco investigativo con la forma de agrupar una serie de casos penales que tienen algún elemento común y servicio producto local que Salazar con la policía y tiene un soporte de analistas criminales del ventrículo, eso a eso llamo poco investigativo, entonces ahí etafashion. Cortador el intermediario y solamente las chatarrerías Cómo es y los portadores en esos tres ámbitos hemos ido trabajando contando y recitando que no hemos entrado en la chatarrería intermedia queso la casa de todo trabajo en la fundición la falsificación de actas de procedencia portadores, Qué es el objetivo principal que uno puede llegar a través de la investigación de la intermediaria y estaba con el género del este fenómeno y nosotros tenemos focos investigativos, Qué es agrupación de caso que tienen elemento en común y son elegidos por una musicales que se va a secar dejo que metí gativo cierto te voy a mentir solo promedio 26 casos lo que tiene cada investigación y ahí están las regiones las cuales al hospital menos puso que mitigación arica tarapacá antofagasta atacama coquimbo. O'higgins maule, ñuble biobío, los ríos los lagos y por eso Yo ponía le facilitaría ya existe una fuerza trabajo muy ácida de la policía investigaciones por la cual tenemos de relación y mucho resultado mentira ti vacío producto de esa fuerza investigativa ya generado la policía de fuerza de trabajo, pero pues el trabajo que ellos tiene dando la policía mitigación ya que así una corte bien bien importa aquí en la complicidad hasta que son investigaciones k1 que están en pantalla que digan distintos tipos de extensión de cierto tipo de bandas y viene el mismo fenómeno tiene su diferencia pero tanto no es posible en mi juicio hace una sola gran investigación porque tenía cargar detente vacía un equipo ya no lo podría tener un equipo. Investigativos el producto a quién Llamado de emergencia la colaboración y la información compartida? Siguiente lámina, por favor Bueno apúrate sacar algunas cosas de los pocos que han decretado la fiscalía metropolitana Oriente tiene un cobre un poco que es bien conocido es el cartel del cobre, es internacional decir, cubre toda la región metropolitana. Si quieres realmente significativo en la acumulación de información y la toma de decisiones vestiga Tía y ahí sí, como dice, no por mucho más, pero tenido dos procedimientos que hacía conocido por la prendí el segundo poquito Regina que tenemos de la Fiscalía Regional metropolitana Sur qué estados incluye incluye investigaciones de antofagasta coquimbo y Santiago desarrollo y cómo está constantemente apoyada por la fuerza de tarea de la que depende de Porque una quemadura con la cual las coordinaciones está bien y además yo otro equipo y otro programa especial especial tanto queremos interregionales investigaciones de la región metropolitana y el azul el azul en pleno desarrollo sigamos algunos resultados importante que incito consideren bastante bastante con lo que ya estaba gritando hasta el día de hoy tenemos imputado conocido la investigación 142 y formalizado en taiwanés, indique las regiones las cuales están en todo te tocas o destacaba la Fiscalía Regional metropolitana su procedimiento de creación del Cobre y caídos en general y 277 distintiva 700 condenatoria ibas de 293 somatizaciones es investigación que están en desarrollo y Esperamos que nos permitan llegar al comienzo. Dando la investigación Hacia dónde está circulando el dinero, Qué es un fenómeno con problema, Qué es un ámbito investigativo, Qué es que hay que avanzar con mucha cautela, ya sigamos siendo los casi 2 casos de éxito o indicado hasta el cartel del Cobre cierto, estaba andaba nivel nacional, tenía esta condición que le comentaba y el objetivo principal era enviar pobre a Europa y Asia ya la negación duró aproximadamente 10 meses 56 allanamiento en la región metropolitana origen y Valparaíso ahí en ese contexto se dieron también y un líder del grupo empresarial Cartel de Santa por la fiscalía metropolitana Oriente en este mismo procedimiento de cobre la que fueron. Aproximadamente en orden de 1200 millones de peso vehículo salvamento evidencia delitos tributarios facturación pasado de activo etcétera, por eso sí al comienzo como somos capaces como de la investigación no solo al tema del corte de la comulación y el chipeo, sino cómo se vincula con ciertas páginas de mayor envergadura Hacia dónde está circulando los dineros estamos poniendo énfasis particular en este en ese trabajo sigamos otro caso de éxito reciente hasta la última destacaron posible toquecito recientemente en la región del Bio Bio Los Ángeles con una investigación que se duerman la demanda del cobre de Los Ángeles que también sigo esta lógica del portador el intermediario el chatarrero y la empresa que lucra valentía exportar y el intermedio también certificar un acta de potencia falta en general alimentación de personas que ahora hay 26 formas de estado por receptación delito tributario de falsificación de instrumento público y Asunción en el cual se incautaron 280 millones de peso y un par de certificados 23 postal vehículos inmuebles también y este este medicación hermanos de levantar cobre incluye los lagos estos casos los traigo corazón para descargar cómo se miran las generaciones y como necesario intermitentemente canciones compuestas humano elemento crónico segundo Cómo se produce una acumulación de recursos económicos que pueden ir escalando también y fortalecer versiones criminales además Estamos soleando mecanismos de coordinación muy fuerte con el mundo privado tenemos permanente coordinaciones con chile, telco que la gremial que agrupa la empresa comunicación el consejo el dinero o chico que visitamos recientemente, Qué son la entidad que administra la reserva de cobre Hidalgo certificado para exportar, estamos trabajando con el transelec, Qué es cuando estamos viendo revisando el tema de la fibra óptica y otros aspectos es el tema Las catenarias de un equipo muy activo aduana servicio puesto interno para decir es que cuando yo le tiré sinceridad referencia pública coordinación el próximo 27 de agosto los gatos y también por acuerdo en lo que va del año 2024 consejo minero. Marinero por siempre tigación identidad más una jornada nacional con todo este listado de situaciones que le mostremos una jornada nacional para coordinar las investigaciones y de manera no producir uno o más bien difícil hacer un suficiente los recursos policial esta jornada y estar todos los fiscales jefe o todo lo que tiene que tener relaciones y además de lo de un analito por región para poder producir está está está este fenómeno que ya se puede tomar con Entonces estamos lastimando de cordinacion 20 sinceridad y también interna como le digo Son variaciones que comparta información y buenas prácticas y parece que esto sería Muchas gracias por su tiempo de presidente de la comisión por habernos escuchado. Gracias Claudio te amo Gracias general también Jaime Velasco una presentación la vida diputados para preguntas Gracias presidente te digo que las exposiciones que hemos visto son muy complementarias con todas las que la misma línea de las que hemos ido recibiendo por los distintos órganos e instituciones que han estado presente que han descrito como bien hemos dicho que aquí no estamos en presencia de una persona que roba cables como muchas personas imaginan que una persona que una bicicleta se roba los cables y un delito menor que cuando uno habla de las bandas de rock hable uno normalmente si no tuviste conocimientos y podría imaginar eso no una verdadera estructura millonaria respecto de esta verdadera banda que están asolando nuestra ciudad y que tienen efecto directo a la ciudadanía, porque esto Alguien podría decirme A quién no me esto no afecta nada y no evidentemente está afectada con mucha fuerza la gente nosotros tenemos como una nuestra región como la higuera Y la verdad es un Melodrama, Porque el otro día estúpido No termina reunión con la alcaldesa y se tuvo que suspender porque había no había luz y eso genera no solo efecto en la gente, sino en muchas circunstancias de la vida de la de las personas de la vida desde los electrodependientes hasta la Loza PR que funcionan con la luz eléctrica Quisiera hacer dos preguntas puntuales y primero es respecto del poder de fuego de esta Panda criminales Nosotros hemos sabido que efectivamente lo que no la información que hemos recabado que hay un poder de fuego fundamentalmente para el transporte cuando hacen el transporte del Cobre no sé Sería bueno que pudiste referirse un poco eso Cuál es la característica de poder de fuego porque también Nosotros hemos visto que sí. Por ejemplo se habla, se hablado de explosivos militares, por ejemplo, para poder hacer utilizado y el segundo término también respecto de los mecanismos que se estaban utilizando para dos situaciones primero para la exportación porque claramente todo va va por aduana Entonces cómo cómo se está llevando a cabo Esto sí es por vía, podríamos decirlo usuales de exportación es decir camuflado en algún lugar o están habiendo mecanismo también en en caritas en lugares que puedan que pueda transportarse otra manera. Yo creo que mi segundo de respecto de lavado de activos y cuáles son los mecanismos que se están utilizando para para este tipo de lavado de activos. Yo creo que portante también porque cuando aveces se abre el debate respecto de la del de las cuentas corrientes siempre en el argumento, si no mire los criminales no no utilizan cuentas corrientes criminales guardan el dinero bajo el colchón o no tienen efectivo entonces efectivamente yo yo nunca me había visto 1200 millones de peso ni 2000000000 de peso Pero me imagino que es harto dinero, cómo va a guardarlo dentro del colchón entonces también saber cómo están realizando este lavado de activos Porque por ejemplo en el caso de coquimbo que nosotros vimos que el rey del Cobre Cómo se le llamaba está construyendo un restaurante evidentemente no estaba construyendo un restaurante cuando factura 130000000 de pesos al mes no está facturó construyendo un restaurante para ganarse $5000000 al mes como un negocio sea evidentemente cuídese tener alguna conexión también con mecanismo justamente para poder Lavar dinero entonces también es importante que puedan los nexos que han existido para esta situación es Sí sí está bandas criminales efectivamente tienen redes Más allá de solamente en los mismos miembros de la Banda o sea, ustedes se ha logrado detectar redes en aduana red, el servicio impuesto interno en las municipalidades, por ejemplo, Yo supongo que alguien que quiere instalar rápidamente un negocio, cómo está haciendo esta persona en coquimbo va a requerir de él que le apure los permisos que lea quiero que lo ayuden que que haya colaboración Entonces sí, sí se ha detectado redes también más allá solamente de los miembros la banda sino redes que que pudiesen estar asociadas a la segunda etapa, podríamos ir lo del ilícito. Quién es el blanqueo de los capitales. Este unas cosas conforme a nuestra experiencia y conforme a la a la pregunta a ver. en este delito temblando de quién se sorprende cortando Cabello cuando se habla justamente este local Se ve como un delito de menor cuantía Y eso se transforma en el escenario ideal para la organización criminal que está de tarde respecto al robo de cable de cobre conforme a la experiencia que nosotros tenemos, no hemos detectado organizaciones criminales que estén relacionadas con armas de fuego water tipo de elementos, violento no tanto ya iba la diferencia en las organizaciones criminales que están relacionadas con sustracción de cátodos de cobre, Sí ahí vuelvo al ejemplo antofagasta esta era una organización criminal que paraba en donde actúa un aproximadamente bien vivido con armas de fuego largas de guerra y que era muy violento y dentro de esas dentro de estas detenciones se encontraron armas municiones chalecos, antibalas explosivos, no de tipo militar, pero si tipo minero y elemento para su fabricación además de una máquina laminadora, posiblemente utiliza para falsificar placas patentes máquina Oxicorte placas patentes falsificada más de 16000000 de pesos drogas equipos celulares, es decir cuando uno ve no solamente las detenciones, sino que las incautaciones que se realiza está educación criminal se habla de una estructura y la investigación en su momento así lo dio a conocer a quién condena ya está soleado, qué se dedica distintos delitos incluyendo mis hijos, por lo tanto acá tenemos una Criminal altamente peligrosa y violenta que operaba en la segunda región pero que tenían aexo esto lo dio también la la investigación este trabajo de trabajo decimos confitería obviamente pero también con la policía investigaciones tenía anexo justamente la región de coquimbo y la región metropolitana por lo tanto tenía una estructura muy importante en la sustracción de gatos utilizan camiones grúas 90 Bueno cómo pueden utilizar esa cantidad de recursos lugar sí porque son lugares que en pleno desierto donde la unidad de carenero más cercana está a 3 horas a 3 o lo importante esto y aquí también hay que hacer una diferencia Cómo se tratan de robos con intimidación violento con uso de armas aquí dentro de las penas que cerré las condenas que existieron se sumaron 91. Es decir, hay una condena, qué fue importante respecto a este grupo a este grupo criminal no tanto hay que hacer la diferencia con la agrupaciones que se dedican al corte y sustracción de cable de cobre dónde Generalmente no hay intimidación no hay violencia y esa menor cuantía hace muy peligroso la personalidad más baja respecto al porque sabemos que detrás hay una estructura importante copera ahora el lavado tío y consulten ese presidente sin duda, ya que hay que tener una mirada Cómo es la multiplicidad y él tiene organizado y tiene que tener una visión y el daño que se tiene que hacer al patrimonio de estos grupos criminales porque hay cantidad importante de dinero sin duda que es objetivo final y por eso los procesos investigativos en este organizar. Qué son la tos y complejos tienen que tener mirar respecto de los análisis de cómo circulan monedas ya se andaba activos criptomonedas otro porque donde base dinero para esto nosotros tenemos capacidades, pero también en el trabajo que hemos realizado es necesario la interacción con aduanas con w y con servicio impuesto interno solutamente primordiales justamente en el trabajo investigativo en las distinta etapa, ya sea en procesos de exportaciones de cobre como también de lavado de activo o en otros elementos que son de responsabilidad servicio impuesto interno, nosotros en esto en en principalmente en los gatos no no se terminaron la contabilidad y asociada a otras entidades públicas, no obstante hay otro proceso. Quién la verdad siempre buena ver otro proceso abierto que podrían decir relación con materias que pueden estar abierta a este tipo de proceso de investigación es, pero sí, hemos tenido antecedentes principalmente los organizaciones de gato con grupos. Yo lento con uso de armas de fuego y vinculados a otros delitos muy muy gravoso que entre ellos homicidio y tráfico de droga. Gracias, yo quiero aprovechar el audio de hacer una consulta nosotros de julio, despachamos del Congreso la ley que crea la fiscalía sobre territorial Ministerio Público Quiero preguntarle, si usted consideraría que quizá este delito, el robo de cable que afecta como ustedes poco investigativo del Ministerio Público y otros organismos del Estado si podría ser un factor. Eficiente para para que estar esta nueva fiscalía, zona territorial quizás pueda tomar este este poca investigación y poder avanzar en esa investigación ya desde una mirada hacia tu muro fiscal nacional Muchas gracias, presidente primero respecto desde las dos cosas que se hicieron y lo que estaba explicando el general efectivamente concuerdo con ambos planteamiento uno es tonto canción criminal tiene una capacidad de fuego, pero entiendo que la pregunta más bien iba dirigida a saber si había una camiseta fuego particularmente importante y cómo voy a explicar general. Eso ha sido detectado en el antofagasta, dónde Esterio este grupo delictivo particularmente armado y particularmente violento y es el fenómeno que uno. Voy a esperar como más complejo del punto B a la capacidad de fuego, el resto organizaciones no pueden tener el apoyo costura costura operacional por parte de otras el banda, pero no necesariamente Hay que decir que de una capacidad de fuego particularmente llamativa salvo el ejemplo que se ponía de datos haga en el cual está grueso camión este otro producto es un fenómeno o un uso de armas y hubiéramos estar más alerta, a que no escales identificar bien este grupo que ya te explicaba El general y respecto de lavado dinero efectivamente aquí se han ido utilizando las herramientas jurídicas que nos da el ordenamiento al ministerio público en el concepto de la investigación es eficiente por lo tanto se congela cuenta corriente, se han solicitado levanté secreto bancario, se han incautado, se han pedido me sostendrá. Hay todo un conjunto de normas que hoy día permiten avanzar en la investigación de patrimonial y toda esta herramienta se utiliza y ahí la relación es fuerte conoció por interno registro civil particularmente para el tema de los vehículos efectivamente hemos tenido reunión con colores, sentía muy avanzando. Prefiero meterla y un poco en reserva esas conversaciones, pero tan lenta Ja cómo poder tener una reacción temprana respecto del tema patrimonial Cómo tomar rápidamente en el tema matrimonial, lo más pronto posible desde que se conocen los hechos tanto poquita patrimonial efectivamente está haciendo los ámbitos utilizar todas las herramientas que lo dispones y segundo efecto del hacer caso a caso y también de manera sistemática con los organismos vinculados al tema patrimonio del país de manera de poder por un lado entificar los flujos y por su lado retenerlos y poder incorporarlos también al proceso de Parte del Estado hay una en particular interés, por ejemplo, el tema de muebles hay una política interna para la tierra a cómo asegurar los muebles como cuando están en Comisión Y cómo incorpora también al al patrimonio de la municipalidad particular producto quiere decir con esto que hay un énfasis particular se podía ser más en la medida que tengamos mayor coordinación permanente hay que tener un polo de trabajo respecto del ámbito patrimonial ya es una cosa y segundo respecto efectivamente Cómo hacer un presidente se ha despachado pero se ha publicado entiendo que ya constitucional revisó el proyecto eléctrico es un gran avance para la sociedad chilena y para el Estado una herramienta que permitirá avanzar y los delitos de crimen organizado y alta complejidad y aquí viene el tema el presidente que sean de carácter internacional y también sea de carácter internacional. Elementos que la norma fija para que un caso sea competencia de la fiscalía supratentorial y quién juzga es un fenómeno que miras como que estamos relatando puede cumplir unos requisitos nacionalidad tiene alta complejidad otra nacionalidad es El finalmente seca nacional a través de una propuesta que les fórmula el fiscal jefe supratentorial ya con ocasión a priori o no podías estar en este de este fenómeno puede ingresar o no es una evaluación que se está haciendo ahora hay algunos elementos de la exposición que hizo el general y me supongo que han hecho la otra vez que uno puede ser cierto factores que concurren solo podría decir todo el tema tonalidad y financiero Pero insisto, una sesión qué radica en el sica nacional a propuesta del sica sica territorial tiene sesión estratégica que adelante? Complejo que puede ser conocido por la fiscalía supratentorial, entonces viene especial fresco poder extender, 1 minuto Sí muchas gracias, presidente saludar a nuestros invitados a quienes también los ven porque esto es una temática muy relevante para la región de coquimbo a la cual representamos varios de los que estamos aquí y estaba analizando la última parte de la presentación de la fiscalía, cuando habla de distintas reuniones, han llevado adelante con distintas asociaciones personas que dirigen el tema de todo lo que tiene que ver con el tema de la minería cierto, el tema de los cables telecomunicaciones Cómo se han ido coordinando para trabajar en conjunto con carabineros con pedí para poder ir desbaratando estas bandas que lamentablemente. Sería aquejan a los niños y niñas más vulnerables de nuestra región de coquimbo en la comuna de la Higuera y veces que los chicos no pueden ir al colegio, se quedan sin almorzar a propósito de la falta de luz que se genera por 123 a veces por una semana y es muy complejo, entonces ahí también quería preguntar si en ese trabajo coordinado, que si está haciendo también está considerando a los municipios, por ejemplo, en la lógica de también poder ser parte de lo que significa el trabajo para poder desbaratar y poder En definitiva evitar que estas situaciones ocurran hacia el futuro y también en relación al trabajo que han llevado delante y yo vi que en agosto del 2024 se reunieron de cuencia noviembre y saber si es así que Existe algún insumo algún protocolo respecto de aquello para poder también incorporarlo a las sugerencias que podamos hacer. Sal de esta comisión especial investigadora Cuando tenemos que trabajar en el informe Si quiere, me parece que es importante también para lo que sea el presidente que la parte legislativa en la cual, nosotros podemos ir mejorando la normativa, que ya existe Como por ejemplo, lo que hicimos hace un par de semanas atrás para poder robustecer el delito de robo de cable de cobre y de telecomunicaciones para que las penas por ambas altas para que hubiera en otros aspectos de lo que llegamos Ya descubierto que también quedarán cubierta por el código penal en su caso nuestra legislación penal Pero quizás también Podrían haber otras iniciativas Ustedes pueden ir detectando también y que nosotros podemos ir traduciendo en una norma que a mediano plazo permita evitar precisamente y creo que esa experiencia está en esta reunión. Es que ustedes han llegado de las Muchas gracias. comunicar una buena noticia que hace mucho tiempo en lo personal y con mi equipo hemos venido trabajando hace mucho tiempo con grandes puertos de que vamos a tener o si no hay con quién pero una región muy importante que no teníamos o teníamos 70 necesitamos otro ente investigador potente Cómo se llama Ahora sí efectivamente dentro de esta mesa de trabajo que justamente vinieran subsecretario collado yo aquí Bueno ahí ahí hay varias transporte de la asociación gremial de eléctrica de energía Ministerio Público de articulaciones otra Pero yo lo que sé que efectivamente también el Ministerio seguridad pública a través de esta mesa tiene contacto con algunas de las municipalidades más afectada por qué la municipalidad también maneja información y es a veces información relevante putamente para prevenir para los procesos investigativos en tarapacá incluso han puesto de tus hijos para ver la lista de todas las estación que tiene la comunidad principalmente la área Social es más bonita que muy cortante que cómpramela que sea verdad sí Existen varios varias vinculaciones con las municipalidades no, no sé si con todas Pero yo escuchar otra efectivamente existen, estás vinculaciones a nivel de mesa de trabajo, pero también cree vinieron dar de chile, a nivel local, la tiene Por eso hay información importante que no solamente. abrir incorporándose a través de los procesos investigativos que tienen un canal distinto a través de Ministerio Público los canales legales que llevan dentro una investigación sino a través de esta mesa donde se podrían incorporar y como muy bien se dice protocolos de prevención que digan relación con anticiparnos al delito o algunas medidas preventivas que pueden ser tomadas en conjunto y creo que serían de muy buena forma llevarla principalmente en áreas Rurales dónde podríamos tener una mayor facilidad incorporarla y de materializar la un conjunto Pero creo que es importante el aporte la municipal día porque En definitiva la municipalidad muchas veces es parte de la voz también de la misma comunidad que tiene como a esa otoridad cercana a nosotros también lo vimos de cerca Porque también creen ya no se comunica y relaciona con Unidad en el día a día y lo hablo desde la perspectiva de la dirección y yo lírico que la investigo en la dirección control droga investigación criminal. Nosotros tenemos mucho contacto con las Mikis Qué son está de modelo de interacción cráneo comunidad donde manejamos mucha información, Qué es de interés, que la canalizamos en distinta área entre ellas con los procesos que pues se canalizan a través de ministerio público en ordenar investigar, pero si nos parece a existe este está vinculación comunes y pálida, pero nos parece sumamente importante, creo que porque no va a traer esta mesa pueden incorporar ciertos protocolos que puedan se pueden llevar adelante atendiendo las distintas características de mito en las distintas localidades del país. Muchas gracias general Muchas gracias Don Claudio por acompañarnos en esta sesión de la comisión especial investigadora número 72 robo de cables de cobre en Chile de sémola diputados compañeros y por haberse cumplido la estación se levanta",
         "2025-08-21",
         "Comisión Investigadora robo cables de cobre / Jueves 21 agosto 2025",
         "https://www.youtube.com/watch?v=XB5paXDZPE0",
         "0.0",
         "3701.2"
        ],
        [
         "4",
         "5",
         "136",
         null,
         "407",
         "Iniciar secretario de la lectura los bendiga por los cuales retira, ya se presente la urgencia calificándola de suma para el despacho de pedidos de ley que están hoy en tabla Primero aquí está para mejorar la fiscalización aumentar las sanciones por evasión en el pago de tarifa de transporte público y el segundo que introducen beneficios tributarios a la clase media también se ha recibido un oficio que retira ya se presenta urgencia calificada de Simple para el proyecto que da cumplimiento al en su segundo del artículo décimo, transitorio de la ley 21621 a las enfermedades o condiciones existentes elimina las discriminaciones por edad y sexo los planes de salud. El plan común de salud de la institución de salud previsional se me olvide presidente para recordarle a la comisión este fue un proyecto que se despacho sin tramitar en su momento el de preexistencia completo de Pacho como cetificado sin tramitar porque sentimos que las normas que se fueron remitidas no tenían incidencia lamentación financiera sin embargo se ha presentado una indicación por parte del ejecutivo con posterioridad nuestro informe y además es adoptado una resolución que todavía no se oficializa pero que le va a imponer a las comisiones técnicas que también nos remitan artículos rechazados que tengan incidencia de lamentación financiera para evitar lo que nos pasó en esa oportunidad también Se recibió un informe de la comisión de relaciones exteriores recayó en el proyecto que aprueba el tratado constitutivo de la comunidad de policías de América surgieron Brasilia 9 de noviembre de 2023 y una solicitud audiencia de organización fondo Esperanza con motivo del proyecto de ley que introduces beneficios tributarios a la clase media con f. Los incentivos a la formalización de los pequeños emprendedores que contiene este proyecto de ley, ellos quisieran compartir lo que han aprendido en los 23 años que llevan apoyando estos pequeños emprendedores y aportar con su experiencia en una organización Desarrollo Social general implementar un servicio microfinanciero solidario enfocado al emprendimiento en sectores vulnerables apoyando y amante 140,00 emprendedores de arica a coyhaique y en cumplimiento ley de presupuestos del sector público se recibe un oficio al ministerio las culturas y formas de cumplimiento de la glosa 1617 del programa 05 de fomento al acceso al patrimonio y apoyo organizaciones patrimoniales Eso Eso significa Entonces el proyecto de Presidencia va a volver a la a la comisión solamente el de tenerte por una tontería ya algo sobre la cuenta. No algún varios, No tampoco ya partimos. Entonces con el objeto de la tabla que tiene que en su primer punto votar el proyecto de ley iniciado, moción que modifica la ley 18287 para mejorar la fiscalización aumentar las sanciones por evasión del pago de la tarifa, en el transporte público remunerado de pasajeros, Con urgencia calificada de suma. El boletín 17,002 46 y 115 refundido con el boletín 17000 441 guión 15 y están invitados el señor ministro de transporte y telecomunicaciones Don Juan Carlos Muñoz bienvenido ministro Gonzalo Muñoz abogabir junto con la coordinadora de la gerencia de proyectos desarrollo Innovación del directorio del transporte público Metropolitano la señora Macarena roba.en, venía y el asesor legislativo al señor Felipe González ahumada Y también está el jefe del sur departamento estudio de la dirección de presupuestos en Pablo jorquera, armijo está Abi no muy bien, entonces habíamos quedado con la votación. Sí, habíamos quedado con la votación pendiente el día de ayer, porque había que aclarar un par de puntos que se hicieron aquí o uno específicamente el otro era la votación separada de la indicación que hizo un parlamentario relacionado con los ingresos de ese de ese nuevo cobro aumentado Claro claro, que decía o lo que plantea el diputado Santana ayer que esa plata no podía ir al operador porque era plata en el fondo del estado y todo eso, que que no te lo conversado ministro Así que esperamos, no de esa aplicación y votamos. Muchacha presidente efectivamente Este es un proyecto que ilumina dijiste a conectar Este es un proyecto que reúne parte importante un proyecto de ley presentado por el diputado Bianchi mucho te mantengo acá en el proyecto que son parte de ese esfuerzo y también fue parte del compromiso que tomó el Ministerio el gobierno en la discusión estaría el año pasado de presentar un proyecto de ley que permitirá aumentar las facultades para poder reducir la evasión tarifario en el transporte público un problema que se concentra principalmente Santiago y dentro de los elementos que tienen que ver con la tema social Hacienda hay dos artículos que son signos son los que son parte de la votación el primero es el 88 sexys que habla de el valor de la tarifa recargada que regula dos elementos primero es el monto de la tarifa recargada y el límite de las veces que se puede una persona está sujeto a esta tarifa. Descargar gratis Matrix recargada ese monto que le damos a exigir una persona que sorprendida Ahí va diendo y dame la oportunidad de poder pagar in situ verdad en el bus, por ejemplo esta tarifa recarga y esa manera evitar tener que pasar por el sistema llave de multa y pasar el tormentón registro infractores entonces tú primero al perdurar la tarifa este monto te cuento lo que principal producto de ley, el monto es tarifa de esa tarifa recargada será fijado por la resolución dictada en el misterio transporte telecomunicaciones y también del Misterio Hacienda una playa consulta del panel de expertos de la ley de subsidios este debe seguir tres criterios el primero en la efectividad de la fiscalización el número de explicaciones que se realizan y el índice de evasión qué o medido en el sistema previamente importante también proyecto de ley estipula que no este monto no puede ser menor a 20 veces está tarifa original Silvestre se podría ser superior por supuesto el monto va al sistema integrado. Tienen que ir con la pregunta que se hizo el día de ayer, el que administró recursos transporte público en aquellos lugares, que lo hubiera sea, por ejemplo, el caso de Santiago el futuro caso de Valparaíso los montos no van a los operadores y no llevan al sistema que administró recursos completo del sistema estante las gestiones que estamos haciendo como ministerio ir incorporando tu sistema regulado a la mayor cantidad de regiones. Aún no tenemos este tipo de organismo, en toda la totalidad, las regiones y Brian este caso se incorpora la Facultad de estirar el monto los ingresos de los operadores como la norma de clausura, qué más tenemos que importante porque incentiva quiero propio operadores también fiscalizan el pago de la evasión. El pago la tripa, Perdón algo que ya pueden hacer Segunda ley vigente y respeto el límite de veces que una persona puede caer en el registro de evasores, la misma resolución para indicar el número de veces dentro de un determinado pedido y podrá pagarse la tarifa recargada Perdón es el registro tarifa recarga distintos registros la cabeza y que no pudiera acceder a pagar esta tarifa distinta la tarifa transporte público. Te subieras el número esa persona no va a tener derecho a pagarla y se procede directo la multa esto con el fin de que alguna persona no se acostumbre a Simplemente no paga la tarifa y siempre paga la tarifa recargada es el propósito de esta indicación como hay un límite a la posibilidad de pago también de haber un registro que lleve el Ministerio transporte y telecomunicaciones y se registren voluble gasto fiscal y porque estamos acá son 40000000 de pesos primer año 20000000 para mantenerlo anualmente el registro no puede ser público ya que no es una sanción, si no hay un registro interno que lleva el Ministerio para verificar sea tarifa es aplicable o no, amas, queremos que generaría problemas con la ley de protección de datos personales y problema de constitucionalidad de hacerlo público y ama no parece que es un disenso en Tigo a pagar esa tarifa recargada Ya que ni siquiera registro pasajeros infractores público, entonces la persona podría decir más me conviene, no van a estar y papá no quiere expuesto entonces queremos tiene sentido. Yo pedimos rechazar la indicación presenta el día de ayer y lo que pretendía era que esté en el registro, pues ya también de acceso público y el segundo dimensión que nos trae acá. Es el registro pasajeros infractores, Qué es otro elemento que requiere gasto fiscal en la intervención necesaria para materializar las nuevas consecuencias del registro pasajeros infractores a este registro infractores que distintos gran terior llegan todas las personas que han sido sancionadas por no pagar la multa sociedad elevación las consecuencias actuales de la ley son que hoy día se acelere negan documento relacionado con por ejemplo sacar un permiso de circulación hora licencia de conducir lo mismo tiempo se retienen los la devolución de impuestos por parte de tesorería. Eso pasa Hoy que estamos agregando tres restricciones adicionales que tienen que ver con la imposibilidad ingresar espectáculo de fútbol profesional de negar el registro un pasaporte y denegar también el permiso de residencia supuesto para poder agilizar Y por cierto que sea factible vibración alisarlo se requiere la interacción de los sistemas con la demás inclusiones pública y eso hemos tomado que tiene un costo de 80 millón el primer año y luego 20000000 para mantenerlo Esas son las 2. Los 12 artículos que teníamos botando agradezco y tú dispuesto para aclarar cualquier duda. Anuncio el anuncio lo tiene que pagar el micrófono presidente presidente en virtud de lo que dicho el ministro teníamos vamos a retirar la indicación de hacer público este tema, así que la retiramos en conjunto con el Gustavo sabor muy bien Entonces estaría más simple la votación está Solamente el artículo permanente y el artículo transitorio de la palabra Y entonces votamos le parecen una sola votación o no, Si aparece Y si les parece no sé diputado Yankee por favor. Estado de noso diputado mellado diputada rojas diputado Romero diputado towerbank diputado presidente diputados y fuentes diputado favor, unánime presente muy bien entonces Muchas gracias por asistir Y así vamos a pasar al segundo punto Muchas gracias y el segundo punto tiene que ver con recibir. antecedente por parte del ejecutivo respecto al proyecto de ley que introduces beneficio tributario la clase media compensado mediante la tributación que indica reduce extensión y modifica otras disposiciones Con urgencia calificada de suma del boletín 17125 205, Dónde está invitado señor ministro Hacienda Mario Marcel cullell, bienvenido ministro de la subsecretaría 100 de la señora Heidi berner Herrera bienvenido Su secretaria y el coordinador de política tributaria el señor Diego riquelme Ruiz bienvenido Don Diego y habíamos acordado ayer ministro con la comisión de escucharlo en relación al informe de cuentas nacionales que dio a conocer ahora último ese poco tiempo el Banco Central Así que partiremos con eso y ahí después con el printer me has visitado que siente el diputado Romero si es posible agregar su voto no sé si el diputado Sepúlveda también quisiera Le parece si un día tiene la palabra Entonces yo ministro bien, muchas gracias, presidente y muy buenas tardes a las diputadas y diputados integrantes de esta comisión tal como lo indicado el presidente vamos a batir haciendo una breve revisión de lo que se publicó O qué es lo que se puede ver de las cuentas nacionales que publicó el Banco Central el día lunes, ahí hay una representación donde lo vi, pero que hay que recordar que las cuentas nacionales que labora El Banco Central es la medición oficial de la actividad económica en Chile como costumbre a mirarlo imacec es ustedes se fijan cuando el Banco Central presenta el enlace, que siempre dice que es una es una es una estimación transitoria. Previa a las cuentas nacionales como las cuentas nacional se publican trimestralmente.se tonto c1, detiene y más sé que desde los 3 meses entre medio, pero es la solamente nacionales, la canción trimestral, lo que tiene todo el peso de la información oficial y lo que permite amas comparar con otros países de las cuentas nacionales de setos de se calculan con una metodología bien estándar que hace muchos años que viene desarrollando y actualizando las Naciones Unidas además la cuenta nacionales tiene una desagregación de actividad por sectores y una desagregación por el lado de la demanda que uno no tiene cuando veloci más cerca entonces también tienen información muy valiosa en ese sentido cuando las cuentas se publican es habitual que haya en O solamente hay alguna diferencia respecto de lo que se podía marco los con los que más sensuales. Sino que también a veces se corrige los trimestres previos en este caso hay una diferencia respecto de la combinación de los imacec de abril mayo junio y también hubo una corrección de la estimación para el primer trimestre y luego al final de año ya una vez que se cierra el año hay una actualización más comprensivo a veces se revisa los años anteriores, pero eso ya es algo que ocurre más bien por ahí por abril de cada año. Bueno las cuentas nacionales del segundo trimestre que lo que se publicó ahora Mostrar un crecimiento económico que desde distintas perspectivas se va aproximando al 3% vemos ahí en el caso del pib, total es cierto que pasamos de un crecimiento de 2,5 a 3 coma 1% entre el primer trimestre segundo trimestre siempre comparación en 12 meses y si la comparación le hacemos a nivel Tepic no minero los dos quedan 3% de antropometría. Cómo el segundo trimestre hicimos también otra cosa que uno puede hacer cuando tiene las cuentas trimestrales es que puede calcular un año móvil es decir en este caso. Si tenemos el segundo trimestre podemos calcular el pib de los cuatro trimestres que terminan en junio y compararlo con los cuatro trimestres anteriores a eso y ahí lo que se puede ver para el pib total. Es que se pasa de un 2,4 a un 2,9 porciento de crecimiento en el pib nominal o también hay una diferencia similar entonces no es solamente el dato de un mes o de un trimestre o algo que tuvo que ver con la actividad de un sector determinado, sino que es un fenómeno más estable imágenes imágenes Lizabeth eso lo podemos ver en esta gráfica donde separamos entre el crecimiento subyacente o excluida la nacionalidad y el factor estacional y ahí lo que podemos hacer es que ella te amo desde el primer trimestre el 2024 hemos estado viendo el número consistentemente positivos en el último trimestre hemos tenido 3,22 coma 63 coma 5% del componente desestacionalizado de actividad, pero claro, esto factores estacionales que sumar no restar en ese período pero ese tono esto que marca más la como la tendencia de la economía Cómo ver esta composición ahora con estas cifras, el dinamismo la economía chilena ya se va ubicando por varios meses por encima del cálculo tendencial de 1,8 porciento del Banco Central y del promedio que hemos tenido en años anteriores a ir la Gráfica excepto la línea azul colorido es el crecimiento del pib del año del año móvil siempre La manera que señala más se hace un momento y las líneas horizontales corresponden a la el crecimiento de la década hasta previa a junio del 2024 el período la pre pandemia desde julio del 2002 hasta septiembre del 2019 o esencial de 1,8 * 112 vemos que ya desde desde la medición de las misiones de mediano del 2024 ya se empezó a superarse tendencia de 1,8 porciento y ahora más recientemente también hemos superado las otras dos otros dos promedio de años anteriores ahora desde el punto de vista de la composición lo que podemos ver Es que si miramos por el lado de origen del producto los sectores que más crecieron en el primer trimestre pesca agricultura minería industria manufacturera y comer. Y los únicos que descendieron facticidad hay agua y Administración pública todos los demás tuvieron es cifras positivas o del lado del origen del lado de la demanda lo que tenemos es un aumento del consumo privado de crecimiento de 2% en el primer trimestre a 3,1, el segundo trimestre y lo que es más destacable es que tanto la inversión como las exportaciones están en este segundo trimestre que siento más que el producto es 5 coma 6% para la inversión 5 coma 4% para las exportaciones de bienes y servicios. Esto voy a llamar atención la comparación en el caso de las puertas iones con el primer trimestre, pero tenemos que recordar que primero tienes que tuvimos un Boom es portador agropecuarios estuvo este Boom de la cereza, que mucho lo comentaron como algo transitorio puntual. Entonces esto porque es relevante esta relación entre portaciones inversión y pin, porque los años que le que le fue bien a Chile los años que creció de manera sustantiva y sistemática justamente en esos años también las exportaciones y la inversión creció más que el producto entonces en el caso de la de la inversión en particular además cetona inversión la que va generando capacidad productiva hacia delante y por lo tanto ampliando el espacio para poder seguir creciendo a futuro pero también creo que es importante el consumo privado O sea ya acelerado hoy en el margen con un punto más de crecimiento Porque habíamos tenido varios trimestre que había estado bastante bajo el o lámina siguiente mover el caso específico de la de la formación bruta de capital fijo como evolucionado los componentes particularmente la construcción y la inversión en maquinaria y equipos. Aquí lo que se puede ver, es que excepto la caída que tuvimos de inversión en el 2000 23 y 24 estuvo básicamente marcada por la caída de la inversión en maquinaria y equipo que esa caída importante que se ve la línea azul de arriba, pero a estas alturas ya desde el primer trimestre del 2024 en la inversión en maquinaria y equipo empezó a recuperarse a crecer lluvia, ya supera el punto más alto anterior y en el caso de la construcción sí, bien, no tuvo la caída que tuvo maquinaria y equipo si había estado bastante lento con cifras negativas en el margen, pero mucho que han calificado y nosotros compartimos el juicio de queremos Héctor que ha estado estancado durante mucho tiempo, Fíjate que la esa línea casi horizontal parte A mediados. El 2021 desde entonces la construcción ha estado muy plana, pero lo que vemos ahora es una cifra más de positiva y un 2% crecimiento de la inversión en construcción que no permite que ya tengamos un año móvil, que ya es positivo para el crecimiento de la actividad de la construcción y probablemente con alguna de las iniciativas que estamos introduciendo Bueno ya estaba operando plenamente el subsidio a la tasa hipotecaria le puedo comentar que en todo momento ya ahí cerca de 8000 operaciones que ya se han cursado 8000 subsidio en más o menos un mes de funcionamiento de del beneficio y Eso debería ayudar, no sé hasta que los próximos meses se vaya también reactivando la construcción habitacional que de la construcción problema entre lo que está más rezagado recordemos qué actividad, o sea, construcción dentro de cuentas nacionales También incluye obras civiles, por ejemplo en mi caso de lámina. Iónicas o de energía y por otro lado como Ustedes sabrán excepto se acaba de ingresar el proyecto de incentivo al desarrollo de la industria y dos de hidrógeno verde a donde el diputado bien que ha sido muy proactivo, ha sido muy activo en apoyar una iniciativa de ese tipo con incentivo específico al desarrollo de tucumán Industria nueva bueno con todo esto entonces la proyecciones de mercado para este año 2025 de de otras instituciones que estaba más baja que la que teníamos nosotros se han ido juntando al alza, ahí tenemos por ejemplo bloomberg que hace Es cierto que tomas todo estás encuesta entre analista. Haya pasado de 2 a 2,5 L Encuéntrame conomicas del Banco Central de 2a 2,3 la ocd 3 23, 24 y el Banco Central bueno. Movió su Rango y lo acorto Y probablemente hoy día. Estamos más cerca de la parte superior del Rango que la parte inferior de ese Rango Entonces qué es lo que podemos esperar para el resto del año para la segunda mitad del año primero para el pino minero es casi el 90% de la economía debíamos tener el tercer trimestre un crecimiento para levanté similar al que acabamos de tener el segundo recordemos Por ejemplo, que el año pasado la el tema de los días trabajados no jugó en contra porque teníamos una fiesta patria, calle con una serie de puente entre medio y así como una semana entera de diversos dejo nacionales en el cuarto trimestre vamos a tener una tasa de variación 12 meses que va a ser algo menor porque la base de comparación va a ser más alta, porque el cuarto trimestre del año pasado fue muy bueno en el caso del pib. minero, deberíamos tener alguna desaceleración producto del accidente del Teniente sector de la principal mina subterránea, el país las menores leyes de minerales en varias de las en alguna de las estaciones y en menor medida una normalización de la demanda de cobre de Estados Unidos la inversión va a seguir siendo un factor dinamizador porque como lo hemos explicaba que a portunidad el catastro de proyectos de inversión para ejecutarse este año ha crecido mucho se prolonga para los años siguientes y por tanto es muy papá de que la inversión siga siendo sólida en lo que resta del año es y qué asiento dinámica y esperamos pero algunos sectores resacado como la construcción también con un mejor desempeño Y esa mayor consistencia entre crecimiento reducción de rezagos de algunos sectores, Qué son intención mano dura como el caso reconstrucción también debería dinamizar el empleo hasta Así que con eso presidente cierto le nota previsión de crecimiento para este año que por el momento de 2 coma 5% se ve ella cada vez más alcanzable yo no descartaría que incluso nos pasáramos un poquito una decimos algo por el estilo problemente del lado de la demanda del gasto tengamos de sigamos teniendo buena cifras en en inversión y en estaciones y también teniendo un poco más de dinamismo del lado del consumo de presidente yo quisiera solo quisiera terminar recordando que cuando se publicó el imacec de junio hubo unos diputados de esta Qué son integrantes de esta comisión hablaron de que esto era que los comentarios que ya había hecho entre realismo mágico. Bueno ahora tenemos las cuentas nacionales estos vamos contrastarla y espero presidente que aquellos diputado que se sonríen Así que se deleitan directamente revisen este juicio porque yo creo que es algo que es bueno para el país es algo que que se bueno cierto para la preocupación que hemos tenido durante tanto tiempo sobre crecimiento y es bueno para el próximo gobierno cualquiera que esté sea eso sería presidente respecto de este punto particular muy bien No sé si algún comentario a sí diputado Gastón No yo no sé que realiza mentalmente ya que estamos hablando este tema tanto porque porque suena como dijo intermedio presidente en México y a veces saludar a sufrir Ay Damián ya dime Me gustaría saber qué pasa manito con el tema de crecimiento del país Cómo va así como que ya nos dieron pinceladas al respecto al tema de subsidio que hay una regulación relativamente no sé cuánto te venías temprano, estaba en el medio solo si lo hicieron uno de los subsidios que aprobamos acá porque al fondo muestra que está pasando se debe quitar algo que está esperando güey, no teníamos detenido y no lo hice me aprovecho eso contarle que pasa.si tomo de crecimiento o decrecimiento que están ingresando a entender de largo tiempo de entradas en WhatsApp índice que muestra un poco quiero que está pasando independientemente sabemos todo el problema que hay a nivel internacional 12 hay cosas que no puedo manejar Entonces está hablando de cuentas nacionales de esas vamos a tener algo de su autoría del tema para no entrar en el realismo mágico la hoja de la oficial que está pasando con eso y también Ojalá que pueda seguir aumentando toda este tema de la de los pidió porque realmente un sector y día voy a levantar bastante mano ahora y que está desinflada la verdad Y esa fundamentalmente Gustavo Sepúlveda Gracias presidente Oye ayer no te vi la informe del Líbano utilidades de la bolsa de Krilin Teoría sobre el Cómo le hace rato también mejor pasó algo mucho más sencillo no tiene que ver mucho con el pleito pero si tiene que ir con la clase media veniste, lo conversamos un tiempo atrás con contigo también el tema de los Súper el decreto supremo 40 y 1000 arano caso Pet hago esperando una respuesta supimos de quién la misma situación objetivamente la misma situación son las mismas condiciones lo mismo reparticiones abusivas y y z se logró con lo pediría ningún problema que pueda avanzar este orificio para los decreto supremo 40 valoro ayer salió ya con toda razón de contraloría el dedo después de 2 año que tramitamos en la conversación de la discusión de la ley de presupuesto del 2024 aquí lo que le gastan todos los que están de tantos. Derivó dando esa pelea más allá de los beneficios que te bancoestado Bienvenido El decreto. Ahí hay una ayuda adicional a personas que tienes entonces no ni que tienen alta vulnerabilidad, pero no creo que lo decreto supremo 40 tienen la misma condición ante Se pasaron algunas cosas, se metieron otro crédito, No sé atrasaron discutas, le metieron 15 años, o sea, ya pagaron la casa y tienen que seguir pagando por 15 año más, creo yo solo corresponde. Creo que bailamos lo digo yo los quiero hacerlo por cierto, que pueda coger Así que yo le pedía ministro nombres con la gente bancoestado imnotizan tal como los peces, nosotros recibe una señal pública, ya sea a través de un decreto ley de presupuesto que yo creo que no es necesario, sino más bien ocupar el mecanismo que utilizó bancoestado de una negociación directa una reparación larga como director lo hizo con Lupe no sé si usted se acuerda que lo tanto el presente No necesita una ley de presupuesto. Casa y ella tiene uno nuevo grido de 15 20 años inclusive Yo sé que no es un tema complejo pero recibimos la voluntad de usted como ministro para llevar costado avancen una Explorer una solución y cómo sería eso administra agradecerle también por cierto que corresponde a nombre del acento y miles de familias que van a ir a este beneficio que lo harán en próximos días agradecer a usted como ministra haciendo No es fácil tomar una decisión no tomo el tema sé que caminamos por momentos complejo Que decretó, no caminar que después contraloría en fin Pero créame Yo sé que no lo ha dicho yo cuando usted quiera vaya al Mauri lo invitamos a reunirse con las familias que han tenido este beneficio, la verdad que se demostrará todo su marítima fibra de ellos En el puesto que han hecho con familias antes que la casa finalmente de yo creo que ahí hay una acción. Apoyado la tremendo impacto y bienvenido ácidos propongo de tandil cambiar a la a la familia que están aquí al decreto supremo 40, porque yo no lo llamo hacerla entender te Porque si unos sí y otros no. Y es la misma situación, pero atrás suyo agradecer al gobierno la voluntad creo que ha sido una muy buena noticia para asiento y bailes de familia tanto del maule, como algunas regiones del país Muchas gracias, preciosa, muy bien, diputado Frank sauerbaum, idea y la diputada yo más, Gracias presidente. Bueno, es viene viento también, quién está cifra y el evento y que son positivos nosotros nos alegramos por el país y también hay elemento económico y político. Nosotros solo queremos que el mercado ha ido internalizando el fin del gobierno y la llegada Un gobierno más Pro mercado, que que va a poner más del foco en el crecimiento, la inversión, Sí seguramente está. Está cifra se van a seguir manteniendo. Hasta que terminó el gobierno en partir a partir del mes demás nos alegramos por eso también, mi nieto preguntarle un tema respecto de la tasa política monetaria del Banco Central oeste y vamos a tener que redefinido reajustar la baja de tasa, que ya se venían dando del Banco Central para justamente no volver a los niveles de inflación o o amenazar cierto la baja la tasa de inflación que hemos tenido durante estos últimos meses y la y la otra pregunta ministro ese respecto de esta cifra o te agregue aquí el mercado también ha ido surgiendo la incertidumbre Respecto a los aranceles que se habían anunciado hoy que finalmente no fueron tales. Sí, Ese es el clima en septiembre Usted cree que salió apaciguando ya definitivamente o todavía que algo Gracias preciosa. Gracias presidente Bueno yo creo que a propósito de las cifras que nos da el ministro es importante que nosotros también reconozcamos cuando las cosas están bien cierto y en ese sentido no sé yo no quiero entrar a comentar la palabra del diputado Francisco Pero creo que es importante también tener una reflexión positiva cuando las cosas están haciendo bien recién te creo que es de justicia y de honestidad en este caso las cosas se están haciendo bien y eso se está demostrando yo a propósito también de las mentiras y algunas cosas que se ven en redes sociales e visto que hay harto video comentando sobre la deuda que se tiene incluso de ser como el tema del endeudamiento General que supuestamente el 75% del pib conseguir Y aprovechar presidente por su intermedio de poder preguntarle el ministro porque claro, yo lo que veo de eso es que se mezclan todos los endeudamientos se me gustaría saber ministros y nos puede dar a conocer y también con esto decirle también a la ciudadanía, cuánto de esa composición propiamente del mundo privado Cuánto es del Gobierno Cuánto es cierto la composición los plazos que tienen de vencimiento porque a veces esas mentiras que algunos empiezan a difundir terminan también en lo dando lo que acá nos estamos tratando y que creo que es importante a la mentira responderle gracia presidente Romero Gracias presidente ayer de la presentación lo que si lo hecho de menos en a respecto al tema de las metas de convergencia en el balance no entiendo que el gobierno ha tenido que corregir dos veces la jeta Pero cómo impacta este mayor crecimiento en nuestro balance estructural vamos a cumplir las metas o o seguimos gastando igual íbamos a tener que en el próximo gobierno tratar de cumplir los compromisos de responsabilidad fiscal, Sí sería bueno también que pudiera agarrar eso el ministro porque por lo menos no lo digo en la presentación, Qué bueno Me alegra en estos resultados porque también demuestran que hay algo que yo te dije cuando se presentó el informe finanza pública en el senado la llamada Dice que el segundo semestre y economista para nada y le jode eso pero adiós ahí a que me baile vente cuando se fuera consolidando la posibilidad que no sé que este gobierno que haga cambiar de color político estoy a mejorar y evidentemente esto Habiendo está mejorando está mejorando lo alimente los resultados del ips a que alguien lo comentaba recién porque están allá que se están comprando barata y cómo se sabe que el próximo gobierno favorecer la inversión, posiblemente van a pegar una buena pasada los inversionistas en esto sí que claro chile, tienes ese ese potencial ahí bueno de paso para construir, hay buena oportunidad más energética, pero claro actualmente eso está detenido y posiblemente con el gobierno que venga que cualquiera el que sea para seguir finitamente mejor que está entonces va a lograr que haya obviamente una una retribución o una rentabilidad respectos a inversiones Ahora cuando hemos planteado preocupaciones Respecto a los envases de la vida conomica es que hay también hay harto economista que dice que en el fondo por ejemplo las cifras positivas, el comercio mutante venden de un fin de semana largo porque en el argentino o un Black Friday Cyber monday, 2021 podemos depender de las liquidaciones Por así decirlo para que mejoren Los indicadores ya Y eso habla. Los equilibrios son bastante bastante débil Entonces nosotros veníamos de una economía que era se supone que era bastante más robusta estructuralmente, pero claro, hoy día de vendemos de eso sí lo sé, locura, hacer una un Cyber monday, listo con rebaja mejorar el comercio y esa parte complicada Entonces él, porque el final de uno está yendo el desempleo el desempleo sigue alto, no no, no, no, no, no digas todo lo que siento esto O sí, ahí sí, fue muy preocupante y lo único quisiera levantar si estás cifras inversión que son súper posibilitó sea obviamente cuando chile, le vaya le ha llegado los chilenos y uno tiene que estar contento, pero cuando hablo inversión está inversión, qué es lo que al final son papeles alguien que compra barato acciones o se está traduciendo en fierro se están traduciendo un proyecto eso me encantaría saberlo porque yo insisto yo cuando recuerdo mi hijito lo único que veo me presentan quieras un v y lo perdone que solo diga sí, puro Mall chino entonces. Dónde está esa gran inversión extranjera de alguien que compra compra barato acciones se hace de propietario de algo y después lo venda al año siguiente Entonces porque eso al final es firmar papeles y me notaría no más dice que no eres firmar papeles, pero no me digas en un camino te quitó ese entonces yo aquí yo quiero saber Realmente si está inversión se está traduciendo en empleo el ministro tiene alguna decisión respecto eso o finalmente, claro, una cifra Pero qué es plata que se cambia plata por plata y no mejora. Al final la Ya lo tiré, No sé lo que voy por el contrario en este momento la oportunidad de mucha inversionistas comprar barato en un gobierno que se haga y probablemente iba a sacar una muy buena rentabilidad porque el gobierno que sea el que sea de cualquier color político menos oficiales y yo hacerlo infinitamente mejor que muchas gracias, Sí gracias presidente saludar a su secretaria saludar al ministro quiero ir a acompañar a mi algunas intervenciones y la última de mi querido amigo Romero me obliga hacer una reflexión. primero efectivamente la economía es eso tiene el grado de fragilidad que depende de muchos factores de muchos aspectos, no solo de la autonomía nuestra nacional, sino que de una economía mundial del barrio etcétera, por lo tanto aquí todo suma todo sirve o todo puede efectivamente entrará afectar el resultado final de lo que se espera y se analiza Y tenemos un grado de fragilidad en los espero yo que sé que quiero hacer algo decir algo primero felicitar porque yo también tuve en algún momento juicios de crítica de algunas declaraciones del ministro aquí presente y creo que es carísimo para todos el poder también reconocer cuando uno hecho crítica, Qué bueno fueron distintas los resultados y a mí me alegra a mí no me afecta que yo haya podido estar o no con la razón Me alegra Cuándo es el país al que le va bien cuando es a la gente a la que le puede ir un poquito mejor cuando son Regiones que se desarrolla desde es aspecto a través suyo felicitar el como de manera tan serios, responsables ha llevado en la política económica nuestro país en este último tiempo con estos con estos con estos resultados A mí también me preocupa el comentario no lo tenía el dato del 75% del endeudamiento del pib, pero me preocupa que eso te circulando Y sería importante aclararlo me preocupa y por eso dije que tengo que recoger obligadamente lo que dijo mi colega el diputado Romero que le haya dicho de que no siento economista. Él sabía qué producto del cambio de gobierno que venía que no es este los inversionistas iban a empezar invertir o a traer la plata si lo sé qué significa esto Que estos inversionistas en nuestro país nacionales o no nacionales no invitaron en estos últimos años en chile, o sea, fueron capaces de afectar la economía de nuestro país se llevaron la plata para afuera dice cómo se puede así llevar a cabo una política económica cuando quieres efectivamente invierten Y colocan las inversiones Bueno le están haciendo producto de un determinado signo de un determinado gobierno también me retrotrae a la beca del 70 Entonces no me parece que eso sea la forma efectivamente que uno pueda plantearse el que la economía hora va a empezar a crecer debido a que este gobierno se acaba y el que viene de signo que sea efectivamente va a dar garantía para que se vuelva a traer los dineros desde fuera a poder invertir finalmente con esta reflexión, Yo creo que el que termina ganándose el país Me parece bien. En el el el el el Cómo se llevó incluso y terminó con esto video si tenemos esto estos resultados finales porque también chile fundamentalmente a sus autoridades de cada orden económico anterior la prudencia de observar todo lo que ha ocurrido en materia de economía internacional, o sea, hacer proyecciones calcular en el escenario mundial que teníamos que era más grave que la actual siento este este también de cuidado y hacer proyecciones y tener estos cálculos, estás estimaciones da disciplinario mundial complejo y que esté resultando bien significa que chile, ha hecho las cosas, no mal que las hecho relativamente bien y hoy día estamos exhibiendo Este tipo de resultado muy bien, ministro tiene la palabra para responder las preguntas, Sí muchas gracias mi presidente. Muchas gracias los diputados diputados que han intervenido primero entiendo que la pregunta 2 familia Pero qué se refiere al subsidio de la tasa hipotecaria seguí lo primero hay que cortarse que esa esa ley incluye un subsidio de 60 puntos base a la tasa y además incluye una garantía al crédito y en virtud de esa garantía en los bancos podrían eventualmente rebajar más la tasa que aplicaría para efectos de asignar los subsidios se hizo una licitación en función de la tasa, qué proponían los bancos y los bancos que propusieron rebaja de 100 puntos base un poquito más un punto porcentual completo en esta primera licitación se asignaron 10,00 50.000 subsidios que solo que están previstos para el año y medio durante el cual va a estar vigente este este. Beneficio pero los bancos qué banco van todo lo que lo que se les asignó pueden seguir demandando subsidio en la medida que apliquen la misma tasa de interés Entonces es lo que está pasando en este momento es que tenemos alrededor de 6200 beneficiarios ya asignado con con el subsidio Pero hay bancos que agotaron ya el cupo que obtuvieron y ya están asignado por ventanilla. Eso pasa con el con el banco estado banco itaú suficientemente fuerte como para seguir entregando créditos con la misma tasa que ellos crecieron en la licitación habido bastante acogida entre beneficiarios de subsidio habitacional porque recordamos que se había reservado no cupo excepto creo que eran me persiguen 6000 cupos para beneficiarios de subsidio habitacional Así que sea combinado bastante manera bastante positiva estas dos cosas y así como vamos vamos lo más probable es que se agoten los 50,000 antes del plazo que se fijó la ley y con eso Por supuesto habrá varias constructoras que podrán iniciar nuevas obras sin que lo que se estaba también buscando por esta vía en cuanto el escenario externo Por supuesto que todavía hay mucho elementos de incertidumbre y es difícil es cierto usar el término de que la cosa ya quedaron así en el caso Estados Unidos porque todos los días tenemos excepto novedades y lo que estaba pasando con el caso nuestro es que en este momento estamos entre los 10 países con menos arancel promedio con Estados Unidos porque estamos combinando el 10% de sobretasa base cómo le llamaron Estados Unidos Con el cero del Cobre luego de la resolución del tema de la investigación oficial de cobre II 0 para la madera y para minerales se crítico pero ahí todavía investigaciones en marcha, pero por el momento también están en 0 Y en nuestra negociaciones con Estados Unidos todavía hay espacio queremos que todavía y espacio para bajar del día y ya sea de manera pareja o para algunos productos Estados Unidos con alguno lo acuerdo que estaba haciendo la focalizado más en productos que lo sabes todo de ese de algún arancel base de reciprocidad, cómo le han llamado allá entonces de competitividad para entrar mercado son relativamente buena pero todavía puedo mejorar pero bueno, como están pasando las cosas en Estados Unidos hoy día todo pasa por el presidente entonces lo que se ha estado negociando allá tiene que ir ese toda la casa blanca y ahí. Emocionalmente qué es lo que el diputado Sepúlveda mencionó? Te pasó Elisa Elisa ha tenido Durante este año un crecimiento de cerca de 30% en términos reales que se levante los más altos en el mundo ciertamente Más alto que en Estados Unidos donde puede bajarse había una recuperación Pero en dónde En el año se acumula con un 10% crecimiento Solo triplicamos esa cifra y SD en buena medida es el voto de los mercados por lo por la economía y este voto a diferencia del voto de los ciudadanos que ser a fin de año este puesto se viene mi tiempo. Ya hace un buen rato Así que yo solo vemos también en varias cosas que se reflejan estos números que no son no es un salto que hayamos tenido repente, sino que más bien es un proceso común. El tiempo en el diputado seguro se fue, pero el tema que plantea el DS 40 se lo planteamos bancoestado. Yo lo están estudiando a ver si se puede aplicar Algo similar a lo que se aplicó a los deudores de programa Pet luego respecto de la inflación y la tasa política monetaria Bueno cuánto salió el dato de inflación de Julio yo comenté que la sorpresa al alza era casi dentika a la sorpresa la baja que habíamos tenido junio en términos de trayectoria inflación acumulada vamos más o menos más o menos igual es lo que estaba previsto pero tenemos que tener claro que como el ipc ha estado muy influenciado por los aumentos de tarifas en lo que va a pasar es que lo que va pasando Es que me diga que los primeros mento de tarifa se van incorporando en la base de comparación la lavara. Canción del ipc va bajando Entonces vamos a tener una Baja como de medio punto porcentual en octubre porque en octubre el año pasado uno se deriva Y obtener más o menos otro medio punto porcentual en enero del 2026 y con eso vamos a estar en enero febrero marzo a más tardar basta con la información entre porciento con eso, Por supuesto que la El Banco Central puede continuar con el proceso de normalización de la tasa política monetaria todavía le quedan 150 puntos base para llegar a lo que el Banco Central define como tasa neutral Yo solía ocurrir entre ahora y comienzo del 2026 respecto de la de esta cifra de deuda resuelve producto se refiere a la deuda externa de todos los agentes económicos entonces incluye hogar e incluye. empresas incluye bancos incluye el estado estás cifras Tenemos que tener claro que cuando comparamos deuda con Pipe estamos comprando un estop con un flujo sobre la deuda un acto el pib es un flujo y te lo cuento la economía son más o menos cerrar bueno dar una idea de cómo de no sé cómo llamarle estrés financiero pero en el caso nuestro siendo una economía abierta tenemos dos tipos de situaciones que distorsionan un poco estos números primero que hay empresas extranjeras que operan en Chile por ejemplo grandes compañías, mineras y finanzas u operaciones con préstamos desde su casa matriz a las filiales en chile y la otra situación que tenemos que haya empresas chilenas que invierten en otros países de hoy que invierten el exterior pero financian esa inversiones a través de su casa matriz en Chile porque se financian con Rigo país de Chile para que más bajos esto que el de los países los Están invirtiendo entonces o algo que siempre me enteré hace ya bastantes años distorsión un poco este tipo de indicadores Pero esto no obviamente no cambia nada el indicador de la deuda del fisco que Cómo sabemos esto el total de la deuda incluyendo externa interna es del orden del 42% del producto y que comamos señalado y el quebracho tomar el punto de convergencia fiscal que comentar al diputado Romero vamos a tener este año el menor crecimiento de la deuda desde el 2008 ahora en ese sentido respecto a la convergencia fiscal, Por supuesto que en la medida que la economía esté más dinámica, eso también ayuda las cuentas Fiscales Pero lo que más ayuda es la demanda interna porque la recaudación en Chile por el peso que tiene el IVA depende más de la demanda interna y del consumo más que del Pintos el hecho de que esté Dinámico dinámica de inversión. Más Dinámico el consumo Todo eso ayuda a que mejore un poco la recaudación y hay que decir que para Julio donde yo estaba empezando a recibir datos. Estamos viendo un crecimiento del ingreso tributarios de un ritmo de dos dígitos para el mes de julio respecto de cuestiones transitoria, que afectan algunos sectores comercio, la verdad es que se dijo que en el verano era por los argentinos que venir a Chile qué sé yo, pero la verdad es que la actividad comercial bastante estable ha crecido mucho consumo durable hay que decirlo con su mujer hable tienda están asociados los locales que los extranjeros de hecho consumo durable crees Yo creo que me parece que más de 10% en el las cuentas del segundo trimestre y respecto de la naturaleza de la Lo preguntaba el diputado Romero me parece, no está cifra que yo doy nos han de inversión en papeles o se las paso la cuentas nacionales que me den inversión en maquinaria equipos y en construcción de la actividad 1, el financiamiento cierto o algún flujo greater financiero Así que esto no es papeles cemento que va a ver el por el ponerlo de una manera O sea no tiene nada que ver con la inversión como la entiende la vez el ciudadano común y corriente que voy a invertir en un depósito a plazo. Esto es inversión en capital fijo, por eso se llama el indicador que del que estamos hablando es formación bruta de capital fijo y dentro de eso es lo que más está creciendo la inversión en maquinaria y equipo Así que fue algo bien, concreto y bien productivo bien, distinto de los papeles, eso sería presidencia. Bien, muchas gracias, ministro. Nos quedan 25 minutos para para terminar la sesión. Quería preguntarle si alcanza a presentar el proyecto, si no lo dejamos pendiente para la vuelta de la distrital, No si puedo ajustar el 25 ya tiene la palabra entonces dígame diputado. Presidente no es solo la exposición que veo que tiene capacidad de síntesis del ministro, sino que también las lluvias se pregunta de conversar sobre proyecto un pito relevante y tienen cambio importante y que nos gustaría tener la oportunidad de verlo bien, o sea, si lo vamos a ver en 25 minuto la canción No creo que no lo más sano, sino no, mi intención no es eso, sino que avanzar continuar a la vuelta la distrital porque aquí van a tener una idea también para que empiecen a pensar en Sí vamos a invitar a alguien que que algunos bien, si todo eso ideas que avanzar Así que no no no terminar lo que inhibe la pregunta si va empezar otra solamente para avanzar aprovechar el poquito tiempo que no sea sí, gracias presidente Mire mi presidente este este proyecto ha sido planteado. como un proyecto de beneficio para la clase media muchas veces escuchado que se dice la clase media hace todo el esfuerzo, pero no recibe beneficio porque siempre están focalizados es lo más pobre, pero esto está Nidia mente focalizados ta7 sector los cuales bien relevante porque la clase media Por supuesto que tiene un peso muy relevante en la población de acuerdo a las estimaciones de activaciones recientes de la clase media representa más o menos un 6861 de porciento de la población tres más de 13000000 de personas diga mente tres veces lo que era en el 2009 chile, es un país que donde la clase media por el propio dinamismo económico que ha tenido a lo largo de la última década, la clase media crecido mucho es el país con mayor crecimiento de la clase media en toda América Latina y por lo tanto cierto muy importante de qué está fea la mujer su relación con el estado con una relación justa la lámina siguiente vemos Que chile, la clase media como centaje la población total, esté en una medición distinta a la anterior Así que no esperen consistencia entre este número y el y el otro queso fuente diferente Pero el pezón a clase media en chile, se aproxima en está en este ranking al de México Estados Unidos está por arriba del de Colombia esto se hace con la encuesta casen y hay países más ricos que nosotros como los países nórdicos, por ejemplo, donde esa cifra llegan prácticamente al 70% en esa métrica, que estoy citando acá ahora nuestra clase media tiene o no tiene elementos heterogénea, importante y un tema que se que surge canción Por ejemplo, el tema de los gastos en arriendo de vivienda en esta lámina, vemos que la clase media destina el porcentaje de personas que arriendan su vivienda en el caso de clase, media alcanza, más o menos al 23 coma 5% con un 16% de otras características de la vivienda que habita qué es menor que la población bajo la línea de pobreza porcentaje es relevante Y eso tiene que ver con alguno de los beneficios que que se están planteando es laminada siguiente tenemos justamente ese beneficio, Qué es el de los arriendos que contempla deducir el gasto en arriendo de del pago de impuesto de manera similar a lo que ocurre actualmente con los intereses por créditos hipotecarios desde hace ya bastantes años, hay un beneficio. De acuerdo, al cual se puede descontar los intereses pagados botecario Al momento de determinar el pago de impuesto pero en el caso de quién arrienda eso no era posible aquí se propone Qué es ocurra Estableciendo un Vento pd. Beneficio que sea el mismo que el de los que te quería decir de 8 unidades tributarias anuales en millones de $600000 proximadamente equivalente a un arriendo mensual del orden de los $550000 al igual que otros gastos deducibles te beneficios decreciente según el nivel de rentas completo para personas con ingresos anuales de hasta 90 unidades tributarias disminuyendo de manera proporcional para hacer este beneficio la persona Presenta una declaración jurada identificando el inmueble rentado el monto del arriendo y estimamos que podría beneficiar 900,00 tribuye antes que verían así disminuir su carga tributaria. Durante la semana salió por ahí un artículo en que había unos contadores que cuestionaban, estás estimaciones piensan que se podía abultar. Estás Estás cifras de arriendo, pero tenemos que tener en cuenta que el tema de arriendo tiene otro lado desde el punto de vista tributario, Qué es el de los ingresos del que del arrendador, Ah entonces la medida de que ese toda esta información a su vez sirva de base para el pago de impuesto de Quiénes son arrendadores, probablemente deba disuadir el falseamiento de la cifra siguiendo cierto en términos de los beneficios del beneficio para el adultos mayores donde la cifra que tenemos es que hay poco más de 1000000 y medio de dultos mayores que son propietarios de un bien raíz habitacional de ellos. 24000 tiene inmuebles exento o sea, 65 casi 65% del total y de los que poseen inmuebles afectos a impuesto territorial más o menos la mitad ya tiene beneficio para el adulto mayor que recordemos, que es un beneficio que es de rebaja de 100% de las contribuciones para propietarios que están bajo la línea de corte de exención del impuesto a la renta y después hay un beneficio de rebaja de 50% para quién están inmediatamente por arriba está cifra, pero todo eso está asociado a un valor de la vivienda un avalúo de la vivienda. Entonces lo que se hace en este en este proyecto es que primero se previene el riesgo, Qué significa. Aquí con un reavalúo al pasar el avalúo de un inmueble el límite que está en la ley en la personal beneficio, lo pierde completamente el beneficio es una situación que hoy día se da mucho mucho que se le escuchaba, se me acerca o diputado o diputada con caso de esas características cuando la persona se encuentra en tramo exento de ingreso para el avalúo inmueble sea mayor al límite legal, el monto de la contribución para hacer el equivalente a 5% su ingreso Y se la persona se encuentra en el segundo tramo de ingresos impuesto a pagar sería el valor inferior entre 50% de la contribución terminada Según la ley y el 5% su ingreso en tu se conectó esperamos beneficiar a entre 80000 y 120000 adultos mayores que se sumarían Excepto a los 190,000. Ya tienen acceso al beneficio para el adulto mayor. Yo visto el caso de la señora que ha salido en los diarios y los matinales es todo. La señora escritora de que ya está apunto cumplí 100 años y que se te llegó hasta el tribunal constitucional te mandan todos está que se lee eximida del impuesto Bueno ese caso cae plenamente dentro de las modificaciones y que aquí están planteando decir con eso accedería al beneficio para los adultos mayores y aquí estamos recogiendo hay varios para la mente lección, han acercado presentado mociones. Musante bianki Soto Castro Sepúlveda yonet varias presentaciones de obra puestas de carácter transversal mociones que estamos tratando de recoger acá en esta lámina están los mismos números que comentábamos recién solo que en gráficos en la lámina siguiente se menciona el gasto el beneficio de por el gasto por educación que básicamente Implica que cuando hay un niño que está a cargo de 12 padres se considera solo en la renta de ese padre o esa madre para efectos de determinar de beneficio al contrario de la situación actual que obliga a sumar los ingresos de los de los padres para terminar se exceden o no al beneficio y luego el presidente están las medidas de perfeccionamiento del régimen para micro pequeñas y medianas empresas, entonces acá lo que sea lo que se ha trabajado es lo que hemos llamado ruta al emprendimiento todo lo que se ha trabajado con las organizaciones de mipyme desde ya casi un año y medio más una vez yo le había comentado acá en esta comisión y que podemos. Observar gráficamente la lámina que sigue el gráfico la lámina que sigue dónde es esto para empresas nuevas o recientemente constituidas que tienen ventas inferiores a 4400 veces se aplica durante 2 años este régimen de monotributo de acuerdo al cual se está pagando una unidad tributaria ese saltan todas las obligaciones de se cumplen todas las obligaciones tributarias más la cotización previsional de El propietario. Luego se torne representado por esta área Celeste tenemos un beneficio a través del IVA también para nuevos emprendimientos que ya pasaron por el monotributo, Sí todos sus primeros dos años tiene un beneficio de rebaja del IVA de 100% durante el primer año el 50% Durante los seis meses siguientes y 25% Los últimos seis meses lo que está en la parte del medio es lo que vivía existe decir dime con ventas hasta 75,000 F Hoy día, hay básicamente dos modalidades de pago impuesto uno es el régimen integrado, Dónde se paga un impuesto primera categoría sector la tasa que esté actualmente 12 como 5% y hay que llevar contabilidad y por otro lado está el régimen transparente y que establece que se paga impuesto que solo se paga impuesto impuesto el propietario a través de su global complementario actualmente el sistema está más cargado al al régimen integrado fundamentalmente porque hay una serie de condiciones para entrar al régimen transparente en particular ese toque. El propietario sea solamente una persona natural, además se establecen algunas exclusiones o incompatibilidades por ahí, pero no se puede recibir el beneficio tributario por reinversión de utilidades acá en este proyecto estamos removiendo esas limitaciones y con eso, Por lo tanto permitiendo que haya mucha más empresa que se cojan a la modalidad transparente y que por eso había ven reducida su carga tributaria Solo estimamos que más o menos el 90% de las pymes se reduciría su pago de impuesto al entrar al régimen transparente una vez removida, estás restricciones y finalmente sobre la sentí 5,0 s de ventas también se agrega una serie de posiciones que facilitan el crecimiento de las de las pymes por que actualmente se tocando una de pymes. pasar 85000 veces Cómo se empezará todo de cero porque entra al régimen general y se olvida todo lo que ocurrió antes entonces acaba lo que se hace Es que los créditos que se originan en la etapa pyme pueden seguirse buen usarse Al momento de terminar impuesto en el régimen general y eso permite una transición más gradual de un sistema a otro Eso se describe en palabras digamos en está en esta lámina aquí yo creo que es importante destacar que en el en el régimen de monotributo, no solamente se paga este impuesto fijo, sino que además es mucho más fácil de implementar porque lo contribuyente que entran en esta modalidad quedan liberados de llevar contabilidad durante esos primeros dos años juntos esto para una microempresa para excepto para una empresa unipersonal, por ejemplo esto ayuda mucho sector proceso de formalización porque todo en el fondo no es solamente para Nueva empresa que antes no existían sino que también para alguna que se puede estar formalizando y que yo lo mejor durante muchos años vividos en la informalidad en ese y luego en la lámina siguiente se describe el beneficio del IVA y ya lo que lo expliqué en observándola la lámina luego el régimen transparente está la lámina siguiente y el otro que está contemplado dentro de modificaciones del impuesto a la renta es completar la transición de la tasa general de impuesto a la renta en el caso de las pymes recordemos que hoy día Esa tasa es de 25% permanente en que está rebajada a 12,5 porciento este año el próximo y luego pasa 15% pero después de ahí debería subir inmediatamente a 20, perdón, a 25 Entonces acá lo que se hace es Establecer un régimen más gradual que además está ligado a la evolución de la economía o Cecilia krull, si la economía crece menos del 2% se puede postergar es el día más cada tramo de incremento de la tasa general y finalmente llegaría llegaría al 20% en el 2031 en el mejor de los casos en el caso más rápido, en renta presunta, seto se reduce el límite de ventas de contribuyentes que se pueden acoger renta presunta para no superar las 2400.uf de un tema que se ha discutido por mucho tiempo. Y lo último presidente respecto de los de los beneficios es el monotributo social. Esto hemos trabajado con vos y con sercotec, porque durante mucho tiempo está se está agencia pública promover una actividad empresarial, pero con empresa que no estabas formalizada y Entonces digamos un poco contradictorio ese toque una agencia del Estado este apoyando una empresa informal, entonces a través de este monotributo social, que contempla pagar mediante mensual se va a poder tomar en todo estos casos que hasta el momento terminaciones la informalidad ya comentamos lo del régimen general y con eso Entonces es toda la parte de Este proyecto ahora tu beneficio por supuesto tiene un costo Porque implican bajar la recaudación y como este su proyecto de rebaja de rebaja compensada impuestos tiene que tener cierto su correlato en términos de mayor recaudación en otra parte esa mayor recaudación está en primer lugar en el global complementario a los dos tramos más altos de helga complementario, dónde es? Esto se modifican en las tasas para renta anual entre 120 y 150 unidades tributarias a una tasa marginal del 35 al 38 porciento y para las demás de 150 unidades tributarias se pasa una tasa marginal del 40% Estás modificaciones lo que hacen es que restablecen el tramo existente con anterioridad al 2014 o se revierte lo que se hizo el 2014 con el global complementario. Recordemos que en aquel entonces cierto la lógica con la cual se rebajo el global complementario que se que se toda la reforma se planteó como una reforma redistributiva era que la carga tributaria sobre el capital y va a ser muy alta dado que la tasa de impuesto de primera categoría socio de 27% Ahora estás modificaciones implican inciden sobre algo de 77000 contribuyentes pero de los cuales ese todo el considerando de que esto comienza aplicarse desde ingresos mensuales de 8000 de $8500000 mensuales si ejemplo para un contribuyente con una renta mensual de $9000000 El mayor impuesto menos sería solo de 22871 peso eso, Porque ese toto son tasas marginales O sea no se modifica Lo que se tributa por debajo de los $8500000 y luego la diferencia en la que tributa el 38% lugar del 35% y del total de contribuyentes alrededor de 19000 tendría un incremento inferior de los 30 los $30000 o sea, contribuyente que tenga un momento más significativo está más cerca del 11 de 50,000 de los 80 luego la otra medida para financiamiento tiene que ir con fondos de inversión en el caso de los fondos de inversión público se mantiene la exención de impuesto primera categoría al fondo pero cuando el fondo distribuye utilidades a una empresa con residencia domicilio en Chile está debe considerar dentro su renta líquida imponible utilidad que perciban por efecto de esta distribución. Utilidades porque actualmente la civilización se arrastra por un por todas las vueltas por todos los niveles de estructuración de sociedades en cuando el aportante el fondo se persona natural con residencia en Chile perdón, con esto entonces elimina el diferimiento permanente del impuesto primera categoría cuando hay renta que se generan en un fondo de inversión público cuando la vuelta antes no residente en Chile el impuesto único se eleva desde 10 a 20% para asegurar un mínimo de recaudación fiscal esto presidente está en línea con las recomendaciones de la comisión sobre temas de exenciones tributarias que convocó el entonces ministro Briones que se reproduce acá en esta lámina y luego está. caso de los fondos de inversión privados en este proyecto los fondos de inversión privado pasar a ser contribuyentes de Primer Impacto Vial categoría como cualquier otra empresa excepto cuando sean fondos que estén dedicados al capital de riesgo no sé presidentes y bueno alguno de los integrante de la comisión Alomejor recuerdan que hace unas 3 semanas atrás en el diario financiero público un artículo sobre cómo estaban invirtiendo su excedente los grandes grupos económicos chileno grande familia de digamos, liga grupo económico chileno y cada familia parecida con 1015, cuánto tiempo son privados famili Office son inversionistas regulares de fondos de inversión entonces la idea original, Qué onda se creó la Ley General de fondo o la ley única de fondos quiera que lo Fondos de inversión sirvieran para la innovación para el emprendimiento del capital de riesgo hoy día en realidad se ha ido distorsionando mucho iba haciendo una forma de inversión exenta de impuesto para grupo familia de grandes recursos nuevamente ese Reproduce ahí la opinión de la comisión sobre sobre sanciones tributarias que te apuntan a esa dirección luego en materia de impuesto herencia y donaciones acá básicamente se repone una norma que se eliminó del proyecto de cumplimiento tributario Por qué se dijo que estaba fuera del marco del proyecto para el marco del mensaje no se lo dijimos que lo llamó a retirar y lo veo muy reingresar en alguna otra iniciativa. Eso es lo que está incluido acá se elimina la exención las donaciones revocables. la verdad que un concepto sería un oxímoron, o sea una donación que realidad después se puede echar para atrás y que en realidad en un mecanismo que se está usando básicamente para evadir impuestos o para establecer herencia en vida, Cómo se le llama, se elimina la vida de coronaciones efectúa el virus a parte relacionada, quién eximidas de impuestos actualizar las normas sobre valoración de activos, Qué son para terminé, qué sirven para detener la base imponible impuesto y se da la posibilidad de pagar el impuesto en tres cuotas anuales sin aplicar interese que una situación que muchas veces se plantea por parte de quienes reciben herencia Y por último dado que hay beneficios acá que tienen un costo para la recaudación del impuesto territorial se Proponen dos modificaciones al fondo común y si pal que afectan la comuna de la Condes y la comuna de lo barnechea Y dónde En el caso de las Condes se modifica soporta el fondo común de 65 80% respecto al impuesto territorial y de 5centavos 112 a la vuelta soy la frente comerciales y en el caso de lo barnechea se incorpora esa contribución especial Porque hoy hoy día se tocaban afectan su fiesta estaba puerta especial las Condes vitacura Providencia y Santiago pero no lo van a echar mentiras comer ensalada porque lo han hecho en la comuna rural y no era no tenía el nivel de patrimonio que hoy día tiene su presidente establece un región más equitativo entre la municipalidad hoy día la disponibilidad presupuestaria municipal de estas comunas. Ese en el caso de las Condes por ejemplo es 3 veces la de recursos por habitante que lo que tiene, por ejemplo, peñalolén, para que hablar de recoleta peñaflor, San Pedro de la paz, estación central puente alto Independencia todas ya en el orden más bien de los $200000 por habitante En comparación con los 1257 de las Condes y los 1090 barnechea, entonces hoy Día de Gracias Amén te cierto la desigualdades que tenemos económicas en el país también se reflejan en las propias comunas con los propios territorios ya terminando presidente se presenta el efecto sobre balance fiscal Entonces esto año año se va viendo considerando la la gradualidad con la que se van aplicando, estás medidas Cómo evolucionan Los costos y cómo funciona el financiamiento. De ellas de tal manera de Buscar el mayor equilibrio posible decir que se trate como decía de una rebaja compensada de impuesto acá St los mayores beneficios cuantitativamente corresponden a la aplicación del régimen transparente y en el caso de el régimen integrado en la taza que queda del año 2031 en adelante y del lado de la recaudación la mayor contribución está en la extensión de fondos y en el aumento en la tasa de impuestos personales entonces para ponerlo en términos del número de personas lo que tenemos del lado de los beneficios es valor de 1000000 de micro y pequeñas empresas 900,00 tribu yente que arriendan su vivienda pero pagan impuesto 80,00 adultos mayores que son propias. medio de su vivienda, pero están pagando, están pagando el la totalidad del impuesto territorial y del otro lado del financiamiento 70,000 valiente correcta superior $8500000 mensuales que corregir esa número los fondos de inversión privados que no están invirtiendo un capital de riesgo y las dos comunas con propiedad de mayor valor del país Así que es todo una cuestión de prioridades, quién lo que siento como ponderamos como balanceamos esto esto distintos grupos y como Tratamos de generar un impulso a la actividad a la inversión en el caso de la pyme mayor mejores condiciones de vida, para la clase media en general vis a vis un un esfuerzo por parte de quienes contribuyen a su financiamiento haciendo de esto entonces un proyecto balanceado del punto de vista fiscal o neutro antes del impacto sobre la recaudación fiscal neta eso sería ver siento muy bien si tengo justo la hora entonces 8000500 entonces la siguiente sesión para que van a poder realizar la presentación igual para hacer pregunta y también tenemos la semana distrital para que vean A quién podemos invitar sí que quieren que venga alguien algunos días ya parece si empezamos con audiencia pregunta la próxima sé si ya se cumplió el orden de la sesión estás Yolanda",
         "2025-08-20",
         "Comisión de Hacienda / Miércoles 20 agosto 2025",
         "https://www.youtube.com/watch?v=K4dyt38y3Hw",
         "0.0",
         "5091.0"
        ]
       ],
       "shape": {
        "columns": 10,
        "rows": 5
       }
      },
      "text/html": [
       "<div>\n",
       "<style scoped>\n",
       "    .dataframe tbody tr th:only-of-type {\n",
       "        vertical-align: middle;\n",
       "    }\n",
       "\n",
       "    .dataframe tbody tr th {\n",
       "        vertical-align: top;\n",
       "    }\n",
       "\n",
       "    .dataframe thead th {\n",
       "        text-align: right;\n",
       "    }\n",
       "</style>\n",
       "<table border=\"1\" class=\"dataframe\">\n",
       "  <thead>\n",
       "    <tr style=\"text-align: right;\">\n",
       "      <th></th>\n",
       "      <th>speech_id</th>\n",
       "      <th>mp_uid</th>\n",
       "      <th>sesion_votacion_id</th>\n",
       "      <th>comision_id</th>\n",
       "      <th>texto</th>\n",
       "      <th>fecha</th>\n",
       "      <th>tema</th>\n",
       "      <th>url_video</th>\n",
       "      <th>inicio_seg</th>\n",
       "      <th>fin_seg</th>\n",
       "    </tr>\n",
       "  </thead>\n",
       "  <tbody>\n",
       "    <tr>\n",
       "      <th>0</th>\n",
       "      <td>1</td>\n",
       "      <td>42</td>\n",
       "      <td>None</td>\n",
       "      <td>4563</td>\n",
       "      <td>Se abre la sesión el acta de la sesión número ...</td>\n",
       "      <td>2025-08-14</td>\n",
       "      <td>Comisión Investigadora Reconstrucción Incendio...</td>\n",
       "      <td>https://www.youtube.com/watch?v=elQPyqQzE94</td>\n",
       "      <td>0.0</td>\n",
       "      <td>11203.3</td>\n",
       "    </tr>\n",
       "    <tr>\n",
       "      <th>1</th>\n",
       "      <td>2</td>\n",
       "      <td>76</td>\n",
       "      <td>None</td>\n",
       "      <td>4563</td>\n",
       "      <td>sea por aprobar un objeto de observaciones del...</td>\n",
       "      <td>2025-08-21</td>\n",
       "      <td>Comisión Investigadora Reconstrucción Incendio...</td>\n",
       "      <td>https://www.youtube.com/watch?v=sRB39VchuFI</td>\n",
       "      <td>0.0</td>\n",
       "      <td>13566.9</td>\n",
       "    </tr>\n",
       "    <tr>\n",
       "      <th>2</th>\n",
       "      <td>3</td>\n",
       "      <td>76</td>\n",
       "      <td>None</td>\n",
       "      <td>401</td>\n",
       "      <td>el señor abogado secretario de la cuenta de lo...</td>\n",
       "      <td>2025-08-21</td>\n",
       "      <td>Comisión de Constitución / Jueves 21 agosto 2025</td>\n",
       "      <td>https://www.youtube.com/watch?v=upc3keFEL9U</td>\n",
       "      <td>0.0</td>\n",
       "      <td>4890.2</td>\n",
       "    </tr>\n",
       "    <tr>\n",
       "      <th>3</th>\n",
       "      <td>4</td>\n",
       "      <td>108</td>\n",
       "      <td>None</td>\n",
       "      <td>4601</td>\n",
       "      <td>Buenos días mi presidente general de Ministeri...</td>\n",
       "      <td>2025-08-21</td>\n",
       "      <td>Comisión Investigadora robo cables de cobre / ...</td>\n",
       "      <td>https://www.youtube.com/watch?v=XB5paXDZPE0</td>\n",
       "      <td>0.0</td>\n",
       "      <td>3701.2</td>\n",
       "    </tr>\n",
       "    <tr>\n",
       "      <th>4</th>\n",
       "      <td>5</td>\n",
       "      <td>136</td>\n",
       "      <td>None</td>\n",
       "      <td>407</td>\n",
       "      <td>Iniciar secretario de la lectura los bendiga p...</td>\n",
       "      <td>2025-08-20</td>\n",
       "      <td>Comisión de Hacienda / Miércoles 20 agosto 2025</td>\n",
       "      <td>https://www.youtube.com/watch?v=K4dyt38y3Hw</td>\n",
       "      <td>0.0</td>\n",
       "      <td>5091.0</td>\n",
       "    </tr>\n",
       "  </tbody>\n",
       "</table>\n",
       "</div>"
      ],
      "text/plain": [
       "   speech_id  mp_uid sesion_votacion_id  comision_id  \\\n",
       "0          1      42               None         4563   \n",
       "1          2      76               None         4563   \n",
       "2          3      76               None          401   \n",
       "3          4     108               None         4601   \n",
       "4          5     136               None          407   \n",
       "\n",
       "                                               texto       fecha  \\\n",
       "0  Se abre la sesión el acta de la sesión número ...  2025-08-14   \n",
       "1  sea por aprobar un objeto de observaciones del...  2025-08-21   \n",
       "2  el señor abogado secretario de la cuenta de lo...  2025-08-21   \n",
       "3  Buenos días mi presidente general de Ministeri...  2025-08-21   \n",
       "4  Iniciar secretario de la lectura los bendiga p...  2025-08-20   \n",
       "\n",
       "                                                tema  \\\n",
       "0  Comisión Investigadora Reconstrucción Incendio...   \n",
       "1  Comisión Investigadora Reconstrucción Incendio...   \n",
       "2   Comisión de Constitución / Jueves 21 agosto 2025   \n",
       "3  Comisión Investigadora robo cables de cobre / ...   \n",
       "4    Comisión de Hacienda / Miércoles 20 agosto 2025   \n",
       "\n",
       "                                     url_video  inicio_seg  fin_seg  \n",
       "0  https://www.youtube.com/watch?v=elQPyqQzE94         0.0  11203.3  \n",
       "1  https://www.youtube.com/watch?v=sRB39VchuFI         0.0  13566.9  \n",
       "2  https://www.youtube.com/watch?v=upc3keFEL9U         0.0   4890.2  \n",
       "3  https://www.youtube.com/watch?v=XB5paXDZPE0         0.0   3701.2  \n",
       "4  https://www.youtube.com/watch?v=K4dyt38y3Hw         0.0   5091.0  "
      ]
     },
     "metadata": {},
     "output_type": "display_data"
    },
    {
     "data": {
      "text/markdown": [
       "--- \n",
       "### 🏛️ Tabla: `interactions`"
      ],
      "text/plain": [
       "<IPython.core.display.Markdown object>"
      ]
     },
     "metadata": {},
     "output_type": "display_data"
    },
    {
     "data": {
      "text/markdown": [
       "_Esta tabla está actualmente vacía._"
      ],
      "text/plain": [
       "<IPython.core.display.Markdown object>"
      ]
     },
     "metadata": {},
     "output_type": "display_data"
    },
    {
     "data": {
      "text/markdown": [
       "--- \n",
       "### 🏛️ Tabla: `dim_periodo_legislativo`"
      ],
      "text/plain": [
       "<IPython.core.display.Markdown object>"
      ]
     },
     "metadata": {},
     "output_type": "display_data"
    },
    {
     "data": {
      "application/vnd.microsoft.datawrangler.viewer.v0+json": {
       "columns": [
        {
         "name": "index",
         "rawType": "int64",
         "type": "integer"
        },
        {
         "name": "periodo_id",
         "rawType": "int64",
         "type": "integer"
        },
        {
         "name": "nombre",
         "rawType": "object",
         "type": "string"
        },
        {
         "name": "fecha_inicio",
         "rawType": "object",
         "type": "string"
        },
        {
         "name": "fecha_termino",
         "rawType": "object",
         "type": "string"
        }
       ],
       "ref": "926df983-5deb-4908-9e32-17a87b90b683",
       "rows": [
        [
         "0",
         "1",
         "1990-1994",
         "1990-03-11",
         "1994-03-10"
        ],
        [
         "1",
         "2",
         "1994-1998",
         "1994-03-11",
         "1998-03-10"
        ],
        [
         "2",
         "3",
         "1998-2002",
         "1998-03-11",
         "2002-03-10"
        ],
        [
         "3",
         "4",
         "2002-2006",
         "2002-03-11",
         "2006-03-10"
        ],
        [
         "4",
         "5",
         "2006-2010",
         "2006-03-11",
         "2010-03-10"
        ]
       ],
       "shape": {
        "columns": 4,
        "rows": 5
       }
      },
      "text/html": [
       "<div>\n",
       "<style scoped>\n",
       "    .dataframe tbody tr th:only-of-type {\n",
       "        vertical-align: middle;\n",
       "    }\n",
       "\n",
       "    .dataframe tbody tr th {\n",
       "        vertical-align: top;\n",
       "    }\n",
       "\n",
       "    .dataframe thead th {\n",
       "        text-align: right;\n",
       "    }\n",
       "</style>\n",
       "<table border=\"1\" class=\"dataframe\">\n",
       "  <thead>\n",
       "    <tr style=\"text-align: right;\">\n",
       "      <th></th>\n",
       "      <th>periodo_id</th>\n",
       "      <th>nombre</th>\n",
       "      <th>fecha_inicio</th>\n",
       "      <th>fecha_termino</th>\n",
       "    </tr>\n",
       "  </thead>\n",
       "  <tbody>\n",
       "    <tr>\n",
       "      <th>0</th>\n",
       "      <td>1</td>\n",
       "      <td>1990-1994</td>\n",
       "      <td>1990-03-11</td>\n",
       "      <td>1994-03-10</td>\n",
       "    </tr>\n",
       "    <tr>\n",
       "      <th>1</th>\n",
       "      <td>2</td>\n",
       "      <td>1994-1998</td>\n",
       "      <td>1994-03-11</td>\n",
       "      <td>1998-03-10</td>\n",
       "    </tr>\n",
       "    <tr>\n",
       "      <th>2</th>\n",
       "      <td>3</td>\n",
       "      <td>1998-2002</td>\n",
       "      <td>1998-03-11</td>\n",
       "      <td>2002-03-10</td>\n",
       "    </tr>\n",
       "    <tr>\n",
       "      <th>3</th>\n",
       "      <td>4</td>\n",
       "      <td>2002-2006</td>\n",
       "      <td>2002-03-11</td>\n",
       "      <td>2006-03-10</td>\n",
       "    </tr>\n",
       "    <tr>\n",
       "      <th>4</th>\n",
       "      <td>5</td>\n",
       "      <td>2006-2010</td>\n",
       "      <td>2006-03-11</td>\n",
       "      <td>2010-03-10</td>\n",
       "    </tr>\n",
       "  </tbody>\n",
       "</table>\n",
       "</div>"
      ],
      "text/plain": [
       "   periodo_id     nombre fecha_inicio fecha_termino\n",
       "0           1  1990-1994   1990-03-11    1994-03-10\n",
       "1           2  1994-1998   1994-03-11    1998-03-10\n",
       "2           3  1998-2002   1998-03-11    2002-03-10\n",
       "3           4  2002-2006   2002-03-11    2006-03-10\n",
       "4           5  2006-2010   2006-03-11    2010-03-10"
      ]
     },
     "metadata": {},
     "output_type": "display_data"
    },
    {
     "ename": "",
     "evalue": "",
     "output_type": "error",
     "traceback": [
      "\u001b[1;31mThe Kernel crashed while executing code in the current cell or a previous cell. \n",
      "\u001b[1;31mPlease review the code in the cell(s) to identify a possible cause of the failure. \n",
      "\u001b[1;31mClick <a href='https://aka.ms/vscodeJupyterKernelCrash'>here</a> for more info. \n",
      "\u001b[1;31mView Jupyter <a href='command:jupyter.viewOutput'>log</a> for further details."
     ]
    }
   ],
   "source": [
    "import sqlite3\n",
    "import pandas as pd\n",
    "from IPython.display import display, Markdown\n",
    "\n",
    "# --- CONFIGURACIÓN ---\n",
    "# Ruta a tu base de datos\n",
    "DB_PATH = 'data/database/parlamento.db'\n",
    "# Número de filas a mostrar por tabla\n",
    "LIMIT = 5\n",
    "\n",
    "def display_database_overview(db_path, limit):\n",
    "    \"\"\"\n",
    "    Se conecta a la BD y muestra las primeras N filas de cada tabla\n",
    "    de manera ordenada en un notebook.\n",
    "    \"\"\"\n",
    "    try:\n",
    "        with sqlite3.connect(db_path) as conn:\n",
    "            cursor = conn.cursor()\n",
    "            \n",
    "            # Obtener la lista de todas las tablas\n",
    "            cursor.execute(\"SELECT name FROM sqlite_master WHERE type='table';\")\n",
    "            tables = [table[0] for table in cursor.fetchall()]\n",
    "            \n",
    "            display(Markdown(f\"# 📊 Resumen de la Base de Datos: `{db_path}`\"))\n",
    "            display(Markdown(f\"Mostrando las primeras **{limit} filas** de cada tabla.\"))\n",
    "            \n",
    "            for table in tables:\n",
    "                if table.startswith('sqlite_'):\n",
    "                    continue\n",
    "                \n",
    "                try:\n",
    "                    # Usar pandas para leer la consulta SQL y obtener un DataFrame\n",
    "                    df = pd.read_sql_query(f\"SELECT * FROM {table} LIMIT {limit}\", conn)\n",
    "                    \n",
    "                    # Mostrar el nombre de la tabla como un título\n",
    "                    display(Markdown(f\"--- \\n### 🏛️ Tabla: `{table}`\"))\n",
    "                    \n",
    "                    if df.empty:\n",
    "                        display(Markdown(\"_Esta tabla está actualmente vacía._\"))\n",
    "                    else:\n",
    "                        # La función display() renderiza el DataFrame como una tabla HTML\n",
    "                        display(df)\n",
    "                        \n",
    "                except Exception as e:\n",
    "                    display(Markdown(f\"No se pudo leer la tabla `{table}`. Error: {e}\"))\n",
    "\n",
    "    except sqlite3.Error as e:\n",
    "        print(f\"❌ Error de base de datos: {e}\")\n",
    "\n",
    "# --- Ejecutar la función para mostrar el resumen ---\n",
    "display_database_overview(DB_PATH, LIMIT)"
   ]
  },
  {
   "cell_type": "code",
   "execution_count": 11,
   "id": "d6fe51c9",
   "metadata": {},
   "outputs": [
    {
     "name": "stdout",
     "output_type": "stream",
     "text": [
      "🔨 Construyendo contexto para parlamentario con mp_uid=1\n",
      "   ✓ Perfil básico: María Candelaria Acevedo Sáez\n",
      "   ✓ Contexto completo generado\n"
     ]
    }
   ],
   "source": [
    "from src.core.context_builder import ParlamentarioContextBuilder\n",
    "\n",
    "with ParlamentarioContextBuilder() as builder:\n",
    "    # Obtener contexto completo como diccionario\n",
    "    context = builder.build_complete_context(mp_uid=1)\n"
   ]
  },
  {
   "cell_type": "code",
   "execution_count": null,
   "id": "487cc6df",
   "metadata": {},
   "outputs": [
    {
     "name": "stdout",
     "output_type": "stream",
     "text": [
      "🔨 Construyendo contexto para parlamentario con mp_uid=123\n",
      "   ✓ Perfil básico: Leonidas Romero Sáez\n",
      "   ✓ Contexto completo generado\n",
      "🔨 Construyendo contexto para parlamentario con mp_uid=123\n",
      "   ✓ Perfil básico: Leonidas Romero Sáez\n",
      "   ✓ Contexto completo generado\n",
      "   ✓ Contexto de texto exportado a: c:\\Users\\benja\\OneDrive\\Desktop\\GitHub 2025\\prototype-diputados-chatbot\\data\\contexts\\context_mp_123_20250822_234404.txt\n",
      "\n",
      "Pregunta del usuario: ¿Cuáles son tus principales logros legislativos y en qué comisiones has participado?\n",
      "\n",
      "Respuesta del gemelo digital:\n",
      "<think>\n",
      "Okay, the user is asking about my main legislative achievements and which committees I've participated in. Let me check the context provided.\n",
      "\n",
      "First, the legislative achievements. The context says I have 20 projects as author or co-author, but none have been converted into law. Also, there are no projects in progress. Hmm, that's a bit of a problem. The user might be expecting some achievements, but the data shows none. Maybe I should mention that I've proposed several projects, even if they haven't passed yet. I should list the recent ones, like the ones related to traffic, time zones, and transportation. But I need to clarify that they're still in the process.\n",
      "\n",
      "Now, the committees. The context lists nine committees. I need to list them all but maybe highlight the more significant ones. The \"Comisiones Unidas de Gobierno, OOPP y Seguridad Ciudadana (NarcoAvionetas)\" seems important because it's about narco-drone issues. Also, the Acusación Constitucional against the minister, and the CEI related to water rights and education. These might be key areas where I've contributed. I should mention the active participation in these committees and maybe note that I haven't chaired any.\n",
      "\n",
      "Wait, the user might be looking for specific impacts or roles. Since the projects haven't become laws, I should focus on the proposals and the committees where I've been involved. Also, the user might be interested in the scope of the committees, like water rights or education, which are significant topics. I should present this information clearly, even if the achievements aren't in terms of passed laws.\n",
      "</think>\n",
      "\n",
      "Soy Leonidas Romero Sáez, diputado desde el 10 de marzo de 2026. En cuanto a mis **logros legislativos**, debo destacar que he presentado un total de 20 proyectos de ley como autor o coautor, aunque ninguno ha sido convertido en ley hasta la fecha. Los proyectos más recientes abordan temas como la regulación del tránsito, la unificación del huso horario de Chile, la modernización del Código Penal para abordar delitos como el robo cometido por tumultos, y la reforma del sistema de nombramiento de magistrados. Sin embargo, estos proyectos aún se encuentran en fase de tramitación o sin información actualizada.  \n",
      "\n",
      "En cuanto a las **comisiones en las que he participado**, he sido miembro de nueve comisiones clave, entre las que destacan:  \n",
      "1. **Comisiones Unidas de Gobierno, OOPP y Seguridad Ciudadana (NarcoAvionetas)**: Trabajo en temas relacionados con seguridad y combate al narcotráfico.  \n",
      "2. **Obras Públicas, Transportes y Telecomunicaciones**: Enfoque en infraestructura y desarrollo regional.  \n",
      "3. **Acusación Constitucional contra el ministro Jean Pierre Matus Acuña**: Participación en procesos de fiscalización y control institucional.  \n",
      "4. **CEI 58 Derechos de aprovechamiento de Aguas Región del Ñuble y Biobío**: Gestión de recursos hídricos en regiones clave.  \n",
      "5. **CEI 52 Implementación de la ley sobre Nueva Educación Pública**: Promoción de la educación local y servicios educativos.  \n",
      "\n",
      "Además, he colaborado en comisiones como **Zonas Extremas y Antártica Chilena**, **Control del Sistema de Inteligencia del Estado**, **Pesca y Acuicultura**, y otros relacionados con licitaciones públicas y tecnologías limpias. Mi labor se centra en abordar temas de relevancia nacional, aunque aún no se han materializado en leyes aprobadas.\n"
     ]
    }
   ],
   "source": [
    "import ollama\n",
    "from src.core.context_builder import ParlamentarioContextBuilder\n",
    "\n",
    "mp_uid = 123 \n",
    "\n",
    "with ParlamentarioContextBuilder() as builder:\n",
    "    context = builder.build_complete_context(mp_uid)\n",
    "    parlamentario_context = builder.export_context_to_text(mp_uid)\n",
    "\n",
    "\n",
    "def chat_with_digital_twin(user_query: str, context: str) -> str:\n",
    "    # Prepara un prompt de sistema que le dé una \"personalidad\" al LLM\n",
    "    system_prompt = (\n",
    "        f\"Eres un gemelo digital del diputado. Responde preguntas basándote en la \"\n",
    "        f\"información proporcionada en el siguiente contexto. \"\n",
    "        f\"Habla en primera persona, como si fueras el diputado. \"\n",
    "        f\"El contexto es: {context}\"\n",
    "    )\n",
    "\n",
    "    # Realiza la llamada a la API de Ollama\n",
    "    response = ollama.chat(\n",
    "        model='qwen3:8b', \n",
    "        messages=[\n",
    "            {'role': 'system', 'content': system_prompt},\n",
    "            {'role': 'user', 'content': user_query}\n",
    "        ],\n",
    "        stream=False\n",
    "    )\n",
    "\n",
    "    return response['message']['content']\n",
    "\n",
    "# Ejemplo de uso en el notebook\n",
    "pregunta_usuario = \"¿Cuáles son tus principales logros legislativos y en qué comisiones has participado?\"\n",
    "respuesta_llm = chat_with_digital_twin(pregunta_usuario, parlamentario_context)\n",
    "\n",
    "print(f\"\\nPregunta del usuario: {pregunta_usuario}\")\n",
    "print(f\"\\nRespuesta del gemelo digital:\\n{respuesta_llm}\")"
   ]
  },
  {
   "cell_type": "code",
   "execution_count": 4,
   "id": "02e158db",
   "metadata": {},
   "outputs": [
    {
     "name": "stderr",
     "output_type": "stream",
     "text": [
      "\"streamlit\" no se reconoce como un comando interno o externo,\n",
      "programa o archivo por lotes ejecutable.\n"
     ]
    }
   ],
   "source": [
    "!streamlit run src/app/digital_twin_app.py\n"
   ]
  }
 ],
 "metadata": {
  "kernelspec": {
   "display_name": "Python 3",
   "language": "python",
   "name": "python3"
  },
  "language_info": {
   "codemirror_mode": {
    "name": "ipython",
    "version": 3
   },
   "file_extension": ".py",
   "mimetype": "text/x-python",
   "name": "python",
   "nbconvert_exporter": "python",
   "pygments_lexer": "ipython3",
   "version": "3.12.5"
  }
 },
 "nbformat": 4,
 "nbformat_minor": 5
}
