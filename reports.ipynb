{
 "cells": [
  {
   "cell_type": "code",
   "execution_count": 5,
   "id": "7ecb0096",
   "metadata": {},
   "outputs": [
    {
     "data": {
      "text/markdown": [
       "# 📊 Resumen de la Base de Datos: `data/database/parlamento.db`"
      ],
      "text/plain": [
       "<IPython.core.display.Markdown object>"
      ]
     },
     "metadata": {},
     "output_type": "display_data"
    },
    {
     "data": {
      "text/markdown": [
       "Mostrando las primeras **5 filas** de cada tabla."
      ],
      "text/plain": [
       "<IPython.core.display.Markdown object>"
      ]
     },
     "metadata": {},
     "output_type": "display_data"
    },
    {
     "data": {
      "text/markdown": [
       "--- \n",
       "### 🏛️ Tabla: `dim_parlamentario`"
      ],
      "text/plain": [
       "<IPython.core.display.Markdown object>"
      ]
     },
     "metadata": {},
     "output_type": "display_data"
    },
    {
     "data": {
      "application/vnd.microsoft.datawrangler.viewer.v0+json": {
       "columns": [
        {
         "name": "index",
         "rawType": "int64",
         "type": "integer"
        },
        {
         "name": "mp_uid",
         "rawType": "int64",
         "type": "integer"
        },
        {
         "name": "nombre_completo",
         "rawType": "object",
         "type": "string"
        },
        {
         "name": "nombre_propio",
         "rawType": "object",
         "type": "string"
        },
        {
         "name": "apellido_paterno",
         "rawType": "object",
         "type": "string"
        },
        {
         "name": "apellido_materno",
         "rawType": "object",
         "type": "string"
        },
        {
         "name": "genero",
         "rawType": "object",
         "type": "string"
        },
        {
         "name": "fecha_nacimiento",
         "rawType": "object",
         "type": "string"
        },
        {
         "name": "lugar_nacimiento",
         "rawType": "object",
         "type": "string"
        },
        {
         "name": "diputadoid",
         "rawType": "object",
         "type": "string"
        },
        {
         "name": "bcn_uri",
         "rawType": "object",
         "type": "string"
        },
        {
         "name": "url_foto",
         "rawType": "object",
         "type": "string"
        },
        {
         "name": "twitter_handle",
         "rawType": "object",
         "type": "unknown"
        },
        {
         "name": "sitio_web_personal",
         "rawType": "object",
         "type": "unknown"
        },
        {
         "name": "profesion",
         "rawType": "object",
         "type": "unknown"
        },
        {
         "name": "url_historia_politica",
         "rawType": "object",
         "type": "string"
        },
        {
         "name": "fecha_extraccion",
         "rawType": "object",
         "type": "string"
        }
       ],
       "ref": "d0dff8a8-1cb4-4319-b904-ca0852d856cf",
       "rows": [
        [
         "0",
         "1",
         "María Candelaria Acevedo Sáez",
         "María Candelaria",
         "Acevedo",
         "Sáez",
         "Femenino",
         "1958-09-12",
         "Coronel",
         "1096",
         "http://datos.bcn.cl/recurso/persona/5247",
         "https://www.bcn.cl/laborparlamentaria/imagen/110x110/5247.jpg",
         null,
         null,
         null,
         "https://www.bcn.cl/historiapolitica/resenas_parlamentarias/wiki/María_Candelaria_Acevedo_Sáez",
         "2025-08-14"
        ],
        [
         "1",
         "2",
         "Eric Aedo Jeldres",
         "Eric Mariano",
         "Aedo",
         "Jeldres",
         "Masculino",
         "1968-07-13",
         "Los Ángeles",
         "1097",
         "http://datos.bcn.cl/recurso/persona/5253",
         "https://www.bcn.cl/laborparlamentaria/imagen/110x110/5253.jpg",
         null,
         null,
         "Administrador de Programas Sociales",
         "https://www.bcn.cl/historiapolitica/resenas_parlamentarias/wiki/Eric_Aedo_Jeldres",
         "2025-08-14"
        ],
        [
         "2",
         "3",
         "Yovana Ahumada Palma",
         "Yovana Alejandra",
         "Ahumada",
         "Palma",
         "Femenino",
         "1973-12-24",
         "Antofagasta",
         "1098",
         "http://datos.bcn.cl/recurso/persona/5188",
         "https://www.bcn.cl/laborparlamentaria/imagen/110x110/5188.jpg",
         "yovyaftap2",
         null,
         "Técnica agropecuaria",
         "https://www.bcn.cl/historiapolitica/resenas_parlamentarias/wiki/Yovana_Ahumada_Palma",
         "2025-08-14"
        ],
        [
         "3",
         "4",
         "Jorge Alessandri Vergara",
         "Jorge Iván",
         "Alessandri",
         "Vergara",
         "Masculino",
         "1979-06-08",
         "Santiago de Chile",
         "1009",
         "http://datos.bcn.cl/recurso/persona/4604",
         "https://www.bcn.cl/laborparlamentaria/imagen/110x110/4604.jpg",
         "jalessandri",
         null,
         "Abogado",
         "https://www.bcn.cl/historiapolitica/resenas_parlamentarias/wiki/Jorge_Iván_Alessandri_Vergara",
         "2025-08-14"
        ],
        [
         "4",
         "5",
         "René Alinco Bustos",
         "René",
         "Alinco",
         "Bustos",
         "Masculino",
         "1958-06-02",
         "",
         "803",
         "http://datos.bcn.cl/recurso/persona/135",
         "https://www.bcn.cl/laborparlamentaria/imagen/110x110/135.jpg",
         "alinco_rene",
         null,
         "Obrero de la Construcción",
         "https://www.bcn.cl/historiapolitica/resenas_parlamentarias/wiki/René_Alinco_Bustos",
         "2025-08-14"
        ]
       ],
       "shape": {
        "columns": 16,
        "rows": 5
       }
      },
      "text/html": [
       "<div>\n",
       "<style scoped>\n",
       "    .dataframe tbody tr th:only-of-type {\n",
       "        vertical-align: middle;\n",
       "    }\n",
       "\n",
       "    .dataframe tbody tr th {\n",
       "        vertical-align: top;\n",
       "    }\n",
       "\n",
       "    .dataframe thead th {\n",
       "        text-align: right;\n",
       "    }\n",
       "</style>\n",
       "<table border=\"1\" class=\"dataframe\">\n",
       "  <thead>\n",
       "    <tr style=\"text-align: right;\">\n",
       "      <th></th>\n",
       "      <th>mp_uid</th>\n",
       "      <th>nombre_completo</th>\n",
       "      <th>nombre_propio</th>\n",
       "      <th>apellido_paterno</th>\n",
       "      <th>apellido_materno</th>\n",
       "      <th>genero</th>\n",
       "      <th>fecha_nacimiento</th>\n",
       "      <th>lugar_nacimiento</th>\n",
       "      <th>diputadoid</th>\n",
       "      <th>bcn_uri</th>\n",
       "      <th>url_foto</th>\n",
       "      <th>twitter_handle</th>\n",
       "      <th>sitio_web_personal</th>\n",
       "      <th>profesion</th>\n",
       "      <th>url_historia_politica</th>\n",
       "      <th>fecha_extraccion</th>\n",
       "    </tr>\n",
       "  </thead>\n",
       "  <tbody>\n",
       "    <tr>\n",
       "      <th>0</th>\n",
       "      <td>1</td>\n",
       "      <td>María Candelaria Acevedo Sáez</td>\n",
       "      <td>María Candelaria</td>\n",
       "      <td>Acevedo</td>\n",
       "      <td>Sáez</td>\n",
       "      <td>Femenino</td>\n",
       "      <td>1958-09-12</td>\n",
       "      <td>Coronel</td>\n",
       "      <td>1096</td>\n",
       "      <td>http://datos.bcn.cl/recurso/persona/5247</td>\n",
       "      <td>https://www.bcn.cl/laborparlamentaria/imagen/1...</td>\n",
       "      <td>None</td>\n",
       "      <td>None</td>\n",
       "      <td>None</td>\n",
       "      <td>https://www.bcn.cl/historiapolitica/resenas_pa...</td>\n",
       "      <td>2025-08-14</td>\n",
       "    </tr>\n",
       "    <tr>\n",
       "      <th>1</th>\n",
       "      <td>2</td>\n",
       "      <td>Eric Aedo Jeldres</td>\n",
       "      <td>Eric Mariano</td>\n",
       "      <td>Aedo</td>\n",
       "      <td>Jeldres</td>\n",
       "      <td>Masculino</td>\n",
       "      <td>1968-07-13</td>\n",
       "      <td>Los Ángeles</td>\n",
       "      <td>1097</td>\n",
       "      <td>http://datos.bcn.cl/recurso/persona/5253</td>\n",
       "      <td>https://www.bcn.cl/laborparlamentaria/imagen/1...</td>\n",
       "      <td>None</td>\n",
       "      <td>None</td>\n",
       "      <td>Administrador de Programas Sociales</td>\n",
       "      <td>https://www.bcn.cl/historiapolitica/resenas_pa...</td>\n",
       "      <td>2025-08-14</td>\n",
       "    </tr>\n",
       "    <tr>\n",
       "      <th>2</th>\n",
       "      <td>3</td>\n",
       "      <td>Yovana Ahumada Palma</td>\n",
       "      <td>Yovana Alejandra</td>\n",
       "      <td>Ahumada</td>\n",
       "      <td>Palma</td>\n",
       "      <td>Femenino</td>\n",
       "      <td>1973-12-24</td>\n",
       "      <td>Antofagasta</td>\n",
       "      <td>1098</td>\n",
       "      <td>http://datos.bcn.cl/recurso/persona/5188</td>\n",
       "      <td>https://www.bcn.cl/laborparlamentaria/imagen/1...</td>\n",
       "      <td>yovyaftap2</td>\n",
       "      <td>None</td>\n",
       "      <td>Técnica agropecuaria</td>\n",
       "      <td>https://www.bcn.cl/historiapolitica/resenas_pa...</td>\n",
       "      <td>2025-08-14</td>\n",
       "    </tr>\n",
       "    <tr>\n",
       "      <th>3</th>\n",
       "      <td>4</td>\n",
       "      <td>Jorge Alessandri Vergara</td>\n",
       "      <td>Jorge Iván</td>\n",
       "      <td>Alessandri</td>\n",
       "      <td>Vergara</td>\n",
       "      <td>Masculino</td>\n",
       "      <td>1979-06-08</td>\n",
       "      <td>Santiago de Chile</td>\n",
       "      <td>1009</td>\n",
       "      <td>http://datos.bcn.cl/recurso/persona/4604</td>\n",
       "      <td>https://www.bcn.cl/laborparlamentaria/imagen/1...</td>\n",
       "      <td>jalessandri</td>\n",
       "      <td>None</td>\n",
       "      <td>Abogado</td>\n",
       "      <td>https://www.bcn.cl/historiapolitica/resenas_pa...</td>\n",
       "      <td>2025-08-14</td>\n",
       "    </tr>\n",
       "    <tr>\n",
       "      <th>4</th>\n",
       "      <td>5</td>\n",
       "      <td>René Alinco Bustos</td>\n",
       "      <td>René</td>\n",
       "      <td>Alinco</td>\n",
       "      <td>Bustos</td>\n",
       "      <td>Masculino</td>\n",
       "      <td>1958-06-02</td>\n",
       "      <td></td>\n",
       "      <td>803</td>\n",
       "      <td>http://datos.bcn.cl/recurso/persona/135</td>\n",
       "      <td>https://www.bcn.cl/laborparlamentaria/imagen/1...</td>\n",
       "      <td>alinco_rene</td>\n",
       "      <td>None</td>\n",
       "      <td>Obrero de la Construcción</td>\n",
       "      <td>https://www.bcn.cl/historiapolitica/resenas_pa...</td>\n",
       "      <td>2025-08-14</td>\n",
       "    </tr>\n",
       "  </tbody>\n",
       "</table>\n",
       "</div>"
      ],
      "text/plain": [
       "   mp_uid                nombre_completo     nombre_propio apellido_paterno  \\\n",
       "0       1  María Candelaria Acevedo Sáez  María Candelaria          Acevedo   \n",
       "1       2              Eric Aedo Jeldres      Eric Mariano             Aedo   \n",
       "2       3           Yovana Ahumada Palma  Yovana Alejandra          Ahumada   \n",
       "3       4       Jorge Alessandri Vergara        Jorge Iván       Alessandri   \n",
       "4       5             René Alinco Bustos              René           Alinco   \n",
       "\n",
       "  apellido_materno     genero fecha_nacimiento   lugar_nacimiento diputadoid  \\\n",
       "0             Sáez   Femenino       1958-09-12            Coronel       1096   \n",
       "1          Jeldres  Masculino       1968-07-13        Los Ángeles       1097   \n",
       "2            Palma   Femenino       1973-12-24        Antofagasta       1098   \n",
       "3          Vergara  Masculino       1979-06-08  Santiago de Chile       1009   \n",
       "4           Bustos  Masculino       1958-06-02                           803   \n",
       "\n",
       "                                    bcn_uri  \\\n",
       "0  http://datos.bcn.cl/recurso/persona/5247   \n",
       "1  http://datos.bcn.cl/recurso/persona/5253   \n",
       "2  http://datos.bcn.cl/recurso/persona/5188   \n",
       "3  http://datos.bcn.cl/recurso/persona/4604   \n",
       "4   http://datos.bcn.cl/recurso/persona/135   \n",
       "\n",
       "                                            url_foto twitter_handle  \\\n",
       "0  https://www.bcn.cl/laborparlamentaria/imagen/1...           None   \n",
       "1  https://www.bcn.cl/laborparlamentaria/imagen/1...           None   \n",
       "2  https://www.bcn.cl/laborparlamentaria/imagen/1...     yovyaftap2   \n",
       "3  https://www.bcn.cl/laborparlamentaria/imagen/1...    jalessandri   \n",
       "4  https://www.bcn.cl/laborparlamentaria/imagen/1...    alinco_rene   \n",
       "\n",
       "  sitio_web_personal                            profesion  \\\n",
       "0               None                                 None   \n",
       "1               None  Administrador de Programas Sociales   \n",
       "2               None                 Técnica agropecuaria   \n",
       "3               None                              Abogado   \n",
       "4               None            Obrero de la Construcción   \n",
       "\n",
       "                               url_historia_politica fecha_extraccion  \n",
       "0  https://www.bcn.cl/historiapolitica/resenas_pa...       2025-08-14  \n",
       "1  https://www.bcn.cl/historiapolitica/resenas_pa...       2025-08-14  \n",
       "2  https://www.bcn.cl/historiapolitica/resenas_pa...       2025-08-14  \n",
       "3  https://www.bcn.cl/historiapolitica/resenas_pa...       2025-08-14  \n",
       "4  https://www.bcn.cl/historiapolitica/resenas_pa...       2025-08-14  "
      ]
     },
     "metadata": {},
     "output_type": "display_data"
    },
    {
     "data": {
      "text/markdown": [
       "--- \n",
       "### 🏛️ Tabla: `parlamentario_aliases`"
      ],
      "text/plain": [
       "<IPython.core.display.Markdown object>"
      ]
     },
     "metadata": {},
     "output_type": "display_data"
    },
    {
     "data": {
      "text/markdown": [
       "_Esta tabla está actualmente vacía._"
      ],
      "text/plain": [
       "<IPython.core.display.Markdown object>"
      ]
     },
     "metadata": {},
     "output_type": "display_data"
    },
    {
     "data": {
      "text/markdown": [
       "--- \n",
       "### 🏛️ Tabla: `dim_partidos`"
      ],
      "text/plain": [
       "<IPython.core.display.Markdown object>"
      ]
     },
     "metadata": {},
     "output_type": "display_data"
    },
    {
     "data": {
      "application/vnd.microsoft.datawrangler.viewer.v0+json": {
       "columns": [
        {
         "name": "index",
         "rawType": "int64",
         "type": "integer"
        },
        {
         "name": "partido_id",
         "rawType": "int64",
         "type": "integer"
        },
        {
         "name": "nombre_partido",
         "rawType": "object",
         "type": "string"
        },
        {
         "name": "nombre_alternativo",
         "rawType": "object",
         "type": "string"
        },
        {
         "name": "sigla",
         "rawType": "object",
         "type": "unknown"
        },
        {
         "name": "fecha_fundacion",
         "rawType": "object",
         "type": "string"
        },
        {
         "name": "sitio_web",
         "rawType": "object",
         "type": "unknown"
        },
        {
         "name": "url_historia_politica",
         "rawType": "object",
         "type": "string"
        },
        {
         "name": "url_logo",
         "rawType": "object",
         "type": "unknown"
        },
        {
         "name": "ultima_actualizacion",
         "rawType": "object",
         "type": "string"
        }
       ],
       "ref": "5c2ef343-2ac9-40f9-ac37-5e52e07c7848",
       "rows": [
        [
         "0",
         "1",
         "Coalición por el Cambio",
         "",
         null,
         "2009",
         null,
         "https://www.bcn.cl/historiapolitica/partidos_politicos/wiki/Coalición_por_el_Cambio",
         "https://www.bcn.cl/laborparlamentaria/imagen/partido102.jpg",
         "2019-03-29T11:14:07-03:00"
        ],
        [
         "1",
         "2",
         "Partido Radical",
         "",
         "PR",
         "1863",
         null,
         "https://www.bcn.cl/historiapolitica/partidos_politicos/wiki/Partido_Radical",
         null,
         "2019-03-29T11:14:07-03:00"
        ],
        [
         "2",
         "3",
         "Partido Amplio de Izquierda Socialista",
         "",
         null,
         "1988",
         null,
         "https://www.bcn.cl/historiapolitica/partidos_politicos/wiki/Partido_Amplio_de_Izquierda_Socialista",
         null,
         "2019-03-29T11:14:07-03:00"
        ],
        [
         "3",
         "4",
         "Unión Socialista Popular",
         "",
         null,
         "1967",
         null,
         "https://www.bcn.cl/historiapolitica/partidos_politicos/wiki/Unión_Socialista_Popular",
         null,
         "2019-03-29T11:14:07-03:00"
        ],
        [
         "4",
         "5",
         "Partido Agrario Laborista",
         "",
         null,
         "1945",
         null,
         "https://www.bcn.cl/historiapolitica/partidos_politicos/wiki/Partido_Agrario_Laborista",
         null,
         "2019-03-29T11:14:07-03:00"
        ]
       ],
       "shape": {
        "columns": 9,
        "rows": 5
       }
      },
      "text/html": [
       "<div>\n",
       "<style scoped>\n",
       "    .dataframe tbody tr th:only-of-type {\n",
       "        vertical-align: middle;\n",
       "    }\n",
       "\n",
       "    .dataframe tbody tr th {\n",
       "        vertical-align: top;\n",
       "    }\n",
       "\n",
       "    .dataframe thead th {\n",
       "        text-align: right;\n",
       "    }\n",
       "</style>\n",
       "<table border=\"1\" class=\"dataframe\">\n",
       "  <thead>\n",
       "    <tr style=\"text-align: right;\">\n",
       "      <th></th>\n",
       "      <th>partido_id</th>\n",
       "      <th>nombre_partido</th>\n",
       "      <th>nombre_alternativo</th>\n",
       "      <th>sigla</th>\n",
       "      <th>fecha_fundacion</th>\n",
       "      <th>sitio_web</th>\n",
       "      <th>url_historia_politica</th>\n",
       "      <th>url_logo</th>\n",
       "      <th>ultima_actualizacion</th>\n",
       "    </tr>\n",
       "  </thead>\n",
       "  <tbody>\n",
       "    <tr>\n",
       "      <th>0</th>\n",
       "      <td>1</td>\n",
       "      <td>Coalición por el Cambio</td>\n",
       "      <td></td>\n",
       "      <td>None</td>\n",
       "      <td>2009</td>\n",
       "      <td>None</td>\n",
       "      <td>https://www.bcn.cl/historiapolitica/partidos_p...</td>\n",
       "      <td>https://www.bcn.cl/laborparlamentaria/imagen/p...</td>\n",
       "      <td>2019-03-29T11:14:07-03:00</td>\n",
       "    </tr>\n",
       "    <tr>\n",
       "      <th>1</th>\n",
       "      <td>2</td>\n",
       "      <td>Partido Radical</td>\n",
       "      <td></td>\n",
       "      <td>PR</td>\n",
       "      <td>1863</td>\n",
       "      <td>None</td>\n",
       "      <td>https://www.bcn.cl/historiapolitica/partidos_p...</td>\n",
       "      <td>None</td>\n",
       "      <td>2019-03-29T11:14:07-03:00</td>\n",
       "    </tr>\n",
       "    <tr>\n",
       "      <th>2</th>\n",
       "      <td>3</td>\n",
       "      <td>Partido Amplio de Izquierda Socialista</td>\n",
       "      <td></td>\n",
       "      <td>None</td>\n",
       "      <td>1988</td>\n",
       "      <td>None</td>\n",
       "      <td>https://www.bcn.cl/historiapolitica/partidos_p...</td>\n",
       "      <td>None</td>\n",
       "      <td>2019-03-29T11:14:07-03:00</td>\n",
       "    </tr>\n",
       "    <tr>\n",
       "      <th>3</th>\n",
       "      <td>4</td>\n",
       "      <td>Unión Socialista Popular</td>\n",
       "      <td></td>\n",
       "      <td>None</td>\n",
       "      <td>1967</td>\n",
       "      <td>None</td>\n",
       "      <td>https://www.bcn.cl/historiapolitica/partidos_p...</td>\n",
       "      <td>None</td>\n",
       "      <td>2019-03-29T11:14:07-03:00</td>\n",
       "    </tr>\n",
       "    <tr>\n",
       "      <th>4</th>\n",
       "      <td>5</td>\n",
       "      <td>Partido Agrario Laborista</td>\n",
       "      <td></td>\n",
       "      <td>None</td>\n",
       "      <td>1945</td>\n",
       "      <td>None</td>\n",
       "      <td>https://www.bcn.cl/historiapolitica/partidos_p...</td>\n",
       "      <td>None</td>\n",
       "      <td>2019-03-29T11:14:07-03:00</td>\n",
       "    </tr>\n",
       "  </tbody>\n",
       "</table>\n",
       "</div>"
      ],
      "text/plain": [
       "   partido_id                          nombre_partido nombre_alternativo  \\\n",
       "0           1                 Coalición por el Cambio                      \n",
       "1           2                         Partido Radical                      \n",
       "2           3  Partido Amplio de Izquierda Socialista                      \n",
       "3           4                Unión Socialista Popular                      \n",
       "4           5               Partido Agrario Laborista                      \n",
       "\n",
       "  sigla fecha_fundacion sitio_web  \\\n",
       "0  None            2009      None   \n",
       "1    PR            1863      None   \n",
       "2  None            1988      None   \n",
       "3  None            1967      None   \n",
       "4  None            1945      None   \n",
       "\n",
       "                               url_historia_politica  \\\n",
       "0  https://www.bcn.cl/historiapolitica/partidos_p...   \n",
       "1  https://www.bcn.cl/historiapolitica/partidos_p...   \n",
       "2  https://www.bcn.cl/historiapolitica/partidos_p...   \n",
       "3  https://www.bcn.cl/historiapolitica/partidos_p...   \n",
       "4  https://www.bcn.cl/historiapolitica/partidos_p...   \n",
       "\n",
       "                                            url_logo  \\\n",
       "0  https://www.bcn.cl/laborparlamentaria/imagen/p...   \n",
       "1                                               None   \n",
       "2                                               None   \n",
       "3                                               None   \n",
       "4                                               None   \n",
       "\n",
       "        ultima_actualizacion  \n",
       "0  2019-03-29T11:14:07-03:00  \n",
       "1  2019-03-29T11:14:07-03:00  \n",
       "2  2019-03-29T11:14:07-03:00  \n",
       "3  2019-03-29T11:14:07-03:00  \n",
       "4  2019-03-29T11:14:07-03:00  "
      ]
     },
     "metadata": {},
     "output_type": "display_data"
    },
    {
     "data": {
      "text/markdown": [
       "--- \n",
       "### 🏛️ Tabla: `dim_coaliciones`"
      ],
      "text/plain": [
       "<IPython.core.display.Markdown object>"
      ]
     },
     "metadata": {},
     "output_type": "display_data"
    },
    {
     "data": {
      "text/markdown": [
       "_Esta tabla está actualmente vacía._"
      ],
      "text/plain": [
       "<IPython.core.display.Markdown object>"
      ]
     },
     "metadata": {},
     "output_type": "display_data"
    },
    {
     "data": {
      "text/markdown": [
       "--- \n",
       "### 🏛️ Tabla: `dim_comisiones`"
      ],
      "text/plain": [
       "<IPython.core.display.Markdown object>"
      ]
     },
     "metadata": {},
     "output_type": "display_data"
    },
    {
     "data": {
      "text/markdown": [
       "_Esta tabla está actualmente vacía._"
      ],
      "text/plain": [
       "<IPython.core.display.Markdown object>"
      ]
     },
     "metadata": {},
     "output_type": "display_data"
    },
    {
     "data": {
      "text/markdown": [
       "--- \n",
       "### 🏛️ Tabla: `dim_legislatura`"
      ],
      "text/plain": [
       "<IPython.core.display.Markdown object>"
      ]
     },
     "metadata": {},
     "output_type": "display_data"
    },
    {
     "data": {
      "application/vnd.microsoft.datawrangler.viewer.v0+json": {
       "columns": [
        {
         "name": "index",
         "rawType": "int64",
         "type": "integer"
        },
        {
         "name": "legislatura_id",
         "rawType": "int64",
         "type": "integer"
        },
        {
         "name": "numero",
         "rawType": "int64",
         "type": "integer"
        },
        {
         "name": "fecha_inicio",
         "rawType": "object",
         "type": "string"
        },
        {
         "name": "fecha_termino",
         "rawType": "object",
         "type": "string"
        },
        {
         "name": "tipo",
         "rawType": "object",
         "type": "string"
        }
       ],
       "ref": "33f1c8ae-bdf8-4d25-932d-3573c5fadd6f",
       "rows": [
        [
         "0",
         "3",
         "319",
         "1990-03-11",
         "1990-05-20",
         "Extraordinaria"
        ],
        [
         "1",
         "4",
         "320",
         "1990-05-21",
         "1990-09-17",
         "Ordinaria"
        ],
        [
         "2",
         "5",
         "321",
         "1990-09-18",
         "1991-05-20",
         "Extraordinaria"
        ],
        [
         "3",
         "6",
         "322",
         "1991-05-21",
         "1991-09-17",
         "Ordinaria"
        ],
        [
         "4",
         "7",
         "323",
         "1991-09-18",
         "1992-05-20",
         "Extraordinaria"
        ]
       ],
       "shape": {
        "columns": 5,
        "rows": 5
       }
      },
      "text/html": [
       "<div>\n",
       "<style scoped>\n",
       "    .dataframe tbody tr th:only-of-type {\n",
       "        vertical-align: middle;\n",
       "    }\n",
       "\n",
       "    .dataframe tbody tr th {\n",
       "        vertical-align: top;\n",
       "    }\n",
       "\n",
       "    .dataframe thead th {\n",
       "        text-align: right;\n",
       "    }\n",
       "</style>\n",
       "<table border=\"1\" class=\"dataframe\">\n",
       "  <thead>\n",
       "    <tr style=\"text-align: right;\">\n",
       "      <th></th>\n",
       "      <th>legislatura_id</th>\n",
       "      <th>numero</th>\n",
       "      <th>fecha_inicio</th>\n",
       "      <th>fecha_termino</th>\n",
       "      <th>tipo</th>\n",
       "    </tr>\n",
       "  </thead>\n",
       "  <tbody>\n",
       "    <tr>\n",
       "      <th>0</th>\n",
       "      <td>3</td>\n",
       "      <td>319</td>\n",
       "      <td>1990-03-11</td>\n",
       "      <td>1990-05-20</td>\n",
       "      <td>Extraordinaria</td>\n",
       "    </tr>\n",
       "    <tr>\n",
       "      <th>1</th>\n",
       "      <td>4</td>\n",
       "      <td>320</td>\n",
       "      <td>1990-05-21</td>\n",
       "      <td>1990-09-17</td>\n",
       "      <td>Ordinaria</td>\n",
       "    </tr>\n",
       "    <tr>\n",
       "      <th>2</th>\n",
       "      <td>5</td>\n",
       "      <td>321</td>\n",
       "      <td>1990-09-18</td>\n",
       "      <td>1991-05-20</td>\n",
       "      <td>Extraordinaria</td>\n",
       "    </tr>\n",
       "    <tr>\n",
       "      <th>3</th>\n",
       "      <td>6</td>\n",
       "      <td>322</td>\n",
       "      <td>1991-05-21</td>\n",
       "      <td>1991-09-17</td>\n",
       "      <td>Ordinaria</td>\n",
       "    </tr>\n",
       "    <tr>\n",
       "      <th>4</th>\n",
       "      <td>7</td>\n",
       "      <td>323</td>\n",
       "      <td>1991-09-18</td>\n",
       "      <td>1992-05-20</td>\n",
       "      <td>Extraordinaria</td>\n",
       "    </tr>\n",
       "  </tbody>\n",
       "</table>\n",
       "</div>"
      ],
      "text/plain": [
       "   legislatura_id  numero fecha_inicio fecha_termino            tipo\n",
       "0               3     319   1990-03-11    1990-05-20  Extraordinaria\n",
       "1               4     320   1990-05-21    1990-09-17       Ordinaria\n",
       "2               5     321   1990-09-18    1991-05-20  Extraordinaria\n",
       "3               6     322   1991-05-21    1991-09-17       Ordinaria\n",
       "4               7     323   1991-09-18    1992-05-20  Extraordinaria"
      ]
     },
     "metadata": {},
     "output_type": "display_data"
    },
    {
     "data": {
      "text/markdown": [
       "--- \n",
       "### 🏛️ Tabla: `parlamentario_mandatos`"
      ],
      "text/plain": [
       "<IPython.core.display.Markdown object>"
      ]
     },
     "metadata": {},
     "output_type": "display_data"
    },
    {
     "data": {
      "application/vnd.microsoft.datawrangler.viewer.v0+json": {
       "columns": [
        {
         "name": "index",
         "rawType": "int64",
         "type": "integer"
        },
        {
         "name": "mandato_id",
         "rawType": "int64",
         "type": "integer"
        },
        {
         "name": "mp_uid",
         "rawType": "int64",
         "type": "integer"
        },
        {
         "name": "cargo",
         "rawType": "object",
         "type": "string"
        },
        {
         "name": "distrito",
         "rawType": "object",
         "type": "unknown"
        },
        {
         "name": "partido_id_mandato",
         "rawType": "object",
         "type": "unknown"
        },
        {
         "name": "fecha_inicio",
         "rawType": "object",
         "type": "string"
        },
        {
         "name": "fecha_fin",
         "rawType": "object",
         "type": "unknown"
        }
       ],
       "ref": "c9e043cc-ee5c-473c-b47c-cb61caa019f3",
       "rows": [
        [
         "0",
         "1",
         "1",
         "Diputado",
         null,
         null,
         "2026-03-10",
         null
        ],
        [
         "1",
         "2",
         "2",
         "Diputado",
         null,
         null,
         "2026-03-10",
         null
        ],
        [
         "2",
         "3",
         "3",
         "Diputado",
         null,
         null,
         "2026-03-10",
         null
        ],
        [
         "3",
         "4",
         "4",
         "Diputado",
         null,
         null,
         "2026-03-10",
         null
        ],
        [
         "4",
         "5",
         "5",
         "Diputado",
         null,
         null,
         "2026-03-10",
         null
        ]
       ],
       "shape": {
        "columns": 7,
        "rows": 5
       }
      },
      "text/html": [
       "<div>\n",
       "<style scoped>\n",
       "    .dataframe tbody tr th:only-of-type {\n",
       "        vertical-align: middle;\n",
       "    }\n",
       "\n",
       "    .dataframe tbody tr th {\n",
       "        vertical-align: top;\n",
       "    }\n",
       "\n",
       "    .dataframe thead th {\n",
       "        text-align: right;\n",
       "    }\n",
       "</style>\n",
       "<table border=\"1\" class=\"dataframe\">\n",
       "  <thead>\n",
       "    <tr style=\"text-align: right;\">\n",
       "      <th></th>\n",
       "      <th>mandato_id</th>\n",
       "      <th>mp_uid</th>\n",
       "      <th>cargo</th>\n",
       "      <th>distrito</th>\n",
       "      <th>partido_id_mandato</th>\n",
       "      <th>fecha_inicio</th>\n",
       "      <th>fecha_fin</th>\n",
       "    </tr>\n",
       "  </thead>\n",
       "  <tbody>\n",
       "    <tr>\n",
       "      <th>0</th>\n",
       "      <td>1</td>\n",
       "      <td>1</td>\n",
       "      <td>Diputado</td>\n",
       "      <td>None</td>\n",
       "      <td>None</td>\n",
       "      <td>2026-03-10</td>\n",
       "      <td>None</td>\n",
       "    </tr>\n",
       "    <tr>\n",
       "      <th>1</th>\n",
       "      <td>2</td>\n",
       "      <td>2</td>\n",
       "      <td>Diputado</td>\n",
       "      <td>None</td>\n",
       "      <td>None</td>\n",
       "      <td>2026-03-10</td>\n",
       "      <td>None</td>\n",
       "    </tr>\n",
       "    <tr>\n",
       "      <th>2</th>\n",
       "      <td>3</td>\n",
       "      <td>3</td>\n",
       "      <td>Diputado</td>\n",
       "      <td>None</td>\n",
       "      <td>None</td>\n",
       "      <td>2026-03-10</td>\n",
       "      <td>None</td>\n",
       "    </tr>\n",
       "    <tr>\n",
       "      <th>3</th>\n",
       "      <td>4</td>\n",
       "      <td>4</td>\n",
       "      <td>Diputado</td>\n",
       "      <td>None</td>\n",
       "      <td>None</td>\n",
       "      <td>2026-03-10</td>\n",
       "      <td>None</td>\n",
       "    </tr>\n",
       "    <tr>\n",
       "      <th>4</th>\n",
       "      <td>5</td>\n",
       "      <td>5</td>\n",
       "      <td>Diputado</td>\n",
       "      <td>None</td>\n",
       "      <td>None</td>\n",
       "      <td>2026-03-10</td>\n",
       "      <td>None</td>\n",
       "    </tr>\n",
       "  </tbody>\n",
       "</table>\n",
       "</div>"
      ],
      "text/plain": [
       "   mandato_id  mp_uid     cargo distrito partido_id_mandato fecha_inicio  \\\n",
       "0           1       1  Diputado     None               None   2026-03-10   \n",
       "1           2       2  Diputado     None               None   2026-03-10   \n",
       "2           3       3  Diputado     None               None   2026-03-10   \n",
       "3           4       4  Diputado     None               None   2026-03-10   \n",
       "4           5       5  Diputado     None               None   2026-03-10   \n",
       "\n",
       "  fecha_fin  \n",
       "0      None  \n",
       "1      None  \n",
       "2      None  \n",
       "3      None  \n",
       "4      None  "
      ]
     },
     "metadata": {},
     "output_type": "display_data"
    },
    {
     "data": {
      "text/markdown": [
       "--- \n",
       "### 🏛️ Tabla: `militancia_historial`"
      ],
      "text/plain": [
       "<IPython.core.display.Markdown object>"
      ]
     },
     "metadata": {},
     "output_type": "display_data"
    },
    {
     "data": {
      "application/vnd.microsoft.datawrangler.viewer.v0+json": {
       "columns": [
        {
         "name": "index",
         "rawType": "int64",
         "type": "integer"
        },
        {
         "name": "militancia_id",
         "rawType": "int64",
         "type": "integer"
        },
        {
         "name": "mp_uid",
         "rawType": "int64",
         "type": "integer"
        },
        {
         "name": "partido_id",
         "rawType": "int64",
         "type": "integer"
        },
        {
         "name": "fecha_inicio",
         "rawType": "object",
         "type": "string"
        },
        {
         "name": "fecha_fin",
         "rawType": "object",
         "type": "string"
        }
       ],
       "ref": "6c5ed9e4-fe1f-421d-85da-0f680142a078",
       "rows": [
        [
         "0",
         "1",
         "2",
         "53",
         "2022-03-11",
         "2026-03-10"
        ],
        [
         "1",
         "2",
         "4",
         "61",
         "2018-03-11",
         "2022-03-10"
        ],
        [
         "2",
         "3",
         "4",
         "61",
         "2022-03-11",
         "2026-03-10"
        ],
        [
         "3",
         "4",
         "5",
         "128",
         "2006-03-11",
         "2010-03-10"
        ],
        [
         "4",
         "5",
         "13",
         "53",
         "2022-03-11",
         "2026-03-10"
        ]
       ],
       "shape": {
        "columns": 5,
        "rows": 5
       }
      },
      "text/html": [
       "<div>\n",
       "<style scoped>\n",
       "    .dataframe tbody tr th:only-of-type {\n",
       "        vertical-align: middle;\n",
       "    }\n",
       "\n",
       "    .dataframe tbody tr th {\n",
       "        vertical-align: top;\n",
       "    }\n",
       "\n",
       "    .dataframe thead th {\n",
       "        text-align: right;\n",
       "    }\n",
       "</style>\n",
       "<table border=\"1\" class=\"dataframe\">\n",
       "  <thead>\n",
       "    <tr style=\"text-align: right;\">\n",
       "      <th></th>\n",
       "      <th>militancia_id</th>\n",
       "      <th>mp_uid</th>\n",
       "      <th>partido_id</th>\n",
       "      <th>fecha_inicio</th>\n",
       "      <th>fecha_fin</th>\n",
       "    </tr>\n",
       "  </thead>\n",
       "  <tbody>\n",
       "    <tr>\n",
       "      <th>0</th>\n",
       "      <td>1</td>\n",
       "      <td>2</td>\n",
       "      <td>53</td>\n",
       "      <td>2022-03-11</td>\n",
       "      <td>2026-03-10</td>\n",
       "    </tr>\n",
       "    <tr>\n",
       "      <th>1</th>\n",
       "      <td>2</td>\n",
       "      <td>4</td>\n",
       "      <td>61</td>\n",
       "      <td>2018-03-11</td>\n",
       "      <td>2022-03-10</td>\n",
       "    </tr>\n",
       "    <tr>\n",
       "      <th>2</th>\n",
       "      <td>3</td>\n",
       "      <td>4</td>\n",
       "      <td>61</td>\n",
       "      <td>2022-03-11</td>\n",
       "      <td>2026-03-10</td>\n",
       "    </tr>\n",
       "    <tr>\n",
       "      <th>3</th>\n",
       "      <td>4</td>\n",
       "      <td>5</td>\n",
       "      <td>128</td>\n",
       "      <td>2006-03-11</td>\n",
       "      <td>2010-03-10</td>\n",
       "    </tr>\n",
       "    <tr>\n",
       "      <th>4</th>\n",
       "      <td>5</td>\n",
       "      <td>13</td>\n",
       "      <td>53</td>\n",
       "      <td>2022-03-11</td>\n",
       "      <td>2026-03-10</td>\n",
       "    </tr>\n",
       "  </tbody>\n",
       "</table>\n",
       "</div>"
      ],
      "text/plain": [
       "   militancia_id  mp_uid  partido_id fecha_inicio   fecha_fin\n",
       "0              1       2          53   2022-03-11  2026-03-10\n",
       "1              2       4          61   2018-03-11  2022-03-10\n",
       "2              3       4          61   2022-03-11  2026-03-10\n",
       "3              4       5         128   2006-03-11  2010-03-10\n",
       "4              5      13          53   2022-03-11  2026-03-10"
      ]
     },
     "metadata": {},
     "output_type": "display_data"
    },
    {
     "data": {
      "text/markdown": [
       "--- \n",
       "### 🏛️ Tabla: `comision_membresias`"
      ],
      "text/plain": [
       "<IPython.core.display.Markdown object>"
      ]
     },
     "metadata": {},
     "output_type": "display_data"
    },
    {
     "data": {
      "text/markdown": [
       "_Esta tabla está actualmente vacía._"
      ],
      "text/plain": [
       "<IPython.core.display.Markdown object>"
      ]
     },
     "metadata": {},
     "output_type": "display_data"
    },
    {
     "data": {
      "text/markdown": [
       "--- \n",
       "### 🏛️ Tabla: `electoral_results`"
      ],
      "text/plain": [
       "<IPython.core.display.Markdown object>"
      ]
     },
     "metadata": {},
     "output_type": "display_data"
    },
    {
     "data": {
      "text/markdown": [
       "_Esta tabla está actualmente vacía._"
      ],
      "text/plain": [
       "<IPython.core.display.Markdown object>"
      ]
     },
     "metadata": {},
     "output_type": "display_data"
    },
    {
     "data": {
      "text/markdown": [
       "--- \n",
       "### 🏛️ Tabla: `educacion`"
      ],
      "text/plain": [
       "<IPython.core.display.Markdown object>"
      ]
     },
     "metadata": {},
     "output_type": "display_data"
    },
    {
     "data": {
      "text/markdown": [
       "_Esta tabla está actualmente vacía._"
      ],
      "text/plain": [
       "<IPython.core.display.Markdown object>"
      ]
     },
     "metadata": {},
     "output_type": "display_data"
    },
    {
     "data": {
      "text/markdown": [
       "--- \n",
       "### 🏛️ Tabla: `bills`"
      ],
      "text/plain": [
       "<IPython.core.display.Markdown object>"
      ]
     },
     "metadata": {},
     "output_type": "display_data"
    },
    {
     "data": {
      "application/vnd.microsoft.datawrangler.viewer.v0+json": {
       "columns": [
        {
         "name": "index",
         "rawType": "int64",
         "type": "integer"
        },
        {
         "name": "bill_id",
         "rawType": "object",
         "type": "string"
        },
        {
         "name": "titulo",
         "rawType": "object",
         "type": "string"
        },
        {
         "name": "resumen",
         "rawType": "object",
         "type": "string"
        },
        {
         "name": "fecha_ingreso",
         "rawType": "object",
         "type": "string"
        },
        {
         "name": "etapa",
         "rawType": "object",
         "type": "unknown"
        },
        {
         "name": "iniciativa",
         "rawType": "object",
         "type": "unknown"
        },
        {
         "name": "origen",
         "rawType": "object",
         "type": "unknown"
        },
        {
         "name": "urgencia",
         "rawType": "object",
         "type": "string"
        },
        {
         "name": "resultado_final",
         "rawType": "object",
         "type": "unknown"
        },
        {
         "name": "ley_numero",
         "rawType": "object",
         "type": "unknown"
        },
        {
         "name": "ley_fecha_publicacion",
         "rawType": "object",
         "type": "unknown"
        }
       ],
       "ref": "2f654385-0645-421e-8ab5-52e31ad352a7",
       "rows": [
        [
         "0",
         "16357-06",
         "Modifica la legislación electoral para establecer el voto obligatorio y perfeccionar el sistema electoral.",
         "Modifica la legislación electoral para establecer el voto obligatorio y perfeccionar el sistema electoral.",
         "2023-10-11",
         null,
         null,
         null,
         "Sin urgencia",
         null,
         null,
         null
        ],
        [
         "1",
         "16397-15",
         "Modifica la ley N° 18.290, de Tránsito, para aumentar las sanciones por no usar sistemas de retención infantil y por trasladar menores de 12 años en asientos delanteros",
         "Modifica la ley N° 18.290, de Tránsito, para aumentar las sanciones por no usar sistemas de retención infantil y por trasladar menores de 12 años en asientos delanteros",
         "2023-10-31",
         null,
         null,
         null,
         "Sin urgencia",
         null,
         null,
         null
        ],
        [
         "2",
         "16358-35",
         "Modifica diversos cuerpos legales para garantizar la accesibilidad universal a la información pública",
         "Modifica diversos cuerpos legales para garantizar la accesibilidad universal a la información pública",
         "2023-10-12",
         null,
         null,
         null,
         "Sin urgencia",
         null,
         null,
         null
        ],
        [
         "3",
         "16362-11",
         "Garantiza el acceso a un sistema de georreferenciación como medida preventiva de extravío para personas con enfermedad de Alzheimer, demencia senil o trastorno del espectro autista",
         "Garantiza el acceso a un sistema de georreferenciación como medida preventiva de extravío para personas con enfermedad de Alzheimer, demencia senil o trastorno del espectro autista",
         "2023-10-12",
         null,
         null,
         null,
         "Sin urgencia",
         null,
         null,
         null
        ],
        [
         "4",
         "16393-06",
         "Modifica la ley N° 18.700, orgánica constitucional sobre votaciones populares y escrutinios, para regular la propaganda electoral a través de redes sociales y otras plataformas digitales",
         "Modifica la ley N° 18.700, orgánica constitucional sobre votaciones populares y escrutinios, para regular la propaganda electoral a través de redes sociales y otras plataformas digitales",
         "2023-10-25",
         null,
         null,
         null,
         "Sin urgencia",
         null,
         null,
         null
        ]
       ],
       "shape": {
        "columns": 11,
        "rows": 5
       }
      },
      "text/html": [
       "<div>\n",
       "<style scoped>\n",
       "    .dataframe tbody tr th:only-of-type {\n",
       "        vertical-align: middle;\n",
       "    }\n",
       "\n",
       "    .dataframe tbody tr th {\n",
       "        vertical-align: top;\n",
       "    }\n",
       "\n",
       "    .dataframe thead th {\n",
       "        text-align: right;\n",
       "    }\n",
       "</style>\n",
       "<table border=\"1\" class=\"dataframe\">\n",
       "  <thead>\n",
       "    <tr style=\"text-align: right;\">\n",
       "      <th></th>\n",
       "      <th>bill_id</th>\n",
       "      <th>titulo</th>\n",
       "      <th>resumen</th>\n",
       "      <th>fecha_ingreso</th>\n",
       "      <th>etapa</th>\n",
       "      <th>iniciativa</th>\n",
       "      <th>origen</th>\n",
       "      <th>urgencia</th>\n",
       "      <th>resultado_final</th>\n",
       "      <th>ley_numero</th>\n",
       "      <th>ley_fecha_publicacion</th>\n",
       "    </tr>\n",
       "  </thead>\n",
       "  <tbody>\n",
       "    <tr>\n",
       "      <th>0</th>\n",
       "      <td>16357-06</td>\n",
       "      <td>Modifica la legislación electoral para estable...</td>\n",
       "      <td>Modifica la legislación electoral para estable...</td>\n",
       "      <td>2023-10-11</td>\n",
       "      <td>None</td>\n",
       "      <td>None</td>\n",
       "      <td>None</td>\n",
       "      <td>Sin urgencia</td>\n",
       "      <td>None</td>\n",
       "      <td>None</td>\n",
       "      <td>None</td>\n",
       "    </tr>\n",
       "    <tr>\n",
       "      <th>1</th>\n",
       "      <td>16397-15</td>\n",
       "      <td>Modifica la ley N° 18.290, de Tránsito, para a...</td>\n",
       "      <td>Modifica la ley N° 18.290, de Tránsito, para a...</td>\n",
       "      <td>2023-10-31</td>\n",
       "      <td>None</td>\n",
       "      <td>None</td>\n",
       "      <td>None</td>\n",
       "      <td>Sin urgencia</td>\n",
       "      <td>None</td>\n",
       "      <td>None</td>\n",
       "      <td>None</td>\n",
       "    </tr>\n",
       "    <tr>\n",
       "      <th>2</th>\n",
       "      <td>16358-35</td>\n",
       "      <td>Modifica diversos cuerpos legales para garanti...</td>\n",
       "      <td>Modifica diversos cuerpos legales para garanti...</td>\n",
       "      <td>2023-10-12</td>\n",
       "      <td>None</td>\n",
       "      <td>None</td>\n",
       "      <td>None</td>\n",
       "      <td>Sin urgencia</td>\n",
       "      <td>None</td>\n",
       "      <td>None</td>\n",
       "      <td>None</td>\n",
       "    </tr>\n",
       "    <tr>\n",
       "      <th>3</th>\n",
       "      <td>16362-11</td>\n",
       "      <td>Garantiza el acceso a un sistema de georrefere...</td>\n",
       "      <td>Garantiza el acceso a un sistema de georrefere...</td>\n",
       "      <td>2023-10-12</td>\n",
       "      <td>None</td>\n",
       "      <td>None</td>\n",
       "      <td>None</td>\n",
       "      <td>Sin urgencia</td>\n",
       "      <td>None</td>\n",
       "      <td>None</td>\n",
       "      <td>None</td>\n",
       "    </tr>\n",
       "    <tr>\n",
       "      <th>4</th>\n",
       "      <td>16393-06</td>\n",
       "      <td>Modifica la ley N° 18.700, orgánica constituci...</td>\n",
       "      <td>Modifica la ley N° 18.700, orgánica constituci...</td>\n",
       "      <td>2023-10-25</td>\n",
       "      <td>None</td>\n",
       "      <td>None</td>\n",
       "      <td>None</td>\n",
       "      <td>Sin urgencia</td>\n",
       "      <td>None</td>\n",
       "      <td>None</td>\n",
       "      <td>None</td>\n",
       "    </tr>\n",
       "  </tbody>\n",
       "</table>\n",
       "</div>"
      ],
      "text/plain": [
       "    bill_id                                             titulo  \\\n",
       "0  16357-06  Modifica la legislación electoral para estable...   \n",
       "1  16397-15  Modifica la ley N° 18.290, de Tránsito, para a...   \n",
       "2  16358-35  Modifica diversos cuerpos legales para garanti...   \n",
       "3  16362-11  Garantiza el acceso a un sistema de georrefere...   \n",
       "4  16393-06  Modifica la ley N° 18.700, orgánica constituci...   \n",
       "\n",
       "                                             resumen fecha_ingreso etapa  \\\n",
       "0  Modifica la legislación electoral para estable...    2023-10-11  None   \n",
       "1  Modifica la ley N° 18.290, de Tránsito, para a...    2023-10-31  None   \n",
       "2  Modifica diversos cuerpos legales para garanti...    2023-10-12  None   \n",
       "3  Garantiza el acceso a un sistema de georrefere...    2023-10-12  None   \n",
       "4  Modifica la ley N° 18.700, orgánica constituci...    2023-10-25  None   \n",
       "\n",
       "  iniciativa origen      urgencia resultado_final ley_numero  \\\n",
       "0       None   None  Sin urgencia            None       None   \n",
       "1       None   None  Sin urgencia            None       None   \n",
       "2       None   None  Sin urgencia            None       None   \n",
       "3       None   None  Sin urgencia            None       None   \n",
       "4       None   None  Sin urgencia            None       None   \n",
       "\n",
       "  ley_fecha_publicacion  \n",
       "0                  None  \n",
       "1                  None  \n",
       "2                  None  \n",
       "3                  None  \n",
       "4                  None  "
      ]
     },
     "metadata": {},
     "output_type": "display_data"
    },
    {
     "data": {
      "text/markdown": [
       "--- \n",
       "### 🏛️ Tabla: `bill_authors`"
      ],
      "text/plain": [
       "<IPython.core.display.Markdown object>"
      ]
     },
     "metadata": {},
     "output_type": "display_data"
    },
    {
     "data": {
      "application/vnd.microsoft.datawrangler.viewer.v0+json": {
       "columns": [
        {
         "name": "index",
         "rawType": "int64",
         "type": "integer"
        },
        {
         "name": "bill_id",
         "rawType": "object",
         "type": "string"
        },
        {
         "name": "mp_uid",
         "rawType": "int64",
         "type": "integer"
        }
       ],
       "ref": "0a47a5e1-24d2-4675-90f3-3ebca8ebc486",
       "rows": [
        [
         "0",
         "16367-07",
         "74"
        ],
        [
         "1",
         "16367-07",
         "80"
        ],
        [
         "2",
         "16367-07",
         "139"
        ],
        [
         "3",
         "16367-07",
         "6"
        ],
        [
         "4",
         "16367-07",
         "56"
        ]
       ],
       "shape": {
        "columns": 2,
        "rows": 5
       }
      },
      "text/html": [
       "<div>\n",
       "<style scoped>\n",
       "    .dataframe tbody tr th:only-of-type {\n",
       "        vertical-align: middle;\n",
       "    }\n",
       "\n",
       "    .dataframe tbody tr th {\n",
       "        vertical-align: top;\n",
       "    }\n",
       "\n",
       "    .dataframe thead th {\n",
       "        text-align: right;\n",
       "    }\n",
       "</style>\n",
       "<table border=\"1\" class=\"dataframe\">\n",
       "  <thead>\n",
       "    <tr style=\"text-align: right;\">\n",
       "      <th></th>\n",
       "      <th>bill_id</th>\n",
       "      <th>mp_uid</th>\n",
       "    </tr>\n",
       "  </thead>\n",
       "  <tbody>\n",
       "    <tr>\n",
       "      <th>0</th>\n",
       "      <td>16367-07</td>\n",
       "      <td>74</td>\n",
       "    </tr>\n",
       "    <tr>\n",
       "      <th>1</th>\n",
       "      <td>16367-07</td>\n",
       "      <td>80</td>\n",
       "    </tr>\n",
       "    <tr>\n",
       "      <th>2</th>\n",
       "      <td>16367-07</td>\n",
       "      <td>139</td>\n",
       "    </tr>\n",
       "    <tr>\n",
       "      <th>3</th>\n",
       "      <td>16367-07</td>\n",
       "      <td>6</td>\n",
       "    </tr>\n",
       "    <tr>\n",
       "      <th>4</th>\n",
       "      <td>16367-07</td>\n",
       "      <td>56</td>\n",
       "    </tr>\n",
       "  </tbody>\n",
       "</table>\n",
       "</div>"
      ],
      "text/plain": [
       "    bill_id  mp_uid\n",
       "0  16367-07      74\n",
       "1  16367-07      80\n",
       "2  16367-07     139\n",
       "3  16367-07       6\n",
       "4  16367-07      56"
      ]
     },
     "metadata": {},
     "output_type": "display_data"
    },
    {
     "data": {
      "text/markdown": [
       "--- \n",
       "### 🏛️ Tabla: `sesiones_votacion`"
      ],
      "text/plain": [
       "<IPython.core.display.Markdown object>"
      ]
     },
     "metadata": {},
     "output_type": "display_data"
    },
    {
     "data": {
      "application/vnd.microsoft.datawrangler.viewer.v0+json": {
       "columns": [
        {
         "name": "index",
         "rawType": "int64",
         "type": "integer"
        },
        {
         "name": "sesion_votacion_id",
         "rawType": "int64",
         "type": "integer"
        },
        {
         "name": "bill_id",
         "rawType": "object",
         "type": "string"
        },
        {
         "name": "fecha",
         "rawType": "object",
         "type": "string"
        },
        {
         "name": "tema",
         "rawType": "object",
         "type": "string"
        },
        {
         "name": "resultado_general",
         "rawType": "object",
         "type": "string"
        },
        {
         "name": "quorum_aplicado",
         "rawType": "object",
         "type": "string"
        },
        {
         "name": "a_favor_total",
         "rawType": "int64",
         "type": "integer"
        },
        {
         "name": "en_contra_total",
         "rawType": "int64",
         "type": "integer"
        },
        {
         "name": "abstencion_total",
         "rawType": "int64",
         "type": "integer"
        },
        {
         "name": "pareo_total",
         "rawType": "int64",
         "type": "integer"
        }
       ],
       "ref": "f39e3f63-4107-472d-a815-aeb4e00db2ed",
       "rows": [
        [
         "0",
         "32305",
         "16389-10",
         "2023-11-08",
         "Boletín N° 16389-10",
         "Aprobado",
         "Quórum Simple",
         "141",
         "0",
         "0",
         "0"
        ]
       ],
       "shape": {
        "columns": 10,
        "rows": 1
       }
      },
      "text/html": [
       "<div>\n",
       "<style scoped>\n",
       "    .dataframe tbody tr th:only-of-type {\n",
       "        vertical-align: middle;\n",
       "    }\n",
       "\n",
       "    .dataframe tbody tr th {\n",
       "        vertical-align: top;\n",
       "    }\n",
       "\n",
       "    .dataframe thead th {\n",
       "        text-align: right;\n",
       "    }\n",
       "</style>\n",
       "<table border=\"1\" class=\"dataframe\">\n",
       "  <thead>\n",
       "    <tr style=\"text-align: right;\">\n",
       "      <th></th>\n",
       "      <th>sesion_votacion_id</th>\n",
       "      <th>bill_id</th>\n",
       "      <th>fecha</th>\n",
       "      <th>tema</th>\n",
       "      <th>resultado_general</th>\n",
       "      <th>quorum_aplicado</th>\n",
       "      <th>a_favor_total</th>\n",
       "      <th>en_contra_total</th>\n",
       "      <th>abstencion_total</th>\n",
       "      <th>pareo_total</th>\n",
       "    </tr>\n",
       "  </thead>\n",
       "  <tbody>\n",
       "    <tr>\n",
       "      <th>0</th>\n",
       "      <td>32305</td>\n",
       "      <td>16389-10</td>\n",
       "      <td>2023-11-08</td>\n",
       "      <td>Boletín N° 16389-10</td>\n",
       "      <td>Aprobado</td>\n",
       "      <td>Quórum Simple</td>\n",
       "      <td>141</td>\n",
       "      <td>0</td>\n",
       "      <td>0</td>\n",
       "      <td>0</td>\n",
       "    </tr>\n",
       "  </tbody>\n",
       "</table>\n",
       "</div>"
      ],
      "text/plain": [
       "   sesion_votacion_id   bill_id       fecha                 tema  \\\n",
       "0               32305  16389-10  2023-11-08  Boletín N° 16389-10   \n",
       "\n",
       "  resultado_general quorum_aplicado  a_favor_total  en_contra_total  \\\n",
       "0          Aprobado   Quórum Simple            141                0   \n",
       "\n",
       "   abstencion_total  pareo_total  \n",
       "0                 0            0  "
      ]
     },
     "metadata": {},
     "output_type": "display_data"
    },
    {
     "data": {
      "text/markdown": [
       "--- \n",
       "### 🏛️ Tabla: `votos_parlamentario`"
      ],
      "text/plain": [
       "<IPython.core.display.Markdown object>"
      ]
     },
     "metadata": {},
     "output_type": "display_data"
    },
    {
     "data": {
      "application/vnd.microsoft.datawrangler.viewer.v0+json": {
       "columns": [
        {
         "name": "index",
         "rawType": "int64",
         "type": "integer"
        },
        {
         "name": "voto_id",
         "rawType": "int64",
         "type": "integer"
        },
        {
         "name": "sesion_votacion_id",
         "rawType": "int64",
         "type": "integer"
        },
        {
         "name": "mp_uid",
         "rawType": "int64",
         "type": "integer"
        },
        {
         "name": "voto",
         "rawType": "object",
         "type": "string"
        }
       ],
       "ref": "3e30c763-6261-4301-88c1-037859470428",
       "rows": [
        [
         "0",
         "1",
         "32305",
         "1",
         "A Favor"
        ],
        [
         "1",
         "2",
         "32305",
         "2",
         "A Favor"
        ],
        [
         "2",
         "3",
         "32305",
         "3",
         "A Favor"
        ],
        [
         "3",
         "4",
         "32305",
         "4",
         "A Favor"
        ],
        [
         "4",
         "5",
         "32305",
         "5",
         "A Favor"
        ]
       ],
       "shape": {
        "columns": 4,
        "rows": 5
       }
      },
      "text/html": [
       "<div>\n",
       "<style scoped>\n",
       "    .dataframe tbody tr th:only-of-type {\n",
       "        vertical-align: middle;\n",
       "    }\n",
       "\n",
       "    .dataframe tbody tr th {\n",
       "        vertical-align: top;\n",
       "    }\n",
       "\n",
       "    .dataframe thead th {\n",
       "        text-align: right;\n",
       "    }\n",
       "</style>\n",
       "<table border=\"1\" class=\"dataframe\">\n",
       "  <thead>\n",
       "    <tr style=\"text-align: right;\">\n",
       "      <th></th>\n",
       "      <th>voto_id</th>\n",
       "      <th>sesion_votacion_id</th>\n",
       "      <th>mp_uid</th>\n",
       "      <th>voto</th>\n",
       "    </tr>\n",
       "  </thead>\n",
       "  <tbody>\n",
       "    <tr>\n",
       "      <th>0</th>\n",
       "      <td>1</td>\n",
       "      <td>32305</td>\n",
       "      <td>1</td>\n",
       "      <td>A Favor</td>\n",
       "    </tr>\n",
       "    <tr>\n",
       "      <th>1</th>\n",
       "      <td>2</td>\n",
       "      <td>32305</td>\n",
       "      <td>2</td>\n",
       "      <td>A Favor</td>\n",
       "    </tr>\n",
       "    <tr>\n",
       "      <th>2</th>\n",
       "      <td>3</td>\n",
       "      <td>32305</td>\n",
       "      <td>3</td>\n",
       "      <td>A Favor</td>\n",
       "    </tr>\n",
       "    <tr>\n",
       "      <th>3</th>\n",
       "      <td>4</td>\n",
       "      <td>32305</td>\n",
       "      <td>4</td>\n",
       "      <td>A Favor</td>\n",
       "    </tr>\n",
       "    <tr>\n",
       "      <th>4</th>\n",
       "      <td>5</td>\n",
       "      <td>32305</td>\n",
       "      <td>5</td>\n",
       "      <td>A Favor</td>\n",
       "    </tr>\n",
       "  </tbody>\n",
       "</table>\n",
       "</div>"
      ],
      "text/plain": [
       "   voto_id  sesion_votacion_id  mp_uid     voto\n",
       "0        1               32305       1  A Favor\n",
       "1        2               32305       2  A Favor\n",
       "2        3               32305       3  A Favor\n",
       "3        4               32305       4  A Favor\n",
       "4        5               32305       5  A Favor"
      ]
     },
     "metadata": {},
     "output_type": "display_data"
    },
    {
     "data": {
      "text/markdown": [
       "--- \n",
       "### 🏛️ Tabla: `speech_turns`"
      ],
      "text/plain": [
       "<IPython.core.display.Markdown object>"
      ]
     },
     "metadata": {},
     "output_type": "display_data"
    },
    {
     "data": {
      "text/markdown": [
       "_Esta tabla está actualmente vacía._"
      ],
      "text/plain": [
       "<IPython.core.display.Markdown object>"
      ]
     },
     "metadata": {},
     "output_type": "display_data"
    },
    {
     "data": {
      "text/markdown": [
       "--- \n",
       "### 🏛️ Tabla: `interactions`"
      ],
      "text/plain": [
       "<IPython.core.display.Markdown object>"
      ]
     },
     "metadata": {},
     "output_type": "display_data"
    },
    {
     "data": {
      "text/markdown": [
       "_Esta tabla está actualmente vacía._"
      ],
      "text/plain": [
       "<IPython.core.display.Markdown object>"
      ]
     },
     "metadata": {},
     "output_type": "display_data"
    }
   ],
   "source": [
    "import sqlite3\n",
    "import pandas as pd\n",
    "from IPython.display import display, Markdown\n",
    "\n",
    "# --- CONFIGURACIÓN ---\n",
    "# Ruta a tu base de datos\n",
    "DB_PATH = 'data/database/parlamento.db'\n",
    "# Número de filas a mostrar por tabla\n",
    "LIMIT = 5\n",
    "\n",
    "def display_database_overview(db_path, limit):\n",
    "    \"\"\"\n",
    "    Se conecta a la BD y muestra las primeras N filas de cada tabla\n",
    "    de manera ordenada en un notebook.\n",
    "    \"\"\"\n",
    "    try:\n",
    "        with sqlite3.connect(db_path) as conn:\n",
    "            cursor = conn.cursor()\n",
    "            \n",
    "            # Obtener la lista de todas las tablas\n",
    "            cursor.execute(\"SELECT name FROM sqlite_master WHERE type='table';\")\n",
    "            tables = [table[0] for table in cursor.fetchall()]\n",
    "            \n",
    "            display(Markdown(f\"# 📊 Resumen de la Base de Datos: `{db_path}`\"))\n",
    "            display(Markdown(f\"Mostrando las primeras **{limit} filas** de cada tabla.\"))\n",
    "            \n",
    "            for table in tables:\n",
    "                if table.startswith('sqlite_'):\n",
    "                    continue\n",
    "                \n",
    "                try:\n",
    "                    # Usar pandas para leer la consulta SQL y obtener un DataFrame\n",
    "                    df = pd.read_sql_query(f\"SELECT * FROM {table} LIMIT {limit}\", conn)\n",
    "                    \n",
    "                    # Mostrar el nombre de la tabla como un título\n",
    "                    display(Markdown(f\"--- \\n### 🏛️ Tabla: `{table}`\"))\n",
    "                    \n",
    "                    if df.empty:\n",
    "                        display(Markdown(\"_Esta tabla está actualmente vacía._\"))\n",
    "                    else:\n",
    "                        # La función display() renderiza el DataFrame como una tabla HTML\n",
    "                        display(df)\n",
    "                        \n",
    "                except Exception as e:\n",
    "                    display(Markdown(f\"No se pudo leer la tabla `{table}`. Error: {e}\"))\n",
    "\n",
    "    except sqlite3.Error as e:\n",
    "        print(f\"❌ Error de base de datos: {e}\")\n",
    "\n",
    "# --- Ejecutar la función para mostrar el resumen ---\n",
    "display_database_overview(DB_PATH, LIMIT)"
   ]
  }
 ],
 "metadata": {
  "kernelspec": {
   "display_name": "Python 3",
   "language": "python",
   "name": "python3"
  },
  "language_info": {
   "codemirror_mode": {
    "name": "ipython",
    "version": 3
   },
   "file_extension": ".py",
   "mimetype": "text/x-python",
   "name": "python",
   "nbconvert_exporter": "python",
   "pygments_lexer": "ipython3",
   "version": "3.12.5"
  }
 },
 "nbformat": 4,
 "nbformat_minor": 5
}
