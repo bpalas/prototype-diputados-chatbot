{
 "cells": [
  {
   "cell_type": "code",
   "execution_count": 19,
   "id": "7e41cec6",
   "metadata": {},
   "outputs": [
    {
     "name": "stdout",
     "output_type": "stream",
     "text": [
      "✅ Conexión a la base de datos exitosa.\n"
     ]
    },
    {
     "data": {
      "text/markdown": [
       "# 📖 Análisis del Proyecto de Ley: 2439-20"
      ],
      "text/plain": [
       "<IPython.core.display.Markdown object>"
      ]
     },
     "metadata": {},
     "output_type": "display_data"
    },
    {
     "data": {
      "text/markdown": [
       "--- \n",
       "## ℹ️ Ficha Principal del Proyecto"
      ],
      "text/plain": [
       "<IPython.core.display.Markdown object>"
      ]
     },
     "metadata": {},
     "output_type": "display_data"
    },
    {
     "data": {
      "application/vnd.microsoft.datawrangler.viewer.v0+json": {
       "columns": [
        {
         "name": "index",
         "rawType": "object",
         "type": "string"
        },
        {
         "name": "2439-20",
         "rawType": "object",
         "type": "unknown"
        }
       ],
       "ref": "d2820a8e-3fa0-4847-a5d8-7234942208ac",
       "rows": [
        [
         "titulo",
         "Sustituye ley N° 19.366, que sanciona el tráfico ilícito de estupefacientes y sustancias sicotrópicas."
        ],
        [
         "resumen",
         null
        ],
        [
         "tipo_proyecto",
         null
        ],
        [
         "fecha_ingreso",
         "1999-12-14"
        ],
        [
         "etapa",
         "Tramitación terminada"
        ],
        [
         "subetapa",
         "/"
        ],
        [
         "iniciativa",
         "Mensaje"
        ],
        [
         "origen",
         "C.Diputados"
        ],
        [
         "urgencia",
         "Sin urgencia"
        ],
        [
         "resultado_final",
         "Publicado"
        ],
        [
         "estado",
         "PUBLICADO"
        ],
        [
         "refundidos",
         ""
        ],
        [
         "numero_ley",
         "20000"
        ],
        [
         "norma_id",
         "1"
        ],
        [
         "fecha_actualizacion",
         "2025-09-07 21:01:13"
        ]
       ],
       "shape": {
        "columns": 1,
        "rows": 15
       }
      },
      "text/html": [
       "<div>\n",
       "<style scoped>\n",
       "    .dataframe tbody tr th:only-of-type {\n",
       "        vertical-align: middle;\n",
       "    }\n",
       "\n",
       "    .dataframe tbody tr th {\n",
       "        vertical-align: top;\n",
       "    }\n",
       "\n",
       "    .dataframe thead th {\n",
       "        text-align: right;\n",
       "    }\n",
       "</style>\n",
       "<table border=\"1\" class=\"dataframe\">\n",
       "  <thead>\n",
       "    <tr style=\"text-align: right;\">\n",
       "      <th>bill_id</th>\n",
       "      <th>2439-20</th>\n",
       "    </tr>\n",
       "  </thead>\n",
       "  <tbody>\n",
       "    <tr>\n",
       "      <th>titulo</th>\n",
       "      <td>Sustituye ley N° 19.366, que sanciona el tráfi...</td>\n",
       "    </tr>\n",
       "    <tr>\n",
       "      <th>resumen</th>\n",
       "      <td>None</td>\n",
       "    </tr>\n",
       "    <tr>\n",
       "      <th>tipo_proyecto</th>\n",
       "      <td>None</td>\n",
       "    </tr>\n",
       "    <tr>\n",
       "      <th>fecha_ingreso</th>\n",
       "      <td>1999-12-14</td>\n",
       "    </tr>\n",
       "    <tr>\n",
       "      <th>etapa</th>\n",
       "      <td>Tramitación terminada</td>\n",
       "    </tr>\n",
       "    <tr>\n",
       "      <th>subetapa</th>\n",
       "      <td>/</td>\n",
       "    </tr>\n",
       "    <tr>\n",
       "      <th>iniciativa</th>\n",
       "      <td>Mensaje</td>\n",
       "    </tr>\n",
       "    <tr>\n",
       "      <th>origen</th>\n",
       "      <td>C.Diputados</td>\n",
       "    </tr>\n",
       "    <tr>\n",
       "      <th>urgencia</th>\n",
       "      <td>Sin urgencia</td>\n",
       "    </tr>\n",
       "    <tr>\n",
       "      <th>resultado_final</th>\n",
       "      <td>Publicado</td>\n",
       "    </tr>\n",
       "    <tr>\n",
       "      <th>estado</th>\n",
       "      <td>PUBLICADO</td>\n",
       "    </tr>\n",
       "    <tr>\n",
       "      <th>refundidos</th>\n",
       "      <td></td>\n",
       "    </tr>\n",
       "    <tr>\n",
       "      <th>numero_ley</th>\n",
       "      <td>20000</td>\n",
       "    </tr>\n",
       "    <tr>\n",
       "      <th>norma_id</th>\n",
       "      <td>1</td>\n",
       "    </tr>\n",
       "    <tr>\n",
       "      <th>fecha_actualizacion</th>\n",
       "      <td>2025-09-07 21:01:13</td>\n",
       "    </tr>\n",
       "  </tbody>\n",
       "</table>\n",
       "</div>"
      ],
      "text/plain": [
       "bill_id                                                        2439-20\n",
       "titulo               Sustituye ley N° 19.366, que sanciona el tráfi...\n",
       "resumen                                                           None\n",
       "tipo_proyecto                                                     None\n",
       "fecha_ingreso                                               1999-12-14\n",
       "etapa                                            Tramitación terminada\n",
       "subetapa                                                             /\n",
       "iniciativa                                                     Mensaje\n",
       "origen                                                     C.Diputados\n",
       "urgencia                                                  Sin urgencia\n",
       "resultado_final                                              Publicado\n",
       "estado                                                       PUBLICADO\n",
       "refundidos                                                            \n",
       "numero_ley                                                       20000\n",
       "norma_id                                                             1\n",
       "fecha_actualizacion                                2025-09-07 21:01:13"
      ]
     },
     "metadata": {},
     "output_type": "display_data"
    },
    {
     "data": {
      "text/markdown": [
       "--- \n",
       "## ✍️ Autores y Materias"
      ],
      "text/plain": [
       "<IPython.core.display.Markdown object>"
      ]
     },
     "metadata": {},
     "output_type": "display_data"
    },
    {
     "data": {
      "text/markdown": [
       "### Autores Parlamentarios"
      ],
      "text/plain": [
       "<IPython.core.display.Markdown object>"
      ]
     },
     "metadata": {},
     "output_type": "display_data"
    },
    {
     "data": {
      "text/markdown": [
       "_Iniciativa del Ejecutivo o no se encontraron autores parlamentarios en la BD._"
      ],
      "text/plain": [
       "<IPython.core.display.Markdown object>"
      ]
     },
     "metadata": {},
     "output_type": "display_data"
    },
    {
     "data": {
      "text/markdown": [
       "### Materias Asociadas"
      ],
      "text/plain": [
       "<IPython.core.display.Markdown object>"
      ]
     },
     "metadata": {},
     "output_type": "display_data"
    },
    {
     "data": {
      "application/vnd.microsoft.datawrangler.viewer.v0+json": {
       "columns": [
        {
         "name": "index",
         "rawType": "int64",
         "type": "integer"
        },
        {
         "name": "nombre",
         "rawType": "object",
         "type": "string"
        }
       ],
       "ref": "aff26736-664c-46d3-b13e-ed1cd95bd331",
       "rows": [
        [
         "0",
         "Tráfico de drogas"
        ]
       ],
       "shape": {
        "columns": 1,
        "rows": 1
       }
      },
      "text/html": [
       "<div>\n",
       "<style scoped>\n",
       "    .dataframe tbody tr th:only-of-type {\n",
       "        vertical-align: middle;\n",
       "    }\n",
       "\n",
       "    .dataframe tbody tr th {\n",
       "        vertical-align: top;\n",
       "    }\n",
       "\n",
       "    .dataframe thead th {\n",
       "        text-align: right;\n",
       "    }\n",
       "</style>\n",
       "<table border=\"1\" class=\"dataframe\">\n",
       "  <thead>\n",
       "    <tr style=\"text-align: right;\">\n",
       "      <th></th>\n",
       "      <th>nombre</th>\n",
       "    </tr>\n",
       "  </thead>\n",
       "  <tbody>\n",
       "    <tr>\n",
       "      <th>0</th>\n",
       "      <td>Tráfico de drogas</td>\n",
       "    </tr>\n",
       "  </tbody>\n",
       "</table>\n",
       "</div>"
      ],
      "text/plain": [
       "              nombre\n",
       "0  Tráfico de drogas"
      ]
     },
     "metadata": {},
     "output_type": "display_data"
    },
    {
     "data": {
      "text/markdown": [
       "--- \n",
       "## 🛤️ Historial de Tramitación (`bill_tramites`)"
      ],
      "text/plain": [
       "<IPython.core.display.Markdown object>"
      ]
     },
     "metadata": {},
     "output_type": "display_data"
    },
    {
     "data": {
      "application/vnd.microsoft.datawrangler.viewer.v0+json": {
       "columns": [
        {
         "name": "index",
         "rawType": "int64",
         "type": "integer"
        },
        {
         "name": "fecha_tramite",
         "rawType": "object",
         "type": "string"
        },
        {
         "name": "descripcion",
         "rawType": "object",
         "type": "string"
        },
        {
         "name": "etapa_especifica",
         "rawType": "object",
         "type": "string"
        },
        {
         "name": "camara",
         "rawType": "object",
         "type": "string"
        },
        {
         "name": "sesion",
         "rawType": "object",
         "type": "string"
        }
       ],
       "ref": "67a30138-880e-4992-bbb5-0e67b82d554e",
       "rows": [
        [
         "0",
         "1999-12-14",
         "Ingreso de proyecto .",
         "Primer trámite constitucional",
         "C.Diputados",
         "/"
        ],
        [
         "1",
         "1999-12-14",
         "Cuenta de proyecto . Pasa a Comisión Especial sobre drogas",
         "Primer trámite constitucional",
         "C.Diputados",
         "19/341"
        ],
        [
         "2",
         "1999-12-14",
         "Oficio Nº 2.662 a Corte Suprema. Remite proyecto para efectos de evacuar opinión solicitada",
         "Primer trámite constitucional",
         "C.Diputados",
         "/"
        ],
        [
         "3",
         "2000-05-10",
         "S.E. el Pdte. de la Rep. remite indicaciones, se envían a la Com. Espec. de Drogas (Mensaje 403-441)",
         "Primer trámite constitucional",
         "C.Diputados",
         "/"
        ],
        [
         "4",
         "2000-06-07",
         "S.E. el Pdte. de la Rep. remite indicaciones, se envían a la Com. Espec. de Drogas (Mensaje 60-342)",
         "Primer trámite constitucional",
         "C.Diputados",
         "/"
        ],
        [
         "5",
         "2000-06-08",
         "Oficio Nº 2878 a la Corte Suprema. Pone en conocimiento la urgencia fijada al proyecto por el ejecutivo.",
         "Primer trámite constitucional",
         "C.Diputados",
         "/"
        ],
        [
         "6",
         "2000-07-11",
         "Oficio Nº 2956 a la Corte Suprema. Pone en conocimiento la urgencia fijada al proyecto por el ejecutivo.",
         "Primer trámite constitucional",
         "C.Diputados",
         "/"
        ],
        [
         "7",
         "2000-07-12",
         "Cuenta oficio 001198 de la Corte Suprema",
         "Primer trámite constitucional",
         "C.Diputados",
         "15/342"
        ],
        [
         "8",
         "2000-07-17",
         "S.E. el Pdte. de la Rep. remite indicaciones, se envían a la Comisión especial de drogas (Mensaje 096-342)",
         "Primer trámite constitucional",
         "C.Diputados",
         "/"
        ],
        [
         "9",
         "2000-08-29",
         "Cuenta del Mensaje 167-342 que hace presente la urgencia Simple",
         "Primer trámite constitucional",
         "C.Diputados",
         "19/342"
        ],
        [
         "10",
         "2000-10-02",
         "S.E. el Pdte. de la Rep. remite indicaciones, se envían a la Comisión especial de drogas. (Mensaje 192-342)",
         "Primer trámite constitucional",
         "C.Diputados",
         "/"
        ],
        [
         "11",
         "2001-03-12",
         "Primer informe de comisión Especial sobre Drogas. Pasa a Comisión de Hacienda",
         "Primer trámite constitucional",
         "C.Diputados",
         "/"
        ],
        [
         "12",
         "2001-03-22",
         "Primer informe de comisión de Hacienda.",
         "Primer trámite constitucional",
         "C.Diputados",
         "/"
        ],
        [
         "13",
         "2001-04-03",
         "Cuenta de primer informe de comisión .",
         "Primer trámite constitucional",
         "C.Diputados",
         "48/343"
        ],
        [
         "14",
         "2001-04-18",
         "Cuenta del Mensaje 411-343 que hace presente la urgencia Simple",
         "Primer trámite constitucional",
         "C.Diputados",
         "55/343"
        ],
        [
         "15",
         "2001-04-19",
         "Discusión general . Queda pendiente",
         "Primer trámite constitucional",
         "C.Diputados",
         "56/343"
        ],
        [
         "16",
         "2001-04-19",
         "S.E. el Pdte. de la Rep. remite indicaciones, se agregan a los antecedentes (Mensaje 404-343)",
         "Primer trámite constitucional",
         "C.Diputados",
         "/"
        ],
        [
         "17",
         "2001-05-02",
         "Discusión general . Queda pendiente",
         "Primer trámite constitucional",
         "C.Diputados",
         "57/343"
        ],
        [
         "18",
         "2001-05-03",
         "Discusión general . Queda pendiente",
         "Primer trámite constitucional",
         "C.Diputados",
         "59/343"
        ],
        [
         "19",
         "2001-05-08",
         "Discusión general . Aprobado en general",
         "Primer trámite constitucional",
         "C.Diputados",
         "60/343"
        ],
        [
         "20",
         "2001-07-18",
         "Segundo informe de comisión Especial sobre Drogas. Pasa a Comisión de Constitución, Legislación y Justicia",
         "Primer trámite constitucional",
         "C.Diputados",
         "/"
        ],
        [
         "21",
         "2001-09-04",
         "S.E. el Pdte. de la Rep. remite indicación, se envía a la Comisión de Constitución (Mensaje 189-344)",
         "Primer trámite constitucional",
         "C.Diputados",
         "/"
        ],
        [
         "22",
         "2001-09-11",
         "Primer informe de comisión de Constitución, Legislación, Justicia y Reglamento.",
         "Primer trámite constitucional",
         "C.Diputados",
         "/"
        ],
        [
         "23",
         "2001-10-04",
         "Segundo informe de comisión de Hacienda.",
         "Primer trámite constitucional",
         "C.Diputados",
         "/"
        ],
        [
         "24",
         "2001-10-09",
         "Cuenta de segundo informe de comisión .",
         "Primer trámite constitucional",
         "C.Diputados",
         "4/345"
        ],
        [
         "25",
         "2001-10-09",
         "Discusión particular . Queda pendiente",
         "Primer trámite constitucional",
         "C.Diputados",
         "4/345"
        ],
        [
         "26",
         "2001-10-16",
         "Discusión particular . Queda pendiente",
         "Primer trámite constitucional",
         "C.Diputados",
         "7/345"
        ],
        [
         "27",
         "2001-10-16",
         "Cuenta del Mensaje 58-345 que retira y hace presente la urgencia Suma",
         "Primer trámite constitucional",
         "C.Diputados",
         "7/345"
        ],
        [
         "28",
         "2002-01-08",
         "Cuenta del Mensaje 174-345 que hace presente la urgencia Simple",
         "Primer trámite constitucional",
         "C.Diputados",
         "23/345"
        ],
        [
         "29",
         "2002-01-22",
         "Discusión particular . Aprobado",
         "Primer trámite constitucional",
         "C.Diputados",
         "28/345"
        ],
        [
         "30",
         "2002-01-24",
         "Oficio de ley a Cámara Revisora .",
         "Primer trámite constitucional",
         "C.Diputados",
         "/"
        ],
        [
         "31",
         "2002-03-05",
         "Cuenta de proyecto . Pasa a Comisión de Constitución, Legislación, Justicia y Reglamento",
         "Segundo trámite constitucional",
         "Senado",
         "28/345"
        ],
        [
         "32",
         "2002-03-13",
         "Se incluye en convocatoria a Legislatura Extraordinaria 346",
         "Segundo trámite constitucional",
         "Senado",
         "/"
        ],
        [
         "33",
         "2002-04-02",
         "Cuenta oficio 384 de la Corte Suprema",
         "Segundo trámite constitucional",
         "Senado",
         "4/346"
        ],
        [
         "34",
         "2003-04-15",
         "Cuenta oficio HH. senadores señores Aburto, Chadwick, Espina, Moreno y Silva, solicitan a la Sala se autorice a la Comisión para que el proyecto, en su primer informe, lo sea en general y en particular.",
         "Segundo trámite constitucional",
         "Senado",
         "40/348"
        ],
        [
         "35",
         "2003-12-02",
         "Primer informe de comisión de Constitución, Legislación, Justicia y Reglamento.",
         "Segundo trámite constitucional",
         "Senado",
         "/"
        ],
        [
         "36",
         "2003-12-02",
         "Cuenta de primer informe de comisión .",
         "Segundo trámite constitucional",
         "Senado",
         "14/350"
        ],
        [
         "37",
         "2003-12-03",
         "Discusión general .  Queda para segunda discusión",
         "Segundo trámite constitucional",
         "Senado",
         "16/350"
        ],
        [
         "38",
         "2003-12-09",
         "Discusión general . Aprobado en general",
         "Segundo trámite constitucional",
         "Senado",
         "17/350"
        ],
        [
         "39",
         "2004-01-12",
         "Boletín de indicaciones .",
         "Segundo trámite constitucional",
         "Senado",
         "/"
        ],
        [
         "40",
         "2004-05-11",
         "Segundo informe de comisión de Constitución, Legislación, Justicia y Reglamento. Pasa a Comisión de Hacienda",
         "Segundo trámite constitucional",
         "Senado",
         "/"
        ],
        [
         "41",
         "2004-07-06",
         "La Sala acuerda, a petición de la Comisión de Constitución, reenviar este proyecto a la Comisión de Constitución, una vez que sea conocido por la Comisión de Hacienda.",
         "Segundo trámite constitucional",
         "Senado",
         "8/351"
        ],
        [
         "42",
         "2004-07-07",
         "Segundo informe de comisión de Hacienda. Pasa a Comisión de Constitución, Legislación, Justicia y Reglamento",
         "Segundo trámite constitucional",
         "Senado",
         "/"
        ],
        [
         "43",
         "2004-08-03",
         "Segundo informe complementario de Constitución, Legislación, Justicia y Reglamento.",
         "Segundo trámite constitucional",
         "Senado",
         "/"
        ],
        [
         "44",
         "2004-08-10",
         "Cuenta segundo informe complementario .  Cuenta del Segundo informe de la Comisión de Constitución, Legislación, Justicia y Reglamento, informe de la Comisión de Hacienda e informe complementario del segundo informe de la Comisión de Constitución, Legislación, Justicia y Reglamento.",
         "Segundo trámite constitucional",
         "Senado",
         "19/351"
        ],
        [
         "45",
         "2004-08-11",
         "Discusión particular . Queda pendiente Se acordó dejarlo pendiente para la sesión del martes próximo.",
         "Segundo trámite constitucional",
         "Senado",
         "20/351"
        ],
        [
         "46",
         "2004-08-17",
         "Discusión particular . Aprobado con modificaciones",
         "Segundo trámite constitucional",
         "Senado",
         "21/351"
        ],
        [
         "47",
         "2004-08-17",
         "Cuenta del Mensaje 281-351 que retira y hace presente la urgencia Simple",
         "Segundo trámite constitucional",
         "Senado",
         "21/351"
        ],
        [
         "48",
         "2004-08-18",
         "Oficio modificaciones a Cámara de Origen .",
         "Segundo trámite constitucional",
         "Senado",
         "/"
        ],
        [
         "49",
         "2004-08-19",
         "Cuenta oficio con modificaciones de Cámara Revisora . Pasa a Comisión Especial sobre Drogas",
         "Tercer trámite constitucional",
         "C.Diputados",
         "34/351"
        ]
       ],
       "shape": {
        "columns": 5,
        "rows": 76
       }
      },
      "text/html": [
       "<div>\n",
       "<style scoped>\n",
       "    .dataframe tbody tr th:only-of-type {\n",
       "        vertical-align: middle;\n",
       "    }\n",
       "\n",
       "    .dataframe tbody tr th {\n",
       "        vertical-align: top;\n",
       "    }\n",
       "\n",
       "    .dataframe thead th {\n",
       "        text-align: right;\n",
       "    }\n",
       "</style>\n",
       "<table border=\"1\" class=\"dataframe\">\n",
       "  <thead>\n",
       "    <tr style=\"text-align: right;\">\n",
       "      <th></th>\n",
       "      <th>fecha_tramite</th>\n",
       "      <th>descripcion</th>\n",
       "      <th>etapa_especifica</th>\n",
       "      <th>camara</th>\n",
       "      <th>sesion</th>\n",
       "    </tr>\n",
       "  </thead>\n",
       "  <tbody>\n",
       "    <tr>\n",
       "      <th>0</th>\n",
       "      <td>1999-12-14</td>\n",
       "      <td>Ingreso de proyecto .</td>\n",
       "      <td>Primer trámite constitucional</td>\n",
       "      <td>C.Diputados</td>\n",
       "      <td>/</td>\n",
       "    </tr>\n",
       "    <tr>\n",
       "      <th>1</th>\n",
       "      <td>1999-12-14</td>\n",
       "      <td>Cuenta de proyecto . Pasa a Comisión Especial ...</td>\n",
       "      <td>Primer trámite constitucional</td>\n",
       "      <td>C.Diputados</td>\n",
       "      <td>19/341</td>\n",
       "    </tr>\n",
       "    <tr>\n",
       "      <th>2</th>\n",
       "      <td>1999-12-14</td>\n",
       "      <td>Oficio Nº 2.662 a Corte Suprema. Remite proyec...</td>\n",
       "      <td>Primer trámite constitucional</td>\n",
       "      <td>C.Diputados</td>\n",
       "      <td>/</td>\n",
       "    </tr>\n",
       "    <tr>\n",
       "      <th>3</th>\n",
       "      <td>2000-05-10</td>\n",
       "      <td>S.E. el Pdte. de la Rep. remite indicaciones, ...</td>\n",
       "      <td>Primer trámite constitucional</td>\n",
       "      <td>C.Diputados</td>\n",
       "      <td>/</td>\n",
       "    </tr>\n",
       "    <tr>\n",
       "      <th>4</th>\n",
       "      <td>2000-06-07</td>\n",
       "      <td>S.E. el Pdte. de la Rep. remite indicaciones, ...</td>\n",
       "      <td>Primer trámite constitucional</td>\n",
       "      <td>C.Diputados</td>\n",
       "      <td>/</td>\n",
       "    </tr>\n",
       "    <tr>\n",
       "      <th>5</th>\n",
       "      <td>2000-06-08</td>\n",
       "      <td>Oficio Nº 2878 a la Corte Suprema. Pone en con...</td>\n",
       "      <td>Primer trámite constitucional</td>\n",
       "      <td>C.Diputados</td>\n",
       "      <td>/</td>\n",
       "    </tr>\n",
       "    <tr>\n",
       "      <th>6</th>\n",
       "      <td>2000-07-11</td>\n",
       "      <td>Oficio Nº 2956 a la Corte Suprema. Pone en con...</td>\n",
       "      <td>Primer trámite constitucional</td>\n",
       "      <td>C.Diputados</td>\n",
       "      <td>/</td>\n",
       "    </tr>\n",
       "    <tr>\n",
       "      <th>7</th>\n",
       "      <td>2000-07-12</td>\n",
       "      <td>Cuenta oficio 001198 de la Corte Suprema</td>\n",
       "      <td>Primer trámite constitucional</td>\n",
       "      <td>C.Diputados</td>\n",
       "      <td>15/342</td>\n",
       "    </tr>\n",
       "    <tr>\n",
       "      <th>8</th>\n",
       "      <td>2000-07-17</td>\n",
       "      <td>S.E. el Pdte. de la Rep. remite indicaciones, ...</td>\n",
       "      <td>Primer trámite constitucional</td>\n",
       "      <td>C.Diputados</td>\n",
       "      <td>/</td>\n",
       "    </tr>\n",
       "    <tr>\n",
       "      <th>9</th>\n",
       "      <td>2000-08-29</td>\n",
       "      <td>Cuenta del Mensaje 167-342 que hace presente l...</td>\n",
       "      <td>Primer trámite constitucional</td>\n",
       "      <td>C.Diputados</td>\n",
       "      <td>19/342</td>\n",
       "    </tr>\n",
       "    <tr>\n",
       "      <th>10</th>\n",
       "      <td>2000-10-02</td>\n",
       "      <td>S.E. el Pdte. de la Rep. remite indicaciones, ...</td>\n",
       "      <td>Primer trámite constitucional</td>\n",
       "      <td>C.Diputados</td>\n",
       "      <td>/</td>\n",
       "    </tr>\n",
       "    <tr>\n",
       "      <th>11</th>\n",
       "      <td>2001-03-12</td>\n",
       "      <td>Primer informe de comisión Especial sobre Drog...</td>\n",
       "      <td>Primer trámite constitucional</td>\n",
       "      <td>C.Diputados</td>\n",
       "      <td>/</td>\n",
       "    </tr>\n",
       "    <tr>\n",
       "      <th>12</th>\n",
       "      <td>2001-03-22</td>\n",
       "      <td>Primer informe de comisión de Hacienda.</td>\n",
       "      <td>Primer trámite constitucional</td>\n",
       "      <td>C.Diputados</td>\n",
       "      <td>/</td>\n",
       "    </tr>\n",
       "    <tr>\n",
       "      <th>13</th>\n",
       "      <td>2001-04-03</td>\n",
       "      <td>Cuenta de primer informe de comisión .</td>\n",
       "      <td>Primer trámite constitucional</td>\n",
       "      <td>C.Diputados</td>\n",
       "      <td>48/343</td>\n",
       "    </tr>\n",
       "    <tr>\n",
       "      <th>14</th>\n",
       "      <td>2001-04-18</td>\n",
       "      <td>Cuenta del Mensaje 411-343 que hace presente l...</td>\n",
       "      <td>Primer trámite constitucional</td>\n",
       "      <td>C.Diputados</td>\n",
       "      <td>55/343</td>\n",
       "    </tr>\n",
       "    <tr>\n",
       "      <th>15</th>\n",
       "      <td>2001-04-19</td>\n",
       "      <td>Discusión general . Queda pendiente</td>\n",
       "      <td>Primer trámite constitucional</td>\n",
       "      <td>C.Diputados</td>\n",
       "      <td>56/343</td>\n",
       "    </tr>\n",
       "    <tr>\n",
       "      <th>16</th>\n",
       "      <td>2001-04-19</td>\n",
       "      <td>S.E. el Pdte. de la Rep. remite indicaciones, ...</td>\n",
       "      <td>Primer trámite constitucional</td>\n",
       "      <td>C.Diputados</td>\n",
       "      <td>/</td>\n",
       "    </tr>\n",
       "    <tr>\n",
       "      <th>17</th>\n",
       "      <td>2001-05-02</td>\n",
       "      <td>Discusión general . Queda pendiente</td>\n",
       "      <td>Primer trámite constitucional</td>\n",
       "      <td>C.Diputados</td>\n",
       "      <td>57/343</td>\n",
       "    </tr>\n",
       "    <tr>\n",
       "      <th>18</th>\n",
       "      <td>2001-05-03</td>\n",
       "      <td>Discusión general . Queda pendiente</td>\n",
       "      <td>Primer trámite constitucional</td>\n",
       "      <td>C.Diputados</td>\n",
       "      <td>59/343</td>\n",
       "    </tr>\n",
       "    <tr>\n",
       "      <th>19</th>\n",
       "      <td>2001-05-08</td>\n",
       "      <td>Discusión general . Aprobado en general</td>\n",
       "      <td>Primer trámite constitucional</td>\n",
       "      <td>C.Diputados</td>\n",
       "      <td>60/343</td>\n",
       "    </tr>\n",
       "    <tr>\n",
       "      <th>20</th>\n",
       "      <td>2001-07-18</td>\n",
       "      <td>Segundo informe de comisión Especial sobre Dro...</td>\n",
       "      <td>Primer trámite constitucional</td>\n",
       "      <td>C.Diputados</td>\n",
       "      <td>/</td>\n",
       "    </tr>\n",
       "    <tr>\n",
       "      <th>21</th>\n",
       "      <td>2001-09-04</td>\n",
       "      <td>S.E. el Pdte. de la Rep. remite indicación, se...</td>\n",
       "      <td>Primer trámite constitucional</td>\n",
       "      <td>C.Diputados</td>\n",
       "      <td>/</td>\n",
       "    </tr>\n",
       "    <tr>\n",
       "      <th>22</th>\n",
       "      <td>2001-09-11</td>\n",
       "      <td>Primer informe de comisión de Constitución, Le...</td>\n",
       "      <td>Primer trámite constitucional</td>\n",
       "      <td>C.Diputados</td>\n",
       "      <td>/</td>\n",
       "    </tr>\n",
       "    <tr>\n",
       "      <th>23</th>\n",
       "      <td>2001-10-04</td>\n",
       "      <td>Segundo informe de comisión de Hacienda.</td>\n",
       "      <td>Primer trámite constitucional</td>\n",
       "      <td>C.Diputados</td>\n",
       "      <td>/</td>\n",
       "    </tr>\n",
       "    <tr>\n",
       "      <th>24</th>\n",
       "      <td>2001-10-09</td>\n",
       "      <td>Cuenta de segundo informe de comisión .</td>\n",
       "      <td>Primer trámite constitucional</td>\n",
       "      <td>C.Diputados</td>\n",
       "      <td>4/345</td>\n",
       "    </tr>\n",
       "    <tr>\n",
       "      <th>25</th>\n",
       "      <td>2001-10-09</td>\n",
       "      <td>Discusión particular . Queda pendiente</td>\n",
       "      <td>Primer trámite constitucional</td>\n",
       "      <td>C.Diputados</td>\n",
       "      <td>4/345</td>\n",
       "    </tr>\n",
       "    <tr>\n",
       "      <th>26</th>\n",
       "      <td>2001-10-16</td>\n",
       "      <td>Discusión particular . Queda pendiente</td>\n",
       "      <td>Primer trámite constitucional</td>\n",
       "      <td>C.Diputados</td>\n",
       "      <td>7/345</td>\n",
       "    </tr>\n",
       "    <tr>\n",
       "      <th>27</th>\n",
       "      <td>2001-10-16</td>\n",
       "      <td>Cuenta del Mensaje 58-345 que retira y hace pr...</td>\n",
       "      <td>Primer trámite constitucional</td>\n",
       "      <td>C.Diputados</td>\n",
       "      <td>7/345</td>\n",
       "    </tr>\n",
       "    <tr>\n",
       "      <th>28</th>\n",
       "      <td>2002-01-08</td>\n",
       "      <td>Cuenta del Mensaje 174-345 que hace presente l...</td>\n",
       "      <td>Primer trámite constitucional</td>\n",
       "      <td>C.Diputados</td>\n",
       "      <td>23/345</td>\n",
       "    </tr>\n",
       "    <tr>\n",
       "      <th>29</th>\n",
       "      <td>2002-01-22</td>\n",
       "      <td>Discusión particular . Aprobado</td>\n",
       "      <td>Primer trámite constitucional</td>\n",
       "      <td>C.Diputados</td>\n",
       "      <td>28/345</td>\n",
       "    </tr>\n",
       "    <tr>\n",
       "      <th>30</th>\n",
       "      <td>2002-01-24</td>\n",
       "      <td>Oficio de ley a Cámara Revisora .</td>\n",
       "      <td>Primer trámite constitucional</td>\n",
       "      <td>C.Diputados</td>\n",
       "      <td>/</td>\n",
       "    </tr>\n",
       "    <tr>\n",
       "      <th>31</th>\n",
       "      <td>2002-03-05</td>\n",
       "      <td>Cuenta de proyecto . Pasa a Comisión de Consti...</td>\n",
       "      <td>Segundo trámite constitucional</td>\n",
       "      <td>Senado</td>\n",
       "      <td>28/345</td>\n",
       "    </tr>\n",
       "    <tr>\n",
       "      <th>32</th>\n",
       "      <td>2002-03-13</td>\n",
       "      <td>Se incluye en convocatoria a Legislatura Extra...</td>\n",
       "      <td>Segundo trámite constitucional</td>\n",
       "      <td>Senado</td>\n",
       "      <td>/</td>\n",
       "    </tr>\n",
       "    <tr>\n",
       "      <th>33</th>\n",
       "      <td>2002-04-02</td>\n",
       "      <td>Cuenta oficio 384 de la Corte Suprema</td>\n",
       "      <td>Segundo trámite constitucional</td>\n",
       "      <td>Senado</td>\n",
       "      <td>4/346</td>\n",
       "    </tr>\n",
       "    <tr>\n",
       "      <th>34</th>\n",
       "      <td>2003-04-15</td>\n",
       "      <td>Cuenta oficio HH. senadores señores Aburto, Ch...</td>\n",
       "      <td>Segundo trámite constitucional</td>\n",
       "      <td>Senado</td>\n",
       "      <td>40/348</td>\n",
       "    </tr>\n",
       "    <tr>\n",
       "      <th>35</th>\n",
       "      <td>2003-12-02</td>\n",
       "      <td>Primer informe de comisión de Constitución, Le...</td>\n",
       "      <td>Segundo trámite constitucional</td>\n",
       "      <td>Senado</td>\n",
       "      <td>/</td>\n",
       "    </tr>\n",
       "    <tr>\n",
       "      <th>36</th>\n",
       "      <td>2003-12-02</td>\n",
       "      <td>Cuenta de primer informe de comisión .</td>\n",
       "      <td>Segundo trámite constitucional</td>\n",
       "      <td>Senado</td>\n",
       "      <td>14/350</td>\n",
       "    </tr>\n",
       "    <tr>\n",
       "      <th>37</th>\n",
       "      <td>2003-12-03</td>\n",
       "      <td>Discusión general .  Queda para segunda discusión</td>\n",
       "      <td>Segundo trámite constitucional</td>\n",
       "      <td>Senado</td>\n",
       "      <td>16/350</td>\n",
       "    </tr>\n",
       "    <tr>\n",
       "      <th>38</th>\n",
       "      <td>2003-12-09</td>\n",
       "      <td>Discusión general . Aprobado en general</td>\n",
       "      <td>Segundo trámite constitucional</td>\n",
       "      <td>Senado</td>\n",
       "      <td>17/350</td>\n",
       "    </tr>\n",
       "    <tr>\n",
       "      <th>39</th>\n",
       "      <td>2004-01-12</td>\n",
       "      <td>Boletín de indicaciones .</td>\n",
       "      <td>Segundo trámite constitucional</td>\n",
       "      <td>Senado</td>\n",
       "      <td>/</td>\n",
       "    </tr>\n",
       "    <tr>\n",
       "      <th>40</th>\n",
       "      <td>2004-05-11</td>\n",
       "      <td>Segundo informe de comisión de Constitución, L...</td>\n",
       "      <td>Segundo trámite constitucional</td>\n",
       "      <td>Senado</td>\n",
       "      <td>/</td>\n",
       "    </tr>\n",
       "    <tr>\n",
       "      <th>41</th>\n",
       "      <td>2004-07-06</td>\n",
       "      <td>La Sala acuerda, a petición de la Comisión de ...</td>\n",
       "      <td>Segundo trámite constitucional</td>\n",
       "      <td>Senado</td>\n",
       "      <td>8/351</td>\n",
       "    </tr>\n",
       "    <tr>\n",
       "      <th>42</th>\n",
       "      <td>2004-07-07</td>\n",
       "      <td>Segundo informe de comisión de Hacienda. Pasa ...</td>\n",
       "      <td>Segundo trámite constitucional</td>\n",
       "      <td>Senado</td>\n",
       "      <td>/</td>\n",
       "    </tr>\n",
       "    <tr>\n",
       "      <th>43</th>\n",
       "      <td>2004-08-03</td>\n",
       "      <td>Segundo informe complementario de Constitución...</td>\n",
       "      <td>Segundo trámite constitucional</td>\n",
       "      <td>Senado</td>\n",
       "      <td>/</td>\n",
       "    </tr>\n",
       "    <tr>\n",
       "      <th>44</th>\n",
       "      <td>2004-08-10</td>\n",
       "      <td>Cuenta segundo informe complementario .  Cuent...</td>\n",
       "      <td>Segundo trámite constitucional</td>\n",
       "      <td>Senado</td>\n",
       "      <td>19/351</td>\n",
       "    </tr>\n",
       "    <tr>\n",
       "      <th>45</th>\n",
       "      <td>2004-08-11</td>\n",
       "      <td>Discusión particular . Queda pendiente Se acor...</td>\n",
       "      <td>Segundo trámite constitucional</td>\n",
       "      <td>Senado</td>\n",
       "      <td>20/351</td>\n",
       "    </tr>\n",
       "    <tr>\n",
       "      <th>46</th>\n",
       "      <td>2004-08-17</td>\n",
       "      <td>Discusión particular . Aprobado con modificaci...</td>\n",
       "      <td>Segundo trámite constitucional</td>\n",
       "      <td>Senado</td>\n",
       "      <td>21/351</td>\n",
       "    </tr>\n",
       "    <tr>\n",
       "      <th>47</th>\n",
       "      <td>2004-08-17</td>\n",
       "      <td>Cuenta del Mensaje 281-351 que retira y hace p...</td>\n",
       "      <td>Segundo trámite constitucional</td>\n",
       "      <td>Senado</td>\n",
       "      <td>21/351</td>\n",
       "    </tr>\n",
       "    <tr>\n",
       "      <th>48</th>\n",
       "      <td>2004-08-18</td>\n",
       "      <td>Oficio modificaciones a Cámara de Origen .</td>\n",
       "      <td>Segundo trámite constitucional</td>\n",
       "      <td>Senado</td>\n",
       "      <td>/</td>\n",
       "    </tr>\n",
       "    <tr>\n",
       "      <th>49</th>\n",
       "      <td>2004-08-19</td>\n",
       "      <td>Cuenta oficio con modificaciones de Cámara Rev...</td>\n",
       "      <td>Tercer trámite constitucional</td>\n",
       "      <td>C.Diputados</td>\n",
       "      <td>34/351</td>\n",
       "    </tr>\n",
       "    <tr>\n",
       "      <th>50</th>\n",
       "      <td>2004-09-15</td>\n",
       "      <td>Informe de comisión Especial sobre Drogas.</td>\n",
       "      <td>Tercer trámite constitucional</td>\n",
       "      <td>C.Diputados</td>\n",
       "      <td>/</td>\n",
       "    </tr>\n",
       "    <tr>\n",
       "      <th>51</th>\n",
       "      <td>2004-10-05</td>\n",
       "      <td>Cuenta informe de comisión .</td>\n",
       "      <td>Tercer trámite constitucional</td>\n",
       "      <td>C.Diputados</td>\n",
       "      <td>1/352</td>\n",
       "    </tr>\n",
       "    <tr>\n",
       "      <th>52</th>\n",
       "      <td>2004-10-05</td>\n",
       "      <td>Cuenta del Mensaje 26-352 que hace presente la...</td>\n",
       "      <td>Tercer trámite constitucional</td>\n",
       "      <td>C.Diputados</td>\n",
       "      <td>1/352</td>\n",
       "    </tr>\n",
       "    <tr>\n",
       "      <th>53</th>\n",
       "      <td>2004-10-05</td>\n",
       "      <td>Discusión única . Rechazadas las modificaciones</td>\n",
       "      <td>Tercer trámite constitucional</td>\n",
       "      <td>C.Diputados</td>\n",
       "      <td>1/352</td>\n",
       "    </tr>\n",
       "    <tr>\n",
       "      <th>54</th>\n",
       "      <td>2004-10-05</td>\n",
       "      <td>Oficio rechazo modificaciones a Cámara Revisor...</td>\n",
       "      <td>Tercer trámite constitucional</td>\n",
       "      <td>C.Diputados</td>\n",
       "      <td>/</td>\n",
       "    </tr>\n",
       "    <tr>\n",
       "      <th>55</th>\n",
       "      <td>2004-10-06</td>\n",
       "      <td>Cuenta oficio rechazo a modificaciones .</td>\n",
       "      <td>Comisión Mixta por rechazo de modificaciones</td>\n",
       "      <td>Senado</td>\n",
       "      <td>2/352</td>\n",
       "    </tr>\n",
       "    <tr>\n",
       "      <th>56</th>\n",
       "      <td>2004-10-06</td>\n",
       "      <td>Oficio integrantes de Comisión Mixta .</td>\n",
       "      <td>Comisión Mixta por rechazo de modificaciones</td>\n",
       "      <td>C.Diputados</td>\n",
       "      <td>/</td>\n",
       "    </tr>\n",
       "    <tr>\n",
       "      <th>57</th>\n",
       "      <td>2004-10-07</td>\n",
       "      <td>Cuenta en Cámara de Diputados de Oficio del Se...</td>\n",
       "      <td>Comisión Mixta por rechazo de modificaciones</td>\n",
       "      <td>C.Diputados</td>\n",
       "      <td>3/352</td>\n",
       "    </tr>\n",
       "    <tr>\n",
       "      <th>58</th>\n",
       "      <td>2004-10-19</td>\n",
       "      <td>Cuenta del Mensaje 73-352 que retira y hace pr...</td>\n",
       "      <td>Comisión Mixta por rechazo de modificaciones</td>\n",
       "      <td>Senado</td>\n",
       "      <td>6/352</td>\n",
       "    </tr>\n",
       "    <tr>\n",
       "      <th>59</th>\n",
       "      <td>2004-10-19</td>\n",
       "      <td>Oficio NºL/181/04. Oficio al Presidente del Se...</td>\n",
       "      <td>Comisión Mixta por rechazo de modificaciones</td>\n",
       "      <td>Senado</td>\n",
       "      <td>/</td>\n",
       "    </tr>\n",
       "    <tr>\n",
       "      <th>60</th>\n",
       "      <td>2004-11-02</td>\n",
       "      <td>Informe de Comisión Mixta Comisión Mixta para ...</td>\n",
       "      <td>Comisión Mixta por rechazo de modificaciones</td>\n",
       "      <td>Senado</td>\n",
       "      <td>/</td>\n",
       "    </tr>\n",
       "    <tr>\n",
       "      <th>61</th>\n",
       "      <td>2004-11-03</td>\n",
       "      <td>Cuenta informe Comisión Mixta .</td>\n",
       "      <td>Disc. informe C.Mixta por rechazo de modific. ...</td>\n",
       "      <td>C.Diputados</td>\n",
       "      <td>13/352</td>\n",
       "    </tr>\n",
       "    <tr>\n",
       "      <th>62</th>\n",
       "      <td>2004-11-03</td>\n",
       "      <td>Cuenta del Mensaje 101-352 que retira y hace p...</td>\n",
       "      <td>Disc. informe C.Mixta por rechazo de modific. ...</td>\n",
       "      <td>C.Diputados</td>\n",
       "      <td>13/352</td>\n",
       "    </tr>\n",
       "    <tr>\n",
       "      <th>63</th>\n",
       "      <td>2004-11-09</td>\n",
       "      <td>Discusión informe de Comisión Mixta . Aprobado</td>\n",
       "      <td>Disc. informe C.Mixta por rechazo de modific. ...</td>\n",
       "      <td>C.Diputados</td>\n",
       "      <td>15/352</td>\n",
       "    </tr>\n",
       "    <tr>\n",
       "      <th>64</th>\n",
       "      <td>2004-11-09</td>\n",
       "      <td>Cuenta del Mensaje 125-3452 que retira y hace ...</td>\n",
       "      <td>Disc. informe C.Mixta por rechazo de modific. ...</td>\n",
       "      <td>C.Diputados</td>\n",
       "      <td>15/352</td>\n",
       "    </tr>\n",
       "    <tr>\n",
       "      <th>65</th>\n",
       "      <td>2004-11-09</td>\n",
       "      <td>Oficio aprobación de informe de Comisión Mixta...</td>\n",
       "      <td>Disc. informe C.Mixta por rechazo de modific. ...</td>\n",
       "      <td>C.Diputados</td>\n",
       "      <td>/</td>\n",
       "    </tr>\n",
       "    <tr>\n",
       "      <th>66</th>\n",
       "      <td>2004-11-09</td>\n",
       "      <td>Cuenta oficio aprobación de informe de Comisió...</td>\n",
       "      <td>Disc. informe C.Mixta por rechazo de modif. C....</td>\n",
       "      <td>Senado</td>\n",
       "      <td>11/352</td>\n",
       "    </tr>\n",
       "    <tr>\n",
       "      <th>67</th>\n",
       "      <td>2004-11-16</td>\n",
       "      <td>Cuenta del Mensaje 155-352 que retira y hace p...</td>\n",
       "      <td>Disc. informe C.Mixta por rechazo de modif. C....</td>\n",
       "      <td>Senado</td>\n",
       "      <td>13/352</td>\n",
       "    </tr>\n",
       "    <tr>\n",
       "      <th>68</th>\n",
       "      <td>2004-11-17</td>\n",
       "      <td>Discusión informe de Comisión Mixta . Aprobado</td>\n",
       "      <td>Disc. informe C.Mixta por rechazo de modif. C....</td>\n",
       "      <td>Senado</td>\n",
       "      <td>14/352</td>\n",
       "    </tr>\n",
       "    <tr>\n",
       "      <th>69</th>\n",
       "      <td>2004-11-17</td>\n",
       "      <td>Oficio aprobación de informe de Comisión Mixta...</td>\n",
       "      <td>Disc. informe C.Mixta por rechazo de modif. C....</td>\n",
       "      <td>Senado</td>\n",
       "      <td>/</td>\n",
       "    </tr>\n",
       "    <tr>\n",
       "      <th>70</th>\n",
       "      <td>2004-11-30</td>\n",
       "      <td>Cuenta oficio aprobación de informe de Comisió...</td>\n",
       "      <td>Trámite finalización en Cámara de Origen</td>\n",
       "      <td>C.Diputados</td>\n",
       "      <td>24/352</td>\n",
       "    </tr>\n",
       "    <tr>\n",
       "      <th>71</th>\n",
       "      <td>2004-11-30</td>\n",
       "      <td>Oficio al Ejecutivo, comunica proyecto aprobad...</td>\n",
       "      <td>Trámite finalización en Cámara de Origen</td>\n",
       "      <td>C.Diputados</td>\n",
       "      <td>/</td>\n",
       "    </tr>\n",
       "    <tr>\n",
       "      <th>72</th>\n",
       "      <td>2005-01-04</td>\n",
       "      <td>Cuenta Oficio S.E. el Presidente de la Repúbli...</td>\n",
       "      <td>Trámite de aprobacion presidencial</td>\n",
       "      <td>C.Diputados</td>\n",
       "      <td>34/352</td>\n",
       "    </tr>\n",
       "    <tr>\n",
       "      <th>73</th>\n",
       "      <td>2005-01-04</td>\n",
       "      <td>Oficio al Tribunal Constitucional .</td>\n",
       "      <td>Trámite en Tribunal Constitucional</td>\n",
       "      <td>C.Diputados</td>\n",
       "      <td>/</td>\n",
       "    </tr>\n",
       "    <tr>\n",
       "      <th>74</th>\n",
       "      <td>2005-01-27</td>\n",
       "      <td>Oficio de ley al Ejecutivo .</td>\n",
       "      <td>Trámite finalización en Cámara de Origen</td>\n",
       "      <td>C.Diputados</td>\n",
       "      <td>/</td>\n",
       "    </tr>\n",
       "    <tr>\n",
       "      <th>75</th>\n",
       "      <td>2005-03-02</td>\n",
       "      <td>Cuenta oficio Nº 2186 del Tribunal Constitucional</td>\n",
       "      <td>Trámite en Tribunal Constitucional</td>\n",
       "      <td>C.Diputados</td>\n",
       "      <td>45/352</td>\n",
       "    </tr>\n",
       "  </tbody>\n",
       "</table>\n",
       "</div>"
      ],
      "text/plain": [
       "   fecha_tramite                                        descripcion  \\\n",
       "0     1999-12-14                              Ingreso de proyecto .   \n",
       "1     1999-12-14  Cuenta de proyecto . Pasa a Comisión Especial ...   \n",
       "2     1999-12-14  Oficio Nº 2.662 a Corte Suprema. Remite proyec...   \n",
       "3     2000-05-10  S.E. el Pdte. de la Rep. remite indicaciones, ...   \n",
       "4     2000-06-07  S.E. el Pdte. de la Rep. remite indicaciones, ...   \n",
       "5     2000-06-08  Oficio Nº 2878 a la Corte Suprema. Pone en con...   \n",
       "6     2000-07-11  Oficio Nº 2956 a la Corte Suprema. Pone en con...   \n",
       "7     2000-07-12           Cuenta oficio 001198 de la Corte Suprema   \n",
       "8     2000-07-17  S.E. el Pdte. de la Rep. remite indicaciones, ...   \n",
       "9     2000-08-29  Cuenta del Mensaje 167-342 que hace presente l...   \n",
       "10    2000-10-02  S.E. el Pdte. de la Rep. remite indicaciones, ...   \n",
       "11    2001-03-12  Primer informe de comisión Especial sobre Drog...   \n",
       "12    2001-03-22            Primer informe de comisión de Hacienda.   \n",
       "13    2001-04-03             Cuenta de primer informe de comisión .   \n",
       "14    2001-04-18  Cuenta del Mensaje 411-343 que hace presente l...   \n",
       "15    2001-04-19                Discusión general . Queda pendiente   \n",
       "16    2001-04-19  S.E. el Pdte. de la Rep. remite indicaciones, ...   \n",
       "17    2001-05-02                Discusión general . Queda pendiente   \n",
       "18    2001-05-03                Discusión general . Queda pendiente   \n",
       "19    2001-05-08            Discusión general . Aprobado en general   \n",
       "20    2001-07-18  Segundo informe de comisión Especial sobre Dro...   \n",
       "21    2001-09-04  S.E. el Pdte. de la Rep. remite indicación, se...   \n",
       "22    2001-09-11  Primer informe de comisión de Constitución, Le...   \n",
       "23    2001-10-04           Segundo informe de comisión de Hacienda.   \n",
       "24    2001-10-09            Cuenta de segundo informe de comisión .   \n",
       "25    2001-10-09             Discusión particular . Queda pendiente   \n",
       "26    2001-10-16             Discusión particular . Queda pendiente   \n",
       "27    2001-10-16  Cuenta del Mensaje 58-345 que retira y hace pr...   \n",
       "28    2002-01-08  Cuenta del Mensaje 174-345 que hace presente l...   \n",
       "29    2002-01-22                    Discusión particular . Aprobado   \n",
       "30    2002-01-24                  Oficio de ley a Cámara Revisora .   \n",
       "31    2002-03-05  Cuenta de proyecto . Pasa a Comisión de Consti...   \n",
       "32    2002-03-13  Se incluye en convocatoria a Legislatura Extra...   \n",
       "33    2002-04-02              Cuenta oficio 384 de la Corte Suprema   \n",
       "34    2003-04-15  Cuenta oficio HH. senadores señores Aburto, Ch...   \n",
       "35    2003-12-02  Primer informe de comisión de Constitución, Le...   \n",
       "36    2003-12-02             Cuenta de primer informe de comisión .   \n",
       "37    2003-12-03  Discusión general .  Queda para segunda discusión   \n",
       "38    2003-12-09            Discusión general . Aprobado en general   \n",
       "39    2004-01-12                          Boletín de indicaciones .   \n",
       "40    2004-05-11  Segundo informe de comisión de Constitución, L...   \n",
       "41    2004-07-06  La Sala acuerda, a petición de la Comisión de ...   \n",
       "42    2004-07-07  Segundo informe de comisión de Hacienda. Pasa ...   \n",
       "43    2004-08-03  Segundo informe complementario de Constitución...   \n",
       "44    2004-08-10  Cuenta segundo informe complementario .  Cuent...   \n",
       "45    2004-08-11  Discusión particular . Queda pendiente Se acor...   \n",
       "46    2004-08-17  Discusión particular . Aprobado con modificaci...   \n",
       "47    2004-08-17  Cuenta del Mensaje 281-351 que retira y hace p...   \n",
       "48    2004-08-18         Oficio modificaciones a Cámara de Origen .   \n",
       "49    2004-08-19  Cuenta oficio con modificaciones de Cámara Rev...   \n",
       "50    2004-09-15         Informe de comisión Especial sobre Drogas.   \n",
       "51    2004-10-05                       Cuenta informe de comisión .   \n",
       "52    2004-10-05  Cuenta del Mensaje 26-352 que hace presente la...   \n",
       "53    2004-10-05    Discusión única . Rechazadas las modificaciones   \n",
       "54    2004-10-05  Oficio rechazo modificaciones a Cámara Revisor...   \n",
       "55    2004-10-06           Cuenta oficio rechazo a modificaciones .   \n",
       "56    2004-10-06             Oficio integrantes de Comisión Mixta .   \n",
       "57    2004-10-07  Cuenta en Cámara de Diputados de Oficio del Se...   \n",
       "58    2004-10-19  Cuenta del Mensaje 73-352 que retira y hace pr...   \n",
       "59    2004-10-19  Oficio NºL/181/04. Oficio al Presidente del Se...   \n",
       "60    2004-11-02  Informe de Comisión Mixta Comisión Mixta para ...   \n",
       "61    2004-11-03                    Cuenta informe Comisión Mixta .   \n",
       "62    2004-11-03  Cuenta del Mensaje 101-352 que retira y hace p...   \n",
       "63    2004-11-09     Discusión informe de Comisión Mixta . Aprobado   \n",
       "64    2004-11-09  Cuenta del Mensaje 125-3452 que retira y hace ...   \n",
       "65    2004-11-09  Oficio aprobación de informe de Comisión Mixta...   \n",
       "66    2004-11-09  Cuenta oficio aprobación de informe de Comisió...   \n",
       "67    2004-11-16  Cuenta del Mensaje 155-352 que retira y hace p...   \n",
       "68    2004-11-17     Discusión informe de Comisión Mixta . Aprobado   \n",
       "69    2004-11-17  Oficio aprobación de informe de Comisión Mixta...   \n",
       "70    2004-11-30  Cuenta oficio aprobación de informe de Comisió...   \n",
       "71    2004-11-30  Oficio al Ejecutivo, comunica proyecto aprobad...   \n",
       "72    2005-01-04  Cuenta Oficio S.E. el Presidente de la Repúbli...   \n",
       "73    2005-01-04                Oficio al Tribunal Constitucional .   \n",
       "74    2005-01-27                       Oficio de ley al Ejecutivo .   \n",
       "75    2005-03-02  Cuenta oficio Nº 2186 del Tribunal Constitucional   \n",
       "\n",
       "                                     etapa_especifica       camara  sesion  \n",
       "0                       Primer trámite constitucional  C.Diputados       /  \n",
       "1                       Primer trámite constitucional  C.Diputados  19/341  \n",
       "2                       Primer trámite constitucional  C.Diputados       /  \n",
       "3                       Primer trámite constitucional  C.Diputados       /  \n",
       "4                       Primer trámite constitucional  C.Diputados       /  \n",
       "5                       Primer trámite constitucional  C.Diputados       /  \n",
       "6                       Primer trámite constitucional  C.Diputados       /  \n",
       "7                       Primer trámite constitucional  C.Diputados  15/342  \n",
       "8                       Primer trámite constitucional  C.Diputados       /  \n",
       "9                       Primer trámite constitucional  C.Diputados  19/342  \n",
       "10                      Primer trámite constitucional  C.Diputados       /  \n",
       "11                      Primer trámite constitucional  C.Diputados       /  \n",
       "12                      Primer trámite constitucional  C.Diputados       /  \n",
       "13                      Primer trámite constitucional  C.Diputados  48/343  \n",
       "14                      Primer trámite constitucional  C.Diputados  55/343  \n",
       "15                      Primer trámite constitucional  C.Diputados  56/343  \n",
       "16                      Primer trámite constitucional  C.Diputados       /  \n",
       "17                      Primer trámite constitucional  C.Diputados  57/343  \n",
       "18                      Primer trámite constitucional  C.Diputados  59/343  \n",
       "19                      Primer trámite constitucional  C.Diputados  60/343  \n",
       "20                      Primer trámite constitucional  C.Diputados       /  \n",
       "21                      Primer trámite constitucional  C.Diputados       /  \n",
       "22                      Primer trámite constitucional  C.Diputados       /  \n",
       "23                      Primer trámite constitucional  C.Diputados       /  \n",
       "24                      Primer trámite constitucional  C.Diputados   4/345  \n",
       "25                      Primer trámite constitucional  C.Diputados   4/345  \n",
       "26                      Primer trámite constitucional  C.Diputados   7/345  \n",
       "27                      Primer trámite constitucional  C.Diputados   7/345  \n",
       "28                      Primer trámite constitucional  C.Diputados  23/345  \n",
       "29                      Primer trámite constitucional  C.Diputados  28/345  \n",
       "30                      Primer trámite constitucional  C.Diputados       /  \n",
       "31                     Segundo trámite constitucional       Senado  28/345  \n",
       "32                     Segundo trámite constitucional       Senado       /  \n",
       "33                     Segundo trámite constitucional       Senado   4/346  \n",
       "34                     Segundo trámite constitucional       Senado  40/348  \n",
       "35                     Segundo trámite constitucional       Senado       /  \n",
       "36                     Segundo trámite constitucional       Senado  14/350  \n",
       "37                     Segundo trámite constitucional       Senado  16/350  \n",
       "38                     Segundo trámite constitucional       Senado  17/350  \n",
       "39                     Segundo trámite constitucional       Senado       /  \n",
       "40                     Segundo trámite constitucional       Senado       /  \n",
       "41                     Segundo trámite constitucional       Senado   8/351  \n",
       "42                     Segundo trámite constitucional       Senado       /  \n",
       "43                     Segundo trámite constitucional       Senado       /  \n",
       "44                     Segundo trámite constitucional       Senado  19/351  \n",
       "45                     Segundo trámite constitucional       Senado  20/351  \n",
       "46                     Segundo trámite constitucional       Senado  21/351  \n",
       "47                     Segundo trámite constitucional       Senado  21/351  \n",
       "48                     Segundo trámite constitucional       Senado       /  \n",
       "49                      Tercer trámite constitucional  C.Diputados  34/351  \n",
       "50                      Tercer trámite constitucional  C.Diputados       /  \n",
       "51                      Tercer trámite constitucional  C.Diputados   1/352  \n",
       "52                      Tercer trámite constitucional  C.Diputados   1/352  \n",
       "53                      Tercer trámite constitucional  C.Diputados   1/352  \n",
       "54                      Tercer trámite constitucional  C.Diputados       /  \n",
       "55       Comisión Mixta por rechazo de modificaciones       Senado   2/352  \n",
       "56       Comisión Mixta por rechazo de modificaciones  C.Diputados       /  \n",
       "57       Comisión Mixta por rechazo de modificaciones  C.Diputados   3/352  \n",
       "58       Comisión Mixta por rechazo de modificaciones       Senado   6/352  \n",
       "59       Comisión Mixta por rechazo de modificaciones       Senado       /  \n",
       "60       Comisión Mixta por rechazo de modificaciones       Senado       /  \n",
       "61  Disc. informe C.Mixta por rechazo de modific. ...  C.Diputados  13/352  \n",
       "62  Disc. informe C.Mixta por rechazo de modific. ...  C.Diputados  13/352  \n",
       "63  Disc. informe C.Mixta por rechazo de modific. ...  C.Diputados  15/352  \n",
       "64  Disc. informe C.Mixta por rechazo de modific. ...  C.Diputados  15/352  \n",
       "65  Disc. informe C.Mixta por rechazo de modific. ...  C.Diputados       /  \n",
       "66  Disc. informe C.Mixta por rechazo de modif. C....       Senado  11/352  \n",
       "67  Disc. informe C.Mixta por rechazo de modif. C....       Senado  13/352  \n",
       "68  Disc. informe C.Mixta por rechazo de modif. C....       Senado  14/352  \n",
       "69  Disc. informe C.Mixta por rechazo de modif. C....       Senado       /  \n",
       "70           Trámite finalización en Cámara de Origen  C.Diputados  24/352  \n",
       "71           Trámite finalización en Cámara de Origen  C.Diputados       /  \n",
       "72                 Trámite de aprobacion presidencial  C.Diputados  34/352  \n",
       "73                 Trámite en Tribunal Constitucional  C.Diputados       /  \n",
       "74           Trámite finalización en Cámara de Origen  C.Diputados       /  \n",
       "75                 Trámite en Tribunal Constitucional  C.Diputados  45/352  "
      ]
     },
     "metadata": {},
     "output_type": "display_data"
    },
    {
     "data": {
      "text/markdown": [
       "--- \n",
       "## 📄 Documentos Asociados (`bill_documentos`)"
      ],
      "text/plain": [
       "<IPython.core.display.Markdown object>"
      ]
     },
     "metadata": {},
     "output_type": "display_data"
    },
    {
     "data": {
      "text/markdown": [
       "### Tabla de Documentos"
      ],
      "text/plain": [
       "<IPython.core.display.Markdown object>"
      ]
     },
     "metadata": {},
     "output_type": "display_data"
    },
    {
     "data": {
      "application/vnd.microsoft.datawrangler.viewer.v0+json": {
       "columns": [
        {
         "name": "index",
         "rawType": "int64",
         "type": "integer"
        },
        {
         "name": "documento_id",
         "rawType": "int64",
         "type": "integer"
        },
        {
         "name": "tipo_documento",
         "rawType": "object",
         "type": "string"
        },
        {
         "name": "url_documento",
         "rawType": "object",
         "type": "string"
        },
        {
         "name": "fecha_documento",
         "rawType": "object",
         "type": "string"
        }
       ],
       "ref": "cc98238d-2759-4afd-8f3d-455ec72811bb",
       "rows": [
        [
         "0",
         "23",
         "VersionProyectoDeLey",
         "http://datos.bcn.cl/recurso/cl/documento/668657.txt",
         "1999-12-02"
        ],
        [
         "1",
         "25",
         "Mensaje",
         "http://datos.bcn.cl/recurso/cl/documento/661319.txt",
         "1999-12-02"
        ],
        [
         "2",
         "37",
         "Oficio",
         "http://datos.bcn.cl/recurso/cl/documento/661320.txt",
         "1999-12-14"
        ],
        [
         "3",
         "12",
         "Oficio",
         "http://datos.bcn.cl/recurso/cl/documento/661321.txt",
         "2000-07-05"
        ],
        [
         "4",
         "30",
         "InformeComisionLegislativa",
         "http://datos.bcn.cl/recurso/cl/documento/661322.txt",
         "2001-01-17"
        ],
        [
         "5",
         "5",
         "InformeComisionLegislativa",
         "http://datos.bcn.cl/recurso/cl/documento/661323.txt",
         "2001-03-22"
        ],
        [
         "6",
         "11",
         "http://datos.bcn.cl/recurso/nulo",
         "http://datos.bcn.cl/recurso/cl/documento/655361.txt",
         "2001-04-19"
        ],
        [
         "7",
         "35",
         "http://datos.bcn.cl/recurso/nulo",
         "http://datos.bcn.cl/recurso/cl/documento/655360.txt",
         "2001-05-02"
        ],
        [
         "8",
         "36",
         "http://datos.bcn.cl/recurso/nulo",
         "http://datos.bcn.cl/recurso/cl/documento/655358.txt",
         "2001-05-03"
        ],
        [
         "9",
         "20",
         "InformeComisionLegislativa",
         "http://datos.bcn.cl/recurso/cl/documento/661324.txt",
         "2001-07-18"
        ],
        [
         "10",
         "32",
         "InformeComisionLegislativa",
         "http://datos.bcn.cl/recurso/cl/documento/661325.txt",
         "2001-09-11"
        ],
        [
         "11",
         "9",
         "InformeComisionLegislativa",
         "http://datos.bcn.cl/recurso/cl/documento/661327.txt",
         "2001-10-04"
        ],
        [
         "12",
         "2",
         "http://datos.bcn.cl/recurso/nulo",
         "http://datos.bcn.cl/recurso/cl/documento/655207.txt",
         "2001-10-09"
        ],
        [
         "13",
         "15",
         "Oficio",
         "http://datos.bcn.cl/recurso/cl/documento/661329.txt",
         "2002-01-24"
        ],
        [
         "14",
         "34",
         "VersionProyectoDeLey",
         "http://datos.bcn.cl/recurso/cl/documento/668659.txt",
         "2002-01-24"
        ],
        [
         "15",
         "13",
         "Oficio",
         "http://datos.bcn.cl/recurso/cl/documento/661331.txt",
         "2002-03-25"
        ],
        [
         "16",
         "26",
         "InformeComisionLegislativa",
         "http://datos.bcn.cl/recurso/cl/documento/661332.txt",
         "2003-12-02"
        ],
        [
         "17",
         "4",
         "http://datos.bcn.cl/recurso/nulo",
         "http://datos.bcn.cl/recurso/cl/documento/653467.txt",
         "2003-12-03"
        ],
        [
         "18",
         "31",
         "BoletinIndicaciones",
         "http://datos.bcn.cl/recurso/cl/documento/661335.txt",
         "2004-01-12"
        ],
        [
         "19",
         "6",
         "InformeComisionLegislativa",
         "http://datos.bcn.cl/recurso/cl/documento/661336.txt",
         "2004-05-11"
        ],
        [
         "20",
         "21",
         "InformeComisionLegislativa",
         "http://datos.bcn.cl/recurso/cl/documento/661338.txt",
         "2004-07-07"
        ],
        [
         "21",
         "33",
         "InformeComisionLegislativa",
         "http://datos.bcn.cl/recurso/cl/documento/661343.txt",
         "2004-08-03"
        ],
        [
         "22",
         "28",
         "http://datos.bcn.cl/recurso/nulo",
         "http://datos.bcn.cl/recurso/cl/documento/652584.txt",
         "2004-08-17"
        ],
        [
         "23",
         "16",
         "VersionProyectoDeLey",
         "http://datos.bcn.cl/recurso/cl/documento/668660.txt",
         "2004-08-18"
        ],
        [
         "24",
         "18",
         "Oficio",
         "http://datos.bcn.cl/recurso/cl/documento/661344.txt",
         "2004-08-18"
        ],
        [
         "25",
         "29",
         "InformeComisionLegislativa",
         "http://datos.bcn.cl/recurso/cl/documento/661346.txt",
         "2004-09-15"
        ],
        [
         "26",
         "3",
         "Oficio",
         "http://datos.bcn.cl/recurso/cl/documento/661348.txt",
         "2004-10-05"
        ],
        [
         "27",
         "24",
         "http://datos.bcn.cl/recurso/nulo",
         "http://datos.bcn.cl/recurso/cl/documento/653087.txt",
         "2004-10-05"
        ],
        [
         "28",
         "10",
         "VersionProyectoDeLey",
         "http://datos.bcn.cl/recurso/cl/documento/668663.txt",
         "2004-11-02"
        ],
        [
         "29",
         "19",
         "InformeComisionMixta",
         "http://datos.bcn.cl/recurso/cl/documento/661349.txt",
         "2004-11-02"
        ],
        [
         "30",
         "38",
         "Oficio",
         "http://datos.bcn.cl/recurso/cl/documento/661350.txt",
         "2004-11-09"
        ],
        [
         "31",
         "14",
         "Oficio",
         "http://datos.bcn.cl/recurso/cl/documento/661351.txt",
         "2004-11-17"
        ],
        [
         "32",
         "17",
         "http://datos.bcn.cl/recurso/nulo",
         "http://datos.bcn.cl/recurso/cl/documento/651996.txt",
         "2004-11-17"
        ],
        [
         "33",
         "27",
         "Oficio",
         "http://datos.bcn.cl/recurso/cl/documento/661352.txt",
         "2004-11-30"
        ],
        [
         "34",
         "1",
         "Oficio",
         "http://datos.bcn.cl/recurso/cl/documento/661353.txt",
         "2005-01-04"
        ],
        [
         "35",
         "7",
         "Oficio",
         "http://datos.bcn.cl/recurso/cl/documento/661354.txt",
         "2005-01-25"
        ],
        [
         "36",
         "8",
         "VersionProyectoDeLey",
         "http://datos.bcn.cl/recurso/cl/documento/668664.txt",
         "2005-01-27"
        ],
        [
         "37",
         "22",
         "Oficio",
         "http://datos.bcn.cl/recurso/cl/documento/661355.txt",
         "2005-01-27"
        ]
       ],
       "shape": {
        "columns": 4,
        "rows": 38
       }
      },
      "text/html": [
       "<div>\n",
       "<style scoped>\n",
       "    .dataframe tbody tr th:only-of-type {\n",
       "        vertical-align: middle;\n",
       "    }\n",
       "\n",
       "    .dataframe tbody tr th {\n",
       "        vertical-align: top;\n",
       "    }\n",
       "\n",
       "    .dataframe thead th {\n",
       "        text-align: right;\n",
       "    }\n",
       "</style>\n",
       "<table border=\"1\" class=\"dataframe\">\n",
       "  <thead>\n",
       "    <tr style=\"text-align: right;\">\n",
       "      <th></th>\n",
       "      <th>documento_id</th>\n",
       "      <th>tipo_documento</th>\n",
       "      <th>url_documento</th>\n",
       "      <th>fecha_documento</th>\n",
       "    </tr>\n",
       "  </thead>\n",
       "  <tbody>\n",
       "    <tr>\n",
       "      <th>0</th>\n",
       "      <td>23</td>\n",
       "      <td>VersionProyectoDeLey</td>\n",
       "      <td>http://datos.bcn.cl/recurso/cl/documento/66865...</td>\n",
       "      <td>1999-12-02</td>\n",
       "    </tr>\n",
       "    <tr>\n",
       "      <th>1</th>\n",
       "      <td>25</td>\n",
       "      <td>Mensaje</td>\n",
       "      <td>http://datos.bcn.cl/recurso/cl/documento/66131...</td>\n",
       "      <td>1999-12-02</td>\n",
       "    </tr>\n",
       "    <tr>\n",
       "      <th>2</th>\n",
       "      <td>37</td>\n",
       "      <td>Oficio</td>\n",
       "      <td>http://datos.bcn.cl/recurso/cl/documento/66132...</td>\n",
       "      <td>1999-12-14</td>\n",
       "    </tr>\n",
       "    <tr>\n",
       "      <th>3</th>\n",
       "      <td>12</td>\n",
       "      <td>Oficio</td>\n",
       "      <td>http://datos.bcn.cl/recurso/cl/documento/66132...</td>\n",
       "      <td>2000-07-05</td>\n",
       "    </tr>\n",
       "    <tr>\n",
       "      <th>4</th>\n",
       "      <td>30</td>\n",
       "      <td>InformeComisionLegislativa</td>\n",
       "      <td>http://datos.bcn.cl/recurso/cl/documento/66132...</td>\n",
       "      <td>2001-01-17</td>\n",
       "    </tr>\n",
       "    <tr>\n",
       "      <th>5</th>\n",
       "      <td>5</td>\n",
       "      <td>InformeComisionLegislativa</td>\n",
       "      <td>http://datos.bcn.cl/recurso/cl/documento/66132...</td>\n",
       "      <td>2001-03-22</td>\n",
       "    </tr>\n",
       "    <tr>\n",
       "      <th>6</th>\n",
       "      <td>11</td>\n",
       "      <td>http://datos.bcn.cl/recurso/nulo</td>\n",
       "      <td>http://datos.bcn.cl/recurso/cl/documento/65536...</td>\n",
       "      <td>2001-04-19</td>\n",
       "    </tr>\n",
       "    <tr>\n",
       "      <th>7</th>\n",
       "      <td>35</td>\n",
       "      <td>http://datos.bcn.cl/recurso/nulo</td>\n",
       "      <td>http://datos.bcn.cl/recurso/cl/documento/65536...</td>\n",
       "      <td>2001-05-02</td>\n",
       "    </tr>\n",
       "    <tr>\n",
       "      <th>8</th>\n",
       "      <td>36</td>\n",
       "      <td>http://datos.bcn.cl/recurso/nulo</td>\n",
       "      <td>http://datos.bcn.cl/recurso/cl/documento/65535...</td>\n",
       "      <td>2001-05-03</td>\n",
       "    </tr>\n",
       "    <tr>\n",
       "      <th>9</th>\n",
       "      <td>20</td>\n",
       "      <td>InformeComisionLegislativa</td>\n",
       "      <td>http://datos.bcn.cl/recurso/cl/documento/66132...</td>\n",
       "      <td>2001-07-18</td>\n",
       "    </tr>\n",
       "    <tr>\n",
       "      <th>10</th>\n",
       "      <td>32</td>\n",
       "      <td>InformeComisionLegislativa</td>\n",
       "      <td>http://datos.bcn.cl/recurso/cl/documento/66132...</td>\n",
       "      <td>2001-09-11</td>\n",
       "    </tr>\n",
       "    <tr>\n",
       "      <th>11</th>\n",
       "      <td>9</td>\n",
       "      <td>InformeComisionLegislativa</td>\n",
       "      <td>http://datos.bcn.cl/recurso/cl/documento/66132...</td>\n",
       "      <td>2001-10-04</td>\n",
       "    </tr>\n",
       "    <tr>\n",
       "      <th>12</th>\n",
       "      <td>2</td>\n",
       "      <td>http://datos.bcn.cl/recurso/nulo</td>\n",
       "      <td>http://datos.bcn.cl/recurso/cl/documento/65520...</td>\n",
       "      <td>2001-10-09</td>\n",
       "    </tr>\n",
       "    <tr>\n",
       "      <th>13</th>\n",
       "      <td>15</td>\n",
       "      <td>Oficio</td>\n",
       "      <td>http://datos.bcn.cl/recurso/cl/documento/66132...</td>\n",
       "      <td>2002-01-24</td>\n",
       "    </tr>\n",
       "    <tr>\n",
       "      <th>14</th>\n",
       "      <td>34</td>\n",
       "      <td>VersionProyectoDeLey</td>\n",
       "      <td>http://datos.bcn.cl/recurso/cl/documento/66865...</td>\n",
       "      <td>2002-01-24</td>\n",
       "    </tr>\n",
       "    <tr>\n",
       "      <th>15</th>\n",
       "      <td>13</td>\n",
       "      <td>Oficio</td>\n",
       "      <td>http://datos.bcn.cl/recurso/cl/documento/66133...</td>\n",
       "      <td>2002-03-25</td>\n",
       "    </tr>\n",
       "    <tr>\n",
       "      <th>16</th>\n",
       "      <td>26</td>\n",
       "      <td>InformeComisionLegislativa</td>\n",
       "      <td>http://datos.bcn.cl/recurso/cl/documento/66133...</td>\n",
       "      <td>2003-12-02</td>\n",
       "    </tr>\n",
       "    <tr>\n",
       "      <th>17</th>\n",
       "      <td>4</td>\n",
       "      <td>http://datos.bcn.cl/recurso/nulo</td>\n",
       "      <td>http://datos.bcn.cl/recurso/cl/documento/65346...</td>\n",
       "      <td>2003-12-03</td>\n",
       "    </tr>\n",
       "    <tr>\n",
       "      <th>18</th>\n",
       "      <td>31</td>\n",
       "      <td>BoletinIndicaciones</td>\n",
       "      <td>http://datos.bcn.cl/recurso/cl/documento/66133...</td>\n",
       "      <td>2004-01-12</td>\n",
       "    </tr>\n",
       "    <tr>\n",
       "      <th>19</th>\n",
       "      <td>6</td>\n",
       "      <td>InformeComisionLegislativa</td>\n",
       "      <td>http://datos.bcn.cl/recurso/cl/documento/66133...</td>\n",
       "      <td>2004-05-11</td>\n",
       "    </tr>\n",
       "    <tr>\n",
       "      <th>20</th>\n",
       "      <td>21</td>\n",
       "      <td>InformeComisionLegislativa</td>\n",
       "      <td>http://datos.bcn.cl/recurso/cl/documento/66133...</td>\n",
       "      <td>2004-07-07</td>\n",
       "    </tr>\n",
       "    <tr>\n",
       "      <th>21</th>\n",
       "      <td>33</td>\n",
       "      <td>InformeComisionLegislativa</td>\n",
       "      <td>http://datos.bcn.cl/recurso/cl/documento/66134...</td>\n",
       "      <td>2004-08-03</td>\n",
       "    </tr>\n",
       "    <tr>\n",
       "      <th>22</th>\n",
       "      <td>28</td>\n",
       "      <td>http://datos.bcn.cl/recurso/nulo</td>\n",
       "      <td>http://datos.bcn.cl/recurso/cl/documento/65258...</td>\n",
       "      <td>2004-08-17</td>\n",
       "    </tr>\n",
       "    <tr>\n",
       "      <th>23</th>\n",
       "      <td>16</td>\n",
       "      <td>VersionProyectoDeLey</td>\n",
       "      <td>http://datos.bcn.cl/recurso/cl/documento/66866...</td>\n",
       "      <td>2004-08-18</td>\n",
       "    </tr>\n",
       "    <tr>\n",
       "      <th>24</th>\n",
       "      <td>18</td>\n",
       "      <td>Oficio</td>\n",
       "      <td>http://datos.bcn.cl/recurso/cl/documento/66134...</td>\n",
       "      <td>2004-08-18</td>\n",
       "    </tr>\n",
       "    <tr>\n",
       "      <th>25</th>\n",
       "      <td>29</td>\n",
       "      <td>InformeComisionLegislativa</td>\n",
       "      <td>http://datos.bcn.cl/recurso/cl/documento/66134...</td>\n",
       "      <td>2004-09-15</td>\n",
       "    </tr>\n",
       "    <tr>\n",
       "      <th>26</th>\n",
       "      <td>3</td>\n",
       "      <td>Oficio</td>\n",
       "      <td>http://datos.bcn.cl/recurso/cl/documento/66134...</td>\n",
       "      <td>2004-10-05</td>\n",
       "    </tr>\n",
       "    <tr>\n",
       "      <th>27</th>\n",
       "      <td>24</td>\n",
       "      <td>http://datos.bcn.cl/recurso/nulo</td>\n",
       "      <td>http://datos.bcn.cl/recurso/cl/documento/65308...</td>\n",
       "      <td>2004-10-05</td>\n",
       "    </tr>\n",
       "    <tr>\n",
       "      <th>28</th>\n",
       "      <td>10</td>\n",
       "      <td>VersionProyectoDeLey</td>\n",
       "      <td>http://datos.bcn.cl/recurso/cl/documento/66866...</td>\n",
       "      <td>2004-11-02</td>\n",
       "    </tr>\n",
       "    <tr>\n",
       "      <th>29</th>\n",
       "      <td>19</td>\n",
       "      <td>InformeComisionMixta</td>\n",
       "      <td>http://datos.bcn.cl/recurso/cl/documento/66134...</td>\n",
       "      <td>2004-11-02</td>\n",
       "    </tr>\n",
       "    <tr>\n",
       "      <th>30</th>\n",
       "      <td>38</td>\n",
       "      <td>Oficio</td>\n",
       "      <td>http://datos.bcn.cl/recurso/cl/documento/66135...</td>\n",
       "      <td>2004-11-09</td>\n",
       "    </tr>\n",
       "    <tr>\n",
       "      <th>31</th>\n",
       "      <td>14</td>\n",
       "      <td>Oficio</td>\n",
       "      <td>http://datos.bcn.cl/recurso/cl/documento/66135...</td>\n",
       "      <td>2004-11-17</td>\n",
       "    </tr>\n",
       "    <tr>\n",
       "      <th>32</th>\n",
       "      <td>17</td>\n",
       "      <td>http://datos.bcn.cl/recurso/nulo</td>\n",
       "      <td>http://datos.bcn.cl/recurso/cl/documento/65199...</td>\n",
       "      <td>2004-11-17</td>\n",
       "    </tr>\n",
       "    <tr>\n",
       "      <th>33</th>\n",
       "      <td>27</td>\n",
       "      <td>Oficio</td>\n",
       "      <td>http://datos.bcn.cl/recurso/cl/documento/66135...</td>\n",
       "      <td>2004-11-30</td>\n",
       "    </tr>\n",
       "    <tr>\n",
       "      <th>34</th>\n",
       "      <td>1</td>\n",
       "      <td>Oficio</td>\n",
       "      <td>http://datos.bcn.cl/recurso/cl/documento/66135...</td>\n",
       "      <td>2005-01-04</td>\n",
       "    </tr>\n",
       "    <tr>\n",
       "      <th>35</th>\n",
       "      <td>7</td>\n",
       "      <td>Oficio</td>\n",
       "      <td>http://datos.bcn.cl/recurso/cl/documento/66135...</td>\n",
       "      <td>2005-01-25</td>\n",
       "    </tr>\n",
       "    <tr>\n",
       "      <th>36</th>\n",
       "      <td>8</td>\n",
       "      <td>VersionProyectoDeLey</td>\n",
       "      <td>http://datos.bcn.cl/recurso/cl/documento/66866...</td>\n",
       "      <td>2005-01-27</td>\n",
       "    </tr>\n",
       "    <tr>\n",
       "      <th>37</th>\n",
       "      <td>22</td>\n",
       "      <td>Oficio</td>\n",
       "      <td>http://datos.bcn.cl/recurso/cl/documento/66135...</td>\n",
       "      <td>2005-01-27</td>\n",
       "    </tr>\n",
       "  </tbody>\n",
       "</table>\n",
       "</div>"
      ],
      "text/plain": [
       "    documento_id                    tipo_documento  \\\n",
       "0             23              VersionProyectoDeLey   \n",
       "1             25                           Mensaje   \n",
       "2             37                            Oficio   \n",
       "3             12                            Oficio   \n",
       "4             30        InformeComisionLegislativa   \n",
       "5              5        InformeComisionLegislativa   \n",
       "6             11  http://datos.bcn.cl/recurso/nulo   \n",
       "7             35  http://datos.bcn.cl/recurso/nulo   \n",
       "8             36  http://datos.bcn.cl/recurso/nulo   \n",
       "9             20        InformeComisionLegislativa   \n",
       "10            32        InformeComisionLegislativa   \n",
       "11             9        InformeComisionLegislativa   \n",
       "12             2  http://datos.bcn.cl/recurso/nulo   \n",
       "13            15                            Oficio   \n",
       "14            34              VersionProyectoDeLey   \n",
       "15            13                            Oficio   \n",
       "16            26        InformeComisionLegislativa   \n",
       "17             4  http://datos.bcn.cl/recurso/nulo   \n",
       "18            31               BoletinIndicaciones   \n",
       "19             6        InformeComisionLegislativa   \n",
       "20            21        InformeComisionLegislativa   \n",
       "21            33        InformeComisionLegislativa   \n",
       "22            28  http://datos.bcn.cl/recurso/nulo   \n",
       "23            16              VersionProyectoDeLey   \n",
       "24            18                            Oficio   \n",
       "25            29        InformeComisionLegislativa   \n",
       "26             3                            Oficio   \n",
       "27            24  http://datos.bcn.cl/recurso/nulo   \n",
       "28            10              VersionProyectoDeLey   \n",
       "29            19              InformeComisionMixta   \n",
       "30            38                            Oficio   \n",
       "31            14                            Oficio   \n",
       "32            17  http://datos.bcn.cl/recurso/nulo   \n",
       "33            27                            Oficio   \n",
       "34             1                            Oficio   \n",
       "35             7                            Oficio   \n",
       "36             8              VersionProyectoDeLey   \n",
       "37            22                            Oficio   \n",
       "\n",
       "                                        url_documento fecha_documento  \n",
       "0   http://datos.bcn.cl/recurso/cl/documento/66865...      1999-12-02  \n",
       "1   http://datos.bcn.cl/recurso/cl/documento/66131...      1999-12-02  \n",
       "2   http://datos.bcn.cl/recurso/cl/documento/66132...      1999-12-14  \n",
       "3   http://datos.bcn.cl/recurso/cl/documento/66132...      2000-07-05  \n",
       "4   http://datos.bcn.cl/recurso/cl/documento/66132...      2001-01-17  \n",
       "5   http://datos.bcn.cl/recurso/cl/documento/66132...      2001-03-22  \n",
       "6   http://datos.bcn.cl/recurso/cl/documento/65536...      2001-04-19  \n",
       "7   http://datos.bcn.cl/recurso/cl/documento/65536...      2001-05-02  \n",
       "8   http://datos.bcn.cl/recurso/cl/documento/65535...      2001-05-03  \n",
       "9   http://datos.bcn.cl/recurso/cl/documento/66132...      2001-07-18  \n",
       "10  http://datos.bcn.cl/recurso/cl/documento/66132...      2001-09-11  \n",
       "11  http://datos.bcn.cl/recurso/cl/documento/66132...      2001-10-04  \n",
       "12  http://datos.bcn.cl/recurso/cl/documento/65520...      2001-10-09  \n",
       "13  http://datos.bcn.cl/recurso/cl/documento/66132...      2002-01-24  \n",
       "14  http://datos.bcn.cl/recurso/cl/documento/66865...      2002-01-24  \n",
       "15  http://datos.bcn.cl/recurso/cl/documento/66133...      2002-03-25  \n",
       "16  http://datos.bcn.cl/recurso/cl/documento/66133...      2003-12-02  \n",
       "17  http://datos.bcn.cl/recurso/cl/documento/65346...      2003-12-03  \n",
       "18  http://datos.bcn.cl/recurso/cl/documento/66133...      2004-01-12  \n",
       "19  http://datos.bcn.cl/recurso/cl/documento/66133...      2004-05-11  \n",
       "20  http://datos.bcn.cl/recurso/cl/documento/66133...      2004-07-07  \n",
       "21  http://datos.bcn.cl/recurso/cl/documento/66134...      2004-08-03  \n",
       "22  http://datos.bcn.cl/recurso/cl/documento/65258...      2004-08-17  \n",
       "23  http://datos.bcn.cl/recurso/cl/documento/66866...      2004-08-18  \n",
       "24  http://datos.bcn.cl/recurso/cl/documento/66134...      2004-08-18  \n",
       "25  http://datos.bcn.cl/recurso/cl/documento/66134...      2004-09-15  \n",
       "26  http://datos.bcn.cl/recurso/cl/documento/66134...      2004-10-05  \n",
       "27  http://datos.bcn.cl/recurso/cl/documento/65308...      2004-10-05  \n",
       "28  http://datos.bcn.cl/recurso/cl/documento/66866...      2004-11-02  \n",
       "29  http://datos.bcn.cl/recurso/cl/documento/66134...      2004-11-02  \n",
       "30  http://datos.bcn.cl/recurso/cl/documento/66135...      2004-11-09  \n",
       "31  http://datos.bcn.cl/recurso/cl/documento/66135...      2004-11-17  \n",
       "32  http://datos.bcn.cl/recurso/cl/documento/65199...      2004-11-17  \n",
       "33  http://datos.bcn.cl/recurso/cl/documento/66135...      2004-11-30  \n",
       "34  http://datos.bcn.cl/recurso/cl/documento/66135...      2005-01-04  \n",
       "35  http://datos.bcn.cl/recurso/cl/documento/66135...      2005-01-25  \n",
       "36  http://datos.bcn.cl/recurso/cl/documento/66866...      2005-01-27  \n",
       "37  http://datos.bcn.cl/recurso/cl/documento/66135...      2005-01-27  "
      ]
     },
     "metadata": {},
     "output_type": "display_data"
    },
    {
     "data": {
      "text/markdown": [
       "--- \n",
       "### Extracto del Documento ID: 23 (primeros 1000 caracteres)"
      ],
      "text/plain": [
       "<IPython.core.display.Markdown object>"
      ]
     },
     "metadata": {},
     "output_type": "display_data"
    },
    {
     "data": {
      "text/markdown": [
       "**URL:** `http://datos.bcn.cl/recurso/cl/documento/668657.txt`"
      ],
      "text/plain": [
       "<IPython.core.display.Markdown object>"
      ]
     },
     "metadata": {},
     "output_type": "display_data"
    },
    {
     "name": "stdout",
     "output_type": "stream",
     "text": [
      "\n",
      "Descargando contenido del texto de ejemplo...\n"
     ]
    },
    {
     "data": {
      "text/markdown": [
       "<pre style='background-color:#f4f4f4; padding: 10px; border-radius: 5px; white-space: pre-wrap;'>PROYECTO DE LEY:\n",
       "\"TÍTULO I\n",
       "DE LOS DELITOS Y SANCIONES\n",
       "Párrafo 1º\n",
       "De los delitos generales\n",
       "ARTICULO 1°.- Los que elaboren, fabriquen, transformen, preparen o extraigan sustancias o drogas estupefacientes o psicotrópicas productoras de dependencia física o síquica, capaces de provocar graves efectos tóxicos o daños considerables a la salud, sin la debida autorización, serán castigados con presidio mayor en su grado mínimo a medio y multa de cuarenta a cuatrocientas unidades tributarias mensuales. Dicha pena corporal podrá rebajarse en un grado de concurrir alguna de las circunstancias que menciona el artículo cuarto de esta ley; y si es, además, de tal entidad, que amerite dicha reducción.\n",
       "Si se tratare de otras drogas o sustancias de esta índole que no produzcan los efectos indicados en el inciso anterior, podrá rebajarse la pena hasta en dos grados, de concurrir dichas circunstancias en los términos señalados precedentemente.\n",
       "Se presumirá autor del delito sancionado en este artículo, a quien tenga en su poder elementos, instrumentos, materiales o equipos comúnmente utilizados en la elaboración, fabricación, preparación, transformación o extracción de las sustancias o drogas a que se refieren los incisos anteriores, si de los antecedentes reunidos, puede desprenderse que estuvieron destinados a tal finalidad.\n",
       "ARTICULO 2°.- La producción, fabricación, elaboración, distribución, transporte, comercialización, importación, exportación, posesión o tenencia de sustancias químicas, a sabiendas de que se destinarán a la preparación de drogas estupefacientes o sustancias psicotrópicas para perpetrar, dentro o fuera del país, alguno de los hechos considerados como delitos en esta ley, será castigado con presidio menor en su grado máximo a presidido mayor en su grado mínimo y multa de cuarenta a cuatrocientas unidades tributarias mensuales.\n",
       "ARTICULO 3°.- Las penas establecidas en el artículo primero, con las modalidades en él señaladas, se aplicarán también a los que trafiquen, a cualquier título, con las sustancias a que dicha disposición se refiere; o con las materias primas que sirvan para obtenerlas; y a los que, por cualquier medio, induzcan, promuevan o faciliten el uso o consumo de tales sustancias.\n",
       "Se presumirá autor de dicho tráfico, a quien, careciendo de la debida autorización, importe, exporte, transporte, adquiera, transfiera, substraiga, posea, suministre, guarde o porte consigo tales sustancias o materias primas, a menos que justifique que están destinadas a un tratamiento médico o a su uso personal exclusivo y próximo en el tiempo.\n",
       "En este último caso, le serán aplicables las normas de los artículos 48 y siguientes de esta ley.\n",
       "En el caso de que el sentenciado no pagare la multa impuesta sufrirá, por vía de sustitución, la pena de reclusión, regulándose un día por cada media unidad tributaria mensual. En todo caso, la reclusión no podrá exceder de seis meses.\n",
       "Sin perjuicio de lo dispuesto en el inciso anterior, en casos debidamente calificados, el tribunal podrá eximir al condenado del pago de multa o imponerle una inferior al mínimo establecido en esta ley, debiendo dejar constancia en la sentencia de las razones que motivaron su decisión.\n",
       "Párrafo 2º\n",
       "De las rebajas y aumentos de penas\n",
       "ARTICULO 4°.- Para los efectos de rebajar, según corresponda, en uno o dos grados la pena asignada a los delitos contemplados en los artículos primero y tercero, el juez considerará, especialmente, alguna de las circunstancias siguientes:\n",
       "a)La inmediata y espontánea confesión de participación en el delito prestada al Ministerio Público, aun cuando tal confesión no importe cooperación eficaz.\n",
       "b)La escasa potencialidad dañina con que obró el imputado.\n",
       "c)Si el acusado actuó solo en la perpetración del hecho delictuoso.\n",
       "La rebaja de penalidad determinada en virtud de alguna de estas circunstancias, deberá ser fundada.\n",
       "ARTICULO 5°.- No obstante lo dispuesto en el artículo anterior, no procederá rebaja de pena, o está podrá ser aumentada en un grado, atendida la entidad del hecho, si concurre alguna de las circunstancias siguientes:\n",
       "a)Si el imputado formó parte de una agrupación o reunión de delincuentes que, sin incurrir en el delito de organización del artículo 22, agregó una mayor criminalidad al comportamiento de los malhechores.\n",
       "b)Si el delincuente ha sido condenado por crimen o simple delito de carácter internacional, cualesquiera sea su naturaleza.\n",
       "c)Si con ocasión de la comisión del delito contemplado en esta ley, incurrió, además, en otros delitos.\n",
       "d)Si se utilizó violencia o armas en su comisión.\n",
       "e)Si hubo aprovechamiento de personas exentas de responsabilidad penal o de menores inimputables en su perpetración.\n",
       "f)Si el delito se cometió en las inmediaciones o en el interior de un establecimiento de enseñanza o en sitios a los que escolares y estudiantes acuden a realizar actividades educativas, deportivas o sociales, encontrándose éstos, en dichos lugares.\n",
       "g)Si se perpetró en una institución deportiva, cultural o social, mientras éstas cumplen sus fines propios; o en sitios donde se estén realizando espectáculos públicos, actividades recreativas, culturales o sociales.\n",
       "h)Si fue cometido en un centro hospitalario, asistencial, lugar de detención, recinto militar o policial.\n",
       "i)Si se suministró, promovió o facilitó el uso o consumo de drogas o sustancias estupefacientes o psicotrópicas, a menores de dieciocho años de edad o a personas con sus facultades mentales disminuidas o perturbadas.\n",
       "j)Si el hechor indujo, promovió o facilitó el uso o consumo de estupefacientes, psicotrópicos o hidrocarburos aromáticos, a personas a cuyo cargo o cuidado se encontraban.\n",
       "k)Si el delito se cometió por funcionarios públicos aprovechando o abusando de su calidad de tal.\n",
       "Lo dispuesto en el inciso primero de este artículo es sin perjuicio de la rebaja de pena que autorizan las modificatorias comunes de responsabilidad penal y la cooperación eficaz.\n",
       "ARTICULO 5º.En los delitos contemplados en esta ley no procederá la atenuante de responsabilidad penal contenida en el número 7 del artículo 11 del Código Penal.\n",
       "ARTICULO 6º.Para determinar si existe reincidencia respecto de los delitos castigados en esta ley, se considerarán las sentencias firmes dictadas en un Estado extranjero, aun cuando la pena impuesta no haya sido cumplida.\n",
       "Párrafo 3º\n",
       "De los delitos específicos\n",
       "ARTICULO 7°.- El que suministre a menores de dieciocho años de edad, a cualquier título, productos que contengan hidrocarburos aromáticos, tales como benceno, tolueno u otras sustancias similares, en proporción suficiente para producir efectos tóxicos o psicotrópicos , a sabiendas de que están destinados a ser consumidos por dichas personas, incurrirá en la pena de presidio menor en su grado medio a máximo y multa de cuarenta o doscientas unidades tributarias mensuales.\n",
       "Si sólo hubo imprudencia o negligencia culpable en el suministro, la sanción será reclusión o relegación menores en su grado mínimo o multa de veinte o cien unidades tributarias mensuales.\n",
       "Atendidas las circunstancias del delito, podrá imponerse, además, la clausura a que hace referencia el artículo octavo de esta ley.\n",
       "ARTICULO 8°.- El médico cirujano, odontólogo, médico veterinario o matrona, que a sabiendas recete alguna de las sustancias señaladas en el artículo primero, sin necesidad médica o terapéutica, será penado con presidio mayor en sus grados mínimo a medio y multa de cuarenta a cuatrocientas unidades tributarias mensuales.\n",
       "Si obrare con imprudencia o negligencia culpable, la sanción será reclusión o relegación menores en su grado mínimo a medio y multa de veinte a cien unidades tributarias mensuales.\n",
       "Procederá en estos casos la rebaja de pena contemplada en inciso 2° del artículo 1°, atendida la naturaleza de la sustancia que se prescriba, si la forma y circunstancias de la perpetración del hecho, así lo ameritan.\n",
       "ARTICULO 9°.- El que encontrándose autorizado para suministrar a cualquier título las sustancias o drogas a que se refiere el artículo 1°; o las materias que sirvan para obtenerlas, lo hiciere en contravención a las disposiciones legales o reglamentarias que lo regulan, será sancionado con presidio mayor en sus grados mínimo a medio y multa de cuarenta a cuatrocientas unidades tributarias mensuales. Atendidas las circunstancias del delito, podrá imponerse, además, la medida de clausura temporal del establecimiento por un plazo no inferior a sesenta días ni superior a ciento veinte días, aún cuando el autor del hecho sea empleado o dependiente de cualquier modo en dicho establecimiento. En caso de reiteración, podrá imponerse la clausura definitiva de la entidad y la prohibición perpetua al autor de tales ilícitos, de participar en otro establecimiento de igual naturaleza.\n",
       "ARTICULO 10°.- El que siembre, plante, cultive, o coseche especies vegetales del género cannabis u otras productoras de sustancias estupefacientes o psicotrópicas, careciendo de la debida autorización, incurrirá en la pena de presidio menor en su grado máximo a presidio mayor en su grado mínimo y multa de cuarenta a cuatrocientas unidades tributarias mensuales, a menos que se acredite que estuvieron destinadas al uso o consumo personal exclusivo y próximo en el tiempo, en cuyo caso sólo se aplicarán las normas de los artículos 48 y siguientes de esta ley.\n",
       "Según la gravedad del hecho y las circunstancias personales del imputado, la pena podrá rebajarse en un grado.\n",
       "ARTICULO 11.- La autorización a que se refiere el artículo anterior será otorgada por el Servicio Agrícola y Ganadero; y no podrá dársela a las personas acusadas o condenadas por alguno de los delitos contemplados en esta ley; o tratándose de personas jurídicas, cuando cualesquiera de sus socios, asociados o administradores, se encuentren en alguna de dichas situaciones.\n",
       "Se suspenderá la autorización concedida por el solo ministerio de la ley, si con posterioridad a ésta se presenta la acusación; y se entenderá cancelada definitivamente, de igual modo, desde que se enc...</pre>"
      ],
      "text/plain": [
       "<IPython.core.display.Markdown object>"
      ]
     },
     "metadata": {},
     "output_type": "display_data"
    },
    {
     "name": "stdout",
     "output_type": "stream",
     "text": [
      "\n",
      "✅ Conexión a la base de datos cerrada.\n"
     ]
    }
   ],
   "source": [
    "import sqlite3\n",
    "import pandas as pd\n",
    "import requests\n",
    "from IPython.display import display, Markdown\n",
    "\n",
    "# --- CONFIGURACIÓN ---\n",
    "DB_PATH = 'data/database/parlamento.db'\n",
    "BOLETIN_ID = '2439-20'\n",
    "pd.set_option('display.max_rows', 100) # Para mostrar más filas en las tablas largas\n",
    "\n",
    "# --- 1. CONEXIÓN A LA BASE DE DATOS ---\n",
    "try:\n",
    "    conn = sqlite3.connect(DB_PATH)\n",
    "    print(f\"✅ Conexión a la base de datos exitosa.\")\n",
    "except sqlite3.Error as e:\n",
    "    print(f\"❌ Error de base de datos: {e}\")\n",
    "    # Si la conexión falla, no continuamos.\n",
    "    conn = None\n",
    "\n",
    "if conn:\n",
    "    # --- 2. MOSTRAR TÍTULO ---\n",
    "    display(Markdown(f\"# 📖 Análisis del Proyecto de Ley: {BOLETIN_ID}\"))\n",
    "\n",
    "    # --- 3. OBTENER Y MOSTRAR FICHA PRINCIPAL ---\n",
    "    display(Markdown(\"--- \\n## ℹ️ Ficha Principal del Proyecto\"))\n",
    "    df_bill = pd.read_sql_query(\"SELECT * FROM bills WHERE bill_id = ?\", conn, params=(BOLETIN_ID,))\n",
    "    \n",
    "    if df_bill.empty:\n",
    "        display(Markdown(f\"**Error:** No se encontró ningún proyecto con el boletín `{BOLETIN_ID}`.\"))\n",
    "    else:\n",
    "        # Transponer el DataFrame para una mejor visualización de la ficha\n",
    "        display(df_bill.set_index('bill_id').T)\n",
    "\n",
    "    # --- 4. OBTENER Y MOSTRAR AUTORES Y MATERIAS ---\n",
    "    display(Markdown(\"--- \\n## ✍️ Autores y Materias\"))\n",
    "    \n",
    "    # Autores\n",
    "    authors_query = \"\"\"\n",
    "        SELECT p.nombre_completo, p.genero\n",
    "        FROM bill_authors ba\n",
    "        JOIN dim_parlamentario p ON ba.mp_uid = p.mp_uid\n",
    "        WHERE ba.bill_id = ?;\n",
    "    \"\"\"\n",
    "    df_authors = pd.read_sql_query(authors_query, conn, params=(BOLETIN_ID,))\n",
    "    display(Markdown(\"### Autores Parlamentarios\"))\n",
    "    if df_authors.empty:\n",
    "        display(Markdown(\"_Iniciativa del Ejecutivo o no se encontraron autores parlamentarios en la BD._\"))\n",
    "    else:\n",
    "        display(df_authors)\n",
    "        \n",
    "    # Materias\n",
    "    materias_query = \"\"\"\n",
    "        SELECT m.nombre\n",
    "        FROM bill_materias bm\n",
    "        JOIN dim_materias m ON bm.materia_id = m.materia_id\n",
    "        WHERE bm.bill_id = ?\n",
    "    \"\"\"\n",
    "    df_materias = pd.read_sql_query(materias_query, conn, params=(BOLETIN_ID,))\n",
    "    display(Markdown(\"### Materias Asociadas\"))\n",
    "    if df_materias.empty:\n",
    "        display(Markdown(\"_No se encontraron materias específicas._\"))\n",
    "    else:\n",
    "        display(df_materias)\n",
    "\n",
    "    # --- 5. MOSTRAR TABLA DE TRÁMITES ---\n",
    "    display(Markdown(\"--- \\n## 🛤️ Historial de Tramitación (`bill_tramites`)\"))\n",
    "    tramites_query = \"\"\"\n",
    "        SELECT fecha_tramite, descripcion, etapa_especifica, camara, sesion\n",
    "        FROM bill_tramites\n",
    "        WHERE bill_id = ?\n",
    "        ORDER BY fecha_tramite ASC\n",
    "    \"\"\"\n",
    "    df_tramites = pd.read_sql_query(tramites_query, conn, params=(BOLETIN_ID,))\n",
    "    if df_tramites.empty:\n",
    "        display(Markdown(\"_No se encontró historial de trámites para este proyecto._\"))\n",
    "    else:\n",
    "        display(df_tramites)\n",
    "\n",
    "    # --- 6. MOSTRAR TABLA DE DOCUMENTOS Y UN EXTRACTO ---\n",
    "    display(Markdown(\"--- \\n## 📄 Documentos Asociados (`bill_documentos`)\"))\n",
    "    documentos_query = \"SELECT documento_id, tipo_documento, url_documento, fecha_documento FROM bill_documentos WHERE bill_id = ? ORDER BY fecha_documento ASC\"\n",
    "    df_documentos = pd.read_sql_query(documentos_query, conn, params=(BOLETIN_ID,))\n",
    "    \n",
    "    if df_documentos.empty:\n",
    "        display(Markdown(\"_No se encontraron documentos asociados para este proyecto en la base de datos._\"))\n",
    "    else:\n",
    "        display(Markdown(\"### Tabla de Documentos\"))\n",
    "        display(df_documentos)\n",
    "        \n",
    "        # Tomar el primer documento de la lista como ejemplo\n",
    "        doc_url = df_documentos['url_documento'].iloc[0]\n",
    "        doc_id = df_documentos['documento_id'].iloc[0]\n",
    "        \n",
    "        display(Markdown(f\"--- \\n### Extracto del Documento ID: {doc_id} (primeros 1000 caracteres)\"))\n",
    "        display(Markdown(f\"**URL:** `{doc_url}`\"))\n",
    "        \n",
    "        try:\n",
    "            print(\"\\nDescargando contenido del texto de ejemplo...\")\n",
    "            response = requests.get(doc_url, timeout=30)\n",
    "            response.raise_for_status()\n",
    "            response.encoding = 'utf-8'\n",
    "            texto_completo = response.text\n",
    "            \n",
    "            # Usamos un bloque <pre> para que el texto respete los saltos de línea y espacios\n",
    "            display(Markdown(f\"<pre style='background-color:#f4f4f4; padding: 10px; border-radius: 5px; white-space: pre-wrap;'>{texto_completo[:10000]}...</pre>\"))\n",
    "\n",
    "        except requests.RequestException as e:\n",
    "            display(Markdown(f\"**Error al descargar el documento de ejemplo:** `{e}`\"))\n",
    "            \n",
    "    # Cerrar la conexión\n",
    "    conn.close()\n",
    "    print(\"\\n✅ Conexión a la base de datos cerrada.\")"
   ]
  },
  {
   "cell_type": "code",
   "execution_count": 1,
   "id": "b7891ebe",
   "metadata": {},
   "outputs": [
    {
     "name": "stdout",
     "output_type": "stream",
     "text": [
      "✅ Conexión a la base de datos 'data/database/parlamento.db' exitosa.\n",
      "\n",
      "Se encontraron 27 tablas. Mostrando las 5 primeras filas de cada una:\n",
      "\n"
     ]
    },
    {
     "data": {
      "text/markdown": [
       "### Tabla: `dim_parlamentario`"
      ],
      "text/plain": [
       "<IPython.core.display.Markdown object>"
      ]
     },
     "metadata": {},
     "output_type": "display_data"
    },
    {
     "data": {
      "application/vnd.microsoft.datawrangler.viewer.v0+json": {
       "columns": [
        {
         "name": "index",
         "rawType": "int64",
         "type": "integer"
        },
        {
         "name": "mp_uid",
         "rawType": "int64",
         "type": "integer"
        },
        {
         "name": "nombre_completo",
         "rawType": "object",
         "type": "string"
        },
        {
         "name": "nombre_propio",
         "rawType": "object",
         "type": "string"
        },
        {
         "name": "apellido_paterno",
         "rawType": "object",
         "type": "string"
        },
        {
         "name": "apellido_materno",
         "rawType": "object",
         "type": "unknown"
        },
        {
         "name": "genero",
         "rawType": "object",
         "type": "string"
        },
        {
         "name": "fecha_nacimiento",
         "rawType": "object",
         "type": "unknown"
        },
        {
         "name": "lugar_nacimiento",
         "rawType": "object",
         "type": "unknown"
        },
        {
         "name": "diputadoid",
         "rawType": "object",
         "type": "unknown"
        },
        {
         "name": "senadorid",
         "rawType": "object",
         "type": "unknown"
        },
        {
         "name": "bcn_person_id",
         "rawType": "object",
         "type": "string"
        },
        {
         "name": "bcn_uri",
         "rawType": "object",
         "type": "string"
        },
        {
         "name": "url_foto",
         "rawType": "object",
         "type": "string"
        },
        {
         "name": "twitter_handle",
         "rawType": "object",
         "type": "unknown"
        },
        {
         "name": "sitio_web_personal",
         "rawType": "object",
         "type": "unknown"
        },
        {
         "name": "profesion",
         "rawType": "object",
         "type": "unknown"
        },
        {
         "name": "url_historia_politica",
         "rawType": "object",
         "type": "string"
        },
        {
         "name": "fecha_extraccion",
         "rawType": "object",
         "type": "string"
        }
       ],
       "ref": "e76311c2-7937-47b2-8794-c785d147bcae",
       "rows": [
        [
         "0",
         "1",
         "Carlos Bombal Otaegui",
         "Carlos",
         "Bombal",
         "Otaegui",
         "Masculino",
         null,
         null,
         "415",
         null,
         "2721",
         "http://datos.bcn.cl/recurso/persona/2721",
         "https://www.bcn.cl/laborparlamentaria/imagen/2721.jpg",
         null,
         null,
         "Abogado",
         "https://www.bcn.cl/historiapolitica/resenas_parlamentarias/wiki/Carlos_Bombal_Otaegui",
         "2025-09-06"
        ],
        [
         "1",
         "2",
         "Ramón Arias",
         "Ramón",
         "Arias",
         null,
         "Masculino",
         null,
         null,
         null,
         null,
         "2483",
         "http://datos.bcn.cl/recurso/persona/2483",
         "https://www.bcn.cl/laborparlamentaria/imagen/2483.jpg",
         null,
         null,
         null,
         "https://www.bcn.cl/historiapolitica/resenas_parlamentarias/wiki/Ramón_Arias",
         "2025-09-06"
        ],
        [
         "2",
         "3",
         "José Plácido Musalem Saffie",
         "José Plácido",
         "Musalem",
         "Saffie",
         "Masculino",
         null,
         null,
         null,
         null,
         "2315",
         "http://datos.bcn.cl/recurso/persona/2315",
         "https://www.bcn.cl/laborparlamentaria/imagen/2315.jpg",
         null,
         null,
         "Abogado",
         "https://www.bcn.cl/historiapolitica/resenas_parlamentarias/wiki/José_Plácido_Musalem_Saffie",
         "2025-09-06"
        ],
        [
         "3",
         "4",
         "Arístides Benavente Carvajal",
         "Arístides",
         "Benavente",
         "Carvajal",
         "Masculino",
         null,
         null,
         null,
         null,
         "458",
         "http://datos.bcn.cl/recurso/persona/458",
         "https://www.bcn.cl/laborparlamentaria/imagen/458.jpg",
         null,
         null,
         null,
         "https://www.bcn.cl/historiapolitica/resenas_parlamentarias/wiki/Arístides_Benavente_Carvajal",
         "2025-09-06"
        ],
        [
         "4",
         "5",
         "Juan de Dios Peñafiel Varela",
         "Juan de Dios",
         "Peñafiel",
         "Varela",
         "Masculino",
         null,
         null,
         null,
         null,
         "597",
         "http://datos.bcn.cl/recurso/persona/597",
         "https://www.bcn.cl/laborparlamentaria/imagen/597.jpg",
         null,
         null,
         null,
         "https://www.bcn.cl/historiapolitica/resenas_parlamentarias/wiki/Juan_de_Dios_Peñafiel_Varela",
         "2025-09-06"
        ]
       ],
       "shape": {
        "columns": 18,
        "rows": 5
       }
      },
      "text/html": [
       "<div>\n",
       "<style scoped>\n",
       "    .dataframe tbody tr th:only-of-type {\n",
       "        vertical-align: middle;\n",
       "    }\n",
       "\n",
       "    .dataframe tbody tr th {\n",
       "        vertical-align: top;\n",
       "    }\n",
       "\n",
       "    .dataframe thead th {\n",
       "        text-align: right;\n",
       "    }\n",
       "</style>\n",
       "<table border=\"1\" class=\"dataframe\">\n",
       "  <thead>\n",
       "    <tr style=\"text-align: right;\">\n",
       "      <th></th>\n",
       "      <th>mp_uid</th>\n",
       "      <th>nombre_completo</th>\n",
       "      <th>nombre_propio</th>\n",
       "      <th>apellido_paterno</th>\n",
       "      <th>apellido_materno</th>\n",
       "      <th>genero</th>\n",
       "      <th>fecha_nacimiento</th>\n",
       "      <th>lugar_nacimiento</th>\n",
       "      <th>diputadoid</th>\n",
       "      <th>senadorid</th>\n",
       "      <th>bcn_person_id</th>\n",
       "      <th>bcn_uri</th>\n",
       "      <th>url_foto</th>\n",
       "      <th>twitter_handle</th>\n",
       "      <th>sitio_web_personal</th>\n",
       "      <th>profesion</th>\n",
       "      <th>url_historia_politica</th>\n",
       "      <th>fecha_extraccion</th>\n",
       "    </tr>\n",
       "  </thead>\n",
       "  <tbody>\n",
       "    <tr>\n",
       "      <th>0</th>\n",
       "      <td>1</td>\n",
       "      <td>Carlos Bombal Otaegui</td>\n",
       "      <td>Carlos</td>\n",
       "      <td>Bombal</td>\n",
       "      <td>Otaegui</td>\n",
       "      <td>Masculino</td>\n",
       "      <td>None</td>\n",
       "      <td>None</td>\n",
       "      <td>415</td>\n",
       "      <td>None</td>\n",
       "      <td>2721</td>\n",
       "      <td>http://datos.bcn.cl/recurso/persona/2721</td>\n",
       "      <td>https://www.bcn.cl/laborparlamentaria/imagen/2...</td>\n",
       "      <td>None</td>\n",
       "      <td>None</td>\n",
       "      <td>Abogado</td>\n",
       "      <td>https://www.bcn.cl/historiapolitica/resenas_pa...</td>\n",
       "      <td>2025-09-06</td>\n",
       "    </tr>\n",
       "    <tr>\n",
       "      <th>1</th>\n",
       "      <td>2</td>\n",
       "      <td>Ramón Arias</td>\n",
       "      <td>Ramón</td>\n",
       "      <td>Arias</td>\n",
       "      <td>None</td>\n",
       "      <td>Masculino</td>\n",
       "      <td>None</td>\n",
       "      <td>None</td>\n",
       "      <td>None</td>\n",
       "      <td>None</td>\n",
       "      <td>2483</td>\n",
       "      <td>http://datos.bcn.cl/recurso/persona/2483</td>\n",
       "      <td>https://www.bcn.cl/laborparlamentaria/imagen/2...</td>\n",
       "      <td>None</td>\n",
       "      <td>None</td>\n",
       "      <td>None</td>\n",
       "      <td>https://www.bcn.cl/historiapolitica/resenas_pa...</td>\n",
       "      <td>2025-09-06</td>\n",
       "    </tr>\n",
       "    <tr>\n",
       "      <th>2</th>\n",
       "      <td>3</td>\n",
       "      <td>José Plácido Musalem Saffie</td>\n",
       "      <td>José Plácido</td>\n",
       "      <td>Musalem</td>\n",
       "      <td>Saffie</td>\n",
       "      <td>Masculino</td>\n",
       "      <td>None</td>\n",
       "      <td>None</td>\n",
       "      <td>None</td>\n",
       "      <td>None</td>\n",
       "      <td>2315</td>\n",
       "      <td>http://datos.bcn.cl/recurso/persona/2315</td>\n",
       "      <td>https://www.bcn.cl/laborparlamentaria/imagen/2...</td>\n",
       "      <td>None</td>\n",
       "      <td>None</td>\n",
       "      <td>Abogado</td>\n",
       "      <td>https://www.bcn.cl/historiapolitica/resenas_pa...</td>\n",
       "      <td>2025-09-06</td>\n",
       "    </tr>\n",
       "    <tr>\n",
       "      <th>3</th>\n",
       "      <td>4</td>\n",
       "      <td>Arístides Benavente Carvajal</td>\n",
       "      <td>Arístides</td>\n",
       "      <td>Benavente</td>\n",
       "      <td>Carvajal</td>\n",
       "      <td>Masculino</td>\n",
       "      <td>None</td>\n",
       "      <td>None</td>\n",
       "      <td>None</td>\n",
       "      <td>None</td>\n",
       "      <td>458</td>\n",
       "      <td>http://datos.bcn.cl/recurso/persona/458</td>\n",
       "      <td>https://www.bcn.cl/laborparlamentaria/imagen/4...</td>\n",
       "      <td>None</td>\n",
       "      <td>None</td>\n",
       "      <td>None</td>\n",
       "      <td>https://www.bcn.cl/historiapolitica/resenas_pa...</td>\n",
       "      <td>2025-09-06</td>\n",
       "    </tr>\n",
       "    <tr>\n",
       "      <th>4</th>\n",
       "      <td>5</td>\n",
       "      <td>Juan de Dios Peñafiel Varela</td>\n",
       "      <td>Juan de Dios</td>\n",
       "      <td>Peñafiel</td>\n",
       "      <td>Varela</td>\n",
       "      <td>Masculino</td>\n",
       "      <td>None</td>\n",
       "      <td>None</td>\n",
       "      <td>None</td>\n",
       "      <td>None</td>\n",
       "      <td>597</td>\n",
       "      <td>http://datos.bcn.cl/recurso/persona/597</td>\n",
       "      <td>https://www.bcn.cl/laborparlamentaria/imagen/5...</td>\n",
       "      <td>None</td>\n",
       "      <td>None</td>\n",
       "      <td>None</td>\n",
       "      <td>https://www.bcn.cl/historiapolitica/resenas_pa...</td>\n",
       "      <td>2025-09-06</td>\n",
       "    </tr>\n",
       "  </tbody>\n",
       "</table>\n",
       "</div>"
      ],
      "text/plain": [
       "   mp_uid               nombre_completo nombre_propio apellido_paterno  \\\n",
       "0       1         Carlos Bombal Otaegui        Carlos           Bombal   \n",
       "1       2                   Ramón Arias         Ramón            Arias   \n",
       "2       3   José Plácido Musalem Saffie  José Plácido          Musalem   \n",
       "3       4  Arístides Benavente Carvajal     Arístides        Benavente   \n",
       "4       5  Juan de Dios Peñafiel Varela  Juan de Dios         Peñafiel   \n",
       "\n",
       "  apellido_materno     genero fecha_nacimiento lugar_nacimiento diputadoid  \\\n",
       "0          Otaegui  Masculino             None             None        415   \n",
       "1             None  Masculino             None             None       None   \n",
       "2           Saffie  Masculino             None             None       None   \n",
       "3         Carvajal  Masculino             None             None       None   \n",
       "4           Varela  Masculino             None             None       None   \n",
       "\n",
       "  senadorid bcn_person_id                                   bcn_uri  \\\n",
       "0      None          2721  http://datos.bcn.cl/recurso/persona/2721   \n",
       "1      None          2483  http://datos.bcn.cl/recurso/persona/2483   \n",
       "2      None          2315  http://datos.bcn.cl/recurso/persona/2315   \n",
       "3      None           458   http://datos.bcn.cl/recurso/persona/458   \n",
       "4      None           597   http://datos.bcn.cl/recurso/persona/597   \n",
       "\n",
       "                                            url_foto twitter_handle  \\\n",
       "0  https://www.bcn.cl/laborparlamentaria/imagen/2...           None   \n",
       "1  https://www.bcn.cl/laborparlamentaria/imagen/2...           None   \n",
       "2  https://www.bcn.cl/laborparlamentaria/imagen/2...           None   \n",
       "3  https://www.bcn.cl/laborparlamentaria/imagen/4...           None   \n",
       "4  https://www.bcn.cl/laborparlamentaria/imagen/5...           None   \n",
       "\n",
       "  sitio_web_personal profesion  \\\n",
       "0               None   Abogado   \n",
       "1               None      None   \n",
       "2               None   Abogado   \n",
       "3               None      None   \n",
       "4               None      None   \n",
       "\n",
       "                               url_historia_politica fecha_extraccion  \n",
       "0  https://www.bcn.cl/historiapolitica/resenas_pa...       2025-09-06  \n",
       "1  https://www.bcn.cl/historiapolitica/resenas_pa...       2025-09-06  \n",
       "2  https://www.bcn.cl/historiapolitica/resenas_pa...       2025-09-06  \n",
       "3  https://www.bcn.cl/historiapolitica/resenas_pa...       2025-09-06  \n",
       "4  https://www.bcn.cl/historiapolitica/resenas_pa...       2025-09-06  "
      ]
     },
     "metadata": {},
     "output_type": "display_data"
    },
    {
     "name": "stdout",
     "output_type": "stream",
     "text": [
      "\n",
      "==================================================\n",
      "\n"
     ]
    },
    {
     "data": {
      "text/markdown": [
       "### Tabla: `sqlite_sequence`"
      ],
      "text/plain": [
       "<IPython.core.display.Markdown object>"
      ]
     },
     "metadata": {},
     "output_type": "display_data"
    },
    {
     "data": {
      "application/vnd.microsoft.datawrangler.viewer.v0+json": {
       "columns": [
        {
         "name": "index",
         "rawType": "int64",
         "type": "integer"
        },
        {
         "name": "name",
         "rawType": "object",
         "type": "string"
        },
        {
         "name": "seq",
         "rawType": "int64",
         "type": "integer"
        }
       ],
       "ref": "40166104-b3ad-4266-aeca-f0123333e715",
       "rows": [
        [
         "0",
         "dim_ministerios",
         "29"
        ],
        [
         "1",
         "dim_parlamentario",
         "3964"
        ],
        [
         "2",
         "entity_sources",
         "17"
        ],
        [
         "3",
         "bill_tramites",
         "232"
        ],
        [
         "4",
         "parlamentario_mandatos",
         "10061"
        ]
       ],
       "shape": {
        "columns": 2,
        "rows": 5
       }
      },
      "text/html": [
       "<div>\n",
       "<style scoped>\n",
       "    .dataframe tbody tr th:only-of-type {\n",
       "        vertical-align: middle;\n",
       "    }\n",
       "\n",
       "    .dataframe tbody tr th {\n",
       "        vertical-align: top;\n",
       "    }\n",
       "\n",
       "    .dataframe thead th {\n",
       "        text-align: right;\n",
       "    }\n",
       "</style>\n",
       "<table border=\"1\" class=\"dataframe\">\n",
       "  <thead>\n",
       "    <tr style=\"text-align: right;\">\n",
       "      <th></th>\n",
       "      <th>name</th>\n",
       "      <th>seq</th>\n",
       "    </tr>\n",
       "  </thead>\n",
       "  <tbody>\n",
       "    <tr>\n",
       "      <th>0</th>\n",
       "      <td>dim_ministerios</td>\n",
       "      <td>29</td>\n",
       "    </tr>\n",
       "    <tr>\n",
       "      <th>1</th>\n",
       "      <td>dim_parlamentario</td>\n",
       "      <td>3964</td>\n",
       "    </tr>\n",
       "    <tr>\n",
       "      <th>2</th>\n",
       "      <td>entity_sources</td>\n",
       "      <td>17</td>\n",
       "    </tr>\n",
       "    <tr>\n",
       "      <th>3</th>\n",
       "      <td>bill_tramites</td>\n",
       "      <td>232</td>\n",
       "    </tr>\n",
       "    <tr>\n",
       "      <th>4</th>\n",
       "      <td>parlamentario_mandatos</td>\n",
       "      <td>10061</td>\n",
       "    </tr>\n",
       "  </tbody>\n",
       "</table>\n",
       "</div>"
      ],
      "text/plain": [
       "                     name    seq\n",
       "0         dim_ministerios     29\n",
       "1       dim_parlamentario   3964\n",
       "2          entity_sources     17\n",
       "3           bill_tramites    232\n",
       "4  parlamentario_mandatos  10061"
      ]
     },
     "metadata": {},
     "output_type": "display_data"
    },
    {
     "name": "stdout",
     "output_type": "stream",
     "text": [
      "\n",
      "==================================================\n",
      "\n"
     ]
    },
    {
     "data": {
      "text/markdown": [
       "### Tabla: `dim_periodo_legislativo`"
      ],
      "text/plain": [
       "<IPython.core.display.Markdown object>"
      ]
     },
     "metadata": {},
     "output_type": "display_data"
    },
    {
     "data": {
      "application/vnd.microsoft.datawrangler.viewer.v0+json": {
       "columns": [
        {
         "name": "index",
         "rawType": "int64",
         "type": "integer"
        },
        {
         "name": "periodo_id",
         "rawType": "int64",
         "type": "integer"
        },
        {
         "name": "nombre_periodo",
         "rawType": "object",
         "type": "string"
        },
        {
         "name": "fecha_inicio",
         "rawType": "object",
         "type": "string"
        },
        {
         "name": "fecha_termino",
         "rawType": "object",
         "type": "string"
        }
       ],
       "ref": "899d58ad-89f2-49c3-a081-6774b1c49c4d",
       "rows": [
        [
         "0",
         "1",
         "1990-1994",
         "1990-03-11",
         "1994-03-10"
        ],
        [
         "1",
         "2",
         "1994-1998",
         "1994-03-11",
         "1998-03-10"
        ],
        [
         "2",
         "3",
         "1998-2002",
         "1998-03-11",
         "2002-03-10"
        ],
        [
         "3",
         "4",
         "2002-2006",
         "2002-03-11",
         "2006-03-10"
        ],
        [
         "4",
         "5",
         "2006-2010",
         "2006-03-11",
         "2010-03-10"
        ]
       ],
       "shape": {
        "columns": 4,
        "rows": 5
       }
      },
      "text/html": [
       "<div>\n",
       "<style scoped>\n",
       "    .dataframe tbody tr th:only-of-type {\n",
       "        vertical-align: middle;\n",
       "    }\n",
       "\n",
       "    .dataframe tbody tr th {\n",
       "        vertical-align: top;\n",
       "    }\n",
       "\n",
       "    .dataframe thead th {\n",
       "        text-align: right;\n",
       "    }\n",
       "</style>\n",
       "<table border=\"1\" class=\"dataframe\">\n",
       "  <thead>\n",
       "    <tr style=\"text-align: right;\">\n",
       "      <th></th>\n",
       "      <th>periodo_id</th>\n",
       "      <th>nombre_periodo</th>\n",
       "      <th>fecha_inicio</th>\n",
       "      <th>fecha_termino</th>\n",
       "    </tr>\n",
       "  </thead>\n",
       "  <tbody>\n",
       "    <tr>\n",
       "      <th>0</th>\n",
       "      <td>1</td>\n",
       "      <td>1990-1994</td>\n",
       "      <td>1990-03-11</td>\n",
       "      <td>1994-03-10</td>\n",
       "    </tr>\n",
       "    <tr>\n",
       "      <th>1</th>\n",
       "      <td>2</td>\n",
       "      <td>1994-1998</td>\n",
       "      <td>1994-03-11</td>\n",
       "      <td>1998-03-10</td>\n",
       "    </tr>\n",
       "    <tr>\n",
       "      <th>2</th>\n",
       "      <td>3</td>\n",
       "      <td>1998-2002</td>\n",
       "      <td>1998-03-11</td>\n",
       "      <td>2002-03-10</td>\n",
       "    </tr>\n",
       "    <tr>\n",
       "      <th>3</th>\n",
       "      <td>4</td>\n",
       "      <td>2002-2006</td>\n",
       "      <td>2002-03-11</td>\n",
       "      <td>2006-03-10</td>\n",
       "    </tr>\n",
       "    <tr>\n",
       "      <th>4</th>\n",
       "      <td>5</td>\n",
       "      <td>2006-2010</td>\n",
       "      <td>2006-03-11</td>\n",
       "      <td>2010-03-10</td>\n",
       "    </tr>\n",
       "  </tbody>\n",
       "</table>\n",
       "</div>"
      ],
      "text/plain": [
       "   periodo_id nombre_periodo fecha_inicio fecha_termino\n",
       "0           1      1990-1994   1990-03-11    1994-03-10\n",
       "1           2      1994-1998   1994-03-11    1998-03-10\n",
       "2           3      1998-2002   1998-03-11    2002-03-10\n",
       "3           4      2002-2006   2002-03-11    2006-03-10\n",
       "4           5      2006-2010   2006-03-11    2010-03-10"
      ]
     },
     "metadata": {},
     "output_type": "display_data"
    },
    {
     "name": "stdout",
     "output_type": "stream",
     "text": [
      "\n",
      "==================================================\n",
      "\n"
     ]
    },
    {
     "data": {
      "text/markdown": [
       "### Tabla: `parlamentario_aliases`"
      ],
      "text/plain": [
       "<IPython.core.display.Markdown object>"
      ]
     },
     "metadata": {},
     "output_type": "display_data"
    },
    {
     "data": {
      "application/vnd.microsoft.datawrangler.viewer.v0+json": {
       "columns": [
        {
         "name": "index",
         "rawType": "int64",
         "type": "integer"
        },
        {
         "name": "alias_id",
         "rawType": "object",
         "type": "string"
        },
        {
         "name": "mp_uid",
         "rawType": "object",
         "type": "string"
        },
        {
         "name": "alias",
         "rawType": "object",
         "type": "string"
        }
       ],
       "ref": "41de9124-a0ac-4ab8-89f3-86450aacda64",
       "rows": [],
       "shape": {
        "columns": 3,
        "rows": 0
       }
      },
      "text/html": [
       "<div>\n",
       "<style scoped>\n",
       "    .dataframe tbody tr th:only-of-type {\n",
       "        vertical-align: middle;\n",
       "    }\n",
       "\n",
       "    .dataframe tbody tr th {\n",
       "        vertical-align: top;\n",
       "    }\n",
       "\n",
       "    .dataframe thead th {\n",
       "        text-align: right;\n",
       "    }\n",
       "</style>\n",
       "<table border=\"1\" class=\"dataframe\">\n",
       "  <thead>\n",
       "    <tr style=\"text-align: right;\">\n",
       "      <th></th>\n",
       "      <th>alias_id</th>\n",
       "      <th>mp_uid</th>\n",
       "      <th>alias</th>\n",
       "    </tr>\n",
       "  </thead>\n",
       "  <tbody>\n",
       "  </tbody>\n",
       "</table>\n",
       "</div>"
      ],
      "text/plain": [
       "Empty DataFrame\n",
       "Columns: [alias_id, mp_uid, alias]\n",
       "Index: []"
      ]
     },
     "metadata": {},
     "output_type": "display_data"
    },
    {
     "name": "stdout",
     "output_type": "stream",
     "text": [
      "\n",
      "==================================================\n",
      "\n"
     ]
    },
    {
     "data": {
      "text/markdown": [
       "### Tabla: `dim_partidos`"
      ],
      "text/plain": [
       "<IPython.core.display.Markdown object>"
      ]
     },
     "metadata": {},
     "output_type": "display_data"
    },
    {
     "data": {
      "application/vnd.microsoft.datawrangler.viewer.v0+json": {
       "columns": [
        {
         "name": "index",
         "rawType": "int64",
         "type": "integer"
        },
        {
         "name": "partido_id",
         "rawType": "int64",
         "type": "integer"
        },
        {
         "name": "nombre_partido",
         "rawType": "object",
         "type": "string"
        },
        {
         "name": "nombre_alternativo",
         "rawType": "object",
         "type": "unknown"
        },
        {
         "name": "sigla",
         "rawType": "object",
         "type": "unknown"
        },
        {
         "name": "fecha_fundacion",
         "rawType": "object",
         "type": "unknown"
        },
        {
         "name": "sitio_web",
         "rawType": "object",
         "type": "unknown"
        },
        {
         "name": "url_historia_politica",
         "rawType": "object",
         "type": "unknown"
        },
        {
         "name": "url_logo",
         "rawType": "object",
         "type": "unknown"
        },
        {
         "name": "ultima_actualizacion",
         "rawType": "object",
         "type": "unknown"
        }
       ],
       "ref": "901f9e65-2ac5-43fc-ac12-9034c81fa7f1",
       "rows": [
        [
         "0",
         "1",
         "Partido Unión Demócrata Independiente",
         null,
         "UDI",
         null,
         null,
         null,
         null,
         null
        ],
        [
         "1",
         "2",
         "Falange Nacional",
         null,
         null,
         null,
         null,
         null,
         null,
         null
        ],
        [
         "2",
         "3",
         "Partido Demócrata Cristiano",
         null,
         "DC",
         null,
         null,
         null,
         null,
         null
        ],
        [
         "3",
         "4",
         "Partido Nacional Cristiano",
         null,
         null,
         null,
         null,
         null,
         null,
         null
        ],
        [
         "4",
         "5",
         "Partido Liberal Democrático o Balmacedista",
         null,
         null,
         null,
         null,
         null,
         null,
         null
        ]
       ],
       "shape": {
        "columns": 9,
        "rows": 5
       }
      },
      "text/html": [
       "<div>\n",
       "<style scoped>\n",
       "    .dataframe tbody tr th:only-of-type {\n",
       "        vertical-align: middle;\n",
       "    }\n",
       "\n",
       "    .dataframe tbody tr th {\n",
       "        vertical-align: top;\n",
       "    }\n",
       "\n",
       "    .dataframe thead th {\n",
       "        text-align: right;\n",
       "    }\n",
       "</style>\n",
       "<table border=\"1\" class=\"dataframe\">\n",
       "  <thead>\n",
       "    <tr style=\"text-align: right;\">\n",
       "      <th></th>\n",
       "      <th>partido_id</th>\n",
       "      <th>nombre_partido</th>\n",
       "      <th>nombre_alternativo</th>\n",
       "      <th>sigla</th>\n",
       "      <th>fecha_fundacion</th>\n",
       "      <th>sitio_web</th>\n",
       "      <th>url_historia_politica</th>\n",
       "      <th>url_logo</th>\n",
       "      <th>ultima_actualizacion</th>\n",
       "    </tr>\n",
       "  </thead>\n",
       "  <tbody>\n",
       "    <tr>\n",
       "      <th>0</th>\n",
       "      <td>1</td>\n",
       "      <td>Partido Unión Demócrata Independiente</td>\n",
       "      <td>None</td>\n",
       "      <td>UDI</td>\n",
       "      <td>None</td>\n",
       "      <td>None</td>\n",
       "      <td>None</td>\n",
       "      <td>None</td>\n",
       "      <td>None</td>\n",
       "    </tr>\n",
       "    <tr>\n",
       "      <th>1</th>\n",
       "      <td>2</td>\n",
       "      <td>Falange Nacional</td>\n",
       "      <td>None</td>\n",
       "      <td>None</td>\n",
       "      <td>None</td>\n",
       "      <td>None</td>\n",
       "      <td>None</td>\n",
       "      <td>None</td>\n",
       "      <td>None</td>\n",
       "    </tr>\n",
       "    <tr>\n",
       "      <th>2</th>\n",
       "      <td>3</td>\n",
       "      <td>Partido Demócrata Cristiano</td>\n",
       "      <td>None</td>\n",
       "      <td>DC</td>\n",
       "      <td>None</td>\n",
       "      <td>None</td>\n",
       "      <td>None</td>\n",
       "      <td>None</td>\n",
       "      <td>None</td>\n",
       "    </tr>\n",
       "    <tr>\n",
       "      <th>3</th>\n",
       "      <td>4</td>\n",
       "      <td>Partido Nacional Cristiano</td>\n",
       "      <td>None</td>\n",
       "      <td>None</td>\n",
       "      <td>None</td>\n",
       "      <td>None</td>\n",
       "      <td>None</td>\n",
       "      <td>None</td>\n",
       "      <td>None</td>\n",
       "    </tr>\n",
       "    <tr>\n",
       "      <th>4</th>\n",
       "      <td>5</td>\n",
       "      <td>Partido Liberal Democrático o Balmacedista</td>\n",
       "      <td>None</td>\n",
       "      <td>None</td>\n",
       "      <td>None</td>\n",
       "      <td>None</td>\n",
       "      <td>None</td>\n",
       "      <td>None</td>\n",
       "      <td>None</td>\n",
       "    </tr>\n",
       "  </tbody>\n",
       "</table>\n",
       "</div>"
      ],
      "text/plain": [
       "   partido_id                              nombre_partido nombre_alternativo  \\\n",
       "0           1       Partido Unión Demócrata Independiente               None   \n",
       "1           2                            Falange Nacional               None   \n",
       "2           3                 Partido Demócrata Cristiano               None   \n",
       "3           4                  Partido Nacional Cristiano               None   \n",
       "4           5  Partido Liberal Democrático o Balmacedista               None   \n",
       "\n",
       "  sigla fecha_fundacion sitio_web url_historia_politica url_logo  \\\n",
       "0   UDI            None      None                  None     None   \n",
       "1  None            None      None                  None     None   \n",
       "2    DC            None      None                  None     None   \n",
       "3  None            None      None                  None     None   \n",
       "4  None            None      None                  None     None   \n",
       "\n",
       "  ultima_actualizacion  \n",
       "0                 None  \n",
       "1                 None  \n",
       "2                 None  \n",
       "3                 None  \n",
       "4                 None  "
      ]
     },
     "metadata": {},
     "output_type": "display_data"
    },
    {
     "name": "stdout",
     "output_type": "stream",
     "text": [
      "\n",
      "==================================================\n",
      "\n"
     ]
    },
    {
     "data": {
      "text/markdown": [
       "### Tabla: `dim_coaliciones`"
      ],
      "text/plain": [
       "<IPython.core.display.Markdown object>"
      ]
     },
     "metadata": {},
     "output_type": "display_data"
    },
    {
     "data": {
      "application/vnd.microsoft.datawrangler.viewer.v0+json": {
       "columns": [
        {
         "name": "index",
         "rawType": "int64",
         "type": "integer"
        },
        {
         "name": "coalicion_id",
         "rawType": "object",
         "type": "string"
        },
        {
         "name": "nombre_coalicion",
         "rawType": "object",
         "type": "string"
        }
       ],
       "ref": "586f72a6-e379-4335-adcc-ba348b28fdd4",
       "rows": [],
       "shape": {
        "columns": 2,
        "rows": 0
       }
      },
      "text/html": [
       "<div>\n",
       "<style scoped>\n",
       "    .dataframe tbody tr th:only-of-type {\n",
       "        vertical-align: middle;\n",
       "    }\n",
       "\n",
       "    .dataframe tbody tr th {\n",
       "        vertical-align: top;\n",
       "    }\n",
       "\n",
       "    .dataframe thead th {\n",
       "        text-align: right;\n",
       "    }\n",
       "</style>\n",
       "<table border=\"1\" class=\"dataframe\">\n",
       "  <thead>\n",
       "    <tr style=\"text-align: right;\">\n",
       "      <th></th>\n",
       "      <th>coalicion_id</th>\n",
       "      <th>nombre_coalicion</th>\n",
       "    </tr>\n",
       "  </thead>\n",
       "  <tbody>\n",
       "  </tbody>\n",
       "</table>\n",
       "</div>"
      ],
      "text/plain": [
       "Empty DataFrame\n",
       "Columns: [coalicion_id, nombre_coalicion]\n",
       "Index: []"
      ]
     },
     "metadata": {},
     "output_type": "display_data"
    },
    {
     "name": "stdout",
     "output_type": "stream",
     "text": [
      "\n",
      "==================================================\n",
      "\n"
     ]
    },
    {
     "data": {
      "text/markdown": [
       "### Tabla: `dim_comisiones`"
      ],
      "text/plain": [
       "<IPython.core.display.Markdown object>"
      ]
     },
     "metadata": {},
     "output_type": "display_data"
    },
    {
     "data": {
      "application/vnd.microsoft.datawrangler.viewer.v0+json": {
       "columns": [
        {
         "name": "index",
         "rawType": "int64",
         "type": "integer"
        },
        {
         "name": "comision_id",
         "rawType": "int64",
         "type": "integer"
        },
        {
         "name": "nombre_comision",
         "rawType": "object",
         "type": "string"
        },
        {
         "name": "tipo",
         "rawType": "object",
         "type": "string"
        }
       ],
       "ref": "9808204f-76e8-48b9-90cb-52fe7a864b17",
       "rows": [
        [
         "0",
         "401",
         "Constitución, Legislación, Justicia y Reglamento",
         "Permanente"
        ],
        [
         "1",
         "402",
         "Obras Públicas, Transportes y Telecomunicaciones",
         "Permanente"
        ],
        [
         "2",
         "403",
         "Futuro, Ciencias, Tecnología, Conocimiento e Innovación",
         "Permanente"
        ],
        [
         "3",
         "404",
         "De Derechos Humanos y Pueblos Originarios",
         "Permanente"
        ],
        [
         "4",
         "405",
         "Medio Ambiente y Recursos Naturales",
         "Permanente"
        ]
       ],
       "shape": {
        "columns": 3,
        "rows": 5
       }
      },
      "text/html": [
       "<div>\n",
       "<style scoped>\n",
       "    .dataframe tbody tr th:only-of-type {\n",
       "        vertical-align: middle;\n",
       "    }\n",
       "\n",
       "    .dataframe tbody tr th {\n",
       "        vertical-align: top;\n",
       "    }\n",
       "\n",
       "    .dataframe thead th {\n",
       "        text-align: right;\n",
       "    }\n",
       "</style>\n",
       "<table border=\"1\" class=\"dataframe\">\n",
       "  <thead>\n",
       "    <tr style=\"text-align: right;\">\n",
       "      <th></th>\n",
       "      <th>comision_id</th>\n",
       "      <th>nombre_comision</th>\n",
       "      <th>tipo</th>\n",
       "    </tr>\n",
       "  </thead>\n",
       "  <tbody>\n",
       "    <tr>\n",
       "      <th>0</th>\n",
       "      <td>401</td>\n",
       "      <td>Constitución, Legislación, Justicia y Reglamento</td>\n",
       "      <td>Permanente</td>\n",
       "    </tr>\n",
       "    <tr>\n",
       "      <th>1</th>\n",
       "      <td>402</td>\n",
       "      <td>Obras Públicas, Transportes y Telecomunicaciones</td>\n",
       "      <td>Permanente</td>\n",
       "    </tr>\n",
       "    <tr>\n",
       "      <th>2</th>\n",
       "      <td>403</td>\n",
       "      <td>Futuro, Ciencias, Tecnología, Conocimiento e I...</td>\n",
       "      <td>Permanente</td>\n",
       "    </tr>\n",
       "    <tr>\n",
       "      <th>3</th>\n",
       "      <td>404</td>\n",
       "      <td>De Derechos Humanos y Pueblos Originarios</td>\n",
       "      <td>Permanente</td>\n",
       "    </tr>\n",
       "    <tr>\n",
       "      <th>4</th>\n",
       "      <td>405</td>\n",
       "      <td>Medio Ambiente y Recursos Naturales</td>\n",
       "      <td>Permanente</td>\n",
       "    </tr>\n",
       "  </tbody>\n",
       "</table>\n",
       "</div>"
      ],
      "text/plain": [
       "   comision_id                                    nombre_comision        tipo\n",
       "0          401   Constitución, Legislación, Justicia y Reglamento  Permanente\n",
       "1          402   Obras Públicas, Transportes y Telecomunicaciones  Permanente\n",
       "2          403  Futuro, Ciencias, Tecnología, Conocimiento e I...  Permanente\n",
       "3          404          De Derechos Humanos y Pueblos Originarios  Permanente\n",
       "4          405                Medio Ambiente y Recursos Naturales  Permanente"
      ]
     },
     "metadata": {},
     "output_type": "display_data"
    },
    {
     "name": "stdout",
     "output_type": "stream",
     "text": [
      "\n",
      "==================================================\n",
      "\n"
     ]
    },
    {
     "data": {
      "text/markdown": [
       "### Tabla: `dim_legislatura`"
      ],
      "text/plain": [
       "<IPython.core.display.Markdown object>"
      ]
     },
     "metadata": {},
     "output_type": "display_data"
    },
    {
     "data": {
      "application/vnd.microsoft.datawrangler.viewer.v0+json": {
       "columns": [
        {
         "name": "index",
         "rawType": "int64",
         "type": "integer"
        },
        {
         "name": "legislatura_id",
         "rawType": "int64",
         "type": "integer"
        },
        {
         "name": "numero",
         "rawType": "int64",
         "type": "integer"
        },
        {
         "name": "fecha_inicio",
         "rawType": "object",
         "type": "string"
        },
        {
         "name": "fecha_termino",
         "rawType": "object",
         "type": "string"
        },
        {
         "name": "tipo",
         "rawType": "object",
         "type": "string"
        }
       ],
       "ref": "6003fc7a-ea78-4c98-801a-24e8aab5080a",
       "rows": [
        [
         "0",
         "3",
         "319",
         "1990-03-11",
         "1990-05-20",
         "Extraordinaria"
        ],
        [
         "1",
         "4",
         "320",
         "1990-05-21",
         "1990-09-17",
         "Ordinaria"
        ],
        [
         "2",
         "5",
         "321",
         "1990-09-18",
         "1991-05-20",
         "Extraordinaria"
        ],
        [
         "3",
         "6",
         "322",
         "1991-05-21",
         "1991-09-17",
         "Ordinaria"
        ],
        [
         "4",
         "7",
         "323",
         "1991-09-18",
         "1992-05-20",
         "Extraordinaria"
        ]
       ],
       "shape": {
        "columns": 5,
        "rows": 5
       }
      },
      "text/html": [
       "<div>\n",
       "<style scoped>\n",
       "    .dataframe tbody tr th:only-of-type {\n",
       "        vertical-align: middle;\n",
       "    }\n",
       "\n",
       "    .dataframe tbody tr th {\n",
       "        vertical-align: top;\n",
       "    }\n",
       "\n",
       "    .dataframe thead th {\n",
       "        text-align: right;\n",
       "    }\n",
       "</style>\n",
       "<table border=\"1\" class=\"dataframe\">\n",
       "  <thead>\n",
       "    <tr style=\"text-align: right;\">\n",
       "      <th></th>\n",
       "      <th>legislatura_id</th>\n",
       "      <th>numero</th>\n",
       "      <th>fecha_inicio</th>\n",
       "      <th>fecha_termino</th>\n",
       "      <th>tipo</th>\n",
       "    </tr>\n",
       "  </thead>\n",
       "  <tbody>\n",
       "    <tr>\n",
       "      <th>0</th>\n",
       "      <td>3</td>\n",
       "      <td>319</td>\n",
       "      <td>1990-03-11</td>\n",
       "      <td>1990-05-20</td>\n",
       "      <td>Extraordinaria</td>\n",
       "    </tr>\n",
       "    <tr>\n",
       "      <th>1</th>\n",
       "      <td>4</td>\n",
       "      <td>320</td>\n",
       "      <td>1990-05-21</td>\n",
       "      <td>1990-09-17</td>\n",
       "      <td>Ordinaria</td>\n",
       "    </tr>\n",
       "    <tr>\n",
       "      <th>2</th>\n",
       "      <td>5</td>\n",
       "      <td>321</td>\n",
       "      <td>1990-09-18</td>\n",
       "      <td>1991-05-20</td>\n",
       "      <td>Extraordinaria</td>\n",
       "    </tr>\n",
       "    <tr>\n",
       "      <th>3</th>\n",
       "      <td>6</td>\n",
       "      <td>322</td>\n",
       "      <td>1991-05-21</td>\n",
       "      <td>1991-09-17</td>\n",
       "      <td>Ordinaria</td>\n",
       "    </tr>\n",
       "    <tr>\n",
       "      <th>4</th>\n",
       "      <td>7</td>\n",
       "      <td>323</td>\n",
       "      <td>1991-09-18</td>\n",
       "      <td>1992-05-20</td>\n",
       "      <td>Extraordinaria</td>\n",
       "    </tr>\n",
       "  </tbody>\n",
       "</table>\n",
       "</div>"
      ],
      "text/plain": [
       "   legislatura_id  numero fecha_inicio fecha_termino            tipo\n",
       "0               3     319   1990-03-11    1990-05-20  Extraordinaria\n",
       "1               4     320   1990-05-21    1990-09-17       Ordinaria\n",
       "2               5     321   1990-09-18    1991-05-20  Extraordinaria\n",
       "3               6     322   1991-05-21    1991-09-17       Ordinaria\n",
       "4               7     323   1991-09-18    1992-05-20  Extraordinaria"
      ]
     },
     "metadata": {},
     "output_type": "display_data"
    },
    {
     "name": "stdout",
     "output_type": "stream",
     "text": [
      "\n",
      "==================================================\n",
      "\n"
     ]
    },
    {
     "data": {
      "text/markdown": [
       "### Tabla: `dim_materias`"
      ],
      "text/plain": [
       "<IPython.core.display.Markdown object>"
      ]
     },
     "metadata": {},
     "output_type": "display_data"
    },
    {
     "data": {
      "application/vnd.microsoft.datawrangler.viewer.v0+json": {
       "columns": [
        {
         "name": "index",
         "rawType": "int64",
         "type": "integer"
        },
        {
         "name": "materia_id",
         "rawType": "int64",
         "type": "integer"
        },
        {
         "name": "nombre",
         "rawType": "object",
         "type": "string"
        }
       ],
       "ref": "363f9183-0ba7-490a-be72-b474d368603e",
       "rows": [
        [
         "0",
         "881",
         "ABANDONO DEL HOGAR"
        ],
        [
         "1",
         "882",
         "ABOGADOS"
        ],
        [
         "2",
         "883",
         "ABORTO TERAPEUTICO"
        ],
        [
         "3",
         "884",
         "ABUSOS DE PUBLICIDAD"
        ],
        [
         "4",
         "885",
         "ACADEMIA JUDICIAL"
        ]
       ],
       "shape": {
        "columns": 2,
        "rows": 5
       }
      },
      "text/html": [
       "<div>\n",
       "<style scoped>\n",
       "    .dataframe tbody tr th:only-of-type {\n",
       "        vertical-align: middle;\n",
       "    }\n",
       "\n",
       "    .dataframe tbody tr th {\n",
       "        vertical-align: top;\n",
       "    }\n",
       "\n",
       "    .dataframe thead th {\n",
       "        text-align: right;\n",
       "    }\n",
       "</style>\n",
       "<table border=\"1\" class=\"dataframe\">\n",
       "  <thead>\n",
       "    <tr style=\"text-align: right;\">\n",
       "      <th></th>\n",
       "      <th>materia_id</th>\n",
       "      <th>nombre</th>\n",
       "    </tr>\n",
       "  </thead>\n",
       "  <tbody>\n",
       "    <tr>\n",
       "      <th>0</th>\n",
       "      <td>881</td>\n",
       "      <td>ABANDONO DEL HOGAR</td>\n",
       "    </tr>\n",
       "    <tr>\n",
       "      <th>1</th>\n",
       "      <td>882</td>\n",
       "      <td>ABOGADOS</td>\n",
       "    </tr>\n",
       "    <tr>\n",
       "      <th>2</th>\n",
       "      <td>883</td>\n",
       "      <td>ABORTO TERAPEUTICO</td>\n",
       "    </tr>\n",
       "    <tr>\n",
       "      <th>3</th>\n",
       "      <td>884</td>\n",
       "      <td>ABUSOS DE PUBLICIDAD</td>\n",
       "    </tr>\n",
       "    <tr>\n",
       "      <th>4</th>\n",
       "      <td>885</td>\n",
       "      <td>ACADEMIA JUDICIAL</td>\n",
       "    </tr>\n",
       "  </tbody>\n",
       "</table>\n",
       "</div>"
      ],
      "text/plain": [
       "   materia_id                nombre\n",
       "0         881    ABANDONO DEL HOGAR\n",
       "1         882              ABOGADOS\n",
       "2         883    ABORTO TERAPEUTICO\n",
       "3         884  ABUSOS DE PUBLICIDAD\n",
       "4         885     ACADEMIA JUDICIAL"
      ]
     },
     "metadata": {},
     "output_type": "display_data"
    },
    {
     "name": "stdout",
     "output_type": "stream",
     "text": [
      "\n",
      "==================================================\n",
      "\n"
     ]
    },
    {
     "data": {
      "text/markdown": [
       "### Tabla: `dim_normas`"
      ],
      "text/plain": [
       "<IPython.core.display.Markdown object>"
      ]
     },
     "metadata": {},
     "output_type": "display_data"
    },
    {
     "data": {
      "application/vnd.microsoft.datawrangler.viewer.v0+json": {
       "columns": [
        {
         "name": "index",
         "rawType": "int64",
         "type": "integer"
        },
        {
         "name": "norma_id",
         "rawType": "int64",
         "type": "integer"
        },
        {
         "name": "bcn_norma_id",
         "rawType": "object",
         "type": "string"
        },
        {
         "name": "bcn_historia_id",
         "rawType": "object",
         "type": "unknown"
        },
        {
         "name": "numero_norma",
         "rawType": "object",
         "type": "string"
        },
        {
         "name": "tipo_norma",
         "rawType": "object",
         "type": "string"
        },
        {
         "name": "titulo_norma",
         "rawType": "object",
         "type": "string"
        },
        {
         "name": "fecha_publicacion",
         "rawType": "object",
         "type": "string"
        },
        {
         "name": "organismo_promulgador",
         "rawType": "object",
         "type": "unknown"
        },
        {
         "name": "url_ley_chile",
         "rawType": "object",
         "type": "string"
        }
       ],
       "ref": "2586242c-74e8-49bd-a484-9efee49dd2af",
       "rows": [
        [
         "0",
         "1",
         "235507",
         null,
         "20000",
         "Ley",
         "SUSTITUYE LA LEY Nº 19.366, QUE SANCIONA EL TRAFICO ILICITO DE ESTUPEFACIENTES Y SUSTANCIAS SICOTROPICAS",
         "2005-02-16",
         null,
         "http://www.leychile.cl/Navegar?idNorma=235507"
        ]
       ],
       "shape": {
        "columns": 9,
        "rows": 1
       }
      },
      "text/html": [
       "<div>\n",
       "<style scoped>\n",
       "    .dataframe tbody tr th:only-of-type {\n",
       "        vertical-align: middle;\n",
       "    }\n",
       "\n",
       "    .dataframe tbody tr th {\n",
       "        vertical-align: top;\n",
       "    }\n",
       "\n",
       "    .dataframe thead th {\n",
       "        text-align: right;\n",
       "    }\n",
       "</style>\n",
       "<table border=\"1\" class=\"dataframe\">\n",
       "  <thead>\n",
       "    <tr style=\"text-align: right;\">\n",
       "      <th></th>\n",
       "      <th>norma_id</th>\n",
       "      <th>bcn_norma_id</th>\n",
       "      <th>bcn_historia_id</th>\n",
       "      <th>numero_norma</th>\n",
       "      <th>tipo_norma</th>\n",
       "      <th>titulo_norma</th>\n",
       "      <th>fecha_publicacion</th>\n",
       "      <th>organismo_promulgador</th>\n",
       "      <th>url_ley_chile</th>\n",
       "    </tr>\n",
       "  </thead>\n",
       "  <tbody>\n",
       "    <tr>\n",
       "      <th>0</th>\n",
       "      <td>1</td>\n",
       "      <td>235507</td>\n",
       "      <td>None</td>\n",
       "      <td>20000</td>\n",
       "      <td>Ley</td>\n",
       "      <td>SUSTITUYE LA LEY Nº 19.366, QUE SANCIONA EL TR...</td>\n",
       "      <td>2005-02-16</td>\n",
       "      <td>None</td>\n",
       "      <td>http://www.leychile.cl/Navegar?idNorma=235507</td>\n",
       "    </tr>\n",
       "  </tbody>\n",
       "</table>\n",
       "</div>"
      ],
      "text/plain": [
       "   norma_id bcn_norma_id bcn_historia_id numero_norma tipo_norma  \\\n",
       "0         1       235507            None        20000        Ley   \n",
       "\n",
       "                                        titulo_norma fecha_publicacion  \\\n",
       "0  SUSTITUYE LA LEY Nº 19.366, QUE SANCIONA EL TR...        2005-02-16   \n",
       "\n",
       "  organismo_promulgador                                  url_ley_chile  \n",
       "0                  None  http://www.leychile.cl/Navegar?idNorma=235507  "
      ]
     },
     "metadata": {},
     "output_type": "display_data"
    },
    {
     "name": "stdout",
     "output_type": "stream",
     "text": [
      "\n",
      "==================================================\n",
      "\n"
     ]
    },
    {
     "data": {
      "text/markdown": [
       "### Tabla: `dim_ministerios`"
      ],
      "text/plain": [
       "<IPython.core.display.Markdown object>"
      ]
     },
     "metadata": {},
     "output_type": "display_data"
    },
    {
     "data": {
      "application/vnd.microsoft.datawrangler.viewer.v0+json": {
       "columns": [
        {
         "name": "index",
         "rawType": "int64",
         "type": "integer"
        },
        {
         "name": "ministerio_id",
         "rawType": "int64",
         "type": "integer"
        },
        {
         "name": "camara_ministerio_id",
         "rawType": "int64",
         "type": "integer"
        },
        {
         "name": "nombre_ministerio",
         "rawType": "object",
         "type": "string"
        }
       ],
       "ref": "2f9011fd-1376-4743-bb15-38338521a838",
       "rows": [
        [
         "0",
         "1",
         "164",
         "Ministerio del Medio Ambiente"
        ],
        [
         "1",
         "2",
         "68",
         "Consejo Nacional de la Cultura y las Artes"
        ],
        [
         "2",
         "3",
         "1",
         "Ministerio de Economía, Fomento y Turism"
        ],
        [
         "3",
         "4",
         "2",
         "Ministerio de Hacienda"
        ],
        [
         "4",
         "5",
         "3",
         "Ministerio de Educación"
        ]
       ],
       "shape": {
        "columns": 3,
        "rows": 5
       }
      },
      "text/html": [
       "<div>\n",
       "<style scoped>\n",
       "    .dataframe tbody tr th:only-of-type {\n",
       "        vertical-align: middle;\n",
       "    }\n",
       "\n",
       "    .dataframe tbody tr th {\n",
       "        vertical-align: top;\n",
       "    }\n",
       "\n",
       "    .dataframe thead th {\n",
       "        text-align: right;\n",
       "    }\n",
       "</style>\n",
       "<table border=\"1\" class=\"dataframe\">\n",
       "  <thead>\n",
       "    <tr style=\"text-align: right;\">\n",
       "      <th></th>\n",
       "      <th>ministerio_id</th>\n",
       "      <th>camara_ministerio_id</th>\n",
       "      <th>nombre_ministerio</th>\n",
       "    </tr>\n",
       "  </thead>\n",
       "  <tbody>\n",
       "    <tr>\n",
       "      <th>0</th>\n",
       "      <td>1</td>\n",
       "      <td>164</td>\n",
       "      <td>Ministerio del Medio Ambiente</td>\n",
       "    </tr>\n",
       "    <tr>\n",
       "      <th>1</th>\n",
       "      <td>2</td>\n",
       "      <td>68</td>\n",
       "      <td>Consejo Nacional de la Cultura y las Artes</td>\n",
       "    </tr>\n",
       "    <tr>\n",
       "      <th>2</th>\n",
       "      <td>3</td>\n",
       "      <td>1</td>\n",
       "      <td>Ministerio de Economía, Fomento y Turism</td>\n",
       "    </tr>\n",
       "    <tr>\n",
       "      <th>3</th>\n",
       "      <td>4</td>\n",
       "      <td>2</td>\n",
       "      <td>Ministerio de Hacienda</td>\n",
       "    </tr>\n",
       "    <tr>\n",
       "      <th>4</th>\n",
       "      <td>5</td>\n",
       "      <td>3</td>\n",
       "      <td>Ministerio de Educación</td>\n",
       "    </tr>\n",
       "  </tbody>\n",
       "</table>\n",
       "</div>"
      ],
      "text/plain": [
       "   ministerio_id  camara_ministerio_id  \\\n",
       "0              1                   164   \n",
       "1              2                    68   \n",
       "2              3                     1   \n",
       "3              4                     2   \n",
       "4              5                     3   \n",
       "\n",
       "                            nombre_ministerio  \n",
       "0               Ministerio del Medio Ambiente  \n",
       "1  Consejo Nacional de la Cultura y las Artes  \n",
       "2    Ministerio de Economía, Fomento y Turism  \n",
       "3                      Ministerio de Hacienda  \n",
       "4                     Ministerio de Educación  "
      ]
     },
     "metadata": {},
     "output_type": "display_data"
    },
    {
     "name": "stdout",
     "output_type": "stream",
     "text": [
      "\n",
      "==================================================\n",
      "\n"
     ]
    },
    {
     "data": {
      "text/markdown": [
       "### Tabla: `parlamentario_mandatos`"
      ],
      "text/plain": [
       "<IPython.core.display.Markdown object>"
      ]
     },
     "metadata": {},
     "output_type": "display_data"
    },
    {
     "data": {
      "application/vnd.microsoft.datawrangler.viewer.v0+json": {
       "columns": [
        {
         "name": "index",
         "rawType": "int64",
         "type": "integer"
        },
        {
         "name": "mandato_id",
         "rawType": "int64",
         "type": "integer"
        },
        {
         "name": "mp_uid",
         "rawType": "int64",
         "type": "integer"
        },
        {
         "name": "cargo",
         "rawType": "object",
         "type": "string"
        },
        {
         "name": "distrito",
         "rawType": "object",
         "type": "unknown"
        },
        {
         "name": "partido_id_mandato",
         "rawType": "object",
         "type": "unknown"
        },
        {
         "name": "fecha_inicio",
         "rawType": "object",
         "type": "string"
        },
        {
         "name": "fecha_fin",
         "rawType": "object",
         "type": "string"
        }
       ],
       "ref": "772d8de5-e550-473b-acc3-75c6b7817e8a",
       "rows": [
        [
         "0",
         "1",
         "1",
         "Diputado",
         null,
         null,
         "1990-03-11",
         "1994-03-10"
        ],
        [
         "1",
         "2",
         "1",
         "Diputado",
         null,
         null,
         "1994-03-11",
         "1998-03-10"
        ],
        [
         "2",
         "3",
         "1",
         "Senador",
         null,
         null,
         "1998-03-11",
         "2006-03-10"
        ],
        [
         "3",
         "4",
         "2",
         "Diputado",
         null,
         null,
         "1831-01-01",
         "1831-12-31"
        ],
        [
         "4",
         "5",
         "3",
         "Senador",
         null,
         null,
         "1973-01-01",
         "1981-12-31"
        ]
       ],
       "shape": {
        "columns": 7,
        "rows": 5
       }
      },
      "text/html": [
       "<div>\n",
       "<style scoped>\n",
       "    .dataframe tbody tr th:only-of-type {\n",
       "        vertical-align: middle;\n",
       "    }\n",
       "\n",
       "    .dataframe tbody tr th {\n",
       "        vertical-align: top;\n",
       "    }\n",
       "\n",
       "    .dataframe thead th {\n",
       "        text-align: right;\n",
       "    }\n",
       "</style>\n",
       "<table border=\"1\" class=\"dataframe\">\n",
       "  <thead>\n",
       "    <tr style=\"text-align: right;\">\n",
       "      <th></th>\n",
       "      <th>mandato_id</th>\n",
       "      <th>mp_uid</th>\n",
       "      <th>cargo</th>\n",
       "      <th>distrito</th>\n",
       "      <th>partido_id_mandato</th>\n",
       "      <th>fecha_inicio</th>\n",
       "      <th>fecha_fin</th>\n",
       "    </tr>\n",
       "  </thead>\n",
       "  <tbody>\n",
       "    <tr>\n",
       "      <th>0</th>\n",
       "      <td>1</td>\n",
       "      <td>1</td>\n",
       "      <td>Diputado</td>\n",
       "      <td>None</td>\n",
       "      <td>None</td>\n",
       "      <td>1990-03-11</td>\n",
       "      <td>1994-03-10</td>\n",
       "    </tr>\n",
       "    <tr>\n",
       "      <th>1</th>\n",
       "      <td>2</td>\n",
       "      <td>1</td>\n",
       "      <td>Diputado</td>\n",
       "      <td>None</td>\n",
       "      <td>None</td>\n",
       "      <td>1994-03-11</td>\n",
       "      <td>1998-03-10</td>\n",
       "    </tr>\n",
       "    <tr>\n",
       "      <th>2</th>\n",
       "      <td>3</td>\n",
       "      <td>1</td>\n",
       "      <td>Senador</td>\n",
       "      <td>None</td>\n",
       "      <td>None</td>\n",
       "      <td>1998-03-11</td>\n",
       "      <td>2006-03-10</td>\n",
       "    </tr>\n",
       "    <tr>\n",
       "      <th>3</th>\n",
       "      <td>4</td>\n",
       "      <td>2</td>\n",
       "      <td>Diputado</td>\n",
       "      <td>None</td>\n",
       "      <td>None</td>\n",
       "      <td>1831-01-01</td>\n",
       "      <td>1831-12-31</td>\n",
       "    </tr>\n",
       "    <tr>\n",
       "      <th>4</th>\n",
       "      <td>5</td>\n",
       "      <td>3</td>\n",
       "      <td>Senador</td>\n",
       "      <td>None</td>\n",
       "      <td>None</td>\n",
       "      <td>1973-01-01</td>\n",
       "      <td>1981-12-31</td>\n",
       "    </tr>\n",
       "  </tbody>\n",
       "</table>\n",
       "</div>"
      ],
      "text/plain": [
       "   mandato_id  mp_uid     cargo distrito partido_id_mandato fecha_inicio  \\\n",
       "0           1       1  Diputado     None               None   1990-03-11   \n",
       "1           2       1  Diputado     None               None   1994-03-11   \n",
       "2           3       1   Senador     None               None   1998-03-11   \n",
       "3           4       2  Diputado     None               None   1831-01-01   \n",
       "4           5       3   Senador     None               None   1973-01-01   \n",
       "\n",
       "    fecha_fin  \n",
       "0  1994-03-10  \n",
       "1  1998-03-10  \n",
       "2  2006-03-10  \n",
       "3  1831-12-31  \n",
       "4  1981-12-31  "
      ]
     },
     "metadata": {},
     "output_type": "display_data"
    },
    {
     "name": "stdout",
     "output_type": "stream",
     "text": [
      "\n",
      "==================================================\n",
      "\n"
     ]
    },
    {
     "data": {
      "text/markdown": [
       "### Tabla: `militancia_historial`"
      ],
      "text/plain": [
       "<IPython.core.display.Markdown object>"
      ]
     },
     "metadata": {},
     "output_type": "display_data"
    },
    {
     "data": {
      "application/vnd.microsoft.datawrangler.viewer.v0+json": {
       "columns": [
        {
         "name": "index",
         "rawType": "int64",
         "type": "integer"
        },
        {
         "name": "militancia_id",
         "rawType": "int64",
         "type": "integer"
        },
        {
         "name": "mp_uid",
         "rawType": "int64",
         "type": "integer"
        },
        {
         "name": "partido_id",
         "rawType": "int64",
         "type": "integer"
        },
        {
         "name": "fecha_inicio",
         "rawType": "object",
         "type": "string"
        },
        {
         "name": "fecha_fin",
         "rawType": "object",
         "type": "unknown"
        }
       ],
       "ref": "15791fec-d01d-449d-9ee3-f664c545b04d",
       "rows": [
        [
         "0",
         "1",
         "1",
         "1",
         "1990-03-11",
         null
        ],
        [
         "1",
         "2",
         "3",
         "2",
         "1957-05-21",
         "1961-05-20"
        ],
        [
         "2",
         "3",
         "3",
         "3",
         "1961-05-21",
         null
        ],
        [
         "3",
         "4",
         "3",
         "4",
         "1953-05-21",
         "1957-05-20"
        ],
        [
         "4",
         "5",
         "5",
         "5",
         "1888-06-01",
         null
        ]
       ],
       "shape": {
        "columns": 5,
        "rows": 5
       }
      },
      "text/html": [
       "<div>\n",
       "<style scoped>\n",
       "    .dataframe tbody tr th:only-of-type {\n",
       "        vertical-align: middle;\n",
       "    }\n",
       "\n",
       "    .dataframe tbody tr th {\n",
       "        vertical-align: top;\n",
       "    }\n",
       "\n",
       "    .dataframe thead th {\n",
       "        text-align: right;\n",
       "    }\n",
       "</style>\n",
       "<table border=\"1\" class=\"dataframe\">\n",
       "  <thead>\n",
       "    <tr style=\"text-align: right;\">\n",
       "      <th></th>\n",
       "      <th>militancia_id</th>\n",
       "      <th>mp_uid</th>\n",
       "      <th>partido_id</th>\n",
       "      <th>fecha_inicio</th>\n",
       "      <th>fecha_fin</th>\n",
       "    </tr>\n",
       "  </thead>\n",
       "  <tbody>\n",
       "    <tr>\n",
       "      <th>0</th>\n",
       "      <td>1</td>\n",
       "      <td>1</td>\n",
       "      <td>1</td>\n",
       "      <td>1990-03-11</td>\n",
       "      <td>None</td>\n",
       "    </tr>\n",
       "    <tr>\n",
       "      <th>1</th>\n",
       "      <td>2</td>\n",
       "      <td>3</td>\n",
       "      <td>2</td>\n",
       "      <td>1957-05-21</td>\n",
       "      <td>1961-05-20</td>\n",
       "    </tr>\n",
       "    <tr>\n",
       "      <th>2</th>\n",
       "      <td>3</td>\n",
       "      <td>3</td>\n",
       "      <td>3</td>\n",
       "      <td>1961-05-21</td>\n",
       "      <td>None</td>\n",
       "    </tr>\n",
       "    <tr>\n",
       "      <th>3</th>\n",
       "      <td>4</td>\n",
       "      <td>3</td>\n",
       "      <td>4</td>\n",
       "      <td>1953-05-21</td>\n",
       "      <td>1957-05-20</td>\n",
       "    </tr>\n",
       "    <tr>\n",
       "      <th>4</th>\n",
       "      <td>5</td>\n",
       "      <td>5</td>\n",
       "      <td>5</td>\n",
       "      <td>1888-06-01</td>\n",
       "      <td>None</td>\n",
       "    </tr>\n",
       "  </tbody>\n",
       "</table>\n",
       "</div>"
      ],
      "text/plain": [
       "   militancia_id  mp_uid  partido_id fecha_inicio   fecha_fin\n",
       "0              1       1           1   1990-03-11        None\n",
       "1              2       3           2   1957-05-21  1961-05-20\n",
       "2              3       3           3   1961-05-21        None\n",
       "3              4       3           4   1953-05-21  1957-05-20\n",
       "4              5       5           5   1888-06-01        None"
      ]
     },
     "metadata": {},
     "output_type": "display_data"
    },
    {
     "name": "stdout",
     "output_type": "stream",
     "text": [
      "\n",
      "==================================================\n",
      "\n"
     ]
    },
    {
     "data": {
      "text/markdown": [
       "### Tabla: `comision_membresias`"
      ],
      "text/plain": [
       "<IPython.core.display.Markdown object>"
      ]
     },
     "metadata": {},
     "output_type": "display_data"
    },
    {
     "data": {
      "application/vnd.microsoft.datawrangler.viewer.v0+json": {
       "columns": [
        {
         "name": "index",
         "rawType": "int64",
         "type": "integer"
        },
        {
         "name": "membresia_id",
         "rawType": "int64",
         "type": "integer"
        },
        {
         "name": "mp_uid",
         "rawType": "int64",
         "type": "integer"
        },
        {
         "name": "comision_id",
         "rawType": "int64",
         "type": "integer"
        },
        {
         "name": "rol",
         "rawType": "object",
         "type": "string"
        },
        {
         "name": "fecha_inicio",
         "rawType": "object",
         "type": "string"
        },
        {
         "name": "fecha_fin",
         "rawType": "object",
         "type": "unknown"
        }
       ],
       "ref": "5af8eee3-c214-4f60-aab9-3e7f1eaee5e5",
       "rows": [
        [
         "0",
         "1",
         "563",
         "3082",
         "Miembro",
         "2021-06-30",
         null
        ],
        [
         "1",
         "2",
         "858",
         "3082",
         "Miembro",
         "2021-07-21",
         null
        ],
        [
         "2",
         "3",
         "280",
         "3082",
         "Miembro",
         "2021-07-21",
         null
        ],
        [
         "3",
         "4",
         "410",
         "2401",
         "Miembro",
         "2019-09-26",
         null
        ],
        [
         "4",
         "5",
         "570",
         "2401",
         "Miembro",
         "2019-09-26",
         null
        ]
       ],
       "shape": {
        "columns": 6,
        "rows": 5
       }
      },
      "text/html": [
       "<div>\n",
       "<style scoped>\n",
       "    .dataframe tbody tr th:only-of-type {\n",
       "        vertical-align: middle;\n",
       "    }\n",
       "\n",
       "    .dataframe tbody tr th {\n",
       "        vertical-align: top;\n",
       "    }\n",
       "\n",
       "    .dataframe thead th {\n",
       "        text-align: right;\n",
       "    }\n",
       "</style>\n",
       "<table border=\"1\" class=\"dataframe\">\n",
       "  <thead>\n",
       "    <tr style=\"text-align: right;\">\n",
       "      <th></th>\n",
       "      <th>membresia_id</th>\n",
       "      <th>mp_uid</th>\n",
       "      <th>comision_id</th>\n",
       "      <th>rol</th>\n",
       "      <th>fecha_inicio</th>\n",
       "      <th>fecha_fin</th>\n",
       "    </tr>\n",
       "  </thead>\n",
       "  <tbody>\n",
       "    <tr>\n",
       "      <th>0</th>\n",
       "      <td>1</td>\n",
       "      <td>563</td>\n",
       "      <td>3082</td>\n",
       "      <td>Miembro</td>\n",
       "      <td>2021-06-30</td>\n",
       "      <td>None</td>\n",
       "    </tr>\n",
       "    <tr>\n",
       "      <th>1</th>\n",
       "      <td>2</td>\n",
       "      <td>858</td>\n",
       "      <td>3082</td>\n",
       "      <td>Miembro</td>\n",
       "      <td>2021-07-21</td>\n",
       "      <td>None</td>\n",
       "    </tr>\n",
       "    <tr>\n",
       "      <th>2</th>\n",
       "      <td>3</td>\n",
       "      <td>280</td>\n",
       "      <td>3082</td>\n",
       "      <td>Miembro</td>\n",
       "      <td>2021-07-21</td>\n",
       "      <td>None</td>\n",
       "    </tr>\n",
       "    <tr>\n",
       "      <th>3</th>\n",
       "      <td>4</td>\n",
       "      <td>410</td>\n",
       "      <td>2401</td>\n",
       "      <td>Miembro</td>\n",
       "      <td>2019-09-26</td>\n",
       "      <td>None</td>\n",
       "    </tr>\n",
       "    <tr>\n",
       "      <th>4</th>\n",
       "      <td>5</td>\n",
       "      <td>570</td>\n",
       "      <td>2401</td>\n",
       "      <td>Miembro</td>\n",
       "      <td>2019-09-26</td>\n",
       "      <td>None</td>\n",
       "    </tr>\n",
       "  </tbody>\n",
       "</table>\n",
       "</div>"
      ],
      "text/plain": [
       "   membresia_id  mp_uid  comision_id      rol fecha_inicio fecha_fin\n",
       "0             1     563         3082  Miembro   2021-06-30      None\n",
       "1             2     858         3082  Miembro   2021-07-21      None\n",
       "2             3     280         3082  Miembro   2021-07-21      None\n",
       "3             4     410         2401  Miembro   2019-09-26      None\n",
       "4             5     570         2401  Miembro   2019-09-26      None"
      ]
     },
     "metadata": {},
     "output_type": "display_data"
    },
    {
     "name": "stdout",
     "output_type": "stream",
     "text": [
      "\n",
      "==================================================\n",
      "\n"
     ]
    },
    {
     "data": {
      "text/markdown": [
       "### Tabla: `electoral_results`"
      ],
      "text/plain": [
       "<IPython.core.display.Markdown object>"
      ]
     },
     "metadata": {},
     "output_type": "display_data"
    },
    {
     "data": {
      "application/vnd.microsoft.datawrangler.viewer.v0+json": {
       "columns": [
        {
         "name": "index",
         "rawType": "int64",
         "type": "integer"
        },
        {
         "name": "result_id",
         "rawType": "object",
         "type": "string"
        },
        {
         "name": "mp_uid",
         "rawType": "object",
         "type": "string"
        },
        {
         "name": "fecha_eleccion",
         "rawType": "object",
         "type": "string"
        },
        {
         "name": "cargo",
         "rawType": "object",
         "type": "string"
        },
        {
         "name": "distrito",
         "rawType": "object",
         "type": "string"
        },
        {
         "name": "total_votos",
         "rawType": "object",
         "type": "string"
        }
       ],
       "ref": "a8a04b24-ab30-4a91-95c9-937721f50887",
       "rows": [],
       "shape": {
        "columns": 6,
        "rows": 0
       }
      },
      "text/html": [
       "<div>\n",
       "<style scoped>\n",
       "    .dataframe tbody tr th:only-of-type {\n",
       "        vertical-align: middle;\n",
       "    }\n",
       "\n",
       "    .dataframe tbody tr th {\n",
       "        vertical-align: top;\n",
       "    }\n",
       "\n",
       "    .dataframe thead th {\n",
       "        text-align: right;\n",
       "    }\n",
       "</style>\n",
       "<table border=\"1\" class=\"dataframe\">\n",
       "  <thead>\n",
       "    <tr style=\"text-align: right;\">\n",
       "      <th></th>\n",
       "      <th>result_id</th>\n",
       "      <th>mp_uid</th>\n",
       "      <th>fecha_eleccion</th>\n",
       "      <th>cargo</th>\n",
       "      <th>distrito</th>\n",
       "      <th>total_votos</th>\n",
       "    </tr>\n",
       "  </thead>\n",
       "  <tbody>\n",
       "  </tbody>\n",
       "</table>\n",
       "</div>"
      ],
      "text/plain": [
       "Empty DataFrame\n",
       "Columns: [result_id, mp_uid, fecha_eleccion, cargo, distrito, total_votos]\n",
       "Index: []"
      ]
     },
     "metadata": {},
     "output_type": "display_data"
    },
    {
     "name": "stdout",
     "output_type": "stream",
     "text": [
      "\n",
      "==================================================\n",
      "\n"
     ]
    },
    {
     "data": {
      "text/markdown": [
       "### Tabla: `educacion`"
      ],
      "text/plain": [
       "<IPython.core.display.Markdown object>"
      ]
     },
     "metadata": {},
     "output_type": "display_data"
    },
    {
     "data": {
      "application/vnd.microsoft.datawrangler.viewer.v0+json": {
       "columns": [
        {
         "name": "index",
         "rawType": "int64",
         "type": "integer"
        },
        {
         "name": "edu_id",
         "rawType": "object",
         "type": "string"
        },
        {
         "name": "mp_uid",
         "rawType": "object",
         "type": "string"
        },
        {
         "name": "titulo",
         "rawType": "object",
         "type": "string"
        },
        {
         "name": "institucion",
         "rawType": "object",
         "type": "string"
        },
        {
         "name": "ano_graduacion",
         "rawType": "object",
         "type": "string"
        }
       ],
       "ref": "5224f61a-37cb-45c6-a667-5d13ea4099dc",
       "rows": [],
       "shape": {
        "columns": 5,
        "rows": 0
       }
      },
      "text/html": [
       "<div>\n",
       "<style scoped>\n",
       "    .dataframe tbody tr th:only-of-type {\n",
       "        vertical-align: middle;\n",
       "    }\n",
       "\n",
       "    .dataframe tbody tr th {\n",
       "        vertical-align: top;\n",
       "    }\n",
       "\n",
       "    .dataframe thead th {\n",
       "        text-align: right;\n",
       "    }\n",
       "</style>\n",
       "<table border=\"1\" class=\"dataframe\">\n",
       "  <thead>\n",
       "    <tr style=\"text-align: right;\">\n",
       "      <th></th>\n",
       "      <th>edu_id</th>\n",
       "      <th>mp_uid</th>\n",
       "      <th>titulo</th>\n",
       "      <th>institucion</th>\n",
       "      <th>ano_graduacion</th>\n",
       "    </tr>\n",
       "  </thead>\n",
       "  <tbody>\n",
       "  </tbody>\n",
       "</table>\n",
       "</div>"
      ],
      "text/plain": [
       "Empty DataFrame\n",
       "Columns: [edu_id, mp_uid, titulo, institucion, ano_graduacion]\n",
       "Index: []"
      ]
     },
     "metadata": {},
     "output_type": "display_data"
    },
    {
     "name": "stdout",
     "output_type": "stream",
     "text": [
      "\n",
      "==================================================\n",
      "\n"
     ]
    },
    {
     "data": {
      "text/markdown": [
       "### Tabla: `bills`"
      ],
      "text/plain": [
       "<IPython.core.display.Markdown object>"
      ]
     },
     "metadata": {},
     "output_type": "display_data"
    },
    {
     "data": {
      "application/vnd.microsoft.datawrangler.viewer.v0+json": {
       "columns": [
        {
         "name": "index",
         "rawType": "int64",
         "type": "integer"
        },
        {
         "name": "bill_id",
         "rawType": "object",
         "type": "string"
        },
        {
         "name": "titulo",
         "rawType": "object",
         "type": "string"
        },
        {
         "name": "resumen",
         "rawType": "object",
         "type": "unknown"
        },
        {
         "name": "tipo_proyecto",
         "rawType": "object",
         "type": "unknown"
        },
        {
         "name": "fecha_ingreso",
         "rawType": "object",
         "type": "string"
        },
        {
         "name": "etapa",
         "rawType": "object",
         "type": "string"
        },
        {
         "name": "subetapa",
         "rawType": "object",
         "type": "string"
        },
        {
         "name": "iniciativa",
         "rawType": "object",
         "type": "string"
        },
        {
         "name": "origen",
         "rawType": "object",
         "type": "string"
        },
        {
         "name": "urgencia",
         "rawType": "object",
         "type": "string"
        },
        {
         "name": "resultado_final",
         "rawType": "object",
         "type": "string"
        },
        {
         "name": "estado",
         "rawType": "object",
         "type": "string"
        },
        {
         "name": "refundidos",
         "rawType": "object",
         "type": "string"
        },
        {
         "name": "numero_ley",
         "rawType": "object",
         "type": "unknown"
        },
        {
         "name": "norma_id",
         "rawType": "float64",
         "type": "float"
        },
        {
         "name": "fecha_actualizacion",
         "rawType": "object",
         "type": "string"
        }
       ],
       "ref": "47c17879-710e-4ccb-9b9e-fdae8a81a786",
       "rows": [
        [
         "0",
         "17450-11",
         "Modifica el DFL N° 1, de Salud, de 2005, para establecer la obligatoriedad, a profesionales y establecimientos de salud, de otorgar prestaciones en la modalidad de libre elección de Fonasa",
         null,
         null,
         "2024-12-16",
         "Primer trámite constitucional (C.Diputados)",
         "Primer informe de comisión de Salud",
         "Moción",
         "C.Diputados",
         "Sin urgencia",
         "En tramitación",
         "TRAMITACIÓN",
         "",
         null,
         null,
         "2025-09-07 21:01:13"
        ],
        [
         "1",
         "2439-20",
         "Sustituye ley N° 19.366, que sanciona el tráfico ilícito de estupefacientes y sustancias sicotrópicas.",
         null,
         null,
         "1999-12-14",
         "Tramitación terminada",
         "/",
         "Mensaje",
         "C.Diputados",
         "Sin urgencia",
         "Publicado",
         "PUBLICADO",
         "",
         "20000",
         "1.0",
         "2025-09-07 21:01:13"
        ]
       ],
       "shape": {
        "columns": 16,
        "rows": 2
       }
      },
      "text/html": [
       "<div>\n",
       "<style scoped>\n",
       "    .dataframe tbody tr th:only-of-type {\n",
       "        vertical-align: middle;\n",
       "    }\n",
       "\n",
       "    .dataframe tbody tr th {\n",
       "        vertical-align: top;\n",
       "    }\n",
       "\n",
       "    .dataframe thead th {\n",
       "        text-align: right;\n",
       "    }\n",
       "</style>\n",
       "<table border=\"1\" class=\"dataframe\">\n",
       "  <thead>\n",
       "    <tr style=\"text-align: right;\">\n",
       "      <th></th>\n",
       "      <th>bill_id</th>\n",
       "      <th>titulo</th>\n",
       "      <th>resumen</th>\n",
       "      <th>tipo_proyecto</th>\n",
       "      <th>fecha_ingreso</th>\n",
       "      <th>etapa</th>\n",
       "      <th>subetapa</th>\n",
       "      <th>iniciativa</th>\n",
       "      <th>origen</th>\n",
       "      <th>urgencia</th>\n",
       "      <th>resultado_final</th>\n",
       "      <th>estado</th>\n",
       "      <th>refundidos</th>\n",
       "      <th>numero_ley</th>\n",
       "      <th>norma_id</th>\n",
       "      <th>fecha_actualizacion</th>\n",
       "    </tr>\n",
       "  </thead>\n",
       "  <tbody>\n",
       "    <tr>\n",
       "      <th>0</th>\n",
       "      <td>17450-11</td>\n",
       "      <td>Modifica el DFL N° 1, de Salud, de 2005, para ...</td>\n",
       "      <td>None</td>\n",
       "      <td>None</td>\n",
       "      <td>2024-12-16</td>\n",
       "      <td>Primer trámite constitucional (C.Diputados)</td>\n",
       "      <td>Primer informe de comisión de Salud</td>\n",
       "      <td>Moción</td>\n",
       "      <td>C.Diputados</td>\n",
       "      <td>Sin urgencia</td>\n",
       "      <td>En tramitación</td>\n",
       "      <td>TRAMITACIÓN</td>\n",
       "      <td></td>\n",
       "      <td>None</td>\n",
       "      <td>NaN</td>\n",
       "      <td>2025-09-07 21:01:13</td>\n",
       "    </tr>\n",
       "    <tr>\n",
       "      <th>1</th>\n",
       "      <td>2439-20</td>\n",
       "      <td>Sustituye ley N° 19.366, que sanciona el tráfi...</td>\n",
       "      <td>None</td>\n",
       "      <td>None</td>\n",
       "      <td>1999-12-14</td>\n",
       "      <td>Tramitación terminada</td>\n",
       "      <td>/</td>\n",
       "      <td>Mensaje</td>\n",
       "      <td>C.Diputados</td>\n",
       "      <td>Sin urgencia</td>\n",
       "      <td>Publicado</td>\n",
       "      <td>PUBLICADO</td>\n",
       "      <td></td>\n",
       "      <td>20000</td>\n",
       "      <td>1.0</td>\n",
       "      <td>2025-09-07 21:01:13</td>\n",
       "    </tr>\n",
       "  </tbody>\n",
       "</table>\n",
       "</div>"
      ],
      "text/plain": [
       "    bill_id                                             titulo resumen  \\\n",
       "0  17450-11  Modifica el DFL N° 1, de Salud, de 2005, para ...    None   \n",
       "1   2439-20  Sustituye ley N° 19.366, que sanciona el tráfi...    None   \n",
       "\n",
       "  tipo_proyecto fecha_ingreso                                        etapa  \\\n",
       "0          None    2024-12-16  Primer trámite constitucional (C.Diputados)   \n",
       "1          None    1999-12-14                        Tramitación terminada   \n",
       "\n",
       "                              subetapa iniciativa       origen      urgencia  \\\n",
       "0  Primer informe de comisión de Salud     Moción  C.Diputados  Sin urgencia   \n",
       "1                                    /    Mensaje  C.Diputados  Sin urgencia   \n",
       "\n",
       "  resultado_final       estado refundidos numero_ley  norma_id  \\\n",
       "0  En tramitación  TRAMITACIÓN                  None       NaN   \n",
       "1       Publicado    PUBLICADO                 20000       1.0   \n",
       "\n",
       "   fecha_actualizacion  \n",
       "0  2025-09-07 21:01:13  \n",
       "1  2025-09-07 21:01:13  "
      ]
     },
     "metadata": {},
     "output_type": "display_data"
    },
    {
     "name": "stdout",
     "output_type": "stream",
     "text": [
      "\n",
      "==================================================\n",
      "\n"
     ]
    },
    {
     "data": {
      "text/markdown": [
       "### Tabla: `bill_authors`"
      ],
      "text/plain": [
       "<IPython.core.display.Markdown object>"
      ]
     },
     "metadata": {},
     "output_type": "display_data"
    },
    {
     "data": {
      "application/vnd.microsoft.datawrangler.viewer.v0+json": {
       "columns": [
        {
         "name": "index",
         "rawType": "int64",
         "type": "integer"
        },
        {
         "name": "bill_id",
         "rawType": "object",
         "type": "string"
        },
        {
         "name": "mp_uid",
         "rawType": "int64",
         "type": "integer"
        }
       ],
       "ref": "6d071b19-152f-4110-b69b-454958f6b311",
       "rows": [
        [
         "0",
         "17450-11",
         "3477"
        ],
        [
         "1",
         "17450-11",
         "1139"
        ]
       ],
       "shape": {
        "columns": 2,
        "rows": 2
       }
      },
      "text/html": [
       "<div>\n",
       "<style scoped>\n",
       "    .dataframe tbody tr th:only-of-type {\n",
       "        vertical-align: middle;\n",
       "    }\n",
       "\n",
       "    .dataframe tbody tr th {\n",
       "        vertical-align: top;\n",
       "    }\n",
       "\n",
       "    .dataframe thead th {\n",
       "        text-align: right;\n",
       "    }\n",
       "</style>\n",
       "<table border=\"1\" class=\"dataframe\">\n",
       "  <thead>\n",
       "    <tr style=\"text-align: right;\">\n",
       "      <th></th>\n",
       "      <th>bill_id</th>\n",
       "      <th>mp_uid</th>\n",
       "    </tr>\n",
       "  </thead>\n",
       "  <tbody>\n",
       "    <tr>\n",
       "      <th>0</th>\n",
       "      <td>17450-11</td>\n",
       "      <td>3477</td>\n",
       "    </tr>\n",
       "    <tr>\n",
       "      <th>1</th>\n",
       "      <td>17450-11</td>\n",
       "      <td>1139</td>\n",
       "    </tr>\n",
       "  </tbody>\n",
       "</table>\n",
       "</div>"
      ],
      "text/plain": [
       "    bill_id  mp_uid\n",
       "0  17450-11    3477\n",
       "1  17450-11    1139"
      ]
     },
     "metadata": {},
     "output_type": "display_data"
    },
    {
     "name": "stdout",
     "output_type": "stream",
     "text": [
      "\n",
      "==================================================\n",
      "\n"
     ]
    },
    {
     "data": {
      "text/markdown": [
       "### Tabla: `bill_ministerios_patrocinantes`"
      ],
      "text/plain": [
       "<IPython.core.display.Markdown object>"
      ]
     },
     "metadata": {},
     "output_type": "display_data"
    },
    {
     "data": {
      "application/vnd.microsoft.datawrangler.viewer.v0+json": {
       "columns": [
        {
         "name": "index",
         "rawType": "int64",
         "type": "integer"
        },
        {
         "name": "bill_id",
         "rawType": "object",
         "type": "string"
        },
        {
         "name": "ministerio_id",
         "rawType": "object",
         "type": "string"
        }
       ],
       "ref": "dab78f60-bef8-4d21-a0a7-2c8798ea6ea6",
       "rows": [],
       "shape": {
        "columns": 2,
        "rows": 0
       }
      },
      "text/html": [
       "<div>\n",
       "<style scoped>\n",
       "    .dataframe tbody tr th:only-of-type {\n",
       "        vertical-align: middle;\n",
       "    }\n",
       "\n",
       "    .dataframe tbody tr th {\n",
       "        vertical-align: top;\n",
       "    }\n",
       "\n",
       "    .dataframe thead th {\n",
       "        text-align: right;\n",
       "    }\n",
       "</style>\n",
       "<table border=\"1\" class=\"dataframe\">\n",
       "  <thead>\n",
       "    <tr style=\"text-align: right;\">\n",
       "      <th></th>\n",
       "      <th>bill_id</th>\n",
       "      <th>ministerio_id</th>\n",
       "    </tr>\n",
       "  </thead>\n",
       "  <tbody>\n",
       "  </tbody>\n",
       "</table>\n",
       "</div>"
      ],
      "text/plain": [
       "Empty DataFrame\n",
       "Columns: [bill_id, ministerio_id]\n",
       "Index: []"
      ]
     },
     "metadata": {},
     "output_type": "display_data"
    },
    {
     "name": "stdout",
     "output_type": "stream",
     "text": [
      "\n",
      "==================================================\n",
      "\n"
     ]
    },
    {
     "data": {
      "text/markdown": [
       "### Tabla: `bill_tramites`"
      ],
      "text/plain": [
       "<IPython.core.display.Markdown object>"
      ]
     },
     "metadata": {},
     "output_type": "display_data"
    },
    {
     "data": {
      "application/vnd.microsoft.datawrangler.viewer.v0+json": {
       "columns": [
        {
         "name": "index",
         "rawType": "int64",
         "type": "integer"
        },
        {
         "name": "tramite_id",
         "rawType": "int64",
         "type": "integer"
        },
        {
         "name": "bill_id",
         "rawType": "object",
         "type": "string"
        },
        {
         "name": "fecha_tramite",
         "rawType": "object",
         "type": "string"
        },
        {
         "name": "descripcion",
         "rawType": "object",
         "type": "string"
        },
        {
         "name": "etapa_general",
         "rawType": "object",
         "type": "unknown"
        },
        {
         "name": "etapa_especifica",
         "rawType": "object",
         "type": "string"
        },
        {
         "name": "camara",
         "rawType": "object",
         "type": "string"
        },
        {
         "name": "sesion",
         "rawType": "object",
         "type": "string"
        }
       ],
       "ref": "772986f4-5b37-432d-aa75-4a66efff86b8",
       "rows": [
        [
         "0",
         "155",
         "17450-11",
         "2024-12-16",
         "Ingreso de proyecto .",
         null,
         "Primer trámite constitucional",
         "C.Diputados",
         "/"
        ],
        [
         "1",
         "156",
         "17450-11",
         "2025-04-08",
         "Cuenta de proyecto . Pasa a Comisión de Salud",
         null,
         "Primer trámite constitucional",
         "C.Diputados",
         "10/373"
        ],
        [
         "2",
         "157",
         "2439-20",
         "1999-12-14",
         "Ingreso de proyecto .",
         null,
         "Primer trámite constitucional",
         "C.Diputados",
         "/"
        ],
        [
         "3",
         "158",
         "2439-20",
         "1999-12-14",
         "Cuenta de proyecto . Pasa a Comisión Especial sobre drogas",
         null,
         "Primer trámite constitucional",
         "C.Diputados",
         "19/341"
        ],
        [
         "4",
         "159",
         "2439-20",
         "1999-12-14",
         "Oficio Nº 2.662 a Corte Suprema. Remite proyecto para efectos de evacuar opinión solicitada",
         null,
         "Primer trámite constitucional",
         "C.Diputados",
         "/"
        ]
       ],
       "shape": {
        "columns": 8,
        "rows": 5
       }
      },
      "text/html": [
       "<div>\n",
       "<style scoped>\n",
       "    .dataframe tbody tr th:only-of-type {\n",
       "        vertical-align: middle;\n",
       "    }\n",
       "\n",
       "    .dataframe tbody tr th {\n",
       "        vertical-align: top;\n",
       "    }\n",
       "\n",
       "    .dataframe thead th {\n",
       "        text-align: right;\n",
       "    }\n",
       "</style>\n",
       "<table border=\"1\" class=\"dataframe\">\n",
       "  <thead>\n",
       "    <tr style=\"text-align: right;\">\n",
       "      <th></th>\n",
       "      <th>tramite_id</th>\n",
       "      <th>bill_id</th>\n",
       "      <th>fecha_tramite</th>\n",
       "      <th>descripcion</th>\n",
       "      <th>etapa_general</th>\n",
       "      <th>etapa_especifica</th>\n",
       "      <th>camara</th>\n",
       "      <th>sesion</th>\n",
       "    </tr>\n",
       "  </thead>\n",
       "  <tbody>\n",
       "    <tr>\n",
       "      <th>0</th>\n",
       "      <td>155</td>\n",
       "      <td>17450-11</td>\n",
       "      <td>2024-12-16</td>\n",
       "      <td>Ingreso de proyecto .</td>\n",
       "      <td>None</td>\n",
       "      <td>Primer trámite constitucional</td>\n",
       "      <td>C.Diputados</td>\n",
       "      <td>/</td>\n",
       "    </tr>\n",
       "    <tr>\n",
       "      <th>1</th>\n",
       "      <td>156</td>\n",
       "      <td>17450-11</td>\n",
       "      <td>2025-04-08</td>\n",
       "      <td>Cuenta de proyecto . Pasa a Comisión de Salud</td>\n",
       "      <td>None</td>\n",
       "      <td>Primer trámite constitucional</td>\n",
       "      <td>C.Diputados</td>\n",
       "      <td>10/373</td>\n",
       "    </tr>\n",
       "    <tr>\n",
       "      <th>2</th>\n",
       "      <td>157</td>\n",
       "      <td>2439-20</td>\n",
       "      <td>1999-12-14</td>\n",
       "      <td>Ingreso de proyecto .</td>\n",
       "      <td>None</td>\n",
       "      <td>Primer trámite constitucional</td>\n",
       "      <td>C.Diputados</td>\n",
       "      <td>/</td>\n",
       "    </tr>\n",
       "    <tr>\n",
       "      <th>3</th>\n",
       "      <td>158</td>\n",
       "      <td>2439-20</td>\n",
       "      <td>1999-12-14</td>\n",
       "      <td>Cuenta de proyecto . Pasa a Comisión Especial ...</td>\n",
       "      <td>None</td>\n",
       "      <td>Primer trámite constitucional</td>\n",
       "      <td>C.Diputados</td>\n",
       "      <td>19/341</td>\n",
       "    </tr>\n",
       "    <tr>\n",
       "      <th>4</th>\n",
       "      <td>159</td>\n",
       "      <td>2439-20</td>\n",
       "      <td>1999-12-14</td>\n",
       "      <td>Oficio Nº 2.662 a Corte Suprema. Remite proyec...</td>\n",
       "      <td>None</td>\n",
       "      <td>Primer trámite constitucional</td>\n",
       "      <td>C.Diputados</td>\n",
       "      <td>/</td>\n",
       "    </tr>\n",
       "  </tbody>\n",
       "</table>\n",
       "</div>"
      ],
      "text/plain": [
       "   tramite_id   bill_id fecha_tramite  \\\n",
       "0         155  17450-11    2024-12-16   \n",
       "1         156  17450-11    2025-04-08   \n",
       "2         157   2439-20    1999-12-14   \n",
       "3         158   2439-20    1999-12-14   \n",
       "4         159   2439-20    1999-12-14   \n",
       "\n",
       "                                         descripcion etapa_general  \\\n",
       "0                              Ingreso de proyecto .          None   \n",
       "1      Cuenta de proyecto . Pasa a Comisión de Salud          None   \n",
       "2                              Ingreso de proyecto .          None   \n",
       "3  Cuenta de proyecto . Pasa a Comisión Especial ...          None   \n",
       "4  Oficio Nº 2.662 a Corte Suprema. Remite proyec...          None   \n",
       "\n",
       "                etapa_especifica       camara  sesion  \n",
       "0  Primer trámite constitucional  C.Diputados       /  \n",
       "1  Primer trámite constitucional  C.Diputados  10/373  \n",
       "2  Primer trámite constitucional  C.Diputados       /  \n",
       "3  Primer trámite constitucional  C.Diputados  19/341  \n",
       "4  Primer trámite constitucional  C.Diputados       /  "
      ]
     },
     "metadata": {},
     "output_type": "display_data"
    },
    {
     "name": "stdout",
     "output_type": "stream",
     "text": [
      "\n",
      "==================================================\n",
      "\n"
     ]
    },
    {
     "data": {
      "text/markdown": [
       "### Tabla: `bill_documentos`"
      ],
      "text/plain": [
       "<IPython.core.display.Markdown object>"
      ]
     },
     "metadata": {},
     "output_type": "display_data"
    },
    {
     "data": {
      "application/vnd.microsoft.datawrangler.viewer.v0+json": {
       "columns": [
        {
         "name": "index",
         "rawType": "int64",
         "type": "integer"
        },
        {
         "name": "documento_id",
         "rawType": "int64",
         "type": "integer"
        },
        {
         "name": "bill_id",
         "rawType": "object",
         "type": "string"
        },
        {
         "name": "tramite_id",
         "rawType": "object",
         "type": "unknown"
        },
        {
         "name": "tipo_documento",
         "rawType": "object",
         "type": "string"
        },
        {
         "name": "url_documento",
         "rawType": "object",
         "type": "string"
        },
        {
         "name": "fecha_documento",
         "rawType": "object",
         "type": "string"
        },
        {
         "name": "descripcion",
         "rawType": "object",
         "type": "string"
        }
       ],
       "ref": "2ce39d6d-7969-4075-9de0-876ee0f4909f",
       "rows": [
        [
         "0",
         "1",
         "2439-20",
         null,
         "Oficio",
         "http://datos.bcn.cl/recurso/cl/documento/661353.txt",
         "2005-01-04",
         "Texto del documento: Oficio para el boletín 2439-20"
        ],
        [
         "1",
         "2",
         "2439-20",
         null,
         "http://datos.bcn.cl/recurso/nulo",
         "http://datos.bcn.cl/recurso/cl/documento/655207.txt",
         "2001-10-09",
         "Texto del documento: http://datos.bcn.cl/recurso/nulo para el boletín 2439-20"
        ],
        [
         "2",
         "3",
         "2439-20",
         null,
         "Oficio",
         "http://datos.bcn.cl/recurso/cl/documento/661348.txt",
         "2004-10-05",
         "Texto del documento: Oficio para el boletín 2439-20"
        ],
        [
         "3",
         "4",
         "2439-20",
         null,
         "http://datos.bcn.cl/recurso/nulo",
         "http://datos.bcn.cl/recurso/cl/documento/653467.txt",
         "2003-12-03",
         "Texto del documento: http://datos.bcn.cl/recurso/nulo para el boletín 2439-20"
        ],
        [
         "4",
         "5",
         "2439-20",
         null,
         "InformeComisionLegislativa",
         "http://datos.bcn.cl/recurso/cl/documento/661323.txt",
         "2001-03-22",
         "Texto del documento: InformeComisionLegislativa para el boletín 2439-20"
        ]
       ],
       "shape": {
        "columns": 7,
        "rows": 5
       }
      },
      "text/html": [
       "<div>\n",
       "<style scoped>\n",
       "    .dataframe tbody tr th:only-of-type {\n",
       "        vertical-align: middle;\n",
       "    }\n",
       "\n",
       "    .dataframe tbody tr th {\n",
       "        vertical-align: top;\n",
       "    }\n",
       "\n",
       "    .dataframe thead th {\n",
       "        text-align: right;\n",
       "    }\n",
       "</style>\n",
       "<table border=\"1\" class=\"dataframe\">\n",
       "  <thead>\n",
       "    <tr style=\"text-align: right;\">\n",
       "      <th></th>\n",
       "      <th>documento_id</th>\n",
       "      <th>bill_id</th>\n",
       "      <th>tramite_id</th>\n",
       "      <th>tipo_documento</th>\n",
       "      <th>url_documento</th>\n",
       "      <th>fecha_documento</th>\n",
       "      <th>descripcion</th>\n",
       "    </tr>\n",
       "  </thead>\n",
       "  <tbody>\n",
       "    <tr>\n",
       "      <th>0</th>\n",
       "      <td>1</td>\n",
       "      <td>2439-20</td>\n",
       "      <td>None</td>\n",
       "      <td>Oficio</td>\n",
       "      <td>http://datos.bcn.cl/recurso/cl/documento/66135...</td>\n",
       "      <td>2005-01-04</td>\n",
       "      <td>Texto del documento: Oficio para el boletín 24...</td>\n",
       "    </tr>\n",
       "    <tr>\n",
       "      <th>1</th>\n",
       "      <td>2</td>\n",
       "      <td>2439-20</td>\n",
       "      <td>None</td>\n",
       "      <td>http://datos.bcn.cl/recurso/nulo</td>\n",
       "      <td>http://datos.bcn.cl/recurso/cl/documento/65520...</td>\n",
       "      <td>2001-10-09</td>\n",
       "      <td>Texto del documento: http://datos.bcn.cl/recur...</td>\n",
       "    </tr>\n",
       "    <tr>\n",
       "      <th>2</th>\n",
       "      <td>3</td>\n",
       "      <td>2439-20</td>\n",
       "      <td>None</td>\n",
       "      <td>Oficio</td>\n",
       "      <td>http://datos.bcn.cl/recurso/cl/documento/66134...</td>\n",
       "      <td>2004-10-05</td>\n",
       "      <td>Texto del documento: Oficio para el boletín 24...</td>\n",
       "    </tr>\n",
       "    <tr>\n",
       "      <th>3</th>\n",
       "      <td>4</td>\n",
       "      <td>2439-20</td>\n",
       "      <td>None</td>\n",
       "      <td>http://datos.bcn.cl/recurso/nulo</td>\n",
       "      <td>http://datos.bcn.cl/recurso/cl/documento/65346...</td>\n",
       "      <td>2003-12-03</td>\n",
       "      <td>Texto del documento: http://datos.bcn.cl/recur...</td>\n",
       "    </tr>\n",
       "    <tr>\n",
       "      <th>4</th>\n",
       "      <td>5</td>\n",
       "      <td>2439-20</td>\n",
       "      <td>None</td>\n",
       "      <td>InformeComisionLegislativa</td>\n",
       "      <td>http://datos.bcn.cl/recurso/cl/documento/66132...</td>\n",
       "      <td>2001-03-22</td>\n",
       "      <td>Texto del documento: InformeComisionLegislativ...</td>\n",
       "    </tr>\n",
       "  </tbody>\n",
       "</table>\n",
       "</div>"
      ],
      "text/plain": [
       "   documento_id  bill_id tramite_id                    tipo_documento  \\\n",
       "0             1  2439-20       None                            Oficio   \n",
       "1             2  2439-20       None  http://datos.bcn.cl/recurso/nulo   \n",
       "2             3  2439-20       None                            Oficio   \n",
       "3             4  2439-20       None  http://datos.bcn.cl/recurso/nulo   \n",
       "4             5  2439-20       None        InformeComisionLegislativa   \n",
       "\n",
       "                                       url_documento fecha_documento  \\\n",
       "0  http://datos.bcn.cl/recurso/cl/documento/66135...      2005-01-04   \n",
       "1  http://datos.bcn.cl/recurso/cl/documento/65520...      2001-10-09   \n",
       "2  http://datos.bcn.cl/recurso/cl/documento/66134...      2004-10-05   \n",
       "3  http://datos.bcn.cl/recurso/cl/documento/65346...      2003-12-03   \n",
       "4  http://datos.bcn.cl/recurso/cl/documento/66132...      2001-03-22   \n",
       "\n",
       "                                         descripcion  \n",
       "0  Texto del documento: Oficio para el boletín 24...  \n",
       "1  Texto del documento: http://datos.bcn.cl/recur...  \n",
       "2  Texto del documento: Oficio para el boletín 24...  \n",
       "3  Texto del documento: http://datos.bcn.cl/recur...  \n",
       "4  Texto del documento: InformeComisionLegislativ...  "
      ]
     },
     "metadata": {},
     "output_type": "display_data"
    },
    {
     "name": "stdout",
     "output_type": "stream",
     "text": [
      "\n",
      "==================================================\n",
      "\n"
     ]
    },
    {
     "data": {
      "text/markdown": [
       "### Tabla: `bill_materias`"
      ],
      "text/plain": [
       "<IPython.core.display.Markdown object>"
      ]
     },
     "metadata": {},
     "output_type": "display_data"
    },
    {
     "data": {
      "application/vnd.microsoft.datawrangler.viewer.v0+json": {
       "columns": [
        {
         "name": "index",
         "rawType": "int64",
         "type": "integer"
        },
        {
         "name": "bill_id",
         "rawType": "object",
         "type": "string"
        },
        {
         "name": "materia_id",
         "rawType": "int64",
         "type": "integer"
        }
       ],
       "ref": "c5b12187-5ec9-4ca2-89be-184c68279b37",
       "rows": [
        [
         "0",
         "2439-20",
         "25717"
        ]
       ],
       "shape": {
        "columns": 2,
        "rows": 1
       }
      },
      "text/html": [
       "<div>\n",
       "<style scoped>\n",
       "    .dataframe tbody tr th:only-of-type {\n",
       "        vertical-align: middle;\n",
       "    }\n",
       "\n",
       "    .dataframe tbody tr th {\n",
       "        vertical-align: top;\n",
       "    }\n",
       "\n",
       "    .dataframe thead th {\n",
       "        text-align: right;\n",
       "    }\n",
       "</style>\n",
       "<table border=\"1\" class=\"dataframe\">\n",
       "  <thead>\n",
       "    <tr style=\"text-align: right;\">\n",
       "      <th></th>\n",
       "      <th>bill_id</th>\n",
       "      <th>materia_id</th>\n",
       "    </tr>\n",
       "  </thead>\n",
       "  <tbody>\n",
       "    <tr>\n",
       "      <th>0</th>\n",
       "      <td>2439-20</td>\n",
       "      <td>25717</td>\n",
       "    </tr>\n",
       "  </tbody>\n",
       "</table>\n",
       "</div>"
      ],
      "text/plain": [
       "   bill_id  materia_id\n",
       "0  2439-20       25717"
      ]
     },
     "metadata": {},
     "output_type": "display_data"
    },
    {
     "name": "stdout",
     "output_type": "stream",
     "text": [
      "\n",
      "==================================================\n",
      "\n"
     ]
    },
    {
     "data": {
      "text/markdown": [
       "### Tabla: `sesiones_votacion`"
      ],
      "text/plain": [
       "<IPython.core.display.Markdown object>"
      ]
     },
     "metadata": {},
     "output_type": "display_data"
    },
    {
     "data": {
      "application/vnd.microsoft.datawrangler.viewer.v0+json": {
       "columns": [
        {
         "name": "index",
         "rawType": "int64",
         "type": "integer"
        },
        {
         "name": "sesion_votacion_id",
         "rawType": "object",
         "type": "string"
        },
        {
         "name": "bill_id",
         "rawType": "object",
         "type": "string"
        },
        {
         "name": "camara",
         "rawType": "object",
         "type": "string"
        },
        {
         "name": "fecha",
         "rawType": "object",
         "type": "string"
        },
        {
         "name": "tema",
         "rawType": "object",
         "type": "string"
        },
        {
         "name": "resultado_general",
         "rawType": "object",
         "type": "string"
        },
        {
         "name": "quorum_aplicado",
         "rawType": "object",
         "type": "string"
        },
        {
         "name": "a_favor_total",
         "rawType": "object",
         "type": "string"
        },
        {
         "name": "en_contra_total",
         "rawType": "object",
         "type": "string"
        },
        {
         "name": "abstencion_total",
         "rawType": "object",
         "type": "string"
        },
        {
         "name": "pareo_total",
         "rawType": "object",
         "type": "string"
        }
       ],
       "ref": "bf3846fa-521b-43dc-8aaa-3206804ce234",
       "rows": [],
       "shape": {
        "columns": 11,
        "rows": 0
       }
      },
      "text/html": [
       "<div>\n",
       "<style scoped>\n",
       "    .dataframe tbody tr th:only-of-type {\n",
       "        vertical-align: middle;\n",
       "    }\n",
       "\n",
       "    .dataframe tbody tr th {\n",
       "        vertical-align: top;\n",
       "    }\n",
       "\n",
       "    .dataframe thead th {\n",
       "        text-align: right;\n",
       "    }\n",
       "</style>\n",
       "<table border=\"1\" class=\"dataframe\">\n",
       "  <thead>\n",
       "    <tr style=\"text-align: right;\">\n",
       "      <th></th>\n",
       "      <th>sesion_votacion_id</th>\n",
       "      <th>bill_id</th>\n",
       "      <th>camara</th>\n",
       "      <th>fecha</th>\n",
       "      <th>tema</th>\n",
       "      <th>resultado_general</th>\n",
       "      <th>quorum_aplicado</th>\n",
       "      <th>a_favor_total</th>\n",
       "      <th>en_contra_total</th>\n",
       "      <th>abstencion_total</th>\n",
       "      <th>pareo_total</th>\n",
       "    </tr>\n",
       "  </thead>\n",
       "  <tbody>\n",
       "  </tbody>\n",
       "</table>\n",
       "</div>"
      ],
      "text/plain": [
       "Empty DataFrame\n",
       "Columns: [sesion_votacion_id, bill_id, camara, fecha, tema, resultado_general, quorum_aplicado, a_favor_total, en_contra_total, abstencion_total, pareo_total]\n",
       "Index: []"
      ]
     },
     "metadata": {},
     "output_type": "display_data"
    },
    {
     "name": "stdout",
     "output_type": "stream",
     "text": [
      "\n",
      "==================================================\n",
      "\n"
     ]
    },
    {
     "data": {
      "text/markdown": [
       "### Tabla: `votos_parlamentario`"
      ],
      "text/plain": [
       "<IPython.core.display.Markdown object>"
      ]
     },
     "metadata": {},
     "output_type": "display_data"
    },
    {
     "data": {
      "application/vnd.microsoft.datawrangler.viewer.v0+json": {
       "columns": [
        {
         "name": "index",
         "rawType": "int64",
         "type": "integer"
        },
        {
         "name": "voto_id",
         "rawType": "object",
         "type": "string"
        },
        {
         "name": "sesion_votacion_id",
         "rawType": "object",
         "type": "string"
        },
        {
         "name": "mp_uid",
         "rawType": "object",
         "type": "string"
        },
        {
         "name": "voto",
         "rawType": "object",
         "type": "string"
        }
       ],
       "ref": "aa42d46a-2645-45ae-aab1-2f9a91447ab7",
       "rows": [],
       "shape": {
        "columns": 4,
        "rows": 0
       }
      },
      "text/html": [
       "<div>\n",
       "<style scoped>\n",
       "    .dataframe tbody tr th:only-of-type {\n",
       "        vertical-align: middle;\n",
       "    }\n",
       "\n",
       "    .dataframe tbody tr th {\n",
       "        vertical-align: top;\n",
       "    }\n",
       "\n",
       "    .dataframe thead th {\n",
       "        text-align: right;\n",
       "    }\n",
       "</style>\n",
       "<table border=\"1\" class=\"dataframe\">\n",
       "  <thead>\n",
       "    <tr style=\"text-align: right;\">\n",
       "      <th></th>\n",
       "      <th>voto_id</th>\n",
       "      <th>sesion_votacion_id</th>\n",
       "      <th>mp_uid</th>\n",
       "      <th>voto</th>\n",
       "    </tr>\n",
       "  </thead>\n",
       "  <tbody>\n",
       "  </tbody>\n",
       "</table>\n",
       "</div>"
      ],
      "text/plain": [
       "Empty DataFrame\n",
       "Columns: [voto_id, sesion_votacion_id, mp_uid, voto]\n",
       "Index: []"
      ]
     },
     "metadata": {},
     "output_type": "display_data"
    },
    {
     "name": "stdout",
     "output_type": "stream",
     "text": [
      "\n",
      "==================================================\n",
      "\n"
     ]
    },
    {
     "data": {
      "text/markdown": [
       "### Tabla: `entity_sources`"
      ],
      "text/plain": [
       "<IPython.core.display.Markdown object>"
      ]
     },
     "metadata": {},
     "output_type": "display_data"
    },
    {
     "data": {
      "application/vnd.microsoft.datawrangler.viewer.v0+json": {
       "columns": [
        {
         "name": "index",
         "rawType": "int64",
         "type": "integer"
        },
        {
         "name": "source_id",
         "rawType": "int64",
         "type": "integer"
        },
        {
         "name": "entity_id",
         "rawType": "object",
         "type": "string"
        },
        {
         "name": "entity_type",
         "rawType": "object",
         "type": "string"
        },
        {
         "name": "source_name",
         "rawType": "object",
         "type": "string"
        },
        {
         "name": "url",
         "rawType": "object",
         "type": "string"
        },
        {
         "name": "last_checked_at",
         "rawType": "object",
         "type": "string"
        }
       ],
       "ref": "dc50470f-f7d2-45bd-9304-88c24c091177",
       "rows": [
        [
         "0",
         "10",
         "17450-11",
         "bill",
         "senado_boletin",
         "https://tramitacion.senado.cl/wspublico/tramitacion.php?boletin=17450",
         "2025-09-07 21:01:13"
        ],
        [
         "1",
         "11",
         "17450-11",
         "bill",
         "camara_boletin",
         "https://opendata.camara.cl/camaradiputados/WServices/WSLegislativo.asmx/retornarProyectoLey?prmNumeroBoletin=17450-11",
         "2025-09-07 21:01:13"
        ],
        [
         "2",
         "12",
         "17450-11",
         "bill",
         "bcn_proyecto",
         "https://datos.bcn.cl/recurso/cl/proyecto-de-ley/17450-11/datos.json",
         "2025-09-07 21:01:13"
        ],
        [
         "3",
         "13",
         "2439-20",
         "bill",
         "senado_boletin",
         "https://tramitacion.senado.cl/wspublico/tramitacion.php?boletin=2439",
         "2025-09-07 21:01:13"
        ],
        [
         "4",
         "14",
         "2439-20",
         "bill",
         "camara_boletin",
         "https://opendata.camara.cl/camaradiputados/WServices/WSLegislativo.asmx/retornarProyectoLey?prmNumeroBoletin=2439-20",
         "2025-09-07 21:01:13"
        ]
       ],
       "shape": {
        "columns": 6,
        "rows": 5
       }
      },
      "text/html": [
       "<div>\n",
       "<style scoped>\n",
       "    .dataframe tbody tr th:only-of-type {\n",
       "        vertical-align: middle;\n",
       "    }\n",
       "\n",
       "    .dataframe tbody tr th {\n",
       "        vertical-align: top;\n",
       "    }\n",
       "\n",
       "    .dataframe thead th {\n",
       "        text-align: right;\n",
       "    }\n",
       "</style>\n",
       "<table border=\"1\" class=\"dataframe\">\n",
       "  <thead>\n",
       "    <tr style=\"text-align: right;\">\n",
       "      <th></th>\n",
       "      <th>source_id</th>\n",
       "      <th>entity_id</th>\n",
       "      <th>entity_type</th>\n",
       "      <th>source_name</th>\n",
       "      <th>url</th>\n",
       "      <th>last_checked_at</th>\n",
       "    </tr>\n",
       "  </thead>\n",
       "  <tbody>\n",
       "    <tr>\n",
       "      <th>0</th>\n",
       "      <td>10</td>\n",
       "      <td>17450-11</td>\n",
       "      <td>bill</td>\n",
       "      <td>senado_boletin</td>\n",
       "      <td>https://tramitacion.senado.cl/wspublico/tramit...</td>\n",
       "      <td>2025-09-07 21:01:13</td>\n",
       "    </tr>\n",
       "    <tr>\n",
       "      <th>1</th>\n",
       "      <td>11</td>\n",
       "      <td>17450-11</td>\n",
       "      <td>bill</td>\n",
       "      <td>camara_boletin</td>\n",
       "      <td>https://opendata.camara.cl/camaradiputados/WSe...</td>\n",
       "      <td>2025-09-07 21:01:13</td>\n",
       "    </tr>\n",
       "    <tr>\n",
       "      <th>2</th>\n",
       "      <td>12</td>\n",
       "      <td>17450-11</td>\n",
       "      <td>bill</td>\n",
       "      <td>bcn_proyecto</td>\n",
       "      <td>https://datos.bcn.cl/recurso/cl/proyecto-de-le...</td>\n",
       "      <td>2025-09-07 21:01:13</td>\n",
       "    </tr>\n",
       "    <tr>\n",
       "      <th>3</th>\n",
       "      <td>13</td>\n",
       "      <td>2439-20</td>\n",
       "      <td>bill</td>\n",
       "      <td>senado_boletin</td>\n",
       "      <td>https://tramitacion.senado.cl/wspublico/tramit...</td>\n",
       "      <td>2025-09-07 21:01:13</td>\n",
       "    </tr>\n",
       "    <tr>\n",
       "      <th>4</th>\n",
       "      <td>14</td>\n",
       "      <td>2439-20</td>\n",
       "      <td>bill</td>\n",
       "      <td>camara_boletin</td>\n",
       "      <td>https://opendata.camara.cl/camaradiputados/WSe...</td>\n",
       "      <td>2025-09-07 21:01:13</td>\n",
       "    </tr>\n",
       "  </tbody>\n",
       "</table>\n",
       "</div>"
      ],
      "text/plain": [
       "   source_id entity_id entity_type     source_name  \\\n",
       "0         10  17450-11        bill  senado_boletin   \n",
       "1         11  17450-11        bill  camara_boletin   \n",
       "2         12  17450-11        bill    bcn_proyecto   \n",
       "3         13   2439-20        bill  senado_boletin   \n",
       "4         14   2439-20        bill  camara_boletin   \n",
       "\n",
       "                                                 url      last_checked_at  \n",
       "0  https://tramitacion.senado.cl/wspublico/tramit...  2025-09-07 21:01:13  \n",
       "1  https://opendata.camara.cl/camaradiputados/WSe...  2025-09-07 21:01:13  \n",
       "2  https://datos.bcn.cl/recurso/cl/proyecto-de-le...  2025-09-07 21:01:13  \n",
       "3  https://tramitacion.senado.cl/wspublico/tramit...  2025-09-07 21:01:13  \n",
       "4  https://opendata.camara.cl/camaradiputados/WSe...  2025-09-07 21:01:13  "
      ]
     },
     "metadata": {},
     "output_type": "display_data"
    },
    {
     "name": "stdout",
     "output_type": "stream",
     "text": [
      "\n",
      "==================================================\n",
      "\n"
     ]
    },
    {
     "data": {
      "text/markdown": [
       "### Tabla: `speech_turns`"
      ],
      "text/plain": [
       "<IPython.core.display.Markdown object>"
      ]
     },
     "metadata": {},
     "output_type": "display_data"
    },
    {
     "data": {
      "application/vnd.microsoft.datawrangler.viewer.v0+json": {
       "columns": [
        {
         "name": "index",
         "rawType": "int64",
         "type": "integer"
        },
        {
         "name": "speech_id",
         "rawType": "object",
         "type": "string"
        },
        {
         "name": "mp_uid",
         "rawType": "object",
         "type": "string"
        },
        {
         "name": "sesion_votacion_id",
         "rawType": "object",
         "type": "string"
        },
        {
         "name": "comision_id",
         "rawType": "object",
         "type": "string"
        },
        {
         "name": "texto",
         "rawType": "object",
         "type": "string"
        },
        {
         "name": "fecha",
         "rawType": "object",
         "type": "string"
        },
        {
         "name": "tema",
         "rawType": "object",
         "type": "string"
        },
        {
         "name": "url_video",
         "rawType": "object",
         "type": "string"
        },
        {
         "name": "inicio_seg",
         "rawType": "object",
         "type": "string"
        },
        {
         "name": "fin_seg",
         "rawType": "object",
         "type": "string"
        }
       ],
       "ref": "c5b8e172-b20e-4295-9711-e812bf177377",
       "rows": [],
       "shape": {
        "columns": 10,
        "rows": 0
       }
      },
      "text/html": [
       "<div>\n",
       "<style scoped>\n",
       "    .dataframe tbody tr th:only-of-type {\n",
       "        vertical-align: middle;\n",
       "    }\n",
       "\n",
       "    .dataframe tbody tr th {\n",
       "        vertical-align: top;\n",
       "    }\n",
       "\n",
       "    .dataframe thead th {\n",
       "        text-align: right;\n",
       "    }\n",
       "</style>\n",
       "<table border=\"1\" class=\"dataframe\">\n",
       "  <thead>\n",
       "    <tr style=\"text-align: right;\">\n",
       "      <th></th>\n",
       "      <th>speech_id</th>\n",
       "      <th>mp_uid</th>\n",
       "      <th>sesion_votacion_id</th>\n",
       "      <th>comision_id</th>\n",
       "      <th>texto</th>\n",
       "      <th>fecha</th>\n",
       "      <th>tema</th>\n",
       "      <th>url_video</th>\n",
       "      <th>inicio_seg</th>\n",
       "      <th>fin_seg</th>\n",
       "    </tr>\n",
       "  </thead>\n",
       "  <tbody>\n",
       "  </tbody>\n",
       "</table>\n",
       "</div>"
      ],
      "text/plain": [
       "Empty DataFrame\n",
       "Columns: [speech_id, mp_uid, sesion_votacion_id, comision_id, texto, fecha, tema, url_video, inicio_seg, fin_seg]\n",
       "Index: []"
      ]
     },
     "metadata": {},
     "output_type": "display_data"
    },
    {
     "name": "stdout",
     "output_type": "stream",
     "text": [
      "\n",
      "==================================================\n",
      "\n"
     ]
    },
    {
     "data": {
      "text/markdown": [
       "### Tabla: `interactions`"
      ],
      "text/plain": [
       "<IPython.core.display.Markdown object>"
      ]
     },
     "metadata": {},
     "output_type": "display_data"
    },
    {
     "data": {
      "application/vnd.microsoft.datawrangler.viewer.v0+json": {
       "columns": [
        {
         "name": "index",
         "rawType": "int64",
         "type": "integer"
        },
        {
         "name": "interaction_id",
         "rawType": "object",
         "type": "string"
        },
        {
         "name": "source_uid",
         "rawType": "object",
         "type": "string"
        },
        {
         "name": "target_uid",
         "rawType": "object",
         "type": "string"
        },
        {
         "name": "tipo",
         "rawType": "object",
         "type": "string"
        },
        {
         "name": "fecha",
         "rawType": "object",
         "type": "string"
        },
        {
         "name": "fuente",
         "rawType": "object",
         "type": "string"
        },
        {
         "name": "snippet",
         "rawType": "object",
         "type": "string"
        }
       ],
       "ref": "4f4e9dfc-8716-415f-9f5f-ba0a69a7c30f",
       "rows": [],
       "shape": {
        "columns": 7,
        "rows": 0
       }
      },
      "text/html": [
       "<div>\n",
       "<style scoped>\n",
       "    .dataframe tbody tr th:only-of-type {\n",
       "        vertical-align: middle;\n",
       "    }\n",
       "\n",
       "    .dataframe tbody tr th {\n",
       "        vertical-align: top;\n",
       "    }\n",
       "\n",
       "    .dataframe thead th {\n",
       "        text-align: right;\n",
       "    }\n",
       "</style>\n",
       "<table border=\"1\" class=\"dataframe\">\n",
       "  <thead>\n",
       "    <tr style=\"text-align: right;\">\n",
       "      <th></th>\n",
       "      <th>interaction_id</th>\n",
       "      <th>source_uid</th>\n",
       "      <th>target_uid</th>\n",
       "      <th>tipo</th>\n",
       "      <th>fecha</th>\n",
       "      <th>fuente</th>\n",
       "      <th>snippet</th>\n",
       "    </tr>\n",
       "  </thead>\n",
       "  <tbody>\n",
       "  </tbody>\n",
       "</table>\n",
       "</div>"
      ],
      "text/plain": [
       "Empty DataFrame\n",
       "Columns: [interaction_id, source_uid, target_uid, tipo, fecha, fuente, snippet]\n",
       "Index: []"
      ]
     },
     "metadata": {},
     "output_type": "display_data"
    },
    {
     "name": "stdout",
     "output_type": "stream",
     "text": [
      "\n",
      "==================================================\n",
      "\n",
      "✅ Conexión a la base de datos cerrada.\n"
     ]
    }
   ],
   "source": [
    "import sqlite3\n",
    "import pandas as pd\n",
    "from IPython.display import display, Markdown\n",
    "\n",
    "# --- CONFIGURACIÓN ---\n",
    "# Asegúrate de que esta ruta sea correcta para tu archivo de base de datos.\n",
    "DB_PATH = 'data/database/parlamento.db' \n",
    "pd.set_option('display.max_rows', 100)\n",
    "\n",
    "# --- 1. CONEXIÓN A LA BASE DE DATOS ---\n",
    "conn = None # Inicializamos la variable de conexión\n",
    "try:\n",
    "    # Se establece la conexión a la base de datos SQLite\n",
    "    conn = sqlite3.connect(DB_PATH)\n",
    "    print(f\"✅ Conexión a la base de datos '{DB_PATH}' exitosa.\")\n",
    "\n",
    "    # --- 2. OBTENER Y MOSTRAR LAS TABLAS ---\n",
    "    \n",
    "    # Creamos un cursor para ejecutar consultas SQL\n",
    "    cursor = conn.cursor()\n",
    "    \n",
    "    # Consultamos la tabla maestra para obtener los nombres de todas las tablas de usuario\n",
    "    cursor.execute(\"SELECT name FROM sqlite_master WHERE type='table';\")\n",
    "    tablas = cursor.fetchall() # Obtenemos todos los resultados\n",
    "\n",
    "    print(f\"\\nSe encontraron {len(tablas)} tablas. Mostrando las 5 primeras filas de cada una:\\n\")\n",
    "\n",
    "    # Iteramos sobre la lista de nombres de tablas encontradas\n",
    "    for tabla in tablas:\n",
    "        nombre_tabla = tabla[0] # El nombre de la tabla está en la primera posición de la tupla\n",
    "        \n",
    "        # Usamos display y Markdown para mostrar el nombre de la tabla como un título\n",
    "        display(Markdown(f'### Tabla: `{nombre_tabla}`'))\n",
    "        \n",
    "        # Creamos la consulta SQL para seleccionar las 5 primeras filas\n",
    "        query = f\"SELECT * FROM {nombre_tabla} LIMIT 5\"\n",
    "        \n",
    "        # Usamos pandas para ejecutar la consulta y leer el resultado en un DataFrame\n",
    "        df = pd.read_sql_query(query, conn)\n",
    "        \n",
    "        # Mostramos el DataFrame\n",
    "        display(df)\n",
    "        print(\"\\n\" + \"=\"*50 + \"\\n\") # Añadimos un separador para mayor claridad\n",
    "\n",
    "except sqlite3.Error as e:\n",
    "    # Si ocurre algún error durante la conexión o consulta, se imprime el error\n",
    "    print(f\"❌ Error de base de datos: {e}\")\n",
    "\n",
    "finally:\n",
    "    # --- 3. CERRAR LA CONEXIÓN ---\n",
    "    if conn:\n",
    "        conn.close()\n",
    "        print(\"✅ Conexión a la base de datos cerrada.\")"
   ]
  }
 ],
 "metadata": {
  "kernelspec": {
   "display_name": "Python 3",
   "language": "python",
   "name": "python3"
  },
  "language_info": {
   "codemirror_mode": {
    "name": "ipython",
    "version": 3
   },
   "file_extension": ".py",
   "mimetype": "text/x-python",
   "name": "python",
   "nbconvert_exporter": "python",
   "pygments_lexer": "ipython3",
   "version": "3.12.5"
  }
 },
 "nbformat": 4,
 "nbformat_minor": 5
}
