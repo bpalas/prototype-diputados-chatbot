{
 "cells": [
  {
   "cell_type": "markdown",
   "metadata": {},
   "source": [
    "# Experimento: Match bills y BCN\n",
    "\n",
    "Notebook minimal para probar si podemos vincular registros en la tabla `bills` con el historial de versiones publicado por BCN via SPARQL.\n"
   ]
  },
  {
   "cell_type": "code",
   "execution_count": 3,
   "id": "64061395",
   "metadata": {},
   "outputs": [
    {
     "name": "stdout",
     "output_type": "stream",
     "text": [
      "cwd = c:\\Users\\benja\\OneDrive\\Desktop\\GitHub 2025\\prototype-diputados-chatbot\\notebooks\n",
      "DB_PATH = C:\\Users\\benja\\OneDrive\\Desktop\\GitHub 2025\\prototype-diputados-chatbot\\data\\database\\parlamento.db | exists: True\n",
      "BCN SPARQL = https://datos.bcn.cl/sparql\n"
     ]
    }
   ],
   "source": [
    "# Imports y setup basico\n",
    "import os, re, sqlite3\n",
    "from pathlib import Path\n",
    "import pandas as pd\n",
    "from SPARQLWrapper import SPARQLWrapper, JSON\n",
    "from IPython.display import display\n",
    "\n",
    "def resolve_db_path():\n",
    "    env = os.getenv('PARLAMENTO_DB_PATH')\n",
    "    candidates = [\n",
    "        env if env else None,\n",
    "        'data/database/parlamento.db',\n",
    "        '../data/database/parlamento.db',\n",
    "        '../../data/database/parlamento.db',\n",
    "    ]\n",
    "    candidates = [c for c in candidates if c]\n",
    "    for c in candidates:\n",
    "        if os.path.exists(c):\n",
    "            return str(Path(c).resolve())\n",
    "    # Fallback: buscar en el arbol del repo\n",
    "    try:\n",
    "        for root, dirs, files in os.walk('.'):\n",
    "            if 'parlamento.db' in files:\n",
    "                return str(Path(root, 'parlamento.db').resolve())\n",
    "    except Exception:\n",
    "        pass\n",
    "    return str(Path('data/database/parlamento.db').resolve())\n",
    "\n",
    "DB_PATH = resolve_db_path()\n",
    "BCN_SPARQL_ENDPOINT = os.getenv('BCN_SPARQL_ENDPOINT', 'https://datos.bcn.cl/sparql')\n",
    "SAMPLE_SIZE = int(os.getenv('BCN_SAMPLE_SIZE', '5'))\n",
    "\n",
    "print('cwd =', os.getcwd())\n",
    "print('DB_PATH =', DB_PATH, '| exists:', os.path.exists(DB_PATH))\n",
    "print('BCN SPARQL =', BCN_SPARQL_ENDPOINT)\n"
   ]
  },
  {
   "cell_type": "code",
   "execution_count": 4,
   "id": "01943128",
   "metadata": {},
   "outputs": [
    {
     "name": "stdout",
     "output_type": "stream",
     "text": [
      "Conexion OK a C:\\Users\\benja\\OneDrive\\Desktop\\GitHub 2025\\prototype-diputados-chatbot\\data\\database\\parlamento.db\n",
      "Candidatos: 5\n"
     ]
    },
    {
     "data": {
      "application/vnd.microsoft.datawrangler.viewer.v0+json": {
       "columns": [
        {
         "name": "index",
         "rawType": "int64",
         "type": "integer"
        },
        {
         "name": "bill_id",
         "rawType": "object",
         "type": "string"
        },
        {
         "name": "titulo",
         "rawType": "object",
         "type": "string"
        },
        {
         "name": "ley_numero",
         "rawType": "object",
         "type": "unknown"
        }
       ],
       "ref": "cb6e43e0-030f-4873-b2c6-7f5161f32635",
       "rows": [
        [
         "0",
         "17450-11",
         "Modifica el DFL N° 1, de Salud, de 2005, para establecer la obligatoriedad, a profesionales y establecimientos de salud, de otorgar prestaciones en la modalidad de libre elección de Fonasa",
         null
        ],
        [
         "1",
         "17377-13",
         "Modifica el Código del Trabajo para permitir pactar un permiso laboral por fallecimiento de mascota o animal de compañía",
         null
        ],
        [
         "2",
         "17376-07",
         "Modifica la ley N° 20.084 para autorizar el traslado, desde los centros de privación de libertad para adolescentes, a secciones juveniles administradas por Gendarmería de Chile, en los casos que indica",
         null
        ],
        [
         "3",
         "17357-18",
         "Modifica la ley N° 14.908 para perfeccionar los procedimientos de cobro de deudas de pensiones de alimentos",
         null
        ],
        [
         "4",
         "17356-06",
         "Modifica la ley N° 19.175, sobre gobierno y administración regional, para establecer normas de transparencia y rendición de cuentas aplicables a los consejeros regionales",
         null
        ]
       ],
       "shape": {
        "columns": 3,
        "rows": 5
       }
      },
      "text/html": [
       "<div>\n",
       "<style scoped>\n",
       "    .dataframe tbody tr th:only-of-type {\n",
       "        vertical-align: middle;\n",
       "    }\n",
       "\n",
       "    .dataframe tbody tr th {\n",
       "        vertical-align: top;\n",
       "    }\n",
       "\n",
       "    .dataframe thead th {\n",
       "        text-align: right;\n",
       "    }\n",
       "</style>\n",
       "<table border=\"1\" class=\"dataframe\">\n",
       "  <thead>\n",
       "    <tr style=\"text-align: right;\">\n",
       "      <th></th>\n",
       "      <th>bill_id</th>\n",
       "      <th>titulo</th>\n",
       "      <th>ley_numero</th>\n",
       "    </tr>\n",
       "  </thead>\n",
       "  <tbody>\n",
       "    <tr>\n",
       "      <th>0</th>\n",
       "      <td>17450-11</td>\n",
       "      <td>Modifica el DFL N° 1, de Salud, de 2005, para ...</td>\n",
       "      <td>None</td>\n",
       "    </tr>\n",
       "    <tr>\n",
       "      <th>1</th>\n",
       "      <td>17377-13</td>\n",
       "      <td>Modifica el Código del Trabajo para permitir p...</td>\n",
       "      <td>None</td>\n",
       "    </tr>\n",
       "    <tr>\n",
       "      <th>2</th>\n",
       "      <td>17376-07</td>\n",
       "      <td>Modifica la ley N° 20.084 para autorizar el tr...</td>\n",
       "      <td>None</td>\n",
       "    </tr>\n",
       "    <tr>\n",
       "      <th>3</th>\n",
       "      <td>17357-18</td>\n",
       "      <td>Modifica la ley N° 14.908 para perfeccionar lo...</td>\n",
       "      <td>None</td>\n",
       "    </tr>\n",
       "    <tr>\n",
       "      <th>4</th>\n",
       "      <td>17356-06</td>\n",
       "      <td>Modifica la ley N° 19.175, sobre gobierno y ad...</td>\n",
       "      <td>None</td>\n",
       "    </tr>\n",
       "  </tbody>\n",
       "</table>\n",
       "</div>"
      ],
      "text/plain": [
       "    bill_id                                             titulo ley_numero\n",
       "0  17450-11  Modifica el DFL N° 1, de Salud, de 2005, para ...       None\n",
       "1  17377-13  Modifica el Código del Trabajo para permitir p...       None\n",
       "2  17376-07  Modifica la ley N° 20.084 para autorizar el tr...       None\n",
       "3  17357-18  Modifica la ley N° 14.908 para perfeccionar lo...       None\n",
       "4  17356-06  Modifica la ley N° 19.175, sobre gobierno y ad...       None"
      ]
     },
     "metadata": {},
     "output_type": "display_data"
    }
   ],
   "source": [
    "# Conectar a la base y seleccionar candidatos\n",
    "conn = None\n",
    "try:\n",
    "    db_dir = os.path.dirname(DB_PATH) or '.'\n",
    "    if not os.path.isdir(db_dir):\n",
    "        print('Directorio de DB no existe:', db_dir)\n",
    "    conn = sqlite3.connect(DB_PATH)\n",
    "    print('Conexion OK a', DB_PATH)\n",
    "except Exception as e:\n",
    "    print('Error conectando a DB:', e, '| DB_PATH =', DB_PATH)\n",
    "\n",
    "df_candidatos = pd.DataFrame()\n",
    "if conn is not None:\n",
    "    try:\n",
    "        q1 = (\n",
    "            'SELECT bill_id, titulo, ley_numero ' +\n",
    "            'FROM bills ' +\n",
    "            'WHERE ley_numero IS NOT NULL ' +\n",
    "            'ORDER BY ley_fecha_publicacion DESC ' +\n",
    "            'LIMIT ?;'\n",
    "        )\n",
    "        df_candidatos = pd.read_sql_query(q1, conn, params=(SAMPLE_SIZE,))\n",
    "        if df_candidatos.empty:\n",
    "            q2 = 'SELECT bill_id, titulo, ley_numero FROM bills LIMIT ?;'\n",
    "            df_candidatos = pd.read_sql_query(q2, conn, params=(SAMPLE_SIZE,))\n",
    "        print('Candidatos:', len(df_candidatos))\n",
    "        display(df_candidatos.head(10))\n",
    "    except Exception as e:\n",
    "        print('Error consultando bills:', e)\n"
   ]
  },
  {
   "cell_type": "code",
   "execution_count": 5,
   "metadata": {},
   "outputs": [],
   "source": [
    "# Funciones auxiliares\n",
    "def limpiar_ley_numero(x):\n",
    "    if not x: return None\n",
    "    s = str(x)\n",
    "    s = re.sub(r'(?i)\\bley\\b|\\bnº\\b|\\bn°\\b|\\bnumero\\b|\\bnúmero\\b|\\s', '', s)\n",
    "    s = s.replace('.', '').replace(',', '')\n",
    "    return s or None\n",
    "\n",
    "def armar_query(candidates):\n",
    "    # candidates: lista de strings\n",
    "    quoted = ' '.join([\"'{}'\".format(c) for c in candidates])\n",
    "    parts = [\n",
    "        'PREFIX bcnnorms: <http://datos.bcn.cl/ontologies/bcn-norms#>',\n",
    "        'PREFIX dc: <http://purl.org/dc/elements/1.1/>',\n",
    "        '',\n",
    "        'SELECT ?normaRaiz ?version ?tituloVersion ?fechaVersion ?esUltimaVersion ?documentoHtml',\n",
    "        'WHERE {',\n",
    "        '  VALUES ?ident { ' + quoted + ' }',\n",
    "        '  ?normaRaiz dc:identifier ?ident .',\n",
    "        '  ?version bcnnorms:versionOf ?normaRaiz .',\n",
    "        '  OPTIONAL { ?version dc:title ?tituloVersion . }',\n",
    "        '  OPTIONAL { ?version bcnnorms:versionDate ?fechaA . }',\n",
    "        '  OPTIONAL { ?version bcnnorms:validFrom ?fechaB . }',\n",
    "        '  BIND(COALESCE(?fechaA, ?fechaB) AS ?fechaVersion)',\n",
    "        '  OPTIONAL { ?version bcnnorms:isLatestVersion ?esA . }',\n",
    "        '  BIND(COALESCE(?esA) AS ?esUltimaVersion)',\n",
    "        '  OPTIONAL { ?version bcnnorms:hasHtmlDocument ?htmlA . }',\n",
    "        '  OPTIONAL { ?version bcnnorms:hasHTMLDocument ?htmlB . }',\n",
    "        '  OPTIONAL { ?version bcnnorms:htmlDocument ?htmlC . }',\n",
    "        '  BIND(COALESCE(?htmlA, ?htmlB, ?htmlC) AS ?documentoHtml)',\n",
    "        '}',\n",
    "        'ORDER BY DESC(?fechaVersion)',\n",
    "    ]\n",
    "    return ''.join(parts)\n",
    "\n",
    "def fetch_historial(bill_id=None, ley_numero=None):\n",
    "    cands = []\n",
    "    ln = limpiar_ley_numero(ley_numero)\n",
    "    if ln: cands.append(ln)\n",
    "    if bill_id:\n",
    "        cands.append(str(bill_id))\n",
    "        cands.append(re.sub(r'[^0-9A-Za-z]', '', str(bill_id)))\n",
    "    if not cands:\n",
    "        return pd.DataFrame()\n",
    "    q = armar_query(cands)\n",
    "    s = SPARQLWrapper(BCN_SPARQL_ENDPOINT)\n",
    "    s.setQuery(q)\n",
    "    s.setReturnFormat(JSON)\n",
    "    try:\n",
    "        s.setTimeout(60)\n",
    "    except Exception:\n",
    "        pass\n",
    "    try:\n",
    "        res = s.query().convert()\n",
    "        rows = []\n",
    "        for r in res.get('results', {}).get('bindings', []):\n",
    "            rows.append({\n",
    "                'norma_raiz_uri': r.get('normaRaiz', {}).get('value'),\n",
    "                'norma_instancia_uri': r.get('version', {}).get('value'),\n",
    "                'titulo_version': r.get('tituloVersion', {}).get('value'),\n",
    "                'fecha_version': r.get('fechaVersion', {}).get('value'),\n",
    "                'es_ultima_version': r.get('esUltimaVersion', {}).get('value'),\n",
    "                'url_texto_html': r.get('documentoHtml', {}).get('value'),\n",
    "            })\n",
    "        return pd.DataFrame(rows)\n",
    "    except Exception as e:\n",
    "        print('Error SPARQL:', e)\n",
    "        return pd.DataFrame()\n"
   ]
  },
  {
   "cell_type": "code",
   "execution_count": 11,
   "metadata": {},
   "outputs": [
    {
     "ename": "IndexError",
     "evalue": "single positional indexer is out-of-bounds",
     "output_type": "error",
     "traceback": [
      "\u001b[1;31m---------------------------------------------------------------------------\u001b[0m",
      "\u001b[1;31mIndexError\u001b[0m                                Traceback (most recent call last)",
      "Cell \u001b[1;32mIn[11], line 4\u001b[0m\n\u001b[0;32m      2\u001b[0m df_hist \u001b[38;5;241m=\u001b[39m pd\u001b[38;5;241m.\u001b[39mDataFrame()\n\u001b[0;32m      3\u001b[0m \u001b[38;5;28;01mif\u001b[39;00m \u001b[38;5;129;01mnot\u001b[39;00m df_candidatos\u001b[38;5;241m.\u001b[39mempty:\n\u001b[1;32m----> 4\u001b[0m     row \u001b[38;5;241m=\u001b[39m \u001b[43mdf_candidatos\u001b[49m\u001b[38;5;241;43m.\u001b[39;49m\u001b[43miloc\u001b[49m\u001b[43m[\u001b[49m\u001b[38;5;241;43m7\u001b[39;49m\u001b[43m]\u001b[49m\n\u001b[0;32m      5\u001b[0m     \u001b[38;5;28mprint\u001b[39m(\u001b[38;5;124m'\u001b[39m\u001b[38;5;124mEjemplo bill_id =\u001b[39m\u001b[38;5;124m'\u001b[39m, row[\u001b[38;5;124m'\u001b[39m\u001b[38;5;124mbill_id\u001b[39m\u001b[38;5;124m'\u001b[39m], \u001b[38;5;124m'\u001b[39m\u001b[38;5;124m| ley_numero =\u001b[39m\u001b[38;5;124m'\u001b[39m, row\u001b[38;5;241m.\u001b[39mget(\u001b[38;5;124m'\u001b[39m\u001b[38;5;124mley_numero\u001b[39m\u001b[38;5;124m'\u001b[39m))\n\u001b[0;32m      6\u001b[0m     df_hist \u001b[38;5;241m=\u001b[39m fetch_historial(row[\u001b[38;5;124m'\u001b[39m\u001b[38;5;124mbill_id\u001b[39m\u001b[38;5;124m'\u001b[39m], row\u001b[38;5;241m.\u001b[39mget(\u001b[38;5;124m'\u001b[39m\u001b[38;5;124mley_numero\u001b[39m\u001b[38;5;124m'\u001b[39m))\n",
      "File \u001b[1;32mc:\\Users\\benja\\AppData\\Local\\Programs\\Python\\Python312\\Lib\\site-packages\\pandas\\core\\indexing.py:1191\u001b[0m, in \u001b[0;36m_LocationIndexer.__getitem__\u001b[1;34m(self, key)\u001b[0m\n\u001b[0;32m   1189\u001b[0m maybe_callable \u001b[38;5;241m=\u001b[39m com\u001b[38;5;241m.\u001b[39mapply_if_callable(key, \u001b[38;5;28mself\u001b[39m\u001b[38;5;241m.\u001b[39mobj)\n\u001b[0;32m   1190\u001b[0m maybe_callable \u001b[38;5;241m=\u001b[39m \u001b[38;5;28mself\u001b[39m\u001b[38;5;241m.\u001b[39m_check_deprecated_callable_usage(key, maybe_callable)\n\u001b[1;32m-> 1191\u001b[0m \u001b[38;5;28;01mreturn\u001b[39;00m \u001b[38;5;28;43mself\u001b[39;49m\u001b[38;5;241;43m.\u001b[39;49m\u001b[43m_getitem_axis\u001b[49m\u001b[43m(\u001b[49m\u001b[43mmaybe_callable\u001b[49m\u001b[43m,\u001b[49m\u001b[43m \u001b[49m\u001b[43maxis\u001b[49m\u001b[38;5;241;43m=\u001b[39;49m\u001b[43maxis\u001b[49m\u001b[43m)\u001b[49m\n",
      "File \u001b[1;32mc:\\Users\\benja\\AppData\\Local\\Programs\\Python\\Python312\\Lib\\site-packages\\pandas\\core\\indexing.py:1752\u001b[0m, in \u001b[0;36m_iLocIndexer._getitem_axis\u001b[1;34m(self, key, axis)\u001b[0m\n\u001b[0;32m   1749\u001b[0m     \u001b[38;5;28;01mraise\u001b[39;00m \u001b[38;5;167;01mTypeError\u001b[39;00m(\u001b[38;5;124m\"\u001b[39m\u001b[38;5;124mCannot index by location index with a non-integer key\u001b[39m\u001b[38;5;124m\"\u001b[39m)\n\u001b[0;32m   1751\u001b[0m \u001b[38;5;66;03m# validate the location\u001b[39;00m\n\u001b[1;32m-> 1752\u001b[0m \u001b[38;5;28;43mself\u001b[39;49m\u001b[38;5;241;43m.\u001b[39;49m\u001b[43m_validate_integer\u001b[49m\u001b[43m(\u001b[49m\u001b[43mkey\u001b[49m\u001b[43m,\u001b[49m\u001b[43m \u001b[49m\u001b[43maxis\u001b[49m\u001b[43m)\u001b[49m\n\u001b[0;32m   1754\u001b[0m \u001b[38;5;28;01mreturn\u001b[39;00m \u001b[38;5;28mself\u001b[39m\u001b[38;5;241m.\u001b[39mobj\u001b[38;5;241m.\u001b[39m_ixs(key, axis\u001b[38;5;241m=\u001b[39maxis)\n",
      "File \u001b[1;32mc:\\Users\\benja\\AppData\\Local\\Programs\\Python\\Python312\\Lib\\site-packages\\pandas\\core\\indexing.py:1685\u001b[0m, in \u001b[0;36m_iLocIndexer._validate_integer\u001b[1;34m(self, key, axis)\u001b[0m\n\u001b[0;32m   1683\u001b[0m len_axis \u001b[38;5;241m=\u001b[39m \u001b[38;5;28mlen\u001b[39m(\u001b[38;5;28mself\u001b[39m\u001b[38;5;241m.\u001b[39mobj\u001b[38;5;241m.\u001b[39m_get_axis(axis))\n\u001b[0;32m   1684\u001b[0m \u001b[38;5;28;01mif\u001b[39;00m key \u001b[38;5;241m>\u001b[39m\u001b[38;5;241m=\u001b[39m len_axis \u001b[38;5;129;01mor\u001b[39;00m key \u001b[38;5;241m<\u001b[39m \u001b[38;5;241m-\u001b[39mlen_axis:\n\u001b[1;32m-> 1685\u001b[0m     \u001b[38;5;28;01mraise\u001b[39;00m \u001b[38;5;167;01mIndexError\u001b[39;00m(\u001b[38;5;124m\"\u001b[39m\u001b[38;5;124msingle positional indexer is out-of-bounds\u001b[39m\u001b[38;5;124m\"\u001b[39m)\n",
      "\u001b[1;31mIndexError\u001b[0m: single positional indexer is out-of-bounds"
     ]
    }
   ],
   "source": [
    "# Probar con un candidato\n",
    "df_hist = pd.DataFrame()\n",
    "if not df_candidatos.empty:\n",
    "    row = df_candidatos.iloc[7]\n",
    "    print('Ejemplo bill_id =', row['bill_id'], '| ley_numero =', row.get('ley_numero'))\n",
    "    df_hist = fetch_historial(row['bill_id'], row.get('ley_numero'))\n",
    "    display(df_hist.head(20))\n",
    "else:\n",
    "    print('Sin candidatos en DB para probar.')\n"
   ]
  },
  {
   "cell_type": "code",
   "execution_count": 12,
   "id": "a20f8f28",
   "metadata": {},
   "outputs": [
    {
     "data": {
      "application/vnd.microsoft.datawrangler.viewer.v0+json": {
       "columns": [
        {
         "name": "index",
         "rawType": "int64",
         "type": "integer"
        },
        {
         "name": "bill_id",
         "rawType": "object",
         "type": "string"
        },
        {
         "name": "titulo",
         "rawType": "object",
         "type": "string"
        },
        {
         "name": "ley_numero",
         "rawType": "object",
         "type": "unknown"
        }
       ],
       "ref": "9c668b26-3143-4e6a-97d5-e43184b90172",
       "rows": [
        [
         "0",
         "17450-11",
         "Modifica el DFL N° 1, de Salud, de 2005, para establecer la obligatoriedad, a profesionales y establecimientos de salud, de otorgar prestaciones en la modalidad de libre elección de Fonasa",
         null
        ],
        [
         "1",
         "17377-13",
         "Modifica el Código del Trabajo para permitir pactar un permiso laboral por fallecimiento de mascota o animal de compañía",
         null
        ],
        [
         "2",
         "17376-07",
         "Modifica la ley N° 20.084 para autorizar el traslado, desde los centros de privación de libertad para adolescentes, a secciones juveniles administradas por Gendarmería de Chile, en los casos que indica",
         null
        ],
        [
         "3",
         "17357-18",
         "Modifica la ley N° 14.908 para perfeccionar los procedimientos de cobro de deudas de pensiones de alimentos",
         null
        ],
        [
         "4",
         "17356-06",
         "Modifica la ley N° 19.175, sobre gobierno y administración regional, para establecer normas de transparencia y rendición de cuentas aplicables a los consejeros regionales",
         null
        ]
       ],
       "shape": {
        "columns": 3,
        "rows": 5
       }
      },
      "text/html": [
       "<div>\n",
       "<style scoped>\n",
       "    .dataframe tbody tr th:only-of-type {\n",
       "        vertical-align: middle;\n",
       "    }\n",
       "\n",
       "    .dataframe tbody tr th {\n",
       "        vertical-align: top;\n",
       "    }\n",
       "\n",
       "    .dataframe thead th {\n",
       "        text-align: right;\n",
       "    }\n",
       "</style>\n",
       "<table border=\"1\" class=\"dataframe\">\n",
       "  <thead>\n",
       "    <tr style=\"text-align: right;\">\n",
       "      <th></th>\n",
       "      <th>bill_id</th>\n",
       "      <th>titulo</th>\n",
       "      <th>ley_numero</th>\n",
       "    </tr>\n",
       "  </thead>\n",
       "  <tbody>\n",
       "    <tr>\n",
       "      <th>0</th>\n",
       "      <td>17450-11</td>\n",
       "      <td>Modifica el DFL N° 1, de Salud, de 2005, para ...</td>\n",
       "      <td>None</td>\n",
       "    </tr>\n",
       "    <tr>\n",
       "      <th>1</th>\n",
       "      <td>17377-13</td>\n",
       "      <td>Modifica el Código del Trabajo para permitir p...</td>\n",
       "      <td>None</td>\n",
       "    </tr>\n",
       "    <tr>\n",
       "      <th>2</th>\n",
       "      <td>17376-07</td>\n",
       "      <td>Modifica la ley N° 20.084 para autorizar el tr...</td>\n",
       "      <td>None</td>\n",
       "    </tr>\n",
       "    <tr>\n",
       "      <th>3</th>\n",
       "      <td>17357-18</td>\n",
       "      <td>Modifica la ley N° 14.908 para perfeccionar lo...</td>\n",
       "      <td>None</td>\n",
       "    </tr>\n",
       "    <tr>\n",
       "      <th>4</th>\n",
       "      <td>17356-06</td>\n",
       "      <td>Modifica la ley N° 19.175, sobre gobierno y ad...</td>\n",
       "      <td>None</td>\n",
       "    </tr>\n",
       "  </tbody>\n",
       "</table>\n",
       "</div>"
      ],
      "text/plain": [
       "    bill_id                                             titulo ley_numero\n",
       "0  17450-11  Modifica el DFL N° 1, de Salud, de 2005, para ...       None\n",
       "1  17377-13  Modifica el Código del Trabajo para permitir p...       None\n",
       "2  17376-07  Modifica la ley N° 20.084 para autorizar el tr...       None\n",
       "3  17357-18  Modifica la ley N° 14.908 para perfeccionar lo...       None\n",
       "4  17356-06  Modifica la ley N° 19.175, sobre gobierno y ad...       None"
      ]
     },
     "execution_count": 12,
     "metadata": {},
     "output_type": "execute_result"
    }
   ],
   "source": [
    "df_candidatos"
   ]
  }
 ],
 "metadata": {
  "kernelspec": {
   "display_name": "Python 3",
   "language": "python",
   "name": "python3"
  },
  "language_info": {
   "codemirror_mode": {
    "name": "ipython",
    "version": 3
   },
   "file_extension": ".py",
   "mimetype": "text/x-python",
   "name": "python",
   "nbconvert_exporter": "python",
   "pygments_lexer": "ipython3",
   "version": "3.12.5"
  }
 },
 "nbformat": 4,
 "nbformat_minor": 5
}
